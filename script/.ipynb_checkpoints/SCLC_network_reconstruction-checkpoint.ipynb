{
 "cells": [
  {
   "cell_type": "markdown",
   "id": "77b5d2f5",
   "metadata": {},
   "source": [
    "- 1000 cell: done\n",
    "- 2000 cell done\n",
    "- 4000 cell: inprogress"
   ]
  },
  {
   "cell_type": "code",
   "execution_count": 4,
   "id": "6a8cabb2",
   "metadata": {},
   "outputs": [
    {
     "name": "stderr",
     "output_type": "stream",
     "text": [
      "/home/linl5/miniconda3/envs/pyscenic/lib/python3.10/site-packages/loompy/bus_file.py:68: NumbaDeprecationWarning: The 'nopython' keyword argument was not supplied to the 'numba.jit' decorator. The implicit default value for this argument is currently False, but it will be changed to True in Numba 0.59.0. See https://numba.readthedocs.io/en/stable/reference/deprecation.html#deprecation-of-object-mode-fall-back-behaviour-when-using-jit for details.\n",
      "  def twobit_to_dna(twobit: int, size: int) -> str:\n",
      "/home/linl5/miniconda3/envs/pyscenic/lib/python3.10/site-packages/loompy/bus_file.py:85: NumbaDeprecationWarning: The 'nopython' keyword argument was not supplied to the 'numba.jit' decorator. The implicit default value for this argument is currently False, but it will be changed to True in Numba 0.59.0. See https://numba.readthedocs.io/en/stable/reference/deprecation.html#deprecation-of-object-mode-fall-back-behaviour-when-using-jit for details.\n",
      "  def dna_to_twobit(dna: str) -> int:\n",
      "/home/linl5/miniconda3/envs/pyscenic/lib/python3.10/site-packages/loompy/bus_file.py:102: NumbaDeprecationWarning: The 'nopython' keyword argument was not supplied to the 'numba.jit' decorator. The implicit default value for this argument is currently False, but it will be changed to True in Numba 0.59.0. See https://numba.readthedocs.io/en/stable/reference/deprecation.html#deprecation-of-object-mode-fall-back-behaviour-when-using-jit for details.\n",
      "  def twobit_1hamming(twobit: int, size: int) -> List[int]:\n"
     ]
    }
   ],
   "source": [
    "#STEP 1: importing all needed moduels\n",
    "\n",
    "import os, glob, re, pickle\n",
    "from functools import partial\n",
    "from collections import OrderedDict\n",
    "import operator as op\n",
    "from cytoolz import compose\n",
    "\n",
    "import pandas as pd\n",
    "import seaborn as sns\n",
    "import numpy as np\n",
    "import scanpy as sc\n",
    "import anndata as ad\n",
    "import matplotlib as mpl\n",
    "import matplotlib.pyplot as plt\n",
    "import skmisc\n",
    "\n",
    "from pyscenic.export import export2loom, add_scenic_metadata\n",
    "from pyscenic.utils import load_motifs\n",
    "from pyscenic.transform import df2regulons\n",
    "from pyscenic.aucell import aucell\n",
    "from pyscenic.binarization import binarize\n",
    "from pyscenic.rss import regulon_specificity_scores\n",
    "from pyscenic.plotting import plot_binarization, plot_rss\n",
    "\n",
    "from arboreto.utils import load_tf_names\n",
    "from arboreto.algo import grnboost2\n",
    "from pyscenic.utils import modules_from_adjacencies\n",
    "from pyscenic.prune import prune2df, df2regulons\n",
    "from pyscenic.aucell import aucell\n",
    "from dask.diagnostics import ProgressBar\n",
    "from ctxcore.rnkdb import FeatherRankingDatabase as RankingDatabase\n",
    "\n",
    "#STEP 1+: Set maximum number of jobs\n",
    "sc.settings.njobs = 32"
   ]
  },
  {
   "cell_type": "markdown",
   "id": "a785e75c",
   "metadata": {},
   "source": [
    "Divide each file into by states and then running each state for network reconstruction\n",
    "- A is patient pretreatment pdx\n",
    "- B is patient posttreatment pdx"
   ]
  },
  {
   "cell_type": "code",
   "execution_count": 5,
   "id": "d0b414fc",
   "metadata": {},
   "outputs": [],
   "source": [
    "#prepping\n",
    "DATASET_ID = 'lx108'\n",
    "GENE_NUM = 2000"
   ]
  },
  {
   "cell_type": "code",
   "execution_count": 6,
   "id": "987a4ebf",
   "metadata": {},
   "outputs": [],
   "source": [
    "#STEP 1++: preparing pathway constant variables for easy coding\n",
    "\n",
    "SOHRAB_RESOURCES_FOLDERNAME = \"/work/shah/users/salehis/projects/cdm/data/sclc/{}\".format(DATASET_ID)\n",
    "RESULTS_FOLDERNAME = \"/home/linl5/project/SCLC/results/{}\".format(DATASET_ID)\n",
    "FIGURES_FOLDERNAME = \"/home/linl5/project/SCLC/figures\"\n",
    "AUXILLIARIES_FOLDERNAME = \"/home/linl5/project/SCLC/auxilliaries\"\n",
    "RESOURCES_FOLDERNAME = \"/home/linl5/project/SCLC/resources\"\n",
    "DATA_FOLDERNAME = \"/home/linl5/project/SCLC/data/{}\".format(DATASET_ID)"
   ]
  },
  {
   "cell_type": "code",
   "execution_count": 7,
   "id": "73ae62c9",
   "metadata": {},
   "outputs": [],
   "source": [
    "#Downloaded fromm pySCENIC github repo: https://github.com/aertslab/pySCENIC/tree/master/resources Aug-1-2023\n",
    "#lambert2018.txt used in their cancer patient tutorial\n",
    "HUMAN_TFS_FNAME = os.path.join(RESOURCES_FOLDERNAME, 'allTFs_hg38.txt')"
   ]
  },
  {
   "cell_type": "code",
   "execution_count": 8,
   "id": "491cc977",
   "metadata": {},
   "outputs": [
    {
     "data": {
      "text/plain": [
       "'/work/shah/users/salehis/projects/cdm/data/sclc/lx108/rna.h5ad'"
      ]
     },
     "execution_count": 8,
     "metadata": {},
     "output_type": "execute_result"
    }
   ],
   "source": [
    "#STEP 2: Downloading metadata and expression matrix\n",
    "#input: expression matrix and metadata file\n",
    "\n",
    "#organized by cell ID and Gene matrix, values are counts of read in that cell\n",
    "COUNTS_MTX_FNAME = os.path.join(SOHRAB_RESOURCES_FOLDERNAME, 'rna.h5ad')\n",
    "COUNTS_MTX_FNAME"
   ]
  },
  {
   "cell_type": "code",
   "execution_count": 9,
   "id": "1d5bfefd",
   "metadata": {},
   "outputs": [
    {
     "data": {
      "text/plain": [
       "'/work/shah/users/salehis/projects/cdm/data/sclc/lx108/rna.h5ad'"
      ]
     },
     "execution_count": 9,
     "metadata": {},
     "output_type": "execute_result"
    }
   ],
   "source": [
    "#STEP 3: Importing and Analyzing the rna DATA\n",
    "\n",
    "# Read the H5AD file using anndata\n",
    "adata = ad.read(COUNTS_MTX_FNAME)\n",
    "COUNTS_MTX_FNAME"
   ]
  },
  {
   "cell_type": "code",
   "execution_count": 10,
   "id": "51c0b4d9",
   "metadata": {},
   "outputs": [
    {
     "name": "stdout",
     "output_type": "stream",
     "text": [
      "AnnData object with n_obs × n_vars = 18481 × 33538\n",
      "    obs: 'timepoint', 'datatag', 'batch', 'state'\n",
      "    var: 'gene_ids', 'feature_types'\n",
      "Shape of expression matrix:  (18481, 33538)\n",
      "Columns (variables):\n",
      "                    gene_ids    feature_types\n",
      "MIR1302-2HG  ENSG00000243485  Gene Expression\n",
      "FAM138A      ENSG00000237613  Gene Expression\n",
      "OR4F5        ENSG00000186092  Gene Expression\n",
      "AL627309.1   ENSG00000238009  Gene Expression\n",
      "AL627309.3   ENSG00000239945  Gene Expression\n",
      "...                      ...              ...\n",
      "AC233755.2   ENSG00000277856  Gene Expression\n",
      "AC233755.1   ENSG00000275063  Gene Expression\n",
      "AC240274.1   ENSG00000271254  Gene Expression\n",
      "AC213203.1   ENSG00000277475  Gene Expression\n",
      "FAM231C      ENSG00000268674  Gene Expression\n",
      "\n",
      "[33538 rows x 2 columns]\n",
      "\n",
      "Rows (observations):\n",
      "                              timepoint datatag batch state\n",
      "AAACCCAAGTCGCTAT-1_Lx108_UUUU      UUUU   Lx108     0  UUUU\n",
      "AAACCCAGTTGTGCCG-1_Lx108_UUUU      UUUU   Lx108     0  UUUU\n",
      "AAACCCATCTCGTGAA-1_Lx108_UUUU      UUUU   Lx108     0  UUUU\n",
      "AAACGAAAGGAGCTGT-1_Lx108_UUUU      UUUU   Lx108     0  UUUU\n",
      "AAACGAAAGTATAACG-1_Lx108_UUUU      UUUU   Lx108     0  UUUU\n",
      "...                                 ...     ...   ...   ...\n",
      "TTTGGTTTCGCCAGAC-1_Lx108_UTTU      UTTU   Lx108     3  UTTU\n",
      "TTTGTTGAGCATTGTC-1_Lx108_UTTU      UTTU   Lx108     3  UTTU\n",
      "TTTGTTGTCATGACAC-1_Lx108_UTTU      UTTU   Lx108     3  UTTU\n",
      "TTTGTTGTCCAGTGCG-1_Lx108_UTTU      UTTU   Lx108     3  UTTU\n",
      "TTTGTTGTCGCTACGG-1_Lx108_UTTU      UTTU   Lx108     3  UTTU\n",
      "\n",
      "[18481 rows x 4 columns]\n"
     ]
    }
   ],
   "source": [
    "#STEP4: Understanding Dataset\n",
    "\n",
    "#print out information about anndata\n",
    "print(adata)\n",
    "\n",
    "#print out shape\n",
    "print(\"Shape of expression matrix: \", adata.shape)\n",
    "\n",
    "# the columns (variables) of the expression matrix\n",
    "print(\"Columns (variables):\")\n",
    "print(adata.var)\n",
    "\n",
    "# the rows (observations) of the expression matrix\n",
    "print(\"\\nRows (observations):\")\n",
    "print(adata.obs)\n"
   ]
  },
  {
   "cell_type": "code",
   "execution_count": 11,
   "id": "06e7215e",
   "metadata": {},
   "outputs": [
    {
     "name": "stdout",
     "output_type": "stream",
     "text": [
      "Post Filter:  (18436, 22723)\n"
     ]
    }
   ],
   "source": [
    "#STEP 5: preprocessing and filtering\n",
    "\n",
    "#make gene name unique\n",
    "adata.var_names_make_unique()\n",
    "\n",
    "#processing out data-prefilter\n",
    "sc.pp.filter_cells(adata, min_genes=200)\n",
    "sc.pp.filter_genes(adata, min_cells=3)\n",
    "\n",
    "#saving a copy of the power filtered count into raw\n",
    "adata.raw = adata\n",
    "\n",
    "#post filer: previous was n_obs × n_vars = 33207 × 33538\n",
    "print(\"Post Filter: \", adata.shape)\n"
   ]
  },
  {
   "cell_type": "markdown",
   "id": "999e4f8f",
   "metadata": {},
   "source": [
    "LX599: \n",
    "- Pre-Filter: 33207 × 33538\n",
    "- Post Filter:  (33108, 28701)\n",
    "\n",
    "\n",
    "Lx108: \n",
    "- Pre-Filter: 18481 × 33538\n",
    "- Post Filter: (18436, 22723)\n",
    "\n",
    "Lx33:\n",
    "- pre filter: 23691 × 33538\n",
    "- Post Filter:  (23051, 22899)"
   ]
  },
  {
   "cell_type": "code",
   "execution_count": 12,
   "id": "63eb2e8e",
   "metadata": {},
   "outputs": [],
   "source": [
    "# STEP 6: Prepping for timepoint splitting\n",
    "adata.layers['counts'] = adata.X\n",
    "adata.raw = adata\n"
   ]
  },
  {
   "cell_type": "code",
   "execution_count": 13,
   "id": "44527117",
   "metadata": {},
   "outputs": [
    {
     "name": "stdout",
     "output_type": "stream",
     "text": [
      "['UUUU', 'UUUT', 'UU', 'UTTU']\n",
      "Categories (4, object): ['UTTU', 'UU', 'UUUT', 'UUUU']\n",
      "UUUU :  (4128, 2000)\n",
      "UUUT :  (4564, 2000)\n",
      "UU :  (5035, 2000)\n",
      "UTTU :  (4709, 2000)\n"
     ]
    }
   ],
   "source": [
    "#STEP 7: subsampling time point (IDEA-> in original sample filte by hvg, then split the following into states, then cluster and subsample from cluster)\n",
    "\n",
    "# set the n_top_genes as necessary\n",
    "sc.pp.highly_variable_genes(adata, n_top_genes=GENE_NUM, subset=True, flavor='seurat_v3')\n",
    "\n",
    "#Splitting the cells by states\n",
    "unique_state = adata.obs['state'].unique()\n",
    "print(unique_state)\n",
    "\n",
    "#storing\n",
    "adata_by_state = {}\n",
    "\n",
    "#selecting out by TP\n",
    "for state in unique_state:\n",
    "    adata_subset = adata[adata.obs['state'] == state].copy()\n",
    "    adata_by_state[state] = adata_subset\n",
    "    print(state, \": \", adata_by_state[state].shape)\n",
    "\n",
    "    "
   ]
  },
  {
   "cell_type": "markdown",
   "id": "ad742185",
   "metadata": {},
   "source": [
    "lx33 (post cluster):\n",
    "- UTTU :  (4021, 2000)\n",
    "- UU :  (6176, 2000)\n",
    "- UUUT :  (6619, 2000)\n",
    "- UUUU :  (6235, 2000)\n",
    "\n",
    "lx108\n",
    "- UUUU :  (4128, 2000)\n",
    "- UUUT :  (4564, 2000)\n",
    "- UU :  (5035, 2000)\n",
    "- UTTU :  (4709, 2000)"
   ]
  },
  {
   "cell_type": "markdown",
   "id": "4b49a412",
   "metadata": {},
   "source": [
    "The Leiden algorithm improves upon Louvain by using the \"agglomerative\" approach to optimize a different quality function known as the \"improved modularity.\" Improved modularity has a resolution parameter that allows Leiden to control the granularity of the clustering solution. It also uses a smart local move algorithm to avoid some of the resolution limit issues present in Louvain. Higher paramter means more identified communities. \n",
    "\n",
    "#The Leiden algorithm is a hierarchical clustering algorithm, that recursively merges communities into single nodes by greedily optimizing the modularity and the process repeats in the condensed graph.\n",
    "#The Leiden algorithm improves upon Louvain by using the \"agglomerative\" approach to optimize a different quality function known as the \"improved modularity.\" Improved modularity has a resolution parameter that allows Leiden to control the granularity of the clustering solution. It also uses a smart local move algorithm to avoid some of the resolution limit issues present in Louvain."
   ]
  },
  {
   "cell_type": "code",
   "execution_count": 14,
   "id": "342c740e",
   "metadata": {},
   "outputs": [],
   "source": [
    "#STEP 8: cluster definition\n",
    "\n",
    "def cluster_rna(bdata):\n",
    "    #I have already did filtering and HVG selection on main anndata, we want to keep same hvg across our states\n",
    "    sc.pp.normalize_total(bdata)    \n",
    "    sc.pp.log1p(bdata)\n",
    "    sc.pp.pca(bdata)\n",
    "    sc.pp.neighbors(bdata)\n",
    "    sc.tl.umap(bdata)\n",
    "    sc.tl.leiden(bdata, resolution=2)\n",
    "    return bdata"
   ]
  },
  {
   "cell_type": "code",
   "execution_count": 15,
   "id": "0cb0ba8d",
   "metadata": {},
   "outputs": [
    {
     "name": "stderr",
     "output_type": "stream",
     "text": [
      "/home/linl5/miniconda3/envs/pyscenic/lib/python3.10/site-packages/umap/distances.py:1063: NumbaDeprecationWarning: The 'nopython' keyword argument was not supplied to the 'numba.jit' decorator. The implicit default value for this argument is currently False, but it will be changed to True in Numba 0.59.0. See https://numba.readthedocs.io/en/stable/reference/deprecation.html#deprecation-of-object-mode-fall-back-behaviour-when-using-jit for details.\n",
      "  @numba.jit()\n",
      "/home/linl5/miniconda3/envs/pyscenic/lib/python3.10/site-packages/umap/distances.py:1071: NumbaDeprecationWarning: The 'nopython' keyword argument was not supplied to the 'numba.jit' decorator. The implicit default value for this argument is currently False, but it will be changed to True in Numba 0.59.0. See https://numba.readthedocs.io/en/stable/reference/deprecation.html#deprecation-of-object-mode-fall-back-behaviour-when-using-jit for details.\n",
      "  @numba.jit()\n",
      "/home/linl5/miniconda3/envs/pyscenic/lib/python3.10/site-packages/umap/distances.py:1086: NumbaDeprecationWarning: The 'nopython' keyword argument was not supplied to the 'numba.jit' decorator. The implicit default value for this argument is currently False, but it will be changed to True in Numba 0.59.0. See https://numba.readthedocs.io/en/stable/reference/deprecation.html#deprecation-of-object-mode-fall-back-behaviour-when-using-jit for details.\n",
      "  @numba.jit()\n",
      "/home/linl5/miniconda3/envs/pyscenic/lib/python3.10/site-packages/tqdm/auto.py:21: TqdmWarning: IProgress not found. Please update jupyter and ipywidgets. See https://ipywidgets.readthedocs.io/en/stable/user_install.html\n",
      "  from .autonotebook import tqdm as notebook_tqdm\n",
      "/home/linl5/miniconda3/envs/pyscenic/lib/python3.10/site-packages/umap/umap_.py:660: NumbaDeprecationWarning: The 'nopython' keyword argument was not supplied to the 'numba.jit' decorator. The implicit default value for this argument is currently False, but it will be changed to True in Numba 0.59.0. See https://numba.readthedocs.io/en/stable/reference/deprecation.html#deprecation-of-object-mode-fall-back-behaviour-when-using-jit for details.\n",
      "  @numba.jit()\n"
     ]
    }
   ],
   "source": [
    "#STEP 9: Clustering\n",
    "\n",
    "for state in unique_state:\n",
    "    adata_by_state[state] = cluster_rna(adata_by_state[state])"
   ]
  },
  {
   "cell_type": "code",
   "execution_count": 20,
   "id": "d795bb7b",
   "metadata": {},
   "outputs": [
    {
     "name": "stderr",
     "output_type": "stream",
     "text": [
      "100%|██████████| 21/21 [00:00<00:00, 1747.97it/s]\n",
      "100%|██████████| 19/19 [00:00<00:00, 3192.91it/s]\n",
      "100%|██████████| 22/22 [00:00<00:00, 2553.75it/s]\n",
      "100%|██████████| 19/19 [00:00<00:00, 3171.18it/s]\n"
     ]
    }
   ],
   "source": [
    "#STEP 10: Subsampling\n",
    "\n",
    "from tqdm import tqdm\n",
    "frac_cells = 1\n",
    "data_sub = {}\n",
    "\n",
    "#Consistent randomization\n",
    "np.random.seed(0)\n",
    "\n",
    "for state in unique_state:\n",
    "    sub_cells = []\n",
    "    for clust in tqdm(adata_by_state[state].obs['leiden'].unique()):\n",
    "        # sample 10% of cells from each cluster\n",
    "        cells_in_clust = adata_by_state[state].obs_names[adata_by_state[state].obs['leiden'] == clust].copy()\n",
    "        #dropping out clusters with less than 5 cells\n",
    "        if (len(cells_in_clust) > 5):\n",
    "            chosen_cells = np.random.choice(cells_in_clust, size=int(len(cells_in_clust)*frac_cells), replace=False)\n",
    "            sub_cells.extend(chosen_cells)\n",
    "    data_sub[state] = adata_by_state[state][sub_cells, :].copy()"
   ]
  },
  {
   "cell_type": "code",
   "execution_count": 21,
   "id": "d542411d",
   "metadata": {},
   "outputs": [
    {
     "name": "stdout",
     "output_type": "stream",
     "text": [
      "UUUU (4128, 2000)\n",
      "Same Gene set check:  UUUU UUUT 2000\n",
      "UUUT (4564, 2000)\n",
      "Same Gene set check:  UUUT UUUT 2000\n",
      "UU (5035, 2000)\n",
      "Same Gene set check:  UU UUUT 2000\n",
      "UTTU (4706, 2000)\n",
      "Same Gene set check:  UTTU UUUT 2000\n",
      "/work/shah/users/salehis/projects/cdm/data/sclc/lx108/rna.h5ad\n"
     ]
    }
   ],
   "source": [
    "#checking for subsampling population\n",
    "\n",
    "for state in unique_state:\n",
    "    print(state, data_sub[state].shape)\n",
    "    set1 = set(data_sub[state].var_names)\n",
    "    set2 = set(data_sub[unique_state[1]].var_names)\n",
    "    print(\"Same Gene set check: \", state, unique_state[1], len(set1.intersection(set2)))\n",
    "\n",
    "print(COUNTS_MTX_FNAME)"
   ]
  },
  {
   "cell_type": "markdown",
   "id": "fde6b277",
   "metadata": {},
   "source": [
    "LX599\n",
    "\n",
    "10%\n",
    "UUa (715, 2000)\n",
    "Same Gene set check:  UUa UUa  2000\n",
    "UTb (515, 2000)\n",
    "Same Gene set check:  UTb UUa  2000\n",
    "UUb (991, 2000)\n",
    "Same Gene set check:  UUb UUa  2000\n",
    "UTa (1042, 2000)\n",
    "Same Gene set check:  UTa UUa  2000\n",
    "\n",
    "25%\n",
    "UUa (1812, 2000)\n",
    "Same Gene set check:  UUa UUa  2000\n",
    "UTb (1307, 2000)\n",
    "Same Gene set check:  UTb UUa  2000\n",
    "UUb (2500, 2000)\n",
    "Same Gene set check:  UUb UUa  2000\n",
    "UTa (2618, 2000)\n",
    "Same Gene set check:  UTa UUa  2000\n",
    "\n",
    "50%\n",
    "UUa (3633, 2000)\n",
    "Same Gene set check:  UUa UUa  2000\n",
    "UTb (2633, 2000)\n",
    "Same Gene set check:  UTb UUa  2000\n",
    "UUb (5011, 2000)\n",
    "Same Gene set check:  UUb UUa  2000\n",
    "UTa (5248, 2000)\n",
    "Same Gene set check:  UTa UUa  2000\n",
    "\n",
    "LX108\n",
    "\n",
    "20%\n",
    "UUUU (818, 2000)\n",
    "Same Gene set check:  UUUU UUUT 2000\n",
    "UUUT (904, 2000)\n",
    "Same Gene set check:  UUUT UUUT 2000\n",
    "UU (998, 2000)\n",
    "Same Gene set check:  UU UUUT 2000\n",
    "UTTU (934, 2000)\n",
    "Same Gene set check:  UTTU UUUT 2000\n",
    "\n",
    "40%\n",
    "UUUU (1643, 2000)\n",
    "Same Gene set check:  UUUU UUUT 2000\n",
    "UUUT (1818, 2000)\n",
    "Same Gene set check:  UUUT UUUT 2000\n",
    "UU (2004, 2000)\n",
    "Same Gene set check:  UU UUUT 2000\n",
    "UTTU (1878, 2000)\n",
    "Same Gene set check:  UTTU UUUT 2000\n",
    "\n",
    "100%\n",
    "UUUU (4128, 2000)\n",
    "Same Gene set check:  UUUU UUUT 2000\n",
    "UUUT (4564, 2000)\n",
    "Same Gene set check:  UUUT UUUT 2000\n",
    "UU (5035, 2000)\n",
    "Same Gene set check:  UU UUUT 2000\n",
    "UTTU (4706, 2000)\n",
    "Same Gene set check:  UTTU UUUT 2000\n",
    "\n",
    "LX33\n",
    "\n",
    "15%\n",
    "UTTU (594, 2000)\n",
    "Same Gene set check:  UTTU UU 2000\n",
    "UU (917, 2000)\n",
    "Same Gene set check:  UU UU 2000\n",
    "UUUT (981, 2000)\n",
    "Same Gene set check:  UUUT UU 2000\n",
    "UUUU (922, 2000)\n",
    "Same Gene set check:  UUUU UU 2000\n",
    "\n",
    "33%\n",
    "UTTU (1316, 2000)\n",
    "Same Gene set check:  UTTU UU 2000\n",
    "UU (2026, 2000)\n",
    "Same Gene set check:  UU UU 2000\n",
    "UUUT (2171, 2000)\n",
    "Same Gene set check:  UUUT UU 2000\n",
    "UUUU (2044, 2000)\n",
    "Same Gene set check:  UUUU UU 2000\n",
    "\n",
    "\n",
    "66%\n",
    "UTTU (2644, 2000)\n",
    "Same Gene set check:  UTTU UU 2000\n",
    "UU (4065, 2000)\n",
    "Same Gene set check:  UU UU 2000\n",
    "UUUT (4357, 2000)\n",
    "Same Gene set check:  UUUT UU 2000\n",
    "UUUU (4102, 2000)\n",
    "Same Gene set check:  UUUU UU 2000\n",
    "\n",
    "100%\n",
    "UTTU (4021, 2000)\n",
    "Same Gene set check:  UTTU UU 2000\n",
    "UU (6176, 2000)\n",
    "Same Gene set check:  UU UU 2000\n",
    "UUUT (6619, 2000)\n",
    "Same Gene set check:  UUUT UU 2000\n",
    "UUUU (6235, 2000)\n",
    "Same Gene set check:  UUUU UU 2000\n",
    "/work/shah/users/salehis/projects/cdm/data/sclc/lx33/rna.h5ad"
   ]
  },
  {
   "cell_type": "code",
   "execution_count": 22,
   "id": "87a4206e",
   "metadata": {},
   "outputs": [
    {
     "data": {
      "text/html": [
       "<div>\n",
       "<style scoped>\n",
       "    .dataframe tbody tr th:only-of-type {\n",
       "        vertical-align: middle;\n",
       "    }\n",
       "\n",
       "    .dataframe tbody tr th {\n",
       "        vertical-align: top;\n",
       "    }\n",
       "\n",
       "    .dataframe thead th {\n",
       "        text-align: right;\n",
       "    }\n",
       "</style>\n",
       "<table border=\"1\" class=\"dataframe\">\n",
       "  <thead>\n",
       "    <tr style=\"text-align: right;\">\n",
       "      <th></th>\n",
       "      <th>FAM87B</th>\n",
       "      <th>LINC00115</th>\n",
       "      <th>HES4</th>\n",
       "      <th>ISG15</th>\n",
       "      <th>ATAD3C</th>\n",
       "      <th>GABRD</th>\n",
       "      <th>AL590822.2</th>\n",
       "      <th>HES5</th>\n",
       "      <th>AL139246.5</th>\n",
       "      <th>AL139246.3</th>\n",
       "      <th>...</th>\n",
       "      <th>BACE2</th>\n",
       "      <th>TFF1</th>\n",
       "      <th>AP001626.1</th>\n",
       "      <th>ERVH48-1</th>\n",
       "      <th>FRGCA</th>\n",
       "      <th>AIRE</th>\n",
       "      <th>TRPM2</th>\n",
       "      <th>C21orf58</th>\n",
       "      <th>PCNT</th>\n",
       "      <th>MT-ND6</th>\n",
       "    </tr>\n",
       "  </thead>\n",
       "  <tbody>\n",
       "    <tr>\n",
       "      <th>TATGTTCAGGGACACT-1_Lx108_UUUT</th>\n",
       "      <td>0.0</td>\n",
       "      <td>0.0</td>\n",
       "      <td>0.0</td>\n",
       "      <td>2.0</td>\n",
       "      <td>0.0</td>\n",
       "      <td>0.0</td>\n",
       "      <td>0.0</td>\n",
       "      <td>0.0</td>\n",
       "      <td>0.0</td>\n",
       "      <td>0.0</td>\n",
       "      <td>...</td>\n",
       "      <td>0.0</td>\n",
       "      <td>0.0</td>\n",
       "      <td>0.0</td>\n",
       "      <td>0.0</td>\n",
       "      <td>0.0</td>\n",
       "      <td>0.0</td>\n",
       "      <td>0.0</td>\n",
       "      <td>1.0</td>\n",
       "      <td>0.0</td>\n",
       "      <td>1.0</td>\n",
       "    </tr>\n",
       "    <tr>\n",
       "      <th>TTTGGAGGTCAGGAGT-1_Lx108_UUUT</th>\n",
       "      <td>0.0</td>\n",
       "      <td>0.0</td>\n",
       "      <td>2.0</td>\n",
       "      <td>3.0</td>\n",
       "      <td>0.0</td>\n",
       "      <td>0.0</td>\n",
       "      <td>0.0</td>\n",
       "      <td>0.0</td>\n",
       "      <td>0.0</td>\n",
       "      <td>0.0</td>\n",
       "      <td>...</td>\n",
       "      <td>0.0</td>\n",
       "      <td>1.0</td>\n",
       "      <td>0.0</td>\n",
       "      <td>0.0</td>\n",
       "      <td>0.0</td>\n",
       "      <td>0.0</td>\n",
       "      <td>1.0</td>\n",
       "      <td>0.0</td>\n",
       "      <td>0.0</td>\n",
       "      <td>1.0</td>\n",
       "    </tr>\n",
       "    <tr>\n",
       "      <th>ATTCCATAGGTTCCGC-1_Lx108_UUUT</th>\n",
       "      <td>0.0</td>\n",
       "      <td>0.0</td>\n",
       "      <td>3.0</td>\n",
       "      <td>2.0</td>\n",
       "      <td>0.0</td>\n",
       "      <td>0.0</td>\n",
       "      <td>0.0</td>\n",
       "      <td>0.0</td>\n",
       "      <td>0.0</td>\n",
       "      <td>0.0</td>\n",
       "      <td>...</td>\n",
       "      <td>0.0</td>\n",
       "      <td>0.0</td>\n",
       "      <td>0.0</td>\n",
       "      <td>0.0</td>\n",
       "      <td>0.0</td>\n",
       "      <td>0.0</td>\n",
       "      <td>0.0</td>\n",
       "      <td>2.0</td>\n",
       "      <td>0.0</td>\n",
       "      <td>6.0</td>\n",
       "    </tr>\n",
       "    <tr>\n",
       "      <th>AGGGTTTAGGGTGAGG-1_Lx108_UUUT</th>\n",
       "      <td>0.0</td>\n",
       "      <td>0.0</td>\n",
       "      <td>0.0</td>\n",
       "      <td>1.0</td>\n",
       "      <td>0.0</td>\n",
       "      <td>0.0</td>\n",
       "      <td>0.0</td>\n",
       "      <td>0.0</td>\n",
       "      <td>0.0</td>\n",
       "      <td>0.0</td>\n",
       "      <td>...</td>\n",
       "      <td>0.0</td>\n",
       "      <td>1.0</td>\n",
       "      <td>0.0</td>\n",
       "      <td>0.0</td>\n",
       "      <td>0.0</td>\n",
       "      <td>0.0</td>\n",
       "      <td>0.0</td>\n",
       "      <td>2.0</td>\n",
       "      <td>0.0</td>\n",
       "      <td>0.0</td>\n",
       "    </tr>\n",
       "    <tr>\n",
       "      <th>TTCAATCTCGTCTCAC-1_Lx108_UUUT</th>\n",
       "      <td>0.0</td>\n",
       "      <td>0.0</td>\n",
       "      <td>1.0</td>\n",
       "      <td>3.0</td>\n",
       "      <td>0.0</td>\n",
       "      <td>0.0</td>\n",
       "      <td>0.0</td>\n",
       "      <td>0.0</td>\n",
       "      <td>0.0</td>\n",
       "      <td>0.0</td>\n",
       "      <td>...</td>\n",
       "      <td>0.0</td>\n",
       "      <td>0.0</td>\n",
       "      <td>0.0</td>\n",
       "      <td>0.0</td>\n",
       "      <td>1.0</td>\n",
       "      <td>0.0</td>\n",
       "      <td>0.0</td>\n",
       "      <td>2.0</td>\n",
       "      <td>1.0</td>\n",
       "      <td>3.0</td>\n",
       "    </tr>\n",
       "    <tr>\n",
       "      <th>...</th>\n",
       "      <td>...</td>\n",
       "      <td>...</td>\n",
       "      <td>...</td>\n",
       "      <td>...</td>\n",
       "      <td>...</td>\n",
       "      <td>...</td>\n",
       "      <td>...</td>\n",
       "      <td>...</td>\n",
       "      <td>...</td>\n",
       "      <td>...</td>\n",
       "      <td>...</td>\n",
       "      <td>...</td>\n",
       "      <td>...</td>\n",
       "      <td>...</td>\n",
       "      <td>...</td>\n",
       "      <td>...</td>\n",
       "      <td>...</td>\n",
       "      <td>...</td>\n",
       "      <td>...</td>\n",
       "      <td>...</td>\n",
       "      <td>...</td>\n",
       "    </tr>\n",
       "    <tr>\n",
       "      <th>TCATTGTTCATTGAGC-1_Lx108_UUUT</th>\n",
       "      <td>0.0</td>\n",
       "      <td>0.0</td>\n",
       "      <td>0.0</td>\n",
       "      <td>0.0</td>\n",
       "      <td>0.0</td>\n",
       "      <td>0.0</td>\n",
       "      <td>0.0</td>\n",
       "      <td>0.0</td>\n",
       "      <td>0.0</td>\n",
       "      <td>0.0</td>\n",
       "      <td>...</td>\n",
       "      <td>0.0</td>\n",
       "      <td>1.0</td>\n",
       "      <td>0.0</td>\n",
       "      <td>0.0</td>\n",
       "      <td>0.0</td>\n",
       "      <td>0.0</td>\n",
       "      <td>0.0</td>\n",
       "      <td>0.0</td>\n",
       "      <td>0.0</td>\n",
       "      <td>15.0</td>\n",
       "    </tr>\n",
       "    <tr>\n",
       "      <th>CAATCGATCTTTACAC-1_Lx108_UUUT</th>\n",
       "      <td>0.0</td>\n",
       "      <td>0.0</td>\n",
       "      <td>0.0</td>\n",
       "      <td>0.0</td>\n",
       "      <td>0.0</td>\n",
       "      <td>0.0</td>\n",
       "      <td>0.0</td>\n",
       "      <td>0.0</td>\n",
       "      <td>0.0</td>\n",
       "      <td>0.0</td>\n",
       "      <td>...</td>\n",
       "      <td>0.0</td>\n",
       "      <td>0.0</td>\n",
       "      <td>0.0</td>\n",
       "      <td>0.0</td>\n",
       "      <td>0.0</td>\n",
       "      <td>0.0</td>\n",
       "      <td>0.0</td>\n",
       "      <td>0.0</td>\n",
       "      <td>0.0</td>\n",
       "      <td>0.0</td>\n",
       "    </tr>\n",
       "    <tr>\n",
       "      <th>ACGTAGTAGTTAGTAG-1_Lx108_UUUT</th>\n",
       "      <td>0.0</td>\n",
       "      <td>0.0</td>\n",
       "      <td>0.0</td>\n",
       "      <td>1.0</td>\n",
       "      <td>0.0</td>\n",
       "      <td>0.0</td>\n",
       "      <td>0.0</td>\n",
       "      <td>0.0</td>\n",
       "      <td>0.0</td>\n",
       "      <td>0.0</td>\n",
       "      <td>...</td>\n",
       "      <td>0.0</td>\n",
       "      <td>0.0</td>\n",
       "      <td>0.0</td>\n",
       "      <td>0.0</td>\n",
       "      <td>0.0</td>\n",
       "      <td>0.0</td>\n",
       "      <td>0.0</td>\n",
       "      <td>0.0</td>\n",
       "      <td>0.0</td>\n",
       "      <td>1.0</td>\n",
       "    </tr>\n",
       "    <tr>\n",
       "      <th>TTATTGCGTCTGTGTA-1_Lx108_UUUT</th>\n",
       "      <td>0.0</td>\n",
       "      <td>0.0</td>\n",
       "      <td>0.0</td>\n",
       "      <td>0.0</td>\n",
       "      <td>0.0</td>\n",
       "      <td>0.0</td>\n",
       "      <td>0.0</td>\n",
       "      <td>0.0</td>\n",
       "      <td>0.0</td>\n",
       "      <td>0.0</td>\n",
       "      <td>...</td>\n",
       "      <td>0.0</td>\n",
       "      <td>0.0</td>\n",
       "      <td>0.0</td>\n",
       "      <td>0.0</td>\n",
       "      <td>0.0</td>\n",
       "      <td>0.0</td>\n",
       "      <td>0.0</td>\n",
       "      <td>0.0</td>\n",
       "      <td>0.0</td>\n",
       "      <td>0.0</td>\n",
       "    </tr>\n",
       "    <tr>\n",
       "      <th>CCTCACACAATTGTGC-1_Lx108_UUUT</th>\n",
       "      <td>0.0</td>\n",
       "      <td>1.0</td>\n",
       "      <td>0.0</td>\n",
       "      <td>3.0</td>\n",
       "      <td>0.0</td>\n",
       "      <td>0.0</td>\n",
       "      <td>0.0</td>\n",
       "      <td>0.0</td>\n",
       "      <td>0.0</td>\n",
       "      <td>0.0</td>\n",
       "      <td>...</td>\n",
       "      <td>0.0</td>\n",
       "      <td>0.0</td>\n",
       "      <td>0.0</td>\n",
       "      <td>0.0</td>\n",
       "      <td>0.0</td>\n",
       "      <td>0.0</td>\n",
       "      <td>1.0</td>\n",
       "      <td>0.0</td>\n",
       "      <td>1.0</td>\n",
       "      <td>1.0</td>\n",
       "    </tr>\n",
       "  </tbody>\n",
       "</table>\n",
       "<p>4564 rows × 2000 columns</p>\n",
       "</div>"
      ],
      "text/plain": [
       "                               FAM87B  LINC00115  HES4  ISG15  ATAD3C  GABRD  \\\n",
       "TATGTTCAGGGACACT-1_Lx108_UUUT     0.0        0.0   0.0    2.0     0.0    0.0   \n",
       "TTTGGAGGTCAGGAGT-1_Lx108_UUUT     0.0        0.0   2.0    3.0     0.0    0.0   \n",
       "ATTCCATAGGTTCCGC-1_Lx108_UUUT     0.0        0.0   3.0    2.0     0.0    0.0   \n",
       "AGGGTTTAGGGTGAGG-1_Lx108_UUUT     0.0        0.0   0.0    1.0     0.0    0.0   \n",
       "TTCAATCTCGTCTCAC-1_Lx108_UUUT     0.0        0.0   1.0    3.0     0.0    0.0   \n",
       "...                               ...        ...   ...    ...     ...    ...   \n",
       "TCATTGTTCATTGAGC-1_Lx108_UUUT     0.0        0.0   0.0    0.0     0.0    0.0   \n",
       "CAATCGATCTTTACAC-1_Lx108_UUUT     0.0        0.0   0.0    0.0     0.0    0.0   \n",
       "ACGTAGTAGTTAGTAG-1_Lx108_UUUT     0.0        0.0   0.0    1.0     0.0    0.0   \n",
       "TTATTGCGTCTGTGTA-1_Lx108_UUUT     0.0        0.0   0.0    0.0     0.0    0.0   \n",
       "CCTCACACAATTGTGC-1_Lx108_UUUT     0.0        1.0   0.0    3.0     0.0    0.0   \n",
       "\n",
       "                               AL590822.2  HES5  AL139246.5  AL139246.3  ...  \\\n",
       "TATGTTCAGGGACACT-1_Lx108_UUUT         0.0   0.0         0.0         0.0  ...   \n",
       "TTTGGAGGTCAGGAGT-1_Lx108_UUUT         0.0   0.0         0.0         0.0  ...   \n",
       "ATTCCATAGGTTCCGC-1_Lx108_UUUT         0.0   0.0         0.0         0.0  ...   \n",
       "AGGGTTTAGGGTGAGG-1_Lx108_UUUT         0.0   0.0         0.0         0.0  ...   \n",
       "TTCAATCTCGTCTCAC-1_Lx108_UUUT         0.0   0.0         0.0         0.0  ...   \n",
       "...                                   ...   ...         ...         ...  ...   \n",
       "TCATTGTTCATTGAGC-1_Lx108_UUUT         0.0   0.0         0.0         0.0  ...   \n",
       "CAATCGATCTTTACAC-1_Lx108_UUUT         0.0   0.0         0.0         0.0  ...   \n",
       "ACGTAGTAGTTAGTAG-1_Lx108_UUUT         0.0   0.0         0.0         0.0  ...   \n",
       "TTATTGCGTCTGTGTA-1_Lx108_UUUT         0.0   0.0         0.0         0.0  ...   \n",
       "CCTCACACAATTGTGC-1_Lx108_UUUT         0.0   0.0         0.0         0.0  ...   \n",
       "\n",
       "                               BACE2  TFF1  AP001626.1  ERVH48-1  FRGCA  AIRE  \\\n",
       "TATGTTCAGGGACACT-1_Lx108_UUUT    0.0   0.0         0.0       0.0    0.0   0.0   \n",
       "TTTGGAGGTCAGGAGT-1_Lx108_UUUT    0.0   1.0         0.0       0.0    0.0   0.0   \n",
       "ATTCCATAGGTTCCGC-1_Lx108_UUUT    0.0   0.0         0.0       0.0    0.0   0.0   \n",
       "AGGGTTTAGGGTGAGG-1_Lx108_UUUT    0.0   1.0         0.0       0.0    0.0   0.0   \n",
       "TTCAATCTCGTCTCAC-1_Lx108_UUUT    0.0   0.0         0.0       0.0    1.0   0.0   \n",
       "...                              ...   ...         ...       ...    ...   ...   \n",
       "TCATTGTTCATTGAGC-1_Lx108_UUUT    0.0   1.0         0.0       0.0    0.0   0.0   \n",
       "CAATCGATCTTTACAC-1_Lx108_UUUT    0.0   0.0         0.0       0.0    0.0   0.0   \n",
       "ACGTAGTAGTTAGTAG-1_Lx108_UUUT    0.0   0.0         0.0       0.0    0.0   0.0   \n",
       "TTATTGCGTCTGTGTA-1_Lx108_UUUT    0.0   0.0         0.0       0.0    0.0   0.0   \n",
       "CCTCACACAATTGTGC-1_Lx108_UUUT    0.0   0.0         0.0       0.0    0.0   0.0   \n",
       "\n",
       "                               TRPM2  C21orf58  PCNT  MT-ND6  \n",
       "TATGTTCAGGGACACT-1_Lx108_UUUT    0.0       1.0   0.0     1.0  \n",
       "TTTGGAGGTCAGGAGT-1_Lx108_UUUT    1.0       0.0   0.0     1.0  \n",
       "ATTCCATAGGTTCCGC-1_Lx108_UUUT    0.0       2.0   0.0     6.0  \n",
       "AGGGTTTAGGGTGAGG-1_Lx108_UUUT    0.0       2.0   0.0     0.0  \n",
       "TTCAATCTCGTCTCAC-1_Lx108_UUUT    0.0       2.0   1.0     3.0  \n",
       "...                              ...       ...   ...     ...  \n",
       "TCATTGTTCATTGAGC-1_Lx108_UUUT    0.0       0.0   0.0    15.0  \n",
       "CAATCGATCTTTACAC-1_Lx108_UUUT    0.0       0.0   0.0     0.0  \n",
       "ACGTAGTAGTTAGTAG-1_Lx108_UUUT    0.0       0.0   0.0     1.0  \n",
       "TTATTGCGTCTGTGTA-1_Lx108_UUUT    0.0       0.0   0.0     0.0  \n",
       "CCTCACACAATTGTGC-1_Lx108_UUUT    1.0       0.0   1.0     1.0  \n",
       "\n",
       "[4564 rows x 2000 columns]"
      ]
     },
     "execution_count": 22,
     "metadata": {},
     "output_type": "execute_result"
    }
   ],
   "source": [
    "#STEP 11: copying over raw count \n",
    "\n",
    "for state in unique_state:\n",
    "    data_sub[state].X = data_sub[state].layers['counts'].copy()\n",
    "    \n",
    "#check for sample output\n",
    "data_sub[unique_state[1]].to_df()"
   ]
  },
  {
   "cell_type": "code",
   "execution_count": 30,
   "id": "c2b2bc79",
   "metadata": {},
   "outputs": [
    {
     "name": "stdout",
     "output_type": "stream",
     "text": [
      "Finish with:  /home/linl5/project/SCLC/results/lx108/lx108.UUUU.1.qc.tpm.csv  Shape:  (4128, 2000)\n",
      "Finish with:  /home/linl5/project/SCLC/results/lx108/lx108.UUUT.1.qc.tpm.csv  Shape:  (4564, 2000)\n",
      "Finish with:  /home/linl5/project/SCLC/results/lx108/lx108.UU.1.qc.tpm.csv  Shape:  (5035, 2000)\n",
      "Finish with:  /home/linl5/project/SCLC/results/lx108/lx108.UTTU.1.qc.tpm.csv  Shape:  (4706, 2000)\n"
     ]
    }
   ],
   "source": [
    "#STEP 12: output Timepoint specific count matrix after subsampling by state\n",
    "for state in unique_state:\n",
    "    EXP_MTX_QC_FNAME = os.path.join(RESULTS_FOLDERNAME, '{}.{}.{}.qc.tpm.csv'.format(DATASET_ID, state, frac_cells))\n",
    "    data_sub[state].to_df().to_csv(EXP_MTX_QC_FNAME, index=False, sep='\\t')\n",
    "    print(\"Finish with: \", EXP_MTX_QC_FNAME, \" Shape: \", data_sub[state].shape)\n"
   ]
  },
  {
   "cell_type": "code",
   "execution_count": null,
   "id": "3c8fadea",
   "metadata": {},
   "outputs": [
    {
     "name": "stdout",
     "output_type": "stream",
     "text": [
      "/home/linl5/project/SCLC/resources/allTFs_hg38.txt : Size of TF list 1892\n",
      "\n",
      "Expression matrix shape for lx108 UUUU (4128, 2000)\n",
      "preparing dask client\n",
      "parsing input\n",
      "creating dask graph\n",
      "8 partitions\n",
      "computing dask graph\n"
     ]
    }
   ],
   "source": [
    "# STEP 13: prepping for GRN, Loading in expression matrix and TF files\n",
    "\n",
    "#Loading TF\n",
    "tf_names = load_tf_names(HUMAN_TFS_FNAME)\n",
    "print(HUMAN_TFS_FNAME, \": Size of TF list\", len(tf_names))\n",
    "\n",
    "#selecting !!!! CHANGE\n",
    "frac_cells = 1\n",
    "\n",
    "#expression matrix\n",
    "for state in unique_state:\n",
    "    EXP_MTX_QC_FNAME = os.path.join(RESULTS_FOLDERNAME, '{}.{}.{}.qc.tpm.csv'.format(DATASET_ID, state, frac_cells))\n",
    "    ex_matrix = pd.read_csv(EXP_MTX_QC_FNAME, sep='\\t', header=0)\n",
    "   \n",
    "    #Input Checking \n",
    "    print(\"\\nExpression matrix shape for\", DATASET_ID, state, ex_matrix.shape)\n",
    "\n",
    "#STEP 14: Running GRNBOOST2 for coexpression modules\n",
    "    adjacencies = grnboost2(expression_data=ex_matrix, tf_names=tf_names, verbose=True)\n",
    "    print(\"\\nCOMPLETED GRNBOOST2 RUNNING FOR\", DATASET_ID, state)\n",
    "    print(\"\\n\", adjacencies.head())\n",
    "    ADJACENCIES_FNAME = os.path.join(DATA_FOLDERNAME, \"{}.{}.{}.adjacencies.tsv\".format(DATASET_ID, state, frac_cells))\n",
    "    adjacencies.to_csv(ADJACENCIES_FNAME, index=False, sep='\\t')\n",
    "    print(\"SUCCESSFUL WRITING TO\", ADJACENCIES_FNAME, \"\\n\")\n",
    "    "
   ]
  },
  {
   "cell_type": "code",
   "execution_count": 86,
   "id": "0a76f0c1",
   "metadata": {},
   "outputs": [],
   "source": [
    "#STEP 15: Prepping for RCistarget: Loading Database and motif\n",
    "\n",
    "DATABASE_FOLDER = \"/home/linl5/project/SCLC/auxilliaries/\"\n",
    "DATABASES_GLOB = os.path.join(DATABASE_FOLDER, \"hg38_*.mc9nr.genes_vs_motifs.rankings.feather\")\n",
    "\n",
    "db_fnames = glob.glob(DATABASES_GLOB)\n",
    "def name(fname):\n",
    "    return os.path.splitext(os.path.basename(fname))[0]\n",
    "dbs = [RankingDatabase(fname=fname, name=name(fname)) for fname in db_fnames]\n",
    "dbs\n",
    "\n",
    "MOTIF_ANNOTATIONS_FNAME = os.path.join(RESOURCES_FOLDERNAME,\"motifs-v9-nr.hgnc-m0.001-o0.0.tbl\")"
   ]
  },
  {
   "cell_type": "code",
   "execution_count": 87,
   "id": "88dcd893",
   "metadata": {},
   "outputs": [
    {
     "name": "stdout",
     "output_type": "stream",
     "text": [
      "\n",
      "FINISHED READING ADJACENCIES FILE /home/linl5/project/SCLC/data/lx33/lx33.UTTU.0.33.adjacencies.tsv \n",
      "\n"
     ]
    },
    {
     "name": "stderr",
     "output_type": "stream",
     "text": [
      "\n",
      "2023-08-07 16:31:28,203 - pyscenic.utils - INFO - Calculating Pearson correlations.\n",
      "\n",
      "2023-08-07 16:31:28,227 - pyscenic.utils - WARNING - Note on correlation calculation: the default behaviour for calculating the correlations has changed after pySCENIC verion 0.9.16. Previously, the default was to calculate the correlation between a TF and target gene using only cells with non-zero expression values (mask_dropouts=True). The current default is now to use all cells to match the behavior of the R verision of SCENIC. The original settings can be retained by setting 'rho_mask_dropouts=True' in the modules_from_adjacencies function, or '--mask_dropouts' from the CLI.\n",
      "\tDropout masking is currently set to [False].\n"
     ]
    },
    {
     "name": "stdout",
     "output_type": "stream",
     "text": [
      "\n",
      "FINISHED READING EXPRESSION MATRIX /home/linl5/project/SCLC/results/lx33/lx33.UTTU.0.33.qc.tpm.csv \n",
      "\n"
     ]
    },
    {
     "name": "stderr",
     "output_type": "stream",
     "text": [
      "\n",
      "2023-08-07 16:31:29,178 - pyscenic.utils - INFO - Creating modules.\n"
     ]
    },
    {
     "name": "stdout",
     "output_type": "stream",
     "text": [
      "\n",
      "COMPLETED COEXPRESSION MODULE WRITING: /home/linl5/project/SCLC/data/lx33/lx33.UTTU.0.33.modules.p \n",
      "\n",
      "[                                        ] | 0% Completed | 12.45 sms"
     ]
    },
    {
     "name": "stderr",
     "output_type": "stream",
     "text": [
      "\n",
      "2023-08-07 16:31:47,116 - pyscenic.transform - WARNING - Less than 80% of the genes in KLF6 could be mapped to hg38__refseq-r80__500bp_up_and_100bp_down_tss.mc9nr.genes_vs_motifs.rankings. Skipping this module.\n"
     ]
    },
    {
     "name": "stdout",
     "output_type": "stream",
     "text": [
      "[                                        ] | 0% Completed | 19.46 s"
     ]
    },
    {
     "name": "stderr",
     "output_type": "stream",
     "text": [
      "\n",
      "2023-08-07 16:31:54,099 - pyscenic.transform - WARNING - Less than 80% of the genes in NEUROG1 could be mapped to hg38__refseq-r80__500bp_up_and_100bp_down_tss.mc9nr.genes_vs_motifs.rankings. Skipping this module.\n"
     ]
    },
    {
     "name": "stdout",
     "output_type": "stream",
     "text": [
      "[                                        ] | 0% Completed | 19.97 s"
     ]
    },
    {
     "name": "stderr",
     "output_type": "stream",
     "text": [
      "\n",
      "2023-08-07 16:31:54,549 - pyscenic.transform - WARNING - Less than 80% of the genes in NKX2-5 could be mapped to hg38__refseq-r80__500bp_up_and_100bp_down_tss.mc9nr.genes_vs_motifs.rankings. Skipping this module.\n"
     ]
    },
    {
     "name": "stdout",
     "output_type": "stream",
     "text": [
      "[                                        ] | 0% Completed | 20.48 s"
     ]
    },
    {
     "name": "stderr",
     "output_type": "stream",
     "text": [
      "\n",
      "2023-08-07 16:31:55,099 - pyscenic.transform - WARNING - Less than 80% of the genes in NR4A1 could be mapped to hg38__refseq-r80__500bp_up_and_100bp_down_tss.mc9nr.genes_vs_motifs.rankings. Skipping this module.\n",
      "\n",
      "2023-08-07 16:31:55,207 - pyscenic.transform - WARNING - Less than 80% of the genes in NR4A2 could be mapped to hg38__refseq-r80__500bp_up_and_100bp_down_tss.mc9nr.genes_vs_motifs.rankings. Skipping this module.\n"
     ]
    },
    {
     "name": "stdout",
     "output_type": "stream",
     "text": [
      "[                                        ] | 0% Completed | 25.75 s"
     ]
    },
    {
     "name": "stderr",
     "output_type": "stream",
     "text": [
      "\n",
      "2023-08-07 16:32:00,340 - pyscenic.transform - WARNING - Less than 80% of the genes in SIM1 could be mapped to hg38__refseq-r80__500bp_up_and_100bp_down_tss.mc9nr.genes_vs_motifs.rankings. Skipping this module.\n"
     ]
    },
    {
     "name": "stdout",
     "output_type": "stream",
     "text": [
      "[                                        ] | 0% Completed | 30.12 s"
     ]
    },
    {
     "name": "stderr",
     "output_type": "stream",
     "text": [
      "\n",
      "2023-08-07 16:32:04,778 - pyscenic.transform - WARNING - Less than 80% of the genes in SP8 could be mapped to hg38__refseq-r80__500bp_up_and_100bp_down_tss.mc9nr.genes_vs_motifs.rankings. Skipping this module.\n"
     ]
    },
    {
     "name": "stdout",
     "output_type": "stream",
     "text": [
      "[                                        ] | 0% Completed | 30.42 s"
     ]
    },
    {
     "name": "stderr",
     "output_type": "stream",
     "text": [
      "\n",
      "2023-08-07 16:32:05,080 - pyscenic.transform - WARNING - Less than 80% of the genes in TFF3 could be mapped to hg38__refseq-r80__500bp_up_and_100bp_down_tss.mc9nr.genes_vs_motifs.rankings. Skipping this module.\n"
     ]
    },
    {
     "name": "stdout",
     "output_type": "stream",
     "text": [
      "[                                        ] | 0% Completed | 31.34 s"
     ]
    },
    {
     "name": "stderr",
     "output_type": "stream",
     "text": [
      "\n",
      "2023-08-07 16:32:05,932 - pyscenic.transform - WARNING - Less than 80% of the genes in ZNF556 could be mapped to hg38__refseq-r80__500bp_up_and_100bp_down_tss.mc9nr.genes_vs_motifs.rankings. Skipping this module.\n"
     ]
    },
    {
     "name": "stdout",
     "output_type": "stream",
     "text": [
      "[                                        ] | 0% Completed | 52.48 s"
     ]
    },
    {
     "name": "stderr",
     "output_type": "stream",
     "text": [
      "\n",
      "2023-08-07 16:32:27,089 - pyscenic.transform - WARNING - Less than 80% of the genes in ATF3 could be mapped to hg38__refseq-r80__10kb_up_and_down_tss.mc9nr.genes_vs_motifs.rankings. Skipping this module.\n"
     ]
    },
    {
     "name": "stdout",
     "output_type": "stream",
     "text": [
      "[                                        ] | 0% Completed | 54.41 s"
     ]
    },
    {
     "name": "stderr",
     "output_type": "stream",
     "text": [
      "\n",
      "2023-08-07 16:32:29,057 - pyscenic.transform - WARNING - Less than 80% of the genes in BHLHE41 could be mapped to hg38__refseq-r80__10kb_up_and_down_tss.mc9nr.genes_vs_motifs.rankings. Skipping this module.\n"
     ]
    },
    {
     "name": "stdout",
     "output_type": "stream",
     "text": [
      "[                                        ] | 0% Completed | 55.83 s"
     ]
    },
    {
     "name": "stderr",
     "output_type": "stream",
     "text": [
      "\n",
      "2023-08-07 16:32:30,477 - pyscenic.transform - WARNING - Less than 80% of the genes in CEBPD could be mapped to hg38__refseq-r80__10kb_up_and_down_tss.mc9nr.genes_vs_motifs.rankings. Skipping this module.\n"
     ]
    },
    {
     "name": "stdout",
     "output_type": "stream",
     "text": [
      "[                                        ] | 0% Completed | 62.95 s"
     ]
    },
    {
     "name": "stderr",
     "output_type": "stream",
     "text": [
      "\n",
      "2023-08-07 16:32:37,591 - pyscenic.transform - WARNING - Less than 80% of the genes in FOSB could be mapped to hg38__refseq-r80__10kb_up_and_down_tss.mc9nr.genes_vs_motifs.rankings. Skipping this module.\n"
     ]
    },
    {
     "name": "stdout",
     "output_type": "stream",
     "text": [
      "[                                        ] | 0% Completed | 64.27 s"
     ]
    },
    {
     "name": "stderr",
     "output_type": "stream",
     "text": [
      "\n",
      "2023-08-07 16:32:38,905 - pyscenic.transform - WARNING - Less than 80% of the genes in GATA2 could be mapped to hg38__refseq-r80__10kb_up_and_down_tss.mc9nr.genes_vs_motifs.rankings. Skipping this module.\n"
     ]
    },
    {
     "name": "stdout",
     "output_type": "stream",
     "text": [
      "[                                        ] | 0% Completed | 65.59 s"
     ]
    },
    {
     "name": "stderr",
     "output_type": "stream",
     "text": [
      "\n",
      "2023-08-07 16:32:40,195 - pyscenic.transform - WARNING - Less than 80% of the genes in HES1 could be mapped to hg38__refseq-r80__10kb_up_and_down_tss.mc9nr.genes_vs_motifs.rankings. Skipping this module.\n"
     ]
    },
    {
     "name": "stdout",
     "output_type": "stream",
     "text": [
      "[                                        ] | 0% Completed | 66.30 s"
     ]
    },
    {
     "name": "stderr",
     "output_type": "stream",
     "text": [
      "\n",
      "2023-08-07 16:32:40,915 - pyscenic.transform - WARNING - Less than 80% of the genes in HTATIP2 could be mapped to hg38__refseq-r80__10kb_up_and_down_tss.mc9nr.genes_vs_motifs.rankings. Skipping this module.\n"
     ]
    },
    {
     "name": "stdout",
     "output_type": "stream",
     "text": [
      "[                                        ] | 0% Completed | 66.81 s"
     ]
    },
    {
     "name": "stderr",
     "output_type": "stream",
     "text": [
      "\n",
      "2023-08-07 16:32:41,460 - pyscenic.transform - WARNING - Less than 80% of the genes in INSM2 could be mapped to hg38__refseq-r80__10kb_up_and_down_tss.mc9nr.genes_vs_motifs.rankings. Skipping this module.\n"
     ]
    },
    {
     "name": "stdout",
     "output_type": "stream",
     "text": [
      "[                                        ] | 0% Completed | 71.49 s"
     ]
    },
    {
     "name": "stderr",
     "output_type": "stream",
     "text": [
      "\n",
      "2023-08-07 16:32:46,132 - pyscenic.transform - WARNING - Less than 80% of the genes in KLF4 could be mapped to hg38__refseq-r80__10kb_up_and_down_tss.mc9nr.genes_vs_motifs.rankings. Skipping this module.\n"
     ]
    },
    {
     "name": "stdout",
     "output_type": "stream",
     "text": [
      "[                                        ] | 0% Completed | 77.07 s"
     ]
    },
    {
     "name": "stderr",
     "output_type": "stream",
     "text": [
      "\n",
      "2023-08-07 16:32:51,729 - pyscenic.transform - WARNING - Less than 80% of the genes in NEUROG1 could be mapped to hg38__refseq-r80__10kb_up_and_down_tss.mc9nr.genes_vs_motifs.rankings. Skipping this module.\n"
     ]
    },
    {
     "name": "stdout",
     "output_type": "stream",
     "text": [
      "[                                        ] | 0% Completed | 77.38 s"
     ]
    },
    {
     "name": "stderr",
     "output_type": "stream",
     "text": [
      "\n",
      "2023-08-07 16:32:51,964 - pyscenic.transform - WARNING - Less than 80% of the genes in NHLH1 could be mapped to hg38__refseq-r80__10kb_up_and_down_tss.mc9nr.genes_vs_motifs.rankings. Skipping this module.\n"
     ]
    },
    {
     "name": "stdout",
     "output_type": "stream",
     "text": [
      "[                                        ] | 0% Completed | 77.89 s"
     ]
    },
    {
     "name": "stderr",
     "output_type": "stream",
     "text": [
      "\n",
      "2023-08-07 16:32:52,551 - pyscenic.transform - WARNING - Less than 80% of the genes in NR4A1 could be mapped to hg38__refseq-r80__10kb_up_and_down_tss.mc9nr.genes_vs_motifs.rankings. Skipping this module.\n",
      "\n",
      "2023-08-07 16:32:52,658 - pyscenic.transform - WARNING - Less than 80% of the genes in NR4A2 could be mapped to hg38__refseq-r80__10kb_up_and_down_tss.mc9nr.genes_vs_motifs.rankings. Skipping this module.\n"
     ]
    },
    {
     "name": "stdout",
     "output_type": "stream",
     "text": [
      "[                                        ] | 0% Completed | 80.53 s"
     ]
    },
    {
     "name": "stderr",
     "output_type": "stream",
     "text": [
      "\n",
      "2023-08-07 16:32:55,175 - pyscenic.transform - WARNING - Less than 80% of the genes in POU2F2 could be mapped to hg38__refseq-r80__10kb_up_and_down_tss.mc9nr.genes_vs_motifs.rankings. Skipping this module.\n"
     ]
    },
    {
     "name": "stdout",
     "output_type": "stream",
     "text": [
      "[                                        ] | 0% Completed | 85.51 s"
     ]
    },
    {
     "name": "stderr",
     "output_type": "stream",
     "text": [
      "\n",
      "2023-08-07 16:33:00,143 - pyscenic.transform - WARNING - Less than 80% of the genes in SIM1 could be mapped to hg38__refseq-r80__10kb_up_and_down_tss.mc9nr.genes_vs_motifs.rankings. Skipping this module.\n"
     ]
    },
    {
     "name": "stdout",
     "output_type": "stream",
     "text": [
      "[                                        ] | 0% Completed | 87.85 s"
     ]
    },
    {
     "name": "stderr",
     "output_type": "stream",
     "text": [
      "\n",
      "2023-08-07 16:33:02,442 - pyscenic.transform - WARNING - Less than 80% of the genes in SP4 could be mapped to hg38__refseq-r80__10kb_up_and_down_tss.mc9nr.genes_vs_motifs.rankings. Skipping this module.\n"
     ]
    },
    {
     "name": "stdout",
     "output_type": "stream",
     "text": [
      "[                                        ] | 0% Completed | 89.17 s"
     ]
    },
    {
     "name": "stderr",
     "output_type": "stream",
     "text": [
      "\n",
      "2023-08-07 16:33:03,826 - pyscenic.transform - WARNING - Less than 80% of the genes in TCEAL2 could be mapped to hg38__refseq-r80__10kb_up_and_down_tss.mc9nr.genes_vs_motifs.rankings. Skipping this module.\n"
     ]
    },
    {
     "name": "stdout",
     "output_type": "stream",
     "text": [
      "[                                        ] | 0% Completed | 95.37 s"
     ]
    },
    {
     "name": "stderr",
     "output_type": "stream",
     "text": [
      "\n",
      "2023-08-07 16:33:10,018 - pyscenic.transform - WARNING - Less than 80% of the genes in CEBPD could be mapped to hg38__refseq-r80__10kb_up_and_down_tss.mc9nr.genes_vs_motifs.rankings. Skipping this module.\n"
     ]
    },
    {
     "name": "stdout",
     "output_type": "stream",
     "text": [
      "[                                        ] | 0% Completed | 98.31 s"
     ]
    },
    {
     "name": "stderr",
     "output_type": "stream",
     "text": [
      "\n",
      "2023-08-07 16:33:12,948 - pyscenic.transform - WARNING - Less than 80% of the genes in DMBX1 could be mapped to hg38__refseq-r80__10kb_up_and_down_tss.mc9nr.genes_vs_motifs.rankings. Skipping this module.\n"
     ]
    },
    {
     "name": "stdout",
     "output_type": "stream",
     "text": [
      "[                                        ] | 0% Completed | 106.14 s"
     ]
    },
    {
     "name": "stderr",
     "output_type": "stream",
     "text": [
      "\n",
      "2023-08-07 16:33:20,807 - pyscenic.transform - WARNING - Less than 80% of the genes in FOSB could be mapped to hg38__refseq-r80__10kb_up_and_down_tss.mc9nr.genes_vs_motifs.rankings. Skipping this module.\n"
     ]
    },
    {
     "name": "stdout",
     "output_type": "stream",
     "text": [
      "[                                        ] | 0% Completed | 107.97 s"
     ]
    },
    {
     "name": "stderr",
     "output_type": "stream",
     "text": [
      "\n",
      "2023-08-07 16:33:22,600 - pyscenic.transform - WARNING - Less than 80% of the genes in HES1 could be mapped to hg38__refseq-r80__10kb_up_and_down_tss.mc9nr.genes_vs_motifs.rankings. Skipping this module.\n"
     ]
    },
    {
     "name": "stdout",
     "output_type": "stream",
     "text": [
      "[                                        ] | 0% Completed | 108.48 s"
     ]
    },
    {
     "name": "stderr",
     "output_type": "stream",
     "text": [
      "\n",
      "2023-08-07 16:33:23,084 - pyscenic.transform - WARNING - Less than 80% of the genes in HIST1H2BN could be mapped to hg38__refseq-r80__10kb_up_and_down_tss.mc9nr.genes_vs_motifs.rankings. Skipping this module.\n"
     ]
    },
    {
     "name": "stdout",
     "output_type": "stream",
     "text": [
      "[                                        ] | 0% Completed | 112.85 s"
     ]
    },
    {
     "name": "stderr",
     "output_type": "stream",
     "text": [
      "\n",
      "2023-08-07 16:33:27,465 - pyscenic.transform - WARNING - Less than 80% of the genes in KLF6 could be mapped to hg38__refseq-r80__10kb_up_and_down_tss.mc9nr.genes_vs_motifs.rankings. Skipping this module.\n"
     ]
    },
    {
     "name": "stdout",
     "output_type": "stream",
     "text": [
      "[                                        ] | 0% Completed | 119.36 s"
     ]
    },
    {
     "name": "stderr",
     "output_type": "stream",
     "text": [
      "\n",
      "2023-08-07 16:33:33,945 - pyscenic.transform - WARNING - Less than 80% of the genes in NEUROG1 could be mapped to hg38__refseq-r80__10kb_up_and_down_tss.mc9nr.genes_vs_motifs.rankings. Skipping this module.\n"
     ]
    },
    {
     "name": "stdout",
     "output_type": "stream",
     "text": [
      "[                                        ] | 0% Completed | 120.68 s"
     ]
    },
    {
     "name": "stderr",
     "output_type": "stream",
     "text": [
      "\n",
      "2023-08-07 16:33:35,316 - pyscenic.transform - WARNING - Less than 80% of the genes in NKX2-5 could be mapped to hg38__refseq-r80__10kb_up_and_down_tss.mc9nr.genes_vs_motifs.rankings. Skipping this module.\n"
     ]
    },
    {
     "name": "stdout",
     "output_type": "stream",
     "text": [
      "[                                        ] | 0% Completed | 121.29 s"
     ]
    },
    {
     "name": "stderr",
     "output_type": "stream",
     "text": [
      "\n",
      "2023-08-07 16:33:35,867 - pyscenic.transform - WARNING - Less than 80% of the genes in NR4A1 could be mapped to hg38__refseq-r80__10kb_up_and_down_tss.mc9nr.genes_vs_motifs.rankings. Skipping this module.\n",
      "\n",
      "2023-08-07 16:33:35,975 - pyscenic.transform - WARNING - Less than 80% of the genes in NR4A2 could be mapped to hg38__refseq-r80__10kb_up_and_down_tss.mc9nr.genes_vs_motifs.rankings. Skipping this module.\n"
     ]
    },
    {
     "name": "stdout",
     "output_type": "stream",
     "text": [
      "[                                        ] | 0% Completed | 126.57 s"
     ]
    },
    {
     "name": "stderr",
     "output_type": "stream",
     "text": [
      "\n",
      "2023-08-07 16:33:41,179 - pyscenic.transform - WARNING - Less than 80% of the genes in SIM1 could be mapped to hg38__refseq-r80__10kb_up_and_down_tss.mc9nr.genes_vs_motifs.rankings. Skipping this module.\n"
     ]
    },
    {
     "name": "stdout",
     "output_type": "stream",
     "text": [
      "[                                        ] | 0% Completed | 129.31 s"
     ]
    },
    {
     "name": "stderr",
     "output_type": "stream",
     "text": [
      "\n",
      "2023-08-07 16:33:43,985 - pyscenic.transform - WARNING - Less than 80% of the genes in SP8 could be mapped to hg38__refseq-r80__10kb_up_and_down_tss.mc9nr.genes_vs_motifs.rankings. Skipping this module.\n"
     ]
    },
    {
     "name": "stdout",
     "output_type": "stream",
     "text": [
      "[                                        ] | 0% Completed | 131.14 s"
     ]
    },
    {
     "name": "stderr",
     "output_type": "stream",
     "text": [
      "\n",
      "2023-08-07 16:33:45,805 - pyscenic.transform - WARNING - Less than 80% of the genes in TFF3 could be mapped to hg38__refseq-r80__10kb_up_and_down_tss.mc9nr.genes_vs_motifs.rankings. Skipping this module.\n"
     ]
    },
    {
     "name": "stdout",
     "output_type": "stream",
     "text": [
      "[                                        ] | 0% Completed | 132.97 s"
     ]
    },
    {
     "name": "stderr",
     "output_type": "stream",
     "text": [
      "\n",
      "2023-08-07 16:33:47,618 - pyscenic.transform - WARNING - Less than 80% of the genes in ZNF556 could be mapped to hg38__refseq-r80__10kb_up_and_down_tss.mc9nr.genes_vs_motifs.rankings. Skipping this module.\n"
     ]
    },
    {
     "name": "stdout",
     "output_type": "stream",
     "text": [
      "[                                        ] | 0% Completed | 141.01 s"
     ]
    },
    {
     "name": "stderr",
     "output_type": "stream",
     "text": [
      "\n",
      "2023-08-07 16:33:55,678 - pyscenic.transform - WARNING - Less than 80% of the genes in ATF3 could be mapped to hg38__refseq-r80__500bp_up_and_100bp_down_tss.mc9nr.genes_vs_motifs.rankings. Skipping this module.\n"
     ]
    },
    {
     "name": "stdout",
     "output_type": "stream",
     "text": [
      "[                                        ] | 0% Completed | 142.94 s"
     ]
    },
    {
     "name": "stderr",
     "output_type": "stream",
     "text": [
      "\n",
      "2023-08-07 16:33:57,572 - pyscenic.transform - WARNING - Less than 80% of the genes in BHLHE41 could be mapped to hg38__refseq-r80__500bp_up_and_100bp_down_tss.mc9nr.genes_vs_motifs.rankings. Skipping this module.\n"
     ]
    },
    {
     "name": "stdout",
     "output_type": "stream",
     "text": [
      "[                                        ] | 0% Completed | 145.28 s"
     ]
    },
    {
     "name": "stderr",
     "output_type": "stream",
     "text": [
      "\n",
      "2023-08-07 16:33:59,874 - pyscenic.transform - WARNING - Less than 80% of the genes in CEBPD could be mapped to hg38__refseq-r80__500bp_up_and_100bp_down_tss.mc9nr.genes_vs_motifs.rankings. Skipping this module.\n"
     ]
    },
    {
     "name": "stdout",
     "output_type": "stream",
     "text": [
      "[                                        ] | 0% Completed | 151.28 s"
     ]
    },
    {
     "name": "stderr",
     "output_type": "stream",
     "text": [
      "\n",
      "2023-08-07 16:34:05,861 - pyscenic.transform - WARNING - Less than 80% of the genes in FOSB could be mapped to hg38__refseq-r80__500bp_up_and_100bp_down_tss.mc9nr.genes_vs_motifs.rankings. Skipping this module.\n"
     ]
    },
    {
     "name": "stdout",
     "output_type": "stream",
     "text": [
      "[                                        ] | 0% Completed | 153.11 s"
     ]
    },
    {
     "name": "stderr",
     "output_type": "stream",
     "text": [
      "\n",
      "2023-08-07 16:34:07,763 - pyscenic.transform - WARNING - Less than 80% of the genes in GATA2 could be mapped to hg38__refseq-r80__500bp_up_and_100bp_down_tss.mc9nr.genes_vs_motifs.rankings. Skipping this module.\n"
     ]
    },
    {
     "name": "stdout",
     "output_type": "stream",
     "text": [
      "[                                        ] | 0% Completed | 154.33 s"
     ]
    },
    {
     "name": "stderr",
     "output_type": "stream",
     "text": [
      "\n",
      "2023-08-07 16:34:08,952 - pyscenic.transform - WARNING - Less than 80% of the genes in HES1 could be mapped to hg38__refseq-r80__500bp_up_and_100bp_down_tss.mc9nr.genes_vs_motifs.rankings. Skipping this module.\n"
     ]
    },
    {
     "name": "stdout",
     "output_type": "stream",
     "text": [
      "[                                        ] | 0% Completed | 155.04 s"
     ]
    },
    {
     "name": "stderr",
     "output_type": "stream",
     "text": [
      "\n",
      "2023-08-07 16:34:09,671 - pyscenic.transform - WARNING - Less than 80% of the genes in HTATIP2 could be mapped to hg38__refseq-r80__500bp_up_and_100bp_down_tss.mc9nr.genes_vs_motifs.rankings. Skipping this module.\n"
     ]
    },
    {
     "name": "stdout",
     "output_type": "stream",
     "text": [
      "[                                        ] | 0% Completed | 155.65 s"
     ]
    },
    {
     "name": "stderr",
     "output_type": "stream",
     "text": [
      "\n",
      "2023-08-07 16:34:10,242 - pyscenic.transform - WARNING - Less than 80% of the genes in INSM2 could be mapped to hg38__refseq-r80__500bp_up_and_100bp_down_tss.mc9nr.genes_vs_motifs.rankings. Skipping this module.\n"
     ]
    },
    {
     "name": "stdout",
     "output_type": "stream",
     "text": [
      "[                                        ] | 0% Completed | 159.41 s"
     ]
    },
    {
     "name": "stderr",
     "output_type": "stream",
     "text": [
      "\n",
      "2023-08-07 16:34:13,984 - pyscenic.transform - WARNING - Less than 80% of the genes in KLF4 could be mapped to hg38__refseq-r80__500bp_up_and_100bp_down_tss.mc9nr.genes_vs_motifs.rankings. Skipping this module.\n"
     ]
    },
    {
     "name": "stdout",
     "output_type": "stream",
     "text": [
      "[                                        ] | 0% Completed | 166.53 s"
     ]
    },
    {
     "name": "stderr",
     "output_type": "stream",
     "text": [
      "\n",
      "2023-08-07 16:34:21,119 - pyscenic.transform - WARNING - Less than 80% of the genes in NEUROG1 could be mapped to hg38__refseq-r80__500bp_up_and_100bp_down_tss.mc9nr.genes_vs_motifs.rankings. Skipping this module.\n"
     ]
    },
    {
     "name": "stdout",
     "output_type": "stream",
     "text": [
      "[                                        ] | 0% Completed | 166.73 s"
     ]
    },
    {
     "name": "stderr",
     "output_type": "stream",
     "text": [
      "\n",
      "2023-08-07 16:34:21,351 - pyscenic.transform - WARNING - Less than 80% of the genes in NHLH1 could be mapped to hg38__refseq-r80__500bp_up_and_100bp_down_tss.mc9nr.genes_vs_motifs.rankings. Skipping this module.\n"
     ]
    },
    {
     "name": "stdout",
     "output_type": "stream",
     "text": [
      "[                                        ] | 0% Completed | 168.16 s"
     ]
    },
    {
     "name": "stderr",
     "output_type": "stream",
     "text": [
      "\n",
      "2023-08-07 16:34:22,823 - pyscenic.transform - WARNING - Less than 80% of the genes in NR4A1 could be mapped to hg38__refseq-r80__500bp_up_and_100bp_down_tss.mc9nr.genes_vs_motifs.rankings. Skipping this module.\n",
      "\n",
      "2023-08-07 16:34:22,929 - pyscenic.transform - WARNING - Less than 80% of the genes in NR4A2 could be mapped to hg38__refseq-r80__500bp_up_and_100bp_down_tss.mc9nr.genes_vs_motifs.rankings. Skipping this module.\n"
     ]
    },
    {
     "name": "stdout",
     "output_type": "stream",
     "text": [
      "[                                        ] | 0% Completed | 171.21 s"
     ]
    },
    {
     "name": "stderr",
     "output_type": "stream",
     "text": [
      "\n",
      "2023-08-07 16:34:25,826 - pyscenic.transform - WARNING - Less than 80% of the genes in POU2F2 could be mapped to hg38__refseq-r80__500bp_up_and_100bp_down_tss.mc9nr.genes_vs_motifs.rankings. Skipping this module.\n"
     ]
    },
    {
     "name": "stdout",
     "output_type": "stream",
     "text": [
      "[                                        ] | 0% Completed | 174.26 s"
     ]
    },
    {
     "name": "stderr",
     "output_type": "stream",
     "text": [
      "\n",
      "2023-08-07 16:34:28,910 - pyscenic.transform - WARNING - Less than 80% of the genes in SIM1 could be mapped to hg38__refseq-r80__500bp_up_and_100bp_down_tss.mc9nr.genes_vs_motifs.rankings. Skipping this module.\n"
     ]
    },
    {
     "name": "stdout",
     "output_type": "stream",
     "text": [
      "[                                        ] | 0% Completed | 175.17 s"
     ]
    },
    {
     "name": "stderr",
     "output_type": "stream",
     "text": [
      "\n",
      "2023-08-07 16:34:29,820 - pyscenic.transform - WARNING - Less than 80% of the genes in SP4 could be mapped to hg38__refseq-r80__500bp_up_and_100bp_down_tss.mc9nr.genes_vs_motifs.rankings. Skipping this module.\n"
     ]
    },
    {
     "name": "stdout",
     "output_type": "stream",
     "text": [
      "[                                        ] | 0% Completed | 175.68 s"
     ]
    },
    {
     "name": "stderr",
     "output_type": "stream",
     "text": [
      "\n",
      "2023-08-07 16:34:30,265 - pyscenic.transform - WARNING - Less than 80% of the genes in TCEAL2 could be mapped to hg38__refseq-r80__500bp_up_and_100bp_down_tss.mc9nr.genes_vs_motifs.rankings. Skipping this module.\n"
     ]
    },
    {
     "name": "stdout",
     "output_type": "stream",
     "text": [
      "[                                        ] | 0% Completed | 183.10 s"
     ]
    },
    {
     "name": "stderr",
     "output_type": "stream",
     "text": [
      "\n",
      "2023-08-07 16:34:37,711 - pyscenic.transform - WARNING - Less than 80% of the genes in CEBPD could be mapped to hg38__refseq-r80__500bp_up_and_100bp_down_tss.mc9nr.genes_vs_motifs.rankings. Skipping this module.\n"
     ]
    },
    {
     "name": "stdout",
     "output_type": "stream",
     "text": [
      "[                                        ] | 0% Completed | 184.53 s"
     ]
    },
    {
     "name": "stderr",
     "output_type": "stream",
     "text": [
      "\n",
      "2023-08-07 16:34:39,138 - pyscenic.transform - WARNING - Less than 80% of the genes in DMBX1 could be mapped to hg38__refseq-r80__500bp_up_and_100bp_down_tss.mc9nr.genes_vs_motifs.rankings. Skipping this module.\n"
     ]
    },
    {
     "name": "stdout",
     "output_type": "stream",
     "text": [
      "[                                        ] | 0% Completed | 191.95 s"
     ]
    },
    {
     "name": "stderr",
     "output_type": "stream",
     "text": [
      "\n",
      "2023-08-07 16:34:46,561 - pyscenic.transform - WARNING - Less than 80% of the genes in FOSB could be mapped to hg38__refseq-r80__500bp_up_and_100bp_down_tss.mc9nr.genes_vs_motifs.rankings. Skipping this module.\n"
     ]
    },
    {
     "name": "stdout",
     "output_type": "stream",
     "text": [
      "[                                        ] | 0% Completed | 193.78 s"
     ]
    },
    {
     "name": "stderr",
     "output_type": "stream",
     "text": [
      "\n",
      "2023-08-07 16:34:48,369 - pyscenic.transform - WARNING - Less than 80% of the genes in HES1 could be mapped to hg38__refseq-r80__500bp_up_and_100bp_down_tss.mc9nr.genes_vs_motifs.rankings. Skipping this module.\n"
     ]
    },
    {
     "name": "stdout",
     "output_type": "stream",
     "text": [
      "[                                        ] | 0% Completed | 195.30 s"
     ]
    },
    {
     "name": "stderr",
     "output_type": "stream",
     "text": [
      "\n",
      "2023-08-07 16:34:49,919 - pyscenic.transform - WARNING - Less than 80% of the genes in HIST1H2BN could be mapped to hg38__refseq-r80__500bp_up_and_100bp_down_tss.mc9nr.genes_vs_motifs.rankings. Skipping this module.\n"
     ]
    },
    {
     "name": "stdout",
     "output_type": "stream",
     "text": [
      "[########################################] | 100% Completed | 204.75 s\n",
      "\n",
      "COMPLETED WRITING ENRICHED MOTIFS /home/linl5/project/SCLC/data/lx33/lx33.UTTU.0.33.motifs.csv \n",
      "\n",
      "                                         Enrichment            \\\n",
      "                                                AUC       NES   \n",
      "TF    MotifID                                                   \n",
      "ASCL2 dbcorrdb__RCOR1__ENCSR000EFG_1__m4   0.104411  3.002820   \n",
      "      taipale__Ascl2_DBD_RRCAGCTGYY_repr   0.109456  3.239857   \n",
      "      cisbp__M5987                         0.106915  3.120456   \n",
      "ATF3  taipale__ATF4_DBD_NNATGAYGCAATN      0.106607  3.889506   \n",
      "      cisbp__M5292                         0.108366  3.997711   \n",
      "\n",
      "                                                                \\\n",
      "                                         MotifSimilarityQvalue   \n",
      "TF    MotifID                                                    \n",
      "ASCL2 dbcorrdb__RCOR1__ENCSR000EFG_1__m4              0.000098   \n",
      "      taipale__Ascl2_DBD_RRCAGCTGYY_repr              0.000000   \n",
      "      cisbp__M5987                                    0.000000   \n",
      "ATF3  taipale__ATF4_DBD_NNATGAYGCAATN                 0.000447   \n",
      "      cisbp__M5292                                    0.000352   \n",
      "\n",
      "                                                              \\\n",
      "                                         OrthologousIdentity   \n",
      "TF    MotifID                                                  \n",
      "ASCL2 dbcorrdb__RCOR1__ENCSR000EFG_1__m4            0.683938   \n",
      "      taipale__Ascl2_DBD_RRCAGCTGYY_repr            0.683938   \n",
      "      cisbp__M5987                                  0.683938   \n",
      "ATF3  taipale__ATF4_DBD_NNATGAYGCAATN               1.000000   \n",
      "      cisbp__M5292                                  1.000000   \n",
      "\n",
      "                                                                                             \\\n",
      "                                                                                 Annotation   \n",
      "TF    MotifID                                                                                 \n",
      "ASCL2 dbcorrdb__RCOR1__ENCSR000EFG_1__m4  gene is orthologous to ENSMUSG00000009248 in M...   \n",
      "      taipale__Ascl2_DBD_RRCAGCTGYY_repr  gene is orthologous to ENSMUSG00000009248 in M...   \n",
      "      cisbp__M5987                        gene is orthologous to ENSMUSG00000009248 in M...   \n",
      "ATF3  taipale__ATF4_DBD_NNATGAYGCAATN     motif similar to factorbook__CREB ('CREB'; q-v...   \n",
      "      cisbp__M5292                        motif similar to factorbook__CREB ('CREB'; q-v...   \n",
      "\n",
      "                                                                                             \\\n",
      "                                                                                    Context   \n",
      "TF    MotifID                                                                                 \n",
      "ASCL2 dbcorrdb__RCOR1__ENCSR000EFG_1__m4  (weight>75.0%, activating, hg38__refseq-r80__1...   \n",
      "      taipale__Ascl2_DBD_RRCAGCTGYY_repr  (weight>75.0%, activating, hg38__refseq-r80__1...   \n",
      "      cisbp__M5987                        (weight>75.0%, activating, hg38__refseq-r80__1...   \n",
      "ATF3  taipale__ATF4_DBD_NNATGAYGCAATN     (weight>75.0%, activating, hg38__refseq-r80__1...   \n",
      "      cisbp__M5292                        (weight>75.0%, activating, hg38__refseq-r80__1...   \n",
      "\n",
      "                                                                                             \\\n",
      "                                                                                TargetGenes   \n",
      "TF    MotifID                                                                                 \n",
      "ASCL2 dbcorrdb__RCOR1__ENCSR000EFG_1__m4  [(DLK1, 6.585953862710709), (GNG8, 6.496316955...   \n",
      "      taipale__Ascl2_DBD_RRCAGCTGYY_repr  [(SYNPO2L, 1.6018272819778454), (APOBEC2, 1.29...   \n",
      "      cisbp__M5987                        [(TNC, 1.6156777408782583), (SMTNL1, 3.6238683...   \n",
      "ATF3  taipale__ATF4_DBD_NNATGAYGCAATN     [(ATF3, 1.0), (STC2, 1.3049684110779691), (NHL...   \n",
      "      cisbp__M5292                        [(MYL1, 2.411515594751047), (PLAC1, 1.89454500...   \n",
      "\n",
      "                                                    \n",
      "                                         RankAtMax  \n",
      "TF    MotifID                                       \n",
      "ASCL2 dbcorrdb__RCOR1__ENCSR000EFG_1__m4       683  \n",
      "      taipale__Ascl2_DBD_RRCAGCTGYY_repr       829  \n",
      "      cisbp__M5987                             850  \n",
      "ATF3  taipale__ATF4_DBD_NNATGAYGCAATN          373  \n",
      "      cisbp__M5292                            1140  \n",
      "Create regulons from a dataframe of enriched features.\n",
      "Additional columns saved: []\n",
      "\n",
      "COMPLETED WRITING DISCOVERED REGULON /home/linl5/project/SCLC/data/lx33/lx33.UTTU.0.33.regulons.p \n",
      "\n",
      "\n",
      "FINISHED READING ADJACENCIES FILE /home/linl5/project/SCLC/data/lx33/lx33.UU.0.33.adjacencies.tsv \n",
      "\n"
     ]
    },
    {
     "name": "stderr",
     "output_type": "stream",
     "text": [
      "\n",
      "2023-08-07 16:35:02,305 - pyscenic.utils - INFO - Calculating Pearson correlations.\n",
      "\n",
      "2023-08-07 16:35:02,328 - pyscenic.utils - WARNING - Note on correlation calculation: the default behaviour for calculating the correlations has changed after pySCENIC verion 0.9.16. Previously, the default was to calculate the correlation between a TF and target gene using only cells with non-zero expression values (mask_dropouts=True). The current default is now to use all cells to match the behavior of the R verision of SCENIC. The original settings can be retained by setting 'rho_mask_dropouts=True' in the modules_from_adjacencies function, or '--mask_dropouts' from the CLI.\n",
      "\tDropout masking is currently set to [False].\n"
     ]
    },
    {
     "name": "stdout",
     "output_type": "stream",
     "text": [
      "\n",
      "FINISHED READING EXPRESSION MATRIX /home/linl5/project/SCLC/results/lx33/lx33.UU.0.33.qc.tpm.csv \n",
      "\n"
     ]
    },
    {
     "name": "stderr",
     "output_type": "stream",
     "text": [
      "\n",
      "2023-08-07 16:35:03,275 - pyscenic.utils - INFO - Creating modules.\n"
     ]
    },
    {
     "name": "stdout",
     "output_type": "stream",
     "text": [
      "\n",
      "COMPLETED COEXPRESSION MODULE WRITING: /home/linl5/project/SCLC/data/lx33/lx33.UU.0.33.modules.p \n",
      "\n",
      "[                                        ] | 0% Completed | 9.66 s ms"
     ]
    },
    {
     "name": "stderr",
     "output_type": "stream",
     "text": [
      "\n",
      "2023-08-07 16:35:18,981 - pyscenic.transform - WARNING - Less than 80% of the genes in IKZF3 could be mapped to hg38__refseq-r80__500bp_up_and_100bp_down_tss.mc9nr.genes_vs_motifs.rankings. Skipping this module.\n"
     ]
    },
    {
     "name": "stdout",
     "output_type": "stream",
     "text": [
      "[                                        ] | 0% Completed | 10.27 s"
     ]
    },
    {
     "name": "stderr",
     "output_type": "stream",
     "text": [
      "\n",
      "2023-08-07 16:35:19,595 - pyscenic.transform - WARNING - Less than 80% of the genes in ISL1 could be mapped to hg38__refseq-r80__500bp_up_and_100bp_down_tss.mc9nr.genes_vs_motifs.rankings. Skipping this module.\n"
     ]
    },
    {
     "name": "stdout",
     "output_type": "stream",
     "text": [
      "[                                        ] | 0% Completed | 12.71 s"
     ]
    },
    {
     "name": "stderr",
     "output_type": "stream",
     "text": [
      "\n",
      "2023-08-07 16:35:21,996 - pyscenic.transform - WARNING - Less than 80% of the genes in LTF could be mapped to hg38__refseq-r80__500bp_up_and_100bp_down_tss.mc9nr.genes_vs_motifs.rankings. Skipping this module.\n"
     ]
    },
    {
     "name": "stdout",
     "output_type": "stream",
     "text": [
      "[                                        ] | 0% Completed | 15.15 s"
     ]
    },
    {
     "name": "stderr",
     "output_type": "stream",
     "text": [
      "\n",
      "2023-08-07 16:35:24,412 - pyscenic.transform - WARNING - Less than 80% of the genes in MSX1 could be mapped to hg38__refseq-r80__500bp_up_and_100bp_down_tss.mc9nr.genes_vs_motifs.rankings. Skipping this module.\n"
     ]
    },
    {
     "name": "stdout",
     "output_type": "stream",
     "text": [
      "[                                        ] | 0% Completed | 25.31 s"
     ]
    },
    {
     "name": "stderr",
     "output_type": "stream",
     "text": [
      "\n",
      "2023-08-07 16:35:34,628 - pyscenic.transform - WARNING - Less than 80% of the genes in POU2F2 could be mapped to hg38__refseq-r80__500bp_up_and_100bp_down_tss.mc9nr.genes_vs_motifs.rankings. Skipping this module.\n"
     ]
    },
    {
     "name": "stdout",
     "output_type": "stream",
     "text": [
      "[                                        ] | 0% Completed | 32.63 s"
     ]
    },
    {
     "name": "stderr",
     "output_type": "stream",
     "text": [
      "\n",
      "2023-08-07 16:35:41,972 - pyscenic.transform - WARNING - Less than 80% of the genes in SOX9 could be mapped to hg38__refseq-r80__500bp_up_and_100bp_down_tss.mc9nr.genes_vs_motifs.rankings. Skipping this module.\n"
     ]
    },
    {
     "name": "stdout",
     "output_type": "stream",
     "text": [
      "[                                        ] | 0% Completed | 34.36 s"
     ]
    },
    {
     "name": "stderr",
     "output_type": "stream",
     "text": [
      "\n",
      "2023-08-07 16:35:43,652 - pyscenic.transform - WARNING - Less than 80% of the genes in ZNF699 could be mapped to hg38__refseq-r80__500bp_up_and_100bp_down_tss.mc9nr.genes_vs_motifs.rankings. Skipping this module.\n"
     ]
    },
    {
     "name": "stdout",
     "output_type": "stream",
     "text": [
      "[                                        ] | 0% Completed | 51.23 s"
     ]
    },
    {
     "name": "stderr",
     "output_type": "stream",
     "text": [
      "\n",
      "2023-08-07 16:36:00,575 - pyscenic.transform - WARNING - Less than 80% of the genes in CEBPD could be mapped to hg38__refseq-r80__10kb_up_and_down_tss.mc9nr.genes_vs_motifs.rankings. Skipping this module.\n"
     ]
    },
    {
     "name": "stdout",
     "output_type": "stream",
     "text": [
      "[                                        ] | 0% Completed | 63.94 s"
     ]
    },
    {
     "name": "stderr",
     "output_type": "stream",
     "text": [
      "\n",
      "2023-08-07 16:36:13,300 - pyscenic.transform - WARNING - Less than 80% of the genes in FOXL2 could be mapped to hg38__refseq-r80__10kb_up_and_down_tss.mc9nr.genes_vs_motifs.rankings. Skipping this module.\n"
     ]
    },
    {
     "name": "stdout",
     "output_type": "stream",
     "text": [
      "[                                        ] | 0% Completed | 68.93 s"
     ]
    },
    {
     "name": "stderr",
     "output_type": "stream",
     "text": [
      "\n",
      "2023-08-07 16:36:18,226 - pyscenic.transform - WARNING - Less than 80% of the genes in HIST1H2BN could be mapped to hg38__refseq-r80__10kb_up_and_down_tss.mc9nr.genes_vs_motifs.rankings. Skipping this module.\n"
     ]
    },
    {
     "name": "stdout",
     "output_type": "stream",
     "text": [
      "[                                        ] | 0% Completed | 69.84 s"
     ]
    },
    {
     "name": "stderr",
     "output_type": "stream",
     "text": [
      "\n",
      "2023-08-07 16:36:19,123 - pyscenic.transform - WARNING - Less than 80% of the genes in INSM2 could be mapped to hg38__refseq-r80__10kb_up_and_down_tss.mc9nr.genes_vs_motifs.rankings. Skipping this module.\n"
     ]
    },
    {
     "name": "stdout",
     "output_type": "stream",
     "text": [
      "[                                        ] | 0% Completed | 75.43 s"
     ]
    },
    {
     "name": "stderr",
     "output_type": "stream",
     "text": [
      "\n",
      "2023-08-07 16:36:24,765 - pyscenic.transform - WARNING - Less than 80% of the genes in MSX1 could be mapped to hg38__refseq-r80__10kb_up_and_down_tss.mc9nr.genes_vs_motifs.rankings. Skipping this module.\n"
     ]
    },
    {
     "name": "stdout",
     "output_type": "stream",
     "text": [
      "[                                        ] | 0% Completed | 80.52 s"
     ]
    },
    {
     "name": "stderr",
     "output_type": "stream",
     "text": [
      "\n",
      "2023-08-07 16:36:29,822 - pyscenic.transform - WARNING - Less than 80% of the genes in NHLH1 could be mapped to hg38__refseq-r80__10kb_up_and_down_tss.mc9nr.genes_vs_motifs.rankings. Skipping this module.\n"
     ]
    },
    {
     "name": "stdout",
     "output_type": "stream",
     "text": [
      "[                                        ] | 0% Completed | 83.16 s"
     ]
    },
    {
     "name": "stderr",
     "output_type": "stream",
     "text": [
      "\n",
      "2023-08-07 16:36:32,479 - pyscenic.transform - WARNING - Less than 80% of the genes in POU2F2 could be mapped to hg38__refseq-r80__10kb_up_and_down_tss.mc9nr.genes_vs_motifs.rankings. Skipping this module.\n"
     ]
    },
    {
     "name": "stdout",
     "output_type": "stream",
     "text": [
      "[                                        ] | 0% Completed | 92.31 s"
     ]
    },
    {
     "name": "stderr",
     "output_type": "stream",
     "text": [
      "\n",
      "2023-08-07 16:36:41,664 - pyscenic.transform - WARNING - Less than 80% of the genes in TWIST1 could be mapped to hg38__refseq-r80__10kb_up_and_down_tss.mc9nr.genes_vs_motifs.rankings. Skipping this module.\n"
     ]
    },
    {
     "name": "stdout",
     "output_type": "stream",
     "text": [
      "[                                        ] | 0% Completed | 93.22 s"
     ]
    },
    {
     "name": "stderr",
     "output_type": "stream",
     "text": [
      "\n",
      "2023-08-07 16:36:42,524 - pyscenic.transform - WARNING - Less than 80% of the genes in ARID5B could be mapped to hg38__refseq-r80__10kb_up_and_down_tss.mc9nr.genes_vs_motifs.rankings. Skipping this module.\n"
     ]
    },
    {
     "name": "stdout",
     "output_type": "stream",
     "text": [
      "[                                        ] | 0% Completed | 116.92 s"
     ]
    },
    {
     "name": "stderr",
     "output_type": "stream",
     "text": [
      "\n",
      "2023-08-07 16:37:06,202 - pyscenic.transform - WARNING - Less than 80% of the genes in IKZF3 could be mapped to hg38__refseq-r80__10kb_up_and_down_tss.mc9nr.genes_vs_motifs.rankings. Skipping this module.\n"
     ]
    },
    {
     "name": "stdout",
     "output_type": "stream",
     "text": [
      "[                                        ] | 0% Completed | 118.34 s"
     ]
    },
    {
     "name": "stderr",
     "output_type": "stream",
     "text": [
      "\n",
      "2023-08-07 16:37:07,648 - pyscenic.transform - WARNING - Less than 80% of the genes in ISL1 could be mapped to hg38__refseq-r80__10kb_up_and_down_tss.mc9nr.genes_vs_motifs.rankings. Skipping this module.\n"
     ]
    },
    {
     "name": "stdout",
     "output_type": "stream",
     "text": [
      "[                                        ] | 0% Completed | 122.51 s"
     ]
    },
    {
     "name": "stderr",
     "output_type": "stream",
     "text": [
      "\n",
      "2023-08-07 16:37:11,800 - pyscenic.transform - WARNING - Less than 80% of the genes in LTF could be mapped to hg38__refseq-r80__10kb_up_and_down_tss.mc9nr.genes_vs_motifs.rankings. Skipping this module.\n"
     ]
    },
    {
     "name": "stdout",
     "output_type": "stream",
     "text": [
      "[                                        ] | 0% Completed | 124.34 s"
     ]
    },
    {
     "name": "stderr",
     "output_type": "stream",
     "text": [
      "\n",
      "2023-08-07 16:37:13,693 - pyscenic.transform - WARNING - Less than 80% of the genes in MSX1 could be mapped to hg38__refseq-r80__10kb_up_and_down_tss.mc9nr.genes_vs_motifs.rankings. Skipping this module.\n"
     ]
    },
    {
     "name": "stdout",
     "output_type": "stream",
     "text": [
      "[                                        ] | 0% Completed | 133.69 s"
     ]
    },
    {
     "name": "stderr",
     "output_type": "stream",
     "text": [
      "\n",
      "2023-08-07 16:37:23,006 - pyscenic.transform - WARNING - Less than 80% of the genes in POU2F2 could be mapped to hg38__refseq-r80__10kb_up_and_down_tss.mc9nr.genes_vs_motifs.rankings. Skipping this module.\n"
     ]
    },
    {
     "name": "stdout",
     "output_type": "stream",
     "text": [
      "[                                        ] | 0% Completed | 141.01 s"
     ]
    },
    {
     "name": "stderr",
     "output_type": "stream",
     "text": [
      "\n",
      "2023-08-07 16:37:30,301 - pyscenic.transform - WARNING - Less than 80% of the genes in SOX9 could be mapped to hg38__refseq-r80__10kb_up_and_down_tss.mc9nr.genes_vs_motifs.rankings. Skipping this module.\n"
     ]
    },
    {
     "name": "stdout",
     "output_type": "stream",
     "text": [
      "[                                        ] | 0% Completed | 145.38 s"
     ]
    },
    {
     "name": "stderr",
     "output_type": "stream",
     "text": [
      "\n",
      "2023-08-07 16:37:34,684 - pyscenic.transform - WARNING - Less than 80% of the genes in ZNF699 could be mapped to hg38__refseq-r80__10kb_up_and_down_tss.mc9nr.genes_vs_motifs.rankings. Skipping this module.\n"
     ]
    },
    {
     "name": "stdout",
     "output_type": "stream",
     "text": [
      "[                                        ] | 0% Completed | 157.19 s"
     ]
    },
    {
     "name": "stderr",
     "output_type": "stream",
     "text": [
      "\n",
      "2023-08-07 16:37:46,500 - pyscenic.transform - WARNING - Less than 80% of the genes in CEBPD could be mapped to hg38__refseq-r80__500bp_up_and_100bp_down_tss.mc9nr.genes_vs_motifs.rankings. Skipping this module.\n"
     ]
    },
    {
     "name": "stdout",
     "output_type": "stream",
     "text": [
      "[                                        ] | 0% Completed | 165.12 s"
     ]
    },
    {
     "name": "stderr",
     "output_type": "stream",
     "text": [
      "\n",
      "2023-08-07 16:37:54,435 - pyscenic.transform - WARNING - Less than 80% of the genes in FOXL2 could be mapped to hg38__refseq-r80__500bp_up_and_100bp_down_tss.mc9nr.genes_vs_motifs.rankings. Skipping this module.\n"
     ]
    },
    {
     "name": "stdout",
     "output_type": "stream",
     "text": [
      "[                                        ] | 0% Completed | 167.35 s"
     ]
    },
    {
     "name": "stderr",
     "output_type": "stream",
     "text": [
      "\n",
      "2023-08-07 16:37:56,640 - pyscenic.transform - WARNING - Less than 80% of the genes in HIST1H2BN could be mapped to hg38__refseq-r80__500bp_up_and_100bp_down_tss.mc9nr.genes_vs_motifs.rankings. Skipping this module.\n"
     ]
    },
    {
     "name": "stdout",
     "output_type": "stream",
     "text": [
      "[                                        ] | 0% Completed | 168.27 s"
     ]
    },
    {
     "name": "stderr",
     "output_type": "stream",
     "text": [
      "\n",
      "2023-08-07 16:37:57,541 - pyscenic.transform - WARNING - Less than 80% of the genes in INSM2 could be mapped to hg38__refseq-r80__500bp_up_and_100bp_down_tss.mc9nr.genes_vs_motifs.rankings. Skipping this module.\n"
     ]
    },
    {
     "name": "stdout",
     "output_type": "stream",
     "text": [
      "[                                        ] | 0% Completed | 172.54 s"
     ]
    },
    {
     "name": "stderr",
     "output_type": "stream",
     "text": [
      "\n",
      "2023-08-07 16:38:01,869 - pyscenic.transform - WARNING - Less than 80% of the genes in MSX1 could be mapped to hg38__refseq-r80__500bp_up_and_100bp_down_tss.mc9nr.genes_vs_motifs.rankings. Skipping this module.\n"
     ]
    },
    {
     "name": "stdout",
     "output_type": "stream",
     "text": [
      "[                                        ] | 0% Completed | 179.05 s"
     ]
    },
    {
     "name": "stderr",
     "output_type": "stream",
     "text": [
      "\n",
      "2023-08-07 16:38:08,339 - pyscenic.transform - WARNING - Less than 80% of the genes in NHLH1 could be mapped to hg38__refseq-r80__500bp_up_and_100bp_down_tss.mc9nr.genes_vs_motifs.rankings. Skipping this module.\n"
     ]
    },
    {
     "name": "stdout",
     "output_type": "stream",
     "text": [
      "[                                        ] | 0% Completed | 182.60 s"
     ]
    },
    {
     "name": "stderr",
     "output_type": "stream",
     "text": [
      "\n",
      "2023-08-07 16:38:11,922 - pyscenic.transform - WARNING - Less than 80% of the genes in POU2F2 could be mapped to hg38__refseq-r80__500bp_up_and_100bp_down_tss.mc9nr.genes_vs_motifs.rankings. Skipping this module.\n"
     ]
    },
    {
     "name": "stdout",
     "output_type": "stream",
     "text": [
      "[                                        ] | 0% Completed | 191.75 s"
     ]
    },
    {
     "name": "stderr",
     "output_type": "stream",
     "text": [
      "\n",
      "2023-08-07 16:38:21,079 - pyscenic.transform - WARNING - Less than 80% of the genes in TWIST1 could be mapped to hg38__refseq-r80__500bp_up_and_100bp_down_tss.mc9nr.genes_vs_motifs.rankings. Skipping this module.\n"
     ]
    },
    {
     "name": "stdout",
     "output_type": "stream",
     "text": [
      "[                                        ] | 0% Completed | 192.67 s"
     ]
    },
    {
     "name": "stderr",
     "output_type": "stream",
     "text": [
      "\n",
      "2023-08-07 16:38:21,948 - pyscenic.transform - WARNING - Less than 80% of the genes in ARID5B could be mapped to hg38__refseq-r80__500bp_up_and_100bp_down_tss.mc9nr.genes_vs_motifs.rankings. Skipping this module.\n"
     ]
    },
    {
     "name": "stdout",
     "output_type": "stream",
     "text": [
      "[########################################] | 100% Completed | 217.18 s\n",
      "\n",
      "COMPLETED WRITING ENRICHED MOTIFS /home/linl5/project/SCLC/data/lx33/lx33.UU.0.33.motifs.csv \n",
      "\n",
      "                                         Enrichment            \\\n",
      "                                                AUC       NES   \n",
      "TF    MotifID                                                   \n",
      "ASCL1 transfac_pro__M01302                 0.107635  3.989219   \n",
      "      swissregulon__hs__MYFfamily.p2       0.110273  4.123076   \n",
      "ASCL2 dbcorrdb__RCOR1__ENCSR000EFG_1__m4   0.134790  3.670968   \n",
      "      taipale__Ascl2_DBD_RRCAGCTGYY_repr   0.124685  3.248325   \n",
      "      cisbp__M5987                         0.122565  3.159653   \n",
      "\n",
      "                                                                \\\n",
      "                                         MotifSimilarityQvalue   \n",
      "TF    MotifID                                                    \n",
      "ASCL1 transfac_pro__M01302                            0.000986   \n",
      "      swissregulon__hs__MYFfamily.p2                  0.000804   \n",
      "ASCL2 dbcorrdb__RCOR1__ENCSR000EFG_1__m4              0.000098   \n",
      "      taipale__Ascl2_DBD_RRCAGCTGYY_repr              0.000000   \n",
      "      cisbp__M5987                                    0.000000   \n",
      "\n",
      "                                                              \\\n",
      "                                         OrthologousIdentity   \n",
      "TF    MotifID                                                  \n",
      "ASCL1 transfac_pro__M01302                          0.898305   \n",
      "      swissregulon__hs__MYFfamily.p2                0.898305   \n",
      "ASCL2 dbcorrdb__RCOR1__ENCSR000EFG_1__m4            0.683938   \n",
      "      taipale__Ascl2_DBD_RRCAGCTGYY_repr            0.683938   \n",
      "      cisbp__M5987                                  0.683938   \n",
      "\n",
      "                                                                                             \\\n",
      "                                                                                 Annotation   \n",
      "TF    MotifID                                                                                 \n",
      "ASCL1 transfac_pro__M01302                gene is orthologous to ENSMUSG00000020052 in M...   \n",
      "      swissregulon__hs__MYFfamily.p2      gene is orthologous to ENSMUSG00000020052 in M...   \n",
      "ASCL2 dbcorrdb__RCOR1__ENCSR000EFG_1__m4  gene is orthologous to ENSMUSG00000009248 in M...   \n",
      "      taipale__Ascl2_DBD_RRCAGCTGYY_repr  gene is orthologous to ENSMUSG00000009248 in M...   \n",
      "      cisbp__M5987                        gene is orthologous to ENSMUSG00000009248 in M...   \n",
      "\n",
      "                                                                                             \\\n",
      "                                                                                    Context   \n",
      "TF    MotifID                                                                                 \n",
      "ASCL1 transfac_pro__M01302                (weight>75.0%, activating, hg38__refseq-r80__1...   \n",
      "      swissregulon__hs__MYFfamily.p2      (weight>75.0%, activating, hg38__refseq-r80__1...   \n",
      "ASCL2 dbcorrdb__RCOR1__ENCSR000EFG_1__m4  (weight>75.0%, activating, hg38__refseq-r80__1...   \n",
      "      taipale__Ascl2_DBD_RRCAGCTGYY_repr  (weight>75.0%, activating, hg38__refseq-r80__1...   \n",
      "      cisbp__M5987                        (weight>75.0%, activating, hg38__refseq-r80__1...   \n",
      "\n",
      "                                                                                             \\\n",
      "                                                                                TargetGenes   \n",
      "TF    MotifID                                                                                 \n",
      "ASCL1 transfac_pro__M01302                [(SLC9A3R2, 1.9294056370328736), (LSAMP, 1.700...   \n",
      "      swissregulon__hs__MYFfamily.p2      [(GPI, 1.9495237791834032), (SPRY1, 3.31835852...   \n",
      "ASCL2 dbcorrdb__RCOR1__ENCSR000EFG_1__m4  [(LMO1, 2.535278047380773), (CNR1, 1.752524752...   \n",
      "      taipale__Ascl2_DBD_RRCAGCTGYY_repr  [(LMO1, 2.535278047380773), (NTNG2, 1.56643358...   \n",
      "      cisbp__M5987                        [(E2F8, 7.986332290472352), (NR4A3, 1.43851563...   \n",
      "\n",
      "                                                    \n",
      "                                         RankAtMax  \n",
      "TF    MotifID                                       \n",
      "ASCL1 transfac_pro__M01302                     655  \n",
      "      swissregulon__hs__MYFfamily.p2          1019  \n",
      "ASCL2 dbcorrdb__RCOR1__ENCSR000EFG_1__m4      1327  \n",
      "      taipale__Ascl2_DBD_RRCAGCTGYY_repr       975  \n",
      "      cisbp__M5987                             353  \n",
      "Create regulons from a dataframe of enriched features.\n",
      "Additional columns saved: []\n",
      "\n",
      "COMPLETED WRITING DISCOVERED REGULON /home/linl5/project/SCLC/data/lx33/lx33.UU.0.33.regulons.p \n",
      "\n",
      "\n",
      "FINISHED READING ADJACENCIES FILE /home/linl5/project/SCLC/data/lx33/lx33.UUUT.0.33.adjacencies.tsv \n",
      "\n"
     ]
    },
    {
     "name": "stderr",
     "output_type": "stream",
     "text": [
      "\n",
      "2023-08-07 16:38:49,738 - pyscenic.utils - INFO - Calculating Pearson correlations.\n",
      "\n",
      "2023-08-07 16:38:49,766 - pyscenic.utils - WARNING - Note on correlation calculation: the default behaviour for calculating the correlations has changed after pySCENIC verion 0.9.16. Previously, the default was to calculate the correlation between a TF and target gene using only cells with non-zero expression values (mask_dropouts=True). The current default is now to use all cells to match the behavior of the R verision of SCENIC. The original settings can be retained by setting 'rho_mask_dropouts=True' in the modules_from_adjacencies function, or '--mask_dropouts' from the CLI.\n",
      "\tDropout masking is currently set to [False].\n"
     ]
    },
    {
     "name": "stdout",
     "output_type": "stream",
     "text": [
      "\n",
      "FINISHED READING EXPRESSION MATRIX /home/linl5/project/SCLC/results/lx33/lx33.UUUT.0.33.qc.tpm.csv \n",
      "\n"
     ]
    },
    {
     "name": "stderr",
     "output_type": "stream",
     "text": [
      "\n",
      "2023-08-07 16:38:50,727 - pyscenic.utils - INFO - Creating modules.\n"
     ]
    },
    {
     "name": "stdout",
     "output_type": "stream",
     "text": [
      "\n",
      "COMPLETED COEXPRESSION MODULE WRITING: /home/linl5/project/SCLC/data/lx33/lx33.UUUT.0.33.modules.p \n",
      "\n",
      "[                                        ] | 0% Completed | 15.75 sms"
     ]
    },
    {
     "name": "stderr",
     "output_type": "stream",
     "text": [
      "\n",
      "2023-08-07 16:39:12,982 - pyscenic.transform - WARNING - Less than 80% of the genes in CEBPD could be mapped to hg38__refseq-r80__10kb_up_and_down_tss.mc9nr.genes_vs_motifs.rankings. Skipping this module.\n"
     ]
    },
    {
     "name": "stdout",
     "output_type": "stream",
     "text": [
      "[                                        ] | 0% Completed | 26.31 s"
     ]
    },
    {
     "name": "stderr",
     "output_type": "stream",
     "text": [
      "\n",
      "2023-08-07 16:39:23,594 - pyscenic.transform - WARNING - Less than 80% of the genes in EN1 could be mapped to hg38__refseq-r80__10kb_up_and_down_tss.mc9nr.genes_vs_motifs.rankings. Skipping this module.\n"
     ]
    },
    {
     "name": "stdout",
     "output_type": "stream",
     "text": [
      "[                                        ] | 0% Completed | 39.51 s"
     ]
    },
    {
     "name": "stderr",
     "output_type": "stream",
     "text": [
      "\n",
      "2023-08-07 16:39:36,709 - pyscenic.transform - WARNING - Less than 80% of the genes in LTF could be mapped to hg38__refseq-r80__10kb_up_and_down_tss.mc9nr.genes_vs_motifs.rankings. Skipping this module.\n"
     ]
    },
    {
     "name": "stdout",
     "output_type": "stream",
     "text": [
      "[                                        ] | 0% Completed | 44.79 s"
     ]
    },
    {
     "name": "stderr",
     "output_type": "stream",
     "text": [
      "\n",
      "2023-08-07 16:39:42,043 - pyscenic.transform - WARNING - Less than 80% of the genes in ZNF536 could be mapped to hg38__refseq-r80__500bp_up_and_100bp_down_tss.mc9nr.genes_vs_motifs.rankings. Skipping this module.\n"
     ]
    },
    {
     "name": "stdout",
     "output_type": "stream",
     "text": [
      "[####                                    ] | 10% Completed | 48.25 s"
     ]
    },
    {
     "name": "stderr",
     "output_type": "stream",
     "text": [
      "\n",
      "2023-08-07 16:39:45,518 - pyscenic.transform - WARNING - Less than 80% of the genes in NHLH1 could be mapped to hg38__refseq-r80__10kb_up_and_down_tss.mc9nr.genes_vs_motifs.rankings. Skipping this module.\n"
     ]
    },
    {
     "name": "stdout",
     "output_type": "stream",
     "text": [
      "[####                                    ] | 10% Completed | 50.68 s"
     ]
    },
    {
     "name": "stderr",
     "output_type": "stream",
     "text": [
      "\n",
      "2023-08-07 16:39:47,911 - pyscenic.transform - WARNING - Less than 80% of the genes in NR4A2 could be mapped to hg38__refseq-r80__10kb_up_and_down_tss.mc9nr.genes_vs_motifs.rankings. Skipping this module.\n",
      "\n",
      "2023-08-07 16:39:47,980 - pyscenic.transform - WARNING - Less than 80% of the genes in NR4A3 could be mapped to hg38__refseq-r80__10kb_up_and_down_tss.mc9nr.genes_vs_motifs.rankings. Skipping this module.\n"
     ]
    },
    {
     "name": "stdout",
     "output_type": "stream",
     "text": [
      "[####                                    ] | 10% Completed | 50.99 s"
     ]
    },
    {
     "name": "stderr",
     "output_type": "stream",
     "text": [
      "\n",
      "2023-08-07 16:39:48,211 - pyscenic.transform - WARNING - Less than 80% of the genes in OLIG2 could be mapped to hg38__refseq-r80__10kb_up_and_down_tss.mc9nr.genes_vs_motifs.rankings. Skipping this module.\n"
     ]
    },
    {
     "name": "stdout",
     "output_type": "stream",
     "text": [
      "[####                                    ] | 10% Completed | 53.02 s"
     ]
    },
    {
     "name": "stderr",
     "output_type": "stream",
     "text": [
      "\n",
      "2023-08-07 16:39:50,275 - pyscenic.transform - WARNING - Less than 80% of the genes in POU3F1 could be mapped to hg38__refseq-r80__10kb_up_and_down_tss.mc9nr.genes_vs_motifs.rankings. Skipping this module.\n"
     ]
    },
    {
     "name": "stdout",
     "output_type": "stream",
     "text": [
      "[####                                    ] | 10% Completed | 54.85 s"
     ]
    },
    {
     "name": "stderr",
     "output_type": "stream",
     "text": [
      "\n",
      "2023-08-07 16:39:52,113 - pyscenic.transform - WARNING - Less than 80% of the genes in RELB could be mapped to hg38__refseq-r80__10kb_up_and_down_tss.mc9nr.genes_vs_motifs.rankings. Skipping this module.\n"
     ]
    },
    {
     "name": "stdout",
     "output_type": "stream",
     "text": [
      "[####                                    ] | 10% Completed | 56.57 s"
     ]
    },
    {
     "name": "stderr",
     "output_type": "stream",
     "text": [
      "\n",
      "2023-08-07 16:39:53,774 - pyscenic.transform - WARNING - Less than 80% of the genes in SIM1 could be mapped to hg38__refseq-r80__10kb_up_and_down_tss.mc9nr.genes_vs_motifs.rankings. Skipping this module.\n"
     ]
    },
    {
     "name": "stdout",
     "output_type": "stream",
     "text": [
      "[####                                    ] | 10% Completed | 61.35 s"
     ]
    },
    {
     "name": "stderr",
     "output_type": "stream",
     "text": [
      "\n",
      "2023-08-07 16:39:58,533 - pyscenic.transform - WARNING - Less than 80% of the genes in SP5 could be mapped to hg38__refseq-r80__10kb_up_and_down_tss.mc9nr.genes_vs_motifs.rankings. Skipping this module.\n"
     ]
    },
    {
     "name": "stdout",
     "output_type": "stream",
     "text": [
      "[####                                    ] | 10% Completed | 62.06 s"
     ]
    },
    {
     "name": "stderr",
     "output_type": "stream",
     "text": [
      "\n",
      "2023-08-07 16:39:59,333 - pyscenic.transform - WARNING - Less than 80% of the genes in TLX3 could be mapped to hg38__refseq-r80__10kb_up_and_down_tss.mc9nr.genes_vs_motifs.rankings. Skipping this module.\n"
     ]
    },
    {
     "name": "stdout",
     "output_type": "stream",
     "text": [
      "[####                                    ] | 10% Completed | 63.99 s"
     ]
    },
    {
     "name": "stderr",
     "output_type": "stream",
     "text": [
      "\n",
      "2023-08-07 16:40:01,195 - pyscenic.transform - WARNING - Less than 80% of the genes in WT1 could be mapped to hg38__refseq-r80__10kb_up_and_down_tss.mc9nr.genes_vs_motifs.rankings. Skipping this module.\n"
     ]
    },
    {
     "name": "stdout",
     "output_type": "stream",
     "text": [
      "[####                                    ] | 10% Completed | 64.49 s"
     ]
    },
    {
     "name": "stderr",
     "output_type": "stream",
     "text": [
      "\n",
      "2023-08-07 16:40:01,723 - pyscenic.transform - WARNING - Less than 80% of the genes in ZNF556 could be mapped to hg38__refseq-r80__10kb_up_and_down_tss.mc9nr.genes_vs_motifs.rankings. Skipping this module.\n"
     ]
    },
    {
     "name": "stdout",
     "output_type": "stream",
     "text": [
      "[####                                    ] | 10% Completed | 108.75 s"
     ]
    },
    {
     "name": "stderr",
     "output_type": "stream",
     "text": [
      "\n",
      "2023-08-07 16:40:46,011 - pyscenic.transform - WARNING - Less than 80% of the genes in BATF3 could be mapped to hg38__refseq-r80__500bp_up_and_100bp_down_tss.mc9nr.genes_vs_motifs.rankings. Skipping this module.\n"
     ]
    },
    {
     "name": "stdout",
     "output_type": "stream",
     "text": [
      "[####                                    ] | 10% Completed | 111.09 s"
     ]
    },
    {
     "name": "stderr",
     "output_type": "stream",
     "text": [
      "\n",
      "2023-08-07 16:40:48,346 - pyscenic.transform - WARNING - Less than 80% of the genes in CEBPD could be mapped to hg38__refseq-r80__500bp_up_and_100bp_down_tss.mc9nr.genes_vs_motifs.rankings. Skipping this module.\n"
     ]
    },
    {
     "name": "stdout",
     "output_type": "stream",
     "text": [
      "[####                                    ] | 10% Completed | 111.80 s"
     ]
    },
    {
     "name": "stderr",
     "output_type": "stream",
     "text": [
      "\n",
      "2023-08-07 16:40:49,051 - pyscenic.transform - WARNING - Less than 80% of the genes in CREB5 could be mapped to hg38__refseq-r80__500bp_up_and_100bp_down_tss.mc9nr.genes_vs_motifs.rankings. Skipping this module.\n"
     ]
    },
    {
     "name": "stdout",
     "output_type": "stream",
     "text": [
      "[####                                    ] | 10% Completed | 118.00 s"
     ]
    },
    {
     "name": "stderr",
     "output_type": "stream",
     "text": [
      "\n",
      "2023-08-07 16:40:55,264 - pyscenic.transform - WARNING - Less than 80% of the genes in GATA2 could be mapped to hg38__refseq-r80__500bp_up_and_100bp_down_tss.mc9nr.genes_vs_motifs.rankings. Skipping this module.\n"
     ]
    },
    {
     "name": "stdout",
     "output_type": "stream",
     "text": [
      "[####                                    ] | 10% Completed | 118.91 s"
     ]
    },
    {
     "name": "stderr",
     "output_type": "stream",
     "text": [
      "\n",
      "2023-08-07 16:40:56,172 - pyscenic.transform - WARNING - Less than 80% of the genes in HIST1H2BN could be mapped to hg38__refseq-r80__500bp_up_and_100bp_down_tss.mc9nr.genes_vs_motifs.rankings. Skipping this module.\n"
     ]
    },
    {
     "name": "stdout",
     "output_type": "stream",
     "text": [
      "[####                                    ] | 10% Completed | 119.32 s"
     ]
    },
    {
     "name": "stderr",
     "output_type": "stream",
     "text": [
      "\n",
      "2023-08-07 16:40:56,588 - pyscenic.transform - WARNING - Less than 80% of the genes in HTATIP2 could be mapped to hg38__refseq-r80__500bp_up_and_100bp_down_tss.mc9nr.genes_vs_motifs.rankings. Skipping this module.\n"
     ]
    },
    {
     "name": "stdout",
     "output_type": "stream",
     "text": [
      "[####                                    ] | 10% Completed | 119.62 s"
     ]
    },
    {
     "name": "stderr",
     "output_type": "stream",
     "text": [
      "\n",
      "2023-08-07 16:40:56,833 - pyscenic.transform - WARNING - Less than 80% of the genes in ID2 could be mapped to hg38__refseq-r80__500bp_up_and_100bp_down_tss.mc9nr.genes_vs_motifs.rankings. Skipping this module.\n"
     ]
    },
    {
     "name": "stdout",
     "output_type": "stream",
     "text": [
      "[####                                    ] | 10% Completed | 120.84 s"
     ]
    },
    {
     "name": "stderr",
     "output_type": "stream",
     "text": [
      "\n",
      "2023-08-07 16:40:58,061 - pyscenic.transform - WARNING - Less than 80% of the genes in INSM2 could be mapped to hg38__refseq-r80__500bp_up_and_100bp_down_tss.mc9nr.genes_vs_motifs.rankings. Skipping this module.\n"
     ]
    },
    {
     "name": "stdout",
     "output_type": "stream",
     "text": [
      "[####                                    ] | 10% Completed | 121.15 s"
     ]
    },
    {
     "name": "stderr",
     "output_type": "stream",
     "text": [
      "\n",
      "2023-08-07 16:40:58,350 - pyscenic.transform - WARNING - Less than 80% of the genes in ISL1 could be mapped to hg38__refseq-r80__500bp_up_and_100bp_down_tss.mc9nr.genes_vs_motifs.rankings. Skipping this module.\n"
     ]
    },
    {
     "name": "stdout",
     "output_type": "stream",
     "text": [
      "[####                                    ] | 10% Completed | 124.60 s"
     ]
    },
    {
     "name": "stderr",
     "output_type": "stream",
     "text": [
      "\n",
      "2023-08-07 16:41:01,851 - pyscenic.transform - WARNING - Less than 80% of the genes in ZNF536 could be mapped to hg38__refseq-r80__10kb_up_and_down_tss.mc9nr.genes_vs_motifs.rankings. Skipping this module.\n"
     ]
    },
    {
     "name": "stdout",
     "output_type": "stream",
     "text": [
      "[####                                    ] | 10% Completed | 125.82 s"
     ]
    },
    {
     "name": "stderr",
     "output_type": "stream",
     "text": [
      "\n",
      "2023-08-07 16:41:03,100 - pyscenic.transform - WARNING - Less than 80% of the genes in LHX9 could be mapped to hg38__refseq-r80__500bp_up_and_100bp_down_tss.mc9nr.genes_vs_motifs.rankings. Skipping this module.\n"
     ]
    },
    {
     "name": "stdout",
     "output_type": "stream",
     "text": [
      "[####                                    ] | 10% Completed | 126.12 s"
     ]
    },
    {
     "name": "stderr",
     "output_type": "stream",
     "text": [
      "\n",
      "2023-08-07 16:41:03,328 - pyscenic.transform - WARNING - Less than 80% of the genes in LTF could be mapped to hg38__refseq-r80__500bp_up_and_100bp_down_tss.mc9nr.genes_vs_motifs.rankings. Skipping this module.\n"
     ]
    },
    {
     "name": "stdout",
     "output_type": "stream",
     "text": [
      "[####                                    ] | 10% Completed | 135.27 s"
     ]
    },
    {
     "name": "stderr",
     "output_type": "stream",
     "text": [
      "\n",
      "2023-08-07 16:41:12,469 - pyscenic.transform - WARNING - Less than 80% of the genes in NEUROG1 could be mapped to hg38__refseq-r80__500bp_up_and_100bp_down_tss.mc9nr.genes_vs_motifs.rankings. Skipping this module.\n"
     ]
    },
    {
     "name": "stdout",
     "output_type": "stream",
     "text": [
      "[####                                    ] | 10% Completed | 135.58 s"
     ]
    },
    {
     "name": "stderr",
     "output_type": "stream",
     "text": [
      "\n",
      "2023-08-07 16:41:12,798 - pyscenic.transform - WARNING - Less than 80% of the genes in NHLH1 could be mapped to hg38__refseq-r80__500bp_up_and_100bp_down_tss.mc9nr.genes_vs_motifs.rankings. Skipping this module.\n"
     ]
    },
    {
     "name": "stdout",
     "output_type": "stream",
     "text": [
      "[####                                    ] | 10% Completed | 138.02 s"
     ]
    },
    {
     "name": "stderr",
     "output_type": "stream",
     "text": [
      "\n",
      "2023-08-07 16:41:15,230 - pyscenic.transform - WARNING - Less than 80% of the genes in NR4A3 could be mapped to hg38__refseq-r80__500bp_up_and_100bp_down_tss.mc9nr.genes_vs_motifs.rankings. Skipping this module.\n"
     ]
    },
    {
     "name": "stdout",
     "output_type": "stream",
     "text": [
      "[####                                    ] | 10% Completed | 140.66 s"
     ]
    },
    {
     "name": "stderr",
     "output_type": "stream",
     "text": [
      "\n",
      "2023-08-07 16:41:17,933 - pyscenic.transform - WARNING - Less than 80% of the genes in POU3F1 could be mapped to hg38__refseq-r80__500bp_up_and_100bp_down_tss.mc9nr.genes_vs_motifs.rankings. Skipping this module.\n"
     ]
    },
    {
     "name": "stdout",
     "output_type": "stream",
     "text": [
      "[####                                    ] | 10% Completed | 143.10 s"
     ]
    },
    {
     "name": "stderr",
     "output_type": "stream",
     "text": [
      "\n",
      "2023-08-07 16:41:20,320 - pyscenic.transform - WARNING - Less than 80% of the genes in SIM1 could be mapped to hg38__refseq-r80__500bp_up_and_100bp_down_tss.mc9nr.genes_vs_motifs.rankings. Skipping this module.\n"
     ]
    },
    {
     "name": "stdout",
     "output_type": "stream",
     "text": [
      "[####                                    ] | 10% Completed | 143.92 s"
     ]
    },
    {
     "name": "stderr",
     "output_type": "stream",
     "text": [
      "\n",
      "2023-08-07 16:41:21,119 - pyscenic.transform - WARNING - Less than 80% of the genes in SNAI1 could be mapped to hg38__refseq-r80__500bp_up_and_100bp_down_tss.mc9nr.genes_vs_motifs.rankings. Skipping this module.\n"
     ]
    },
    {
     "name": "stdout",
     "output_type": "stream",
     "text": [
      "[####                                    ] | 10% Completed | 146.15 s"
     ]
    },
    {
     "name": "stderr",
     "output_type": "stream",
     "text": [
      "\n",
      "2023-08-07 16:41:23,429 - pyscenic.transform - WARNING - Less than 80% of the genes in SP5 could be mapped to hg38__refseq-r80__500bp_up_and_100bp_down_tss.mc9nr.genes_vs_motifs.rankings. Skipping this module.\n"
     ]
    },
    {
     "name": "stdout",
     "output_type": "stream",
     "text": [
      "[####                                    ] | 10% Completed | 146.66 s"
     ]
    },
    {
     "name": "stderr",
     "output_type": "stream",
     "text": [
      "\n",
      "2023-08-07 16:41:23,886 - pyscenic.transform - WARNING - Less than 80% of the genes in TFF3 could be mapped to hg38__refseq-r80__500bp_up_and_100bp_down_tss.mc9nr.genes_vs_motifs.rankings. Skipping this module.\n"
     ]
    },
    {
     "name": "stdout",
     "output_type": "stream",
     "text": [
      "[####                                    ] | 10% Completed | 153.07 s"
     ]
    },
    {
     "name": "stderr",
     "output_type": "stream",
     "text": [
      "\n",
      "2023-08-07 16:41:30,328 - pyscenic.transform - WARNING - Less than 80% of the genes in CEBPD could be mapped to hg38__refseq-r80__500bp_up_and_100bp_down_tss.mc9nr.genes_vs_motifs.rankings. Skipping this module.\n"
     ]
    },
    {
     "name": "stdout",
     "output_type": "stream",
     "text": [
      "[####                                    ] | 10% Completed | 162.02 s"
     ]
    },
    {
     "name": "stderr",
     "output_type": "stream",
     "text": [
      "\n",
      "2023-08-07 16:41:39,222 - pyscenic.transform - WARNING - Less than 80% of the genes in EN1 could be mapped to hg38__refseq-r80__500bp_up_and_100bp_down_tss.mc9nr.genes_vs_motifs.rankings. Skipping this module.\n"
     ]
    },
    {
     "name": "stdout",
     "output_type": "stream",
     "text": [
      "[####                                    ] | 10% Completed | 173.20 s"
     ]
    },
    {
     "name": "stderr",
     "output_type": "stream",
     "text": [
      "\n",
      "2023-08-07 16:41:50,479 - pyscenic.transform - WARNING - Less than 80% of the genes in LTF could be mapped to hg38__refseq-r80__500bp_up_and_100bp_down_tss.mc9nr.genes_vs_motifs.rankings. Skipping this module.\n"
     ]
    },
    {
     "name": "stdout",
     "output_type": "stream",
     "text": [
      "[####                                    ] | 10% Completed | 181.84 s"
     ]
    },
    {
     "name": "stderr",
     "output_type": "stream",
     "text": [
      "\n",
      "2023-08-07 16:41:59,052 - pyscenic.transform - WARNING - Less than 80% of the genes in NHLH1 could be mapped to hg38__refseq-r80__500bp_up_and_100bp_down_tss.mc9nr.genes_vs_motifs.rankings. Skipping this module.\n"
     ]
    },
    {
     "name": "stdout",
     "output_type": "stream",
     "text": [
      "[####                                    ] | 10% Completed | 183.47 s"
     ]
    },
    {
     "name": "stderr",
     "output_type": "stream",
     "text": [
      "\n",
      "2023-08-07 16:42:00,665 - pyscenic.transform - WARNING - Less than 80% of the genes in NR4A2 could be mapped to hg38__refseq-r80__500bp_up_and_100bp_down_tss.mc9nr.genes_vs_motifs.rankings. Skipping this module.\n",
      "\n",
      "2023-08-07 16:42:00,731 - pyscenic.transform - WARNING - Less than 80% of the genes in NR4A3 could be mapped to hg38__refseq-r80__500bp_up_and_100bp_down_tss.mc9nr.genes_vs_motifs.rankings. Skipping this module.\n"
     ]
    },
    {
     "name": "stdout",
     "output_type": "stream",
     "text": [
      "[####                                    ] | 10% Completed | 183.77 s"
     ]
    },
    {
     "name": "stderr",
     "output_type": "stream",
     "text": [
      "\n",
      "2023-08-07 16:42:00,980 - pyscenic.transform - WARNING - Less than 80% of the genes in OLIG2 could be mapped to hg38__refseq-r80__500bp_up_and_100bp_down_tss.mc9nr.genes_vs_motifs.rankings. Skipping this module.\n"
     ]
    },
    {
     "name": "stdout",
     "output_type": "stream",
     "text": [
      "[####                                    ] | 10% Completed | 187.13 s"
     ]
    },
    {
     "name": "stderr",
     "output_type": "stream",
     "text": [
      "\n",
      "2023-08-07 16:42:04,396 - pyscenic.transform - WARNING - Less than 80% of the genes in POU3F1 could be mapped to hg38__refseq-r80__500bp_up_and_100bp_down_tss.mc9nr.genes_vs_motifs.rankings. Skipping this module.\n"
     ]
    },
    {
     "name": "stdout",
     "output_type": "stream",
     "text": [
      "[####                                    ] | 10% Completed | 189.57 s"
     ]
    },
    {
     "name": "stderr",
     "output_type": "stream",
     "text": [
      "\n",
      "2023-08-07 16:42:06,835 - pyscenic.transform - WARNING - Less than 80% of the genes in RELB could be mapped to hg38__refseq-r80__500bp_up_and_100bp_down_tss.mc9nr.genes_vs_motifs.rankings. Skipping this module.\n"
     ]
    },
    {
     "name": "stdout",
     "output_type": "stream",
     "text": [
      "[####                                    ] | 10% Completed | 190.38 s"
     ]
    },
    {
     "name": "stderr",
     "output_type": "stream",
     "text": [
      "\n",
      "2023-08-07 16:42:07,637 - pyscenic.transform - WARNING - Less than 80% of the genes in SIM1 could be mapped to hg38__refseq-r80__500bp_up_and_100bp_down_tss.mc9nr.genes_vs_motifs.rankings. Skipping this module.\n"
     ]
    },
    {
     "name": "stdout",
     "output_type": "stream",
     "text": [
      "[####                                    ] | 10% Completed | 194.35 s"
     ]
    },
    {
     "name": "stderr",
     "output_type": "stream",
     "text": [
      "\n",
      "2023-08-07 16:42:11,629 - pyscenic.transform - WARNING - Less than 80% of the genes in SP5 could be mapped to hg38__refseq-r80__500bp_up_and_100bp_down_tss.mc9nr.genes_vs_motifs.rankings. Skipping this module.\n"
     ]
    },
    {
     "name": "stdout",
     "output_type": "stream",
     "text": [
      "[####                                    ] | 10% Completed | 195.16 s"
     ]
    },
    {
     "name": "stderr",
     "output_type": "stream",
     "text": [
      "\n",
      "2023-08-07 16:42:12,433 - pyscenic.transform - WARNING - Less than 80% of the genes in TLX3 could be mapped to hg38__refseq-r80__500bp_up_and_100bp_down_tss.mc9nr.genes_vs_motifs.rankings. Skipping this module.\n"
     ]
    },
    {
     "name": "stdout",
     "output_type": "stream",
     "text": [
      "[####                                    ] | 10% Completed | 195.77 s"
     ]
    },
    {
     "name": "stderr",
     "output_type": "stream",
     "text": [
      "\n",
      "2023-08-07 16:42:12,999 - pyscenic.transform - WARNING - Less than 80% of the genes in WT1 could be mapped to hg38__refseq-r80__500bp_up_and_100bp_down_tss.mc9nr.genes_vs_motifs.rankings. Skipping this module.\n"
     ]
    },
    {
     "name": "stdout",
     "output_type": "stream",
     "text": [
      "[####                                    ] | 10% Completed | 196.28 s"
     ]
    },
    {
     "name": "stderr",
     "output_type": "stream",
     "text": [
      "\n",
      "2023-08-07 16:42:13,549 - pyscenic.transform - WARNING - Less than 80% of the genes in ZNF556 could be mapped to hg38__refseq-r80__500bp_up_and_100bp_down_tss.mc9nr.genes_vs_motifs.rankings. Skipping this module.\n"
     ]
    },
    {
     "name": "stdout",
     "output_type": "stream",
     "text": [
      "[####                                    ] | 10% Completed | 196.78 s"
     ]
    },
    {
     "name": "stderr",
     "output_type": "stream",
     "text": [
      "\n",
      "2023-08-07 16:42:14,030 - pyscenic.transform - WARNING - Less than 80% of the genes in BATF3 could be mapped to hg38__refseq-r80__10kb_up_and_down_tss.mc9nr.genes_vs_motifs.rankings. Skipping this module.\n"
     ]
    },
    {
     "name": "stdout",
     "output_type": "stream",
     "text": [
      "[####                                    ] | 10% Completed | 199.53 s"
     ]
    },
    {
     "name": "stderr",
     "output_type": "stream",
     "text": [
      "\n",
      "2023-08-07 16:42:16,797 - pyscenic.transform - WARNING - Less than 80% of the genes in CEBPD could be mapped to hg38__refseq-r80__10kb_up_and_down_tss.mc9nr.genes_vs_motifs.rankings. Skipping this module.\n"
     ]
    },
    {
     "name": "stdout",
     "output_type": "stream",
     "text": [
      "[####                                    ] | 10% Completed | 201.56 s"
     ]
    },
    {
     "name": "stderr",
     "output_type": "stream",
     "text": [
      "\n",
      "2023-08-07 16:42:18,791 - pyscenic.transform - WARNING - Less than 80% of the genes in CREB5 could be mapped to hg38__refseq-r80__10kb_up_and_down_tss.mc9nr.genes_vs_motifs.rankings. Skipping this module.\n"
     ]
    },
    {
     "name": "stdout",
     "output_type": "stream",
     "text": [
      "[############################            ] | 70% Completed | 213.82 s"
     ]
    },
    {
     "name": "stderr",
     "output_type": "stream",
     "text": [
      "\n",
      "2023-08-07 16:42:31,062 - pyscenic.transform - WARNING - Less than 80% of the genes in GATA2 could be mapped to hg38__refseq-r80__10kb_up_and_down_tss.mc9nr.genes_vs_motifs.rankings. Skipping this module.\n"
     ]
    },
    {
     "name": "stdout",
     "output_type": "stream",
     "text": [
      "[############################            ] | 70% Completed | 214.73 s"
     ]
    },
    {
     "name": "stderr",
     "output_type": "stream",
     "text": [
      "\n",
      "2023-08-07 16:42:31,949 - pyscenic.transform - WARNING - Less than 80% of the genes in HIST1H2BN could be mapped to hg38__refseq-r80__10kb_up_and_down_tss.mc9nr.genes_vs_motifs.rankings. Skipping this module.\n"
     ]
    },
    {
     "name": "stdout",
     "output_type": "stream",
     "text": [
      "[############################            ] | 70% Completed | 215.13 s"
     ]
    },
    {
     "name": "stderr",
     "output_type": "stream",
     "text": [
      "\n",
      "2023-08-07 16:42:32,360 - pyscenic.transform - WARNING - Less than 80% of the genes in HTATIP2 could be mapped to hg38__refseq-r80__10kb_up_and_down_tss.mc9nr.genes_vs_motifs.rankings. Skipping this module.\n"
     ]
    },
    {
     "name": "stdout",
     "output_type": "stream",
     "text": [
      "[############################            ] | 70% Completed | 215.34 s"
     ]
    },
    {
     "name": "stderr",
     "output_type": "stream",
     "text": [
      "\n",
      "2023-08-07 16:42:32,606 - pyscenic.transform - WARNING - Less than 80% of the genes in ID2 could be mapped to hg38__refseq-r80__10kb_up_and_down_tss.mc9nr.genes_vs_motifs.rankings. Skipping this module.\n"
     ]
    },
    {
     "name": "stdout",
     "output_type": "stream",
     "text": [
      "[############################            ] | 70% Completed | 215.74 s"
     ]
    },
    {
     "name": "stderr",
     "output_type": "stream",
     "text": [
      "\n",
      "2023-08-07 16:42:32,936 - pyscenic.transform - WARNING - Less than 80% of the genes in INSM2 could be mapped to hg38__refseq-r80__10kb_up_and_down_tss.mc9nr.genes_vs_motifs.rankings. Skipping this module.\n"
     ]
    },
    {
     "name": "stdout",
     "output_type": "stream",
     "text": [
      "[############################            ] | 70% Completed | 216.45 s"
     ]
    },
    {
     "name": "stderr",
     "output_type": "stream",
     "text": [
      "\n",
      "2023-08-07 16:42:33,736 - pyscenic.transform - WARNING - Less than 80% of the genes in ISL1 could be mapped to hg38__refseq-r80__10kb_up_and_down_tss.mc9nr.genes_vs_motifs.rankings. Skipping this module.\n"
     ]
    },
    {
     "name": "stdout",
     "output_type": "stream",
     "text": [
      "[############################            ] | 70% Completed | 220.91 s"
     ]
    },
    {
     "name": "stderr",
     "output_type": "stream",
     "text": [
      "\n",
      "2023-08-07 16:42:38,167 - pyscenic.transform - WARNING - Less than 80% of the genes in LHX9 could be mapped to hg38__refseq-r80__10kb_up_and_down_tss.mc9nr.genes_vs_motifs.rankings. Skipping this module.\n"
     ]
    },
    {
     "name": "stdout",
     "output_type": "stream",
     "text": [
      "[############################            ] | 70% Completed | 221.12 s"
     ]
    },
    {
     "name": "stderr",
     "output_type": "stream",
     "text": [
      "\n",
      "2023-08-07 16:42:38,395 - pyscenic.transform - WARNING - Less than 80% of the genes in LTF could be mapped to hg38__refseq-r80__10kb_up_and_down_tss.mc9nr.genes_vs_motifs.rankings. Skipping this module.\n"
     ]
    },
    {
     "name": "stdout",
     "output_type": "stream",
     "text": [
      "[############################            ] | 70% Completed | 227.31 s"
     ]
    },
    {
     "name": "stderr",
     "output_type": "stream",
     "text": [
      "\n",
      "2023-08-07 16:42:44,548 - pyscenic.transform - WARNING - Less than 80% of the genes in NEUROG1 could be mapped to hg38__refseq-r80__10kb_up_and_down_tss.mc9nr.genes_vs_motifs.rankings. Skipping this module.\n"
     ]
    },
    {
     "name": "stdout",
     "output_type": "stream",
     "text": [
      "[############################            ] | 70% Completed | 228.12 s"
     ]
    },
    {
     "name": "stderr",
     "output_type": "stream",
     "text": [
      "\n",
      "2023-08-07 16:42:45,354 - pyscenic.transform - WARNING - Less than 80% of the genes in NHLH1 could be mapped to hg38__refseq-r80__10kb_up_and_down_tss.mc9nr.genes_vs_motifs.rankings. Skipping this module.\n"
     ]
    },
    {
     "name": "stdout",
     "output_type": "stream",
     "text": [
      "[############################            ] | 70% Completed | 228.73 s"
     ]
    },
    {
     "name": "stderr",
     "output_type": "stream",
     "text": [
      "\n",
      "2023-08-07 16:42:45,991 - pyscenic.transform - WARNING - Less than 80% of the genes in NR4A3 could be mapped to hg38__refseq-r80__10kb_up_and_down_tss.mc9nr.genes_vs_motifs.rankings. Skipping this module.\n"
     ]
    },
    {
     "name": "stdout",
     "output_type": "stream",
     "text": [
      "[############################            ] | 70% Completed | 230.86 s"
     ]
    },
    {
     "name": "stderr",
     "output_type": "stream",
     "text": [
      "\n",
      "2023-08-07 16:42:48,095 - pyscenic.transform - WARNING - Less than 80% of the genes in POU3F1 could be mapped to hg38__refseq-r80__10kb_up_and_down_tss.mc9nr.genes_vs_motifs.rankings. Skipping this module.\n"
     ]
    },
    {
     "name": "stdout",
     "output_type": "stream",
     "text": [
      "[############################            ] | 70% Completed | 234.41 s"
     ]
    },
    {
     "name": "stderr",
     "output_type": "stream",
     "text": [
      "\n",
      "2023-08-07 16:42:51,690 - pyscenic.transform - WARNING - Less than 80% of the genes in SIM1 could be mapped to hg38__refseq-r80__10kb_up_and_down_tss.mc9nr.genes_vs_motifs.rankings. Skipping this module.\n"
     ]
    },
    {
     "name": "stdout",
     "output_type": "stream",
     "text": [
      "[############################            ] | 70% Completed | 236.34 s"
     ]
    },
    {
     "name": "stderr",
     "output_type": "stream",
     "text": [
      "\n",
      "2023-08-07 16:42:53,542 - pyscenic.transform - WARNING - Less than 80% of the genes in SNAI1 could be mapped to hg38__refseq-r80__10kb_up_and_down_tss.mc9nr.genes_vs_motifs.rankings. Skipping this module.\n"
     ]
    },
    {
     "name": "stdout",
     "output_type": "stream",
     "text": [
      "[############################            ] | 70% Completed | 240.40 s"
     ]
    },
    {
     "name": "stderr",
     "output_type": "stream",
     "text": [
      "\n",
      "2023-08-07 16:42:57,685 - pyscenic.transform - WARNING - Less than 80% of the genes in SP5 could be mapped to hg38__refseq-r80__10kb_up_and_down_tss.mc9nr.genes_vs_motifs.rankings. Skipping this module.\n"
     ]
    },
    {
     "name": "stdout",
     "output_type": "stream",
     "text": [
      "[############################            ] | 70% Completed | 240.91 s"
     ]
    },
    {
     "name": "stderr",
     "output_type": "stream",
     "text": [
      "\n",
      "2023-08-07 16:42:58,157 - pyscenic.transform - WARNING - Less than 80% of the genes in TFF3 could be mapped to hg38__refseq-r80__10kb_up_and_down_tss.mc9nr.genes_vs_motifs.rankings. Skipping this module.\n"
     ]
    },
    {
     "name": "stdout",
     "output_type": "stream",
     "text": [
      "[########################################] | 100% Completed | 242.58 s\n",
      "\n",
      "COMPLETED WRITING ENRICHED MOTIFS /home/linl5/project/SCLC/data/lx33/lx33.UUUT.0.33.motifs.csv \n",
      "\n",
      "                                                  Enrichment            \\\n",
      "                                                         AUC       NES   \n",
      "TF    MotifID                                                            \n",
      "ASCL2 dbcorrdb__TCF12__ENCSR000BGZ_1__m1            0.110078  4.259958   \n",
      "      transfac_pro__M02737                          0.089683  3.116124   \n",
      "ATF3  swissregulon__hs__FOS_FOS_B_L1__JUN_B_D_.p2   0.080327  3.217880   \n",
      "      hocomoco__FOS_HUMAN.H11MO.0.A                 0.078251  3.036769   \n",
      "      hocomoco__JUNB_MOUSE.H11MO.0.A                0.079459  3.142146   \n",
      "\n",
      "                                                                         \\\n",
      "                                                  MotifSimilarityQvalue   \n",
      "TF    MotifID                                                             \n",
      "ASCL2 dbcorrdb__TCF12__ENCSR000BGZ_1__m1                       0.000080   \n",
      "      transfac_pro__M02737                                     0.000000   \n",
      "ATF3  swissregulon__hs__FOS_FOS_B_L1__JUN_B_D_.p2              0.000701   \n",
      "      hocomoco__FOS_HUMAN.H11MO.0.A                            0.000454   \n",
      "      hocomoco__JUNB_MOUSE.H11MO.0.A                           0.000136   \n",
      "\n",
      "                                                                       \\\n",
      "                                                  OrthologousIdentity   \n",
      "TF    MotifID                                                           \n",
      "ASCL2 dbcorrdb__TCF12__ENCSR000BGZ_1__m1                     1.000000   \n",
      "      transfac_pro__M02737                                   0.683938   \n",
      "ATF3  swissregulon__hs__FOS_FOS_B_L1__JUN_B_D_.p2            1.000000   \n",
      "      hocomoco__FOS_HUMAN.H11MO.0.A                          1.000000   \n",
      "      hocomoco__JUNB_MOUSE.H11MO.0.A                         1.000000   \n",
      "\n",
      "                                                                                                      \\\n",
      "                                                                                          Annotation   \n",
      "TF    MotifID                                                                                          \n",
      "ASCL2 dbcorrdb__TCF12__ENCSR000BGZ_1__m1           motif similar to taipale_cyt_meth__ASCL2_NRCAG...   \n",
      "      transfac_pro__M02737                         gene is orthologous to ENSMUSG00000009248 in M...   \n",
      "ATF3  swissregulon__hs__FOS_FOS_B_L1__JUN_B_D_.p2  gene is annotated for similar motif cisbp__M46...   \n",
      "      hocomoco__FOS_HUMAN.H11MO.0.A                gene is annotated for similar motif homer__DAT...   \n",
      "      hocomoco__JUNB_MOUSE.H11MO.0.A               gene is annotated for similar motif homer__DAT...   \n",
      "\n",
      "                                                                                                      \\\n",
      "                                                                                             Context   \n",
      "TF    MotifID                                                                                          \n",
      "ASCL2 dbcorrdb__TCF12__ENCSR000BGZ_1__m1           (weight>75.0%, activating, hg38__refseq-r80__1...   \n",
      "      transfac_pro__M02737                         (weight>75.0%, activating, hg38__refseq-r80__1...   \n",
      "ATF3  swissregulon__hs__FOS_FOS_B_L1__JUN_B_D_.p2  (weight>75.0%, activating, hg38__refseq-r80__1...   \n",
      "      hocomoco__FOS_HUMAN.H11MO.0.A                (weight>75.0%, activating, hg38__refseq-r80__1...   \n",
      "      hocomoco__JUNB_MOUSE.H11MO.0.A               (weight>75.0%, activating, hg38__refseq-r80__1...   \n",
      "\n",
      "                                                                                                      \\\n",
      "                                                                                         TargetGenes   \n",
      "TF    MotifID                                                                                          \n",
      "ASCL2 dbcorrdb__TCF12__ENCSR000BGZ_1__m1           [(CPLX3, 2.016860438292181), (GNB3, 8.81643760...   \n",
      "      transfac_pro__M02737                         [(PIM1, 1.2964516197735452), (LAMC2, 7.1426348...   \n",
      "ATF3  swissregulon__hs__FOS_FOS_B_L1__JUN_B_D_.p2  [(ZFP36L1, 2.629817417788706), (NR4A3, 2.98016...   \n",
      "      hocomoco__FOS_HUMAN.H11MO.0.A                [(ISL1, 3.030253537878375), (ZEB2, 7.105297692...   \n",
      "      hocomoco__JUNB_MOUSE.H11MO.0.A               [(NR4A3, 2.9801620560970927), (NR4A1, 10.28958...   \n",
      "\n",
      "                                                             \n",
      "                                                  RankAtMax  \n",
      "TF    MotifID                                                \n",
      "ASCL2 dbcorrdb__TCF12__ENCSR000BGZ_1__m1               1493  \n",
      "      transfac_pro__M02737                              826  \n",
      "ATF3  swissregulon__hs__FOS_FOS_B_L1__JUN_B_D_.p2      1289  \n",
      "      hocomoco__FOS_HUMAN.H11MO.0.A                     537  \n",
      "      hocomoco__JUNB_MOUSE.H11MO.0.A                   1340  \n",
      "Create regulons from a dataframe of enriched features.\n",
      "Additional columns saved: []\n",
      "\n",
      "COMPLETED WRITING DISCOVERED REGULON /home/linl5/project/SCLC/data/lx33/lx33.UUUT.0.33.regulons.p \n",
      "\n",
      "\n",
      "FINISHED READING ADJACENCIES FILE /home/linl5/project/SCLC/data/lx33/lx33.UUUU.0.33.adjacencies.tsv \n",
      "\n"
     ]
    },
    {
     "name": "stderr",
     "output_type": "stream",
     "text": [
      "\n",
      "2023-08-07 16:43:02,268 - pyscenic.utils - INFO - Calculating Pearson correlations.\n",
      "\n",
      "2023-08-07 16:43:02,285 - pyscenic.utils - WARNING - Note on correlation calculation: the default behaviour for calculating the correlations has changed after pySCENIC verion 0.9.16. Previously, the default was to calculate the correlation between a TF and target gene using only cells with non-zero expression values (mask_dropouts=True). The current default is now to use all cells to match the behavior of the R verision of SCENIC. The original settings can be retained by setting 'rho_mask_dropouts=True' in the modules_from_adjacencies function, or '--mask_dropouts' from the CLI.\n",
      "\tDropout masking is currently set to [False].\n"
     ]
    },
    {
     "name": "stdout",
     "output_type": "stream",
     "text": [
      "\n",
      "FINISHED READING EXPRESSION MATRIX /home/linl5/project/SCLC/results/lx33/lx33.UUUU.0.33.qc.tpm.csv \n",
      "\n"
     ]
    },
    {
     "name": "stderr",
     "output_type": "stream",
     "text": [
      "\n",
      "2023-08-07 16:43:03,114 - pyscenic.utils - INFO - Creating modules.\n"
     ]
    },
    {
     "name": "stdout",
     "output_type": "stream",
     "text": [
      "\n",
      "COMPLETED COEXPRESSION MODULE WRITING: /home/linl5/project/SCLC/data/lx33/lx33.UUUU.0.33.modules.p \n",
      "\n",
      "[                                        ] | 0% Completed | 11.99 sms"
     ]
    },
    {
     "name": "stderr",
     "output_type": "stream",
     "text": [
      "\n",
      "2023-08-07 16:43:21,064 - pyscenic.transform - WARNING - Less than 80% of the genes in DMBX1 could be mapped to hg38__refseq-r80__500bp_up_and_100bp_down_tss.mc9nr.genes_vs_motifs.rankings. Skipping this module.\n"
     ]
    },
    {
     "name": "stdout",
     "output_type": "stream",
     "text": [
      "[                                        ] | 0% Completed | 17.78 s"
     ]
    },
    {
     "name": "stderr",
     "output_type": "stream",
     "text": [
      "\n",
      "2023-08-07 16:43:26,864 - pyscenic.transform - WARNING - Less than 80% of the genes in EN1 could be mapped to hg38__refseq-r80__500bp_up_and_100bp_down_tss.mc9nr.genes_vs_motifs.rankings. Skipping this module.\n"
     ]
    },
    {
     "name": "stdout",
     "output_type": "stream",
     "text": [
      "[                                        ] | 0% Completed | 19.81 s"
     ]
    },
    {
     "name": "stderr",
     "output_type": "stream",
     "text": [
      "\n",
      "2023-08-07 16:43:28,820 - pyscenic.transform - WARNING - Less than 80% of the genes in FOXL2 could be mapped to hg38__refseq-r80__500bp_up_and_100bp_down_tss.mc9nr.genes_vs_motifs.rankings. Skipping this module.\n"
     ]
    },
    {
     "name": "stdout",
     "output_type": "stream",
     "text": [
      "[                                        ] | 0% Completed | 21.64 s"
     ]
    },
    {
     "name": "stderr",
     "output_type": "stream",
     "text": [
      "\n",
      "2023-08-07 16:43:30,684 - pyscenic.transform - WARNING - Less than 80% of the genes in HES4 could be mapped to hg38__refseq-r80__500bp_up_and_100bp_down_tss.mc9nr.genes_vs_motifs.rankings. Skipping this module.\n"
     ]
    },
    {
     "name": "stdout",
     "output_type": "stream",
     "text": [
      "[                                        ] | 0% Completed | 23.26 s"
     ]
    },
    {
     "name": "stderr",
     "output_type": "stream",
     "text": [
      "\n",
      "2023-08-07 16:43:32,246 - pyscenic.transform - WARNING - Less than 80% of the genes in HHAT could be mapped to hg38__refseq-r80__500bp_up_and_100bp_down_tss.mc9nr.genes_vs_motifs.rankings. Skipping this module.\n",
      "\n",
      "2023-08-07 16:43:32,350 - pyscenic.transform - WARNING - Less than 80% of the genes in HIST1H2BN could be mapped to hg38__refseq-r80__500bp_up_and_100bp_down_tss.mc9nr.genes_vs_motifs.rankings. Skipping this module.\n"
     ]
    },
    {
     "name": "stdout",
     "output_type": "stream",
     "text": [
      "[                                        ] | 0% Completed | 24.17 s"
     ]
    },
    {
     "name": "stderr",
     "output_type": "stream",
     "text": [
      "\n",
      "2023-08-07 16:43:33,214 - pyscenic.transform - WARNING - Less than 80% of the genes in IKZF3 could be mapped to hg38__refseq-r80__500bp_up_and_100bp_down_tss.mc9nr.genes_vs_motifs.rankings. Skipping this module.\n"
     ]
    },
    {
     "name": "stdout",
     "output_type": "stream",
     "text": [
      "[                                        ] | 0% Completed | 24.57 s"
     ]
    },
    {
     "name": "stderr",
     "output_type": "stream",
     "text": [
      "\n",
      "2023-08-07 16:43:33,602 - pyscenic.transform - WARNING - Less than 80% of the genes in IRX1 could be mapped to hg38__refseq-r80__500bp_up_and_100bp_down_tss.mc9nr.genes_vs_motifs.rankings. Skipping this module.\n"
     ]
    },
    {
     "name": "stdout",
     "output_type": "stream",
     "text": [
      "[                                        ] | 0% Completed | 27.40 s"
     ]
    },
    {
     "name": "stderr",
     "output_type": "stream",
     "text": [
      "\n",
      "2023-08-07 16:43:36,402 - pyscenic.transform - WARNING - Less than 80% of the genes in LHX3 could be mapped to hg38__refseq-r80__500bp_up_and_100bp_down_tss.mc9nr.genes_vs_motifs.rankings. Skipping this module.\n"
     ]
    },
    {
     "name": "stdout",
     "output_type": "stream",
     "text": [
      "[                                        ] | 0% Completed | 27.61 s"
     ]
    },
    {
     "name": "stderr",
     "output_type": "stream",
     "text": [
      "\n",
      "2023-08-07 16:43:36,625 - pyscenic.transform - WARNING - Less than 80% of the genes in LHX9 could be mapped to hg38__refseq-r80__500bp_up_and_100bp_down_tss.mc9nr.genes_vs_motifs.rankings. Skipping this module.\n"
     ]
    },
    {
     "name": "stdout",
     "output_type": "stream",
     "text": [
      "[                                        ] | 0% Completed | 27.81 s"
     ]
    },
    {
     "name": "stderr",
     "output_type": "stream",
     "text": [
      "\n",
      "2023-08-07 16:43:36,854 - pyscenic.transform - WARNING - Less than 80% of the genes in LTF could be mapped to hg38__refseq-r80__500bp_up_and_100bp_down_tss.mc9nr.genes_vs_motifs.rankings. Skipping this module.\n"
     ]
    },
    {
     "name": "stdout",
     "output_type": "stream",
     "text": [
      "[                                        ] | 0% Completed | 34.80 s"
     ]
    },
    {
     "name": "stderr",
     "output_type": "stream",
     "text": [
      "\n",
      "2023-08-07 16:43:43,847 - pyscenic.transform - WARNING - Less than 80% of the genes in NANOS1 could be mapped to hg38__refseq-r80__500bp_up_and_100bp_down_tss.mc9nr.genes_vs_motifs.rankings. Skipping this module.\n"
     ]
    },
    {
     "name": "stdout",
     "output_type": "stream",
     "text": [
      "[                                        ] | 0% Completed | 35.91 s"
     ]
    },
    {
     "name": "stderr",
     "output_type": "stream",
     "text": [
      "\n",
      "2023-08-07 16:43:44,899 - pyscenic.transform - WARNING - Less than 80% of the genes in NKX2-5 could be mapped to hg38__refseq-r80__500bp_up_and_100bp_down_tss.mc9nr.genes_vs_motifs.rankings. Skipping this module.\n"
     ]
    },
    {
     "name": "stdout",
     "output_type": "stream",
     "text": [
      "[                                        ] | 0% Completed | 38.66 s"
     ]
    },
    {
     "name": "stderr",
     "output_type": "stream",
     "text": [
      "\n",
      "2023-08-07 16:43:47,694 - pyscenic.transform - WARNING - Less than 80% of the genes in OLIG2 could be mapped to hg38__refseq-r80__500bp_up_and_100bp_down_tss.mc9nr.genes_vs_motifs.rankings. Skipping this module.\n"
     ]
    },
    {
     "name": "stdout",
     "output_type": "stream",
     "text": [
      "[                                        ] | 0% Completed | 40.18 s"
     ]
    },
    {
     "name": "stderr",
     "output_type": "stream",
     "text": [
      "\n",
      "2023-08-07 16:43:49,192 - pyscenic.transform - WARNING - Less than 80% of the genes in POU2F2 could be mapped to hg38__refseq-r80__500bp_up_and_100bp_down_tss.mc9nr.genes_vs_motifs.rankings. Skipping this module.\n"
     ]
    },
    {
     "name": "stdout",
     "output_type": "stream",
     "text": [
      "[                                        ] | 0% Completed | 41.50 s"
     ]
    },
    {
     "name": "stderr",
     "output_type": "stream",
     "text": [
      "\n",
      "2023-08-07 16:43:50,526 - pyscenic.transform - WARNING - Less than 80% of the genes in PRDM12 could be mapped to hg38__refseq-r80__500bp_up_and_100bp_down_tss.mc9nr.genes_vs_motifs.rankings. Skipping this module.\n"
     ]
    },
    {
     "name": "stdout",
     "output_type": "stream",
     "text": [
      "[                                        ] | 0% Completed | 42.62 s"
     ]
    },
    {
     "name": "stderr",
     "output_type": "stream",
     "text": [
      "\n",
      "2023-08-07 16:43:51,688 - pyscenic.transform - WARNING - Less than 80% of the genes in RELB could be mapped to hg38__refseq-r80__500bp_up_and_100bp_down_tss.mc9nr.genes_vs_motifs.rankings. Skipping this module.\n"
     ]
    },
    {
     "name": "stdout",
     "output_type": "stream",
     "text": [
      "[                                        ] | 0% Completed | 43.53 s"
     ]
    },
    {
     "name": "stderr",
     "output_type": "stream",
     "text": [
      "\n",
      "2023-08-07 16:43:52,533 - pyscenic.transform - WARNING - Less than 80% of the genes in SIM1 could be mapped to hg38__refseq-r80__500bp_up_and_100bp_down_tss.mc9nr.genes_vs_motifs.rankings. Skipping this module.\n",
      "\n",
      "2023-08-07 16:43:52,651 - pyscenic.transform - WARNING - Less than 80% of the genes in SIX1 could be mapped to hg38__refseq-r80__500bp_up_and_100bp_down_tss.mc9nr.genes_vs_motifs.rankings. Skipping this module.\n"
     ]
    },
    {
     "name": "stdout",
     "output_type": "stream",
     "text": [
      "[                                        ] | 0% Completed | 43.94 s"
     ]
    },
    {
     "name": "stderr",
     "output_type": "stream",
     "text": [
      "\n",
      "2023-08-07 16:43:52,995 - pyscenic.transform - WARNING - Less than 80% of the genes in SNAI1 could be mapped to hg38__refseq-r80__500bp_up_and_100bp_down_tss.mc9nr.genes_vs_motifs.rankings. Skipping this module.\n"
     ]
    },
    {
     "name": "stdout",
     "output_type": "stream",
     "text": [
      "[                                        ] | 0% Completed | 44.65 s"
     ]
    },
    {
     "name": "stderr",
     "output_type": "stream",
     "text": [
      "\n",
      "2023-08-07 16:43:53,681 - pyscenic.transform - WARNING - Less than 80% of the genes in SOX9 could be mapped to hg38__refseq-r80__500bp_up_and_100bp_down_tss.mc9nr.genes_vs_motifs.rankings. Skipping this module.\n"
     ]
    },
    {
     "name": "stdout",
     "output_type": "stream",
     "text": [
      "[                                        ] | 0% Completed | 45.05 s"
     ]
    },
    {
     "name": "stderr",
     "output_type": "stream",
     "text": [
      "\n",
      "2023-08-07 16:43:54,038 - pyscenic.transform - WARNING - Less than 80% of the genes in SP8 could be mapped to hg38__refseq-r80__500bp_up_and_100bp_down_tss.mc9nr.genes_vs_motifs.rankings. Skipping this module.\n"
     ]
    },
    {
     "name": "stdout",
     "output_type": "stream",
     "text": [
      "[####                                    ] | 10% Completed | 47.02 s"
     ]
    },
    {
     "name": "stderr",
     "output_type": "stream",
     "text": [
      "\n",
      "2023-08-07 16:43:56,071 - pyscenic.transform - WARNING - Less than 80% of the genes in TGIF1 could be mapped to hg38__refseq-r80__500bp_up_and_100bp_down_tss.mc9nr.genes_vs_motifs.rankings. Skipping this module.\n"
     ]
    },
    {
     "name": "stdout",
     "output_type": "stream",
     "text": [
      "[####                                    ] | 10% Completed | 110.88 s"
     ]
    },
    {
     "name": "stderr",
     "output_type": "stream",
     "text": [
      "\n",
      "2023-08-07 16:44:59,905 - pyscenic.transform - WARNING - Less than 80% of the genes in BATF3 could be mapped to hg38__refseq-r80__10kb_up_and_down_tss.mc9nr.genes_vs_motifs.rankings. Skipping this module.\n"
     ]
    },
    {
     "name": "stdout",
     "output_type": "stream",
     "text": [
      "[####                                    ] | 10% Completed | 125.69 s"
     ]
    },
    {
     "name": "stderr",
     "output_type": "stream",
     "text": [
      "\n",
      "2023-08-07 16:45:14,688 - pyscenic.transform - WARNING - Less than 80% of the genes in HIST1H2BN could be mapped to hg38__refseq-r80__10kb_up_and_down_tss.mc9nr.genes_vs_motifs.rankings. Skipping this module.\n"
     ]
    },
    {
     "name": "stdout",
     "output_type": "stream",
     "text": [
      "[####                                    ] | 10% Completed | 126.91 s"
     ]
    },
    {
     "name": "stderr",
     "output_type": "stream",
     "text": [
      "\n",
      "2023-08-07 16:45:15,932 - pyscenic.transform - WARNING - Less than 80% of the genes in INSM1 could be mapped to hg38__refseq-r80__10kb_up_and_down_tss.mc9nr.genes_vs_motifs.rankings. Skipping this module.\n",
      "\n",
      "2023-08-07 16:45:16,064 - pyscenic.transform - WARNING - Less than 80% of the genes in IRX1 could be mapped to hg38__refseq-r80__10kb_up_and_down_tss.mc9nr.genes_vs_motifs.rankings. Skipping this module.\n"
     ]
    },
    {
     "name": "stdout",
     "output_type": "stream",
     "text": [
      "[####                                    ] | 10% Completed | 127.32 s"
     ]
    },
    {
     "name": "stderr",
     "output_type": "stream",
     "text": [
      "\n",
      "2023-08-07 16:45:16,341 - pyscenic.transform - WARNING - Less than 80% of the genes in ISL1 could be mapped to hg38__refseq-r80__10kb_up_and_down_tss.mc9nr.genes_vs_motifs.rankings. Skipping this module.\n"
     ]
    },
    {
     "name": "stdout",
     "output_type": "stream",
     "text": [
      "[####                                    ] | 10% Completed | 133.00 s"
     ]
    },
    {
     "name": "stderr",
     "output_type": "stream",
     "text": [
      "\n",
      "2023-08-07 16:45:21,998 - pyscenic.transform - WARNING - Less than 80% of the genes in LHX9 could be mapped to hg38__refseq-r80__10kb_up_and_down_tss.mc9nr.genes_vs_motifs.rankings. Skipping this module.\n"
     ]
    },
    {
     "name": "stdout",
     "output_type": "stream",
     "text": [
      "[####                                    ] | 10% Completed | 136.05 s"
     ]
    },
    {
     "name": "stderr",
     "output_type": "stream",
     "text": [
      "\n",
      "2023-08-07 16:45:25,047 - pyscenic.transform - WARNING - Less than 80% of the genes in MSX1 could be mapped to hg38__refseq-r80__10kb_up_and_down_tss.mc9nr.genes_vs_motifs.rankings. Skipping this module.\n"
     ]
    },
    {
     "name": "stdout",
     "output_type": "stream",
     "text": [
      "[####                                    ] | 10% Completed | 140.11 s"
     ]
    },
    {
     "name": "stderr",
     "output_type": "stream",
     "text": [
      "\n",
      "2023-08-07 16:45:29,164 - pyscenic.transform - WARNING - Less than 80% of the genes in NANOS1 could be mapped to hg38__refseq-r80__10kb_up_and_down_tss.mc9nr.genes_vs_motifs.rankings. Skipping this module.\n"
     ]
    },
    {
     "name": "stdout",
     "output_type": "stream",
     "text": [
      "[####                                    ] | 10% Completed | 144.17 s"
     ]
    },
    {
     "name": "stderr",
     "output_type": "stream",
     "text": [
      "\n",
      "2023-08-07 16:45:33,178 - pyscenic.transform - WARNING - Less than 80% of the genes in PGAM2 could be mapped to hg38__refseq-r80__10kb_up_and_down_tss.mc9nr.genes_vs_motifs.rankings. Skipping this module.\n"
     ]
    },
    {
     "name": "stdout",
     "output_type": "stream",
     "text": [
      "[####                                    ] | 10% Completed | 145.70 s"
     ]
    },
    {
     "name": "stderr",
     "output_type": "stream",
     "text": [
      "\n",
      "2023-08-07 16:45:34,750 - pyscenic.transform - WARNING - Less than 80% of the genes in PITX1 could be mapped to hg38__refseq-r80__10kb_up_and_down_tss.mc9nr.genes_vs_motifs.rankings. Skipping this module.\n",
      "\n",
      "2023-08-07 16:45:34,855 - pyscenic.transform - WARNING - Less than 80% of the genes in POU2F2 could be mapped to hg38__refseq-r80__10kb_up_and_down_tss.mc9nr.genes_vs_motifs.rankings. Skipping this module.\n"
     ]
    },
    {
     "name": "stdout",
     "output_type": "stream",
     "text": [
      "[####                                    ] | 10% Completed | 146.61 s"
     ]
    },
    {
     "name": "stderr",
     "output_type": "stream",
     "text": [
      "\n",
      "2023-08-07 16:45:35,686 - pyscenic.transform - WARNING - Less than 80% of the genes in PROX1 could be mapped to hg38__refseq-r80__10kb_up_and_down_tss.mc9nr.genes_vs_motifs.rankings. Skipping this module.\n"
     ]
    },
    {
     "name": "stdout",
     "output_type": "stream",
     "text": [
      "[####                                    ] | 10% Completed | 148.44 s"
     ]
    },
    {
     "name": "stderr",
     "output_type": "stream",
     "text": [
      "\n",
      "2023-08-07 16:45:37,503 - pyscenic.transform - WARNING - Less than 80% of the genes in SIM1 could be mapped to hg38__refseq-r80__10kb_up_and_down_tss.mc9nr.genes_vs_motifs.rankings. Skipping this module.\n",
      "\n",
      "2023-08-07 16:45:37,604 - pyscenic.transform - WARNING - Less than 80% of the genes in SIX1 could be mapped to hg38__refseq-r80__10kb_up_and_down_tss.mc9nr.genes_vs_motifs.rankings. Skipping this module.\n"
     ]
    },
    {
     "name": "stdout",
     "output_type": "stream",
     "text": [
      "[####                                    ] | 10% Completed | 148.85 s"
     ]
    },
    {
     "name": "stderr",
     "output_type": "stream",
     "text": [
      "\n",
      "2023-08-07 16:45:37,842 - pyscenic.transform - WARNING - Less than 80% of the genes in SNAI1 could be mapped to hg38__refseq-r80__10kb_up_and_down_tss.mc9nr.genes_vs_motifs.rankings. Skipping this module.\n"
     ]
    },
    {
     "name": "stdout",
     "output_type": "stream",
     "text": [
      "[####                                    ] | 10% Completed | 150.37 s"
     ]
    },
    {
     "name": "stderr",
     "output_type": "stream",
     "text": [
      "\n",
      "2023-08-07 16:45:39,430 - pyscenic.transform - WARNING - Less than 80% of the genes in SOX5 could be mapped to hg38__refseq-r80__10kb_up_and_down_tss.mc9nr.genes_vs_motifs.rankings. Skipping this module.\n",
      "\n",
      "2023-08-07 16:45:39,555 - pyscenic.transform - WARNING - Less than 80% of the genes in SOX9 could be mapped to hg38__refseq-r80__10kb_up_and_down_tss.mc9nr.genes_vs_motifs.rankings. Skipping this module.\n"
     ]
    },
    {
     "name": "stdout",
     "output_type": "stream",
     "text": [
      "[####                                    ] | 10% Completed | 150.68 s"
     ]
    },
    {
     "name": "stderr",
     "output_type": "stream",
     "text": [
      "\n",
      "2023-08-07 16:45:39,674 - pyscenic.transform - WARNING - Less than 80% of the genes in SP4 could be mapped to hg38__refseq-r80__10kb_up_and_down_tss.mc9nr.genes_vs_motifs.rankings. Skipping this module.\n"
     ]
    },
    {
     "name": "stdout",
     "output_type": "stream",
     "text": [
      "[####                                    ] | 10% Completed | 151.39 s"
     ]
    },
    {
     "name": "stderr",
     "output_type": "stream",
     "text": [
      "\n",
      "2023-08-07 16:45:40,477 - pyscenic.transform - WARNING - Less than 80% of the genes in SP8 could be mapped to hg38__refseq-r80__10kb_up_and_down_tss.mc9nr.genes_vs_motifs.rankings. Skipping this module.\n"
     ]
    },
    {
     "name": "stdout",
     "output_type": "stream",
     "text": [
      "[####                                    ] | 10% Completed | 153.63 s"
     ]
    },
    {
     "name": "stderr",
     "output_type": "stream",
     "text": [
      "\n",
      "2023-08-07 16:45:42,648 - pyscenic.transform - WARNING - Less than 80% of the genes in TGIF1 could be mapped to hg38__refseq-r80__10kb_up_and_down_tss.mc9nr.genes_vs_motifs.rankings. Skipping this module.\n"
     ]
    },
    {
     "name": "stdout",
     "output_type": "stream",
     "text": [
      "[####                                    ] | 10% Completed | 155.76 s"
     ]
    },
    {
     "name": "stderr",
     "output_type": "stream",
     "text": [
      "\n",
      "2023-08-07 16:45:44,787 - pyscenic.transform - WARNING - Less than 80% of the genes in ZNF556 could be mapped to hg38__refseq-r80__10kb_up_and_down_tss.mc9nr.genes_vs_motifs.rankings. Skipping this module.\n"
     ]
    },
    {
     "name": "stdout",
     "output_type": "stream",
     "text": [
      "[####                                    ] | 10% Completed | 156.27 s"
     ]
    },
    {
     "name": "stderr",
     "output_type": "stream",
     "text": [
      "\n",
      "2023-08-07 16:45:45,302 - pyscenic.transform - WARNING - Less than 80% of the genes in ASCL1 could be mapped to hg38__refseq-r80__10kb_up_and_down_tss.mc9nr.genes_vs_motifs.rankings. Skipping this module.\n"
     ]
    },
    {
     "name": "stdout",
     "output_type": "stream",
     "text": [
      "[####                                    ] | 10% Completed | 160.24 s"
     ]
    },
    {
     "name": "stderr",
     "output_type": "stream",
     "text": [
      "\n",
      "2023-08-07 16:45:49,253 - pyscenic.transform - WARNING - Less than 80% of the genes in BHLHE41 could be mapped to hg38__refseq-r80__10kb_up_and_down_tss.mc9nr.genes_vs_motifs.rankings. Skipping this module.\n"
     ]
    },
    {
     "name": "stdout",
     "output_type": "stream",
     "text": [
      "[####                                    ] | 10% Completed | 167.26 s"
     ]
    },
    {
     "name": "stderr",
     "output_type": "stream",
     "text": [
      "\n",
      "2023-08-07 16:45:56,305 - pyscenic.transform - WARNING - Less than 80% of the genes in DMBX1 could be mapped to hg38__refseq-r80__10kb_up_and_down_tss.mc9nr.genes_vs_motifs.rankings. Skipping this module.\n"
     ]
    },
    {
     "name": "stdout",
     "output_type": "stream",
     "text": [
      "[####                                    ] | 10% Completed | 172.95 s"
     ]
    },
    {
     "name": "stderr",
     "output_type": "stream",
     "text": [
      "\n",
      "2023-08-07 16:46:01,992 - pyscenic.transform - WARNING - Less than 80% of the genes in BATF3 could be mapped to hg38__refseq-r80__500bp_up_and_100bp_down_tss.mc9nr.genes_vs_motifs.rankings. Skipping this module.\n"
     ]
    },
    {
     "name": "stdout",
     "output_type": "stream",
     "text": [
      "[####                                    ] | 10% Completed | 176.10 s"
     ]
    },
    {
     "name": "stderr",
     "output_type": "stream",
     "text": [
      "\n",
      "2023-08-07 16:46:05,165 - pyscenic.transform - WARNING - Less than 80% of the genes in EN1 could be mapped to hg38__refseq-r80__10kb_up_and_down_tss.mc9nr.genes_vs_motifs.rankings. Skipping this module.\n"
     ]
    },
    {
     "name": "stdout",
     "output_type": "stream",
     "text": [
      "[####                                    ] | 10% Completed | 180.88 s"
     ]
    },
    {
     "name": "stderr",
     "output_type": "stream",
     "text": [
      "\n",
      "2023-08-07 16:46:09,898 - pyscenic.transform - WARNING - Less than 80% of the genes in FOXL2 could be mapped to hg38__refseq-r80__10kb_up_and_down_tss.mc9nr.genes_vs_motifs.rankings. Skipping this module.\n"
     ]
    },
    {
     "name": "stdout",
     "output_type": "stream",
     "text": [
      "[####                                    ] | 10% Completed | 184.94 s"
     ]
    },
    {
     "name": "stderr",
     "output_type": "stream",
     "text": [
      "\n",
      "2023-08-07 16:46:13,996 - pyscenic.transform - WARNING - Less than 80% of the genes in HES4 could be mapped to hg38__refseq-r80__10kb_up_and_down_tss.mc9nr.genes_vs_motifs.rankings. Skipping this module.\n"
     ]
    },
    {
     "name": "stdout",
     "output_type": "stream",
     "text": [
      "[####                                    ] | 10% Completed | 185.65 s"
     ]
    },
    {
     "name": "stderr",
     "output_type": "stream",
     "text": [
      "\n",
      "2023-08-07 16:46:14,666 - pyscenic.transform - WARNING - Less than 80% of the genes in HHAT could be mapped to hg38__refseq-r80__10kb_up_and_down_tss.mc9nr.genes_vs_motifs.rankings. Skipping this module.\n",
      "\n",
      "2023-08-07 16:46:14,812 - pyscenic.transform - WARNING - Less than 80% of the genes in HIST1H2BN could be mapped to hg38__refseq-r80__10kb_up_and_down_tss.mc9nr.genes_vs_motifs.rankings. Skipping this module.\n"
     ]
    },
    {
     "name": "stdout",
     "output_type": "stream",
     "text": [
      "[####                                    ] | 10% Completed | 186.87 s"
     ]
    },
    {
     "name": "stderr",
     "output_type": "stream",
     "text": [
      "\n",
      "2023-08-07 16:46:15,863 - pyscenic.transform - WARNING - Less than 80% of the genes in HIST1H2BN could be mapped to hg38__refseq-r80__500bp_up_and_100bp_down_tss.mc9nr.genes_vs_motifs.rankings. Skipping this module.\n",
      "\n",
      "2023-08-07 16:46:16,030 - pyscenic.transform - WARNING - Less than 80% of the genes in IKZF3 could be mapped to hg38__refseq-r80__10kb_up_and_down_tss.mc9nr.genes_vs_motifs.rankings. Skipping this module.\n"
     ]
    },
    {
     "name": "stdout",
     "output_type": "stream",
     "text": [
      "[####                                    ] | 10% Completed | 187.48 s"
     ]
    },
    {
     "name": "stderr",
     "output_type": "stream",
     "text": [
      "\n",
      "2023-08-07 16:46:16,545 - pyscenic.transform - WARNING - Less than 80% of the genes in IRX1 could be mapped to hg38__refseq-r80__10kb_up_and_down_tss.mc9nr.genes_vs_motifs.rankings. Skipping this module.\n"
     ]
    },
    {
     "name": "stdout",
     "output_type": "stream",
     "text": [
      "[####                                    ] | 10% Completed | 188.39 s"
     ]
    },
    {
     "name": "stderr",
     "output_type": "stream",
     "text": [
      "\n",
      "2023-08-07 16:46:17,450 - pyscenic.transform - WARNING - Less than 80% of the genes in INSM1 could be mapped to hg38__refseq-r80__500bp_up_and_100bp_down_tss.mc9nr.genes_vs_motifs.rankings. Skipping this module.\n",
      "\n",
      "2023-08-07 16:46:17,591 - pyscenic.transform - WARNING - Less than 80% of the genes in IRX1 could be mapped to hg38__refseq-r80__500bp_up_and_100bp_down_tss.mc9nr.genes_vs_motifs.rankings. Skipping this module.\n"
     ]
    },
    {
     "name": "stdout",
     "output_type": "stream",
     "text": [
      "[####                                    ] | 10% Completed | 189.61 s"
     ]
    },
    {
     "name": "stderr",
     "output_type": "stream",
     "text": [
      "\n",
      "2023-08-07 16:46:18,628 - pyscenic.transform - WARNING - Less than 80% of the genes in ISL1 could be mapped to hg38__refseq-r80__500bp_up_and_100bp_down_tss.mc9nr.genes_vs_motifs.rankings. Skipping this module.\n"
     ]
    },
    {
     "name": "stdout",
     "output_type": "stream",
     "text": [
      "[####                                    ] | 10% Completed | 190.63 s"
     ]
    },
    {
     "name": "stderr",
     "output_type": "stream",
     "text": [
      "\n",
      "2023-08-07 16:46:19,706 - pyscenic.transform - WARNING - Less than 80% of the genes in LHX3 could be mapped to hg38__refseq-r80__10kb_up_and_down_tss.mc9nr.genes_vs_motifs.rankings. Skipping this module.\n"
     ]
    },
    {
     "name": "stdout",
     "output_type": "stream",
     "text": [
      "[####                                    ] | 10% Completed | 191.54 s"
     ]
    },
    {
     "name": "stderr",
     "output_type": "stream",
     "text": [
      "\n",
      "2023-08-07 16:46:20,541 - pyscenic.transform - WARNING - Less than 80% of the genes in LHX9 could be mapped to hg38__refseq-r80__10kb_up_and_down_tss.mc9nr.genes_vs_motifs.rankings. Skipping this module.\n"
     ]
    },
    {
     "name": "stdout",
     "output_type": "stream",
     "text": [
      "[####                                    ] | 10% Completed | 191.75 s"
     ]
    },
    {
     "name": "stderr",
     "output_type": "stream",
     "text": [
      "\n",
      "2023-08-07 16:46:20,804 - pyscenic.transform - WARNING - Less than 80% of the genes in LTF could be mapped to hg38__refseq-r80__10kb_up_and_down_tss.mc9nr.genes_vs_motifs.rankings. Skipping this module.\n"
     ]
    },
    {
     "name": "stdout",
     "output_type": "stream",
     "text": [
      "[####                                    ] | 10% Completed | 195.61 s"
     ]
    },
    {
     "name": "stderr",
     "output_type": "stream",
     "text": [
      "\n",
      "2023-08-07 16:46:24,610 - pyscenic.transform - WARNING - Less than 80% of the genes in LHX9 could be mapped to hg38__refseq-r80__500bp_up_and_100bp_down_tss.mc9nr.genes_vs_motifs.rankings. Skipping this module.\n"
     ]
    },
    {
     "name": "stdout",
     "output_type": "stream",
     "text": [
      "[####                                    ] | 10% Completed | 198.96 s"
     ]
    },
    {
     "name": "stderr",
     "output_type": "stream",
     "text": [
      "\n",
      "2023-08-07 16:46:27,998 - pyscenic.transform - WARNING - Less than 80% of the genes in MSX1 could be mapped to hg38__refseq-r80__500bp_up_and_100bp_down_tss.mc9nr.genes_vs_motifs.rankings. Skipping this module.\n",
      "\n",
      "2023-08-07 16:46:28,048 - pyscenic.transform - WARNING - Less than 80% of the genes in NANOS1 could be mapped to hg38__refseq-r80__10kb_up_and_down_tss.mc9nr.genes_vs_motifs.rankings. Skipping this module.\n"
     ]
    },
    {
     "name": "stdout",
     "output_type": "stream",
     "text": [
      "[####                                    ] | 10% Completed | 200.69 s"
     ]
    },
    {
     "name": "stderr",
     "output_type": "stream",
     "text": [
      "\n",
      "2023-08-07 16:46:29,688 - pyscenic.transform - WARNING - Less than 80% of the genes in NKX2-5 could be mapped to hg38__refseq-r80__10kb_up_and_down_tss.mc9nr.genes_vs_motifs.rankings. Skipping this module.\n"
     ]
    },
    {
     "name": "stdout",
     "output_type": "stream",
     "text": [
      "[####                                    ] | 10% Completed | 201.71 s"
     ]
    },
    {
     "name": "stderr",
     "output_type": "stream",
     "text": [
      "\n",
      "2023-08-07 16:46:30,745 - pyscenic.transform - WARNING - Less than 80% of the genes in OLIG2 could be mapped to hg38__refseq-r80__10kb_up_and_down_tss.mc9nr.genes_vs_motifs.rankings. Skipping this module.\n"
     ]
    },
    {
     "name": "stdout",
     "output_type": "stream",
     "text": [
      "[####                                    ] | 10% Completed | 203.23 s"
     ]
    },
    {
     "name": "stderr",
     "output_type": "stream",
     "text": [
      "\n",
      "2023-08-07 16:46:32,309 - pyscenic.transform - WARNING - Less than 80% of the genes in NANOS1 could be mapped to hg38__refseq-r80__500bp_up_and_100bp_down_tss.mc9nr.genes_vs_motifs.rankings. Skipping this module.\n",
      "\n",
      "2023-08-07 16:46:32,419 - pyscenic.transform - WARNING - Less than 80% of the genes in POU2F2 could be mapped to hg38__refseq-r80__10kb_up_and_down_tss.mc9nr.genes_vs_motifs.rankings. Skipping this module.\n"
     ]
    },
    {
     "name": "stdout",
     "output_type": "stream",
     "text": [
      "[####                                    ] | 10% Completed | 203.84 s"
     ]
    },
    {
     "name": "stderr",
     "output_type": "stream",
     "text": [
      "\n",
      "2023-08-07 16:46:32,885 - pyscenic.transform - WARNING - Less than 80% of the genes in PRDM12 could be mapped to hg38__refseq-r80__10kb_up_and_down_tss.mc9nr.genes_vs_motifs.rankings. Skipping this module.\n"
     ]
    },
    {
     "name": "stdout",
     "output_type": "stream",
     "text": [
      "[####                                    ] | 10% Completed | 205.77 s"
     ]
    },
    {
     "name": "stderr",
     "output_type": "stream",
     "text": [
      "\n",
      "2023-08-07 16:46:34,824 - pyscenic.transform - WARNING - Less than 80% of the genes in RELB could be mapped to hg38__refseq-r80__10kb_up_and_down_tss.mc9nr.genes_vs_motifs.rankings. Skipping this module.\n"
     ]
    },
    {
     "name": "stdout",
     "output_type": "stream",
     "text": [
      "[####                                    ] | 10% Completed | 207.70 s"
     ]
    },
    {
     "name": "stderr",
     "output_type": "stream",
     "text": [
      "\n",
      "2023-08-07 16:46:36,714 - pyscenic.transform - WARNING - Less than 80% of the genes in PGAM2 could be mapped to hg38__refseq-r80__500bp_up_and_100bp_down_tss.mc9nr.genes_vs_motifs.rankings. Skipping this module.\n"
     ]
    },
    {
     "name": "stdout",
     "output_type": "stream",
     "text": [
      "[####                                    ] | 10% Completed | 208.31 s"
     ]
    },
    {
     "name": "stderr",
     "output_type": "stream",
     "text": [
      "\n",
      "2023-08-07 16:46:37,324 - pyscenic.transform - WARNING - Less than 80% of the genes in SIM1 could be mapped to hg38__refseq-r80__10kb_up_and_down_tss.mc9nr.genes_vs_motifs.rankings. Skipping this module.\n",
      "\n",
      "2023-08-07 16:46:37,485 - pyscenic.transform - WARNING - Less than 80% of the genes in SIX1 could be mapped to hg38__refseq-r80__10kb_up_and_down_tss.mc9nr.genes_vs_motifs.rankings. Skipping this module.\n"
     ]
    },
    {
     "name": "stdout",
     "output_type": "stream",
     "text": [
      "[####                                    ] | 10% Completed | 208.82 s"
     ]
    },
    {
     "name": "stderr",
     "output_type": "stream",
     "text": [
      "\n",
      "2023-08-07 16:46:37,864 - pyscenic.transform - WARNING - Less than 80% of the genes in SNAI1 could be mapped to hg38__refseq-r80__10kb_up_and_down_tss.mc9nr.genes_vs_motifs.rankings. Skipping this module.\n"
     ]
    },
    {
     "name": "stdout",
     "output_type": "stream",
     "text": [
      "[##########                              ] | 25% Completed | 210.05 s"
     ]
    },
    {
     "name": "stderr",
     "output_type": "stream",
     "text": [
      "\n",
      "2023-08-07 16:46:39,134 - pyscenic.transform - WARNING - Less than 80% of the genes in PITX1 could be mapped to hg38__refseq-r80__500bp_up_and_100bp_down_tss.mc9nr.genes_vs_motifs.rankings. Skipping this module.\n",
      "\n",
      "2023-08-07 16:46:39,245 - pyscenic.transform - WARNING - Less than 80% of the genes in POU2F2 could be mapped to hg38__refseq-r80__500bp_up_and_100bp_down_tss.mc9nr.genes_vs_motifs.rankings. Skipping this module.\n"
     ]
    },
    {
     "name": "stdout",
     "output_type": "stream",
     "text": [
      "[################                        ] | 40% Completed | 210.47 s"
     ]
    },
    {
     "name": "stderr",
     "output_type": "stream",
     "text": [
      "\n",
      "2023-08-07 16:46:39,486 - pyscenic.transform - WARNING - Less than 80% of the genes in PROX1 could be mapped to hg38__refseq-r80__500bp_up_and_100bp_down_tss.mc9nr.genes_vs_motifs.rankings. Skipping this module.\n"
     ]
    },
    {
     "name": "stdout",
     "output_type": "stream",
     "text": [
      "[################                        ] | 40% Completed | 210.87 s"
     ]
    },
    {
     "name": "stderr",
     "output_type": "stream",
     "text": [
      "\n",
      "2023-08-07 16:46:39,878 - pyscenic.transform - WARNING - Less than 80% of the genes in SOX9 could be mapped to hg38__refseq-r80__10kb_up_and_down_tss.mc9nr.genes_vs_motifs.rankings. Skipping this module.\n"
     ]
    },
    {
     "name": "stdout",
     "output_type": "stream",
     "text": [
      "[################                        ] | 40% Completed | 211.28 s"
     ]
    },
    {
     "name": "stderr",
     "output_type": "stream",
     "text": [
      "\n",
      "2023-08-07 16:46:40,325 - pyscenic.transform - WARNING - Less than 80% of the genes in SIM1 could be mapped to hg38__refseq-r80__500bp_up_and_100bp_down_tss.mc9nr.genes_vs_motifs.rankings. Skipping this module.\n",
      "\n",
      "2023-08-07 16:46:40,430 - pyscenic.transform - WARNING - Less than 80% of the genes in SIX1 could be mapped to hg38__refseq-r80__500bp_up_and_100bp_down_tss.mc9nr.genes_vs_motifs.rankings. Skipping this module.\n"
     ]
    },
    {
     "name": "stdout",
     "output_type": "stream",
     "text": [
      "[################                        ] | 40% Completed | 211.69 s"
     ]
    },
    {
     "name": "stderr",
     "output_type": "stream",
     "text": [
      "\n",
      "2023-08-07 16:46:40,683 - pyscenic.transform - WARNING - Less than 80% of the genes in SNAI1 could be mapped to hg38__refseq-r80__500bp_up_and_100bp_down_tss.mc9nr.genes_vs_motifs.rankings. Skipping this module.\n",
      "\n",
      "2023-08-07 16:46:40,822 - pyscenic.transform - WARNING - Less than 80% of the genes in SP8 could be mapped to hg38__refseq-r80__10kb_up_and_down_tss.mc9nr.genes_vs_motifs.rankings. Skipping this module.\n"
     ]
    },
    {
     "name": "stdout",
     "output_type": "stream",
     "text": [
      "[################                        ] | 40% Completed | 212.09 s"
     ]
    },
    {
     "name": "stderr",
     "output_type": "stream",
     "text": [
      "\n",
      "2023-08-07 16:46:41,159 - pyscenic.transform - WARNING - Less than 80% of the genes in SOX5 could be mapped to hg38__refseq-r80__500bp_up_and_100bp_down_tss.mc9nr.genes_vs_motifs.rankings. Skipping this module.\n"
     ]
    },
    {
     "name": "stdout",
     "output_type": "stream",
     "text": [
      "[################                        ] | 40% Completed | 212.80 s"
     ]
    },
    {
     "name": "stderr",
     "output_type": "stream",
     "text": [
      "\n",
      "2023-08-07 16:46:41,852 - pyscenic.transform - WARNING - Less than 80% of the genes in SOX9 could be mapped to hg38__refseq-r80__500bp_up_and_100bp_down_tss.mc9nr.genes_vs_motifs.rankings. Skipping this module.\n",
      "\n",
      "2023-08-07 16:46:41,969 - pyscenic.transform - WARNING - Less than 80% of the genes in SP4 could be mapped to hg38__refseq-r80__500bp_up_and_100bp_down_tss.mc9nr.genes_vs_motifs.rankings. Skipping this module.\n"
     ]
    },
    {
     "name": "stdout",
     "output_type": "stream",
     "text": [
      "[################                        ] | 40% Completed | 213.11 s"
     ]
    },
    {
     "name": "stderr",
     "output_type": "stream",
     "text": [
      "\n",
      "2023-08-07 16:46:42,189 - pyscenic.transform - WARNING - Less than 80% of the genes in SP8 could be mapped to hg38__refseq-r80__500bp_up_and_100bp_down_tss.mc9nr.genes_vs_motifs.rankings. Skipping this module.\n"
     ]
    },
    {
     "name": "stdout",
     "output_type": "stream",
     "text": [
      "[################                        ] | 40% Completed | 214.94 s"
     ]
    },
    {
     "name": "stderr",
     "output_type": "stream",
     "text": [
      "\n",
      "2023-08-07 16:46:43,941 - pyscenic.transform - WARNING - Less than 80% of the genes in TGIF1 could be mapped to hg38__refseq-r80__10kb_up_and_down_tss.mc9nr.genes_vs_motifs.rankings. Skipping this module.\n"
     ]
    },
    {
     "name": "stdout",
     "output_type": "stream",
     "text": [
      "[################                        ] | 40% Completed | 215.35 s"
     ]
    },
    {
     "name": "stderr",
     "output_type": "stream",
     "text": [
      "\n",
      "2023-08-07 16:46:44,396 - pyscenic.transform - WARNING - Less than 80% of the genes in TGIF1 could be mapped to hg38__refseq-r80__500bp_up_and_100bp_down_tss.mc9nr.genes_vs_motifs.rankings. Skipping this module.\n"
     ]
    },
    {
     "name": "stdout",
     "output_type": "stream",
     "text": [
      "[################                        ] | 40% Completed | 216.36 s"
     ]
    },
    {
     "name": "stderr",
     "output_type": "stream",
     "text": [
      "\n",
      "2023-08-07 16:46:45,384 - pyscenic.transform - WARNING - Less than 80% of the genes in ZNF556 could be mapped to hg38__refseq-r80__500bp_up_and_100bp_down_tss.mc9nr.genes_vs_motifs.rankings. Skipping this module.\n"
     ]
    },
    {
     "name": "stdout",
     "output_type": "stream",
     "text": [
      "[################                        ] | 40% Completed | 217.58 s"
     ]
    },
    {
     "name": "stderr",
     "output_type": "stream",
     "text": [
      "\n",
      "2023-08-07 16:46:46,622 - pyscenic.transform - WARNING - Less than 80% of the genes in ASCL1 could be mapped to hg38__refseq-r80__500bp_up_and_100bp_down_tss.mc9nr.genes_vs_motifs.rankings. Skipping this module.\n"
     ]
    },
    {
     "name": "stdout",
     "output_type": "stream",
     "text": [
      "[################                        ] | 40% Completed | 220.42 s"
     ]
    },
    {
     "name": "stderr",
     "output_type": "stream",
     "text": [
      "\n",
      "2023-08-07 16:46:49,500 - pyscenic.transform - WARNING - Less than 80% of the genes in BHLHE41 could be mapped to hg38__refseq-r80__500bp_up_and_100bp_down_tss.mc9nr.genes_vs_motifs.rankings. Skipping this module.\n"
     ]
    },
    {
     "name": "stdout",
     "output_type": "stream",
     "text": [
      "[########################################] | 100% Completed | 250.36 s\n",
      "\n",
      "COMPLETED WRITING ENRICHED MOTIFS /home/linl5/project/SCLC/data/lx33/lx33.UUUU.0.33.motifs.csv \n",
      "\n",
      "                                                   Enrichment            \\\n",
      "                                                          AUC       NES   \n",
      "TF    MotifID                                                             \n",
      "ASCL2 taipale_cyt_meth__MYOD1_NAACANNTGTYN_FL_meth   0.105471  3.310529   \n",
      "      dbcorrdb__TCF12__ENCSR000BGZ_1__m1             0.117075  3.864414   \n",
      "      taipale_cyt_meth__TCF21_NAACAGCTGYYN_eDBD      0.124886  4.237286   \n",
      "      taipale_cyt_meth__MSC_NNACAGCTGTNN_FL_repr     0.100500  3.073247   \n",
      "ATF3  transfac_pro__M07414                           0.094132  3.596068   \n",
      "\n",
      "                                                                          \\\n",
      "                                                   MotifSimilarityQvalue   \n",
      "TF    MotifID                                                              \n",
      "ASCL2 taipale_cyt_meth__MYOD1_NAACANNTGTYN_FL_meth              0.000249   \n",
      "      dbcorrdb__TCF12__ENCSR000BGZ_1__m1                        0.000080   \n",
      "      taipale_cyt_meth__TCF21_NAACAGCTGYYN_eDBD                 0.000059   \n",
      "      taipale_cyt_meth__MSC_NNACAGCTGTNN_FL_repr                0.000053   \n",
      "ATF3  transfac_pro__M07414                                      0.000972   \n",
      "\n",
      "                                                                        \\\n",
      "                                                   OrthologousIdentity   \n",
      "TF    MotifID                                                            \n",
      "ASCL2 taipale_cyt_meth__MYOD1_NAACANNTGTYN_FL_meth            0.683938   \n",
      "      dbcorrdb__TCF12__ENCSR000BGZ_1__m1                      1.000000   \n",
      "      taipale_cyt_meth__TCF21_NAACAGCTGYYN_eDBD               0.683938   \n",
      "      taipale_cyt_meth__MSC_NNACAGCTGTNN_FL_repr              0.683938   \n",
      "ATF3  transfac_pro__M07414                                    1.000000   \n",
      "\n",
      "                                                                                                       \\\n",
      "                                                                                           Annotation   \n",
      "TF    MotifID                                                                                           \n",
      "ASCL2 taipale_cyt_meth__MYOD1_NAACANNTGTYN_FL_meth  gene is orthologous to ENSMUSG00000009248 in M...   \n",
      "      dbcorrdb__TCF12__ENCSR000BGZ_1__m1            motif similar to taipale_cyt_meth__ASCL2_NRCAG...   \n",
      "      taipale_cyt_meth__TCF21_NAACAGCTGYYN_eDBD     gene is orthologous to ENSMUSG00000009248 in M...   \n",
      "      taipale_cyt_meth__MSC_NNACAGCTGTNN_FL_repr    gene is orthologous to ENSMUSG00000009248 in M...   \n",
      "ATF3  transfac_pro__M07414                          motif similar to factorbook__CREB ('CREB'; q-v...   \n",
      "\n",
      "                                                                                                       \\\n",
      "                                                                                              Context   \n",
      "TF    MotifID                                                                                           \n",
      "ASCL2 taipale_cyt_meth__MYOD1_NAACANNTGTYN_FL_meth  (weight>75.0%, activating, hg38__refseq-r80__1...   \n",
      "      dbcorrdb__TCF12__ENCSR000BGZ_1__m1            (weight>75.0%, activating, hg38__refseq-r80__1...   \n",
      "      taipale_cyt_meth__TCF21_NAACAGCTGYYN_eDBD     (weight>75.0%, activating, hg38__refseq-r80__1...   \n",
      "      taipale_cyt_meth__MSC_NNACAGCTGTNN_FL_repr    (weight>75.0%, activating, hg38__refseq-r80__1...   \n",
      "ATF3  transfac_pro__M07414                          (weight>75.0%, activating, hg38__refseq-r80__1...   \n",
      "\n",
      "                                                                                                       \\\n",
      "                                                                                          TargetGenes   \n",
      "TF    MotifID                                                                                           \n",
      "ASCL2 taipale_cyt_meth__MYOD1_NAACANNTGTYN_FL_meth  [(LMCD1, 2.83530804329976), (SEPT4, 2.43959662...   \n",
      "      dbcorrdb__TCF12__ENCSR000BGZ_1__m1            [(TMEM114, 5.9650128974707854), (L1CAM, 2.0949...   \n",
      "      taipale_cyt_meth__TCF21_NAACAGCTGYYN_eDBD     [(MYOG, 3.933295987409189), (TTN, 2.6373249892...   \n",
      "      taipale_cyt_meth__MSC_NNACAGCTGTNN_FL_repr    [(SEPT4, 2.4395966284993027), (RAB8B, 1.654342...   \n",
      "ATF3  transfac_pro__M07414                          [(EMP3, 5.809434180193289), (JUNB, 2.338324585...   \n",
      "\n",
      "                                                              \n",
      "                                                   RankAtMax  \n",
      "TF    MotifID                                                 \n",
      "ASCL2 taipale_cyt_meth__MYOD1_NAACANNTGTYN_FL_meth       428  \n",
      "      dbcorrdb__TCF12__ENCSR000BGZ_1__m1                 450  \n",
      "      taipale_cyt_meth__TCF21_NAACAGCTGYYN_eDBD          749  \n",
      "      taipale_cyt_meth__MSC_NNACAGCTGTNN_FL_repr        1494  \n",
      "ATF3  transfac_pro__M07414                              1321  \n",
      "Create regulons from a dataframe of enriched features.\n",
      "Additional columns saved: []\n",
      "\n",
      "COMPLETED WRITING DISCOVERED REGULON /home/linl5/project/SCLC/data/lx33/lx33.UUUU.0.33.regulons.p \n",
      "\n"
     ]
    }
   ],
   "source": [
    "#STEP 16: Running RCistarget\n",
    "\n",
    "for state in unique_state:\n",
    "    #reading necessary files for rcistarget\n",
    "    ADJACENCIES_FNAME = os.path.join(DATA_FOLDERNAME, \"{}.{}.{}.adjacencies.tsv\".format(DATASET_ID, state, frac_cells))\n",
    "    adjacencies = pd.read_csv(ADJACENCIES_FNAME, sep='\\t')\n",
    "    print(\"\\nFINISHED READING ADJACENCIES FILE\", ADJACENCIES_FNAME,\"\\n\")\n",
    "    EXP_MTX_QC_FNAME = os.path.join(RESULTS_FOLDERNAME, '{}.{}.{}.qc.tpm.csv'.format(DATASET_ID, state, frac_cells))\n",
    "    ex_matrix = pd.read_csv(EXP_MTX_QC_FNAME, sep='\\t', header=0, index_col=0)\n",
    "    print(\"\\nFINISHED READING EXPRESSION MATRIX\", EXP_MTX_QC_FNAME,\"\\n\")\n",
    "    MODULES_FNAME = os.path.join(DATA_FOLDERNAME, '{}.{}.{}.modules.p'.format(DATASET_ID, state, frac_cells))\n",
    "    MOTIFS_FNAME = os.path.join(DATA_FOLDERNAME, '{}.{}.{}.motifs.csv'.format(DATASET_ID, state, frac_cells))\n",
    "    REGULONS_FNAME = os.path.join(DATA_FOLDERNAME, '{}.{}.{}.regulons.p'.format(DATASET_ID, state, frac_cells))\n",
    "\n",
    "    #making modules from adjacencies\n",
    "    modules = list(modules_from_adjacencies(adjacencies, ex_matrix))\n",
    "    \n",
    "    #writing modules object to file\n",
    "    with open(MODULES_FNAME, 'wb') as f:\n",
    "        pickle.dump(modules, f)\n",
    "    print(\"\\nCOMPLETED COEXPRESSION MODULE WRITING:\", MODULES_FNAME,\"\\n\")\n",
    "    \n",
    "    #running Rcistarget with progress bar: searching for enriched motifs and true candidate genes\n",
    "    with ProgressBar():\n",
    "        df = prune2df(dbs, modules, MOTIF_ANNOTATIONS_FNAME, client_or_address=\"dask_multiprocessing\") \n",
    "    \n",
    "    #writing enriched motifs with candidate target to file\n",
    "    df.to_csv(MOTIFS_FNAME)\n",
    "    print(\"\\nCOMPLETED WRITING ENRICHED MOTIFS\", MOTIFS_FNAME,\"\\n\")\n",
    "    print(df.head())\n",
    "    \n",
    "    #making regulon objects\n",
    "    regulons = df2regulons(df)\n",
    "    \n",
    "    #writing regulon objects to file\n",
    "    with open(REGULONS_FNAME, 'wb') as f:\n",
    "        pickle.dump(regulons, f)\n",
    "    print(\"\\nCOMPLETED WRITING DISCOVERED REGULON\", REGULONS_FNAME,\"\\n\")"
   ]
  },
  {
   "cell_type": "markdown",
   "id": "9ec4e6b3",
   "metadata": {},
   "source": [
    "After grouping the data by timepoints\n",
    "- How is clustering in this case difference by just making anndata subset selected by timepoint (pin)\n",
    "- Do i do PCA after clustering -> pca changes the expression matrix so output to GENIE3 is not pca, just raw unnormalize, unpertrude data except basic filtering\n",
    "- If you have more than one condition, it’s often helpful to perform integration to align the cells -? and then within each timepoint there would be three batches so i should find a way to remove this right"
   ]
  }
 ],
 "metadata": {
  "kernelspec": {
   "display_name": "pyscenic",
   "language": "python",
   "name": "pyscenic"
  },
  "language_info": {
   "codemirror_mode": {
    "name": "ipython",
    "version": 3
   },
   "file_extension": ".py",
   "mimetype": "text/x-python",
   "name": "python",
   "nbconvert_exporter": "python",
   "pygments_lexer": "ipython3",
   "version": "3.10.12"
  }
 },
 "nbformat": 4,
 "nbformat_minor": 5
}
