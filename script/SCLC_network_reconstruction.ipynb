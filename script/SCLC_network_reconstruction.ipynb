{
 "cells": [
  {
   "cell_type": "markdown",
   "id": "77b5d2f5",
   "metadata": {},
   "source": [
    "Lx599\n",
    "0.1 -> GRN, Rcistarget, around 1000 cells x 200 genes\n",
    "0.25 -> GRN, Rcistarget, around 2000 cells\n",
    "0.5\n",
    "\n",
    "\n",
    "Lx108\n",
    "0.2 -> GRN, Rcistarget, around 1000 cells x 2000 genes\n",
    "0,4 -> GRN"
   ]
  },
  {
   "cell_type": "code",
   "execution_count": 1,
   "id": "6a8cabb2",
   "metadata": {},
   "outputs": [
    {
     "name": "stderr",
     "output_type": "stream",
     "text": [
      "/home/linl5/miniconda3/envs/pyscenic/lib/python3.10/site-packages/loompy/bus_file.py:68: NumbaDeprecationWarning: The 'nopython' keyword argument was not supplied to the 'numba.jit' decorator. The implicit default value for this argument is currently False, but it will be changed to True in Numba 0.59.0. See https://numba.readthedocs.io/en/stable/reference/deprecation.html#deprecation-of-object-mode-fall-back-behaviour-when-using-jit for details.\n",
      "  def twobit_to_dna(twobit: int, size: int) -> str:\n",
      "/home/linl5/miniconda3/envs/pyscenic/lib/python3.10/site-packages/loompy/bus_file.py:85: NumbaDeprecationWarning: The 'nopython' keyword argument was not supplied to the 'numba.jit' decorator. The implicit default value for this argument is currently False, but it will be changed to True in Numba 0.59.0. See https://numba.readthedocs.io/en/stable/reference/deprecation.html#deprecation-of-object-mode-fall-back-behaviour-when-using-jit for details.\n",
      "  def dna_to_twobit(dna: str) -> int:\n",
      "/home/linl5/miniconda3/envs/pyscenic/lib/python3.10/site-packages/loompy/bus_file.py:102: NumbaDeprecationWarning: The 'nopython' keyword argument was not supplied to the 'numba.jit' decorator. The implicit default value for this argument is currently False, but it will be changed to True in Numba 0.59.0. See https://numba.readthedocs.io/en/stable/reference/deprecation.html#deprecation-of-object-mode-fall-back-behaviour-when-using-jit for details.\n",
      "  def twobit_1hamming(twobit: int, size: int) -> List[int]:\n"
     ]
    }
   ],
   "source": [
    "#STEP 1: importing all needed moduels\n",
    "\n",
    "import os, glob, re, pickle\n",
    "from functools import partial\n",
    "from collections import OrderedDict\n",
    "import operator as op\n",
    "from cytoolz import compose\n",
    "\n",
    "import pandas as pd\n",
    "import seaborn as sns\n",
    "import numpy as np\n",
    "import scanpy as sc\n",
    "import anndata as ad\n",
    "import matplotlib as mpl\n",
    "import matplotlib.pyplot as plt\n",
    "import skmisc\n",
    "\n",
    "from pyscenic.export import export2loom, add_scenic_metadata\n",
    "from pyscenic.utils import load_motifs\n",
    "from pyscenic.transform import df2regulons\n",
    "from pyscenic.aucell import aucell\n",
    "from pyscenic.binarization import binarize\n",
    "from pyscenic.rss import regulon_specificity_scores\n",
    "from pyscenic.plotting import plot_binarization, plot_rss\n",
    "\n",
    "from arboreto.utils import load_tf_names\n",
    "from arboreto.algo import grnboost2\n",
    "from pyscenic.utils import modules_from_adjacencies\n",
    "from pyscenic.prune import prune2df, df2regulons\n",
    "from pyscenic.aucell import aucell\n",
    "from dask.diagnostics import ProgressBar\n",
    "from ctxcore.rnkdb import FeatherRankingDatabase as RankingDatabase\n",
    "\n",
    "#STEP 1+: Set maximum number of jobs\n",
    "sc.settings.njobs = 32"
   ]
  },
  {
   "cell_type": "markdown",
   "id": "a785e75c",
   "metadata": {},
   "source": [
    "Divide each file into by states and then running each state for network reconstruction\n",
    "- A is patient pretreatment pdx\n",
    "- B is patient posttreatment pdx"
   ]
  },
  {
   "cell_type": "code",
   "execution_count": 38,
   "id": "d0b414fc",
   "metadata": {},
   "outputs": [],
   "source": [
    "#prepping\n",
    "DATASET_ID = 'lx108'\n",
    "GENE_NUM = 2000"
   ]
  },
  {
   "cell_type": "code",
   "execution_count": 39,
   "id": "987a4ebf",
   "metadata": {},
   "outputs": [],
   "source": [
    "#STEP 1++: preparing pathway constant variables for easy coding\n",
    "\n",
    "SOHRAB_RESOURCES_FOLDERNAME = \"/work/shah/users/salehis/projects/cdm/data/sclc/{}\".format(DATASET_ID)\n",
    "RESULTS_FOLDERNAME = \"/home/linl5/project/SCLC/results/{}\".format(DATASET_ID)\n",
    "FIGURES_FOLDERNAME = \"/home/linl5/project/SCLC/figures\"\n",
    "AUXILLIARIES_FOLDERNAME = \"/home/linl5/project/SCLC/auxilliaries\"\n",
    "RESOURCES_FOLDERNAME = \"/home/linl5/project/SCLC/resources\"\n",
    "DATA_FOLDERNAME = \"/home/linl5/project/SCLC/data/{}\".format(DATASET_ID)"
   ]
  },
  {
   "cell_type": "code",
   "execution_count": 40,
   "id": "73ae62c9",
   "metadata": {},
   "outputs": [],
   "source": [
    "#Downloaded fromm pySCENIC github repo: https://github.com/aertslab/pySCENIC/tree/master/resources Aug-1-2023\n",
    "#lambert2018.txt used in their cancer patient tutorial\n",
    "HUMAN_TFS_FNAME = os.path.join(RESOURCES_FOLDERNAME, 'allTFs_hg38.txt')"
   ]
  },
  {
   "cell_type": "code",
   "execution_count": 41,
   "id": "491cc977",
   "metadata": {},
   "outputs": [
    {
     "data": {
      "text/plain": [
       "'/work/shah/users/salehis/projects/cdm/data/sclc/lx108/rna.h5ad'"
      ]
     },
     "execution_count": 41,
     "metadata": {},
     "output_type": "execute_result"
    }
   ],
   "source": [
    "#STEP 2: Downloading metadata and expression matrix\n",
    "#input: expression matrix and metadata file\n",
    "\n",
    "#organized by cell ID and Gene matrix, values are counts of read in that cell\n",
    "COUNTS_MTX_FNAME = os.path.join(SOHRAB_RESOURCES_FOLDERNAME, 'rna.h5ad')\n",
    "COUNTS_MTX_FNAME"
   ]
  },
  {
   "cell_type": "code",
   "execution_count": 42,
   "id": "1d5bfefd",
   "metadata": {},
   "outputs": [
    {
     "data": {
      "text/plain": [
       "'/work/shah/users/salehis/projects/cdm/data/sclc/lx108/rna.h5ad'"
      ]
     },
     "execution_count": 42,
     "metadata": {},
     "output_type": "execute_result"
    }
   ],
   "source": [
    "#STEP 3: Importing and Analyzing the rna DATA\n",
    "\n",
    "# Read the H5AD file using anndata\n",
    "adata = ad.read(COUNTS_MTX_FNAME)\n",
    "COUNTS_MTX_FNAME"
   ]
  },
  {
   "cell_type": "code",
   "execution_count": 43,
   "id": "51c0b4d9",
   "metadata": {},
   "outputs": [
    {
     "name": "stdout",
     "output_type": "stream",
     "text": [
      "AnnData object with n_obs × n_vars = 18481 × 33538\n",
      "    obs: 'timepoint', 'datatag', 'batch', 'state'\n",
      "    var: 'gene_ids', 'feature_types'\n",
      "Shape of expression matrix:  (18481, 33538)\n",
      "Columns (variables):\n",
      "                    gene_ids    feature_types\n",
      "MIR1302-2HG  ENSG00000243485  Gene Expression\n",
      "FAM138A      ENSG00000237613  Gene Expression\n",
      "OR4F5        ENSG00000186092  Gene Expression\n",
      "AL627309.1   ENSG00000238009  Gene Expression\n",
      "AL627309.3   ENSG00000239945  Gene Expression\n",
      "...                      ...              ...\n",
      "AC233755.2   ENSG00000277856  Gene Expression\n",
      "AC233755.1   ENSG00000275063  Gene Expression\n",
      "AC240274.1   ENSG00000271254  Gene Expression\n",
      "AC213203.1   ENSG00000277475  Gene Expression\n",
      "FAM231C      ENSG00000268674  Gene Expression\n",
      "\n",
      "[33538 rows x 2 columns]\n",
      "\n",
      "Rows (observations):\n",
      "                              timepoint datatag batch state\n",
      "AAACCCAAGTCGCTAT-1_Lx108_UUUU      UUUU   Lx108     0  UUUU\n",
      "AAACCCAGTTGTGCCG-1_Lx108_UUUU      UUUU   Lx108     0  UUUU\n",
      "AAACCCATCTCGTGAA-1_Lx108_UUUU      UUUU   Lx108     0  UUUU\n",
      "AAACGAAAGGAGCTGT-1_Lx108_UUUU      UUUU   Lx108     0  UUUU\n",
      "AAACGAAAGTATAACG-1_Lx108_UUUU      UUUU   Lx108     0  UUUU\n",
      "...                                 ...     ...   ...   ...\n",
      "TTTGGTTTCGCCAGAC-1_Lx108_UTTU      UTTU   Lx108     3  UTTU\n",
      "TTTGTTGAGCATTGTC-1_Lx108_UTTU      UTTU   Lx108     3  UTTU\n",
      "TTTGTTGTCATGACAC-1_Lx108_UTTU      UTTU   Lx108     3  UTTU\n",
      "TTTGTTGTCCAGTGCG-1_Lx108_UTTU      UTTU   Lx108     3  UTTU\n",
      "TTTGTTGTCGCTACGG-1_Lx108_UTTU      UTTU   Lx108     3  UTTU\n",
      "\n",
      "[18481 rows x 4 columns]\n"
     ]
    }
   ],
   "source": [
    "#STEP4: Understanding Dataset\n",
    "\n",
    "#print out information about anndata\n",
    "print(adata)\n",
    "\n",
    "#print out shape\n",
    "print(\"Shape of expression matrix: \", adata.shape)\n",
    "\n",
    "# the columns (variables) of the expression matrix\n",
    "print(\"Columns (variables):\")\n",
    "print(adata.var)\n",
    "\n",
    "# the rows (observations) of the expression matrix\n",
    "print(\"\\nRows (observations):\")\n",
    "print(adata.obs)\n"
   ]
  },
  {
   "cell_type": "code",
   "execution_count": 44,
   "id": "06e7215e",
   "metadata": {},
   "outputs": [
    {
     "name": "stdout",
     "output_type": "stream",
     "text": [
      "Post Filter:  (18436, 22723)\n"
     ]
    }
   ],
   "source": [
    "#STEP 5: preprocessing and filtering\n",
    "\n",
    "#make gene name unique\n",
    "adata.var_names_make_unique()\n",
    "\n",
    "#processing out data-prefilter\n",
    "sc.pp.filter_cells(adata, min_genes=200)\n",
    "sc.pp.filter_genes(adata, min_cells=3)\n",
    "\n",
    "#saving a copy of the power filtered count into raw\n",
    "adata.raw = adata\n",
    "\n",
    "#post filer: previous was n_obs × n_vars = 33207 × 33538\n",
    "print(\"Post Filter: \", adata.shape)\n"
   ]
  },
  {
   "cell_type": "markdown",
   "id": "999e4f8f",
   "metadata": {},
   "source": [
    "LX599: \n",
    "- Pre-Filter: 33207 × 33538\n",
    "- Post Filter:  (33108, 28701)\n",
    "\n",
    "\n",
    "Lx108: \n",
    "- Pre-Filter: 18481 × 33538\n",
    "- Post Filter: (18436, 22723)\n",
    "\n",
    "Lx33:\n",
    "- pre filter: 23691 × 33538\n",
    "- Post Filter:  (23051, 22899)"
   ]
  },
  {
   "cell_type": "code",
   "execution_count": 45,
   "id": "63eb2e8e",
   "metadata": {},
   "outputs": [],
   "source": [
    "# STEP 6: Prepping for timepoint splitting\n",
    "adata.layers['counts'] = adata.X\n",
    "adata.raw = adata\n"
   ]
  },
  {
   "cell_type": "code",
   "execution_count": 46,
   "id": "44527117",
   "metadata": {},
   "outputs": [
    {
     "name": "stdout",
     "output_type": "stream",
     "text": [
      "['UUUU', 'UUUT', 'UU', 'UTTU']\n",
      "Categories (4, object): ['UTTU', 'UU', 'UUUT', 'UUUU']\n",
      "UUUU :  (4128, 2000)\n",
      "UUUT :  (4564, 2000)\n",
      "UU :  (5035, 2000)\n",
      "UTTU :  (4709, 2000)\n"
     ]
    }
   ],
   "source": [
    "#STEP 7: subsampling time point (IDEA-> in original sample filte by hvg, then split the following into states, then cluster and subsample from cluster)\n",
    "\n",
    "# set the n_top_genes as necessary\n",
    "sc.pp.highly_variable_genes(adata, n_top_genes=GENE_NUM, subset=True, flavor='seurat_v3')\n",
    "\n",
    "#Splitting the cells by states\n",
    "unique_state = adata.obs['state'].unique()\n",
    "print(unique_state)\n",
    "\n",
    "#storing\n",
    "adata_by_state = {}\n",
    "\n",
    "#selecting out by TP\n",
    "for state in unique_state:\n",
    "    adata_subset = adata[adata.obs['state'] == state].copy()\n",
    "    adata_by_state[state] = adata_subset\n",
    "    print(state, \": \", adata_by_state[state].shape)\n",
    "\n",
    "    "
   ]
  },
  {
   "cell_type": "markdown",
   "id": "ad742185",
   "metadata": {},
   "source": [
    "lx33 (post cluster):\n",
    "- UTTU :  (4021, 2000)\n",
    "- UU :  (6176, 2000)\n",
    "- UUUT :  (6619, 2000)\n",
    "- UUUU :  (6235, 2000)\n"
   ]
  },
  {
   "cell_type": "markdown",
   "id": "4b49a412",
   "metadata": {},
   "source": [
    "The Leiden algorithm improves upon Louvain by using the \"agglomerative\" approach to optimize a different quality function known as the \"improved modularity.\" Improved modularity has a resolution parameter that allows Leiden to control the granularity of the clustering solution. It also uses a smart local move algorithm to avoid some of the resolution limit issues present in Louvain. Higher paramter means more identified communities. \n",
    "\n",
    "#The Leiden algorithm is a hierarchical clustering algorithm, that recursively merges communities into single nodes by greedily optimizing the modularity and the process repeats in the condensed graph.\n",
    "#The Leiden algorithm improves upon Louvain by using the \"agglomerative\" approach to optimize a different quality function known as the \"improved modularity.\" Improved modularity has a resolution parameter that allows Leiden to control the granularity of the clustering solution. It also uses a smart local move algorithm to avoid some of the resolution limit issues present in Louvain."
   ]
  },
  {
   "cell_type": "code",
   "execution_count": 47,
   "id": "342c740e",
   "metadata": {},
   "outputs": [],
   "source": [
    "#STEP 8: cluster definition\n",
    "\n",
    "def cluster_rna(bdata):\n",
    "    #I have already did filtering and HVG selection on main anndata, we want to keep same hvg across our states\n",
    "    sc.pp.normalize_total(bdata)    \n",
    "    sc.pp.log1p(bdata)\n",
    "    sc.pp.pca(bdata)\n",
    "    sc.pp.neighbors(bdata)\n",
    "    sc.tl.umap(bdata)\n",
    "    sc.tl.leiden(bdata, resolution=2)\n",
    "    return bdata"
   ]
  },
  {
   "cell_type": "code",
   "execution_count": 48,
   "id": "0cb0ba8d",
   "metadata": {},
   "outputs": [],
   "source": [
    "#STEP 9: Clustering\n",
    "\n",
    "for state in unique_state:\n",
    "    adata_by_state[state] = cluster_rna(adata_by_state[state])"
   ]
  },
  {
   "cell_type": "code",
   "execution_count": 49,
   "id": "d795bb7b",
   "metadata": {},
   "outputs": [
    {
     "name": "stderr",
     "output_type": "stream",
     "text": [
      "100%|██████████| 21/21 [00:00<00:00, 4623.64it/s]\n",
      "100%|██████████| 19/19 [00:00<00:00, 4008.84it/s]\n",
      "100%|██████████| 23/23 [00:00<00:00, 4119.09it/s]\n",
      "100%|██████████| 20/20 [00:00<00:00, 3987.55it/s]\n"
     ]
    }
   ],
   "source": [
    "#STEP 10: Subsampling\n",
    "\n",
    "from tqdm import tqdm\n",
    "frac_cells = 0.4\n",
    "data_sub = {}\n",
    "\n",
    "#Consistent randomization\n",
    "np.random.seed(0)\n",
    "\n",
    "for state in unique_state:\n",
    "    sub_cells = []\n",
    "    for clust in tqdm(adata_by_state[state].obs['leiden'].unique()):\n",
    "        # sample 10% of cells from each cluster\n",
    "        cells_in_clust = adata_by_state[state].obs_names[adata_by_state[state].obs['leiden'] == clust].copy()\n",
    "        #dropping out clusters with less than 5 cells\n",
    "        if (len(cells_in_clust) > 5):\n",
    "            chosen_cells = np.random.choice(cells_in_clust, size=int(len(cells_in_clust)*frac_cells), replace=False)\n",
    "            sub_cells.extend(chosen_cells)\n",
    "    data_sub[state] = adata_by_state[state][sub_cells, :].copy()"
   ]
  },
  {
   "cell_type": "code",
   "execution_count": 52,
   "id": "d542411d",
   "metadata": {},
   "outputs": [
    {
     "name": "stdout",
     "output_type": "stream",
     "text": [
      "UUUU (1643, 2000)\n",
      "Same Gene set check:  UUUU UUUT 2000\n",
      "UUUT (1818, 2000)\n",
      "Same Gene set check:  UUUT UUUT 2000\n",
      "UU (2004, 2000)\n",
      "Same Gene set check:  UU UUUT 2000\n",
      "UTTU (1878, 2000)\n",
      "Same Gene set check:  UTTU UUUT 2000\n",
      "/work/shah/users/salehis/projects/cdm/data/sclc/lx108/rna.h5ad\n"
     ]
    }
   ],
   "source": [
    "#checking for subsampling population\n",
    "\n",
    "for state in unique_state:\n",
    "    print(state, data_sub[state].shape)\n",
    "    set1 = set(data_sub[state].var_names)\n",
    "    set2 = set(data_sub[unique_state[1]].var_names)\n",
    "    print(\"Same Gene set check: \", state, unique_state[1], len(set1.intersection(set2)))\n",
    "\n",
    "print(COUNTS_MTX_FNAME)"
   ]
  },
  {
   "cell_type": "markdown",
   "id": "fde6b277",
   "metadata": {},
   "source": [
    "LX599\n",
    "\n",
    "10%\n",
    "UUa (715, 2000)\n",
    "Same Gene set check:  UUa UUa  2000\n",
    "UTb (515, 2000)\n",
    "Same Gene set check:  UTb UUa  2000\n",
    "UUb (991, 2000)\n",
    "Same Gene set check:  UUb UUa  2000\n",
    "UTa (1042, 2000)\n",
    "Same Gene set check:  UTa UUa  2000\n",
    "\n",
    "25%\n",
    "UUa (1812, 2000)\n",
    "Same Gene set check:  UUa UUa  2000\n",
    "UTb (1307, 2000)\n",
    "Same Gene set check:  UTb UUa  2000\n",
    "UUb (2500, 2000)\n",
    "Same Gene set check:  UUb UUa  2000\n",
    "UTa (2618, 2000)\n",
    "Same Gene set check:  UTa UUa  2000\n",
    "\n",
    "50%\n",
    "UUa (3633, 2000)\n",
    "Same Gene set check:  UUa UUa  2000\n",
    "UTb (2633, 2000)\n",
    "Same Gene set check:  UTb UUa  2000\n",
    "UUb (5011, 2000)\n",
    "Same Gene set check:  UUb UUa  2000\n",
    "UTa (5248, 2000)\n",
    "Same Gene set check:  UTa UUa  2000\n",
    "\n",
    "LX108\n",
    "20%\n",
    "UUUU (818, 2000)\n",
    "Same Gene set check:  UUUU UUUT 2000\n",
    "UUUT (904, 2000)\n",
    "Same Gene set check:  UUUT UUUT 2000\n",
    "UU (998, 2000)\n",
    "Same Gene set check:  UU UUUT 2000\n",
    "UTTU (934, 2000)\n",
    "Same Gene set check:  UTTU UUUT 2000\n",
    "\n",
    "40%\n",
    "UUUU (1643, 2000)\n",
    "Same Gene set check:  UUUU UUUT 2000\n",
    "UUUT (1818, 2000)\n",
    "Same Gene set check:  UUUT UUUT 2000\n",
    "UU (2004, 2000)\n",
    "Same Gene set check:  UU UUUT 2000\n",
    "UTTU (1878, 2000)\n",
    "Same Gene set check:  UTTU UUUT 2000\n",
    "\n",
    "LX33\n",
    "\n",
    "15%\n",
    "UTTU (594, 2000)\n",
    "Same Gene set check:  UTTU UU 2000\n",
    "UU (917, 2000)\n",
    "Same Gene set check:  UU UU 2000\n",
    "UUUT (981, 2000)\n",
    "Same Gene set check:  UUUT UU 2000\n",
    "UUUU (922, 2000)\n",
    "Same Gene set check:  UUUU UU 2000"
   ]
  },
  {
   "cell_type": "code",
   "execution_count": 53,
   "id": "87a4206e",
   "metadata": {},
   "outputs": [
    {
     "data": {
      "text/html": [
       "<div>\n",
       "<style scoped>\n",
       "    .dataframe tbody tr th:only-of-type {\n",
       "        vertical-align: middle;\n",
       "    }\n",
       "\n",
       "    .dataframe tbody tr th {\n",
       "        vertical-align: top;\n",
       "    }\n",
       "\n",
       "    .dataframe thead th {\n",
       "        text-align: right;\n",
       "    }\n",
       "</style>\n",
       "<table border=\"1\" class=\"dataframe\">\n",
       "  <thead>\n",
       "    <tr style=\"text-align: right;\">\n",
       "      <th></th>\n",
       "      <th>FAM87B</th>\n",
       "      <th>LINC00115</th>\n",
       "      <th>HES4</th>\n",
       "      <th>ISG15</th>\n",
       "      <th>ATAD3C</th>\n",
       "      <th>GABRD</th>\n",
       "      <th>AL590822.2</th>\n",
       "      <th>HES5</th>\n",
       "      <th>AL139246.5</th>\n",
       "      <th>AL139246.3</th>\n",
       "      <th>...</th>\n",
       "      <th>BACE2</th>\n",
       "      <th>TFF1</th>\n",
       "      <th>AP001626.1</th>\n",
       "      <th>ERVH48-1</th>\n",
       "      <th>FRGCA</th>\n",
       "      <th>AIRE</th>\n",
       "      <th>TRPM2</th>\n",
       "      <th>C21orf58</th>\n",
       "      <th>PCNT</th>\n",
       "      <th>MT-ND6</th>\n",
       "    </tr>\n",
       "  </thead>\n",
       "  <tbody>\n",
       "    <tr>\n",
       "      <th>GGAGGTAAGTCGCCCA-1_Lx108_UUUT</th>\n",
       "      <td>0.0</td>\n",
       "      <td>0.0</td>\n",
       "      <td>0.0</td>\n",
       "      <td>1.0</td>\n",
       "      <td>1.0</td>\n",
       "      <td>0.0</td>\n",
       "      <td>0.0</td>\n",
       "      <td>0.0</td>\n",
       "      <td>0.0</td>\n",
       "      <td>0.0</td>\n",
       "      <td>...</td>\n",
       "      <td>1.0</td>\n",
       "      <td>1.0</td>\n",
       "      <td>0.0</td>\n",
       "      <td>0.0</td>\n",
       "      <td>0.0</td>\n",
       "      <td>0.0</td>\n",
       "      <td>1.0</td>\n",
       "      <td>5.0</td>\n",
       "      <td>1.0</td>\n",
       "      <td>1.0</td>\n",
       "    </tr>\n",
       "    <tr>\n",
       "      <th>ATTGTTCAGCATTTCG-1_Lx108_UUUT</th>\n",
       "      <td>0.0</td>\n",
       "      <td>0.0</td>\n",
       "      <td>0.0</td>\n",
       "      <td>2.0</td>\n",
       "      <td>0.0</td>\n",
       "      <td>0.0</td>\n",
       "      <td>0.0</td>\n",
       "      <td>0.0</td>\n",
       "      <td>0.0</td>\n",
       "      <td>0.0</td>\n",
       "      <td>...</td>\n",
       "      <td>0.0</td>\n",
       "      <td>0.0</td>\n",
       "      <td>0.0</td>\n",
       "      <td>0.0</td>\n",
       "      <td>0.0</td>\n",
       "      <td>0.0</td>\n",
       "      <td>0.0</td>\n",
       "      <td>1.0</td>\n",
       "      <td>2.0</td>\n",
       "      <td>4.0</td>\n",
       "    </tr>\n",
       "    <tr>\n",
       "      <th>GAGGCCTCATCGCTAA-1_Lx108_UUUT</th>\n",
       "      <td>0.0</td>\n",
       "      <td>0.0</td>\n",
       "      <td>1.0</td>\n",
       "      <td>1.0</td>\n",
       "      <td>0.0</td>\n",
       "      <td>0.0</td>\n",
       "      <td>0.0</td>\n",
       "      <td>0.0</td>\n",
       "      <td>0.0</td>\n",
       "      <td>0.0</td>\n",
       "      <td>...</td>\n",
       "      <td>0.0</td>\n",
       "      <td>0.0</td>\n",
       "      <td>0.0</td>\n",
       "      <td>0.0</td>\n",
       "      <td>0.0</td>\n",
       "      <td>0.0</td>\n",
       "      <td>1.0</td>\n",
       "      <td>2.0</td>\n",
       "      <td>1.0</td>\n",
       "      <td>2.0</td>\n",
       "    </tr>\n",
       "    <tr>\n",
       "      <th>ATCCATTGTTGAATCC-1_Lx108_UUUT</th>\n",
       "      <td>0.0</td>\n",
       "      <td>0.0</td>\n",
       "      <td>0.0</td>\n",
       "      <td>4.0</td>\n",
       "      <td>1.0</td>\n",
       "      <td>0.0</td>\n",
       "      <td>0.0</td>\n",
       "      <td>0.0</td>\n",
       "      <td>0.0</td>\n",
       "      <td>0.0</td>\n",
       "      <td>...</td>\n",
       "      <td>0.0</td>\n",
       "      <td>0.0</td>\n",
       "      <td>0.0</td>\n",
       "      <td>0.0</td>\n",
       "      <td>0.0</td>\n",
       "      <td>0.0</td>\n",
       "      <td>0.0</td>\n",
       "      <td>1.0</td>\n",
       "      <td>0.0</td>\n",
       "      <td>3.0</td>\n",
       "    </tr>\n",
       "    <tr>\n",
       "      <th>GGAGAACAGCCTGTCG-1_Lx108_UUUT</th>\n",
       "      <td>0.0</td>\n",
       "      <td>0.0</td>\n",
       "      <td>1.0</td>\n",
       "      <td>5.0</td>\n",
       "      <td>0.0</td>\n",
       "      <td>0.0</td>\n",
       "      <td>0.0</td>\n",
       "      <td>0.0</td>\n",
       "      <td>0.0</td>\n",
       "      <td>0.0</td>\n",
       "      <td>...</td>\n",
       "      <td>0.0</td>\n",
       "      <td>0.0</td>\n",
       "      <td>0.0</td>\n",
       "      <td>0.0</td>\n",
       "      <td>0.0</td>\n",
       "      <td>0.0</td>\n",
       "      <td>0.0</td>\n",
       "      <td>2.0</td>\n",
       "      <td>0.0</td>\n",
       "      <td>1.0</td>\n",
       "    </tr>\n",
       "    <tr>\n",
       "      <th>...</th>\n",
       "      <td>...</td>\n",
       "      <td>...</td>\n",
       "      <td>...</td>\n",
       "      <td>...</td>\n",
       "      <td>...</td>\n",
       "      <td>...</td>\n",
       "      <td>...</td>\n",
       "      <td>...</td>\n",
       "      <td>...</td>\n",
       "      <td>...</td>\n",
       "      <td>...</td>\n",
       "      <td>...</td>\n",
       "      <td>...</td>\n",
       "      <td>...</td>\n",
       "      <td>...</td>\n",
       "      <td>...</td>\n",
       "      <td>...</td>\n",
       "      <td>...</td>\n",
       "      <td>...</td>\n",
       "      <td>...</td>\n",
       "      <td>...</td>\n",
       "    </tr>\n",
       "    <tr>\n",
       "      <th>TCACGCTAGGGTTGCA-1_Lx108_UUUT</th>\n",
       "      <td>0.0</td>\n",
       "      <td>0.0</td>\n",
       "      <td>0.0</td>\n",
       "      <td>0.0</td>\n",
       "      <td>0.0</td>\n",
       "      <td>0.0</td>\n",
       "      <td>0.0</td>\n",
       "      <td>0.0</td>\n",
       "      <td>0.0</td>\n",
       "      <td>0.0</td>\n",
       "      <td>...</td>\n",
       "      <td>0.0</td>\n",
       "      <td>0.0</td>\n",
       "      <td>0.0</td>\n",
       "      <td>0.0</td>\n",
       "      <td>0.0</td>\n",
       "      <td>0.0</td>\n",
       "      <td>0.0</td>\n",
       "      <td>0.0</td>\n",
       "      <td>1.0</td>\n",
       "      <td>9.0</td>\n",
       "    </tr>\n",
       "    <tr>\n",
       "      <th>AGTTCCCTCGGTGTAT-1_Lx108_UUUT</th>\n",
       "      <td>0.0</td>\n",
       "      <td>1.0</td>\n",
       "      <td>0.0</td>\n",
       "      <td>2.0</td>\n",
       "      <td>0.0</td>\n",
       "      <td>0.0</td>\n",
       "      <td>0.0</td>\n",
       "      <td>0.0</td>\n",
       "      <td>0.0</td>\n",
       "      <td>0.0</td>\n",
       "      <td>...</td>\n",
       "      <td>0.0</td>\n",
       "      <td>0.0</td>\n",
       "      <td>0.0</td>\n",
       "      <td>0.0</td>\n",
       "      <td>0.0</td>\n",
       "      <td>0.0</td>\n",
       "      <td>1.0</td>\n",
       "      <td>0.0</td>\n",
       "      <td>0.0</td>\n",
       "      <td>3.0</td>\n",
       "    </tr>\n",
       "    <tr>\n",
       "      <th>ATGTCCCAGAGCATTA-1_Lx108_UUUT</th>\n",
       "      <td>0.0</td>\n",
       "      <td>0.0</td>\n",
       "      <td>0.0</td>\n",
       "      <td>0.0</td>\n",
       "      <td>0.0</td>\n",
       "      <td>0.0</td>\n",
       "      <td>0.0</td>\n",
       "      <td>0.0</td>\n",
       "      <td>0.0</td>\n",
       "      <td>0.0</td>\n",
       "      <td>...</td>\n",
       "      <td>0.0</td>\n",
       "      <td>1.0</td>\n",
       "      <td>0.0</td>\n",
       "      <td>0.0</td>\n",
       "      <td>0.0</td>\n",
       "      <td>0.0</td>\n",
       "      <td>0.0</td>\n",
       "      <td>0.0</td>\n",
       "      <td>0.0</td>\n",
       "      <td>0.0</td>\n",
       "    </tr>\n",
       "    <tr>\n",
       "      <th>CTAACTTTCTTGCAAG-1_Lx108_UUUT</th>\n",
       "      <td>0.0</td>\n",
       "      <td>0.0</td>\n",
       "      <td>0.0</td>\n",
       "      <td>0.0</td>\n",
       "      <td>0.0</td>\n",
       "      <td>0.0</td>\n",
       "      <td>0.0</td>\n",
       "      <td>0.0</td>\n",
       "      <td>0.0</td>\n",
       "      <td>0.0</td>\n",
       "      <td>...</td>\n",
       "      <td>0.0</td>\n",
       "      <td>0.0</td>\n",
       "      <td>0.0</td>\n",
       "      <td>0.0</td>\n",
       "      <td>0.0</td>\n",
       "      <td>0.0</td>\n",
       "      <td>0.0</td>\n",
       "      <td>0.0</td>\n",
       "      <td>0.0</td>\n",
       "      <td>1.0</td>\n",
       "    </tr>\n",
       "    <tr>\n",
       "      <th>GCACATATCCCATAGA-1_Lx108_UUUT</th>\n",
       "      <td>0.0</td>\n",
       "      <td>0.0</td>\n",
       "      <td>1.0</td>\n",
       "      <td>0.0</td>\n",
       "      <td>1.0</td>\n",
       "      <td>0.0</td>\n",
       "      <td>0.0</td>\n",
       "      <td>0.0</td>\n",
       "      <td>0.0</td>\n",
       "      <td>0.0</td>\n",
       "      <td>...</td>\n",
       "      <td>0.0</td>\n",
       "      <td>0.0</td>\n",
       "      <td>0.0</td>\n",
       "      <td>0.0</td>\n",
       "      <td>0.0</td>\n",
       "      <td>0.0</td>\n",
       "      <td>1.0</td>\n",
       "      <td>0.0</td>\n",
       "      <td>0.0</td>\n",
       "      <td>0.0</td>\n",
       "    </tr>\n",
       "  </tbody>\n",
       "</table>\n",
       "<p>1818 rows × 2000 columns</p>\n",
       "</div>"
      ],
      "text/plain": [
       "                               FAM87B  LINC00115  HES4  ISG15  ATAD3C  GABRD  \\\n",
       "GGAGGTAAGTCGCCCA-1_Lx108_UUUT     0.0        0.0   0.0    1.0     1.0    0.0   \n",
       "ATTGTTCAGCATTTCG-1_Lx108_UUUT     0.0        0.0   0.0    2.0     0.0    0.0   \n",
       "GAGGCCTCATCGCTAA-1_Lx108_UUUT     0.0        0.0   1.0    1.0     0.0    0.0   \n",
       "ATCCATTGTTGAATCC-1_Lx108_UUUT     0.0        0.0   0.0    4.0     1.0    0.0   \n",
       "GGAGAACAGCCTGTCG-1_Lx108_UUUT     0.0        0.0   1.0    5.0     0.0    0.0   \n",
       "...                               ...        ...   ...    ...     ...    ...   \n",
       "TCACGCTAGGGTTGCA-1_Lx108_UUUT     0.0        0.0   0.0    0.0     0.0    0.0   \n",
       "AGTTCCCTCGGTGTAT-1_Lx108_UUUT     0.0        1.0   0.0    2.0     0.0    0.0   \n",
       "ATGTCCCAGAGCATTA-1_Lx108_UUUT     0.0        0.0   0.0    0.0     0.0    0.0   \n",
       "CTAACTTTCTTGCAAG-1_Lx108_UUUT     0.0        0.0   0.0    0.0     0.0    0.0   \n",
       "GCACATATCCCATAGA-1_Lx108_UUUT     0.0        0.0   1.0    0.0     1.0    0.0   \n",
       "\n",
       "                               AL590822.2  HES5  AL139246.5  AL139246.3  ...  \\\n",
       "GGAGGTAAGTCGCCCA-1_Lx108_UUUT         0.0   0.0         0.0         0.0  ...   \n",
       "ATTGTTCAGCATTTCG-1_Lx108_UUUT         0.0   0.0         0.0         0.0  ...   \n",
       "GAGGCCTCATCGCTAA-1_Lx108_UUUT         0.0   0.0         0.0         0.0  ...   \n",
       "ATCCATTGTTGAATCC-1_Lx108_UUUT         0.0   0.0         0.0         0.0  ...   \n",
       "GGAGAACAGCCTGTCG-1_Lx108_UUUT         0.0   0.0         0.0         0.0  ...   \n",
       "...                                   ...   ...         ...         ...  ...   \n",
       "TCACGCTAGGGTTGCA-1_Lx108_UUUT         0.0   0.0         0.0         0.0  ...   \n",
       "AGTTCCCTCGGTGTAT-1_Lx108_UUUT         0.0   0.0         0.0         0.0  ...   \n",
       "ATGTCCCAGAGCATTA-1_Lx108_UUUT         0.0   0.0         0.0         0.0  ...   \n",
       "CTAACTTTCTTGCAAG-1_Lx108_UUUT         0.0   0.0         0.0         0.0  ...   \n",
       "GCACATATCCCATAGA-1_Lx108_UUUT         0.0   0.0         0.0         0.0  ...   \n",
       "\n",
       "                               BACE2  TFF1  AP001626.1  ERVH48-1  FRGCA  AIRE  \\\n",
       "GGAGGTAAGTCGCCCA-1_Lx108_UUUT    1.0   1.0         0.0       0.0    0.0   0.0   \n",
       "ATTGTTCAGCATTTCG-1_Lx108_UUUT    0.0   0.0         0.0       0.0    0.0   0.0   \n",
       "GAGGCCTCATCGCTAA-1_Lx108_UUUT    0.0   0.0         0.0       0.0    0.0   0.0   \n",
       "ATCCATTGTTGAATCC-1_Lx108_UUUT    0.0   0.0         0.0       0.0    0.0   0.0   \n",
       "GGAGAACAGCCTGTCG-1_Lx108_UUUT    0.0   0.0         0.0       0.0    0.0   0.0   \n",
       "...                              ...   ...         ...       ...    ...   ...   \n",
       "TCACGCTAGGGTTGCA-1_Lx108_UUUT    0.0   0.0         0.0       0.0    0.0   0.0   \n",
       "AGTTCCCTCGGTGTAT-1_Lx108_UUUT    0.0   0.0         0.0       0.0    0.0   0.0   \n",
       "ATGTCCCAGAGCATTA-1_Lx108_UUUT    0.0   1.0         0.0       0.0    0.0   0.0   \n",
       "CTAACTTTCTTGCAAG-1_Lx108_UUUT    0.0   0.0         0.0       0.0    0.0   0.0   \n",
       "GCACATATCCCATAGA-1_Lx108_UUUT    0.0   0.0         0.0       0.0    0.0   0.0   \n",
       "\n",
       "                               TRPM2  C21orf58  PCNT  MT-ND6  \n",
       "GGAGGTAAGTCGCCCA-1_Lx108_UUUT    1.0       5.0   1.0     1.0  \n",
       "ATTGTTCAGCATTTCG-1_Lx108_UUUT    0.0       1.0   2.0     4.0  \n",
       "GAGGCCTCATCGCTAA-1_Lx108_UUUT    1.0       2.0   1.0     2.0  \n",
       "ATCCATTGTTGAATCC-1_Lx108_UUUT    0.0       1.0   0.0     3.0  \n",
       "GGAGAACAGCCTGTCG-1_Lx108_UUUT    0.0       2.0   0.0     1.0  \n",
       "...                              ...       ...   ...     ...  \n",
       "TCACGCTAGGGTTGCA-1_Lx108_UUUT    0.0       0.0   1.0     9.0  \n",
       "AGTTCCCTCGGTGTAT-1_Lx108_UUUT    1.0       0.0   0.0     3.0  \n",
       "ATGTCCCAGAGCATTA-1_Lx108_UUUT    0.0       0.0   0.0     0.0  \n",
       "CTAACTTTCTTGCAAG-1_Lx108_UUUT    0.0       0.0   0.0     1.0  \n",
       "GCACATATCCCATAGA-1_Lx108_UUUT    1.0       0.0   0.0     0.0  \n",
       "\n",
       "[1818 rows x 2000 columns]"
      ]
     },
     "execution_count": 53,
     "metadata": {},
     "output_type": "execute_result"
    }
   ],
   "source": [
    "#STEP 11: copying over raw count \n",
    "\n",
    "for state in unique_state:\n",
    "    data_sub[state].X = data_sub[state].layers['counts'].copy()\n",
    "    \n",
    "#check for sample output\n",
    "data_sub[unique_state[1]].to_df()"
   ]
  },
  {
   "cell_type": "code",
   "execution_count": 54,
   "id": "c2b2bc79",
   "metadata": {},
   "outputs": [
    {
     "name": "stdout",
     "output_type": "stream",
     "text": [
      "Finish with:  /home/linl5/project/SCLC/results/lx108/lx108.UUUU.0.4.qc.tpm.csv  Shape:  (1643, 2000)\n",
      "Finish with:  /home/linl5/project/SCLC/results/lx108/lx108.UUUT.0.4.qc.tpm.csv  Shape:  (1818, 2000)\n",
      "Finish with:  /home/linl5/project/SCLC/results/lx108/lx108.UU.0.4.qc.tpm.csv  Shape:  (2004, 2000)\n",
      "Finish with:  /home/linl5/project/SCLC/results/lx108/lx108.UTTU.0.4.qc.tpm.csv  Shape:  (1878, 2000)\n"
     ]
    }
   ],
   "source": [
    "#STEP 12: output Timepoint specific count matrix after subsampling by state\n",
    "for state in unique_state:\n",
    "    EXP_MTX_QC_FNAME = os.path.join(RESULTS_FOLDERNAME, '{}.{}.{}.qc.tpm.csv'.format(DATASET_ID, state, frac_cells))\n",
    "    data_sub[state].to_df().to_csv(EXP_MTX_QC_FNAME, index=False, sep='\\t')\n",
    "    print(\"Finish with: \", EXP_MTX_QC_FNAME, \" Shape: \", data_sub[state].shape)\n"
   ]
  },
  {
   "cell_type": "code",
   "execution_count": 55,
   "id": "3c8fadea",
   "metadata": {},
   "outputs": [
    {
     "name": "stdout",
     "output_type": "stream",
     "text": [
      "/home/linl5/project/SCLC/resources/allTFs_hg38.txt : Size of TF list 1892\n",
      "\n",
      "Expression matrix shape for lx108 UUUU (1643, 1999)\n",
      "preparing dask client\n",
      "parsing input\n",
      "creating dask graph\n",
      "8 partitions\n",
      "computing dask graph\n",
      "shutting down client and local cluster\n",
      "finished\n",
      "\n",
      "COMPLETED GRNBOOST2 RUNNING FOR lx108 UUUU\n",
      "\n",
      "        TF  target  importance\n",
      "2    ENO1  IGFBP2  258.258363\n",
      "2    ENO1    LDHA  240.651561\n",
      "2    ENO1   BNIP3  205.784701\n",
      "98  RPL35    RPL8  138.692116\n",
      "2    ENO1   NDRG1  128.348464\n",
      "SUCCESSFUL WRITING TO /home/linl5/project/SCLC/data/lx108/lx108.UUUU.0.4.adjacencies.tsv \n",
      "\n",
      "\n",
      "Expression matrix shape for lx108 UUUT (1818, 1999)\n",
      "preparing dask client\n",
      "parsing input\n",
      "creating dask graph\n",
      "8 partitions\n",
      "computing dask graph\n",
      "shutting down client and local cluster\n",
      "finished\n",
      "\n",
      "COMPLETED GRNBOOST2 RUNNING FOR lx108 UUUT\n",
      "\n",
      "         TF  target  importance\n",
      "2     ENO1  IGFBP2  236.044854\n",
      "2     ENO1    LDHA  182.164460\n",
      "2     ENO1   BNIP3  145.333614\n",
      "98   RPL35   RPL36  120.979624\n",
      "165   E2F1    PCNA  120.930681\n",
      "SUCCESSFUL WRITING TO /home/linl5/project/SCLC/data/lx108/lx108.UUUT.0.4.adjacencies.tsv \n",
      "\n",
      "\n",
      "Expression matrix shape for lx108 UU (2004, 1999)\n",
      "preparing dask client\n",
      "parsing input\n",
      "creating dask graph\n",
      "8 partitions\n",
      "computing dask graph\n",
      "shutting down client and local cluster\n",
      "finished\n",
      "\n",
      "COMPLETED GRNBOOST2 RUNNING FOR lx108 UU\n",
      "\n",
      "        TF  target  importance\n",
      "2    ENO1  IGFBP2  148.005636\n",
      "98  RPL35   RPL39  135.568610\n",
      "2    ENO1   BNIP3  128.284675\n",
      "2    ENO1    LDHA  117.677932\n",
      "98  RPL35     TXN  115.975557\n",
      "SUCCESSFUL WRITING TO /home/linl5/project/SCLC/data/lx108/lx108.UU.0.4.adjacencies.tsv \n",
      "\n",
      "\n",
      "Expression matrix shape for lx108 UTTU (1878, 1999)\n",
      "preparing dask client\n",
      "parsing input\n",
      "creating dask graph\n",
      "8 partitions\n",
      "computing dask graph\n",
      "shutting down client and local cluster\n",
      "finished\n",
      "\n",
      "COMPLETED GRNBOOST2 RUNNING FOR lx108 UTTU\n",
      "\n",
      "        TF  target  importance\n",
      "2    ENO1    LDHA  137.920410\n",
      "2    ENO1  IGFBP2  136.440028\n",
      "98  RPL35    RPL8  124.929370\n",
      "2    ENO1   BNIP3  112.204138\n",
      "98  RPL35   RPS28  104.228056\n",
      "SUCCESSFUL WRITING TO /home/linl5/project/SCLC/data/lx108/lx108.UTTU.0.4.adjacencies.tsv \n",
      "\n"
     ]
    }
   ],
   "source": [
    "# STEP 13: prepping for GRN, Loading in expression matrix and TF files\n",
    "\n",
    "#Loading TF\n",
    "tf_names = load_tf_names(HUMAN_TFS_FNAME)\n",
    "print(HUMAN_TFS_FNAME, \": Size of TF list\", len(tf_names))\n",
    "\n",
    "#selecting !!!! CHANGE\n",
    "frac_cells = 0.4\n",
    "\n",
    "#expression matrix\n",
    "for state in unique_state:\n",
    "    EXP_MTX_QC_FNAME = os.path.join(RESULTS_FOLDERNAME, '{}.{}.{}.qc.tpm.csv'.format(DATASET_ID, state, frac_cells))\n",
    "    ex_matrix = pd.read_csv(EXP_MTX_QC_FNAME, sep='\\t', header=0, index_col=0)\n",
    "   \n",
    "    #Input Checking \n",
    "    print(\"\\nExpression matrix shape for\", DATASET_ID, state, ex_matrix.shape)\n",
    "\n",
    "#STEP 14: Running GRNBOOST2 for coexpression modules\n",
    "    adjacencies = grnboost2(expression_data=ex_matrix, tf_names=tf_names, verbose=True)\n",
    "    print(\"\\nCOMPLETED GRNBOOST2 RUNNING FOR\", DATASET_ID, state)\n",
    "    print(\"\\n\", adjacencies.head())\n",
    "    ADJACENCIES_FNAME = os.path.join(DATA_FOLDERNAME, \"{}.{}.{}.adjacencies.tsv\".format(DATASET_ID, state, frac_cells))\n",
    "    adjacencies.to_csv(ADJACENCIES_FNAME, index=False, sep='\\t')\n",
    "    print(\"SUCCESSFUL WRITING TO\", ADJACENCIES_FNAME, \"\\n\")\n",
    "    "
   ]
  },
  {
   "cell_type": "code",
   "execution_count": 56,
   "id": "0a76f0c1",
   "metadata": {},
   "outputs": [],
   "source": [
    "#STEP 15: Prepping for RCistarget: Loading Database and motif\n",
    "\n",
    "DATABASE_FOLDER = \"/home/linl5/project/SCLC/auxilliaries/\"\n",
    "DATABASES_GLOB = os.path.join(DATABASE_FOLDER, \"hg38_*.mc9nr.genes_vs_motifs.rankings.feather\")\n",
    "\n",
    "db_fnames = glob.glob(DATABASES_GLOB)\n",
    "def name(fname):\n",
    "    return os.path.splitext(os.path.basename(fname))[0]\n",
    "dbs = [RankingDatabase(fname=fname, name=name(fname)) for fname in db_fnames]\n",
    "dbs\n",
    "\n",
    "MOTIF_ANNOTATIONS_FNAME = os.path.join(RESOURCES_FOLDERNAME,\"motifs-v9-nr.hgnc-m0.001-o0.0.tbl\")"
   ]
  },
  {
   "cell_type": "code",
   "execution_count": null,
   "id": "88dcd893",
   "metadata": {},
   "outputs": [
    {
     "name": "stdout",
     "output_type": "stream",
     "text": [
      "\n",
      "FINISHED READING ADJACENCIES FILE /home/linl5/project/SCLC/data/lx108/lx108.UUUU.0.4.adjacencies.tsv \n",
      "\n"
     ]
    },
    {
     "name": "stderr",
     "output_type": "stream",
     "text": [
      "\n",
      "2023-08-07 15:44:33,310 - pyscenic.utils - INFO - Calculating Pearson correlations.\n",
      "\n",
      "2023-08-07 15:44:33,341 - pyscenic.utils - WARNING - Note on correlation calculation: the default behaviour for calculating the correlations has changed after pySCENIC verion 0.9.16. Previously, the default was to calculate the correlation between a TF and target gene using only cells with non-zero expression values (mask_dropouts=True). The current default is now to use all cells to match the behavior of the R verision of SCENIC. The original settings can be retained by setting 'rho_mask_dropouts=True' in the modules_from_adjacencies function, or '--mask_dropouts' from the CLI.\n",
      "\tDropout masking is currently set to [False].\n"
     ]
    },
    {
     "name": "stdout",
     "output_type": "stream",
     "text": [
      "\n",
      "FINISHED READING EXPRESSION MATRIX /home/linl5/project/SCLC/results/lx108/lx108.UUUU.0.4.qc.tpm.csv \n",
      "\n"
     ]
    },
    {
     "name": "stderr",
     "output_type": "stream",
     "text": [
      "\n",
      "2023-08-07 15:44:35,121 - pyscenic.utils - INFO - Creating modules.\n"
     ]
    },
    {
     "name": "stdout",
     "output_type": "stream",
     "text": [
      "\n",
      "COMPLETED COEXPRESSION MODULE WRITING: /home/linl5/project/SCLC/data/lx108/lx108.UUUU.0.4.modules.p \n",
      "\n",
      "[                                        ] | 0% Completed | 14.02 sms"
     ]
    },
    {
     "name": "stderr",
     "output_type": "stream",
     "text": [
      "\n",
      "2023-08-07 15:44:58,547 - pyscenic.transform - WARNING - Less than 80% of the genes in E2F7 could be mapped to hg38__refseq-r80__10kb_up_and_down_tss.mc9nr.genes_vs_motifs.rankings. Skipping this module.\n"
     ]
    },
    {
     "name": "stdout",
     "output_type": "stream",
     "text": [
      "[                                        ] | 0% Completed | 16.77 s"
     ]
    },
    {
     "name": "stderr",
     "output_type": "stream",
     "text": [
      "\n",
      "2023-08-07 15:45:01,384 - pyscenic.transform - WARNING - Less than 80% of the genes in EGR1 could be mapped to hg38__refseq-r80__10kb_up_and_down_tss.mc9nr.genes_vs_motifs.rankings. Skipping this module.\n",
      "\n",
      "2023-08-07 15:45:01,542 - pyscenic.transform - WARNING - Less than 80% of the genes in EGR2 could be mapped to hg38__refseq-r80__10kb_up_and_down_tss.mc9nr.genes_vs_motifs.rankings. Skipping this module.\n"
     ]
    },
    {
     "name": "stdout",
     "output_type": "stream",
     "text": [
      "[                                        ] | 0% Completed | 19.42 s"
     ]
    },
    {
     "name": "stderr",
     "output_type": "stream",
     "text": [
      "\n",
      "2023-08-07 15:45:03,940 - pyscenic.transform - WARNING - Less than 80% of the genes in EGR4 could be mapped to hg38__refseq-r80__10kb_up_and_down_tss.mc9nr.genes_vs_motifs.rankings. Skipping this module.\n"
     ]
    },
    {
     "name": "stdout",
     "output_type": "stream",
     "text": [
      "[                                        ] | 0% Completed | 24.12 s"
     ]
    },
    {
     "name": "stderr",
     "output_type": "stream",
     "text": [
      "\n",
      "2023-08-07 15:45:08,627 - pyscenic.transform - WARNING - Less than 80% of the genes in FGF19 could be mapped to hg38__refseq-r80__10kb_up_and_down_tss.mc9nr.genes_vs_motifs.rankings. Skipping this module.\n"
     ]
    },
    {
     "name": "stdout",
     "output_type": "stream",
     "text": [
      "[                                        ] | 0% Completed | 27.58 s"
     ]
    },
    {
     "name": "stderr",
     "output_type": "stream",
     "text": [
      "\n",
      "2023-08-07 15:45:12,135 - pyscenic.transform - WARNING - Less than 80% of the genes in FOSL1 could be mapped to hg38__refseq-r80__10kb_up_and_down_tss.mc9nr.genes_vs_motifs.rankings. Skipping this module.\n"
     ]
    },
    {
     "name": "stdout",
     "output_type": "stream",
     "text": [
      "[                                        ] | 0% Completed | 31.26 s"
     ]
    },
    {
     "name": "stderr",
     "output_type": "stream",
     "text": [
      "\n",
      "2023-08-07 15:45:15,822 - pyscenic.transform - WARNING - Less than 80% of the genes in GRHL1 could be mapped to hg38__refseq-r80__10kb_up_and_down_tss.mc9nr.genes_vs_motifs.rankings. Skipping this module.\n"
     ]
    },
    {
     "name": "stdout",
     "output_type": "stream",
     "text": [
      "[                                        ] | 0% Completed | 32.08 s"
     ]
    },
    {
     "name": "stderr",
     "output_type": "stream",
     "text": [
      "\n",
      "2023-08-07 15:45:16,593 - pyscenic.transform - WARNING - Less than 80% of the genes in GTF2A1 could be mapped to hg38__refseq-r80__10kb_up_and_down_tss.mc9nr.genes_vs_motifs.rankings. Skipping this module.\n"
     ]
    },
    {
     "name": "stdout",
     "output_type": "stream",
     "text": [
      "[                                        ] | 0% Completed | 35.34 s"
     ]
    },
    {
     "name": "stderr",
     "output_type": "stream",
     "text": [
      "\n",
      "2023-08-07 15:45:19,900 - pyscenic.transform - WARNING - Less than 80% of the genes in HOXB1 could be mapped to hg38__refseq-r80__10kb_up_and_down_tss.mc9nr.genes_vs_motifs.rankings. Skipping this module.\n",
      "\n",
      "2023-08-07 15:45:20,025 - pyscenic.transform - WARNING - Less than 80% of the genes in HOXB2 could be mapped to hg38__refseq-r80__10kb_up_and_down_tss.mc9nr.genes_vs_motifs.rankings. Skipping this module.\n"
     ]
    },
    {
     "name": "stdout",
     "output_type": "stream",
     "text": [
      "[                                        ] | 0% Completed | 36.16 s"
     ]
    },
    {
     "name": "stderr",
     "output_type": "stream",
     "text": [
      "\n",
      "2023-08-07 15:45:20,691 - pyscenic.transform - WARNING - Less than 80% of the genes in ID2 could be mapped to hg38__refseq-r80__10kb_up_and_down_tss.mc9nr.genes_vs_motifs.rankings. Skipping this module.\n",
      "\n",
      "2023-08-07 15:45:20,827 - pyscenic.transform - WARNING - Less than 80% of the genes in ID4 could be mapped to hg38__refseq-r80__10kb_up_and_down_tss.mc9nr.genes_vs_motifs.rankings. Skipping this module.\n"
     ]
    },
    {
     "name": "stdout",
     "output_type": "stream",
     "text": [
      "[                                        ] | 0% Completed | 36.36 s"
     ]
    },
    {
     "name": "stderr",
     "output_type": "stream",
     "text": [
      "\n",
      "2023-08-07 15:45:20,959 - pyscenic.transform - WARNING - Less than 80% of the genes in INSM1 could be mapped to hg38__refseq-r80__10kb_up_and_down_tss.mc9nr.genes_vs_motifs.rankings. Skipping this module.\n"
     ]
    },
    {
     "name": "stdout",
     "output_type": "stream",
     "text": [
      "[                                        ] | 0% Completed | 43.48 s"
     ]
    },
    {
     "name": "stderr",
     "output_type": "stream",
     "text": [
      "\n",
      "2023-08-07 15:45:27,997 - pyscenic.transform - WARNING - Less than 80% of the genes in KLF4 could be mapped to hg38__refseq-r80__10kb_up_and_down_tss.mc9nr.genes_vs_motifs.rankings. Skipping this module.\n"
     ]
    },
    {
     "name": "stdout",
     "output_type": "stream",
     "text": [
      "[                                        ] | 0% Completed | 46.64 s"
     ]
    },
    {
     "name": "stderr",
     "output_type": "stream",
     "text": [
      "\n",
      "2023-08-07 15:45:31,205 - pyscenic.transform - WARNING - Less than 80% of the genes in MAF could be mapped to hg38__refseq-r80__10kb_up_and_down_tss.mc9nr.genes_vs_motifs.rankings. Skipping this module.\n"
     ]
    },
    {
     "name": "stdout",
     "output_type": "stream",
     "text": [
      "[                                        ] | 0% Completed | 49.99 s"
     ]
    },
    {
     "name": "stderr",
     "output_type": "stream",
     "text": [
      "\n",
      "2023-08-07 15:45:34,513 - pyscenic.transform - WARNING - Less than 80% of the genes in MYBL1 could be mapped to hg38__refseq-r80__10kb_up_and_down_tss.mc9nr.genes_vs_motifs.rankings. Skipping this module.\n"
     ]
    },
    {
     "name": "stdout",
     "output_type": "stream",
     "text": [
      "[                                        ] | 0% Completed | 50.91 s"
     ]
    },
    {
     "name": "stderr",
     "output_type": "stream",
     "text": [
      "\n",
      "2023-08-07 15:45:35,462 - pyscenic.transform - WARNING - Less than 80% of the genes in MYC could be mapped to hg38__refseq-r80__10kb_up_and_down_tss.mc9nr.genes_vs_motifs.rankings. Skipping this module.\n",
      "\n",
      "2023-08-07 15:45:35,528 - pyscenic.transform - WARNING - Less than 80% of the genes in MYCL could be mapped to hg38__refseq-r80__10kb_up_and_down_tss.mc9nr.genes_vs_motifs.rankings. Skipping this module.\n"
     ]
    },
    {
     "name": "stdout",
     "output_type": "stream",
     "text": [
      "[                                        ] | 0% Completed | 51.11 s"
     ]
    },
    {
     "name": "stderr",
     "output_type": "stream",
     "text": [
      "\n",
      "2023-08-07 15:45:35,670 - pyscenic.transform - WARNING - Less than 80% of the genes in NFIA could be mapped to hg38__refseq-r80__10kb_up_and_down_tss.mc9nr.genes_vs_motifs.rankings. Skipping this module.\n"
     ]
    },
    {
     "name": "stdout",
     "output_type": "stream",
     "text": [
      "[                                        ] | 0% Completed | 52.43 s"
     ]
    },
    {
     "name": "stderr",
     "output_type": "stream",
     "text": [
      "\n",
      "2023-08-07 15:45:36,963 - pyscenic.transform - WARNING - Less than 80% of the genes in NKX2-2 could be mapped to hg38__refseq-r80__10kb_up_and_down_tss.mc9nr.genes_vs_motifs.rankings. Skipping this module.\n"
     ]
    },
    {
     "name": "stdout",
     "output_type": "stream",
     "text": [
      "[                                        ] | 0% Completed | 53.14 s"
     ]
    },
    {
     "name": "stderr",
     "output_type": "stream",
     "text": [
      "\n",
      "2023-08-07 15:45:37,681 - pyscenic.transform - WARNING - Less than 80% of the genes in NKX2-5 could be mapped to hg38__refseq-r80__10kb_up_and_down_tss.mc9nr.genes_vs_motifs.rankings. Skipping this module.\n"
     ]
    },
    {
     "name": "stdout",
     "output_type": "stream",
     "text": [
      "[                                        ] | 0% Completed | 54.26 s"
     ]
    },
    {
     "name": "stderr",
     "output_type": "stream",
     "text": [
      "\n",
      "2023-08-07 15:45:38,822 - pyscenic.transform - WARNING - Less than 80% of the genes in NR2F2 could be mapped to hg38__refseq-r80__10kb_up_and_down_tss.mc9nr.genes_vs_motifs.rankings. Skipping this module.\n",
      "\n",
      "2023-08-07 15:45:38,916 - pyscenic.transform - WARNING - Less than 80% of the genes in NR4A1 could be mapped to hg38__refseq-r80__10kb_up_and_down_tss.mc9nr.genes_vs_motifs.rankings. Skipping this module.\n",
      "\n",
      "2023-08-07 15:45:38,995 - pyscenic.transform - WARNING - Less than 80% of the genes in NR4A2 could be mapped to hg38__refseq-r80__10kb_up_and_down_tss.mc9nr.genes_vs_motifs.rankings. Skipping this module.\n"
     ]
    },
    {
     "name": "stdout",
     "output_type": "stream",
     "text": [
      "[                                        ] | 0% Completed | 56.60 s"
     ]
    },
    {
     "name": "stderr",
     "output_type": "stream",
     "text": [
      "\n",
      "2023-08-07 15:45:41,169 - pyscenic.transform - WARNING - Less than 80% of the genes in POU2AF1 could be mapped to hg38__refseq-r80__10kb_up_and_down_tss.mc9nr.genes_vs_motifs.rankings. Skipping this module.\n",
      "\n",
      "2023-08-07 15:45:41,240 - pyscenic.transform - WARNING - Less than 80% of the genes in POU2F2 could be mapped to hg38__refseq-r80__10kb_up_and_down_tss.mc9nr.genes_vs_motifs.rankings. Skipping this module.\n"
     ]
    },
    {
     "name": "stdout",
     "output_type": "stream",
     "text": [
      "[                                        ] | 0% Completed | 56.91 s"
     ]
    },
    {
     "name": "stderr",
     "output_type": "stream",
     "text": [
      "\n",
      "2023-08-07 15:45:41,452 - pyscenic.transform - WARNING - Less than 80% of the genes in POU4F1 could be mapped to hg38__refseq-r80__10kb_up_and_down_tss.mc9nr.genes_vs_motifs.rankings. Skipping this module.\n",
      "\n",
      "2023-08-07 15:45:41,628 - pyscenic.transform - WARNING - Less than 80% of the genes in PPARGC1A could be mapped to hg38__refseq-r80__10kb_up_and_down_tss.mc9nr.genes_vs_motifs.rankings. Skipping this module.\n"
     ]
    },
    {
     "name": "stdout",
     "output_type": "stream",
     "text": [
      "[                                        ] | 0% Completed | 59.56 s"
     ]
    },
    {
     "name": "stderr",
     "output_type": "stream",
     "text": [
      "\n",
      "2023-08-07 15:45:44,076 - pyscenic.transform - WARNING - Less than 80% of the genes in RELB could be mapped to hg38__refseq-r80__10kb_up_and_down_tss.mc9nr.genes_vs_motifs.rankings. Skipping this module.\n"
     ]
    },
    {
     "name": "stdout",
     "output_type": "stream",
     "text": [
      "[                                        ] | 0% Completed | 60.69 s"
     ]
    },
    {
     "name": "stderr",
     "output_type": "stream",
     "text": [
      "\n",
      "2023-08-07 15:45:45,261 - pyscenic.transform - WARNING - Less than 80% of the genes in RUNX3 could be mapped to hg38__refseq-r80__10kb_up_and_down_tss.mc9nr.genes_vs_motifs.rankings. Skipping this module.\n"
     ]
    },
    {
     "name": "stdout",
     "output_type": "stream",
     "text": [
      "[                                        ] | 0% Completed | 62.33 s"
     ]
    },
    {
     "name": "stderr",
     "output_type": "stream",
     "text": [
      "\n",
      "2023-08-07 15:45:46,842 - pyscenic.transform - WARNING - Less than 80% of the genes in SP5 could be mapped to hg38__refseq-r80__10kb_up_and_down_tss.mc9nr.genes_vs_motifs.rankings. Skipping this module.\n"
     ]
    },
    {
     "name": "stdout",
     "output_type": "stream",
     "text": [
      "[                                        ] | 0% Completed | 62.53 s"
     ]
    },
    {
     "name": "stderr",
     "output_type": "stream",
     "text": [
      "\n",
      "2023-08-07 15:45:47,085 - pyscenic.transform - WARNING - Less than 80% of the genes in TAL2 could be mapped to hg38__refseq-r80__10kb_up_and_down_tss.mc9nr.genes_vs_motifs.rankings. Skipping this module.\n"
     ]
    },
    {
     "name": "stdout",
     "output_type": "stream",
     "text": [
      "[                                        ] | 0% Completed | 63.24 s"
     ]
    },
    {
     "name": "stderr",
     "output_type": "stream",
     "text": [
      "\n",
      "2023-08-07 15:45:47,848 - pyscenic.transform - WARNING - Less than 80% of the genes in TBX3 could be mapped to hg38__refseq-r80__10kb_up_and_down_tss.mc9nr.genes_vs_motifs.rankings. Skipping this module.\n"
     ]
    },
    {
     "name": "stdout",
     "output_type": "stream",
     "text": [
      "[                                        ] | 0% Completed | 65.39 s"
     ]
    },
    {
     "name": "stderr",
     "output_type": "stream",
     "text": [
      "\n",
      "2023-08-07 15:45:49,982 - pyscenic.transform - WARNING - Less than 80% of the genes in TWIST1 could be mapped to hg38__refseq-r80__10kb_up_and_down_tss.mc9nr.genes_vs_motifs.rankings. Skipping this module.\n"
     ]
    },
    {
     "name": "stdout",
     "output_type": "stream",
     "text": [
      "[                                        ] | 0% Completed | 66.30 s"
     ]
    },
    {
     "name": "stderr",
     "output_type": "stream",
     "text": [
      "\n",
      "2023-08-07 15:45:50,831 - pyscenic.transform - WARNING - Less than 80% of the genes in ZIC2 could be mapped to hg38__refseq-r80__10kb_up_and_down_tss.mc9nr.genes_vs_motifs.rankings. Skipping this module.\n"
     ]
    },
    {
     "name": "stdout",
     "output_type": "stream",
     "text": [
      "[                                        ] | 0% Completed | 67.43 s"
     ]
    },
    {
     "name": "stderr",
     "output_type": "stream",
     "text": [
      "\n",
      "2023-08-07 15:45:51,963 - pyscenic.transform - WARNING - Less than 80% of the genes in ZNF367 could be mapped to hg38__refseq-r80__10kb_up_and_down_tss.mc9nr.genes_vs_motifs.rankings. Skipping this module.\n",
      "\n",
      "2023-08-07 15:45:52,100 - pyscenic.transform - WARNING - Less than 80% of the genes in ZNF503 could be mapped to hg38__refseq-r80__10kb_up_and_down_tss.mc9nr.genes_vs_motifs.rankings. Skipping this module.\n"
     ]
    },
    {
     "name": "stdout",
     "output_type": "stream",
     "text": [
      "[                                        ] | 0% Completed | 67.84 s"
     ]
    },
    {
     "name": "stderr",
     "output_type": "stream",
     "text": [
      "\n",
      "2023-08-07 15:45:52,382 - pyscenic.transform - WARNING - Less than 80% of the genes in ZSCAN31 could be mapped to hg38__refseq-r80__10kb_up_and_down_tss.mc9nr.genes_vs_motifs.rankings. Skipping this module.\n"
     ]
    },
    {
     "name": "stdout",
     "output_type": "stream",
     "text": [
      "[                                        ] | 0% Completed | 75.40 s"
     ]
    },
    {
     "name": "stderr",
     "output_type": "stream",
     "text": [
      "\n",
      "2023-08-07 15:45:59,917 - pyscenic.transform - WARNING - Less than 80% of the genes in BHLHE22 could be mapped to hg38__refseq-r80__10kb_up_and_down_tss.mc9nr.genes_vs_motifs.rankings. Skipping this module.\n"
     ]
    },
    {
     "name": "stdout",
     "output_type": "stream",
     "text": [
      "[                                        ] | 0% Completed | 76.32 s"
     ]
    },
    {
     "name": "stderr",
     "output_type": "stream",
     "text": [
      "\n",
      "2023-08-07 15:46:00,830 - pyscenic.transform - WARNING - Less than 80% of the genes in BHLHE41 could be mapped to hg38__refseq-r80__10kb_up_and_down_tss.mc9nr.genes_vs_motifs.rankings. Skipping this module.\n"
     ]
    },
    {
     "name": "stdout",
     "output_type": "stream",
     "text": [
      "[                                        ] | 0% Completed | 79.27 s"
     ]
    },
    {
     "name": "stderr",
     "output_type": "stream",
     "text": [
      "\n",
      "2023-08-07 15:46:03,802 - pyscenic.transform - WARNING - Less than 80% of the genes in BCL3 could be mapped to hg38__refseq-r80__500bp_up_and_100bp_down_tss.mc9nr.genes_vs_motifs.rankings. Skipping this module.\n"
     ]
    },
    {
     "name": "stdout",
     "output_type": "stream",
     "text": [
      "[                                        ] | 0% Completed | 83.55 s"
     ]
    },
    {
     "name": "stderr",
     "output_type": "stream",
     "text": [
      "\n",
      "2023-08-07 15:46:08,068 - pyscenic.transform - WARNING - Less than 80% of the genes in CEBPG could be mapped to hg38__refseq-r80__500bp_up_and_100bp_down_tss.mc9nr.genes_vs_motifs.rankings. Skipping this module.\n"
     ]
    },
    {
     "name": "stdout",
     "output_type": "stream",
     "text": [
      "[                                        ] | 0% Completed | 84.27 s"
     ]
    },
    {
     "name": "stderr",
     "output_type": "stream",
     "text": [
      "\n",
      "2023-08-07 15:46:08,825 - pyscenic.transform - WARNING - Less than 80% of the genes in CREB5 could be mapped to hg38__refseq-r80__500bp_up_and_100bp_down_tss.mc9nr.genes_vs_motifs.rankings. Skipping this module.\n"
     ]
    },
    {
     "name": "stdout",
     "output_type": "stream",
     "text": [
      "[                                        ] | 0% Completed | 85.79 s"
     ]
    },
    {
     "name": "stderr",
     "output_type": "stream",
     "text": [
      "\n",
      "2023-08-07 15:46:10,318 - pyscenic.transform - WARNING - Less than 80% of the genes in DLX5 could be mapped to hg38__refseq-r80__500bp_up_and_100bp_down_tss.mc9nr.genes_vs_motifs.rankings. Skipping this module.\n",
      "\n",
      "2023-08-07 15:46:10,458 - pyscenic.transform - WARNING - Less than 80% of the genes in DMRTA1 could be mapped to hg38__refseq-r80__500bp_up_and_100bp_down_tss.mc9nr.genes_vs_motifs.rankings. Skipping this module.\n"
     ]
    },
    {
     "name": "stdout",
     "output_type": "stream",
     "text": [
      "[                                        ] | 0% Completed | 86.10 s"
     ]
    },
    {
     "name": "stderr",
     "output_type": "stream",
     "text": [
      "\n",
      "2023-08-07 15:46:10,614 - pyscenic.transform - WARNING - Less than 80% of the genes in DTL could be mapped to hg38__refseq-r80__500bp_up_and_100bp_down_tss.mc9nr.genes_vs_motifs.rankings. Skipping this module.\n"
     ]
    },
    {
     "name": "stdout",
     "output_type": "stream",
     "text": [
      "[                                        ] | 0% Completed | 89.97 s"
     ]
    },
    {
     "name": "stderr",
     "output_type": "stream",
     "text": [
      "\n",
      "2023-08-07 15:46:14,575 - pyscenic.transform - WARNING - Less than 80% of the genes in E2F7 could be mapped to hg38__refseq-r80__500bp_up_and_100bp_down_tss.mc9nr.genes_vs_motifs.rankings. Skipping this module.\n"
     ]
    },
    {
     "name": "stdout",
     "output_type": "stream",
     "text": [
      "[                                        ] | 0% Completed | 90.88 s"
     ]
    },
    {
     "name": "stderr",
     "output_type": "stream",
     "text": [
      "\n",
      "2023-08-07 15:46:15,414 - pyscenic.transform - WARNING - Less than 80% of the genes in E2F8 could be mapped to hg38__refseq-r80__500bp_up_and_100bp_down_tss.mc9nr.genes_vs_motifs.rankings. Skipping this module.\n"
     ]
    },
    {
     "name": "stdout",
     "output_type": "stream",
     "text": [
      "[                                        ] | 0% Completed | 97.01 s"
     ]
    },
    {
     "name": "stderr",
     "output_type": "stream",
     "text": [
      "\n",
      "2023-08-07 15:46:21,584 - pyscenic.transform - WARNING - Less than 80% of the genes in ETV4 could be mapped to hg38__refseq-r80__500bp_up_and_100bp_down_tss.mc9nr.genes_vs_motifs.rankings. Skipping this module.\n"
     ]
    },
    {
     "name": "stdout",
     "output_type": "stream",
     "text": [
      "[                                        ] | 0% Completed | 98.74 s"
     ]
    },
    {
     "name": "stderr",
     "output_type": "stream",
     "text": [
      "\n",
      "2023-08-07 15:46:23,280 - pyscenic.transform - WARNING - Less than 80% of the genes in FOSB could be mapped to hg38__refseq-r80__500bp_up_and_100bp_down_tss.mc9nr.genes_vs_motifs.rankings. Skipping this module.\n"
     ]
    },
    {
     "name": "stdout",
     "output_type": "stream",
     "text": [
      "[                                        ] | 0% Completed | 100.28 s"
     ]
    },
    {
     "name": "stderr",
     "output_type": "stream",
     "text": [
      "\n",
      "2023-08-07 15:46:24,845 - pyscenic.transform - WARNING - Less than 80% of the genes in GOT1 could be mapped to hg38__refseq-r80__500bp_up_and_100bp_down_tss.mc9nr.genes_vs_motifs.rankings. Skipping this module.\n"
     ]
    },
    {
     "name": "stdout",
     "output_type": "stream",
     "text": [
      "[                                        ] | 0% Completed | 102.73 s"
     ]
    },
    {
     "name": "stderr",
     "output_type": "stream",
     "text": [
      "\n",
      "2023-08-07 15:46:27,333 - pyscenic.transform - WARNING - Less than 80% of the genes in HIST1H2BN could be mapped to hg38__refseq-r80__500bp_up_and_100bp_down_tss.mc9nr.genes_vs_motifs.rankings. Skipping this module.\n"
     ]
    },
    {
     "name": "stdout",
     "output_type": "stream",
     "text": [
      "[                                        ] | 0% Completed | 104.36 s"
     ]
    },
    {
     "name": "stderr",
     "output_type": "stream",
     "text": [
      "\n",
      "2023-08-07 15:46:28,968 - pyscenic.transform - WARNING - Less than 80% of the genes in HOXB2 could be mapped to hg38__refseq-r80__500bp_up_and_100bp_down_tss.mc9nr.genes_vs_motifs.rankings. Skipping this module.\n",
      "\n",
      "2023-08-07 15:46:29,110 - pyscenic.transform - WARNING - Less than 80% of the genes in HOXB5 could be mapped to hg38__refseq-r80__500bp_up_and_100bp_down_tss.mc9nr.genes_vs_motifs.rankings. Skipping this module.\n"
     ]
    },
    {
     "name": "stdout",
     "output_type": "stream",
     "text": [
      "[                                        ] | 0% Completed | 104.66 s"
     ]
    },
    {
     "name": "stderr",
     "output_type": "stream",
     "text": [
      "\n",
      "2023-08-07 15:46:29,229 - pyscenic.transform - WARNING - Less than 80% of the genes in HOXD1 could be mapped to hg38__refseq-r80__500bp_up_and_100bp_down_tss.mc9nr.genes_vs_motifs.rankings. Skipping this module.\n"
     ]
    },
    {
     "name": "stdout",
     "output_type": "stream",
     "text": [
      "[                                        ] | 0% Completed | 105.07 s"
     ]
    },
    {
     "name": "stderr",
     "output_type": "stream",
     "text": [
      "\n",
      "2023-08-07 15:46:29,668 - pyscenic.transform - WARNING - Less than 80% of the genes in ID2 could be mapped to hg38__refseq-r80__500bp_up_and_100bp_down_tss.mc9nr.genes_vs_motifs.rankings. Skipping this module.\n",
      "\n",
      "2023-08-07 15:46:29,830 - pyscenic.transform - WARNING - Less than 80% of the genes in ID4 could be mapped to hg38__refseq-r80__500bp_up_and_100bp_down_tss.mc9nr.genes_vs_motifs.rankings. Skipping this module.\n"
     ]
    },
    {
     "name": "stdout",
     "output_type": "stream",
     "text": [
      "[                                        ] | 0% Completed | 105.38 s"
     ]
    },
    {
     "name": "stderr",
     "output_type": "stream",
     "text": [
      "\n",
      "2023-08-07 15:46:29,986 - pyscenic.transform - WARNING - Less than 80% of the genes in INSM1 could be mapped to hg38__refseq-r80__500bp_up_and_100bp_down_tss.mc9nr.genes_vs_motifs.rankings. Skipping this module.\n",
      "\n",
      "2023-08-07 15:46:30,159 - pyscenic.transform - WARNING - Less than 80% of the genes in IRF1 could be mapped to hg38__refseq-r80__500bp_up_and_100bp_down_tss.mc9nr.genes_vs_motifs.rankings. Skipping this module.\n"
     ]
    },
    {
     "name": "stdout",
     "output_type": "stream",
     "text": [
      "[                                        ] | 0% Completed | 108.54 s"
     ]
    },
    {
     "name": "stderr",
     "output_type": "stream",
     "text": [
      "\n",
      "2023-08-07 15:46:33,109 - pyscenic.transform - WARNING - Less than 80% of the genes in KIF22 could be mapped to hg38__refseq-r80__500bp_up_and_100bp_down_tss.mc9nr.genes_vs_motifs.rankings. Skipping this module.\n"
     ]
    },
    {
     "name": "stdout",
     "output_type": "stream",
     "text": [
      "[                                        ] | 0% Completed | 109.05 s"
     ]
    },
    {
     "name": "stderr",
     "output_type": "stream",
     "text": [
      "\n",
      "2023-08-07 15:46:33,584 - pyscenic.transform - WARNING - Less than 80% of the genes in KLF4 could be mapped to hg38__refseq-r80__500bp_up_and_100bp_down_tss.mc9nr.genes_vs_motifs.rankings. Skipping this module.\n",
      "\n",
      "2023-08-07 15:46:33,728 - pyscenic.transform - WARNING - Less than 80% of the genes in KLF5 could be mapped to hg38__refseq-r80__500bp_up_and_100bp_down_tss.mc9nr.genes_vs_motifs.rankings. Skipping this module.\n"
     ]
    },
    {
     "name": "stdout",
     "output_type": "stream",
     "text": [
      "[                                        ] | 0% Completed | 110.69 s"
     ]
    },
    {
     "name": "stderr",
     "output_type": "stream",
     "text": [
      "\n",
      "2023-08-07 15:46:35,211 - pyscenic.transform - WARNING - Less than 80% of the genes in MEOX2 could be mapped to hg38__refseq-r80__500bp_up_and_100bp_down_tss.mc9nr.genes_vs_motifs.rankings. Skipping this module.\n"
     ]
    },
    {
     "name": "stdout",
     "output_type": "stream",
     "text": [
      "[                                        ] | 0% Completed | 112.32 s"
     ]
    },
    {
     "name": "stderr",
     "output_type": "stream",
     "text": [
      "\n",
      "2023-08-07 15:46:36,865 - pyscenic.transform - WARNING - Less than 80% of the genes in MYBL1 could be mapped to hg38__refseq-r80__500bp_up_and_100bp_down_tss.mc9nr.genes_vs_motifs.rankings. Skipping this module.\n"
     ]
    },
    {
     "name": "stdout",
     "output_type": "stream",
     "text": [
      "[                                        ] | 0% Completed | 112.63 s"
     ]
    },
    {
     "name": "stderr",
     "output_type": "stream",
     "text": [
      "\n",
      "2023-08-07 15:46:37,153 - pyscenic.transform - WARNING - Less than 80% of the genes in MYC could be mapped to hg38__refseq-r80__500bp_up_and_100bp_down_tss.mc9nr.genes_vs_motifs.rankings. Skipping this module.\n",
      "\n",
      "2023-08-07 15:46:37,270 - pyscenic.transform - WARNING - Less than 80% of the genes in NKX2-2 could be mapped to hg38__refseq-r80__500bp_up_and_100bp_down_tss.mc9nr.genes_vs_motifs.rankings. Skipping this module.\n"
     ]
    },
    {
     "name": "stdout",
     "output_type": "stream",
     "text": [
      "[                                        ] | 0% Completed | 112.83 s"
     ]
    },
    {
     "name": "stderr",
     "output_type": "stream",
     "text": [
      "\n",
      "2023-08-07 15:46:37,389 - pyscenic.transform - WARNING - Less than 80% of the genes in NKX2-5 could be mapped to hg38__refseq-r80__500bp_up_and_100bp_down_tss.mc9nr.genes_vs_motifs.rankings. Skipping this module.\n"
     ]
    },
    {
     "name": "stdout",
     "output_type": "stream",
     "text": [
      "[                                        ] | 0% Completed | 113.44 s"
     ]
    },
    {
     "name": "stderr",
     "output_type": "stream",
     "text": [
      "\n",
      "2023-08-07 15:46:37,964 - pyscenic.transform - WARNING - Less than 80% of the genes in NR4A1 could be mapped to hg38__refseq-r80__500bp_up_and_100bp_down_tss.mc9nr.genes_vs_motifs.rankings. Skipping this module.\n"
     ]
    },
    {
     "name": "stdout",
     "output_type": "stream",
     "text": [
      "[                                        ] | 0% Completed | 114.36 s"
     ]
    },
    {
     "name": "stderr",
     "output_type": "stream",
     "text": [
      "\n",
      "2023-08-07 15:46:38,953 - pyscenic.transform - WARNING - Less than 80% of the genes in POU2AF1 could be mapped to hg38__refseq-r80__500bp_up_and_100bp_down_tss.mc9nr.genes_vs_motifs.rankings. Skipping this module.\n",
      "\n",
      "2023-08-07 15:46:39,097 - pyscenic.transform - WARNING - Less than 80% of the genes in POU4F1 could be mapped to hg38__refseq-r80__500bp_up_and_100bp_down_tss.mc9nr.genes_vs_motifs.rankings. Skipping this module.\n"
     ]
    },
    {
     "name": "stdout",
     "output_type": "stream",
     "text": [
      "[                                        ] | 0% Completed | 114.87 s"
     ]
    },
    {
     "name": "stderr",
     "output_type": "stream",
     "text": [
      "\n",
      "2023-08-07 15:46:39,419 - pyscenic.transform - WARNING - Less than 80% of the genes in PPARGC1A could be mapped to hg38__refseq-r80__500bp_up_and_100bp_down_tss.mc9nr.genes_vs_motifs.rankings. Skipping this module.\n"
     ]
    },
    {
     "name": "stdout",
     "output_type": "stream",
     "text": [
      "[                                        ] | 0% Completed | 116.20 s"
     ]
    },
    {
     "name": "stderr",
     "output_type": "stream",
     "text": [
      "\n",
      "2023-08-07 15:46:40,793 - pyscenic.transform - WARNING - Less than 80% of the genes in RELB could be mapped to hg38__refseq-r80__500bp_up_and_100bp_down_tss.mc9nr.genes_vs_motifs.rankings. Skipping this module.\n"
     ]
    },
    {
     "name": "stdout",
     "output_type": "stream",
     "text": [
      "[                                        ] | 0% Completed | 117.12 s"
     ]
    },
    {
     "name": "stderr",
     "output_type": "stream",
     "text": [
      "\n",
      "2023-08-07 15:46:41,695 - pyscenic.transform - WARNING - Less than 80% of the genes in RUNX3 could be mapped to hg38__refseq-r80__500bp_up_and_100bp_down_tss.mc9nr.genes_vs_motifs.rankings. Skipping this module.\n"
     ]
    },
    {
     "name": "stdout",
     "output_type": "stream",
     "text": [
      "[                                        ] | 0% Completed | 118.86 s"
     ]
    },
    {
     "name": "stderr",
     "output_type": "stream",
     "text": [
      "\n",
      "2023-08-07 15:46:43,410 - pyscenic.transform - WARNING - Less than 80% of the genes in TBX3 could be mapped to hg38__refseq-r80__500bp_up_and_100bp_down_tss.mc9nr.genes_vs_motifs.rankings. Skipping this module.\n"
     ]
    },
    {
     "name": "stdout",
     "output_type": "stream",
     "text": [
      "[                                        ] | 0% Completed | 120.29 s"
     ]
    },
    {
     "name": "stderr",
     "output_type": "stream",
     "text": [
      "\n",
      "2023-08-07 15:46:44,813 - pyscenic.transform - WARNING - Less than 80% of the genes in TIMM44 could be mapped to hg38__refseq-r80__500bp_up_and_100bp_down_tss.mc9nr.genes_vs_motifs.rankings. Skipping this module.\n",
      "\n",
      "2023-08-07 15:46:44,950 - pyscenic.transform - WARNING - Less than 80% of the genes in TIMM8A could be mapped to hg38__refseq-r80__500bp_up_and_100bp_down_tss.mc9nr.genes_vs_motifs.rankings. Skipping this module.\n"
     ]
    },
    {
     "name": "stdout",
     "output_type": "stream",
     "text": [
      "[                                        ] | 0% Completed | 121.92 s"
     ]
    },
    {
     "name": "stderr",
     "output_type": "stream",
     "text": [
      "\n",
      "2023-08-07 15:46:46,527 - pyscenic.transform - WARNING - Less than 80% of the genes in TRIB1 could be mapped to hg38__refseq-r80__500bp_up_and_100bp_down_tss.mc9nr.genes_vs_motifs.rankings. Skipping this module.\n"
     ]
    },
    {
     "name": "stdout",
     "output_type": "stream",
     "text": [
      "[                                        ] | 0% Completed | 122.84 s"
     ]
    },
    {
     "name": "stderr",
     "output_type": "stream",
     "text": [
      "\n",
      "2023-08-07 15:46:47,348 - pyscenic.transform - WARNING - Less than 80% of the genes in ZIC2 could be mapped to hg38__refseq-r80__500bp_up_and_100bp_down_tss.mc9nr.genes_vs_motifs.rankings. Skipping this module.\n"
     ]
    },
    {
     "name": "stdout",
     "output_type": "stream",
     "text": [
      "[                                        ] | 0% Completed | 123.04 s"
     ]
    },
    {
     "name": "stderr",
     "output_type": "stream",
     "text": [
      "\n",
      "2023-08-07 15:46:47,640 - pyscenic.transform - WARNING - Less than 80% of the genes in ZNF322 could be mapped to hg38__refseq-r80__500bp_up_and_100bp_down_tss.mc9nr.genes_vs_motifs.rankings. Skipping this module.\n",
      "\n",
      "2023-08-07 15:46:47,780 - pyscenic.transform - WARNING - Less than 80% of the genes in ZNF503 could be mapped to hg38__refseq-r80__500bp_up_and_100bp_down_tss.mc9nr.genes_vs_motifs.rankings. Skipping this module.\n"
     ]
    },
    {
     "name": "stdout",
     "output_type": "stream",
     "text": [
      "[                                        ] | 0% Completed | 123.35 s"
     ]
    },
    {
     "name": "stderr",
     "output_type": "stream",
     "text": [
      "\n",
      "2023-08-07 15:46:47,868 - pyscenic.transform - WARNING - Less than 80% of the genes in ZSCAN31 could be mapped to hg38__refseq-r80__500bp_up_and_100bp_down_tss.mc9nr.genes_vs_motifs.rankings. Skipping this module.\n"
     ]
    },
    {
     "name": "stdout",
     "output_type": "stream",
     "text": [
      "[                                        ] | 0% Completed | 123.55 s"
     ]
    },
    {
     "name": "stderr",
     "output_type": "stream",
     "text": [
      "\n",
      "2023-08-07 15:46:48,118 - pyscenic.transform - WARNING - Less than 80% of the genes in ARG2 could be mapped to hg38__refseq-r80__500bp_up_and_100bp_down_tss.mc9nr.genes_vs_motifs.rankings. Skipping this module.\n",
      "\n",
      "2023-08-07 15:46:48,205 - pyscenic.transform - WARNING - Less than 80% of the genes in ARID5B could be mapped to hg38__refseq-r80__500bp_up_and_100bp_down_tss.mc9nr.genes_vs_motifs.rankings. Skipping this module.\n"
     ]
    },
    {
     "name": "stdout",
     "output_type": "stream",
     "text": [
      "[                                        ] | 0% Completed | 133.86 s"
     ]
    },
    {
     "name": "stderr",
     "output_type": "stream",
     "text": [
      "\n",
      "2023-08-07 15:46:58,400 - pyscenic.transform - WARNING - Less than 80% of the genes in CEBPG could be mapped to hg38__refseq-r80__500bp_up_and_100bp_down_tss.mc9nr.genes_vs_motifs.rankings. Skipping this module.\n",
      "\n",
      "2023-08-07 15:46:58,509 - pyscenic.transform - WARNING - Less than 80% of the genes in CREB5 could be mapped to hg38__refseq-r80__500bp_up_and_100bp_down_tss.mc9nr.genes_vs_motifs.rankings. Skipping this module.\n"
     ]
    },
    {
     "name": "stdout",
     "output_type": "stream",
     "text": [
      "[                                        ] | 0% Completed | 134.16 s"
     ]
    },
    {
     "name": "stderr",
     "output_type": "stream",
     "text": [
      "\n",
      "2023-08-07 15:46:58,765 - pyscenic.transform - WARNING - Less than 80% of the genes in DACH1 could be mapped to hg38__refseq-r80__500bp_up_and_100bp_down_tss.mc9nr.genes_vs_motifs.rankings. Skipping this module.\n"
     ]
    },
    {
     "name": "stdout",
     "output_type": "stream",
     "text": [
      "[                                        ] | 0% Completed | 135.59 s"
     ]
    },
    {
     "name": "stderr",
     "output_type": "stream",
     "text": [
      "\n",
      "2023-08-07 15:47:00,138 - pyscenic.transform - WARNING - Less than 80% of the genes in DLX5 could be mapped to hg38__refseq-r80__500bp_up_and_100bp_down_tss.mc9nr.genes_vs_motifs.rankings. Skipping this module.\n",
      "\n",
      "2023-08-07 15:47:00,219 - pyscenic.transform - WARNING - Less than 80% of the genes in DMRTA1 could be mapped to hg38__refseq-r80__500bp_up_and_100bp_down_tss.mc9nr.genes_vs_motifs.rankings. Skipping this module.\n"
     ]
    },
    {
     "name": "stdout",
     "output_type": "stream",
     "text": [
      "[                                        ] | 0% Completed | 139.57 s"
     ]
    },
    {
     "name": "stderr",
     "output_type": "stream",
     "text": [
      "\n",
      "2023-08-07 15:47:04,170 - pyscenic.transform - WARNING - Less than 80% of the genes in E2F7 could be mapped to hg38__refseq-r80__500bp_up_and_100bp_down_tss.mc9nr.genes_vs_motifs.rankings. Skipping this module.\n"
     ]
    },
    {
     "name": "stdout",
     "output_type": "stream",
     "text": [
      "[                                        ] | 0% Completed | 141.31 s"
     ]
    },
    {
     "name": "stderr",
     "output_type": "stream",
     "text": [
      "\n",
      "2023-08-07 15:47:05,837 - pyscenic.transform - WARNING - Less than 80% of the genes in EGR1 could be mapped to hg38__refseq-r80__500bp_up_and_100bp_down_tss.mc9nr.genes_vs_motifs.rankings. Skipping this module.\n",
      "\n",
      "2023-08-07 15:47:05,963 - pyscenic.transform - WARNING - Less than 80% of the genes in EGR2 could be mapped to hg38__refseq-r80__500bp_up_and_100bp_down_tss.mc9nr.genes_vs_motifs.rankings. Skipping this module.\n"
     ]
    },
    {
     "name": "stdout",
     "output_type": "stream",
     "text": [
      "[                                        ] | 0% Completed | 141.72 s"
     ]
    },
    {
     "name": "stderr",
     "output_type": "stream",
     "text": [
      "\n",
      "2023-08-07 15:47:06,317 - pyscenic.transform - WARNING - Less than 80% of the genes in EGR4 could be mapped to hg38__refseq-r80__500bp_up_and_100bp_down_tss.mc9nr.genes_vs_motifs.rankings. Skipping this module.\n"
     ]
    },
    {
     "name": "stdout",
     "output_type": "stream",
     "text": [
      "[                                        ] | 0% Completed | 148.85 s"
     ]
    },
    {
     "name": "stderr",
     "output_type": "stream",
     "text": [
      "\n",
      "2023-08-07 15:47:13,421 - pyscenic.transform - WARNING - Less than 80% of the genes in FGF19 could be mapped to hg38__refseq-r80__500bp_up_and_100bp_down_tss.mc9nr.genes_vs_motifs.rankings. Skipping this module.\n"
     ]
    },
    {
     "name": "stdout",
     "output_type": "stream",
     "text": [
      "[                                        ] | 0% Completed | 154.76 s"
     ]
    },
    {
     "name": "stderr",
     "output_type": "stream",
     "text": [
      "\n",
      "2023-08-07 15:47:19,276 - pyscenic.transform - WARNING - Less than 80% of the genes in FOSL1 could be mapped to hg38__refseq-r80__500bp_up_and_100bp_down_tss.mc9nr.genes_vs_motifs.rankings. Skipping this module.\n"
     ]
    },
    {
     "name": "stdout",
     "output_type": "stream",
     "text": [
      "[                                        ] | 0% Completed | 161.49 s"
     ]
    },
    {
     "name": "stderr",
     "output_type": "stream",
     "text": [
      "\n",
      "2023-08-07 15:47:26,030 - pyscenic.transform - WARNING - Less than 80% of the genes in GRHL1 could be mapped to hg38__refseq-r80__500bp_up_and_100bp_down_tss.mc9nr.genes_vs_motifs.rankings. Skipping this module.\n"
     ]
    },
    {
     "name": "stdout",
     "output_type": "stream",
     "text": [
      "[                                        ] | 0% Completed | 163.22 s"
     ]
    },
    {
     "name": "stderr",
     "output_type": "stream",
     "text": [
      "\n",
      "2023-08-07 15:47:27,822 - pyscenic.transform - WARNING - Less than 80% of the genes in GTF2A1 could be mapped to hg38__refseq-r80__500bp_up_and_100bp_down_tss.mc9nr.genes_vs_motifs.rankings. Skipping this module.\n"
     ]
    },
    {
     "name": "stdout",
     "output_type": "stream",
     "text": [
      "[                                        ] | 0% Completed | 172.39 s"
     ]
    },
    {
     "name": "stderr",
     "output_type": "stream",
     "text": [
      "\n",
      "2023-08-07 15:47:36,936 - pyscenic.transform - WARNING - Less than 80% of the genes in HOXB1 could be mapped to hg38__refseq-r80__500bp_up_and_100bp_down_tss.mc9nr.genes_vs_motifs.rankings. Skipping this module.\n",
      "\n",
      "2023-08-07 15:47:37,096 - pyscenic.transform - WARNING - Less than 80% of the genes in HOXB2 could be mapped to hg38__refseq-r80__500bp_up_and_100bp_down_tss.mc9nr.genes_vs_motifs.rankings. Skipping this module.\n"
     ]
    },
    {
     "name": "stdout",
     "output_type": "stream",
     "text": [
      "[                                        ] | 0% Completed | 173.41 s"
     ]
    },
    {
     "name": "stderr",
     "output_type": "stream",
     "text": [
      "\n",
      "2023-08-07 15:47:37,965 - pyscenic.transform - WARNING - Less than 80% of the genes in ID2 could be mapped to hg38__refseq-r80__500bp_up_and_100bp_down_tss.mc9nr.genes_vs_motifs.rankings. Skipping this module.\n",
      "\n",
      "2023-08-07 15:47:38,146 - pyscenic.transform - WARNING - Less than 80% of the genes in ID4 could be mapped to hg38__refseq-r80__500bp_up_and_100bp_down_tss.mc9nr.genes_vs_motifs.rankings. Skipping this module.\n"
     ]
    },
    {
     "name": "stdout",
     "output_type": "stream",
     "text": [
      "[                                        ] | 0% Completed | 173.72 s"
     ]
    },
    {
     "name": "stderr",
     "output_type": "stream",
     "text": [
      "\n",
      "2023-08-07 15:47:38,313 - pyscenic.transform - WARNING - Less than 80% of the genes in INSM1 could be mapped to hg38__refseq-r80__500bp_up_and_100bp_down_tss.mc9nr.genes_vs_motifs.rankings. Skipping this module.\n"
     ]
    },
    {
     "name": "stdout",
     "output_type": "stream",
     "text": [
      "[                                        ] | 0% Completed | 180.54 s"
     ]
    },
    {
     "name": "stderr",
     "output_type": "stream",
     "text": [
      "\n",
      "2023-08-07 15:47:45,112 - pyscenic.transform - WARNING - Less than 80% of the genes in KLF4 could be mapped to hg38__refseq-r80__500bp_up_and_100bp_down_tss.mc9nr.genes_vs_motifs.rankings. Skipping this module.\n",
      "\n",
      "2023-08-07 15:47:45,225 - pyscenic.transform - WARNING - Less than 80% of the genes in ZNF541 could be mapped to hg38__refseq-r80__10kb_up_and_down_tss.mc9nr.genes_vs_motifs.rankings. Skipping this module.\n"
     ]
    },
    {
     "name": "stdout",
     "output_type": "stream",
     "text": [
      "[                                        ] | 0% Completed | 181.35 s"
     ]
    },
    {
     "name": "stderr",
     "output_type": "stream",
     "text": [
      "\n",
      "2023-08-07 15:47:45,872 - pyscenic.transform - WARNING - Less than 80% of the genes in MAF could be mapped to hg38__refseq-r80__500bp_up_and_100bp_down_tss.mc9nr.genes_vs_motifs.rankings. Skipping this module.\n"
     ]
    },
    {
     "name": "stdout",
     "output_type": "stream",
     "text": [
      "[                                        ] | 0% Completed | 187.76 s"
     ]
    },
    {
     "name": "stderr",
     "output_type": "stream",
     "text": [
      "\n",
      "2023-08-07 15:47:52,300 - pyscenic.transform - WARNING - Less than 80% of the genes in MYBL1 could be mapped to hg38__refseq-r80__500bp_up_and_100bp_down_tss.mc9nr.genes_vs_motifs.rankings. Skipping this module.\n"
     ]
    },
    {
     "name": "stdout",
     "output_type": "stream",
     "text": [
      "[                                        ] | 0% Completed | 188.27 s"
     ]
    },
    {
     "name": "stderr",
     "output_type": "stream",
     "text": [
      "\n",
      "2023-08-07 15:47:52,820 - pyscenic.transform - WARNING - Less than 80% of the genes in MYC could be mapped to hg38__refseq-r80__500bp_up_and_100bp_down_tss.mc9nr.genes_vs_motifs.rankings. Skipping this module.\n",
      "\n",
      "2023-08-07 15:47:52,960 - pyscenic.transform - WARNING - Less than 80% of the genes in MYCL could be mapped to hg38__refseq-r80__500bp_up_and_100bp_down_tss.mc9nr.genes_vs_motifs.rankings. Skipping this module.\n"
     ]
    },
    {
     "name": "stdout",
     "output_type": "stream",
     "text": [
      "[                                        ] | 0% Completed | 188.68 s"
     ]
    },
    {
     "name": "stderr",
     "output_type": "stream",
     "text": [
      "\n",
      "2023-08-07 15:47:53,250 - pyscenic.transform - WARNING - Less than 80% of the genes in NFIA could be mapped to hg38__refseq-r80__500bp_up_and_100bp_down_tss.mc9nr.genes_vs_motifs.rankings. Skipping this module.\n"
     ]
    },
    {
     "name": "stdout",
     "output_type": "stream",
     "text": [
      "[                                        ] | 0% Completed | 188.99 s"
     ]
    },
    {
     "name": "stderr",
     "output_type": "stream",
     "text": [
      "\n",
      "2023-08-07 15:47:53,566 - pyscenic.transform - WARNING - Less than 80% of the genes in NKX2-2 could be mapped to hg38__refseq-r80__500bp_up_and_100bp_down_tss.mc9nr.genes_vs_motifs.rankings. Skipping this module.\n",
      "\n",
      "2023-08-07 15:47:53,722 - pyscenic.transform - WARNING - Less than 80% of the genes in NKX2-5 could be mapped to hg38__refseq-r80__500bp_up_and_100bp_down_tss.mc9nr.genes_vs_motifs.rankings. Skipping this module.\n"
     ]
    },
    {
     "name": "stdout",
     "output_type": "stream",
     "text": [
      "[                                        ] | 0% Completed | 190.11 s"
     ]
    },
    {
     "name": "stderr",
     "output_type": "stream",
     "text": [
      "\n",
      "2023-08-07 15:47:54,690 - pyscenic.transform - WARNING - Less than 80% of the genes in NR2F2 could be mapped to hg38__refseq-r80__500bp_up_and_100bp_down_tss.mc9nr.genes_vs_motifs.rankings. Skipping this module.\n",
      "\n",
      "2023-08-07 15:47:54,868 - pyscenic.transform - WARNING - Less than 80% of the genes in NR4A1 could be mapped to hg38__refseq-r80__500bp_up_and_100bp_down_tss.mc9nr.genes_vs_motifs.rankings. Skipping this module.\n"
     ]
    },
    {
     "name": "stdout",
     "output_type": "stream",
     "text": [
      "[                                        ] | 0% Completed | 192.15 s"
     ]
    },
    {
     "name": "stderr",
     "output_type": "stream",
     "text": [
      "\n",
      "2023-08-07 15:47:56,723 - pyscenic.transform - WARNING - Less than 80% of the genes in NR4A2 could be mapped to hg38__refseq-r80__500bp_up_and_100bp_down_tss.mc9nr.genes_vs_motifs.rankings. Skipping this module.\n"
     ]
    },
    {
     "name": "stdout",
     "output_type": "stream",
     "text": [
      "[                                        ] | 0% Completed | 196.03 s"
     ]
    },
    {
     "name": "stderr",
     "output_type": "stream",
     "text": [
      "\n",
      "2023-08-07 15:48:00,606 - pyscenic.transform - WARNING - Less than 80% of the genes in POU2AF1 could be mapped to hg38__refseq-r80__500bp_up_and_100bp_down_tss.mc9nr.genes_vs_motifs.rankings. Skipping this module.\n",
      "\n",
      "2023-08-07 15:48:00,763 - pyscenic.transform - WARNING - Less than 80% of the genes in POU2F2 could be mapped to hg38__refseq-r80__500bp_up_and_100bp_down_tss.mc9nr.genes_vs_motifs.rankings. Skipping this module.\n"
     ]
    },
    {
     "name": "stdout",
     "output_type": "stream",
     "text": [
      "[                                        ] | 0% Completed | 198.58 s"
     ]
    },
    {
     "name": "stderr",
     "output_type": "stream",
     "text": [
      "\n",
      "2023-08-07 15:48:03,189 - pyscenic.transform - WARNING - Less than 80% of the genes in POU4F1 could be mapped to hg38__refseq-r80__500bp_up_and_100bp_down_tss.mc9nr.genes_vs_motifs.rankings. Skipping this module.\n"
     ]
    },
    {
     "name": "stdout",
     "output_type": "stream",
     "text": [
      "[                                        ] | 0% Completed | 198.89 s"
     ]
    },
    {
     "name": "stderr",
     "output_type": "stream",
     "text": [
      "\n",
      "2023-08-07 15:48:03,468 - pyscenic.transform - WARNING - Less than 80% of the genes in PPARGC1A could be mapped to hg38__refseq-r80__500bp_up_and_100bp_down_tss.mc9nr.genes_vs_motifs.rankings. Skipping this module.\n"
     ]
    },
    {
     "name": "stdout",
     "output_type": "stream",
     "text": [
      "[                                        ] | 0% Completed | 200.82 s"
     ]
    },
    {
     "name": "stderr",
     "output_type": "stream",
     "text": [
      "\n",
      "2023-08-07 15:48:05,408 - pyscenic.transform - WARNING - Less than 80% of the genes in RELB could be mapped to hg38__refseq-r80__500bp_up_and_100bp_down_tss.mc9nr.genes_vs_motifs.rankings. Skipping this module.\n"
     ]
    },
    {
     "name": "stdout",
     "output_type": "stream",
     "text": [
      "[                                        ] | 0% Completed | 201.64 s"
     ]
    },
    {
     "name": "stderr",
     "output_type": "stream",
     "text": [
      "\n",
      "2023-08-07 15:48:06,195 - pyscenic.transform - WARNING - Less than 80% of the genes in RUNX3 could be mapped to hg38__refseq-r80__500bp_up_and_100bp_down_tss.mc9nr.genes_vs_motifs.rankings. Skipping this module.\n"
     ]
    },
    {
     "name": "stdout",
     "output_type": "stream",
     "text": [
      "[                                        ] | 0% Completed | 203.87 s"
     ]
    },
    {
     "name": "stderr",
     "output_type": "stream",
     "text": [
      "\n",
      "2023-08-07 15:48:08,411 - pyscenic.transform - WARNING - Less than 80% of the genes in SP5 could be mapped to hg38__refseq-r80__500bp_up_and_100bp_down_tss.mc9nr.genes_vs_motifs.rankings. Skipping this module.\n"
     ]
    },
    {
     "name": "stdout",
     "output_type": "stream",
     "text": [
      "[                                        ] | 0% Completed | 204.18 s"
     ]
    },
    {
     "name": "stderr",
     "output_type": "stream",
     "text": [
      "\n",
      "2023-08-07 15:48:08,743 - pyscenic.transform - WARNING - Less than 80% of the genes in TAL2 could be mapped to hg38__refseq-r80__500bp_up_and_100bp_down_tss.mc9nr.genes_vs_motifs.rankings. Skipping this module.\n",
      "\n",
      "2023-08-07 15:48:08,943 - pyscenic.transform - WARNING - Less than 80% of the genes in TBX3 could be mapped to hg38__refseq-r80__500bp_up_and_100bp_down_tss.mc9nr.genes_vs_motifs.rankings. Skipping this module.\n"
     ]
    },
    {
     "name": "stdout",
     "output_type": "stream",
     "text": [
      "[                                        ] | 0% Completed | 204.79 s"
     ]
    },
    {
     "name": "stderr",
     "output_type": "stream",
     "text": [
      "\n",
      "2023-08-07 15:48:09,370 - pyscenic.transform - WARNING - Less than 80% of the genes in TIMM44 could be mapped to hg38__refseq-r80__500bp_up_and_100bp_down_tss.mc9nr.genes_vs_motifs.rankings. Skipping this module.\n"
     ]
    },
    {
     "name": "stdout",
     "output_type": "stream",
     "text": [
      "[                                        ] | 0% Completed | 205.82 s"
     ]
    },
    {
     "name": "stderr",
     "output_type": "stream",
     "text": [
      "\n",
      "2023-08-07 15:48:10,394 - pyscenic.transform - WARNING - Less than 80% of the genes in TWIST1 could be mapped to hg38__refseq-r80__500bp_up_and_100bp_down_tss.mc9nr.genes_vs_motifs.rankings. Skipping this module.\n"
     ]
    },
    {
     "name": "stdout",
     "output_type": "stream",
     "text": [
      "[                                        ] | 0% Completed | 207.35 s"
     ]
    },
    {
     "name": "stderr",
     "output_type": "stream",
     "text": [
      "\n",
      "2023-08-07 15:48:11,891 - pyscenic.transform - WARNING - Less than 80% of the genes in ZIC2 could be mapped to hg38__refseq-r80__500bp_up_and_100bp_down_tss.mc9nr.genes_vs_motifs.rankings. Skipping this module.\n"
     ]
    },
    {
     "name": "stdout",
     "output_type": "stream",
     "text": [
      "[                                        ] | 0% Completed | 207.96 s"
     ]
    },
    {
     "name": "stderr",
     "output_type": "stream",
     "text": [
      "\n",
      "2023-08-07 15:48:12,492 - pyscenic.transform - WARNING - Less than 80% of the genes in ZNF367 could be mapped to hg38__refseq-r80__500bp_up_and_100bp_down_tss.mc9nr.genes_vs_motifs.rankings. Skipping this module.\n",
      "\n",
      "2023-08-07 15:48:12,664 - pyscenic.transform - WARNING - Less than 80% of the genes in ZNF503 could be mapped to hg38__refseq-r80__500bp_up_and_100bp_down_tss.mc9nr.genes_vs_motifs.rankings. Skipping this module.\n"
     ]
    },
    {
     "name": "stdout",
     "output_type": "stream",
     "text": [
      "[                                        ] | 0% Completed | 208.47 s"
     ]
    },
    {
     "name": "stderr",
     "output_type": "stream",
     "text": [
      "\n",
      "2023-08-07 15:48:13,002 - pyscenic.transform - WARNING - Less than 80% of the genes in ZSCAN31 could be mapped to hg38__refseq-r80__500bp_up_and_100bp_down_tss.mc9nr.genes_vs_motifs.rankings. Skipping this module.\n"
     ]
    },
    {
     "name": "stdout",
     "output_type": "stream",
     "text": [
      "[                                        ] | 0% Completed | 216.74 s"
     ]
    },
    {
     "name": "stderr",
     "output_type": "stream",
     "text": [
      "\n",
      "2023-08-07 15:48:21,321 - pyscenic.transform - WARNING - Less than 80% of the genes in BHLHE22 could be mapped to hg38__refseq-r80__500bp_up_and_100bp_down_tss.mc9nr.genes_vs_motifs.rankings. Skipping this module.\n"
     ]
    },
    {
     "name": "stdout",
     "output_type": "stream",
     "text": [
      "[                                        ] | 0% Completed | 218.89 s"
     ]
    }
   ],
   "source": [
    "#STEP 16: Running RCistarget\n",
    "\n",
    "for state in unique_state:\n",
    "    #reading necessary files for rcistarget\n",
    "    ADJACENCIES_FNAME = os.path.join(DATA_FOLDERNAME, \"{}.{}.{}.adjacencies.tsv\".format(DATASET_ID, state, frac_cells))\n",
    "    adjacencies = pd.read_csv(ADJACENCIES_FNAME, sep='\\t')\n",
    "    print(\"\\nFINISHED READING ADJACENCIES FILE\", ADJACENCIES_FNAME,\"\\n\")\n",
    "    EXP_MTX_QC_FNAME = os.path.join(RESULTS_FOLDERNAME, '{}.{}.{}.qc.tpm.csv'.format(DATASET_ID, state, frac_cells))\n",
    "    ex_matrix = pd.read_csv(EXP_MTX_QC_FNAME, sep='\\t', header=0, index_col=0)\n",
    "    print(\"\\nFINISHED READING EXPRESSION MATRIX\", EXP_MTX_QC_FNAME,\"\\n\")\n",
    "    MODULES_FNAME = os.path.join(DATA_FOLDERNAME, '{}.{}.{}.modules.p'.format(DATASET_ID, state, frac_cells))\n",
    "    MOTIFS_FNAME = os.path.join(DATA_FOLDERNAME, '{}.{}.{}.motifs.csv'.format(DATASET_ID, state, frac_cells))\n",
    "    REGULONS_FNAME = os.path.join(DATA_FOLDERNAME, '{}.{}.{}.regulons.p'.format(DATASET_ID, state, frac_cells))\n",
    "\n",
    "    #making modules from adjacencies\n",
    "    modules = list(modules_from_adjacencies(adjacencies, ex_matrix))\n",
    "    \n",
    "    #writing modules object to file\n",
    "    with open(MODULES_FNAME, 'wb') as f:\n",
    "        pickle.dump(modules, f)\n",
    "    print(\"\\nCOMPLETED COEXPRESSION MODULE WRITING:\", MODULES_FNAME,\"\\n\")\n",
    "    \n",
    "    #running Rcistarget with progress bar: searching for enriched motifs and true candidate genes\n",
    "    with ProgressBar():\n",
    "        df = prune2df(dbs, modules, MOTIF_ANNOTATIONS_FNAME, client_or_address=\"dask_multiprocessing\") \n",
    "    \n",
    "    #writing enriched motifs with candidate target to file\n",
    "    df.to_csv(MOTIFS_FNAME)\n",
    "    print(\"\\nCOMPLETED WRITING ENRICHED MOTIFS\", MOTIFS_FNAME,\"\\n\")\n",
    "    print(df.head())\n",
    "    \n",
    "    #making regulon objects\n",
    "    regulons = df2regulons(df)\n",
    "    \n",
    "    #writing regulon objects to file\n",
    "    with open(REGULONS_FNAME, 'wb') as f:\n",
    "        pickle.dump(regulons, f)\n",
    "    print(\"\\nCOMPLETED WRITING DISCOVERED REGULON\", REGULONS_FNAME,\"\\n\")"
   ]
  },
  {
   "cell_type": "markdown",
   "id": "9ec4e6b3",
   "metadata": {},
   "source": [
    "After grouping the data by timepoints\n",
    "- How is clustering in this case difference by just making anndata subset selected by timepoint (pin)\n",
    "- Do i do PCA after clustering -> pca changes the expression matrix so output to GENIE3 is not pca, just raw unnormalize, unpertrude data except basic filtering\n",
    "- If you have more than one condition, it’s often helpful to perform integration to align the cells -? and then within each timepoint there would be three batches so i should find a way to remove this right"
   ]
  }
 ],
 "metadata": {
  "kernelspec": {
   "display_name": "pyscenic",
   "language": "python",
   "name": "pyscenic"
  },
  "language_info": {
   "codemirror_mode": {
    "name": "ipython",
    "version": 3
   },
   "file_extension": ".py",
   "mimetype": "text/x-python",
   "name": "python",
   "nbconvert_exporter": "python",
   "pygments_lexer": "ipython3",
   "version": "3.10.12"
  }
 },
 "nbformat": 4,
 "nbformat_minor": 5
}
