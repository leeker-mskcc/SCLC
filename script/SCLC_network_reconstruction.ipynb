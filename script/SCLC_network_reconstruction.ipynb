{
 "cells": [
  {
   "cell_type": "code",
   "execution_count": 17,
   "id": "6a8cabb2",
   "metadata": {},
   "outputs": [],
   "source": [
    "#STEP 1: importing all needed moduels\n",
    "\n",
    "import os, glob, re, pickle\n",
    "from functools import partial\n",
    "from collections import OrderedDict\n",
    "import operator as op\n",
    "from cytoolz import compose\n",
    "\n",
    "import pandas as pd\n",
    "import seaborn as sns\n",
    "import numpy as np\n",
    "import scanpy as sc\n",
    "import anndata as ad\n",
    "import matplotlib as mpl\n",
    "import matplotlib.pyplot as plt\n",
    "import skmisc\n",
    "\n",
    "from pyscenic.export import export2loom, add_scenic_metadata\n",
    "from pyscenic.utils import load_motifs\n",
    "from pyscenic.transform import df2regulons\n",
    "from pyscenic.aucell import aucell\n",
    "from pyscenic.binarization import binarize\n",
    "from pyscenic.rss import regulon_specificity_scores\n",
    "from pyscenic.plotting import plot_binarization, plot_rss\n",
    "\n",
    "from arboreto.utils import load_tf_names\n",
    "from arboreto.algo import grnboost2\n",
    "from pyscenic.utils import modules_from_adjacencies\n",
    "from pyscenic.prune import prune2df, df2regulons\n",
    "from pyscenic.aucell import aucell\n",
    "from dask.diagnostics import ProgressBar\n",
    "from ctxcore.rnkdb import FeatherRankingDatabase as RankingDatabase\n",
    "\n",
    "#STEP 1+: Set maximum number of jobs\n",
    "sc.settings.njobs = 32"
   ]
  },
  {
   "cell_type": "markdown",
   "id": "a785e75c",
   "metadata": {},
   "source": [
    "Divide each file into by states and then running each state for network reconstruction\n",
    "- A is patient pretreatment pdx\n",
    "- B is patient posttreatment pdx"
   ]
  },
  {
   "cell_type": "code",
   "execution_count": 18,
   "id": "d0b414fc",
   "metadata": {},
   "outputs": [],
   "source": [
    "#prepping\n",
    "DATASET_ID = 'lx599'"
   ]
  },
  {
   "cell_type": "code",
   "execution_count": 33,
   "id": "987a4ebf",
   "metadata": {},
   "outputs": [],
   "source": [
    "#STEP 1++: preparing pathway constant variables for easy coding\n",
    "\n",
    "SOHRAB_RESOURCES_FOLDERNAME = \"/work/shah/users/salehis/projects/cdm/data/sclc/{}\".format(DATASET_ID)\n",
    "RESULTS_FOLDERNAME = \"/home/linl5/project/SCLC/results/{}\".format(DATASET_ID)\n",
    "FIGURES_FOLDERNAME = \"/home/linl5/project/SCLC/figures\"\n",
    "AUXILLIARIES_FOLDERNAME = \"/home/linl5/project/SCLC/auxilliaries\"\n",
    "RESOURCES_FOLDERNAME = \"/home/linl5/project/SCLC/resources\"\n",
    "DATA_FOLDERNAME = \"/home/linl5/project/SCLC/data/{}\".format(DATASET_ID)"
   ]
  },
  {
   "cell_type": "code",
   "execution_count": 34,
   "id": "73ae62c9",
   "metadata": {},
   "outputs": [],
   "source": [
    "#Downloaded fromm pySCENIC github repo: https://github.com/aertslab/pySCENIC/tree/master/resources Aug-1-2023\n",
    "#lambert2018.txt used in their cancer patient tutorial\n",
    "HUMAN_TFS_FNAME = os.path.join(RESOURCES_FOLDERNAME, 'allTFs_hg38.txt')"
   ]
  },
  {
   "cell_type": "code",
   "execution_count": 35,
   "id": "491cc977",
   "metadata": {},
   "outputs": [],
   "source": [
    "#STEP 2: Downloading metadata and expression matrix\n",
    "#input: expression matrix and metadata file\n",
    "\n",
    "#organized by cell ID and Gene matrix, values are counts of read in that cell\n",
    "COUNTS_MTX_FNAME = os.path.join(SOHRAB_RESOURCES_FOLDERNAME, 'rna.h5ad')"
   ]
  },
  {
   "cell_type": "code",
   "execution_count": 36,
   "id": "1d5bfefd",
   "metadata": {},
   "outputs": [],
   "source": [
    "#STEP 3: Importing and Analyzing the rna DATA\n",
    "\n",
    "# Read the H5AD file using anndata\n",
    "adata = ad.read(COUNTS_MTX_FNAME)"
   ]
  },
  {
   "cell_type": "code",
   "execution_count": 23,
   "id": "51c0b4d9",
   "metadata": {},
   "outputs": [
    {
     "name": "stdout",
     "output_type": "stream",
     "text": [
      "AnnData object with n_obs × n_vars = 33207 × 33538\n",
      "    obs: 'timepoint', 'datatag', 'batch', 'state', 'cna_name', 'is_in_rna'\n",
      "    var: 'gene_ids', 'feature_types'\n",
      "Shape of expression matrix:  (33207, 33538)\n",
      "Columns (variables):\n",
      "                    gene_ids    feature_types\n",
      "MIR1302-2HG  ENSG00000243485  Gene Expression\n",
      "FAM138A      ENSG00000237613  Gene Expression\n",
      "OR4F5        ENSG00000186092  Gene Expression\n",
      "AL627309.1   ENSG00000238009  Gene Expression\n",
      "AL627309.3   ENSG00000239945  Gene Expression\n",
      "...                      ...              ...\n",
      "AC233755.2   ENSG00000277856  Gene Expression\n",
      "AC233755.1   ENSG00000275063  Gene Expression\n",
      "AC240274.1   ENSG00000271254  Gene Expression\n",
      "AC213203.1   ENSG00000277475  Gene Expression\n",
      "FAM231C      ENSG00000268674  Gene Expression\n",
      "\n",
      "[33538 rows x 2 columns]\n",
      "\n",
      "Rows (observations):\n",
      "                              timepoint datatag batch state  \\\n",
      "AAACCCAAGACGGTTG-1_Lx599_a-UU       UUa   Lx599     0   UUa   \n",
      "AAACCCAAGAGTTGTA-1_Lx599_a-UU       UUa   Lx599     0   UUa   \n",
      "AAACCCACACCACTGG-1_Lx599_a-UU       UUa   Lx599     0   UUa   \n",
      "AAACCCACAGCGTAGA-1_Lx599_a-UU       UUa   Lx599     0   UUa   \n",
      "AAACCCACAGGATGAC-1_Lx599_a-UU       UUa   Lx599     0   UUa   \n",
      "...                                 ...     ...   ...   ...   \n",
      "TTTGTTGTCATGAGAA-1_Lx599_a-UT       UTa   Lx599     3   UTa   \n",
      "TTTGTTGTCGCCTTTG-1_Lx599_a-UT       UTa   Lx599     3   UTa   \n",
      "TTTGTTGTCTAGTTCT-1_Lx599_a-UT       UTa   Lx599     3   UTa   \n",
      "TTTGTTGTCTGTCGCT-1_Lx599_a-UT       UTa   Lx599     3   UTa   \n",
      "TTTGTTGTCTTACACT-1_Lx599_a-UT       UTa   Lx599     3   UTa   \n",
      "\n",
      "                                                    cna_name is_in_rna  \n",
      "AAACCCAAGACGGTTG-1_Lx599_a-UU  AAACCCAAGACGGTTG-1_Lx599_a-UU      True  \n",
      "AAACCCAAGAGTTGTA-1_Lx599_a-UU  AAACCCAAGAGTTGTA-1_Lx599_a-UU      True  \n",
      "AAACCCACACCACTGG-1_Lx599_a-UU  AAACCCACACCACTGG-1_Lx599_a-UU      True  \n",
      "AAACCCACAGCGTAGA-1_Lx599_a-UU  AAACCCACAGCGTAGA-1_Lx599_a-UU      True  \n",
      "AAACCCACAGGATGAC-1_Lx599_a-UU  AAACCCACAGGATGAC-1_Lx599_a-UU      True  \n",
      "...                                                      ...       ...  \n",
      "TTTGTTGTCATGAGAA-1_Lx599_a-UT  TTTGTTGTCATGAGAA-1_Lx599_a-UT      True  \n",
      "TTTGTTGTCGCCTTTG-1_Lx599_a-UT  TTTGTTGTCGCCTTTG-1_Lx599_a-UT      True  \n",
      "TTTGTTGTCTAGTTCT-1_Lx599_a-UT  TTTGTTGTCTAGTTCT-1_Lx599_a-UT      True  \n",
      "TTTGTTGTCTGTCGCT-1_Lx599_a-UT  TTTGTTGTCTGTCGCT-1_Lx599_a-UT      True  \n",
      "TTTGTTGTCTTACACT-1_Lx599_a-UT  TTTGTTGTCTTACACT-1_Lx599_a-UT      True  \n",
      "\n",
      "[33207 rows x 6 columns]\n"
     ]
    }
   ],
   "source": [
    "#STEP4: Understanding Dataset\n",
    "\n",
    "#print out information about anndata\n",
    "print(adata)\n",
    "\n",
    "#print out shape\n",
    "print(\"Shape of expression matrix: \", adata.shape)\n",
    "\n",
    "# the columns (variables) of the expression matrix\n",
    "print(\"Columns (variables):\")\n",
    "print(adata.var)\n",
    "\n",
    "# the rows (observations) of the expression matrix\n",
    "print(\"\\nRows (observations):\")\n",
    "print(adata.obs)\n"
   ]
  },
  {
   "cell_type": "code",
   "execution_count": 24,
   "id": "06e7215e",
   "metadata": {},
   "outputs": [
    {
     "name": "stdout",
     "output_type": "stream",
     "text": [
      "Post Filter:  (33108, 28701)\n"
     ]
    }
   ],
   "source": [
    "#STEP 5: preprocessing and filtering\n",
    "\n",
    "#make gene name unique\n",
    "adata.var_names_make_unique()\n",
    "\n",
    "#processing out data-prefilter\n",
    "sc.pp.filter_cells(adata, min_genes=200)\n",
    "sc.pp.filter_genes(adata, min_cells=3)\n",
    "\n",
    "#saving a copy of the power filtered count into raw\n",
    "adata.raw = adata\n",
    "\n",
    "#post filer: previous was n_obs × n_vars = 33207 × 33538\n",
    "print(\"Post Filter: \", adata.shape)\n"
   ]
  },
  {
   "cell_type": "code",
   "execution_count": 25,
   "id": "63eb2e8e",
   "metadata": {},
   "outputs": [],
   "source": [
    "# STEP 6: Prepping for timepoint splitting\n",
    "adata.layers['counts'] = adata.X\n",
    "adata.raw = adata\n"
   ]
  },
  {
   "cell_type": "code",
   "execution_count": 26,
   "id": "44527117",
   "metadata": {},
   "outputs": [
    {
     "name": "stdout",
     "output_type": "stream",
     "text": [
      "['UUa', 'UTb', 'UUb', 'UTa']\n",
      "Categories (4, object): ['UTa', 'UTb', 'UUa', 'UUb']\n",
      "UUa :  (7280, 900)\n",
      "UTb :  (5285, 900)\n",
      "UUb :  (10036, 900)\n",
      "UTa :  (10507, 900)\n"
     ]
    }
   ],
   "source": [
    "#STEP 7: subsampling time point (IDEA-> in original sample filte by hvg, then split the following into states, then cluster and subsample from cluster)\n",
    "\n",
    "# set the n_top_genes as necessary\n",
    "sc.pp.highly_variable_genes(adata, n_top_genes=900, subset=True, flavor='seurat_v3')\n",
    "\n",
    "#Splitting the cells by states\n",
    "unique_state = adata.obs['state'].unique()\n",
    "print(unique_state)\n",
    "\n",
    "#storing\n",
    "adata_by_state = {}\n",
    "\n",
    "#selecting out by TP\n",
    "for state in unique_state:\n",
    "    adata_subset = adata[adata.obs['state'] == state].copy()\n",
    "    adata_by_state[state] = adata_subset\n",
    "    print(state, \": \", adata_by_state[state].shape)\n",
    "\n",
    "    "
   ]
  },
  {
   "cell_type": "markdown",
   "id": "4b49a412",
   "metadata": {},
   "source": [
    "The Leiden algorithm improves upon Louvain by using the \"agglomerative\" approach to optimize a different quality function known as the \"improved modularity.\" Improved modularity has a resolution parameter that allows Leiden to control the granularity of the clustering solution. It also uses a smart local move algorithm to avoid some of the resolution limit issues present in Louvain. Higher paramter means more identified communities. \n",
    "\n",
    "#The Leiden algorithm is a hierarchical clustering algorithm, that recursively merges communities into single nodes by greedily optimizing the modularity and the process repeats in the condensed graph.\n",
    "#The Leiden algorithm improves upon Louvain by using the \"agglomerative\" approach to optimize a different quality function known as the \"improved modularity.\" Improved modularity has a resolution parameter that allows Leiden to control the granularity of the clustering solution. It also uses a smart local move algorithm to avoid some of the resolution limit issues present in Louvain."
   ]
  },
  {
   "cell_type": "code",
   "execution_count": 85,
   "id": "342c740e",
   "metadata": {},
   "outputs": [],
   "source": [
    "#STEP 8: cluster definition\n",
    "\n",
    "def cluster_rna(bdata):\n",
    "    #I have already did filtering and HVG selection on main anndata, we want to keep same hvg across our states\n",
    "    sc.pp.normalize_total(bdata)    \n",
    "    sc.pp.log1p(bdata)\n",
    "    sc.pp.pca(bdata)\n",
    "    sc.pp.neighbors(bdata)\n",
    "    sc.tl.umap(bdata)\n",
    "    sc.tl.leiden(bdata, resolution=2)\n",
    "    return bdata"
   ]
  },
  {
   "cell_type": "code",
   "execution_count": 86,
   "id": "0cb0ba8d",
   "metadata": {},
   "outputs": [],
   "source": [
    "#STEP 9: Clustering\n",
    "\n",
    "for state in unique_state:\n",
    "    adata_by_state[state] = cluster_rna(adata_by_state[state])"
   ]
  },
  {
   "cell_type": "code",
   "execution_count": 114,
   "id": "d795bb7b",
   "metadata": {},
   "outputs": [
    {
     "name": "stderr",
     "output_type": "stream",
     "text": [
      "100%|██████████| 21/21 [00:00<00:00, 3715.22it/s]\n",
      "100%|██████████| 23/23 [00:00<00:00, 4621.93it/s]\n",
      "100%|██████████| 21/21 [00:00<00:00, 4112.06it/s]\n",
      "100%|██████████| 23/23 [00:00<00:00, 3743.75it/s]\n"
     ]
    }
   ],
   "source": [
    "#STEP 10: Subsampling\n",
    "\n",
    "from tqdm import tqdm\n",
    "frac_cells = 0.07\n",
    "data_sub = {}\n",
    "\n",
    "#Consistent randomization\n",
    "np.random.seed(0)\n",
    "\n",
    "for state in unique_state:\n",
    "    sub_cells = []\n",
    "    for clust in tqdm(adata_by_state[state].obs['leiden'].unique()):\n",
    "        # sample 10% of cells from each cluster\n",
    "        cells_in_clust = adata_by_state[state].obs_names[adata_by_state[state].obs['leiden'] == clust].copy()\n",
    "        #dropping out clusters with less than 5 cells\n",
    "        if (len(cells_in_clust) > 5):\n",
    "            chosen_cells = np.random.choice(cells_in_clust, size=int(len(cells_in_clust)*frac_cells), replace=False)\n",
    "            sub_cells.extend(chosen_cells)\n",
    "    data_sub[state] = adata_by_state[state][sub_cells, :].copy()"
   ]
  },
  {
   "cell_type": "code",
   "execution_count": 117,
   "id": "d542411d",
   "metadata": {},
   "outputs": [
    {
     "name": "stdout",
     "output_type": "stream",
     "text": [
      "UUa (499, 900)\n",
      "Same Gene set check:  UUa UUa  900\n",
      "UTb (357, 900)\n",
      "Same Gene set check:  UTb UUa  900\n",
      "UUb (693, 900)\n",
      "Same Gene set check:  UUb UUa  900\n",
      "UTa (723, 900)\n",
      "Same Gene set check:  UTa UUa  900\n"
     ]
    }
   ],
   "source": [
    "#checking for subsampling population\n",
    "\n",
    "for state in unique_state:\n",
    "    print(state, data_sub[state].shape)\n",
    "    set1 = set(data_sub[state].var_names)\n",
    "    set2 = set(data_sub[\"UUa\"].var_names)\n",
    "    print(\"Same Gene set check: \", state, \"UUa \", len(set1.intersection(set2)))"
   ]
  },
  {
   "cell_type": "code",
   "execution_count": 119,
   "id": "87a4206e",
   "metadata": {},
   "outputs": [
    {
     "data": {
      "text/html": [
       "<div>\n",
       "<style scoped>\n",
       "    .dataframe tbody tr th:only-of-type {\n",
       "        vertical-align: middle;\n",
       "    }\n",
       "\n",
       "    .dataframe tbody tr th {\n",
       "        vertical-align: top;\n",
       "    }\n",
       "\n",
       "    .dataframe thead th {\n",
       "        text-align: right;\n",
       "    }\n",
       "</style>\n",
       "<table border=\"1\" class=\"dataframe\">\n",
       "  <thead>\n",
       "    <tr style=\"text-align: right;\">\n",
       "      <th></th>\n",
       "      <th>ISG15</th>\n",
       "      <th>SLC2A5</th>\n",
       "      <th>SPSB1</th>\n",
       "      <th>NPPB</th>\n",
       "      <th>TNFRSF8</th>\n",
       "      <th>KAZN</th>\n",
       "      <th>CDA</th>\n",
       "      <th>RAP1GAP</th>\n",
       "      <th>SFN</th>\n",
       "      <th>IFI6</th>\n",
       "      <th>...</th>\n",
       "      <th>MIR548XHG</th>\n",
       "      <th>LINC02573</th>\n",
       "      <th>NCAM2</th>\n",
       "      <th>LINC01695</th>\n",
       "      <th>KCNJ6</th>\n",
       "      <th>PCP4</th>\n",
       "      <th>DSCAM</th>\n",
       "      <th>BACE2</th>\n",
       "      <th>MX2</th>\n",
       "      <th>CSTB</th>\n",
       "    </tr>\n",
       "  </thead>\n",
       "  <tbody>\n",
       "    <tr>\n",
       "      <th>CACTAAGAGACATATG-1_Lx599_a-UU</th>\n",
       "      <td>0.0</td>\n",
       "      <td>0.0</td>\n",
       "      <td>0.0</td>\n",
       "      <td>0.0</td>\n",
       "      <td>0.0</td>\n",
       "      <td>0.0</td>\n",
       "      <td>0.0</td>\n",
       "      <td>0.0</td>\n",
       "      <td>4.0</td>\n",
       "      <td>1.0</td>\n",
       "      <td>...</td>\n",
       "      <td>0.0</td>\n",
       "      <td>0.0</td>\n",
       "      <td>0.0</td>\n",
       "      <td>0.0</td>\n",
       "      <td>0.0</td>\n",
       "      <td>1.0</td>\n",
       "      <td>0.0</td>\n",
       "      <td>0.0</td>\n",
       "      <td>1.0</td>\n",
       "      <td>3.0</td>\n",
       "    </tr>\n",
       "    <tr>\n",
       "      <th>GTGCAGCAGGACGCAT-1_Lx599_a-UU</th>\n",
       "      <td>3.0</td>\n",
       "      <td>0.0</td>\n",
       "      <td>0.0</td>\n",
       "      <td>0.0</td>\n",
       "      <td>0.0</td>\n",
       "      <td>0.0</td>\n",
       "      <td>0.0</td>\n",
       "      <td>0.0</td>\n",
       "      <td>2.0</td>\n",
       "      <td>0.0</td>\n",
       "      <td>...</td>\n",
       "      <td>0.0</td>\n",
       "      <td>0.0</td>\n",
       "      <td>0.0</td>\n",
       "      <td>0.0</td>\n",
       "      <td>0.0</td>\n",
       "      <td>1.0</td>\n",
       "      <td>0.0</td>\n",
       "      <td>0.0</td>\n",
       "      <td>0.0</td>\n",
       "      <td>5.0</td>\n",
       "    </tr>\n",
       "    <tr>\n",
       "      <th>AGATCCATCATCACAG-1_Lx599_a-UU</th>\n",
       "      <td>0.0</td>\n",
       "      <td>0.0</td>\n",
       "      <td>0.0</td>\n",
       "      <td>0.0</td>\n",
       "      <td>0.0</td>\n",
       "      <td>0.0</td>\n",
       "      <td>0.0</td>\n",
       "      <td>0.0</td>\n",
       "      <td>1.0</td>\n",
       "      <td>0.0</td>\n",
       "      <td>...</td>\n",
       "      <td>0.0</td>\n",
       "      <td>0.0</td>\n",
       "      <td>0.0</td>\n",
       "      <td>0.0</td>\n",
       "      <td>0.0</td>\n",
       "      <td>0.0</td>\n",
       "      <td>0.0</td>\n",
       "      <td>0.0</td>\n",
       "      <td>0.0</td>\n",
       "      <td>1.0</td>\n",
       "    </tr>\n",
       "    <tr>\n",
       "      <th>ACCGTTCGTGACCTGC-1_Lx599_a-UU</th>\n",
       "      <td>3.0</td>\n",
       "      <td>0.0</td>\n",
       "      <td>0.0</td>\n",
       "      <td>0.0</td>\n",
       "      <td>0.0</td>\n",
       "      <td>1.0</td>\n",
       "      <td>0.0</td>\n",
       "      <td>0.0</td>\n",
       "      <td>4.0</td>\n",
       "      <td>0.0</td>\n",
       "      <td>...</td>\n",
       "      <td>0.0</td>\n",
       "      <td>0.0</td>\n",
       "      <td>0.0</td>\n",
       "      <td>0.0</td>\n",
       "      <td>0.0</td>\n",
       "      <td>0.0</td>\n",
       "      <td>0.0</td>\n",
       "      <td>0.0</td>\n",
       "      <td>0.0</td>\n",
       "      <td>9.0</td>\n",
       "    </tr>\n",
       "    <tr>\n",
       "      <th>ATCGATGAGTGCGTCC-1_Lx599_a-UU</th>\n",
       "      <td>3.0</td>\n",
       "      <td>0.0</td>\n",
       "      <td>0.0</td>\n",
       "      <td>0.0</td>\n",
       "      <td>0.0</td>\n",
       "      <td>0.0</td>\n",
       "      <td>0.0</td>\n",
       "      <td>0.0</td>\n",
       "      <td>1.0</td>\n",
       "      <td>1.0</td>\n",
       "      <td>...</td>\n",
       "      <td>0.0</td>\n",
       "      <td>0.0</td>\n",
       "      <td>0.0</td>\n",
       "      <td>0.0</td>\n",
       "      <td>0.0</td>\n",
       "      <td>0.0</td>\n",
       "      <td>0.0</td>\n",
       "      <td>0.0</td>\n",
       "      <td>0.0</td>\n",
       "      <td>4.0</td>\n",
       "    </tr>\n",
       "    <tr>\n",
       "      <th>...</th>\n",
       "      <td>...</td>\n",
       "      <td>...</td>\n",
       "      <td>...</td>\n",
       "      <td>...</td>\n",
       "      <td>...</td>\n",
       "      <td>...</td>\n",
       "      <td>...</td>\n",
       "      <td>...</td>\n",
       "      <td>...</td>\n",
       "      <td>...</td>\n",
       "      <td>...</td>\n",
       "      <td>...</td>\n",
       "      <td>...</td>\n",
       "      <td>...</td>\n",
       "      <td>...</td>\n",
       "      <td>...</td>\n",
       "      <td>...</td>\n",
       "      <td>...</td>\n",
       "      <td>...</td>\n",
       "      <td>...</td>\n",
       "      <td>...</td>\n",
       "    </tr>\n",
       "    <tr>\n",
       "      <th>GTCCTCACACTACGGC-1_Lx599_a-UU</th>\n",
       "      <td>0.0</td>\n",
       "      <td>0.0</td>\n",
       "      <td>0.0</td>\n",
       "      <td>0.0</td>\n",
       "      <td>0.0</td>\n",
       "      <td>1.0</td>\n",
       "      <td>0.0</td>\n",
       "      <td>0.0</td>\n",
       "      <td>4.0</td>\n",
       "      <td>0.0</td>\n",
       "      <td>...</td>\n",
       "      <td>0.0</td>\n",
       "      <td>0.0</td>\n",
       "      <td>1.0</td>\n",
       "      <td>0.0</td>\n",
       "      <td>0.0</td>\n",
       "      <td>2.0</td>\n",
       "      <td>0.0</td>\n",
       "      <td>0.0</td>\n",
       "      <td>0.0</td>\n",
       "      <td>0.0</td>\n",
       "    </tr>\n",
       "    <tr>\n",
       "      <th>TTTAGTCTCGACACTA-1_Lx599_a-UU</th>\n",
       "      <td>0.0</td>\n",
       "      <td>0.0</td>\n",
       "      <td>0.0</td>\n",
       "      <td>0.0</td>\n",
       "      <td>0.0</td>\n",
       "      <td>0.0</td>\n",
       "      <td>0.0</td>\n",
       "      <td>0.0</td>\n",
       "      <td>9.0</td>\n",
       "      <td>0.0</td>\n",
       "      <td>...</td>\n",
       "      <td>0.0</td>\n",
       "      <td>0.0</td>\n",
       "      <td>0.0</td>\n",
       "      <td>0.0</td>\n",
       "      <td>0.0</td>\n",
       "      <td>2.0</td>\n",
       "      <td>0.0</td>\n",
       "      <td>0.0</td>\n",
       "      <td>0.0</td>\n",
       "      <td>3.0</td>\n",
       "    </tr>\n",
       "    <tr>\n",
       "      <th>CTATAGGGTACAATAG-1_Lx599_a-UU</th>\n",
       "      <td>0.0</td>\n",
       "      <td>0.0</td>\n",
       "      <td>1.0</td>\n",
       "      <td>0.0</td>\n",
       "      <td>0.0</td>\n",
       "      <td>5.0</td>\n",
       "      <td>0.0</td>\n",
       "      <td>0.0</td>\n",
       "      <td>0.0</td>\n",
       "      <td>0.0</td>\n",
       "      <td>...</td>\n",
       "      <td>0.0</td>\n",
       "      <td>0.0</td>\n",
       "      <td>1.0</td>\n",
       "      <td>0.0</td>\n",
       "      <td>0.0</td>\n",
       "      <td>0.0</td>\n",
       "      <td>0.0</td>\n",
       "      <td>0.0</td>\n",
       "      <td>0.0</td>\n",
       "      <td>0.0</td>\n",
       "    </tr>\n",
       "    <tr>\n",
       "      <th>AAGCGTTCACAACCGC-1_Lx599_a-UU</th>\n",
       "      <td>0.0</td>\n",
       "      <td>0.0</td>\n",
       "      <td>0.0</td>\n",
       "      <td>0.0</td>\n",
       "      <td>0.0</td>\n",
       "      <td>0.0</td>\n",
       "      <td>0.0</td>\n",
       "      <td>0.0</td>\n",
       "      <td>0.0</td>\n",
       "      <td>0.0</td>\n",
       "      <td>...</td>\n",
       "      <td>0.0</td>\n",
       "      <td>0.0</td>\n",
       "      <td>0.0</td>\n",
       "      <td>0.0</td>\n",
       "      <td>0.0</td>\n",
       "      <td>0.0</td>\n",
       "      <td>0.0</td>\n",
       "      <td>0.0</td>\n",
       "      <td>0.0</td>\n",
       "      <td>0.0</td>\n",
       "    </tr>\n",
       "    <tr>\n",
       "      <th>CTGTGAAAGTTGAATG-1_Lx599_a-UU</th>\n",
       "      <td>0.0</td>\n",
       "      <td>0.0</td>\n",
       "      <td>0.0</td>\n",
       "      <td>0.0</td>\n",
       "      <td>0.0</td>\n",
       "      <td>0.0</td>\n",
       "      <td>0.0</td>\n",
       "      <td>0.0</td>\n",
       "      <td>0.0</td>\n",
       "      <td>0.0</td>\n",
       "      <td>...</td>\n",
       "      <td>0.0</td>\n",
       "      <td>0.0</td>\n",
       "      <td>0.0</td>\n",
       "      <td>1.0</td>\n",
       "      <td>0.0</td>\n",
       "      <td>1.0</td>\n",
       "      <td>0.0</td>\n",
       "      <td>0.0</td>\n",
       "      <td>0.0</td>\n",
       "      <td>0.0</td>\n",
       "    </tr>\n",
       "  </tbody>\n",
       "</table>\n",
       "<p>499 rows × 900 columns</p>\n",
       "</div>"
      ],
      "text/plain": [
       "                               ISG15  SLC2A5  SPSB1  NPPB  TNFRSF8  KAZN  CDA  \\\n",
       "CACTAAGAGACATATG-1_Lx599_a-UU    0.0     0.0    0.0   0.0      0.0   0.0  0.0   \n",
       "GTGCAGCAGGACGCAT-1_Lx599_a-UU    3.0     0.0    0.0   0.0      0.0   0.0  0.0   \n",
       "AGATCCATCATCACAG-1_Lx599_a-UU    0.0     0.0    0.0   0.0      0.0   0.0  0.0   \n",
       "ACCGTTCGTGACCTGC-1_Lx599_a-UU    3.0     0.0    0.0   0.0      0.0   1.0  0.0   \n",
       "ATCGATGAGTGCGTCC-1_Lx599_a-UU    3.0     0.0    0.0   0.0      0.0   0.0  0.0   \n",
       "...                              ...     ...    ...   ...      ...   ...  ...   \n",
       "GTCCTCACACTACGGC-1_Lx599_a-UU    0.0     0.0    0.0   0.0      0.0   1.0  0.0   \n",
       "TTTAGTCTCGACACTA-1_Lx599_a-UU    0.0     0.0    0.0   0.0      0.0   0.0  0.0   \n",
       "CTATAGGGTACAATAG-1_Lx599_a-UU    0.0     0.0    1.0   0.0      0.0   5.0  0.0   \n",
       "AAGCGTTCACAACCGC-1_Lx599_a-UU    0.0     0.0    0.0   0.0      0.0   0.0  0.0   \n",
       "CTGTGAAAGTTGAATG-1_Lx599_a-UU    0.0     0.0    0.0   0.0      0.0   0.0  0.0   \n",
       "\n",
       "                               RAP1GAP  SFN  IFI6  ...  MIR548XHG  LINC02573  \\\n",
       "CACTAAGAGACATATG-1_Lx599_a-UU      0.0  4.0   1.0  ...        0.0        0.0   \n",
       "GTGCAGCAGGACGCAT-1_Lx599_a-UU      0.0  2.0   0.0  ...        0.0        0.0   \n",
       "AGATCCATCATCACAG-1_Lx599_a-UU      0.0  1.0   0.0  ...        0.0        0.0   \n",
       "ACCGTTCGTGACCTGC-1_Lx599_a-UU      0.0  4.0   0.0  ...        0.0        0.0   \n",
       "ATCGATGAGTGCGTCC-1_Lx599_a-UU      0.0  1.0   1.0  ...        0.0        0.0   \n",
       "...                                ...  ...   ...  ...        ...        ...   \n",
       "GTCCTCACACTACGGC-1_Lx599_a-UU      0.0  4.0   0.0  ...        0.0        0.0   \n",
       "TTTAGTCTCGACACTA-1_Lx599_a-UU      0.0  9.0   0.0  ...        0.0        0.0   \n",
       "CTATAGGGTACAATAG-1_Lx599_a-UU      0.0  0.0   0.0  ...        0.0        0.0   \n",
       "AAGCGTTCACAACCGC-1_Lx599_a-UU      0.0  0.0   0.0  ...        0.0        0.0   \n",
       "CTGTGAAAGTTGAATG-1_Lx599_a-UU      0.0  0.0   0.0  ...        0.0        0.0   \n",
       "\n",
       "                               NCAM2  LINC01695  KCNJ6  PCP4  DSCAM  BACE2  \\\n",
       "CACTAAGAGACATATG-1_Lx599_a-UU    0.0        0.0    0.0   1.0    0.0    0.0   \n",
       "GTGCAGCAGGACGCAT-1_Lx599_a-UU    0.0        0.0    0.0   1.0    0.0    0.0   \n",
       "AGATCCATCATCACAG-1_Lx599_a-UU    0.0        0.0    0.0   0.0    0.0    0.0   \n",
       "ACCGTTCGTGACCTGC-1_Lx599_a-UU    0.0        0.0    0.0   0.0    0.0    0.0   \n",
       "ATCGATGAGTGCGTCC-1_Lx599_a-UU    0.0        0.0    0.0   0.0    0.0    0.0   \n",
       "...                              ...        ...    ...   ...    ...    ...   \n",
       "GTCCTCACACTACGGC-1_Lx599_a-UU    1.0        0.0    0.0   2.0    0.0    0.0   \n",
       "TTTAGTCTCGACACTA-1_Lx599_a-UU    0.0        0.0    0.0   2.0    0.0    0.0   \n",
       "CTATAGGGTACAATAG-1_Lx599_a-UU    1.0        0.0    0.0   0.0    0.0    0.0   \n",
       "AAGCGTTCACAACCGC-1_Lx599_a-UU    0.0        0.0    0.0   0.0    0.0    0.0   \n",
       "CTGTGAAAGTTGAATG-1_Lx599_a-UU    0.0        1.0    0.0   1.0    0.0    0.0   \n",
       "\n",
       "                               MX2  CSTB  \n",
       "CACTAAGAGACATATG-1_Lx599_a-UU  1.0   3.0  \n",
       "GTGCAGCAGGACGCAT-1_Lx599_a-UU  0.0   5.0  \n",
       "AGATCCATCATCACAG-1_Lx599_a-UU  0.0   1.0  \n",
       "ACCGTTCGTGACCTGC-1_Lx599_a-UU  0.0   9.0  \n",
       "ATCGATGAGTGCGTCC-1_Lx599_a-UU  0.0   4.0  \n",
       "...                            ...   ...  \n",
       "GTCCTCACACTACGGC-1_Lx599_a-UU  0.0   0.0  \n",
       "TTTAGTCTCGACACTA-1_Lx599_a-UU  0.0   3.0  \n",
       "CTATAGGGTACAATAG-1_Lx599_a-UU  0.0   0.0  \n",
       "AAGCGTTCACAACCGC-1_Lx599_a-UU  0.0   0.0  \n",
       "CTGTGAAAGTTGAATG-1_Lx599_a-UU  0.0   0.0  \n",
       "\n",
       "[499 rows x 900 columns]"
      ]
     },
     "execution_count": 119,
     "metadata": {},
     "output_type": "execute_result"
    }
   ],
   "source": [
    "#STEP 11: copying over raw count \n",
    "\n",
    "for state in unique_state:\n",
    "    data_sub[state].X = data_sub[state].layers['counts'].copy()\n",
    "    \n",
    "#check for sample output\n",
    "data_sub[\"UUa\"].to_df()"
   ]
  },
  {
   "cell_type": "code",
   "execution_count": 137,
   "id": "c2b2bc79",
   "metadata": {},
   "outputs": [
    {
     "name": "stdout",
     "output_type": "stream",
     "text": [
      "Finish with:  /home/linl5/project/SCLC/results/lx599.UUa.qc.tpm.csv  Shape:  (499, 900)\n",
      "Finish with:  /home/linl5/project/SCLC/results/lx599.UTb.qc.tpm.csv  Shape:  (357, 900)\n",
      "Finish with:  /home/linl5/project/SCLC/results/lx599.UUb.qc.tpm.csv  Shape:  (693, 900)\n",
      "Finish with:  /home/linl5/project/SCLC/results/lx599.UTa.qc.tpm.csv  Shape:  (723, 900)\n"
     ]
    }
   ],
   "source": [
    "#STEP 12: output Timepoint specific count matrix after subsampling by state\n",
    "for state in unique_state:\n",
    "    EXP_MTX_QC_FNAME = os.path.join(RESULTS_FOLDERNAME, '{}.{}.qc.tpm.csv'.format(DATASET_ID, state))\n",
    "    data_sub[state].to_df().to_csv(EXP_MTX_QC_FNAME, index=False, sep='\\t')\n",
    "    print(\"Finish with: \", EXP_MTX_QC_FNAME, \" Shape: \", data_sub[state].shape)\n"
   ]
  },
  {
   "cell_type": "code",
   "execution_count": 14,
   "id": "3c8fadea",
   "metadata": {},
   "outputs": [
    {
     "name": "stdout",
     "output_type": "stream",
     "text": [
      "/home/linl5/project/SCLC/resources/allTFs_hg38.txt : Size of TF list 1892\n",
      "\n",
      "Expression matrix shape for lx599 UUa (499, 899)\n",
      "preparing dask client\n",
      "parsing input\n",
      "creating dask graph\n",
      "8 partitions\n",
      "computing dask graph\n",
      "shutting down client and local cluster\n",
      "finished\n",
      "\n",
      "COMPLETED GRNBOOST2 RUNNING FOR lx599 UUa\n",
      "\n",
      "        TF   target  importance\n",
      "24  ANXA1   TM4SF1  118.565309\n",
      "41   ATF5    UBE2C   98.453426\n",
      "41   ATF5    CENPF   97.341648\n",
      "39  TRIB3     ATF5   89.687075\n",
      "24  ANXA1  S100A10   85.079732\n",
      "SUCCESSFUL WRITING TO /home/linl5/project/SCLC/data/lx599.UUa.adjacencies.tsv \n",
      "\n",
      "\n",
      "Expression matrix shape for lx599 UTb (357, 899)\n",
      "preparing dask client\n",
      "parsing input\n",
      "creating dask graph\n",
      "8 partitions\n",
      "computing dask graph\n",
      "shutting down client and local cluster\n",
      "finished\n",
      "\n",
      "COMPLETED GRNBOOST2 RUNNING FOR lx599 UTb\n",
      "\n",
      "        TF   target  importance\n",
      "24  ANXA1  S100A11   83.944753\n",
      "24  ANXA1  S100A10   79.913382\n",
      "24  ANXA1    KRT19   79.809325\n",
      "24  ANXA1     CD55   71.257329\n",
      "24  ANXA1     EMP1   68.539123\n",
      "SUCCESSFUL WRITING TO /home/linl5/project/SCLC/data/lx599.UTb.adjacencies.tsv \n",
      "\n",
      "\n",
      "Expression matrix shape for lx599 UUb (693, 899)\n",
      "preparing dask client\n",
      "parsing input\n",
      "creating dask graph\n",
      "8 partitions\n",
      "computing dask graph\n",
      "shutting down client and local cluster\n",
      "finished\n",
      "\n",
      "COMPLETED GRNBOOST2 RUNNING FOR lx599 UUb\n",
      "\n",
      "        TF    target  importance\n",
      "28   SOX6  TMEM132D   91.585211\n",
      "28   SOX6    NKAIN2   80.724259\n",
      "28   SOX6      ASPM   80.147973\n",
      "28   SOX6      TPX2   78.877267\n",
      "24  ANXA1    TM4SF1   77.367296\n",
      "SUCCESSFUL WRITING TO /home/linl5/project/SCLC/data/lx599.UUb.adjacencies.tsv \n",
      "\n",
      "\n",
      "Expression matrix shape for lx599 UTa (723, 899)\n",
      "preparing dask client\n",
      "parsing input\n",
      "creating dask graph\n",
      "8 partitions\n",
      "computing dask graph\n",
      "shutting down client and local cluster\n",
      "finished\n",
      "\n",
      "COMPLETED GRNBOOST2 RUNNING FOR lx599 UTa\n",
      "\n",
      "         TF   target  importance\n",
      "27  PHLDA2  S100A10  117.174667\n",
      "41    ATF5    CDKN3   95.780085\n",
      "40    ATF5    TRIB3   95.662481\n",
      "41    ATF5    CENPF   91.983882\n",
      "24   ANXA1   TM4SF1   86.904307\n",
      "SUCCESSFUL WRITING TO /home/linl5/project/SCLC/data/lx599.UTa.adjacencies.tsv \n",
      "\n"
     ]
    }
   ],
   "source": [
    "# STEP 13: prepping for GRN, Loading in expression matrix and TF files\n",
    "\n",
    "#Loading TF\n",
    "tf_names = load_tf_names(HUMAN_TFS_FNAME)\n",
    "print(HUMAN_TFS_FNAME, \": Size of TF list\", len(tf_names))\n",
    "\n",
    "#expression matrix\n",
    "for state in unique_state:\n",
    "    EXP_MTX_QC_FNAME = os.path.join(RESULTS_FOLDERNAME, '{}.{}.qc.tpm.csv'.format(DATASET_ID, state))\n",
    "    ex_matrix = pd.read_csv(EXP_MTX_QC_FNAME, sep='\\t', header=0, index_col=0)\n",
    "   \n",
    "    #Input Checking \n",
    "    print(\"\\nExpression matrix shape for\", DATASET_ID, state, ex_matrix.shape)\n",
    "\n",
    "    #STEP 14: Running GRNBOOST2 for coexpression modules\n",
    "    adjacencies = grnboost2(expression_data=ex_matrix, tf_names=tf_names, verbose=True)\n",
    "    print(\"\\nCOMPLETED GRNBOOST2 RUNNING FOR\", DATASET_ID, state)\n",
    "    print(\"\\n\", adjacencies.head())\n",
    "    ADJACENCIES_FNAME = os.path.join(DATA_FOLDERNAME, \"{}.{}.adjacencies.tsv\".format(DATASET_ID, state))\n",
    "    adjacencies.to_csv(ADJACENCIES_FNAME, index=False, sep='\\t')\n",
    "    print(\"SUCCESSFUL WRITING TO\", ADJACENCIES_FNAME, \"\\n\")\n",
    "    "
   ]
  },
  {
   "cell_type": "code",
   "execution_count": 14,
   "id": "0a76f0c1",
   "metadata": {},
   "outputs": [
    {
     "data": {
      "text/plain": [
       "[FeatherRankingDatabase(name=\"hg38__refseq-r80__10kb_up_and_down_tss.mc9nr.genes_vs_motifs.rankings\"),\n",
       " FeatherRankingDatabase(name=\"hg38__refseq-r80__500bp_up_and_100bp_down_tss.mc9nr.genes_vs_motifs.rankings\")]"
      ]
     },
     "execution_count": 14,
     "metadata": {},
     "output_type": "execute_result"
    }
   ],
   "source": [
    "#STEP 14: Prepping for RCistarget: Loading Database\n",
    "DATABASE_FOLDER = \"/home/linl5/project/SCLC/auxilliaries/\"\n",
    "DATABASES_GLOB = os.path.join(DATABASE_FOLDER, \"hg38_*.mc9nr.genes_vs_motifs.rankings.feather\")\n",
    "\n",
    "db_fnames = glob.glob(DATABASES_GLOB)\n",
    "def name(fname):\n",
    "    return os.path.splitext(os.path.basename(fname))[0]\n",
    "dbs = [RankingDatabase(fname=fname, name=name(fname)) for fname in db_fnames]\n",
    "dbs"
   ]
  },
  {
   "cell_type": "code",
   "execution_count": 15,
   "id": "8399518e",
   "metadata": {},
   "outputs": [],
   "source": [
    "#STEP 15: Prepping for Running RCistarget\n",
    "\n",
    "MOTIF_ANNOTATIONS_FNAME = os.path.join(RESOURCES_FOLDERNAME,\"motifs-v9-nr.hgnc-m0.001-o0.0.tbl\")\n"
   ]
  },
  {
   "cell_type": "code",
   "execution_count": 30,
   "id": "88dcd893",
   "metadata": {},
   "outputs": [
    {
     "name": "stderr",
     "output_type": "stream",
     "text": [
      "\n",
      "2023-08-03 13:01:00,443 - pyscenic.utils - INFO - Calculating Pearson correlations.\n",
      "\n",
      "2023-08-03 13:01:00,448 - pyscenic.utils - WARNING - Note on correlation calculation: the default behaviour for calculating the correlations has changed after pySCENIC verion 0.9.16. Previously, the default was to calculate the correlation between a TF and target gene using only cells with non-zero expression values (mask_dropouts=True). The current default is now to use all cells to match the behavior of the R verision of SCENIC. The original settings can be retained by setting 'rho_mask_dropouts=True' in the modules_from_adjacencies function, or '--mask_dropouts' from the CLI.\n",
      "\tDropout masking is currently set to [False].\n"
     ]
    },
    {
     "name": "stdout",
     "output_type": "stream",
     "text": [
      "\n",
      "FINISHED READING ADJACENCIES FILE /home/linl5/project/SCLC/data/lx599.UUa.adjacencies.tsv \n",
      "\n",
      "\n",
      "FINISHED READING EXPRESSION MATRIX /home/linl5/project/SCLC/results/lx599.UUa.qc.tpm.csv \n",
      "\n"
     ]
    },
    {
     "name": "stderr",
     "output_type": "stream",
     "text": [
      "\n",
      "2023-08-03 13:01:00,669 - pyscenic.utils - INFO - Creating modules.\n",
      "/home/linl5/miniconda3/envs/pyscenic/lib/python3.10/site-packages/pyscenic/utils.py:244: FutureWarning: Not prepending group keys to the result index of transform-like apply. In the future, the group keys will be included in the index, regardless of whether the applied function returns a like-indexed object.\n",
      "To preserve the previous behavior, use\n",
      "\n",
      "\t>>> .groupby(..., group_keys=False)\n",
      "\n",
      "To adopt the future behavior and silence this warning, use \n",
      "\n",
      "\t>>> .groupby(..., group_keys=True)\n",
      "  df = adjacencies.groupby(by=COLUMN_NAME_TARGET).apply(\n"
     ]
    },
    {
     "name": "stdout",
     "output_type": "stream",
     "text": [
      "\n",
      "COMPLETED COEXPRESSION MODULE WRITING: /home/linl5/project/SCLC/data/lx599.UUa.modules.p \n",
      "\n",
      "[                                        ] | 0% Completed | 29.26 sms"
     ]
    },
    {
     "name": "stderr",
     "output_type": "stream",
     "text": [
      "\n",
      "2023-08-03 13:01:33,346 - pyscenic.transform - WARNING - Less than 80% of the genes in Regulon for MEOX2 could be mapped to hg38__refseq-r80__500bp_up_and_100bp_down_tss.mc9nr.genes_vs_motifs.rankings. Skipping this module.\n"
     ]
    },
    {
     "name": "stdout",
     "output_type": "stream",
     "text": [
      "[                                        ] | 0% Completed | 34.95 s"
     ]
    },
    {
     "name": "stderr",
     "output_type": "stream",
     "text": [
      "\n",
      "2023-08-03 13:01:39,116 - pyscenic.transform - WARNING - Less than 80% of the genes in Regulon for CUX2 could be mapped to hg38__refseq-r80__500bp_up_and_100bp_down_tss.mc9nr.genes_vs_motifs.rankings. Skipping this module.\n"
     ]
    },
    {
     "name": "stdout",
     "output_type": "stream",
     "text": [
      "[                                        ] | 0% Completed | 51.95 s"
     ]
    },
    {
     "name": "stderr",
     "output_type": "stream",
     "text": [
      "\n",
      "2023-08-03 13:01:56,070 - pyscenic.transform - WARNING - Less than 80% of the genes in NR4A3 could be mapped to hg38__refseq-r80__500bp_up_and_100bp_down_tss.mc9nr.genes_vs_motifs.rankings. Skipping this module.\n"
     ]
    },
    {
     "name": "stdout",
     "output_type": "stream",
     "text": [
      "[                                        ] | 0% Completed | 53.68 s"
     ]
    },
    {
     "name": "stderr",
     "output_type": "stream",
     "text": [
      "\n",
      "2023-08-03 13:01:57,802 - pyscenic.transform - WARNING - Less than 80% of the genes in THRB could be mapped to hg38__refseq-r80__500bp_up_and_100bp_down_tss.mc9nr.genes_vs_motifs.rankings. Skipping this module.\n",
      "\n",
      "2023-08-03 13:01:58,000 - pyscenic.transform - WARNING - Less than 80% of the genes in ZEB2 could be mapped to hg38__refseq-r80__500bp_up_and_100bp_down_tss.mc9nr.genes_vs_motifs.rankings. Skipping this module.\n"
     ]
    },
    {
     "name": "stdout",
     "output_type": "stream",
     "text": [
      "[                                        ] | 0% Completed | 55.81 s"
     ]
    },
    {
     "name": "stderr",
     "output_type": "stream",
     "text": [
      "\n",
      "2023-08-03 13:01:59,925 - pyscenic.transform - WARNING - Less than 80% of the genes in CUX2 could be mapped to hg38__refseq-r80__500bp_up_and_100bp_down_tss.mc9nr.genes_vs_motifs.rankings. Skipping this module.\n"
     ]
    },
    {
     "name": "stdout",
     "output_type": "stream",
     "text": [
      "[                                        ] | 0% Completed | 62.14 s"
     ]
    },
    {
     "name": "stderr",
     "output_type": "stream",
     "text": [
      "\n",
      "2023-08-03 13:02:06,217 - pyscenic.transform - WARNING - Less than 80% of the genes in ZEB2 could be mapped to hg38__refseq-r80__500bp_up_and_100bp_down_tss.mc9nr.genes_vs_motifs.rankings. Skipping this module.\n"
     ]
    },
    {
     "name": "stdout",
     "output_type": "stream",
     "text": [
      "[                                        ] | 0% Completed | 90.03 s"
     ]
    },
    {
     "name": "stderr",
     "output_type": "stream",
     "text": [
      "\n",
      "2023-08-03 13:02:34,168 - pyscenic.transform - WARNING - Less than 80% of the genes in Regulon for MEOX2 could be mapped to hg38__refseq-r80__10kb_up_and_down_tss.mc9nr.genes_vs_motifs.rankings. Skipping this module.\n"
     ]
    },
    {
     "name": "stdout",
     "output_type": "stream",
     "text": [
      "[                                        ] | 0% Completed | 97.77 s"
     ]
    },
    {
     "name": "stderr",
     "output_type": "stream",
     "text": [
      "\n",
      "2023-08-03 13:02:41,862 - pyscenic.transform - WARNING - Less than 80% of the genes in Regulon for CUX2 could be mapped to hg38__refseq-r80__10kb_up_and_down_tss.mc9nr.genes_vs_motifs.rankings. Skipping this module.\n"
     ]
    },
    {
     "name": "stdout",
     "output_type": "stream",
     "text": [
      "[                                        ] | 0% Completed | 118.92 s"
     ]
    },
    {
     "name": "stderr",
     "output_type": "stream",
     "text": [
      "\n",
      "2023-08-03 13:03:03,006 - pyscenic.transform - WARNING - Less than 80% of the genes in NR4A3 could be mapped to hg38__refseq-r80__10kb_up_and_down_tss.mc9nr.genes_vs_motifs.rankings. Skipping this module.\n"
     ]
    },
    {
     "name": "stdout",
     "output_type": "stream",
     "text": [
      "[                                        ] | 0% Completed | 121.05 s"
     ]
    },
    {
     "name": "stderr",
     "output_type": "stream",
     "text": [
      "\n",
      "2023-08-03 13:03:05,174 - pyscenic.transform - WARNING - Less than 80% of the genes in THRB could be mapped to hg38__refseq-r80__10kb_up_and_down_tss.mc9nr.genes_vs_motifs.rankings. Skipping this module.\n",
      "\n",
      "2023-08-03 13:03:05,368 - pyscenic.transform - WARNING - Less than 80% of the genes in ZEB2 could be mapped to hg38__refseq-r80__10kb_up_and_down_tss.mc9nr.genes_vs_motifs.rankings. Skipping this module.\n"
     ]
    },
    {
     "name": "stdout",
     "output_type": "stream",
     "text": [
      "[                                        ] | 0% Completed | 122.48 s"
     ]
    },
    {
     "name": "stderr",
     "output_type": "stream",
     "text": [
      "\n",
      "2023-08-03 13:03:06,610 - pyscenic.transform - WARNING - Less than 80% of the genes in CUX2 could be mapped to hg38__refseq-r80__10kb_up_and_down_tss.mc9nr.genes_vs_motifs.rankings. Skipping this module.\n"
     ]
    },
    {
     "name": "stdout",
     "output_type": "stream",
     "text": [
      "[                                        ] | 0% Completed | 131.43 s"
     ]
    },
    {
     "name": "stderr",
     "output_type": "stream",
     "text": [
      "\n",
      "2023-08-03 13:03:15,536 - pyscenic.transform - WARNING - Less than 80% of the genes in ZEB2 could be mapped to hg38__refseq-r80__10kb_up_and_down_tss.mc9nr.genes_vs_motifs.rankings. Skipping this module.\n"
     ]
    },
    {
     "name": "stdout",
     "output_type": "stream",
     "text": [
      "[########################################] | 100% Completed | 144.55 s\n"
     ]
    },
    {
     "name": "stderr",
     "output_type": "stream",
     "text": [
      "\n",
      "2023-08-03 13:03:29,573 - pyscenic.utils - INFO - Calculating Pearson correlations.\n",
      "\n",
      "2023-08-03 13:03:29,577 - pyscenic.utils - WARNING - Note on correlation calculation: the default behaviour for calculating the correlations has changed after pySCENIC verion 0.9.16. Previously, the default was to calculate the correlation between a TF and target gene using only cells with non-zero expression values (mask_dropouts=True). The current default is now to use all cells to match the behavior of the R verision of SCENIC. The original settings can be retained by setting 'rho_mask_dropouts=True' in the modules_from_adjacencies function, or '--mask_dropouts' from the CLI.\n",
      "\tDropout masking is currently set to [False].\n"
     ]
    },
    {
     "name": "stdout",
     "output_type": "stream",
     "text": [
      "COMPLETED WRITING ENRICHED MOTIFS /home/linl5/project/SCLC/data/lx599.UUa.motifs.csv \n",
      "\n",
      "                                            Enrichment            \\\n",
      "                                                   AUC       NES   \n",
      "TF    MotifID                                                      \n",
      "DDIT3 taipale__Atf4_DBD_NGGATGATGCAATM_repr   0.099796  3.121338   \n",
      "EGR3  predrem__nrMotif1138                    0.098862  3.375706   \n",
      "ESRRG cisbp__M5408                            0.153182  3.208137   \n",
      "SOX6  cisbp__M5815                            0.126186  3.810415   \n",
      "DDIT3 cisbp__M5988                            0.092811  3.907565   \n",
      "\n",
      "                                                                   \\\n",
      "                                            MotifSimilarityQvalue   \n",
      "TF    MotifID                                                       \n",
      "DDIT3 taipale__Atf4_DBD_NGGATGATGCAATM_repr              0.000636   \n",
      "EGR3  predrem__nrMotif1138                               0.000177   \n",
      "ESRRG cisbp__M5408                                       0.000000   \n",
      "SOX6  cisbp__M5815                                       0.000029   \n",
      "DDIT3 cisbp__M5988                                       0.000636   \n",
      "\n",
      "                                                                 \\\n",
      "                                            OrthologousIdentity   \n",
      "TF    MotifID                                                     \n",
      "DDIT3 taipale__Atf4_DBD_NGGATGATGCAATM_repr            0.776042   \n",
      "EGR3  predrem__nrMotif1138                             1.000000   \n",
      "ESRRG cisbp__M5408                                     1.000000   \n",
      "SOX6  cisbp__M5815                                     0.183168   \n",
      "DDIT3 cisbp__M5988                                     0.776042   \n",
      "\n",
      "                                                                                                \\\n",
      "                                                                                    Annotation   \n",
      "TF    MotifID                                                                                    \n",
      "DDIT3 taipale__Atf4_DBD_NGGATGATGCAATM_repr  gene is orthologous to ENSMUSG00000025408 in M...   \n",
      "EGR3  predrem__nrMotif1138                   motif similar to transfac_pro__M00982 ('V$KROX...   \n",
      "ESRRG cisbp__M5408                           motif similar to cisbp__M5412 ('ESRRG[gene ID:...   \n",
      "SOX6  cisbp__M5815                           gene is orthologous to FBgn0039938 in D. melan...   \n",
      "DDIT3 cisbp__M5988                           gene is orthologous to ENSMUSG00000025408 in M...   \n",
      "\n",
      "                                                                                                \\\n",
      "                                                                                       Context   \n",
      "TF    MotifID                                                                                    \n",
      "DDIT3 taipale__Atf4_DBD_NGGATGATGCAATM_repr  (activating, hg38__refseq-r80__10kb_up_and_dow...   \n",
      "EGR3  predrem__nrMotif1138                   (activating, hg38__refseq-r80__10kb_up_and_dow...   \n",
      "ESRRG cisbp__M5408                           (activating, hg38__refseq-r80__10kb_up_and_dow...   \n",
      "SOX6  cisbp__M5815                           (activating, hg38__refseq-r80__10kb_up_and_dow...   \n",
      "DDIT3 cisbp__M5988                           (activating, weight>90.0%, hg38__refseq-r80__1...   \n",
      "\n",
      "                                                                                                \\\n",
      "                                                                                   TargetGenes   \n",
      "TF    MotifID                                                                                    \n",
      "DDIT3 taipale__Atf4_DBD_NGGATGATGCAATM_repr  [(GPC3, 9.656407563775485), (ZEB2, 4.047096105...   \n",
      "EGR3  predrem__nrMotif1138                   [(NDUFA4L2, 6.265167250387228), (IGFBP2, 3.118...   \n",
      "ESRRG cisbp__M5408                           [(CDH20, 5.444975928195214), (EDN2, 4.16120837...   \n",
      "SOX6  cisbp__M5815                           [(NR2F1, 7.910380499673717), (IGFBP5, 4.102835...   \n",
      "DDIT3 cisbp__M5988                           [(HSPA5, 17.568848382009726), (DDIT3, 1.0), (S...   \n",
      "\n",
      "                                                       \n",
      "                                            RankAtMax  \n",
      "TF    MotifID                                          \n",
      "DDIT3 taipale__Atf4_DBD_NGGATGATGCAATM_repr       804  \n",
      "EGR3  predrem__nrMotif1138                        519  \n",
      "ESRRG cisbp__M5408                                450  \n",
      "SOX6  cisbp__M5815                               1470  \n",
      "DDIT3 cisbp__M5988                                 73  \n",
      "Create regulons from a dataframe of enriched features.\n",
      "Additional columns saved: []\n",
      "COMPLETED WRITING DISCOVRED REGULON /home/linl5/project/SCLC/data/lx599.UUa.regulons.p \n",
      "\n",
      "\n",
      "FINISHED READING ADJACENCIES FILE /home/linl5/project/SCLC/data/lx599.UTb.adjacencies.tsv \n",
      "\n",
      "\n",
      "FINISHED READING EXPRESSION MATRIX /home/linl5/project/SCLC/results/lx599.UTb.qc.tpm.csv \n",
      "\n"
     ]
    },
    {
     "name": "stderr",
     "output_type": "stream",
     "text": [
      "\n",
      "2023-08-03 13:03:29,800 - pyscenic.utils - INFO - Creating modules.\n",
      "/home/linl5/miniconda3/envs/pyscenic/lib/python3.10/site-packages/pyscenic/utils.py:244: FutureWarning: Not prepending group keys to the result index of transform-like apply. In the future, the group keys will be included in the index, regardless of whether the applied function returns a like-indexed object.\n",
      "To preserve the previous behavior, use\n",
      "\n",
      "\t>>> .groupby(..., group_keys=False)\n",
      "\n",
      "To adopt the future behavior and silence this warning, use \n",
      "\n",
      "\t>>> .groupby(..., group_keys=True)\n",
      "  df = adjacencies.groupby(by=COLUMN_NAME_TARGET).apply(\n"
     ]
    },
    {
     "name": "stdout",
     "output_type": "stream",
     "text": [
      "\n",
      "COMPLETED COEXPRESSION MODULE WRITING: /home/linl5/project/SCLC/data/lx599.UTb.modules.p \n",
      "\n",
      "[                                        ] | 0% Completed | 45.69 sms"
     ]
    },
    {
     "name": "stderr",
     "output_type": "stream",
     "text": [
      "\n",
      "2023-08-03 13:04:18,949 - pyscenic.transform - WARNING - Less than 80% of the genes in ATF5 could be mapped to hg38__refseq-r80__10kb_up_and_down_tss.mc9nr.genes_vs_motifs.rankings. Skipping this module.\n"
     ]
    },
    {
     "name": "stdout",
     "output_type": "stream",
     "text": [
      "[                                        ] | 0% Completed | 51.50 s"
     ]
    },
    {
     "name": "stderr",
     "output_type": "stream",
     "text": [
      "\n",
      "2023-08-03 13:04:24,806 - pyscenic.transform - WARNING - Less than 80% of the genes in IL24 could be mapped to hg38__refseq-r80__10kb_up_and_down_tss.mc9nr.genes_vs_motifs.rankings. Skipping this module.\n",
      "\n",
      "2023-08-03 13:04:24,962 - pyscenic.transform - WARNING - Less than 80% of the genes in KCNIP1 could be mapped to hg38__refseq-r80__10kb_up_and_down_tss.mc9nr.genes_vs_motifs.rankings. Skipping this module.\n"
     ]
    },
    {
     "name": "stdout",
     "output_type": "stream",
     "text": [
      "[                                        ] | 0% Completed | 53.33 s"
     ]
    },
    {
     "name": "stderr",
     "output_type": "stream",
     "text": [
      "\n",
      "2023-08-03 13:04:26,643 - pyscenic.transform - WARNING - Less than 80% of the genes in NR2F1 could be mapped to hg38__refseq-r80__10kb_up_and_down_tss.mc9nr.genes_vs_motifs.rankings. Skipping this module.\n"
     ]
    },
    {
     "name": "stdout",
     "output_type": "stream",
     "text": [
      "[                                        ] | 0% Completed | 58.21 s"
     ]
    },
    {
     "name": "stderr",
     "output_type": "stream",
     "text": [
      "\n",
      "2023-08-03 13:04:31,468 - pyscenic.transform - WARNING - Less than 80% of the genes in TRIB3 could be mapped to hg38__refseq-r80__10kb_up_and_down_tss.mc9nr.genes_vs_motifs.rankings. Skipping this module.\n"
     ]
    },
    {
     "name": "stdout",
     "output_type": "stream",
     "text": [
      "[                                        ] | 0% Completed | 61.47 s"
     ]
    },
    {
     "name": "stderr",
     "output_type": "stream",
     "text": [
      "\n",
      "2023-08-03 13:04:34,723 - pyscenic.transform - WARNING - Less than 80% of the genes in KCNIP1 could be mapped to hg38__refseq-r80__10kb_up_and_down_tss.mc9nr.genes_vs_motifs.rankings. Skipping this module.\n"
     ]
    },
    {
     "name": "stdout",
     "output_type": "stream",
     "text": [
      "[                                        ] | 0% Completed | 110.64 s"
     ]
    },
    {
     "name": "stderr",
     "output_type": "stream",
     "text": [
      "\n",
      "2023-08-03 13:05:23,908 - pyscenic.transform - WARNING - Less than 80% of the genes in ATF5 could be mapped to hg38__refseq-r80__500bp_up_and_100bp_down_tss.mc9nr.genes_vs_motifs.rankings. Skipping this module.\n"
     ]
    },
    {
     "name": "stdout",
     "output_type": "stream",
     "text": [
      "[                                        ] | 0% Completed | 113.08 s"
     ]
    },
    {
     "name": "stderr",
     "output_type": "stream",
     "text": [
      "\n",
      "2023-08-03 13:05:26,402 - pyscenic.transform - WARNING - Less than 80% of the genes in IL24 could be mapped to hg38__refseq-r80__500bp_up_and_100bp_down_tss.mc9nr.genes_vs_motifs.rankings. Skipping this module.\n",
      "\n",
      "2023-08-03 13:05:26,540 - pyscenic.transform - WARNING - Less than 80% of the genes in KCNIP1 could be mapped to hg38__refseq-r80__500bp_up_and_100bp_down_tss.mc9nr.genes_vs_motifs.rankings. Skipping this module.\n"
     ]
    },
    {
     "name": "stdout",
     "output_type": "stream",
     "text": [
      "[                                        ] | 0% Completed | 113.79 s"
     ]
    },
    {
     "name": "stderr",
     "output_type": "stream",
     "text": [
      "\n",
      "2023-08-03 13:05:27,096 - pyscenic.transform - WARNING - Less than 80% of the genes in NR2F1 could be mapped to hg38__refseq-r80__500bp_up_and_100bp_down_tss.mc9nr.genes_vs_motifs.rankings. Skipping this module.\n"
     ]
    },
    {
     "name": "stdout",
     "output_type": "stream",
     "text": [
      "[                                        ] | 0% Completed | 117.56 s"
     ]
    },
    {
     "name": "stderr",
     "output_type": "stream",
     "text": [
      "\n",
      "2023-08-03 13:05:30,872 - pyscenic.transform - WARNING - Less than 80% of the genes in TRIB3 could be mapped to hg38__refseq-r80__500bp_up_and_100bp_down_tss.mc9nr.genes_vs_motifs.rankings. Skipping this module.\n"
     ]
    },
    {
     "name": "stdout",
     "output_type": "stream",
     "text": [
      "[                                        ] | 0% Completed | 121.83 s"
     ]
    },
    {
     "name": "stderr",
     "output_type": "stream",
     "text": [
      "\n",
      "2023-08-03 13:05:35,179 - pyscenic.transform - WARNING - Less than 80% of the genes in KCNIP1 could be mapped to hg38__refseq-r80__500bp_up_and_100bp_down_tss.mc9nr.genes_vs_motifs.rankings. Skipping this module.\n"
     ]
    },
    {
     "name": "stdout",
     "output_type": "stream",
     "text": [
      "[########################################] | 100% Completed | 138.13 s\n"
     ]
    },
    {
     "name": "stderr",
     "output_type": "stream",
     "text": [
      "\n",
      "2023-08-03 13:05:52,440 - pyscenic.utils - INFO - Calculating Pearson correlations.\n",
      "\n",
      "2023-08-03 13:05:52,445 - pyscenic.utils - WARNING - Note on correlation calculation: the default behaviour for calculating the correlations has changed after pySCENIC verion 0.9.16. Previously, the default was to calculate the correlation between a TF and target gene using only cells with non-zero expression values (mask_dropouts=True). The current default is now to use all cells to match the behavior of the R verision of SCENIC. The original settings can be retained by setting 'rho_mask_dropouts=True' in the modules_from_adjacencies function, or '--mask_dropouts' from the CLI.\n",
      "\tDropout masking is currently set to [False].\n"
     ]
    },
    {
     "name": "stdout",
     "output_type": "stream",
     "text": [
      "COMPLETED WRITING ENRICHED MOTIFS /home/linl5/project/SCLC/data/lx599.UTb.motifs.csv \n",
      "\n",
      "                                              Enrichment            \\\n",
      "                                                     AUC       NES   \n",
      "TF    MotifID                                                        \n",
      "ATF5  homer__GATGACGTCA_Atf1                    0.088416  3.078161   \n",
      "BACH2 transfac_pro__M08929                      0.104187  3.274865   \n",
      "      dbcorrdb__FOSL2__ENCSR000BHP_1__m1        0.099844  3.003645   \n",
      "EGR3  taipale_cyt_meth__EGR2_NMCGCCCACGCAN_FL   0.108075  3.080272   \n",
      "IL24  hdpi__ZNF250                              0.117941  3.595899   \n",
      "\n",
      "                                                                     \\\n",
      "                                              MotifSimilarityQvalue   \n",
      "TF    MotifID                                                         \n",
      "ATF5  homer__GATGACGTCA_Atf1                               0.000121   \n",
      "BACH2 transfac_pro__M08929                                 0.000958   \n",
      "      dbcorrdb__FOSL2__ENCSR000BHP_1__m1                   0.000031   \n",
      "EGR3  taipale_cyt_meth__EGR2_NMCGCCCACGCAN_FL              0.000000   \n",
      "IL24  hdpi__ZNF250                                         0.000897   \n",
      "\n",
      "                                                                   \\\n",
      "                                              OrthologousIdentity   \n",
      "TF    MotifID                                                       \n",
      "ATF5  homer__GATGACGTCA_Atf1                                  1.0   \n",
      "BACH2 transfac_pro__M08929                                    1.0   \n",
      "      dbcorrdb__FOSL2__ENCSR000BHP_1__m1                      1.0   \n",
      "EGR3  taipale_cyt_meth__EGR2_NMCGCCCACGCAN_FL                 1.0   \n",
      "IL24  hdpi__ZNF250                                            1.0   \n",
      "\n",
      "                                                                                                  \\\n",
      "                                                                                      Annotation   \n",
      "TF    MotifID                                                                                      \n",
      "ATF5  homer__GATGACGTCA_Atf1                   motif similar to transfac_pro__M00981 ('V$CREB...   \n",
      "BACH2 transfac_pro__M08929                     motif similar to transfac_public__M00490 ('V$B...   \n",
      "      dbcorrdb__FOSL2__ENCSR000BHP_1__m1       motif similar to swissregulon__hs__BACH2.p2 ('...   \n",
      "EGR3  taipale_cyt_meth__EGR2_NMCGCCCACGCAN_FL  motif similar to taipale_cyt_meth__EGR3_NMCGCC...   \n",
      "IL24  hdpi__ZNF250                             motif similar to hdpi__IL24 ('IL24'; q-value =...   \n",
      "\n",
      "                                                                                                  \\\n",
      "                                                                                         Context   \n",
      "TF    MotifID                                                                                      \n",
      "ATF5  homer__GATGACGTCA_Atf1                   (activating, hg38__refseq-r80__10kb_up_and_dow...   \n",
      "BACH2 transfac_pro__M08929                     (activating, hg38__refseq-r80__10kb_up_and_dow...   \n",
      "      dbcorrdb__FOSL2__ENCSR000BHP_1__m1       (activating, hg38__refseq-r80__10kb_up_and_dow...   \n",
      "EGR3  taipale_cyt_meth__EGR2_NMCGCCCACGCAN_FL  (activating, hg38__refseq-r80__10kb_up_and_dow...   \n",
      "IL24  hdpi__ZNF250                             (activating, hg38__refseq-r80__10kb_up_and_dow...   \n",
      "\n",
      "                                                                                                  \\\n",
      "                                                                                     TargetGenes   \n",
      "TF    MotifID                                                                                      \n",
      "ATF5  homer__GATGACGTCA_Atf1                   [(LCN2, 7.606698806153483), (ARID5B, 3.6307403...   \n",
      "BACH2 transfac_pro__M08929                     [(KSR1, 4.667338151274771), (MYT1L, 6.90395724...   \n",
      "      dbcorrdb__FOSL2__ENCSR000BHP_1__m1       [(ZEB2, 6.327776847197318), (SLC1A2, 4.2249507...   \n",
      "EGR3  taipale_cyt_meth__EGR2_NMCGCCCACGCAN_FL  [(LMCD1, 14.63966368191431), (TRPM3, 7.6611303...   \n",
      "IL24  hdpi__ZNF250                             [(CDH12, 5.972210159676913), (CDH13, 6.6986835...   \n",
      "\n",
      "                                                         \n",
      "                                              RankAtMax  \n",
      "TF    MotifID                                            \n",
      "ATF5  homer__GATGACGTCA_Atf1                        551  \n",
      "BACH2 transfac_pro__M08929                         1099  \n",
      "      dbcorrdb__FOSL2__ENCSR000BHP_1__m1            670  \n",
      "EGR3  taipale_cyt_meth__EGR2_NMCGCCCACGCAN_FL       439  \n",
      "IL24  hdpi__ZNF250                                  680  \n",
      "Create regulons from a dataframe of enriched features.\n",
      "Additional columns saved: []\n",
      "COMPLETED WRITING DISCOVRED REGULON /home/linl5/project/SCLC/data/lx599.UTb.regulons.p \n",
      "\n",
      "\n",
      "FINISHED READING ADJACENCIES FILE /home/linl5/project/SCLC/data/lx599.UUb.adjacencies.tsv \n",
      "\n",
      "\n",
      "FINISHED READING EXPRESSION MATRIX /home/linl5/project/SCLC/results/lx599.UUb.qc.tpm.csv \n",
      "\n"
     ]
    },
    {
     "name": "stderr",
     "output_type": "stream",
     "text": [
      "\n",
      "2023-08-03 13:05:52,672 - pyscenic.utils - INFO - Creating modules.\n",
      "/home/linl5/miniconda3/envs/pyscenic/lib/python3.10/site-packages/pyscenic/utils.py:244: FutureWarning: Not prepending group keys to the result index of transform-like apply. In the future, the group keys will be included in the index, regardless of whether the applied function returns a like-indexed object.\n",
      "To preserve the previous behavior, use\n",
      "\n",
      "\t>>> .groupby(..., group_keys=False)\n",
      "\n",
      "To adopt the future behavior and silence this warning, use \n",
      "\n",
      "\t>>> .groupby(..., group_keys=True)\n",
      "  df = adjacencies.groupby(by=COLUMN_NAME_TARGET).apply(\n"
     ]
    },
    {
     "name": "stdout",
     "output_type": "stream",
     "text": [
      "\n",
      "COMPLETED COEXPRESSION MODULE WRITING: /home/linl5/project/SCLC/data/lx599.UUb.modules.p \n",
      "\n",
      "[                                        ] | 0% Completed | 43.41 sms"
     ]
    },
    {
     "name": "stderr",
     "output_type": "stream",
     "text": [
      "\n",
      "2023-08-03 13:06:39,578 - pyscenic.transform - WARNING - Less than 80% of the genes in ESRRG could be mapped to hg38__refseq-r80__500bp_up_and_100bp_down_tss.mc9nr.genes_vs_motifs.rankings. Skipping this module.\n"
     ]
    },
    {
     "name": "stdout",
     "output_type": "stream",
     "text": [
      "[                                        ] | 0% Completed | 43.92 s"
     ]
    },
    {
     "name": "stderr",
     "output_type": "stream",
     "text": [
      "\n",
      "2023-08-03 13:06:40,008 - pyscenic.transform - WARNING - Less than 80% of the genes in HIF3A could be mapped to hg38__refseq-r80__500bp_up_and_100bp_down_tss.mc9nr.genes_vs_motifs.rankings. Skipping this module.\n"
     ]
    },
    {
     "name": "stdout",
     "output_type": "stream",
     "text": [
      "[                                        ] | 0% Completed | 47.07 s"
     ]
    },
    {
     "name": "stderr",
     "output_type": "stream",
     "text": [
      "\n",
      "2023-08-03 13:06:43,202 - pyscenic.transform - WARNING - Less than 80% of the genes in NR2F1 could be mapped to hg38__refseq-r80__500bp_up_and_100bp_down_tss.mc9nr.genes_vs_motifs.rankings. Skipping this module.\n"
     ]
    },
    {
     "name": "stdout",
     "output_type": "stream",
     "text": [
      "[                                        ] | 0% Completed | 47.79 s"
     ]
    },
    {
     "name": "stderr",
     "output_type": "stream",
     "text": [
      "\n",
      "2023-08-03 13:06:43,865 - pyscenic.transform - WARNING - Less than 80% of the genes in PPARG could be mapped to hg38__refseq-r80__500bp_up_and_100bp_down_tss.mc9nr.genes_vs_motifs.rankings. Skipping this module.\n"
     ]
    },
    {
     "name": "stdout",
     "output_type": "stream",
     "text": [
      "[                                        ] | 0% Completed | 54.51 s"
     ]
    },
    {
     "name": "stderr",
     "output_type": "stream",
     "text": [
      "\n",
      "2023-08-03 13:06:50,592 - pyscenic.transform - WARNING - Less than 80% of the genes in HIF3A could be mapped to hg38__refseq-r80__500bp_up_and_100bp_down_tss.mc9nr.genes_vs_motifs.rankings. Skipping this module.\n"
     ]
    },
    {
     "name": "stdout",
     "output_type": "stream",
     "text": [
      "[                                        ] | 0% Completed | 55.01 s"
     ]
    },
    {
     "name": "stderr",
     "output_type": "stream",
     "text": [
      "\n",
      "2023-08-03 13:06:51,109 - pyscenic.transform - WARNING - Less than 80% of the genes in MCTP2 could be mapped to hg38__refseq-r80__500bp_up_and_100bp_down_tss.mc9nr.genes_vs_motifs.rankings. Skipping this module.\n"
     ]
    },
    {
     "name": "stdout",
     "output_type": "stream",
     "text": [
      "[                                        ] | 0% Completed | 106.21 s"
     ]
    },
    {
     "name": "stderr",
     "output_type": "stream",
     "text": [
      "\n",
      "2023-08-03 13:07:42,335 - pyscenic.transform - WARNING - Less than 80% of the genes in ESRRG could be mapped to hg38__refseq-r80__10kb_up_and_down_tss.mc9nr.genes_vs_motifs.rankings. Skipping this module.\n"
     ]
    },
    {
     "name": "stdout",
     "output_type": "stream",
     "text": [
      "[                                        ] | 0% Completed | 106.62 s"
     ]
    },
    {
     "name": "stderr",
     "output_type": "stream",
     "text": [
      "\n",
      "2023-08-03 13:07:42,765 - pyscenic.transform - WARNING - Less than 80% of the genes in HIF3A could be mapped to hg38__refseq-r80__10kb_up_and_down_tss.mc9nr.genes_vs_motifs.rankings. Skipping this module.\n"
     ]
    },
    {
     "name": "stdout",
     "output_type": "stream",
     "text": [
      "[                                        ] | 0% Completed | 109.88 s"
     ]
    },
    {
     "name": "stderr",
     "output_type": "stream",
     "text": [
      "\n",
      "2023-08-03 13:07:46,012 - pyscenic.transform - WARNING - Less than 80% of the genes in NR2F1 could be mapped to hg38__refseq-r80__10kb_up_and_down_tss.mc9nr.genes_vs_motifs.rankings. Skipping this module.\n"
     ]
    },
    {
     "name": "stdout",
     "output_type": "stream",
     "text": [
      "[                                        ] | 0% Completed | 111.20 s"
     ]
    },
    {
     "name": "stderr",
     "output_type": "stream",
     "text": [
      "\n",
      "2023-08-03 13:07:47,319 - pyscenic.transform - WARNING - Less than 80% of the genes in PPARG could be mapped to hg38__refseq-r80__10kb_up_and_down_tss.mc9nr.genes_vs_motifs.rankings. Skipping this module.\n"
     ]
    },
    {
     "name": "stdout",
     "output_type": "stream",
     "text": [
      "[                                        ] | 0% Completed | 118.31 s"
     ]
    },
    {
     "name": "stderr",
     "output_type": "stream",
     "text": [
      "\n",
      "2023-08-03 13:07:54,469 - pyscenic.transform - WARNING - Less than 80% of the genes in HIF3A could be mapped to hg38__refseq-r80__10kb_up_and_down_tss.mc9nr.genes_vs_motifs.rankings. Skipping this module.\n"
     ]
    },
    {
     "name": "stdout",
     "output_type": "stream",
     "text": [
      "[                                        ] | 0% Completed | 118.92 s"
     ]
    },
    {
     "name": "stderr",
     "output_type": "stream",
     "text": [
      "\n",
      "2023-08-03 13:07:55,021 - pyscenic.transform - WARNING - Less than 80% of the genes in MCTP2 could be mapped to hg38__refseq-r80__10kb_up_and_down_tss.mc9nr.genes_vs_motifs.rankings. Skipping this module.\n"
     ]
    },
    {
     "name": "stdout",
     "output_type": "stream",
     "text": [
      "[########################################] | 100% Completed | 137.37 s\n",
      "COMPLETED WRITING ENRICHED MOTIFS /home/linl5/project/SCLC/data/lx599.UUb.motifs.csv \n",
      "\n",
      "                                           Enrichment            \\\n",
      "                                                  AUC       NES   \n",
      "TF  MotifID                                                       \n",
      "MYC transfac_pro__M01267                     0.109313  3.573986   \n",
      "    cisbp__M6158                             0.107577  3.469955   \n",
      "    neph__UW.Motif.0001                      0.113772  3.841132   \n",
      "    dbcorrdb__eGFP-JUND__ENCSR000DJX_1__m1   0.106150  3.384459   \n",
      "    dbcorrdb__STAT3__ENCSR000EDC_1__m1       0.105195  3.327230   \n",
      "\n",
      "                                                                  \\\n",
      "                                           MotifSimilarityQvalue   \n",
      "TF  MotifID                                                        \n",
      "MYC transfac_pro__M01267                                0.000934   \n",
      "    cisbp__M6158                                        0.000919   \n",
      "    neph__UW.Motif.0001                                 0.000741   \n",
      "    dbcorrdb__eGFP-JUND__ENCSR000DJX_1__m1              0.000667   \n",
      "    dbcorrdb__STAT3__ENCSR000EDC_1__m1                  0.000507   \n",
      "\n",
      "                                                                \\\n",
      "                                           OrthologousIdentity   \n",
      "TF  MotifID                                                      \n",
      "MYC transfac_pro__M01267                                   1.0   \n",
      "    cisbp__M6158                                           1.0   \n",
      "    neph__UW.Motif.0001                                    1.0   \n",
      "    dbcorrdb__eGFP-JUND__ENCSR000DJX_1__m1                 1.0   \n",
      "    dbcorrdb__STAT3__ENCSR000EDC_1__m1                     1.0   \n",
      "\n",
      "                                                                                               \\\n",
      "                                                                                   Annotation   \n",
      "TF  MotifID                                                                                     \n",
      "MYC transfac_pro__M01267                    gene is annotated for similar motif dbcorrdb__...   \n",
      "    cisbp__M6158                            gene is annotated for similar motif dbcorrdb__...   \n",
      "    neph__UW.Motif.0001                     gene is annotated for similar motif dbcorrdb__...   \n",
      "    dbcorrdb__eGFP-JUND__ENCSR000DJX_1__m1  gene is annotated for similar motif dbcorrdb__...   \n",
      "    dbcorrdb__STAT3__ENCSR000EDC_1__m1      gene is annotated for similar motif dbcorrdb__...   \n",
      "\n",
      "                                                                                               \\\n",
      "                                                                                      Context   \n",
      "TF  MotifID                                                                                     \n",
      "MYC transfac_pro__M01267                    (activating, hg38__refseq-r80__10kb_up_and_dow...   \n",
      "    cisbp__M6158                            (activating, hg38__refseq-r80__10kb_up_and_dow...   \n",
      "    neph__UW.Motif.0001                     (activating, hg38__refseq-r80__10kb_up_and_dow...   \n",
      "    dbcorrdb__eGFP-JUND__ENCSR000DJX_1__m1  (activating, hg38__refseq-r80__10kb_up_and_dow...   \n",
      "    dbcorrdb__STAT3__ENCSR000EDC_1__m1      (activating, hg38__refseq-r80__10kb_up_and_dow...   \n",
      "\n",
      "                                                                                               \\\n",
      "                                                                                  TargetGenes   \n",
      "TF  MotifID                                                                                     \n",
      "MYC transfac_pro__M01267                    [(ANXA1, 24.222646592288257), (LGALS3, 8.77513...   \n",
      "    cisbp__M6158                            [(YAP1, 5.322785699518453), (HES1, 39.08901831...   \n",
      "    neph__UW.Motif.0001                     [(ANXA1, 24.222646592288257), (NDRG1, 5.204023...   \n",
      "    dbcorrdb__eGFP-JUND__ENCSR000DJX_1__m1  [(EDN1, 6.5678671139251215), (PITPNC1, 7.57572...   \n",
      "    dbcorrdb__STAT3__ENCSR000EDC_1__m1      [(NDRG1, 5.204023142449033), (KIAA1217, 6.1214...   \n",
      "\n",
      "                                                      \n",
      "                                           RankAtMax  \n",
      "TF  MotifID                                           \n",
      "MYC transfac_pro__M01267                        1492  \n",
      "    cisbp__M6158                                 409  \n",
      "    neph__UW.Motif.0001                          160  \n",
      "    dbcorrdb__eGFP-JUND__ENCSR000DJX_1__m1      1478  \n",
      "    dbcorrdb__STAT3__ENCSR000EDC_1__m1          1138  \n",
      "Create regulons from a dataframe of enriched features.\n",
      "Additional columns saved: []\n",
      "COMPLETED WRITING DISCOVRED REGULON /home/linl5/project/SCLC/data/lx599.UUb.regulons.p \n",
      "\n",
      "\n",
      "FINISHED READING ADJACENCIES FILE /home/linl5/project/SCLC/data/lx599.UTa.adjacencies.tsv \n",
      "\n"
     ]
    },
    {
     "name": "stderr",
     "output_type": "stream",
     "text": [
      "\n",
      "2023-08-03 13:08:14,547 - pyscenic.utils - INFO - Calculating Pearson correlations.\n",
      "\n",
      "2023-08-03 13:08:14,552 - pyscenic.utils - WARNING - Note on correlation calculation: the default behaviour for calculating the correlations has changed after pySCENIC verion 0.9.16. Previously, the default was to calculate the correlation between a TF and target gene using only cells with non-zero expression values (mask_dropouts=True). The current default is now to use all cells to match the behavior of the R verision of SCENIC. The original settings can be retained by setting 'rho_mask_dropouts=True' in the modules_from_adjacencies function, or '--mask_dropouts' from the CLI.\n",
      "\tDropout masking is currently set to [False].\n"
     ]
    },
    {
     "name": "stdout",
     "output_type": "stream",
     "text": [
      "\n",
      "FINISHED READING EXPRESSION MATRIX /home/linl5/project/SCLC/results/lx599.UTa.qc.tpm.csv \n",
      "\n"
     ]
    },
    {
     "name": "stderr",
     "output_type": "stream",
     "text": [
      "\n",
      "2023-08-03 13:08:14,814 - pyscenic.utils - INFO - Creating modules.\n",
      "/home/linl5/miniconda3/envs/pyscenic/lib/python3.10/site-packages/pyscenic/utils.py:244: FutureWarning: Not prepending group keys to the result index of transform-like apply. In the future, the group keys will be included in the index, regardless of whether the applied function returns a like-indexed object.\n",
      "To preserve the previous behavior, use\n",
      "\n",
      "\t>>> .groupby(..., group_keys=False)\n",
      "\n",
      "To adopt the future behavior and silence this warning, use \n",
      "\n",
      "\t>>> .groupby(..., group_keys=True)\n",
      "  df = adjacencies.groupby(by=COLUMN_NAME_TARGET).apply(\n"
     ]
    },
    {
     "name": "stdout",
     "output_type": "stream",
     "text": [
      "\n",
      "COMPLETED COEXPRESSION MODULE WRITING: /home/linl5/project/SCLC/data/lx599.UTa.modules.p \n",
      "\n",
      "[                                        ] | 0% Completed | 57.12 sms"
     ]
    },
    {
     "name": "stderr",
     "output_type": "stream",
     "text": [
      "\n",
      "2023-08-03 13:09:15,359 - pyscenic.transform - WARNING - Less than 80% of the genes in IL24 could be mapped to hg38__refseq-r80__10kb_up_and_down_tss.mc9nr.genes_vs_motifs.rankings. Skipping this module.\n"
     ]
    },
    {
     "name": "stdout",
     "output_type": "stream",
     "text": [
      "[                                        ] | 0% Completed | 65.16 s"
     ]
    },
    {
     "name": "stderr",
     "output_type": "stream",
     "text": [
      "\n",
      "2023-08-03 13:09:23,388 - pyscenic.transform - WARNING - Less than 80% of the genes in IL24 could be mapped to hg38__refseq-r80__10kb_up_and_down_tss.mc9nr.genes_vs_motifs.rankings. Skipping this module.\n"
     ]
    },
    {
     "name": "stdout",
     "output_type": "stream",
     "text": [
      "[                                        ] | 0% Completed | 66.99 s"
     ]
    },
    {
     "name": "stderr",
     "output_type": "stream",
     "text": [
      "\n",
      "2023-08-03 13:09:25,267 - pyscenic.transform - WARNING - Less than 80% of the genes in NPAS2 could be mapped to hg38__refseq-r80__10kb_up_and_down_tss.mc9nr.genes_vs_motifs.rankings. Skipping this module.\n"
     ]
    },
    {
     "name": "stdout",
     "output_type": "stream",
     "text": [
      "[                                        ] | 0% Completed | 113.42 s"
     ]
    },
    {
     "name": "stderr",
     "output_type": "stream",
     "text": [
      "\n",
      "2023-08-03 13:10:11,674 - pyscenic.transform - WARNING - Less than 80% of the genes in IL24 could be mapped to hg38__refseq-r80__500bp_up_and_100bp_down_tss.mc9nr.genes_vs_motifs.rankings. Skipping this module.\n"
     ]
    },
    {
     "name": "stdout",
     "output_type": "stream",
     "text": [
      "[                                        ] | 0% Completed | 120.75 s"
     ]
    },
    {
     "name": "stderr",
     "output_type": "stream",
     "text": [
      "\n",
      "2023-08-03 13:10:18,968 - pyscenic.transform - WARNING - Less than 80% of the genes in IL24 could be mapped to hg38__refseq-r80__500bp_up_and_100bp_down_tss.mc9nr.genes_vs_motifs.rankings. Skipping this module.\n"
     ]
    },
    {
     "name": "stdout",
     "output_type": "stream",
     "text": [
      "[                                        ] | 0% Completed | 122.38 s"
     ]
    },
    {
     "name": "stderr",
     "output_type": "stream",
     "text": [
      "\n",
      "2023-08-03 13:10:20,646 - pyscenic.transform - WARNING - Less than 80% of the genes in NPAS2 could be mapped to hg38__refseq-r80__500bp_up_and_100bp_down_tss.mc9nr.genes_vs_motifs.rankings. Skipping this module.\n"
     ]
    },
    {
     "name": "stdout",
     "output_type": "stream",
     "text": [
      "[########################################] | 100% Completed | 132.97 s\n",
      "COMPLETED WRITING ENRICHED MOTIFS /home/linl5/project/SCLC/data/lx599.UTa.motifs.csv \n",
      "\n",
      "                                             Enrichment            \\\n",
      "                                                    AUC       NES   \n",
      "TF     MotifID                                                      \n",
      "EGR3   transfac_pro__M01572                    0.106552  3.271255   \n",
      "PKNOX2 transfac_pro__M01549                    0.167524  3.123434   \n",
      "DDIT3  cisbp__M5988                            0.117700  4.648830   \n",
      "       taipale__Atf4_DBD_NGGATGATGCAATM_repr   0.113290  4.410297   \n",
      "       cisbp__M5292                            0.101619  3.779085   \n",
      "\n",
      "                                                                    \\\n",
      "                                             MotifSimilarityQvalue   \n",
      "TF     MotifID                                                       \n",
      "EGR3   transfac_pro__M01572                               0.000000   \n",
      "PKNOX2 transfac_pro__M01549                               0.000000   \n",
      "DDIT3  cisbp__M5988                                       0.000636   \n",
      "       taipale__Atf4_DBD_NGGATGATGCAATM_repr              0.000636   \n",
      "       cisbp__M5292                                       0.000636   \n",
      "\n",
      "                                                                  \\\n",
      "                                             OrthologousIdentity   \n",
      "TF     MotifID                                                     \n",
      "EGR3   transfac_pro__M01572                             0.129199   \n",
      "PKNOX2 transfac_pro__M01549                             0.186275   \n",
      "DDIT3  cisbp__M5988                                     0.776042   \n",
      "       taipale__Atf4_DBD_NGGATGATGCAATM_repr            0.776042   \n",
      "       cisbp__M5292                                     0.776042   \n",
      "\n",
      "                                                                                                 \\\n",
      "                                                                                     Annotation   \n",
      "TF     MotifID                                                                                    \n",
      "EGR3   transfac_pro__M01572                   gene is orthologous to YGL035C in S. cerevisia...   \n",
      "PKNOX2 transfac_pro__M01549                   motif is annotated for orthologous gene YPL177...   \n",
      "DDIT3  cisbp__M5988                           gene is orthologous to ENSMUSG00000025408 in M...   \n",
      "       taipale__Atf4_DBD_NGGATGATGCAATM_repr  gene is orthologous to ENSMUSG00000025408 in M...   \n",
      "       cisbp__M5292                           gene is orthologous to ENSMUSG00000025408 in M...   \n",
      "\n",
      "                                                                                                 \\\n",
      "                                                                                        Context   \n",
      "TF     MotifID                                                                                    \n",
      "EGR3   transfac_pro__M01572                   (activating, hg38__refseq-r80__10kb_up_and_dow...   \n",
      "PKNOX2 transfac_pro__M01549                   (activating, hg38__refseq-r80__10kb_up_and_dow...   \n",
      "DDIT3  cisbp__M5988                           (activating, weight>90.0%, hg38__refseq-r80__1...   \n",
      "       taipale__Atf4_DBD_NGGATGATGCAATM_repr  (activating, weight>90.0%, hg38__refseq-r80__1...   \n",
      "       cisbp__M5292                           (activating, weight>90.0%, hg38__refseq-r80__1...   \n",
      "\n",
      "                                                                                                 \\\n",
      "                                                                                    TargetGenes   \n",
      "TF     MotifID                                                                                    \n",
      "EGR3   transfac_pro__M01572                   [(GPC3, 7.079895241944983), (DLG2, 6.227952004...   \n",
      "PKNOX2 transfac_pro__M01549                   [(TRPM3, 3.3002763197876672), (ANGPT2, 4.68736...   \n",
      "DDIT3  cisbp__M5988                           [(HSPA5, 34.24818656739326), (DDIT3, 1.0), (TR...   \n",
      "       taipale__Atf4_DBD_NGGATGATGCAATM_repr  [(CDKN3, 37.589106837604106), (TXNIP, 21.27451...   \n",
      "       cisbp__M5292                           [(ALDH1A2, 14.453973486271394), (HIST1H2BC, 16...   \n",
      "\n",
      "                                                        \n",
      "                                             RankAtMax  \n",
      "TF     MotifID                                          \n",
      "EGR3   transfac_pro__M01572                        804  \n",
      "PKNOX2 transfac_pro__M01549                       1149  \n",
      "DDIT3  cisbp__M5988                                523  \n",
      "       taipale__Atf4_DBD_NGGATGATGCAATM_repr       925  \n",
      "       cisbp__M5292                                600  \n",
      "Create regulons from a dataframe of enriched features.\n",
      "Additional columns saved: []\n",
      "COMPLETED WRITING DISCOVRED REGULON /home/linl5/project/SCLC/data/lx599.UTa.regulons.p \n",
      "\n"
     ]
    }
   ],
   "source": [
    "#STEP 16: Running RCistarget\n",
    "\n",
    "for state in unique_state:\n",
    "    #reading necessary files for rcistarget\n",
    "    ADJACENCIES_FNAME = os.path.join(DATA_FOLDERNAME, \"{}.{}.adjacencies.tsv\".format(DATASET_ID, state))\n",
    "    adjacencies = pd.read_csv(ADJACENCIES_FNAME, sep='\\t')\n",
    "    print(\"\\nFINISHED READING ADJACENCIES FILE\", ADJACENCIES_FNAME,\"\\n\")\n",
    "    EXP_MTX_QC_FNAME = os.path.join(RESULTS_FOLDERNAME, '{}.{}.qc.tpm.csv'.format(DATASET_ID, state))\n",
    "    ex_matrix = pd.read_csv(EXP_MTX_QC_FNAME, sep='\\t', header=0, index_col=0)\n",
    "    print(\"\\nFINISHED READING EXPRESSION MATRIX\", EXP_MTX_QC_FNAME,\"\\n\")\n",
    "    MODULES_FNAME = os.path.join(DATA_FOLDERNAME, '{}.{}.modules.p'.format(DATASET_ID, state))\n",
    "    MOTIFS_FNAME = os.path.join(DATA_FOLDERNAME, '{}.{}.motifs.csv'.format(DATASET_ID, state))\n",
    "    REGULONS_FNAME = os.path.join(DATA_FOLDERNAME, '{}.{}.regulons.p'.format(DATASET_ID, state))\n",
    "\n",
    "    #making modules from adjacencies\n",
    "    modules = list(modules_from_adjacencies(adjacencies, ex_matrix))\n",
    "    \n",
    "    #writing modules object to file\n",
    "    with open(MODULES_FNAME, 'wb') as f:\n",
    "        pickle.dump(modules, f)\n",
    "    print(\"\\nCOMPLETED COEXPRESSION MODULE WRITING:\", MODULES_FNAME,\"\\n\")\n",
    "    \n",
    "    #running Rcistarget with progress bar: searching for enriched motifs and true candidate genes\n",
    "    with ProgressBar():\n",
    "        df = prune2df(dbs, modules, MOTIF_ANNOTATIONS_FNAME, client_or_address=\"dask_multiprocessing\") \n",
    "    \n",
    "    #writing enriched motifs with candidate target to file\n",
    "    df.to_csv(MOTIFS_FNAME)\n",
    "    print(\"\\nCOMPLETED WRITING ENRICHED MOTIFS\", MOTIFS_FNAME,\"\\n\")\n",
    "    print(df.head())\n",
    "    \n",
    "    #making regulon objects\n",
    "    regulons = df2regulons(df)\n",
    "    \n",
    "    #writing regulon objects to file\n",
    "    with open(REGULONS_FNAME, 'wb') as f:\n",
    "        pickle.dump(regulons, f)\n",
    "    print(\"\\nCOMPLETED WRITING DISCOVERED REGULON\", REGULONS_FNAME,\"\\n\")"
   ]
  },
  {
   "cell_type": "markdown",
   "id": "9ec4e6b3",
   "metadata": {},
   "source": [
    "After grouping the data by timepoints\n",
    "- How is clustering in this case difference by just making anndata subset selected by timepoint (pin)\n",
    "- Do i do PCA after clustering -> pca changes the expression matrix so output to GENIE3 is not pca, just raw unnormalize, unpertrude data except basic filtering\n",
    "- If you have more than one condition, it’s often helpful to perform integration to align the cells -? and then within each timepoint there would be three batches so i should find a way to remove this right"
   ]
  }
 ],
 "metadata": {
  "kernelspec": {
   "display_name": "pyscenic",
   "language": "python",
   "name": "pyscenic"
  },
  "language_info": {
   "codemirror_mode": {
    "name": "ipython",
    "version": 3
   },
   "file_extension": ".py",
   "mimetype": "text/x-python",
   "name": "python",
   "nbconvert_exporter": "python",
   "pygments_lexer": "ipython3",
   "version": "3.10.12"
  }
 },
 "nbformat": 4,
 "nbformat_minor": 5
}
