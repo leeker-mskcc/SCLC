{
 "cells": [
  {
   "cell_type": "markdown",
   "id": "77b5d2f5",
   "metadata": {},
   "source": [
    "- 1000 cell: done\n",
    "- 2000 cell done\n",
    "- 4000 cell: inprogress"
   ]
  },
  {
   "cell_type": "code",
   "execution_count": 4,
   "id": "6a8cabb2",
   "metadata": {},
   "outputs": [
    {
     "name": "stderr",
     "output_type": "stream",
     "text": [
      "/home/linl5/miniconda3/envs/pyscenic/lib/python3.10/site-packages/loompy/bus_file.py:68: NumbaDeprecationWarning: The 'nopython' keyword argument was not supplied to the 'numba.jit' decorator. The implicit default value for this argument is currently False, but it will be changed to True in Numba 0.59.0. See https://numba.readthedocs.io/en/stable/reference/deprecation.html#deprecation-of-object-mode-fall-back-behaviour-when-using-jit for details.\n",
      "  def twobit_to_dna(twobit: int, size: int) -> str:\n",
      "/home/linl5/miniconda3/envs/pyscenic/lib/python3.10/site-packages/loompy/bus_file.py:85: NumbaDeprecationWarning: The 'nopython' keyword argument was not supplied to the 'numba.jit' decorator. The implicit default value for this argument is currently False, but it will be changed to True in Numba 0.59.0. See https://numba.readthedocs.io/en/stable/reference/deprecation.html#deprecation-of-object-mode-fall-back-behaviour-when-using-jit for details.\n",
      "  def dna_to_twobit(dna: str) -> int:\n",
      "/home/linl5/miniconda3/envs/pyscenic/lib/python3.10/site-packages/loompy/bus_file.py:102: NumbaDeprecationWarning: The 'nopython' keyword argument was not supplied to the 'numba.jit' decorator. The implicit default value for this argument is currently False, but it will be changed to True in Numba 0.59.0. See https://numba.readthedocs.io/en/stable/reference/deprecation.html#deprecation-of-object-mode-fall-back-behaviour-when-using-jit for details.\n",
      "  def twobit_1hamming(twobit: int, size: int) -> List[int]:\n"
     ]
    }
   ],
   "source": [
    "#STEP 1: importing all needed moduels\n",
    "\n",
    "import os, glob, re, pickle\n",
    "from functools import partial\n",
    "from collections import OrderedDict\n",
    "import operator as op\n",
    "from cytoolz import compose\n",
    "\n",
    "import pandas as pd\n",
    "import seaborn as sns\n",
    "import numpy as np\n",
    "import scanpy as sc\n",
    "import anndata as ad\n",
    "import matplotlib as mpl\n",
    "import matplotlib.pyplot as plt\n",
    "import skmisc\n",
    "\n",
    "from pyscenic.export import export2loom, add_scenic_metadata\n",
    "from pyscenic.utils import load_motifs\n",
    "from pyscenic.transform import df2regulons\n",
    "from pyscenic.aucell import aucell\n",
    "from pyscenic.binarization import binarize\n",
    "from pyscenic.rss import regulon_specificity_scores\n",
    "from pyscenic.plotting import plot_binarization, plot_rss\n",
    "\n",
    "from arboreto.utils import load_tf_names\n",
    "from arboreto.algo import grnboost2\n",
    "from pyscenic.utils import modules_from_adjacencies\n",
    "from pyscenic.prune import prune2df, df2regulons\n",
    "from pyscenic.aucell import aucell\n",
    "from dask.diagnostics import ProgressBar\n",
    "from ctxcore.rnkdb import FeatherRankingDatabase as RankingDatabase\n",
    "\n",
    "#STEP 1+: Set maximum number of jobs\n",
    "sc.settings.njobs = 32"
   ]
  },
  {
   "cell_type": "markdown",
   "id": "a785e75c",
   "metadata": {},
   "source": [
    "Divide each file into by states and then running each state for network reconstruction\n",
    "- A is patient pretreatment pdx\n",
    "- B is patient posttreatment pdx"
   ]
  },
  {
   "cell_type": "code",
   "execution_count": 43,
   "id": "d0b414fc",
   "metadata": {},
   "outputs": [],
   "source": [
    "#prepping\n",
    "DATASET_ID = 'lx599'\n",
    "GENE_NUM = 2000"
   ]
  },
  {
   "cell_type": "code",
   "execution_count": 44,
   "id": "987a4ebf",
   "metadata": {},
   "outputs": [],
   "source": [
    "#STEP 1++: preparing pathway constant variables for easy coding\n",
    "\n",
    "SOHRAB_RESOURCES_FOLDERNAME = \"/work/shah/users/salehis/projects/cdm/data/sclc/{}\".format(DATASET_ID)\n",
    "RESULTS_FOLDERNAME = \"/home/linl5/project/SCLC/results/{}\".format(DATASET_ID)\n",
    "FIGURES_FOLDERNAME = \"/home/linl5/project/SCLC/figures\"\n",
    "AUXILLIARIES_FOLDERNAME = \"/home/linl5/project/SCLC/auxilliaries\"\n",
    "RESOURCES_FOLDERNAME = \"/home/linl5/project/SCLC/resources\"\n",
    "DATA_FOLDERNAME = \"/home/linl5/project/SCLC/data/{}\".format(DATASET_ID)"
   ]
  },
  {
   "cell_type": "code",
   "execution_count": 45,
   "id": "73ae62c9",
   "metadata": {},
   "outputs": [],
   "source": [
    "#Downloaded fromm pySCENIC github repo: https://github.com/aertslab/pySCENIC/tree/master/resources Aug-1-2023\n",
    "#lambert2018.txt used in their cancer patient tutorial\n",
    "HUMAN_TFS_FNAME = os.path.join(RESOURCES_FOLDERNAME, 'allTFs_hg38.txt')"
   ]
  },
  {
   "cell_type": "code",
   "execution_count": 46,
   "id": "491cc977",
   "metadata": {},
   "outputs": [
    {
     "data": {
      "text/plain": [
       "'/work/shah/users/salehis/projects/cdm/data/sclc/lx599/rna.h5ad'"
      ]
     },
     "execution_count": 46,
     "metadata": {},
     "output_type": "execute_result"
    }
   ],
   "source": [
    "#STEP 2: Downloading metadata and expression matrix\n",
    "#input: expression matrix and metadata file\n",
    "\n",
    "#organized by cell ID and Gene matrix, values are counts of read in that cell\n",
    "COUNTS_MTX_FNAME = os.path.join(SOHRAB_RESOURCES_FOLDERNAME, 'rna.h5ad')\n",
    "COUNTS_MTX_FNAME"
   ]
  },
  {
   "cell_type": "code",
   "execution_count": 47,
   "id": "1d5bfefd",
   "metadata": {},
   "outputs": [
    {
     "data": {
      "text/plain": [
       "'/work/shah/users/salehis/projects/cdm/data/sclc/lx599/rna.h5ad'"
      ]
     },
     "execution_count": 47,
     "metadata": {},
     "output_type": "execute_result"
    }
   ],
   "source": [
    "#STEP 3: Importing and Analyzing the rna DATA\n",
    "\n",
    "# Read the H5AD file using anndata\n",
    "adata = ad.read(COUNTS_MTX_FNAME)\n",
    "COUNTS_MTX_FNAME"
   ]
  },
  {
   "cell_type": "code",
   "execution_count": 48,
   "id": "51c0b4d9",
   "metadata": {},
   "outputs": [
    {
     "name": "stdout",
     "output_type": "stream",
     "text": [
      "AnnData object with n_obs × n_vars = 33207 × 33538\n",
      "    obs: 'timepoint', 'datatag', 'batch', 'state', 'cna_name', 'is_in_rna'\n",
      "    var: 'gene_ids', 'feature_types'\n",
      "Shape of expression matrix:  (33207, 33538)\n",
      "Columns (variables):\n",
      "                    gene_ids    feature_types\n",
      "MIR1302-2HG  ENSG00000243485  Gene Expression\n",
      "FAM138A      ENSG00000237613  Gene Expression\n",
      "OR4F5        ENSG00000186092  Gene Expression\n",
      "AL627309.1   ENSG00000238009  Gene Expression\n",
      "AL627309.3   ENSG00000239945  Gene Expression\n",
      "...                      ...              ...\n",
      "AC233755.2   ENSG00000277856  Gene Expression\n",
      "AC233755.1   ENSG00000275063  Gene Expression\n",
      "AC240274.1   ENSG00000271254  Gene Expression\n",
      "AC213203.1   ENSG00000277475  Gene Expression\n",
      "FAM231C      ENSG00000268674  Gene Expression\n",
      "\n",
      "[33538 rows x 2 columns]\n",
      "\n",
      "Rows (observations):\n",
      "                              timepoint datatag batch state  \\\n",
      "AAACCCAAGACGGTTG-1_Lx599_a-UU       UUa   Lx599     0   UUa   \n",
      "AAACCCAAGAGTTGTA-1_Lx599_a-UU       UUa   Lx599     0   UUa   \n",
      "AAACCCACACCACTGG-1_Lx599_a-UU       UUa   Lx599     0   UUa   \n",
      "AAACCCACAGCGTAGA-1_Lx599_a-UU       UUa   Lx599     0   UUa   \n",
      "AAACCCACAGGATGAC-1_Lx599_a-UU       UUa   Lx599     0   UUa   \n",
      "...                                 ...     ...   ...   ...   \n",
      "TTTGTTGTCATGAGAA-1_Lx599_a-UT       UTa   Lx599     3   UTa   \n",
      "TTTGTTGTCGCCTTTG-1_Lx599_a-UT       UTa   Lx599     3   UTa   \n",
      "TTTGTTGTCTAGTTCT-1_Lx599_a-UT       UTa   Lx599     3   UTa   \n",
      "TTTGTTGTCTGTCGCT-1_Lx599_a-UT       UTa   Lx599     3   UTa   \n",
      "TTTGTTGTCTTACACT-1_Lx599_a-UT       UTa   Lx599     3   UTa   \n",
      "\n",
      "                                                    cna_name is_in_rna  \n",
      "AAACCCAAGACGGTTG-1_Lx599_a-UU  AAACCCAAGACGGTTG-1_Lx599_a-UU      True  \n",
      "AAACCCAAGAGTTGTA-1_Lx599_a-UU  AAACCCAAGAGTTGTA-1_Lx599_a-UU      True  \n",
      "AAACCCACACCACTGG-1_Lx599_a-UU  AAACCCACACCACTGG-1_Lx599_a-UU      True  \n",
      "AAACCCACAGCGTAGA-1_Lx599_a-UU  AAACCCACAGCGTAGA-1_Lx599_a-UU      True  \n",
      "AAACCCACAGGATGAC-1_Lx599_a-UU  AAACCCACAGGATGAC-1_Lx599_a-UU      True  \n",
      "...                                                      ...       ...  \n",
      "TTTGTTGTCATGAGAA-1_Lx599_a-UT  TTTGTTGTCATGAGAA-1_Lx599_a-UT      True  \n",
      "TTTGTTGTCGCCTTTG-1_Lx599_a-UT  TTTGTTGTCGCCTTTG-1_Lx599_a-UT      True  \n",
      "TTTGTTGTCTAGTTCT-1_Lx599_a-UT  TTTGTTGTCTAGTTCT-1_Lx599_a-UT      True  \n",
      "TTTGTTGTCTGTCGCT-1_Lx599_a-UT  TTTGTTGTCTGTCGCT-1_Lx599_a-UT      True  \n",
      "TTTGTTGTCTTACACT-1_Lx599_a-UT  TTTGTTGTCTTACACT-1_Lx599_a-UT      True  \n",
      "\n",
      "[33207 rows x 6 columns]\n"
     ]
    }
   ],
   "source": [
    "#STEP4: Understanding Dataset\n",
    "\n",
    "#print out information about anndata\n",
    "print(adata)\n",
    "\n",
    "#print out shape\n",
    "print(\"Shape of expression matrix: \", adata.shape)\n",
    "\n",
    "# the columns (variables) of the expression matrix\n",
    "print(\"Columns (variables):\")\n",
    "print(adata.var)\n",
    "\n",
    "# the rows (observations) of the expression matrix\n",
    "print(\"\\nRows (observations):\")\n",
    "print(adata.obs)\n"
   ]
  },
  {
   "cell_type": "code",
   "execution_count": 49,
   "id": "06e7215e",
   "metadata": {},
   "outputs": [
    {
     "name": "stdout",
     "output_type": "stream",
     "text": [
      "Post Filter:  (33108, 28701)\n"
     ]
    }
   ],
   "source": [
    "#STEP 5: preprocessing and filtering\n",
    "\n",
    "#make gene name unique\n",
    "adata.var_names_make_unique()\n",
    "\n",
    "#processing out data-prefilter\n",
    "sc.pp.filter_cells(adata, min_genes=200)\n",
    "sc.pp.filter_genes(adata, min_cells=3)\n",
    "\n",
    "#saving a copy of the power filtered count into raw\n",
    "adata.raw = adata\n",
    "\n",
    "#post filer: previous was n_obs × n_vars = 33207 × 33538\n",
    "print(\"Post Filter: \", adata.shape)\n"
   ]
  },
  {
   "cell_type": "markdown",
   "id": "999e4f8f",
   "metadata": {},
   "source": [
    "LX599: \n",
    "- Pre-Filter: 33207 × 33538\n",
    "- Post Filter:  (33108, 28701)\n",
    "\n",
    "\n",
    "Lx108: \n",
    "- Pre-Filter: 18481 × 33538\n",
    "- Post Filter: (18436, 22723)\n",
    "\n",
    "Lx33:\n",
    "- pre filter: 23691 × 33538\n",
    "- Post Filter:  (23051, 22899)"
   ]
  },
  {
   "cell_type": "code",
   "execution_count": 50,
   "id": "63eb2e8e",
   "metadata": {},
   "outputs": [],
   "source": [
    "# STEP 6: Prepping for timepoint splitting\n",
    "adata.layers['counts'] = adata.X\n",
    "adata.raw = adata\n"
   ]
  },
  {
   "cell_type": "code",
   "execution_count": 51,
   "id": "44527117",
   "metadata": {},
   "outputs": [
    {
     "name": "stdout",
     "output_type": "stream",
     "text": [
      "['UUa', 'UTb', 'UUb', 'UTa']\n",
      "Categories (4, object): ['UTa', 'UTb', 'UUa', 'UUb']\n",
      "UUa :  (7280, 2000)\n",
      "UTb :  (5285, 2000)\n",
      "UUb :  (10036, 2000)\n",
      "UTa :  (10507, 2000)\n"
     ]
    }
   ],
   "source": [
    "#STEP 7: subsampling time point (IDEA-> in original sample filte by hvg, then split the following into states, then cluster and subsample from cluster)\n",
    "\n",
    "# set the n_top_genes as necessary\n",
    "sc.pp.highly_variable_genes(adata, n_top_genes=GENE_NUM, subset=True, flavor='seurat_v3')\n",
    "\n",
    "#Splitting the cells by states\n",
    "unique_state = adata.obs['state'].unique()\n",
    "print(unique_state)\n",
    "\n",
    "#storing\n",
    "adata_by_state = {}\n",
    "\n",
    "#selecting out by TP\n",
    "for state in unique_state:\n",
    "    adata_subset = adata[adata.obs['state'] == state].copy()\n",
    "    adata_by_state[state] = adata_subset\n",
    "    print(state, \": \", adata_by_state[state].shape)\n",
    "\n",
    "    "
   ]
  },
  {
   "cell_type": "markdown",
   "id": "ad742185",
   "metadata": {},
   "source": [
    "lx33 (post cluster):\n",
    "- UTTU :  (4021, 2000)\n",
    "- UU :  (6176, 2000)\n",
    "- UUUT :  (6619, 2000)\n",
    "- UUUU :  (6235, 2000)\n",
    "\n",
    "lx108\n",
    "- UUUU :  (4128, 2000)\n",
    "- UUUT :  (4564, 2000)\n",
    "- UU :  (5035, 2000)\n",
    "- UTTU :  (4709, 2000)"
   ]
  },
  {
   "cell_type": "markdown",
   "id": "4b49a412",
   "metadata": {},
   "source": [
    "The Leiden algorithm improves upon Louvain by using the \"agglomerative\" approach to optimize a different quality function known as the \"improved modularity.\" Improved modularity has a resolution parameter that allows Leiden to control the granularity of the clustering solution. It also uses a smart local move algorithm to avoid some of the resolution limit issues present in Louvain. Higher paramter means more identified communities. \n",
    "\n",
    "#The Leiden algorithm is a hierarchical clustering algorithm, that recursively merges communities into single nodes by greedily optimizing the modularity and the process repeats in the condensed graph.\n",
    "#The Leiden algorithm improves upon Louvain by using the \"agglomerative\" approach to optimize a different quality function known as the \"improved modularity.\" Improved modularity has a resolution parameter that allows Leiden to control the granularity of the clustering solution. It also uses a smart local move algorithm to avoid some of the resolution limit issues present in Louvain."
   ]
  },
  {
   "cell_type": "code",
   "execution_count": 14,
   "id": "342c740e",
   "metadata": {},
   "outputs": [],
   "source": [
    "#STEP 8: cluster definition\n",
    "\n",
    "def cluster_rna(bdata):\n",
    "    #I have already did filtering and HVG selection on main anndata, we want to keep same hvg across our states\n",
    "    sc.pp.normalize_total(bdata)    \n",
    "    sc.pp.log1p(bdata)\n",
    "    sc.pp.pca(bdata)\n",
    "    sc.pp.neighbors(bdata)\n",
    "    sc.tl.umap(bdata)\n",
    "    sc.tl.leiden(bdata, resolution=2)\n",
    "    return bdata"
   ]
  },
  {
   "cell_type": "code",
   "execution_count": 15,
   "id": "0cb0ba8d",
   "metadata": {},
   "outputs": [
    {
     "name": "stderr",
     "output_type": "stream",
     "text": [
      "/home/linl5/miniconda3/envs/pyscenic/lib/python3.10/site-packages/umap/distances.py:1063: NumbaDeprecationWarning: The 'nopython' keyword argument was not supplied to the 'numba.jit' decorator. The implicit default value for this argument is currently False, but it will be changed to True in Numba 0.59.0. See https://numba.readthedocs.io/en/stable/reference/deprecation.html#deprecation-of-object-mode-fall-back-behaviour-when-using-jit for details.\n",
      "  @numba.jit()\n",
      "/home/linl5/miniconda3/envs/pyscenic/lib/python3.10/site-packages/umap/distances.py:1071: NumbaDeprecationWarning: The 'nopython' keyword argument was not supplied to the 'numba.jit' decorator. The implicit default value for this argument is currently False, but it will be changed to True in Numba 0.59.0. See https://numba.readthedocs.io/en/stable/reference/deprecation.html#deprecation-of-object-mode-fall-back-behaviour-when-using-jit for details.\n",
      "  @numba.jit()\n",
      "/home/linl5/miniconda3/envs/pyscenic/lib/python3.10/site-packages/umap/distances.py:1086: NumbaDeprecationWarning: The 'nopython' keyword argument was not supplied to the 'numba.jit' decorator. The implicit default value for this argument is currently False, but it will be changed to True in Numba 0.59.0. See https://numba.readthedocs.io/en/stable/reference/deprecation.html#deprecation-of-object-mode-fall-back-behaviour-when-using-jit for details.\n",
      "  @numba.jit()\n",
      "/home/linl5/miniconda3/envs/pyscenic/lib/python3.10/site-packages/tqdm/auto.py:21: TqdmWarning: IProgress not found. Please update jupyter and ipywidgets. See https://ipywidgets.readthedocs.io/en/stable/user_install.html\n",
      "  from .autonotebook import tqdm as notebook_tqdm\n",
      "/home/linl5/miniconda3/envs/pyscenic/lib/python3.10/site-packages/umap/umap_.py:660: NumbaDeprecationWarning: The 'nopython' keyword argument was not supplied to the 'numba.jit' decorator. The implicit default value for this argument is currently False, but it will be changed to True in Numba 0.59.0. See https://numba.readthedocs.io/en/stable/reference/deprecation.html#deprecation-of-object-mode-fall-back-behaviour-when-using-jit for details.\n",
      "  @numba.jit()\n"
     ]
    }
   ],
   "source": [
    "#STEP 9: Clustering\n",
    "\n",
    "for state in unique_state:\n",
    "    adata_by_state[state] = cluster_rna(adata_by_state[state])"
   ]
  },
  {
   "cell_type": "code",
   "execution_count": 20,
   "id": "d795bb7b",
   "metadata": {},
   "outputs": [
    {
     "name": "stderr",
     "output_type": "stream",
     "text": [
      "100%|██████████| 21/21 [00:00<00:00, 1747.97it/s]\n",
      "100%|██████████| 19/19 [00:00<00:00, 3192.91it/s]\n",
      "100%|██████████| 22/22 [00:00<00:00, 2553.75it/s]\n",
      "100%|██████████| 19/19 [00:00<00:00, 3171.18it/s]\n"
     ]
    }
   ],
   "source": [
    "#STEP 10: Subsampling\n",
    "\n",
    "from tqdm import tqdm\n",
    "frac_cells = 1\n",
    "data_sub = {}\n",
    "\n",
    "#Consistent randomization\n",
    "np.random.seed(0)\n",
    "\n",
    "for state in unique_state:\n",
    "    sub_cells = []\n",
    "    for clust in tqdm(adata_by_state[state].obs['leiden'].unique()):\n",
    "        # sample 10% of cells from each cluster\n",
    "        cells_in_clust = adata_by_state[state].obs_names[adata_by_state[state].obs['leiden'] == clust].copy()\n",
    "        #dropping out clusters with less than 5 cells\n",
    "        if (len(cells_in_clust) > 5):\n",
    "            chosen_cells = np.random.choice(cells_in_clust, size=int(len(cells_in_clust)*frac_cells), replace=False)\n",
    "            sub_cells.extend(chosen_cells)\n",
    "    data_sub[state] = adata_by_state[state][sub_cells, :].copy()"
   ]
  },
  {
   "cell_type": "code",
   "execution_count": 21,
   "id": "d542411d",
   "metadata": {},
   "outputs": [
    {
     "name": "stdout",
     "output_type": "stream",
     "text": [
      "UUUU (4128, 2000)\n",
      "Same Gene set check:  UUUU UUUT 2000\n",
      "UUUT (4564, 2000)\n",
      "Same Gene set check:  UUUT UUUT 2000\n",
      "UU (5035, 2000)\n",
      "Same Gene set check:  UU UUUT 2000\n",
      "UTTU (4706, 2000)\n",
      "Same Gene set check:  UTTU UUUT 2000\n",
      "/work/shah/users/salehis/projects/cdm/data/sclc/lx108/rna.h5ad\n"
     ]
    }
   ],
   "source": [
    "#checking for subsampling population\n",
    "\n",
    "for state in unique_state:\n",
    "    print(state, data_sub[state].shape)\n",
    "    set1 = set(data_sub[state].var_names)\n",
    "    set2 = set(data_sub[unique_state[1]].var_names)\n",
    "    print(\"Same Gene set check: \", state, unique_state[1], len(set1.intersection(set2)))\n",
    "\n",
    "print(COUNTS_MTX_FNAME)"
   ]
  },
  {
   "cell_type": "markdown",
   "id": "fde6b277",
   "metadata": {},
   "source": [
    "LX599\n",
    "\n",
    "10%\n",
    "UUa (715, 2000)\n",
    "Same Gene set check:  UUa UUa  2000\n",
    "UTb (515, 2000)\n",
    "Same Gene set check:  UTb UUa  2000\n",
    "UUb (991, 2000)\n",
    "Same Gene set check:  UUb UUa  2000\n",
    "UTa (1042, 2000)\n",
    "Same Gene set check:  UTa UUa  2000\n",
    "\n",
    "25%\n",
    "UUa (1812, 2000)\n",
    "Same Gene set check:  UUa UUa  2000\n",
    "UTb (1307, 2000)\n",
    "Same Gene set check:  UTb UUa  2000\n",
    "UUb (2500, 2000)\n",
    "Same Gene set check:  UUb UUa  2000\n",
    "UTa (2618, 2000)\n",
    "Same Gene set check:  UTa UUa  2000\n",
    "\n",
    "50%\n",
    "UUa (3633, 2000)\n",
    "Same Gene set check:  UUa UUa  2000\n",
    "UTb (2633, 2000)\n",
    "Same Gene set check:  UTb UUa  2000\n",
    "UUb (5011, 2000)\n",
    "Same Gene set check:  UUb UUa  2000\n",
    "UTa (5248, 2000)\n",
    "Same Gene set check:  UTa UUa  2000\n",
    "\n",
    "LX108\n",
    "\n",
    "20%\n",
    "UUUU (818, 2000)\n",
    "Same Gene set check:  UUUU UUUT 2000\n",
    "UUUT (904, 2000)\n",
    "Same Gene set check:  UUUT UUUT 2000\n",
    "UU (998, 2000)\n",
    "Same Gene set check:  UU UUUT 2000\n",
    "UTTU (934, 2000)\n",
    "Same Gene set check:  UTTU UUUT 2000\n",
    "\n",
    "40%\n",
    "UUUU (1643, 2000)\n",
    "Same Gene set check:  UUUU UUUT 2000\n",
    "UUUT (1818, 2000)\n",
    "Same Gene set check:  UUUT UUUT 2000\n",
    "UU (2004, 2000)\n",
    "Same Gene set check:  UU UUUT 2000\n",
    "UTTU (1878, 2000)\n",
    "Same Gene set check:  UTTU UUUT 2000\n",
    "\n",
    "100%\n",
    "UUUU (4128, 2000)\n",
    "Same Gene set check:  UUUU UUUT 2000\n",
    "UUUT (4564, 2000)\n",
    "Same Gene set check:  UUUT UUUT 2000\n",
    "UU (5035, 2000)\n",
    "Same Gene set check:  UU UUUT 2000\n",
    "UTTU (4706, 2000)\n",
    "Same Gene set check:  UTTU UUUT 2000\n",
    "\n",
    "LX33\n",
    "\n",
    "15%\n",
    "UTTU (594, 2000)\n",
    "Same Gene set check:  UTTU UU 2000\n",
    "UU (917, 2000)\n",
    "Same Gene set check:  UU UU 2000\n",
    "UUUT (981, 2000)\n",
    "Same Gene set check:  UUUT UU 2000\n",
    "UUUU (922, 2000)\n",
    "Same Gene set check:  UUUU UU 2000\n",
    "\n",
    "33%\n",
    "UTTU (1316, 2000)\n",
    "Same Gene set check:  UTTU UU 2000\n",
    "UU (2026, 2000)\n",
    "Same Gene set check:  UU UU 2000\n",
    "UUUT (2171, 2000)\n",
    "Same Gene set check:  UUUT UU 2000\n",
    "UUUU (2044, 2000)\n",
    "Same Gene set check:  UUUU UU 2000\n",
    "\n",
    "\n",
    "66%\n",
    "UTTU (2644, 2000)\n",
    "Same Gene set check:  UTTU UU 2000\n",
    "UU (4065, 2000)\n",
    "Same Gene set check:  UU UU 2000\n",
    "UUUT (4357, 2000)\n",
    "Same Gene set check:  UUUT UU 2000\n",
    "UUUU (4102, 2000)\n",
    "Same Gene set check:  UUUU UU 2000\n",
    "\n",
    "100%\n",
    "UTTU (4021, 2000)\n",
    "Same Gene set check:  UTTU UU 2000\n",
    "UU (6176, 2000)\n",
    "Same Gene set check:  UU UU 2000\n",
    "UUUT (6619, 2000)\n",
    "Same Gene set check:  UUUT UU 2000\n",
    "UUUU (6235, 2000)\n",
    "Same Gene set check:  UUUU UU 2000\n",
    "/work/shah/users/salehis/projects/cdm/data/sclc/lx33/rna.h5ad"
   ]
  },
  {
   "cell_type": "code",
   "execution_count": 22,
   "id": "87a4206e",
   "metadata": {},
   "outputs": [
    {
     "data": {
      "text/html": [
       "<div>\n",
       "<style scoped>\n",
       "    .dataframe tbody tr th:only-of-type {\n",
       "        vertical-align: middle;\n",
       "    }\n",
       "\n",
       "    .dataframe tbody tr th {\n",
       "        vertical-align: top;\n",
       "    }\n",
       "\n",
       "    .dataframe thead th {\n",
       "        text-align: right;\n",
       "    }\n",
       "</style>\n",
       "<table border=\"1\" class=\"dataframe\">\n",
       "  <thead>\n",
       "    <tr style=\"text-align: right;\">\n",
       "      <th></th>\n",
       "      <th>FAM87B</th>\n",
       "      <th>LINC00115</th>\n",
       "      <th>HES4</th>\n",
       "      <th>ISG15</th>\n",
       "      <th>ATAD3C</th>\n",
       "      <th>GABRD</th>\n",
       "      <th>AL590822.2</th>\n",
       "      <th>HES5</th>\n",
       "      <th>AL139246.5</th>\n",
       "      <th>AL139246.3</th>\n",
       "      <th>...</th>\n",
       "      <th>BACE2</th>\n",
       "      <th>TFF1</th>\n",
       "      <th>AP001626.1</th>\n",
       "      <th>ERVH48-1</th>\n",
       "      <th>FRGCA</th>\n",
       "      <th>AIRE</th>\n",
       "      <th>TRPM2</th>\n",
       "      <th>C21orf58</th>\n",
       "      <th>PCNT</th>\n",
       "      <th>MT-ND6</th>\n",
       "    </tr>\n",
       "  </thead>\n",
       "  <tbody>\n",
       "    <tr>\n",
       "      <th>TATGTTCAGGGACACT-1_Lx108_UUUT</th>\n",
       "      <td>0.0</td>\n",
       "      <td>0.0</td>\n",
       "      <td>0.0</td>\n",
       "      <td>2.0</td>\n",
       "      <td>0.0</td>\n",
       "      <td>0.0</td>\n",
       "      <td>0.0</td>\n",
       "      <td>0.0</td>\n",
       "      <td>0.0</td>\n",
       "      <td>0.0</td>\n",
       "      <td>...</td>\n",
       "      <td>0.0</td>\n",
       "      <td>0.0</td>\n",
       "      <td>0.0</td>\n",
       "      <td>0.0</td>\n",
       "      <td>0.0</td>\n",
       "      <td>0.0</td>\n",
       "      <td>0.0</td>\n",
       "      <td>1.0</td>\n",
       "      <td>0.0</td>\n",
       "      <td>1.0</td>\n",
       "    </tr>\n",
       "    <tr>\n",
       "      <th>TTTGGAGGTCAGGAGT-1_Lx108_UUUT</th>\n",
       "      <td>0.0</td>\n",
       "      <td>0.0</td>\n",
       "      <td>2.0</td>\n",
       "      <td>3.0</td>\n",
       "      <td>0.0</td>\n",
       "      <td>0.0</td>\n",
       "      <td>0.0</td>\n",
       "      <td>0.0</td>\n",
       "      <td>0.0</td>\n",
       "      <td>0.0</td>\n",
       "      <td>...</td>\n",
       "      <td>0.0</td>\n",
       "      <td>1.0</td>\n",
       "      <td>0.0</td>\n",
       "      <td>0.0</td>\n",
       "      <td>0.0</td>\n",
       "      <td>0.0</td>\n",
       "      <td>1.0</td>\n",
       "      <td>0.0</td>\n",
       "      <td>0.0</td>\n",
       "      <td>1.0</td>\n",
       "    </tr>\n",
       "    <tr>\n",
       "      <th>ATTCCATAGGTTCCGC-1_Lx108_UUUT</th>\n",
       "      <td>0.0</td>\n",
       "      <td>0.0</td>\n",
       "      <td>3.0</td>\n",
       "      <td>2.0</td>\n",
       "      <td>0.0</td>\n",
       "      <td>0.0</td>\n",
       "      <td>0.0</td>\n",
       "      <td>0.0</td>\n",
       "      <td>0.0</td>\n",
       "      <td>0.0</td>\n",
       "      <td>...</td>\n",
       "      <td>0.0</td>\n",
       "      <td>0.0</td>\n",
       "      <td>0.0</td>\n",
       "      <td>0.0</td>\n",
       "      <td>0.0</td>\n",
       "      <td>0.0</td>\n",
       "      <td>0.0</td>\n",
       "      <td>2.0</td>\n",
       "      <td>0.0</td>\n",
       "      <td>6.0</td>\n",
       "    </tr>\n",
       "    <tr>\n",
       "      <th>AGGGTTTAGGGTGAGG-1_Lx108_UUUT</th>\n",
       "      <td>0.0</td>\n",
       "      <td>0.0</td>\n",
       "      <td>0.0</td>\n",
       "      <td>1.0</td>\n",
       "      <td>0.0</td>\n",
       "      <td>0.0</td>\n",
       "      <td>0.0</td>\n",
       "      <td>0.0</td>\n",
       "      <td>0.0</td>\n",
       "      <td>0.0</td>\n",
       "      <td>...</td>\n",
       "      <td>0.0</td>\n",
       "      <td>1.0</td>\n",
       "      <td>0.0</td>\n",
       "      <td>0.0</td>\n",
       "      <td>0.0</td>\n",
       "      <td>0.0</td>\n",
       "      <td>0.0</td>\n",
       "      <td>2.0</td>\n",
       "      <td>0.0</td>\n",
       "      <td>0.0</td>\n",
       "    </tr>\n",
       "    <tr>\n",
       "      <th>TTCAATCTCGTCTCAC-1_Lx108_UUUT</th>\n",
       "      <td>0.0</td>\n",
       "      <td>0.0</td>\n",
       "      <td>1.0</td>\n",
       "      <td>3.0</td>\n",
       "      <td>0.0</td>\n",
       "      <td>0.0</td>\n",
       "      <td>0.0</td>\n",
       "      <td>0.0</td>\n",
       "      <td>0.0</td>\n",
       "      <td>0.0</td>\n",
       "      <td>...</td>\n",
       "      <td>0.0</td>\n",
       "      <td>0.0</td>\n",
       "      <td>0.0</td>\n",
       "      <td>0.0</td>\n",
       "      <td>1.0</td>\n",
       "      <td>0.0</td>\n",
       "      <td>0.0</td>\n",
       "      <td>2.0</td>\n",
       "      <td>1.0</td>\n",
       "      <td>3.0</td>\n",
       "    </tr>\n",
       "    <tr>\n",
       "      <th>...</th>\n",
       "      <td>...</td>\n",
       "      <td>...</td>\n",
       "      <td>...</td>\n",
       "      <td>...</td>\n",
       "      <td>...</td>\n",
       "      <td>...</td>\n",
       "      <td>...</td>\n",
       "      <td>...</td>\n",
       "      <td>...</td>\n",
       "      <td>...</td>\n",
       "      <td>...</td>\n",
       "      <td>...</td>\n",
       "      <td>...</td>\n",
       "      <td>...</td>\n",
       "      <td>...</td>\n",
       "      <td>...</td>\n",
       "      <td>...</td>\n",
       "      <td>...</td>\n",
       "      <td>...</td>\n",
       "      <td>...</td>\n",
       "      <td>...</td>\n",
       "    </tr>\n",
       "    <tr>\n",
       "      <th>TCATTGTTCATTGAGC-1_Lx108_UUUT</th>\n",
       "      <td>0.0</td>\n",
       "      <td>0.0</td>\n",
       "      <td>0.0</td>\n",
       "      <td>0.0</td>\n",
       "      <td>0.0</td>\n",
       "      <td>0.0</td>\n",
       "      <td>0.0</td>\n",
       "      <td>0.0</td>\n",
       "      <td>0.0</td>\n",
       "      <td>0.0</td>\n",
       "      <td>...</td>\n",
       "      <td>0.0</td>\n",
       "      <td>1.0</td>\n",
       "      <td>0.0</td>\n",
       "      <td>0.0</td>\n",
       "      <td>0.0</td>\n",
       "      <td>0.0</td>\n",
       "      <td>0.0</td>\n",
       "      <td>0.0</td>\n",
       "      <td>0.0</td>\n",
       "      <td>15.0</td>\n",
       "    </tr>\n",
       "    <tr>\n",
       "      <th>CAATCGATCTTTACAC-1_Lx108_UUUT</th>\n",
       "      <td>0.0</td>\n",
       "      <td>0.0</td>\n",
       "      <td>0.0</td>\n",
       "      <td>0.0</td>\n",
       "      <td>0.0</td>\n",
       "      <td>0.0</td>\n",
       "      <td>0.0</td>\n",
       "      <td>0.0</td>\n",
       "      <td>0.0</td>\n",
       "      <td>0.0</td>\n",
       "      <td>...</td>\n",
       "      <td>0.0</td>\n",
       "      <td>0.0</td>\n",
       "      <td>0.0</td>\n",
       "      <td>0.0</td>\n",
       "      <td>0.0</td>\n",
       "      <td>0.0</td>\n",
       "      <td>0.0</td>\n",
       "      <td>0.0</td>\n",
       "      <td>0.0</td>\n",
       "      <td>0.0</td>\n",
       "    </tr>\n",
       "    <tr>\n",
       "      <th>ACGTAGTAGTTAGTAG-1_Lx108_UUUT</th>\n",
       "      <td>0.0</td>\n",
       "      <td>0.0</td>\n",
       "      <td>0.0</td>\n",
       "      <td>1.0</td>\n",
       "      <td>0.0</td>\n",
       "      <td>0.0</td>\n",
       "      <td>0.0</td>\n",
       "      <td>0.0</td>\n",
       "      <td>0.0</td>\n",
       "      <td>0.0</td>\n",
       "      <td>...</td>\n",
       "      <td>0.0</td>\n",
       "      <td>0.0</td>\n",
       "      <td>0.0</td>\n",
       "      <td>0.0</td>\n",
       "      <td>0.0</td>\n",
       "      <td>0.0</td>\n",
       "      <td>0.0</td>\n",
       "      <td>0.0</td>\n",
       "      <td>0.0</td>\n",
       "      <td>1.0</td>\n",
       "    </tr>\n",
       "    <tr>\n",
       "      <th>TTATTGCGTCTGTGTA-1_Lx108_UUUT</th>\n",
       "      <td>0.0</td>\n",
       "      <td>0.0</td>\n",
       "      <td>0.0</td>\n",
       "      <td>0.0</td>\n",
       "      <td>0.0</td>\n",
       "      <td>0.0</td>\n",
       "      <td>0.0</td>\n",
       "      <td>0.0</td>\n",
       "      <td>0.0</td>\n",
       "      <td>0.0</td>\n",
       "      <td>...</td>\n",
       "      <td>0.0</td>\n",
       "      <td>0.0</td>\n",
       "      <td>0.0</td>\n",
       "      <td>0.0</td>\n",
       "      <td>0.0</td>\n",
       "      <td>0.0</td>\n",
       "      <td>0.0</td>\n",
       "      <td>0.0</td>\n",
       "      <td>0.0</td>\n",
       "      <td>0.0</td>\n",
       "    </tr>\n",
       "    <tr>\n",
       "      <th>CCTCACACAATTGTGC-1_Lx108_UUUT</th>\n",
       "      <td>0.0</td>\n",
       "      <td>1.0</td>\n",
       "      <td>0.0</td>\n",
       "      <td>3.0</td>\n",
       "      <td>0.0</td>\n",
       "      <td>0.0</td>\n",
       "      <td>0.0</td>\n",
       "      <td>0.0</td>\n",
       "      <td>0.0</td>\n",
       "      <td>0.0</td>\n",
       "      <td>...</td>\n",
       "      <td>0.0</td>\n",
       "      <td>0.0</td>\n",
       "      <td>0.0</td>\n",
       "      <td>0.0</td>\n",
       "      <td>0.0</td>\n",
       "      <td>0.0</td>\n",
       "      <td>1.0</td>\n",
       "      <td>0.0</td>\n",
       "      <td>1.0</td>\n",
       "      <td>1.0</td>\n",
       "    </tr>\n",
       "  </tbody>\n",
       "</table>\n",
       "<p>4564 rows × 2000 columns</p>\n",
       "</div>"
      ],
      "text/plain": [
       "                               FAM87B  LINC00115  HES4  ISG15  ATAD3C  GABRD  \\\n",
       "TATGTTCAGGGACACT-1_Lx108_UUUT     0.0        0.0   0.0    2.0     0.0    0.0   \n",
       "TTTGGAGGTCAGGAGT-1_Lx108_UUUT     0.0        0.0   2.0    3.0     0.0    0.0   \n",
       "ATTCCATAGGTTCCGC-1_Lx108_UUUT     0.0        0.0   3.0    2.0     0.0    0.0   \n",
       "AGGGTTTAGGGTGAGG-1_Lx108_UUUT     0.0        0.0   0.0    1.0     0.0    0.0   \n",
       "TTCAATCTCGTCTCAC-1_Lx108_UUUT     0.0        0.0   1.0    3.0     0.0    0.0   \n",
       "...                               ...        ...   ...    ...     ...    ...   \n",
       "TCATTGTTCATTGAGC-1_Lx108_UUUT     0.0        0.0   0.0    0.0     0.0    0.0   \n",
       "CAATCGATCTTTACAC-1_Lx108_UUUT     0.0        0.0   0.0    0.0     0.0    0.0   \n",
       "ACGTAGTAGTTAGTAG-1_Lx108_UUUT     0.0        0.0   0.0    1.0     0.0    0.0   \n",
       "TTATTGCGTCTGTGTA-1_Lx108_UUUT     0.0        0.0   0.0    0.0     0.0    0.0   \n",
       "CCTCACACAATTGTGC-1_Lx108_UUUT     0.0        1.0   0.0    3.0     0.0    0.0   \n",
       "\n",
       "                               AL590822.2  HES5  AL139246.5  AL139246.3  ...  \\\n",
       "TATGTTCAGGGACACT-1_Lx108_UUUT         0.0   0.0         0.0         0.0  ...   \n",
       "TTTGGAGGTCAGGAGT-1_Lx108_UUUT         0.0   0.0         0.0         0.0  ...   \n",
       "ATTCCATAGGTTCCGC-1_Lx108_UUUT         0.0   0.0         0.0         0.0  ...   \n",
       "AGGGTTTAGGGTGAGG-1_Lx108_UUUT         0.0   0.0         0.0         0.0  ...   \n",
       "TTCAATCTCGTCTCAC-1_Lx108_UUUT         0.0   0.0         0.0         0.0  ...   \n",
       "...                                   ...   ...         ...         ...  ...   \n",
       "TCATTGTTCATTGAGC-1_Lx108_UUUT         0.0   0.0         0.0         0.0  ...   \n",
       "CAATCGATCTTTACAC-1_Lx108_UUUT         0.0   0.0         0.0         0.0  ...   \n",
       "ACGTAGTAGTTAGTAG-1_Lx108_UUUT         0.0   0.0         0.0         0.0  ...   \n",
       "TTATTGCGTCTGTGTA-1_Lx108_UUUT         0.0   0.0         0.0         0.0  ...   \n",
       "CCTCACACAATTGTGC-1_Lx108_UUUT         0.0   0.0         0.0         0.0  ...   \n",
       "\n",
       "                               BACE2  TFF1  AP001626.1  ERVH48-1  FRGCA  AIRE  \\\n",
       "TATGTTCAGGGACACT-1_Lx108_UUUT    0.0   0.0         0.0       0.0    0.0   0.0   \n",
       "TTTGGAGGTCAGGAGT-1_Lx108_UUUT    0.0   1.0         0.0       0.0    0.0   0.0   \n",
       "ATTCCATAGGTTCCGC-1_Lx108_UUUT    0.0   0.0         0.0       0.0    0.0   0.0   \n",
       "AGGGTTTAGGGTGAGG-1_Lx108_UUUT    0.0   1.0         0.0       0.0    0.0   0.0   \n",
       "TTCAATCTCGTCTCAC-1_Lx108_UUUT    0.0   0.0         0.0       0.0    1.0   0.0   \n",
       "...                              ...   ...         ...       ...    ...   ...   \n",
       "TCATTGTTCATTGAGC-1_Lx108_UUUT    0.0   1.0         0.0       0.0    0.0   0.0   \n",
       "CAATCGATCTTTACAC-1_Lx108_UUUT    0.0   0.0         0.0       0.0    0.0   0.0   \n",
       "ACGTAGTAGTTAGTAG-1_Lx108_UUUT    0.0   0.0         0.0       0.0    0.0   0.0   \n",
       "TTATTGCGTCTGTGTA-1_Lx108_UUUT    0.0   0.0         0.0       0.0    0.0   0.0   \n",
       "CCTCACACAATTGTGC-1_Lx108_UUUT    0.0   0.0         0.0       0.0    0.0   0.0   \n",
       "\n",
       "                               TRPM2  C21orf58  PCNT  MT-ND6  \n",
       "TATGTTCAGGGACACT-1_Lx108_UUUT    0.0       1.0   0.0     1.0  \n",
       "TTTGGAGGTCAGGAGT-1_Lx108_UUUT    1.0       0.0   0.0     1.0  \n",
       "ATTCCATAGGTTCCGC-1_Lx108_UUUT    0.0       2.0   0.0     6.0  \n",
       "AGGGTTTAGGGTGAGG-1_Lx108_UUUT    0.0       2.0   0.0     0.0  \n",
       "TTCAATCTCGTCTCAC-1_Lx108_UUUT    0.0       2.0   1.0     3.0  \n",
       "...                              ...       ...   ...     ...  \n",
       "TCATTGTTCATTGAGC-1_Lx108_UUUT    0.0       0.0   0.0    15.0  \n",
       "CAATCGATCTTTACAC-1_Lx108_UUUT    0.0       0.0   0.0     0.0  \n",
       "ACGTAGTAGTTAGTAG-1_Lx108_UUUT    0.0       0.0   0.0     1.0  \n",
       "TTATTGCGTCTGTGTA-1_Lx108_UUUT    0.0       0.0   0.0     0.0  \n",
       "CCTCACACAATTGTGC-1_Lx108_UUUT    1.0       0.0   1.0     1.0  \n",
       "\n",
       "[4564 rows x 2000 columns]"
      ]
     },
     "execution_count": 22,
     "metadata": {},
     "output_type": "execute_result"
    }
   ],
   "source": [
    "#STEP 11: copying over raw count \n",
    "\n",
    "for state in unique_state:\n",
    "    data_sub[state].X = data_sub[state].layers['counts'].copy()\n",
    "    \n",
    "#check for sample output\n",
    "data_sub[unique_state[1]].to_df()"
   ]
  },
  {
   "cell_type": "code",
   "execution_count": 30,
   "id": "c2b2bc79",
   "metadata": {},
   "outputs": [
    {
     "name": "stdout",
     "output_type": "stream",
     "text": [
      "Finish with:  /home/linl5/project/SCLC/results/lx108/lx108.UUUU.1.qc.tpm.csv  Shape:  (4128, 2000)\n",
      "Finish with:  /home/linl5/project/SCLC/results/lx108/lx108.UUUT.1.qc.tpm.csv  Shape:  (4564, 2000)\n",
      "Finish with:  /home/linl5/project/SCLC/results/lx108/lx108.UU.1.qc.tpm.csv  Shape:  (5035, 2000)\n",
      "Finish with:  /home/linl5/project/SCLC/results/lx108/lx108.UTTU.1.qc.tpm.csv  Shape:  (4706, 2000)\n"
     ]
    }
   ],
   "source": [
    "#STEP 12: output Timepoint specific count matrix after subsampling by state\n",
    "for state in unique_state:\n",
    "    EXP_MTX_QC_FNAME = os.path.join(RESULTS_FOLDERNAME, '{}.{}.{}.qc.tpm.csv'.format(DATASET_ID, state, frac_cells))\n",
    "    data_sub[state].to_df().to_csv(EXP_MTX_QC_FNAME, index=False, sep='\\t')\n",
    "    print(\"Finish with: \", EXP_MTX_QC_FNAME, \" Shape: \", data_sub[state].shape)\n"
   ]
  },
  {
   "cell_type": "code",
   "execution_count": 52,
   "id": "3c8fadea",
   "metadata": {},
   "outputs": [
    {
     "name": "stdout",
     "output_type": "stream",
     "text": [
      "/home/linl5/project/SCLC/resources/allTFs_hg38.txt : Size of TF list 1892\n",
      "\n",
      "Expression matrix shape for lx599 UUa (3633, 2000)\n",
      "preparing dask client\n",
      "parsing input\n",
      "creating dask graph\n",
      "8 partitions\n",
      "computing dask graph\n",
      "shutting down client and local cluster\n",
      "finished\n",
      "\n",
      "COMPLETED GRNBOOST2 RUNNING FOR lx599 UUa\n",
      "\n",
      "         TF target  importance\n",
      "31   HMGB2  PTTG1  218.800034\n",
      "107   JUNB    FOS  188.721109\n",
      "31   HMGB2  UBE2S  185.669121\n",
      "31   HMGB2  TOP2A  177.142807\n",
      "31   HMGB2  CKS1B  172.205553\n",
      "SUCCESSFUL WRITING TO /home/linl5/project/SCLC/data/lx599/lx599.UUa.0.5.adjacencies.tsv \n",
      "\n",
      "\n",
      "Expression matrix shape for lx599 UTb (2633, 2000)\n",
      "preparing dask client\n",
      "parsing input\n",
      "creating dask graph\n",
      "8 partitions\n",
      "computing dask graph\n",
      "shutting down client and local cluster\n",
      "finished\n",
      "\n",
      "COMPLETED GRNBOOST2 RUNNING FOR lx599 UTb\n",
      "\n",
      "        TF   target  importance\n",
      "31  HMGB2    CKS1B  204.433470\n",
      "91  DACH1   THSD7B  166.892381\n",
      "31  HMGB2    TOP2A  161.178378\n",
      "31  HMGB2    CENPF  159.590132\n",
      "63  ANXA1  S100A10  156.920963\n",
      "SUCCESSFUL WRITING TO /home/linl5/project/SCLC/data/lx599/lx599.UTb.0.5.adjacencies.tsv \n",
      "\n",
      "\n",
      "Expression matrix shape for lx599 UUb (5011, 2000)\n",
      "preparing dask client\n",
      "parsing input\n",
      "creating dask graph\n",
      "8 partitions\n",
      "computing dask graph\n"
     ]
    },
    {
     "name": "stderr",
     "output_type": "stream",
     "text": [
      "/home/linl5/miniconda3/envs/pyscenic/lib/python3.10/site-packages/distributed/client.py:3141: UserWarning: Sending large graph of size 10.26 MiB.\n",
      "This may cause some slowdown.\n",
      "Consider scattering data ahead of time and using futures.\n",
      "  warnings.warn(\n"
     ]
    },
    {
     "name": "stdout",
     "output_type": "stream",
     "text": [
      "shutting down client and local cluster\n",
      "finished\n",
      "\n",
      "COMPLETED GRNBOOST2 RUNNING FOR lx599 UUb\n",
      "\n",
      "        TF target  importance\n",
      "31  HMGB2  UBE2C  297.916324\n",
      "31  HMGB2  CENPF  280.830383\n",
      "31  HMGB2  CKS1B  276.293195\n",
      "31  HMGB2  BIRC5  269.824954\n",
      "31  HMGB2  TOP2A  268.785758\n",
      "SUCCESSFUL WRITING TO /home/linl5/project/SCLC/data/lx599/lx599.UUb.0.5.adjacencies.tsv \n",
      "\n",
      "\n",
      "Expression matrix shape for lx599 UTa (5248, 2000)\n",
      "preparing dask client\n",
      "parsing input\n",
      "creating dask graph\n",
      "8 partitions\n",
      "computing dask graph\n"
     ]
    },
    {
     "name": "stderr",
     "output_type": "stream",
     "text": [
      "/home/linl5/miniconda3/envs/pyscenic/lib/python3.10/site-packages/distributed/client.py:3141: UserWarning: Sending large graph of size 10.66 MiB.\n",
      "This may cause some slowdown.\n",
      "Consider scattering data ahead of time and using futures.\n",
      "  warnings.warn(\n"
     ]
    },
    {
     "name": "stdout",
     "output_type": "stream",
     "text": [
      "shutting down client and local cluster\n",
      "finished\n",
      "\n",
      "COMPLETED GRNBOOST2 RUNNING FOR lx599 UTa\n",
      "\n",
      "        TF  target  importance\n",
      "31  HMGB2   PTTG1  205.132399\n",
      "63  ANXA1  LGALS3  184.865173\n",
      "31  HMGB2   UBE2C  172.946718\n",
      "63  ANXA1  TM4SF1  169.786264\n",
      "94    FOS    JUNB  168.234663\n",
      "SUCCESSFUL WRITING TO /home/linl5/project/SCLC/data/lx599/lx599.UTa.0.5.adjacencies.tsv \n",
      "\n"
     ]
    }
   ],
   "source": [
    "# STEP 13: prepping for GRN, Loading in expression matrix and TF files\n",
    "\n",
    "#Loading TF\n",
    "tf_names = load_tf_names(HUMAN_TFS_FNAME)\n",
    "print(HUMAN_TFS_FNAME, \": Size of TF list\", len(tf_names))\n",
    "\n",
    "#selecting !!!! CHANGE\n",
    "frac_cells = 0.5\n",
    "\n",
    "#expression matrix\n",
    "for state in unique_state:\n",
    "    EXP_MTX_QC_FNAME = os.path.join(RESULTS_FOLDERNAME, '{}.{}.{}.qc.tpm.csv'.format(DATASET_ID, state, frac_cells))\n",
    "    ex_matrix = pd.read_csv(EXP_MTX_QC_FNAME, sep='\\t')\n",
    "   \n",
    "    #Input Checking \n",
    "    print(\"\\nExpression matrix shape for\", DATASET_ID, state, ex_matrix.shape)\n",
    "\n",
    "#STEP 14: Running GRNBOOST2 for coexpression modules\n",
    "    adjacencies = grnboost2(expression_data=ex_matrix, tf_names=tf_names, verbose=True)\n",
    "    print(\"\\nCOMPLETED GRNBOOST2 RUNNING FOR\", DATASET_ID, state)\n",
    "    print(\"\\n\", adjacencies.head())\n",
    "    ADJACENCIES_FNAME = os.path.join(DATA_FOLDERNAME, \"{}.{}.{}.adjacencies.tsv\".format(DATASET_ID, state, frac_cells))\n",
    "    adjacencies.to_csv(ADJACENCIES_FNAME, index=False, sep='\\t')\n",
    "    print(\"SUCCESSFUL WRITING TO\", ADJACENCIES_FNAME, \"\\n\")\n",
    "    "
   ]
  },
  {
   "cell_type": "code",
   "execution_count": 39,
   "id": "0a76f0c1",
   "metadata": {},
   "outputs": [],
   "source": [
    "#STEP 15: Prepping for RCistarget: Loading Database and motif\n",
    "\n",
    "DATABASE_FOLDER = \"/home/linl5/project/SCLC/auxilliaries/\"\n",
    "DATABASES_GLOB = os.path.join(DATABASE_FOLDER, \"hg38_*.mc9nr.genes_vs_motifs.rankings.feather\")\n",
    "\n",
    "db_fnames = glob.glob(DATABASES_GLOB)\n",
    "def name(fname):\n",
    "    return os.path.splitext(os.path.basename(fname))[0]\n",
    "dbs = [RankingDatabase(fname=fname, name=name(fname)) for fname in db_fnames]\n",
    "dbs\n",
    "\n",
    "MOTIF_ANNOTATIONS_FNAME = os.path.join(RESOURCES_FOLDERNAME,\"motifs-v9-nr.hgnc-m0.001-o0.0.tbl\")"
   ]
  },
  {
   "cell_type": "code",
   "execution_count": 41,
   "id": "88dcd893",
   "metadata": {},
   "outputs": [
    {
     "name": "stdout",
     "output_type": "stream",
     "text": [
      "\n",
      "FINISHED READING ADJACENCIES FILE /home/linl5/project/SCLC/data/lx108/lx108.UUUU.1.adjacencies.tsv \n",
      "\n"
     ]
    },
    {
     "name": "stderr",
     "output_type": "stream",
     "text": [
      "\n",
      "2023-08-09 14:06:02,369 - pyscenic.utils - INFO - Calculating Pearson correlations.\n",
      "\n",
      "2023-08-09 14:06:02,409 - pyscenic.utils - WARNING - Note on correlation calculation: the default behaviour for calculating the correlations has changed after pySCENIC verion 0.9.16. Previously, the default was to calculate the correlation between a TF and target gene using only cells with non-zero expression values (mask_dropouts=True). The current default is now to use all cells to match the behavior of the R verision of SCENIC. The original settings can be retained by setting 'rho_mask_dropouts=True' in the modules_from_adjacencies function, or '--mask_dropouts' from the CLI.\n",
      "\tDropout masking is currently set to [False].\n"
     ]
    },
    {
     "name": "stdout",
     "output_type": "stream",
     "text": [
      "\n",
      "FINISHED READING EXPRESSION MATRIX /home/linl5/project/SCLC/results/lx108/lx108.UUUU.1.qc.tpm.csv \n",
      "\n"
     ]
    },
    {
     "name": "stderr",
     "output_type": "stream",
     "text": [
      "\n",
      "2023-08-09 14:06:04,087 - pyscenic.utils - INFO - Creating modules.\n"
     ]
    },
    {
     "name": "stdout",
     "output_type": "stream",
     "text": [
      "\n",
      "COMPLETED COEXPRESSION MODULE WRITING: /home/linl5/project/SCLC/data/lx108/lx108.UUUU.1.modules.p \n",
      "\n",
      "[                                        ] | 0% Completed | 21.41 sms"
     ]
    },
    {
     "name": "stderr",
     "output_type": "stream",
     "text": [
      "\n",
      "2023-08-09 14:06:36,525 - pyscenic.transform - WARNING - Less than 80% of the genes in EGR2 could be mapped to hg38__refseq-r80__500bp_up_and_100bp_down_tss.mc9nr.genes_vs_motifs.rankings. Skipping this module.\n"
     ]
    },
    {
     "name": "stdout",
     "output_type": "stream",
     "text": [
      "[                                        ] | 0% Completed | 25.93 s"
     ]
    },
    {
     "name": "stderr",
     "output_type": "stream",
     "text": [
      "\n",
      "2023-08-09 14:06:41,096 - pyscenic.transform - WARNING - Less than 80% of the genes in ELF5 could be mapped to hg38__refseq-r80__500bp_up_and_100bp_down_tss.mc9nr.genes_vs_motifs.rankings. Skipping this module.\n"
     ]
    },
    {
     "name": "stdout",
     "output_type": "stream",
     "text": [
      "[                                        ] | 0% Completed | 29.38 s"
     ]
    },
    {
     "name": "stderr",
     "output_type": "stream",
     "text": [
      "\n",
      "2023-08-09 14:06:44,545 - pyscenic.transform - WARNING - Less than 80% of the genes in IKZF3 could be mapped to hg38__refseq-r80__10kb_up_and_down_tss.mc9nr.genes_vs_motifs.rankings. Skipping this module.\n"
     ]
    },
    {
     "name": "stdout",
     "output_type": "stream",
     "text": [
      "[                                        ] | 0% Completed | 32.93 s"
     ]
    },
    {
     "name": "stderr",
     "output_type": "stream",
     "text": [
      "\n",
      "2023-08-09 14:06:48,113 - pyscenic.transform - WARNING - Less than 80% of the genes in FOSL1 could be mapped to hg38__refseq-r80__500bp_up_and_100bp_down_tss.mc9nr.genes_vs_motifs.rankings. Skipping this module.\n"
     ]
    },
    {
     "name": "stdout",
     "output_type": "stream",
     "text": [
      "[                                        ] | 0% Completed | 33.91 s"
     ]
    },
    {
     "name": "stderr",
     "output_type": "stream",
     "text": [
      "\n",
      "2023-08-09 14:06:49,025 - pyscenic.transform - WARNING - Less than 80% of the genes in FOXC1 could be mapped to hg38__refseq-r80__500bp_up_and_100bp_down_tss.mc9nr.genes_vs_motifs.rankings. Skipping this module.\n"
     ]
    },
    {
     "name": "stdout",
     "output_type": "stream",
     "text": [
      "[                                        ] | 0% Completed | 34.78 s"
     ]
    },
    {
     "name": "stderr",
     "output_type": "stream",
     "text": [
      "\n",
      "2023-08-09 14:06:49,971 - pyscenic.transform - WARNING - Less than 80% of the genes in FOXJ1 could be mapped to hg38__refseq-r80__500bp_up_and_100bp_down_tss.mc9nr.genes_vs_motifs.rankings. Skipping this module.\n"
     ]
    },
    {
     "name": "stdout",
     "output_type": "stream",
     "text": [
      "[                                        ] | 0% Completed | 43.01 s"
     ]
    },
    {
     "name": "stderr",
     "output_type": "stream",
     "text": [
      "\n",
      "2023-08-09 14:06:58,122 - pyscenic.transform - WARNING - Less than 80% of the genes in HIST1H2BN could be mapped to hg38__refseq-r80__500bp_up_and_100bp_down_tss.mc9nr.genes_vs_motifs.rankings. Skipping this module.\n"
     ]
    },
    {
     "name": "stdout",
     "output_type": "stream",
     "text": [
      "[                                        ] | 0% Completed | 45.18 s"
     ]
    },
    {
     "name": "stderr",
     "output_type": "stream",
     "text": [
      "\n",
      "2023-08-09 14:07:00,322 - pyscenic.transform - WARNING - Less than 80% of the genes in HOXB1 could be mapped to hg38__refseq-r80__500bp_up_and_100bp_down_tss.mc9nr.genes_vs_motifs.rankings. Skipping this module.\n"
     ]
    },
    {
     "name": "stdout",
     "output_type": "stream",
     "text": [
      "[                                        ] | 0% Completed | 48.33 s"
     ]
    },
    {
     "name": "stderr",
     "output_type": "stream",
     "text": [
      "\n",
      "2023-08-09 14:07:03,485 - pyscenic.transform - WARNING - Less than 80% of the genes in INSM1 could be mapped to hg38__refseq-r80__500bp_up_and_100bp_down_tss.mc9nr.genes_vs_motifs.rankings. Skipping this module.\n"
     ]
    },
    {
     "name": "stdout",
     "output_type": "stream",
     "text": [
      "[                                        ] | 0% Completed | 51.53 s"
     ]
    },
    {
     "name": "stderr",
     "output_type": "stream",
     "text": [
      "\n",
      "2023-08-09 14:07:06,695 - pyscenic.transform - WARNING - Less than 80% of the genes in MSX1 could be mapped to hg38__refseq-r80__10kb_up_and_down_tss.mc9nr.genes_vs_motifs.rankings. Skipping this module.\n"
     ]
    },
    {
     "name": "stdout",
     "output_type": "stream",
     "text": [
      "[                                        ] | 0% Completed | 52.68 s"
     ]
    },
    {
     "name": "stderr",
     "output_type": "stream",
     "text": [
      "\n",
      "2023-08-09 14:07:07,785 - pyscenic.transform - WARNING - Less than 80% of the genes in KLF2 could be mapped to hg38__refseq-r80__500bp_up_and_100bp_down_tss.mc9nr.genes_vs_motifs.rankings. Skipping this module.\n"
     ]
    },
    {
     "name": "stdout",
     "output_type": "stream",
     "text": [
      "[                                        ] | 0% Completed | 54.27 s"
     ]
    },
    {
     "name": "stderr",
     "output_type": "stream",
     "text": [
      "\n",
      "2023-08-09 14:07:09,436 - pyscenic.transform - WARNING - Less than 80% of the genes in KLF4 could be mapped to hg38__refseq-r80__500bp_up_and_100bp_down_tss.mc9nr.genes_vs_motifs.rankings. Skipping this module.\n"
     ]
    },
    {
     "name": "stdout",
     "output_type": "stream",
     "text": [
      "[                                        ] | 0% Completed | 54.69 s"
     ]
    },
    {
     "name": "stderr",
     "output_type": "stream",
     "text": [
      "\n",
      "2023-08-09 14:07:09,881 - pyscenic.transform - WARNING - Less than 80% of the genes in LHX1 could be mapped to hg38__refseq-r80__500bp_up_and_100bp_down_tss.mc9nr.genes_vs_motifs.rankings. Skipping this module.\n"
     ]
    },
    {
     "name": "stdout",
     "output_type": "stream",
     "text": [
      "[                                        ] | 0% Completed | 55.32 s"
     ]
    },
    {
     "name": "stderr",
     "output_type": "stream",
     "text": [
      "\n",
      "2023-08-09 14:07:10,482 - pyscenic.transform - WARNING - Less than 80% of the genes in MEOX2 could be mapped to hg38__refseq-r80__500bp_up_and_100bp_down_tss.mc9nr.genes_vs_motifs.rankings. Skipping this module.\n"
     ]
    },
    {
     "name": "stdout",
     "output_type": "stream",
     "text": [
      "[                                        ] | 0% Completed | 55.73 s"
     ]
    },
    {
     "name": "stderr",
     "output_type": "stream",
     "text": [
      "\n",
      "2023-08-09 14:07:10,888 - pyscenic.transform - WARNING - Less than 80% of the genes in MYBL1 could be mapped to hg38__refseq-r80__500bp_up_and_100bp_down_tss.mc9nr.genes_vs_motifs.rankings. Skipping this module.\n"
     ]
    },
    {
     "name": "stdout",
     "output_type": "stream",
     "text": [
      "[                                        ] | 0% Completed | 56.79 s"
     ]
    },
    {
     "name": "stderr",
     "output_type": "stream",
     "text": [
      "\n",
      "2023-08-09 14:07:11,985 - pyscenic.transform - WARNING - Less than 80% of the genes in MYC could be mapped to hg38__refseq-r80__500bp_up_and_100bp_down_tss.mc9nr.genes_vs_motifs.rankings. Skipping this module.\n"
     ]
    },
    {
     "name": "stdout",
     "output_type": "stream",
     "text": [
      "[                                        ] | 0% Completed | 57.00 s"
     ]
    },
    {
     "name": "stderr",
     "output_type": "stream",
     "text": [
      "\n",
      "2023-08-09 14:07:12,189 - pyscenic.transform - WARNING - Less than 80% of the genes in MYCL could be mapped to hg38__refseq-r80__500bp_up_and_100bp_down_tss.mc9nr.genes_vs_motifs.rankings. Skipping this module.\n"
     ]
    },
    {
     "name": "stdout",
     "output_type": "stream",
     "text": [
      "[                                        ] | 0% Completed | 57.31 s"
     ]
    },
    {
     "name": "stderr",
     "output_type": "stream",
     "text": [
      "\n",
      "2023-08-09 14:07:12,454 - pyscenic.transform - WARNING - Less than 80% of the genes in NFIA could be mapped to hg38__refseq-r80__500bp_up_and_100bp_down_tss.mc9nr.genes_vs_motifs.rankings. Skipping this module.\n"
     ]
    },
    {
     "name": "stdout",
     "output_type": "stream",
     "text": [
      "[                                        ] | 0% Completed | 58.36 s"
     ]
    },
    {
     "name": "stderr",
     "output_type": "stream",
     "text": [
      "\n",
      "2023-08-09 14:07:13,486 - pyscenic.transform - WARNING - Less than 80% of the genes in NFIB could be mapped to hg38__refseq-r80__500bp_up_and_100bp_down_tss.mc9nr.genes_vs_motifs.rankings. Skipping this module.\n"
     ]
    },
    {
     "name": "stdout",
     "output_type": "stream",
     "text": [
      "[                                        ] | 0% Completed | 58.57 s"
     ]
    },
    {
     "name": "stderr",
     "output_type": "stream",
     "text": [
      "\n",
      "2023-08-09 14:07:13,724 - pyscenic.transform - WARNING - Less than 80% of the genes in NKX2-2 could be mapped to hg38__refseq-r80__500bp_up_and_100bp_down_tss.mc9nr.genes_vs_motifs.rankings. Skipping this module.\n",
      "\n",
      "2023-08-09 14:07:13,865 - pyscenic.transform - WARNING - Less than 80% of the genes in NKX2-5 could be mapped to hg38__refseq-r80__500bp_up_and_100bp_down_tss.mc9nr.genes_vs_motifs.rankings. Skipping this module.\n"
     ]
    },
    {
     "name": "stdout",
     "output_type": "stream",
     "text": [
      "[                                        ] | 0% Completed | 59.32 s"
     ]
    },
    {
     "name": "stderr",
     "output_type": "stream",
     "text": [
      "\n",
      "2023-08-09 14:07:14,481 - pyscenic.transform - WARNING - Less than 80% of the genes in NR0B1 could be mapped to hg38__refseq-r80__500bp_up_and_100bp_down_tss.mc9nr.genes_vs_motifs.rankings. Skipping this module.\n"
     ]
    },
    {
     "name": "stdout",
     "output_type": "stream",
     "text": [
      "[                                        ] | 0% Completed | 60.27 s"
     ]
    },
    {
     "name": "stderr",
     "output_type": "stream",
     "text": [
      "\n",
      "2023-08-09 14:07:15,448 - pyscenic.transform - WARNING - Less than 80% of the genes in NR2F2 could be mapped to hg38__refseq-r80__500bp_up_and_100bp_down_tss.mc9nr.genes_vs_motifs.rankings. Skipping this module.\n",
      "\n",
      "2023-08-09 14:07:15,561 - pyscenic.transform - WARNING - Less than 80% of the genes in NR4A1 could be mapped to hg38__refseq-r80__500bp_up_and_100bp_down_tss.mc9nr.genes_vs_motifs.rankings. Skipping this module.\n"
     ]
    },
    {
     "name": "stdout",
     "output_type": "stream",
     "text": [
      "[                                        ] | 0% Completed | 61.64 s"
     ]
    },
    {
     "name": "stderr",
     "output_type": "stream",
     "text": [
      "\n",
      "2023-08-09 14:07:16,801 - pyscenic.transform - WARNING - Less than 80% of the genes in OSR2 could be mapped to hg38__refseq-r80__500bp_up_and_100bp_down_tss.mc9nr.genes_vs_motifs.rankings. Skipping this module.\n",
      "\n",
      "2023-08-09 14:07:16,902 - pyscenic.transform - WARNING - Less than 80% of the genes in PAX6 could be mapped to hg38__refseq-r80__500bp_up_and_100bp_down_tss.mc9nr.genes_vs_motifs.rankings. Skipping this module.\n"
     ]
    },
    {
     "name": "stdout",
     "output_type": "stream",
     "text": [
      "[                                        ] | 0% Completed | 62.38 s"
     ]
    },
    {
     "name": "stderr",
     "output_type": "stream",
     "text": [
      "\n",
      "2023-08-09 14:07:17,555 - pyscenic.transform - WARNING - Less than 80% of the genes in POU2AF1 could be mapped to hg38__refseq-r80__500bp_up_and_100bp_down_tss.mc9nr.genes_vs_motifs.rankings. Skipping this module.\n",
      "\n",
      "2023-08-09 14:07:17,674 - pyscenic.transform - WARNING - Less than 80% of the genes in POU2F2 could be mapped to hg38__refseq-r80__500bp_up_and_100bp_down_tss.mc9nr.genes_vs_motifs.rankings. Skipping this module.\n"
     ]
    },
    {
     "name": "stdout",
     "output_type": "stream",
     "text": [
      "[                                        ] | 0% Completed | 62.58 s"
     ]
    },
    {
     "name": "stderr",
     "output_type": "stream",
     "text": [
      "\n",
      "2023-08-09 14:07:17,780 - pyscenic.transform - WARNING - Less than 80% of the genes in POU3F2 could be mapped to hg38__refseq-r80__500bp_up_and_100bp_down_tss.mc9nr.genes_vs_motifs.rankings. Skipping this module.\n",
      "\n",
      "2023-08-09 14:07:17,896 - pyscenic.transform - WARNING - Less than 80% of the genes in POU4F1 could be mapped to hg38__refseq-r80__500bp_up_and_100bp_down_tss.mc9nr.genes_vs_motifs.rankings. Skipping this module.\n"
     ]
    },
    {
     "name": "stdout",
     "output_type": "stream",
     "text": [
      "[                                        ] | 0% Completed | 62.90 s"
     ]
    },
    {
     "name": "stderr",
     "output_type": "stream",
     "text": [
      "\n",
      "2023-08-09 14:07:18,022 - pyscenic.transform - WARNING - Less than 80% of the genes in PPARG could be mapped to hg38__refseq-r80__500bp_up_and_100bp_down_tss.mc9nr.genes_vs_motifs.rankings. Skipping this module.\n",
      "\n",
      "2023-08-09 14:07:18,140 - pyscenic.transform - WARNING - Less than 80% of the genes in PPARGC1A could be mapped to hg38__refseq-r80__500bp_up_and_100bp_down_tss.mc9nr.genes_vs_motifs.rankings. Skipping this module.\n"
     ]
    },
    {
     "name": "stdout",
     "output_type": "stream",
     "text": [
      "[                                        ] | 0% Completed | 65.86 s"
     ]
    },
    {
     "name": "stderr",
     "output_type": "stream",
     "text": [
      "\n",
      "2023-08-09 14:07:20,996 - pyscenic.transform - WARNING - Less than 80% of the genes in RUNX3 could be mapped to hg38__refseq-r80__500bp_up_and_100bp_down_tss.mc9nr.genes_vs_motifs.rankings. Skipping this module.\n"
     ]
    },
    {
     "name": "stdout",
     "output_type": "stream",
     "text": [
      "[                                        ] | 0% Completed | 66.19 s"
     ]
    },
    {
     "name": "stderr",
     "output_type": "stream",
     "text": [
      "\n",
      "2023-08-09 14:07:21,293 - pyscenic.transform - WARNING - Less than 80% of the genes in SIX1 could be mapped to hg38__refseq-r80__500bp_up_and_100bp_down_tss.mc9nr.genes_vs_motifs.rankings. Skipping this module.\n",
      "\n",
      "2023-08-09 14:07:21,480 - pyscenic.transform - WARNING - Less than 80% of the genes in SMARCA1 could be mapped to hg38__refseq-r80__500bp_up_and_100bp_down_tss.mc9nr.genes_vs_motifs.rankings. Skipping this module.\n"
     ]
    },
    {
     "name": "stdout",
     "output_type": "stream",
     "text": [
      "[                                        ] | 0% Completed | 72.17 s"
     ]
    },
    {
     "name": "stderr",
     "output_type": "stream",
     "text": [
      "\n",
      "2023-08-09 14:07:27,367 - pyscenic.transform - WARNING - Less than 80% of the genes in SP5 could be mapped to hg38__refseq-r80__500bp_up_and_100bp_down_tss.mc9nr.genes_vs_motifs.rankings. Skipping this module.\n"
     ]
    },
    {
     "name": "stdout",
     "output_type": "stream",
     "text": [
      "[                                        ] | 0% Completed | 74.72 s"
     ]
    },
    {
     "name": "stderr",
     "output_type": "stream",
     "text": [
      "\n",
      "2023-08-09 14:07:29,839 - pyscenic.transform - WARNING - Less than 80% of the genes in STAT6 could be mapped to hg38__refseq-r80__500bp_up_and_100bp_down_tss.mc9nr.genes_vs_motifs.rankings. Skipping this module.\n"
     ]
    },
    {
     "name": "stdout",
     "output_type": "stream",
     "text": [
      "[                                        ] | 0% Completed | 74.93 s"
     ]
    },
    {
     "name": "stderr",
     "output_type": "stream",
     "text": [
      "\n",
      "2023-08-09 14:07:30,052 - pyscenic.transform - WARNING - Less than 80% of the genes in TAL2 could be mapped to hg38__refseq-r80__500bp_up_and_100bp_down_tss.mc9nr.genes_vs_motifs.rankings. Skipping this module.\n"
     ]
    },
    {
     "name": "stdout",
     "output_type": "stream",
     "text": [
      "[                                        ] | 0% Completed | 75.14 s"
     ]
    },
    {
     "name": "stderr",
     "output_type": "stream",
     "text": [
      "\n",
      "2023-08-09 14:07:30,286 - pyscenic.transform - WARNING - Less than 80% of the genes in TBX3 could be mapped to hg38__refseq-r80__500bp_up_and_100bp_down_tss.mc9nr.genes_vs_motifs.rankings. Skipping this module.\n",
      "\n",
      "2023-08-09 14:07:30,469 - pyscenic.transform - WARNING - Less than 80% of the genes in TGIF1 could be mapped to hg38__refseq-r80__500bp_up_and_100bp_down_tss.mc9nr.genes_vs_motifs.rankings. Skipping this module.\n"
     ]
    },
    {
     "name": "stdout",
     "output_type": "stream",
     "text": [
      "[                                        ] | 0% Completed | 76.21 s"
     ]
    },
    {
     "name": "stderr",
     "output_type": "stream",
     "text": [
      "\n",
      "2023-08-09 14:07:31,331 - pyscenic.transform - WARNING - Less than 80% of the genes in TRIB1 could be mapped to hg38__refseq-r80__500bp_up_and_100bp_down_tss.mc9nr.genes_vs_motifs.rankings. Skipping this module.\n"
     ]
    },
    {
     "name": "stdout",
     "output_type": "stream",
     "text": [
      "[                                        ] | 0% Completed | 77.78 s"
     ]
    },
    {
     "name": "stderr",
     "output_type": "stream",
     "text": [
      "\n",
      "2023-08-09 14:07:32,959 - pyscenic.transform - WARNING - Less than 80% of the genes in ZIC2 could be mapped to hg38__refseq-r80__500bp_up_and_100bp_down_tss.mc9nr.genes_vs_motifs.rankings. Skipping this module.\n",
      "\n",
      "2023-08-09 14:07:33,129 - pyscenic.transform - WARNING - Less than 80% of the genes in ZNF165 could be mapped to hg38__refseq-r80__500bp_up_and_100bp_down_tss.mc9nr.genes_vs_motifs.rankings. Skipping this module.\n"
     ]
    },
    {
     "name": "stdout",
     "output_type": "stream",
     "text": [
      "[                                        ] | 0% Completed | 78.20 s"
     ]
    },
    {
     "name": "stderr",
     "output_type": "stream",
     "text": [
      "\n",
      "2023-08-09 14:07:33,351 - pyscenic.transform - WARNING - Less than 80% of the genes in ZNF322 could be mapped to hg38__refseq-r80__500bp_up_and_100bp_down_tss.mc9nr.genes_vs_motifs.rankings. Skipping this module.\n"
     ]
    },
    {
     "name": "stdout",
     "output_type": "stream",
     "text": [
      "[                                        ] | 0% Completed | 78.61 s"
     ]
    },
    {
     "name": "stderr",
     "output_type": "stream",
     "text": [
      "\n",
      "2023-08-09 14:07:33,723 - pyscenic.transform - WARNING - Less than 80% of the genes in ZNF503 could be mapped to hg38__refseq-r80__500bp_up_and_100bp_down_tss.mc9nr.genes_vs_motifs.rankings. Skipping this module.\n"
     ]
    },
    {
     "name": "stdout",
     "output_type": "stream",
     "text": [
      "[                                        ] | 0% Completed | 79.34 s"
     ]
    },
    {
     "name": "stderr",
     "output_type": "stream",
     "text": [
      "\n",
      "2023-08-09 14:07:34,505 - pyscenic.transform - WARNING - Less than 80% of the genes in RUNX3 could be mapped to hg38__refseq-r80__10kb_up_and_down_tss.mc9nr.genes_vs_motifs.rankings. Skipping this module.\n"
     ]
    },
    {
     "name": "stdout",
     "output_type": "stream",
     "text": [
      "[                                        ] | 0% Completed | 86.16 s"
     ]
    },
    {
     "name": "stderr",
     "output_type": "stream",
     "text": [
      "\n",
      "2023-08-09 14:07:41,308 - pyscenic.transform - WARNING - Less than 80% of the genes in SPIB could be mapped to hg38__refseq-r80__10kb_up_and_down_tss.mc9nr.genes_vs_motifs.rankings. Skipping this module.\n"
     ]
    },
    {
     "name": "stdout",
     "output_type": "stream",
     "text": [
      "[                                        ] | 0% Completed | 92.12 s"
     ]
    },
    {
     "name": "stderr",
     "output_type": "stream",
     "text": [
      "\n",
      "2023-08-09 14:07:47,225 - pyscenic.transform - WARNING - Less than 80% of the genes in ZIC2 could be mapped to hg38__refseq-r80__10kb_up_and_down_tss.mc9nr.genes_vs_motifs.rankings. Skipping this module.\n"
     ]
    },
    {
     "name": "stdout",
     "output_type": "stream",
     "text": [
      "[####                                    ] | 10% Completed | 130.55 s"
     ]
    },
    {
     "name": "stderr",
     "output_type": "stream",
     "text": [
      "\n",
      "2023-08-09 14:08:25,684 - pyscenic.transform - WARNING - Less than 80% of the genes in IKZF3 could be mapped to hg38__refseq-r80__500bp_up_and_100bp_down_tss.mc9nr.genes_vs_motifs.rankings. Skipping this module.\n"
     ]
    },
    {
     "name": "stdout",
     "output_type": "stream",
     "text": [
      "[####                                    ] | 10% Completed | 137.17 s"
     ]
    },
    {
     "name": "stderr",
     "output_type": "stream",
     "text": [
      "\n",
      "2023-08-09 14:08:32,295 - pyscenic.transform - WARNING - Less than 80% of the genes in MSX1 could be mapped to hg38__refseq-r80__500bp_up_and_100bp_down_tss.mc9nr.genes_vs_motifs.rankings. Skipping this module.\n"
     ]
    },
    {
     "name": "stdout",
     "output_type": "stream",
     "text": [
      "[####                                    ] | 10% Completed | 163.67 s"
     ]
    },
    {
     "name": "stderr",
     "output_type": "stream",
     "text": [
      "\n",
      "2023-08-09 14:08:58,854 - pyscenic.transform - WARNING - Less than 80% of the genes in RUNX3 could be mapped to hg38__refseq-r80__500bp_up_and_100bp_down_tss.mc9nr.genes_vs_motifs.rankings. Skipping this module.\n"
     ]
    },
    {
     "name": "stdout",
     "output_type": "stream",
     "text": [
      "[####                                    ] | 10% Completed | 169.55 s"
     ]
    },
    {
     "name": "stderr",
     "output_type": "stream",
     "text": [
      "\n",
      "2023-08-09 14:09:04,675 - pyscenic.transform - WARNING - Less than 80% of the genes in SPIB could be mapped to hg38__refseq-r80__500bp_up_and_100bp_down_tss.mc9nr.genes_vs_motifs.rankings. Skipping this module.\n"
     ]
    },
    {
     "name": "stdout",
     "output_type": "stream",
     "text": [
      "[####                                    ] | 10% Completed | 175.90 s"
     ]
    },
    {
     "name": "stderr",
     "output_type": "stream",
     "text": [
      "\n",
      "2023-08-09 14:09:11,003 - pyscenic.transform - WARNING - Less than 80% of the genes in ARG2 could be mapped to hg38__refseq-r80__10kb_up_and_down_tss.mc9nr.genes_vs_motifs.rankings. Skipping this module.\n"
     ]
    },
    {
     "name": "stdout",
     "output_type": "stream",
     "text": [
      "[####                                    ] | 10% Completed | 178.16 s"
     ]
    },
    {
     "name": "stderr",
     "output_type": "stream",
     "text": [
      "\n",
      "2023-08-09 14:09:13,298 - pyscenic.transform - WARNING - Less than 80% of the genes in ZIC2 could be mapped to hg38__refseq-r80__500bp_up_and_100bp_down_tss.mc9nr.genes_vs_motifs.rankings. Skipping this module.\n"
     ]
    },
    {
     "name": "stdout",
     "output_type": "stream",
     "text": [
      "[####                                    ] | 10% Completed | 190.88 s"
     ]
    },
    {
     "name": "stderr",
     "output_type": "stream",
     "text": [
      "\n",
      "2023-08-09 14:09:26,076 - pyscenic.transform - WARNING - Less than 80% of the genes in CREB5 could be mapped to hg38__refseq-r80__10kb_up_and_down_tss.mc9nr.genes_vs_motifs.rankings. Skipping this module.\n"
     ]
    },
    {
     "name": "stdout",
     "output_type": "stream",
     "text": [
      "[####                                    ] | 10% Completed | 191.30 s"
     ]
    },
    {
     "name": "stderr",
     "output_type": "stream",
     "text": [
      "\n",
      "2023-08-09 14:09:26,470 - pyscenic.transform - WARNING - Less than 80% of the genes in DACH1 could be mapped to hg38__refseq-r80__10kb_up_and_down_tss.mc9nr.genes_vs_motifs.rankings. Skipping this module.\n"
     ]
    },
    {
     "name": "stdout",
     "output_type": "stream",
     "text": [
      "[####                                    ] | 10% Completed | 193.22 s"
     ]
    },
    {
     "name": "stderr",
     "output_type": "stream",
     "text": [
      "\n",
      "2023-08-09 14:09:28,351 - pyscenic.transform - WARNING - Less than 80% of the genes in DMRTA1 could be mapped to hg38__refseq-r80__10kb_up_and_down_tss.mc9nr.genes_vs_motifs.rankings. Skipping this module.\n"
     ]
    },
    {
     "name": "stdout",
     "output_type": "stream",
     "text": [
      "[####                                    ] | 10% Completed | 198.16 s"
     ]
    },
    {
     "name": "stderr",
     "output_type": "stream",
     "text": [
      "\n",
      "2023-08-09 14:09:33,362 - pyscenic.transform - WARNING - Less than 80% of the genes in E2F8 could be mapped to hg38__refseq-r80__10kb_up_and_down_tss.mc9nr.genes_vs_motifs.rankings. Skipping this module.\n"
     ]
    },
    {
     "name": "stdout",
     "output_type": "stream",
     "text": [
      "[####                                    ] | 10% Completed | 199.13 s"
     ]
    },
    {
     "name": "stderr",
     "output_type": "stream",
     "text": [
      "\n",
      "2023-08-09 14:09:34,319 - pyscenic.transform - WARNING - Less than 80% of the genes in EGR1 could be mapped to hg38__refseq-r80__10kb_up_and_down_tss.mc9nr.genes_vs_motifs.rankings. Skipping this module.\n"
     ]
    },
    {
     "name": "stdout",
     "output_type": "stream",
     "text": [
      "[####                                    ] | 10% Completed | 201.78 s"
     ]
    },
    {
     "name": "stderr",
     "output_type": "stream",
     "text": [
      "\n",
      "2023-08-09 14:09:36,923 - pyscenic.transform - WARNING - Less than 80% of the genes in EGR4 could be mapped to hg38__refseq-r80__10kb_up_and_down_tss.mc9nr.genes_vs_motifs.rankings. Skipping this module.\n"
     ]
    },
    {
     "name": "stdout",
     "output_type": "stream",
     "text": [
      "[####                                    ] | 10% Completed | 201.99 s"
     ]
    },
    {
     "name": "stderr",
     "output_type": "stream",
     "text": [
      "\n",
      "2023-08-09 14:09:37,129 - pyscenic.transform - WARNING - Less than 80% of the genes in EHF could be mapped to hg38__refseq-r80__10kb_up_and_down_tss.mc9nr.genes_vs_motifs.rankings. Skipping this module.\n"
     ]
    },
    {
     "name": "stdout",
     "output_type": "stream",
     "text": [
      "[####                                    ] | 10% Completed | 202.41 s"
     ]
    },
    {
     "name": "stderr",
     "output_type": "stream",
     "text": [
      "\n",
      "2023-08-09 14:09:37,550 - pyscenic.transform - WARNING - Less than 80% of the genes in ELF5 could be mapped to hg38__refseq-r80__10kb_up_and_down_tss.mc9nr.genes_vs_motifs.rankings. Skipping this module.\n"
     ]
    },
    {
     "name": "stdout",
     "output_type": "stream",
     "text": [
      "[####                                    ] | 10% Completed | 209.44 s"
     ]
    },
    {
     "name": "stderr",
     "output_type": "stream",
     "text": [
      "\n",
      "2023-08-09 14:09:44,575 - pyscenic.transform - WARNING - Less than 80% of the genes in FOSB could be mapped to hg38__refseq-r80__10kb_up_and_down_tss.mc9nr.genes_vs_motifs.rankings. Skipping this module.\n"
     ]
    },
    {
     "name": "stdout",
     "output_type": "stream",
     "text": [
      "[####                                    ] | 10% Completed | 210.29 s"
     ]
    },
    {
     "name": "stderr",
     "output_type": "stream",
     "text": [
      "\n",
      "2023-08-09 14:09:45,478 - pyscenic.transform - WARNING - Less than 80% of the genes in FOXC1 could be mapped to hg38__refseq-r80__10kb_up_and_down_tss.mc9nr.genes_vs_motifs.rankings. Skipping this module.\n",
      "\n",
      "2023-08-09 14:09:45,628 - pyscenic.transform - WARNING - Less than 80% of the genes in FOXM1 could be mapped to hg38__refseq-r80__10kb_up_and_down_tss.mc9nr.genes_vs_motifs.rankings. Skipping this module.\n"
     ]
    },
    {
     "name": "stdout",
     "output_type": "stream",
     "text": [
      "[####                                    ] | 10% Completed | 216.16 s"
     ]
    },
    {
     "name": "stderr",
     "output_type": "stream",
     "text": [
      "\n",
      "2023-08-09 14:09:51,329 - pyscenic.transform - WARNING - Less than 80% of the genes in HOXB5 could be mapped to hg38__refseq-r80__10kb_up_and_down_tss.mc9nr.genes_vs_motifs.rankings. Skipping this module.\n"
     ]
    },
    {
     "name": "stdout",
     "output_type": "stream",
     "text": [
      "[####                                    ] | 10% Completed | 218.73 s"
     ]
    },
    {
     "name": "stderr",
     "output_type": "stream",
     "text": [
      "\n",
      "2023-08-09 14:09:53,885 - pyscenic.transform - WARNING - Less than 80% of the genes in INSM1 could be mapped to hg38__refseq-r80__10kb_up_and_down_tss.mc9nr.genes_vs_motifs.rankings. Skipping this module.\n"
     ]
    },
    {
     "name": "stdout",
     "output_type": "stream",
     "text": [
      "[####                                    ] | 10% Completed | 224.60 s"
     ]
    },
    {
     "name": "stderr",
     "output_type": "stream",
     "text": [
      "\n",
      "2023-08-09 14:09:59,791 - pyscenic.transform - WARNING - Less than 80% of the genes in KIF22 could be mapped to hg38__refseq-r80__10kb_up_and_down_tss.mc9nr.genes_vs_motifs.rankings. Skipping this module.\n",
      "\n",
      "2023-08-09 14:09:59,983 - pyscenic.transform - WARNING - Less than 80% of the genes in KLF10 could be mapped to hg38__refseq-r80__10kb_up_and_down_tss.mc9nr.genes_vs_motifs.rankings. Skipping this module.\n"
     ]
    },
    {
     "name": "stdout",
     "output_type": "stream",
     "text": [
      "[####                                    ] | 10% Completed | 227.35 s"
     ]
    },
    {
     "name": "stderr",
     "output_type": "stream",
     "text": [
      "\n",
      "2023-08-09 14:10:02,472 - pyscenic.transform - WARNING - Less than 80% of the genes in KLF4 could be mapped to hg38__refseq-r80__10kb_up_and_down_tss.mc9nr.genes_vs_motifs.rankings. Skipping this module.\n"
     ]
    },
    {
     "name": "stdout",
     "output_type": "stream",
     "text": [
      "[####                                    ] | 10% Completed | 227.77 s"
     ]
    },
    {
     "name": "stderr",
     "output_type": "stream",
     "text": [
      "\n",
      "2023-08-09 14:10:02,905 - pyscenic.transform - WARNING - Less than 80% of the genes in KLF6 could be mapped to hg38__refseq-r80__10kb_up_and_down_tss.mc9nr.genes_vs_motifs.rankings. Skipping this module.\n"
     ]
    },
    {
     "name": "stdout",
     "output_type": "stream",
     "text": [
      "[####                                    ] | 10% Completed | 228.09 s"
     ]
    },
    {
     "name": "stderr",
     "output_type": "stream",
     "text": [
      "\n",
      "2023-08-09 14:10:03,245 - pyscenic.transform - WARNING - Less than 80% of the genes in MAFF could be mapped to hg38__refseq-r80__10kb_up_and_down_tss.mc9nr.genes_vs_motifs.rankings. Skipping this module.\n",
      "\n",
      "2023-08-09 14:10:03,435 - pyscenic.transform - WARNING - Less than 80% of the genes in MELK could be mapped to hg38__refseq-r80__10kb_up_and_down_tss.mc9nr.genes_vs_motifs.rankings. Skipping this module.\n"
     ]
    },
    {
     "name": "stdout",
     "output_type": "stream",
     "text": [
      "[####                                    ] | 10% Completed | 230.02 s"
     ]
    },
    {
     "name": "stderr",
     "output_type": "stream",
     "text": [
      "\n",
      "2023-08-09 14:10:05,211 - pyscenic.transform - WARNING - Less than 80% of the genes in MYC could be mapped to hg38__refseq-r80__10kb_up_and_down_tss.mc9nr.genes_vs_motifs.rankings. Skipping this module.\n"
     ]
    },
    {
     "name": "stdout",
     "output_type": "stream",
     "text": [
      "[####                                    ] | 10% Completed | 230.44 s"
     ]
    },
    {
     "name": "stderr",
     "output_type": "stream",
     "text": [
      "\n",
      "2023-08-09 14:10:05,585 - pyscenic.transform - WARNING - Less than 80% of the genes in NKX2-2 could be mapped to hg38__refseq-r80__10kb_up_and_down_tss.mc9nr.genes_vs_motifs.rankings. Skipping this module.\n"
     ]
    },
    {
     "name": "stdout",
     "output_type": "stream",
     "text": [
      "[####                                    ] | 10% Completed | 231.08 s"
     ]
    },
    {
     "name": "stderr",
     "output_type": "stream",
     "text": [
      "\n",
      "2023-08-09 14:10:06,230 - pyscenic.transform - WARNING - Less than 80% of the genes in NR0B1 could be mapped to hg38__refseq-r80__10kb_up_and_down_tss.mc9nr.genes_vs_motifs.rankings. Skipping this module.\n"
     ]
    },
    {
     "name": "stdout",
     "output_type": "stream",
     "text": [
      "[####                                    ] | 10% Completed | 231.50 s"
     ]
    },
    {
     "name": "stderr",
     "output_type": "stream",
     "text": [
      "\n",
      "2023-08-09 14:10:06,637 - pyscenic.transform - WARNING - Less than 80% of the genes in NR4A2 could be mapped to hg38__refseq-r80__10kb_up_and_down_tss.mc9nr.genes_vs_motifs.rankings. Skipping this module.\n"
     ]
    },
    {
     "name": "stdout",
     "output_type": "stream",
     "text": [
      "[####                                    ] | 10% Completed | 232.55 s"
     ]
    },
    {
     "name": "stderr",
     "output_type": "stream",
     "text": [
      "\n",
      "2023-08-09 14:10:07,738 - pyscenic.transform - WARNING - Less than 80% of the genes in OSR2 could be mapped to hg38__refseq-r80__10kb_up_and_down_tss.mc9nr.genes_vs_motifs.rankings. Skipping this module.\n"
     ]
    },
    {
     "name": "stdout",
     "output_type": "stream",
     "text": [
      "[####                                    ] | 10% Completed | 233.18 s"
     ]
    },
    {
     "name": "stderr",
     "output_type": "stream",
     "text": [
      "\n",
      "2023-08-09 14:10:08,341 - pyscenic.transform - WARNING - Less than 80% of the genes in POLE3 could be mapped to hg38__refseq-r80__10kb_up_and_down_tss.mc9nr.genes_vs_motifs.rankings. Skipping this module.\n"
     ]
    },
    {
     "name": "stdout",
     "output_type": "stream",
     "text": [
      "[####                                    ] | 10% Completed | 233.39 s"
     ]
    },
    {
     "name": "stderr",
     "output_type": "stream",
     "text": [
      "\n",
      "2023-08-09 14:10:08,565 - pyscenic.transform - WARNING - Less than 80% of the genes in POU4F1 could be mapped to hg38__refseq-r80__10kb_up_and_down_tss.mc9nr.genes_vs_motifs.rankings. Skipping this module.\n"
     ]
    },
    {
     "name": "stdout",
     "output_type": "stream",
     "text": [
      "[####                                    ] | 10% Completed | 234.45 s"
     ]
    },
    {
     "name": "stderr",
     "output_type": "stream",
     "text": [
      "\n",
      "2023-08-09 14:10:09,599 - pyscenic.transform - WARNING - Less than 80% of the genes in PPARG could be mapped to hg38__refseq-r80__10kb_up_and_down_tss.mc9nr.genes_vs_motifs.rankings. Skipping this module.\n",
      "\n",
      "2023-08-09 14:10:09,775 - pyscenic.transform - WARNING - Less than 80% of the genes in PPARGC1A could be mapped to hg38__refseq-r80__10kb_up_and_down_tss.mc9nr.genes_vs_motifs.rankings. Skipping this module.\n"
     ]
    },
    {
     "name": "stdout",
     "output_type": "stream",
     "text": [
      "[####                                    ] | 10% Completed | 239.50 s"
     ]
    },
    {
     "name": "stderr",
     "output_type": "stream",
     "text": [
      "\n",
      "2023-08-09 14:10:14,675 - pyscenic.transform - WARNING - Less than 80% of the genes in RUNX3 could be mapped to hg38__refseq-r80__10kb_up_and_down_tss.mc9nr.genes_vs_motifs.rankings. Skipping this module.\n"
     ]
    },
    {
     "name": "stdout",
     "output_type": "stream",
     "text": [
      "[####                                    ] | 10% Completed | 243.35 s"
     ]
    },
    {
     "name": "stderr",
     "output_type": "stream",
     "text": [
      "\n",
      "2023-08-09 14:10:18,548 - pyscenic.transform - WARNING - Less than 80% of the genes in TBX3 could be mapped to hg38__refseq-r80__10kb_up_and_down_tss.mc9nr.genes_vs_motifs.rankings. Skipping this module.\n"
     ]
    },
    {
     "name": "stdout",
     "output_type": "stream",
     "text": [
      "[####                                    ] | 10% Completed | 244.31 s"
     ]
    },
    {
     "name": "stderr",
     "output_type": "stream",
     "text": [
      "\n",
      "2023-08-09 14:10:19,457 - pyscenic.transform - WARNING - Less than 80% of the genes in ZIC2 could be mapped to hg38__refseq-r80__10kb_up_and_down_tss.mc9nr.genes_vs_motifs.rankings. Skipping this module.\n",
      "\n",
      "2023-08-09 14:10:19,628 - pyscenic.transform - WARNING - Less than 80% of the genes in ZNF165 could be mapped to hg38__refseq-r80__10kb_up_and_down_tss.mc9nr.genes_vs_motifs.rankings. Skipping this module.\n"
     ]
    },
    {
     "name": "stdout",
     "output_type": "stream",
     "text": [
      "[####                                    ] | 10% Completed | 244.63 s"
     ]
    },
    {
     "name": "stderr",
     "output_type": "stream",
     "text": [
      "\n",
      "2023-08-09 14:10:19,821 - pyscenic.transform - WARNING - Less than 80% of the genes in ZNF322 could be mapped to hg38__refseq-r80__10kb_up_and_down_tss.mc9nr.genes_vs_motifs.rankings. Skipping this module.\n",
      "\n",
      "2023-08-09 14:10:19,935 - pyscenic.transform - WARNING - Less than 80% of the genes in ZNF503 could be mapped to hg38__refseq-r80__10kb_up_and_down_tss.mc9nr.genes_vs_motifs.rankings. Skipping this module.\n"
     ]
    },
    {
     "name": "stdout",
     "output_type": "stream",
     "text": [
      "[####                                    ] | 10% Completed | 245.37 s"
     ]
    },
    {
     "name": "stderr",
     "output_type": "stream",
     "text": [
      "\n",
      "2023-08-09 14:10:20,532 - pyscenic.transform - WARNING - Less than 80% of the genes in ARG2 could be mapped to hg38__refseq-r80__10kb_up_and_down_tss.mc9nr.genes_vs_motifs.rankings. Skipping this module.\n",
      "\n",
      "2023-08-09 14:10:20,719 - pyscenic.transform - WARNING - Less than 80% of the genes in ARID5B could be mapped to hg38__refseq-r80__10kb_up_and_down_tss.mc9nr.genes_vs_motifs.rankings. Skipping this module.\n"
     ]
    },
    {
     "name": "stdout",
     "output_type": "stream",
     "text": [
      "[####                                    ] | 10% Completed | 259.10 s"
     ]
    },
    {
     "name": "stderr",
     "output_type": "stream",
     "text": [
      "\n",
      "2023-08-09 14:10:34,262 - pyscenic.transform - WARNING - Less than 80% of the genes in CEBPG could be mapped to hg38__refseq-r80__10kb_up_and_down_tss.mc9nr.genes_vs_motifs.rankings. Skipping this module.\n"
     ]
    },
    {
     "name": "stdout",
     "output_type": "stream",
     "text": [
      "[####                                    ] | 10% Completed | 263.05 s"
     ]
    },
    {
     "name": "stderr",
     "output_type": "stream",
     "text": [
      "\n",
      "2023-08-09 14:10:38,160 - pyscenic.transform - WARNING - Less than 80% of the genes in DMRTA1 could be mapped to hg38__refseq-r80__10kb_up_and_down_tss.mc9nr.genes_vs_motifs.rankings. Skipping this module.\n"
     ]
    },
    {
     "name": "stdout",
     "output_type": "stream",
     "text": [
      "[####                                    ] | 10% Completed | 266.56 s"
     ]
    },
    {
     "name": "stderr",
     "output_type": "stream",
     "text": [
      "\n",
      "2023-08-09 14:10:41,768 - pyscenic.transform - WARNING - Less than 80% of the genes in E2F5 could be mapped to hg38__refseq-r80__10kb_up_and_down_tss.mc9nr.genes_vs_motifs.rankings. Skipping this module.\n"
     ]
    },
    {
     "name": "stdout",
     "output_type": "stream",
     "text": [
      "[####                                    ] | 10% Completed | 267.53 s"
     ]
    },
    {
     "name": "stderr",
     "output_type": "stream",
     "text": [
      "\n",
      "2023-08-09 14:10:42,639 - pyscenic.transform - WARNING - Less than 80% of the genes in E2F7 could be mapped to hg38__refseq-r80__10kb_up_and_down_tss.mc9nr.genes_vs_motifs.rankings. Skipping this module.\n"
     ]
    },
    {
     "name": "stdout",
     "output_type": "stream",
     "text": [
      "[####                                    ] | 10% Completed | 269.13 s"
     ]
    },
    {
     "name": "stderr",
     "output_type": "stream",
     "text": [
      "\n",
      "2023-08-09 14:10:44,253 - pyscenic.transform - WARNING - Less than 80% of the genes in EBF2 could be mapped to hg38__refseq-r80__10kb_up_and_down_tss.mc9nr.genes_vs_motifs.rankings. Skipping this module.\n"
     ]
    },
    {
     "name": "stdout",
     "output_type": "stream",
     "text": [
      "[####                                    ] | 10% Completed | 270.00 s"
     ]
    },
    {
     "name": "stderr",
     "output_type": "stream",
     "text": [
      "\n",
      "2023-08-09 14:10:45,125 - pyscenic.transform - WARNING - Less than 80% of the genes in EGR1 could be mapped to hg38__refseq-r80__10kb_up_and_down_tss.mc9nr.genes_vs_motifs.rankings. Skipping this module.\n"
     ]
    },
    {
     "name": "stdout",
     "output_type": "stream",
     "text": [
      "[####                                    ] | 10% Completed | 271.17 s"
     ]
    },
    {
     "name": "stderr",
     "output_type": "stream",
     "text": [
      "\n",
      "2023-08-09 14:10:46,336 - pyscenic.transform - WARNING - Less than 80% of the genes in EGR2 could be mapped to hg38__refseq-r80__10kb_up_and_down_tss.mc9nr.genes_vs_motifs.rankings. Skipping this module.\n"
     ]
    },
    {
     "name": "stdout",
     "output_type": "stream",
     "text": [
      "[####                                    ] | 10% Completed | 275.56 s"
     ]
    },
    {
     "name": "stderr",
     "output_type": "stream",
     "text": [
      "\n",
      "2023-08-09 14:10:50,679 - pyscenic.transform - WARNING - Less than 80% of the genes in ELF5 could be mapped to hg38__refseq-r80__10kb_up_and_down_tss.mc9nr.genes_vs_motifs.rankings. Skipping this module.\n"
     ]
    },
    {
     "name": "stdout",
     "output_type": "stream",
     "text": [
      "[####                                    ] | 10% Completed | 282.63 s"
     ]
    },
    {
     "name": "stderr",
     "output_type": "stream",
     "text": [
      "\n",
      "2023-08-09 14:10:57,788 - pyscenic.transform - WARNING - Less than 80% of the genes in FOSL1 could be mapped to hg38__refseq-r80__10kb_up_and_down_tss.mc9nr.genes_vs_motifs.rankings. Skipping this module.\n",
      "\n",
      "2023-08-09 14:10:57,961 - pyscenic.transform - WARNING - Less than 80% of the genes in FOXC1 could be mapped to hg38__refseq-r80__10kb_up_and_down_tss.mc9nr.genes_vs_motifs.rankings. Skipping this module.\n"
     ]
    },
    {
     "name": "stdout",
     "output_type": "stream",
     "text": [
      "[####                                    ] | 10% Completed | 282.95 s"
     ]
    },
    {
     "name": "stderr",
     "output_type": "stream",
     "text": [
      "\n",
      "2023-08-09 14:10:58,114 - pyscenic.transform - WARNING - Less than 80% of the genes in FOXJ1 could be mapped to hg38__refseq-r80__10kb_up_and_down_tss.mc9nr.genes_vs_motifs.rankings. Skipping this module.\n"
     ]
    },
    {
     "name": "stdout",
     "output_type": "stream",
     "text": [
      "[####                                    ] | 10% Completed | 286.26 s"
     ]
    },
    {
     "name": "stderr",
     "output_type": "stream",
     "text": [
      "\n",
      "2023-08-09 14:11:01,422 - pyscenic.transform - WARNING - Less than 80% of the genes in ARG2 could be mapped to hg38__refseq-r80__500bp_up_and_100bp_down_tss.mc9nr.genes_vs_motifs.rankings. Skipping this module.\n"
     ]
    },
    {
     "name": "stdout",
     "output_type": "stream",
     "text": [
      "[####                                    ] | 10% Completed | 289.37 s"
     ]
    },
    {
     "name": "stderr",
     "output_type": "stream",
     "text": [
      "\n",
      "2023-08-09 14:11:04,567 - pyscenic.transform - WARNING - Less than 80% of the genes in HIST1H2BN could be mapped to hg38__refseq-r80__10kb_up_and_down_tss.mc9nr.genes_vs_motifs.rankings. Skipping this module.\n"
     ]
    },
    {
     "name": "stdout",
     "output_type": "stream",
     "text": [
      "[####                                    ] | 10% Completed | 291.51 s"
     ]
    },
    {
     "name": "stderr",
     "output_type": "stream",
     "text": [
      "\n",
      "2023-08-09 14:11:06,648 - pyscenic.transform - WARNING - Less than 80% of the genes in HOXB1 could be mapped to hg38__refseq-r80__10kb_up_and_down_tss.mc9nr.genes_vs_motifs.rankings. Skipping this module.\n"
     ]
    },
    {
     "name": "stdout",
     "output_type": "stream",
     "text": [
      "[####                                    ] | 10% Completed | 292.99 s"
     ]
    },
    {
     "name": "stderr",
     "output_type": "stream",
     "text": [
      "\n",
      "2023-08-09 14:11:08,111 - pyscenic.transform - WARNING - Less than 80% of the genes in INSM1 could be mapped to hg38__refseq-r80__10kb_up_and_down_tss.mc9nr.genes_vs_motifs.rankings. Skipping this module.\n"
     ]
    },
    {
     "name": "stdout",
     "output_type": "stream",
     "text": [
      "[####                                    ] | 10% Completed | 299.67 s"
     ]
    },
    {
     "name": "stderr",
     "output_type": "stream",
     "text": [
      "\n",
      "2023-08-09 14:11:14,827 - pyscenic.transform - WARNING - Less than 80% of the genes in CREB5 could be mapped to hg38__refseq-r80__500bp_up_and_100bp_down_tss.mc9nr.genes_vs_motifs.rankings. Skipping this module.\n"
     ]
    },
    {
     "name": "stdout",
     "output_type": "stream",
     "text": [
      "[####                                    ] | 10% Completed | 300.09 s"
     ]
    },
    {
     "name": "stderr",
     "output_type": "stream",
     "text": [
      "\n",
      "2023-08-09 14:11:15,191 - pyscenic.transform - WARNING - Less than 80% of the genes in DACH1 could be mapped to hg38__refseq-r80__500bp_up_and_100bp_down_tss.mc9nr.genes_vs_motifs.rankings. Skipping this module.\n"
     ]
    },
    {
     "name": "stdout",
     "output_type": "stream",
     "text": [
      "[####                                    ] | 10% Completed | 301.25 s"
     ]
    },
    {
     "name": "stderr",
     "output_type": "stream",
     "text": [
      "\n",
      "2023-08-09 14:11:16,351 - pyscenic.transform - WARNING - Less than 80% of the genes in KLF2 could be mapped to hg38__refseq-r80__10kb_up_and_down_tss.mc9nr.genes_vs_motifs.rankings. Skipping this module.\n"
     ]
    },
    {
     "name": "stdout",
     "output_type": "stream",
     "text": [
      "[####                                    ] | 10% Completed | 301.99 s"
     ]
    },
    {
     "name": "stderr",
     "output_type": "stream",
     "text": [
      "\n",
      "2023-08-09 14:11:17,145 - pyscenic.transform - WARNING - Less than 80% of the genes in DMRTA1 could be mapped to hg38__refseq-r80__500bp_up_and_100bp_down_tss.mc9nr.genes_vs_motifs.rankings. Skipping this module.\n"
     ]
    },
    {
     "name": "stdout",
     "output_type": "stream",
     "text": [
      "[####                                    ] | 10% Completed | 303.70 s"
     ]
    },
    {
     "name": "stderr",
     "output_type": "stream",
     "text": [
      "\n",
      "2023-08-09 14:11:18,894 - pyscenic.transform - WARNING - Less than 80% of the genes in KLF4 could be mapped to hg38__refseq-r80__10kb_up_and_down_tss.mc9nr.genes_vs_motifs.rankings. Skipping this module.\n"
     ]
    },
    {
     "name": "stdout",
     "output_type": "stream",
     "text": [
      "[####                                    ] | 10% Completed | 304.22 s"
     ]
    },
    {
     "name": "stderr",
     "output_type": "stream",
     "text": [
      "\n",
      "2023-08-09 14:11:19,366 - pyscenic.transform - WARNING - Less than 80% of the genes in LHX1 could be mapped to hg38__refseq-r80__10kb_up_and_down_tss.mc9nr.genes_vs_motifs.rankings. Skipping this module.\n"
     ]
    },
    {
     "name": "stdout",
     "output_type": "stream",
     "text": [
      "[####                                    ] | 10% Completed | 306.23 s"
     ]
    },
    {
     "name": "stderr",
     "output_type": "stream",
     "text": [
      "\n",
      "2023-08-09 14:11:21,423 - pyscenic.transform - WARNING - Less than 80% of the genes in MEOX2 could be mapped to hg38__refseq-r80__10kb_up_and_down_tss.mc9nr.genes_vs_motifs.rankings. Skipping this module.\n",
      "\n",
      "2023-08-09 14:11:21,615 - pyscenic.transform - WARNING - Less than 80% of the genes in E2F8 could be mapped to hg38__refseq-r80__500bp_up_and_100bp_down_tss.mc9nr.genes_vs_motifs.rankings. Skipping this module.\n"
     ]
    },
    {
     "name": "stdout",
     "output_type": "stream",
     "text": [
      "[####                                    ] | 10% Completed | 306.65 s"
     ]
    },
    {
     "name": "stderr",
     "output_type": "stream",
     "text": [
      "\n",
      "2023-08-09 14:11:21,829 - pyscenic.transform - WARNING - Less than 80% of the genes in EGR1 could be mapped to hg38__refseq-r80__500bp_up_and_100bp_down_tss.mc9nr.genes_vs_motifs.rankings. Skipping this module.\n",
      "\n",
      "2023-08-09 14:11:21,835 - pyscenic.transform - WARNING - Less than 80% of the genes in MYBL1 could be mapped to hg38__refseq-r80__10kb_up_and_down_tss.mc9nr.genes_vs_motifs.rankings. Skipping this module.\n"
     ]
    },
    {
     "name": "stdout",
     "output_type": "stream",
     "text": [
      "[####                                    ] | 10% Completed | 307.17 s"
     ]
    },
    {
     "name": "stderr",
     "output_type": "stream",
     "text": [
      "\n",
      "2023-08-09 14:11:22,274 - pyscenic.transform - WARNING - Less than 80% of the genes in EGR4 could be mapped to hg38__refseq-r80__500bp_up_and_100bp_down_tss.mc9nr.genes_vs_motifs.rankings. Skipping this module.\n",
      "\n",
      "2023-08-09 14:11:22,473 - pyscenic.transform - WARNING - Less than 80% of the genes in EHF could be mapped to hg38__refseq-r80__500bp_up_and_100bp_down_tss.mc9nr.genes_vs_motifs.rankings. Skipping this module.\n"
     ]
    },
    {
     "name": "stdout",
     "output_type": "stream",
     "text": [
      "[####                                    ] | 10% Completed | 307.81 s"
     ]
    },
    {
     "name": "stderr",
     "output_type": "stream",
     "text": [
      "\n",
      "2023-08-09 14:11:22,914 - pyscenic.transform - WARNING - Less than 80% of the genes in ELF5 could be mapped to hg38__refseq-r80__500bp_up_and_100bp_down_tss.mc9nr.genes_vs_motifs.rankings. Skipping this module.\n",
      "\n",
      "2023-08-09 14:11:22,986 - pyscenic.transform - WARNING - Less than 80% of the genes in MYC could be mapped to hg38__refseq-r80__10kb_up_and_down_tss.mc9nr.genes_vs_motifs.rankings. Skipping this module.\n"
     ]
    },
    {
     "name": "stdout",
     "output_type": "stream",
     "text": [
      "[####                                    ] | 10% Completed | 308.01 s"
     ]
    },
    {
     "name": "stderr",
     "output_type": "stream",
     "text": [
      "\n",
      "2023-08-09 14:11:23,178 - pyscenic.transform - WARNING - Less than 80% of the genes in MYCL could be mapped to hg38__refseq-r80__10kb_up_and_down_tss.mc9nr.genes_vs_motifs.rankings. Skipping this module.\n"
     ]
    },
    {
     "name": "stdout",
     "output_type": "stream",
     "text": [
      "[####                                    ] | 10% Completed | 308.33 s"
     ]
    },
    {
     "name": "stderr",
     "output_type": "stream",
     "text": [
      "\n",
      "2023-08-09 14:11:23,459 - pyscenic.transform - WARNING - Less than 80% of the genes in NFIA could be mapped to hg38__refseq-r80__10kb_up_and_down_tss.mc9nr.genes_vs_motifs.rankings. Skipping this module.\n"
     ]
    },
    {
     "name": "stdout",
     "output_type": "stream",
     "text": [
      "[####                                    ] | 10% Completed | 309.17 s"
     ]
    },
    {
     "name": "stderr",
     "output_type": "stream",
     "text": [
      "\n",
      "2023-08-09 14:11:24,349 - pyscenic.transform - WARNING - Less than 80% of the genes in NFIB could be mapped to hg38__refseq-r80__10kb_up_and_down_tss.mc9nr.genes_vs_motifs.rankings. Skipping this module.\n",
      "\n",
      "2023-08-09 14:11:24,526 - pyscenic.transform - WARNING - Less than 80% of the genes in NKX2-2 could be mapped to hg38__refseq-r80__10kb_up_and_down_tss.mc9nr.genes_vs_motifs.rankings. Skipping this module.\n"
     ]
    },
    {
     "name": "stdout",
     "output_type": "stream",
     "text": [
      "[####                                    ] | 10% Completed | 310.25 s"
     ]
    },
    {
     "name": "stderr",
     "output_type": "stream",
     "text": [
      "\n",
      "2023-08-09 14:11:25,388 - pyscenic.transform - WARNING - Less than 80% of the genes in NKX2-5 could be mapped to hg38__refseq-r80__10kb_up_and_down_tss.mc9nr.genes_vs_motifs.rankings. Skipping this module.\n"
     ]
    },
    {
     "name": "stdout",
     "output_type": "stream",
     "text": [
      "[####                                    ] | 10% Completed | 310.66 s"
     ]
    },
    {
     "name": "stderr",
     "output_type": "stream",
     "text": [
      "\n",
      "2023-08-09 14:11:25,856 - pyscenic.transform - WARNING - Less than 80% of the genes in NR0B1 could be mapped to hg38__refseq-r80__10kb_up_and_down_tss.mc9nr.genes_vs_motifs.rankings. Skipping this module.\n"
     ]
    },
    {
     "name": "stdout",
     "output_type": "stream",
     "text": [
      "[####                                    ] | 10% Completed | 311.51 s"
     ]
    },
    {
     "name": "stderr",
     "output_type": "stream",
     "text": [
      "\n",
      "2023-08-09 14:11:26,660 - pyscenic.transform - WARNING - Less than 80% of the genes in NR2F2 could be mapped to hg38__refseq-r80__10kb_up_and_down_tss.mc9nr.genes_vs_motifs.rankings. Skipping this module.\n",
      "\n",
      "2023-08-09 14:11:26,814 - pyscenic.transform - WARNING - Less than 80% of the genes in NR4A1 could be mapped to hg38__refseq-r80__10kb_up_and_down_tss.mc9nr.genes_vs_motifs.rankings. Skipping this module.\n"
     ]
    },
    {
     "name": "stdout",
     "output_type": "stream",
     "text": [
      "[####                                    ] | 10% Completed | 312.03 s"
     ]
    },
    {
     "name": "stderr",
     "output_type": "stream",
     "text": [
      "\n",
      "2023-08-09 14:11:27,226 - pyscenic.transform - WARNING - Less than 80% of the genes in FOSB could be mapped to hg38__refseq-r80__500bp_up_and_100bp_down_tss.mc9nr.genes_vs_motifs.rankings. Skipping this module.\n"
     ]
    },
    {
     "name": "stdout",
     "output_type": "stream",
     "text": [
      "[####                                    ] | 10% Completed | 312.89 s"
     ]
    },
    {
     "name": "stderr",
     "output_type": "stream",
     "text": [
      "\n",
      "2023-08-09 14:11:28,035 - pyscenic.transform - WARNING - Less than 80% of the genes in OSR2 could be mapped to hg38__refseq-r80__10kb_up_and_down_tss.mc9nr.genes_vs_motifs.rankings. Skipping this module.\n",
      "\n",
      "2023-08-09 14:11:28,130 - pyscenic.transform - WARNING - Less than 80% of the genes in PAX6 could be mapped to hg38__refseq-r80__10kb_up_and_down_tss.mc9nr.genes_vs_motifs.rankings. Skipping this module.\n"
     ]
    },
    {
     "name": "stdout",
     "output_type": "stream",
     "text": [
      "[####                                    ] | 10% Completed | 313.21 s"
     ]
    },
    {
     "name": "stderr",
     "output_type": "stream",
     "text": [
      "\n",
      "2023-08-09 14:11:28,349 - pyscenic.transform - WARNING - Less than 80% of the genes in FOXC1 could be mapped to hg38__refseq-r80__500bp_up_and_100bp_down_tss.mc9nr.genes_vs_motifs.rankings. Skipping this module.\n"
     ]
    },
    {
     "name": "stdout",
     "output_type": "stream",
     "text": [
      "[####                                    ] | 10% Completed | 313.63 s"
     ]
    },
    {
     "name": "stderr",
     "output_type": "stream",
     "text": [
      "\n",
      "2023-08-09 14:11:28,823 - pyscenic.transform - WARNING - Less than 80% of the genes in POU2AF1 could be mapped to hg38__refseq-r80__10kb_up_and_down_tss.mc9nr.genes_vs_motifs.rankings. Skipping this module.\n",
      "\n",
      "2023-08-09 14:11:28,918 - pyscenic.transform - WARNING - Less than 80% of the genes in POU2F2 could be mapped to hg38__refseq-r80__10kb_up_and_down_tss.mc9nr.genes_vs_motifs.rankings. Skipping this module.\n",
      "\n",
      "2023-08-09 14:11:29,009 - pyscenic.transform - WARNING - Less than 80% of the genes in POU3F2 could be mapped to hg38__refseq-r80__10kb_up_and_down_tss.mc9nr.genes_vs_motifs.rankings. Skipping this module.\n"
     ]
    },
    {
     "name": "stdout",
     "output_type": "stream",
     "text": [
      "[####                                    ] | 10% Completed | 313.94 s"
     ]
    },
    {
     "name": "stderr",
     "output_type": "stream",
     "text": [
      "\n",
      "2023-08-09 14:11:29,139 - pyscenic.transform - WARNING - Less than 80% of the genes in POU4F1 could be mapped to hg38__refseq-r80__10kb_up_and_down_tss.mc9nr.genes_vs_motifs.rankings. Skipping this module.\n",
      "\n",
      "2023-08-09 14:11:29,261 - pyscenic.transform - WARNING - Less than 80% of the genes in PPARG could be mapped to hg38__refseq-r80__10kb_up_and_down_tss.mc9nr.genes_vs_motifs.rankings. Skipping this module.\n",
      "\n",
      "2023-08-09 14:11:29,300 - pyscenic.transform - WARNING - Less than 80% of the genes in FOXM1 could be mapped to hg38__refseq-r80__500bp_up_and_100bp_down_tss.mc9nr.genes_vs_motifs.rankings. Skipping this module.\n"
     ]
    },
    {
     "name": "stdout",
     "output_type": "stream",
     "text": [
      "[####                                    ] | 10% Completed | 314.25 s"
     ]
    },
    {
     "name": "stderr",
     "output_type": "stream",
     "text": [
      "\n",
      "2023-08-09 14:11:29,360 - pyscenic.transform - WARNING - Less than 80% of the genes in PPARGC1A could be mapped to hg38__refseq-r80__10kb_up_and_down_tss.mc9nr.genes_vs_motifs.rankings. Skipping this module.\n"
     ]
    },
    {
     "name": "stdout",
     "output_type": "stream",
     "text": [
      "[####                                    ] | 10% Completed | 318.50 s"
     ]
    },
    {
     "name": "stderr",
     "output_type": "stream",
     "text": [
      "\n",
      "2023-08-09 14:11:33,668 - pyscenic.transform - WARNING - Less than 80% of the genes in RUNX3 could be mapped to hg38__refseq-r80__10kb_up_and_down_tss.mc9nr.genes_vs_motifs.rankings. Skipping this module.\n"
     ]
    },
    {
     "name": "stdout",
     "output_type": "stream",
     "text": [
      "[####                                    ] | 10% Completed | 318.82 s"
     ]
    },
    {
     "name": "stderr",
     "output_type": "stream",
     "text": [
      "\n",
      "2023-08-09 14:11:33,950 - pyscenic.transform - WARNING - Less than 80% of the genes in SIX1 could be mapped to hg38__refseq-r80__10kb_up_and_down_tss.mc9nr.genes_vs_motifs.rankings. Skipping this module.\n",
      "\n",
      "2023-08-09 14:11:34,130 - pyscenic.transform - WARNING - Less than 80% of the genes in SMARCA1 could be mapped to hg38__refseq-r80__10kb_up_and_down_tss.mc9nr.genes_vs_motifs.rankings. Skipping this module.\n"
     ]
    },
    {
     "name": "stdout",
     "output_type": "stream",
     "text": [
      "[####                                    ] | 10% Completed | 321.27 s"
     ]
    },
    {
     "name": "stderr",
     "output_type": "stream",
     "text": [
      "\n",
      "2023-08-09 14:11:36,388 - pyscenic.transform - WARNING - Less than 80% of the genes in HOXB5 could be mapped to hg38__refseq-r80__500bp_up_and_100bp_down_tss.mc9nr.genes_vs_motifs.rankings. Skipping this module.\n"
     ]
    },
    {
     "name": "stdout",
     "output_type": "stream",
     "text": [
      "[####                                    ] | 10% Completed | 322.44 s"
     ]
    },
    {
     "name": "stderr",
     "output_type": "stream",
     "text": [
      "\n",
      "2023-08-09 14:11:37,641 - pyscenic.transform - WARNING - Less than 80% of the genes in INSM1 could be mapped to hg38__refseq-r80__500bp_up_and_100bp_down_tss.mc9nr.genes_vs_motifs.rankings. Skipping this module.\n"
     ]
    },
    {
     "name": "stdout",
     "output_type": "stream",
     "text": [
      "[####                                    ] | 10% Completed | 323.92 s"
     ]
    },
    {
     "name": "stderr",
     "output_type": "stream",
     "text": [
      "\n",
      "2023-08-09 14:11:39,029 - pyscenic.transform - WARNING - Less than 80% of the genes in SP5 could be mapped to hg38__refseq-r80__10kb_up_and_down_tss.mc9nr.genes_vs_motifs.rankings. Skipping this module.\n"
     ]
    },
    {
     "name": "stdout",
     "output_type": "stream",
     "text": [
      "[####                                    ] | 10% Completed | 324.87 s"
     ]
    },
    {
     "name": "stderr",
     "output_type": "stream",
     "text": [
      "\n",
      "2023-08-09 14:11:39,971 - pyscenic.transform - WARNING - Less than 80% of the genes in KIF22 could be mapped to hg38__refseq-r80__500bp_up_and_100bp_down_tss.mc9nr.genes_vs_motifs.rankings. Skipping this module.\n",
      "\n",
      "2023-08-09 14:11:40,129 - pyscenic.transform - WARNING - Less than 80% of the genes in STAT6 could be mapped to hg38__refseq-r80__10kb_up_and_down_tss.mc9nr.genes_vs_motifs.rankings. Skipping this module.\n",
      "\n",
      "2023-08-09 14:11:40,146 - pyscenic.transform - WARNING - Less than 80% of the genes in KLF10 could be mapped to hg38__refseq-r80__500bp_up_and_100bp_down_tss.mc9nr.genes_vs_motifs.rankings. Skipping this module.\n"
     ]
    },
    {
     "name": "stdout",
     "output_type": "stream",
     "text": [
      "[####                                    ] | 10% Completed | 325.19 s"
     ]
    },
    {
     "name": "stderr",
     "output_type": "stream",
     "text": [
      "\n",
      "2023-08-09 14:11:40,316 - pyscenic.transform - WARNING - Less than 80% of the genes in TAL2 could be mapped to hg38__refseq-r80__10kb_up_and_down_tss.mc9nr.genes_vs_motifs.rankings. Skipping this module.\n",
      "\n",
      "2023-08-09 14:11:40,496 - pyscenic.transform - WARNING - Less than 80% of the genes in TBX3 could be mapped to hg38__refseq-r80__10kb_up_and_down_tss.mc9nr.genes_vs_motifs.rankings. Skipping this module.\n"
     ]
    },
    {
     "name": "stdout",
     "output_type": "stream",
     "text": [
      "[####                                    ] | 10% Completed | 326.35 s"
     ]
    },
    {
     "name": "stderr",
     "output_type": "stream",
     "text": [
      "\n",
      "2023-08-09 14:11:41,468 - pyscenic.transform - WARNING - Less than 80% of the genes in TGIF1 could be mapped to hg38__refseq-r80__10kb_up_and_down_tss.mc9nr.genes_vs_motifs.rankings. Skipping this module.\n"
     ]
    },
    {
     "name": "stdout",
     "output_type": "stream",
     "text": [
      "[####                                    ] | 10% Completed | 326.67 s"
     ]
    },
    {
     "name": "stderr",
     "output_type": "stream",
     "text": [
      "\n",
      "2023-08-09 14:11:41,852 - pyscenic.transform - WARNING - Less than 80% of the genes in KLF4 could be mapped to hg38__refseq-r80__500bp_up_and_100bp_down_tss.mc9nr.genes_vs_motifs.rankings. Skipping this module.\n"
     ]
    },
    {
     "name": "stdout",
     "output_type": "stream",
     "text": [
      "[####                                    ] | 10% Completed | 327.09 s"
     ]
    },
    {
     "name": "stderr",
     "output_type": "stream",
     "text": [
      "\n",
      "2023-08-09 14:11:42,225 - pyscenic.transform - WARNING - Less than 80% of the genes in KLF6 could be mapped to hg38__refseq-r80__500bp_up_and_100bp_down_tss.mc9nr.genes_vs_motifs.rankings. Skipping this module.\n",
      "\n",
      "2023-08-09 14:11:42,233 - pyscenic.transform - WARNING - Less than 80% of the genes in TRIB1 could be mapped to hg38__refseq-r80__10kb_up_and_down_tss.mc9nr.genes_vs_motifs.rankings. Skipping this module.\n"
     ]
    },
    {
     "name": "stdout",
     "output_type": "stream",
     "text": [
      "[####                                    ] | 10% Completed | 327.52 s"
     ]
    },
    {
     "name": "stderr",
     "output_type": "stream",
     "text": [
      "\n",
      "2023-08-09 14:11:42,628 - pyscenic.transform - WARNING - Less than 80% of the genes in MAFF could be mapped to hg38__refseq-r80__500bp_up_and_100bp_down_tss.mc9nr.genes_vs_motifs.rankings. Skipping this module.\n",
      "\n",
      "2023-08-09 14:11:42,800 - pyscenic.transform - WARNING - Less than 80% of the genes in MELK could be mapped to hg38__refseq-r80__500bp_up_and_100bp_down_tss.mc9nr.genes_vs_motifs.rankings. Skipping this module.\n"
     ]
    },
    {
     "name": "stdout",
     "output_type": "stream",
     "text": [
      "[####                                    ] | 10% Completed | 328.67 s"
     ]
    },
    {
     "name": "stderr",
     "output_type": "stream",
     "text": [
      "\n",
      "2023-08-09 14:11:43,838 - pyscenic.transform - WARNING - Less than 80% of the genes in ZIC2 could be mapped to hg38__refseq-r80__10kb_up_and_down_tss.mc9nr.genes_vs_motifs.rankings. Skipping this module.\n",
      "\n",
      "2023-08-09 14:11:43,845 - pyscenic.transform - WARNING - Less than 80% of the genes in MYC could be mapped to hg38__refseq-r80__500bp_up_and_100bp_down_tss.mc9nr.genes_vs_motifs.rankings. Skipping this module.\n",
      "\n",
      "2023-08-09 14:11:44,005 - pyscenic.transform - WARNING - Less than 80% of the genes in ZNF165 could be mapped to hg38__refseq-r80__10kb_up_and_down_tss.mc9nr.genes_vs_motifs.rankings. Skipping this module.\n"
     ]
    },
    {
     "name": "stdout",
     "output_type": "stream",
     "text": [
      "[####                                    ] | 10% Completed | 328.99 s"
     ]
    },
    {
     "name": "stderr",
     "output_type": "stream",
     "text": [
      "\n",
      "2023-08-09 14:11:44,178 - pyscenic.transform - WARNING - Less than 80% of the genes in NKX2-2 could be mapped to hg38__refseq-r80__500bp_up_and_100bp_down_tss.mc9nr.genes_vs_motifs.rankings. Skipping this module.\n",
      "\n",
      "2023-08-09 14:11:44,189 - pyscenic.transform - WARNING - Less than 80% of the genes in ZNF322 could be mapped to hg38__refseq-r80__10kb_up_and_down_tss.mc9nr.genes_vs_motifs.rankings. Skipping this module.\n"
     ]
    },
    {
     "name": "stdout",
     "output_type": "stream",
     "text": [
      "[####                                    ] | 10% Completed | 329.40 s"
     ]
    },
    {
     "name": "stderr",
     "output_type": "stream",
     "text": [
      "\n",
      "2023-08-09 14:11:44,524 - pyscenic.transform - WARNING - Less than 80% of the genes in ZNF503 could be mapped to hg38__refseq-r80__10kb_up_and_down_tss.mc9nr.genes_vs_motifs.rankings. Skipping this module.\n"
     ]
    },
    {
     "name": "stdout",
     "output_type": "stream",
     "text": [
      "[####                                    ] | 10% Completed | 329.61 s"
     ]
    },
    {
     "name": "stderr",
     "output_type": "stream",
     "text": [
      "\n",
      "2023-08-09 14:11:44,772 - pyscenic.transform - WARNING - Less than 80% of the genes in NR0B1 could be mapped to hg38__refseq-r80__500bp_up_and_100bp_down_tss.mc9nr.genes_vs_motifs.rankings. Skipping this module.\n"
     ]
    },
    {
     "name": "stdout",
     "output_type": "stream",
     "text": [
      "[##########                              ] | 25% Completed | 330.73 s"
     ]
    },
    {
     "name": "stderr",
     "output_type": "stream",
     "text": [
      "\n",
      "2023-08-09 14:11:45,845 - pyscenic.transform - WARNING - Less than 80% of the genes in NR4A2 could be mapped to hg38__refseq-r80__500bp_up_and_100bp_down_tss.mc9nr.genes_vs_motifs.rankings. Skipping this module.\n"
     ]
    },
    {
     "name": "stdout",
     "output_type": "stream",
     "text": [
      "[################                        ] | 40% Completed | 331.81 s"
     ]
    },
    {
     "name": "stderr",
     "output_type": "stream",
     "text": [
      "\n",
      "2023-08-09 14:11:46,924 - pyscenic.transform - WARNING - Less than 80% of the genes in OSR2 could be mapped to hg38__refseq-r80__500bp_up_and_100bp_down_tss.mc9nr.genes_vs_motifs.rankings. Skipping this module.\n"
     ]
    },
    {
     "name": "stdout",
     "output_type": "stream",
     "text": [
      "[################                        ] | 40% Completed | 332.34 s"
     ]
    },
    {
     "name": "stderr",
     "output_type": "stream",
     "text": [
      "\n",
      "2023-08-09 14:11:47,454 - pyscenic.transform - WARNING - Less than 80% of the genes in POLE3 could be mapped to hg38__refseq-r80__500bp_up_and_100bp_down_tss.mc9nr.genes_vs_motifs.rankings. Skipping this module.\n"
     ]
    },
    {
     "name": "stdout",
     "output_type": "stream",
     "text": [
      "[################                        ] | 40% Completed | 333.18 s"
     ]
    },
    {
     "name": "stderr",
     "output_type": "stream",
     "text": [
      "\n",
      "2023-08-09 14:11:48,347 - pyscenic.transform - WARNING - Less than 80% of the genes in POU4F1 could be mapped to hg38__refseq-r80__500bp_up_and_100bp_down_tss.mc9nr.genes_vs_motifs.rankings. Skipping this module.\n"
     ]
    },
    {
     "name": "stdout",
     "output_type": "stream",
     "text": [
      "[################                        ] | 40% Completed | 333.39 s"
     ]
    },
    {
     "name": "stderr",
     "output_type": "stream",
     "text": [
      "\n",
      "2023-08-09 14:11:48,569 - pyscenic.transform - WARNING - Less than 80% of the genes in PPARG could be mapped to hg38__refseq-r80__500bp_up_and_100bp_down_tss.mc9nr.genes_vs_motifs.rankings. Skipping this module.\n",
      "\n",
      "2023-08-09 14:11:48,724 - pyscenic.transform - WARNING - Less than 80% of the genes in PPARGC1A could be mapped to hg38__refseq-r80__500bp_up_and_100bp_down_tss.mc9nr.genes_vs_motifs.rankings. Skipping this module.\n"
     ]
    },
    {
     "name": "stdout",
     "output_type": "stream",
     "text": [
      "[################                        ] | 40% Completed | 336.81 s"
     ]
    },
    {
     "name": "stderr",
     "output_type": "stream",
     "text": [
      "\n",
      "2023-08-09 14:11:51,948 - pyscenic.transform - WARNING - Less than 80% of the genes in RUNX3 could be mapped to hg38__refseq-r80__500bp_up_and_100bp_down_tss.mc9nr.genes_vs_motifs.rankings. Skipping this module.\n"
     ]
    },
    {
     "name": "stdout",
     "output_type": "stream",
     "text": [
      "[################                        ] | 40% Completed | 341.30 s"
     ]
    },
    {
     "name": "stderr",
     "output_type": "stream",
     "text": [
      "\n",
      "2023-08-09 14:11:56,429 - pyscenic.transform - WARNING - Less than 80% of the genes in TBX3 could be mapped to hg38__refseq-r80__500bp_up_and_100bp_down_tss.mc9nr.genes_vs_motifs.rankings. Skipping this module.\n"
     ]
    },
    {
     "name": "stdout",
     "output_type": "stream",
     "text": [
      "[################                        ] | 40% Completed | 342.36 s"
     ]
    },
    {
     "name": "stderr",
     "output_type": "stream",
     "text": [
      "\n",
      "2023-08-09 14:11:57,477 - pyscenic.transform - WARNING - Less than 80% of the genes in ZIC2 could be mapped to hg38__refseq-r80__500bp_up_and_100bp_down_tss.mc9nr.genes_vs_motifs.rankings. Skipping this module.\n"
     ]
    },
    {
     "name": "stdout",
     "output_type": "stream",
     "text": [
      "[################                        ] | 40% Completed | 342.57 s"
     ]
    },
    {
     "name": "stderr",
     "output_type": "stream",
     "text": [
      "\n",
      "2023-08-09 14:11:57,686 - pyscenic.transform - WARNING - Less than 80% of the genes in ZNF165 could be mapped to hg38__refseq-r80__500bp_up_and_100bp_down_tss.mc9nr.genes_vs_motifs.rankings. Skipping this module.\n"
     ]
    },
    {
     "name": "stdout",
     "output_type": "stream",
     "text": [
      "[################                        ] | 40% Completed | 342.79 s"
     ]
    },
    {
     "name": "stderr",
     "output_type": "stream",
     "text": [
      "\n",
      "2023-08-09 14:11:57,910 - pyscenic.transform - WARNING - Less than 80% of the genes in ZNF322 could be mapped to hg38__refseq-r80__500bp_up_and_100bp_down_tss.mc9nr.genes_vs_motifs.rankings. Skipping this module.\n",
      "\n",
      "2023-08-09 14:11:58,014 - pyscenic.transform - WARNING - Less than 80% of the genes in ZNF503 could be mapped to hg38__refseq-r80__500bp_up_and_100bp_down_tss.mc9nr.genes_vs_motifs.rankings. Skipping this module.\n"
     ]
    },
    {
     "name": "stdout",
     "output_type": "stream",
     "text": [
      "[################                        ] | 40% Completed | 343.43 s"
     ]
    },
    {
     "name": "stderr",
     "output_type": "stream",
     "text": [
      "\n",
      "2023-08-09 14:11:58,618 - pyscenic.transform - WARNING - Less than 80% of the genes in ARG2 could be mapped to hg38__refseq-r80__500bp_up_and_100bp_down_tss.mc9nr.genes_vs_motifs.rankings. Skipping this module.\n",
      "\n",
      "2023-08-09 14:11:58,794 - pyscenic.transform - WARNING - Less than 80% of the genes in ARID5B could be mapped to hg38__refseq-r80__500bp_up_and_100bp_down_tss.mc9nr.genes_vs_motifs.rankings. Skipping this module.\n"
     ]
    },
    {
     "name": "stdout",
     "output_type": "stream",
     "text": [
      "[################                        ] | 40% Completed | 353.78 s"
     ]
    },
    {
     "name": "stderr",
     "output_type": "stream",
     "text": [
      "\n",
      "2023-08-09 14:12:08,969 - pyscenic.transform - WARNING - Less than 80% of the genes in CEBPG could be mapped to hg38__refseq-r80__500bp_up_and_100bp_down_tss.mc9nr.genes_vs_motifs.rankings. Skipping this module.\n"
     ]
    },
    {
     "name": "stdout",
     "output_type": "stream",
     "text": [
      "[################                        ] | 40% Completed | 357.84 s"
     ]
    },
    {
     "name": "stderr",
     "output_type": "stream",
     "text": [
      "\n",
      "2023-08-09 14:12:12,971 - pyscenic.transform - WARNING - Less than 80% of the genes in DMRTA1 could be mapped to hg38__refseq-r80__500bp_up_and_100bp_down_tss.mc9nr.genes_vs_motifs.rankings. Skipping this module.\n"
     ]
    },
    {
     "name": "stdout",
     "output_type": "stream",
     "text": [
      "[################                        ] | 40% Completed | 361.29 s"
     ]
    },
    {
     "name": "stderr",
     "output_type": "stream",
     "text": [
      "\n",
      "2023-08-09 14:12:16,489 - pyscenic.transform - WARNING - Less than 80% of the genes in E2F5 could be mapped to hg38__refseq-r80__500bp_up_and_100bp_down_tss.mc9nr.genes_vs_motifs.rankings. Skipping this module.\n"
     ]
    },
    {
     "name": "stdout",
     "output_type": "stream",
     "text": [
      "[################                        ] | 40% Completed | 362.25 s"
     ]
    },
    {
     "name": "stderr",
     "output_type": "stream",
     "text": [
      "\n",
      "2023-08-09 14:12:17,438 - pyscenic.transform - WARNING - Less than 80% of the genes in E2F7 could be mapped to hg38__refseq-r80__500bp_up_and_100bp_down_tss.mc9nr.genes_vs_motifs.rankings. Skipping this module.\n"
     ]
    },
    {
     "name": "stdout",
     "output_type": "stream",
     "text": [
      "[################                        ] | 40% Completed | 363.97 s"
     ]
    },
    {
     "name": "stderr",
     "output_type": "stream",
     "text": [
      "\n",
      "2023-08-09 14:12:19,100 - pyscenic.transform - WARNING - Less than 80% of the genes in EBF2 could be mapped to hg38__refseq-r80__500bp_up_and_100bp_down_tss.mc9nr.genes_vs_motifs.rankings. Skipping this module.\n",
      "\n",
      "2023-08-09 14:12:19,224 - pyscenic.transform - WARNING - Less than 80% of the genes in EGR1 could be mapped to hg38__refseq-r80__500bp_up_and_100bp_down_tss.mc9nr.genes_vs_motifs.rankings. Skipping this module.\n"
     ]
    },
    {
     "name": "stdout",
     "output_type": "stream",
     "text": [
      "[########################################] | 100% Completed | 387.02 s\n",
      "\n",
      "COMPLETED WRITING ENRICHED MOTIFS /home/linl5/project/SCLC/data/lx108/lx108.UUUU.1.motifs.csv \n",
      "\n",
      "                             Enrichment                                  \\\n",
      "                                    AUC       NES MotifSimilarityQvalue   \n",
      "TF   MotifID                                                              \n",
      "ATF3 yetfasco__YER045C_8       0.068037  3.091378              0.000980   \n",
      "     transfac_pro__M07414      0.074021  3.637534              0.000972   \n",
      "     transfac_public__M00017   0.072299  3.480314              0.000960   \n",
      "     transfac_pro__M03538      0.074452  3.676879              0.000887   \n",
      "     transfac_pro__M07265      0.069995  3.270043              0.000853   \n",
      "\n",
      "                                                  \\\n",
      "                             OrthologousIdentity   \n",
      "TF   MotifID                                       \n",
      "ATF3 yetfasco__YER045C_8                1.000000   \n",
      "     transfac_pro__M07414               1.000000   \n",
      "     transfac_public__M00017            1.000000   \n",
      "     transfac_pro__M03538               1.000000   \n",
      "     transfac_pro__M07265               0.950276   \n",
      "\n",
      "                                                                                 \\\n",
      "                                                                     Annotation   \n",
      "TF   MotifID                                                                      \n",
      "ATF3 yetfasco__YER045C_8      gene is annotated for similar motif transfac_p...   \n",
      "     transfac_pro__M07414     motif similar to factorbook__CREB ('CREB'; q-v...   \n",
      "     transfac_public__M00017  gene is annotated for similar motif transfac_p...   \n",
      "     transfac_pro__M03538     gene is annotated for similar motif homer__DAT...   \n",
      "     transfac_pro__M07265     gene is orthologous to ENSMUSG00000026628 in M...   \n",
      "\n",
      "                                                                                 \\\n",
      "                                                                        Context   \n",
      "TF   MotifID                                                                      \n",
      "ATF3 yetfasco__YER045C_8      (weight>75.0%, hg38__refseq-r80__10kb_up_and_d...   \n",
      "     transfac_pro__M07414     (weight>75.0%, hg38__refseq-r80__10kb_up_and_d...   \n",
      "     transfac_public__M00017  (weight>75.0%, hg38__refseq-r80__10kb_up_and_d...   \n",
      "     transfac_pro__M03538     (weight>75.0%, hg38__refseq-r80__10kb_up_and_d...   \n",
      "     transfac_pro__M07265     (weight>75.0%, hg38__refseq-r80__10kb_up_and_d...   \n",
      "\n",
      "                                                                                 \\\n",
      "                                                                    TargetGenes   \n",
      "TF   MotifID                                                                      \n",
      "ATF3 yetfasco__YER045C_8      [(NFKBIA, 35.902040068502515), (TNFAIP3, 16.28...   \n",
      "     transfac_pro__M07414     [(NXPH4, 1.6544256687612795), (ZFP36L1, 1.8257...   \n",
      "     transfac_public__M00017  [(NXPH4, 1.6544256687612795), (ZFP36L1, 1.8257...   \n",
      "     transfac_pro__M03538     [(ZNF367, 1.4460471545150828), (E2F8, 3.120143...   \n",
      "     transfac_pro__M07265     [(EGR1, 22.566741593206043), (INSM1, 8.7965457...   \n",
      "\n",
      "                                        \n",
      "                             RankAtMax  \n",
      "TF   MotifID                            \n",
      "ATF3 yetfasco__YER045C_8           648  \n",
      "     transfac_pro__M07414         1402  \n",
      "     transfac_public__M00017      1479  \n",
      "     transfac_pro__M03538          649  \n",
      "     transfac_pro__M07265         1465  \n",
      "Create regulons from a dataframe of enriched features.\n",
      "Additional columns saved: []\n",
      "\n",
      "COMPLETED WRITING DISCOVERED REGULON /home/linl5/project/SCLC/data/lx108/lx108.UUUU.1.regulons.p \n",
      "\n",
      "\n",
      "FINISHED READING ADJACENCIES FILE /home/linl5/project/SCLC/data/lx108/lx108.UUUT.1.adjacencies.tsv \n",
      "\n"
     ]
    },
    {
     "name": "stderr",
     "output_type": "stream",
     "text": [
      "\n",
      "2023-08-09 14:12:47,948 - pyscenic.utils - INFO - Calculating Pearson correlations.\n",
      "\n",
      "2023-08-09 14:12:47,987 - pyscenic.utils - WARNING - Note on correlation calculation: the default behaviour for calculating the correlations has changed after pySCENIC verion 0.9.16. Previously, the default was to calculate the correlation between a TF and target gene using only cells with non-zero expression values (mask_dropouts=True). The current default is now to use all cells to match the behavior of the R verision of SCENIC. The original settings can be retained by setting 'rho_mask_dropouts=True' in the modules_from_adjacencies function, or '--mask_dropouts' from the CLI.\n",
      "\tDropout masking is currently set to [False].\n"
     ]
    },
    {
     "name": "stdout",
     "output_type": "stream",
     "text": [
      "\n",
      "FINISHED READING EXPRESSION MATRIX /home/linl5/project/SCLC/results/lx108/lx108.UUUT.1.qc.tpm.csv \n",
      "\n"
     ]
    },
    {
     "name": "stderr",
     "output_type": "stream",
     "text": [
      "\n",
      "2023-08-09 14:12:50,554 - pyscenic.utils - INFO - Creating modules.\n"
     ]
    },
    {
     "name": "stdout",
     "output_type": "stream",
     "text": [
      "\n",
      "COMPLETED COEXPRESSION MODULE WRITING: /home/linl5/project/SCLC/data/lx108/lx108.UUUT.1.modules.p \n",
      "\n",
      "[                                        ] | 0% Completed | 18.55 sms"
     ]
    },
    {
     "name": "stderr",
     "output_type": "stream",
     "text": [
      "\n",
      "2023-08-09 14:13:20,183 - pyscenic.transform - WARNING - Less than 80% of the genes in ARID5B could be mapped to hg38__refseq-r80__500bp_up_and_100bp_down_tss.mc9nr.genes_vs_motifs.rankings. Skipping this module.\n"
     ]
    },
    {
     "name": "stdout",
     "output_type": "stream",
     "text": [
      "[                                        ] | 0% Completed | 32.09 s"
     ]
    },
    {
     "name": "stderr",
     "output_type": "stream",
     "text": [
      "\n",
      "2023-08-09 14:13:33,718 - pyscenic.transform - WARNING - Less than 80% of the genes in CEBPG could be mapped to hg38__refseq-r80__500bp_up_and_100bp_down_tss.mc9nr.genes_vs_motifs.rankings. Skipping this module.\n"
     ]
    },
    {
     "name": "stdout",
     "output_type": "stream",
     "text": [
      "[                                        ] | 0% Completed | 34.84 s"
     ]
    },
    {
     "name": "stderr",
     "output_type": "stream",
     "text": [
      "\n",
      "2023-08-09 14:13:36,385 - pyscenic.transform - WARNING - Less than 80% of the genes in DLX5 could be mapped to hg38__refseq-r80__500bp_up_and_100bp_down_tss.mc9nr.genes_vs_motifs.rankings. Skipping this module.\n",
      "\n",
      "2023-08-09 14:13:36,570 - pyscenic.transform - WARNING - Less than 80% of the genes in DMRTA1 could be mapped to hg38__refseq-r80__500bp_up_and_100bp_down_tss.mc9nr.genes_vs_motifs.rankings. Skipping this module.\n"
     ]
    },
    {
     "name": "stdout",
     "output_type": "stream",
     "text": [
      "[                                        ] | 0% Completed | 37.70 s"
     ]
    },
    {
     "name": "stderr",
     "output_type": "stream",
     "text": [
      "\n",
      "2023-08-09 14:13:39,336 - pyscenic.transform - WARNING - Less than 80% of the genes in GFI1B could be mapped to hg38__refseq-r80__10kb_up_and_down_tss.mc9nr.genes_vs_motifs.rankings. Skipping this module.\n"
     ]
    },
    {
     "name": "stdout",
     "output_type": "stream",
     "text": [
      "[                                        ] | 0% Completed | 38.87 s"
     ]
    },
    {
     "name": "stderr",
     "output_type": "stream",
     "text": [
      "\n",
      "2023-08-09 14:13:40,446 - pyscenic.transform - WARNING - Less than 80% of the genes in E2F5 could be mapped to hg38__refseq-r80__500bp_up_and_100bp_down_tss.mc9nr.genes_vs_motifs.rankings. Skipping this module.\n"
     ]
    },
    {
     "name": "stdout",
     "output_type": "stream",
     "text": [
      "[                                        ] | 0% Completed | 43.02 s"
     ]
    },
    {
     "name": "stderr",
     "output_type": "stream",
     "text": [
      "\n",
      "2023-08-09 14:13:44,616 - pyscenic.transform - WARNING - Less than 80% of the genes in EGR2 could be mapped to hg38__refseq-r80__500bp_up_and_100bp_down_tss.mc9nr.genes_vs_motifs.rankings. Skipping this module.\n"
     ]
    },
    {
     "name": "stdout",
     "output_type": "stream",
     "text": [
      "[                                        ] | 0% Completed | 44.20 s"
     ]
    },
    {
     "name": "stderr",
     "output_type": "stream",
     "text": [
      "\n",
      "2023-08-09 14:13:45,825 - pyscenic.transform - WARNING - Less than 80% of the genes in ELF5 could be mapped to hg38__refseq-r80__500bp_up_and_100bp_down_tss.mc9nr.genes_vs_motifs.rankings. Skipping this module.\n"
     ]
    },
    {
     "name": "stdout",
     "output_type": "stream",
     "text": [
      "[                                        ] | 0% Completed | 48.80 s"
     ]
    },
    {
     "name": "stderr",
     "output_type": "stream",
     "text": [
      "\n",
      "2023-08-09 14:13:50,340 - pyscenic.transform - WARNING - Less than 80% of the genes in FOSL1 could be mapped to hg38__refseq-r80__500bp_up_and_100bp_down_tss.mc9nr.genes_vs_motifs.rankings. Skipping this module.\n"
     ]
    },
    {
     "name": "stdout",
     "output_type": "stream",
     "text": [
      "[                                        ] | 0% Completed | 50.51 s"
     ]
    },
    {
     "name": "stderr",
     "output_type": "stream",
     "text": [
      "\n",
      "2023-08-09 14:13:52,103 - pyscenic.transform - WARNING - Less than 80% of the genes in HSPA1L could be mapped to hg38__refseq-r80__10kb_up_and_down_tss.mc9nr.genes_vs_motifs.rankings. Skipping this module.\n"
     ]
    },
    {
     "name": "stdout",
     "output_type": "stream",
     "text": [
      "[                                        ] | 0% Completed | 51.78 s"
     ]
    },
    {
     "name": "stderr",
     "output_type": "stream",
     "text": [
      "\n",
      "2023-08-09 14:13:53,388 - pyscenic.transform - WARNING - Less than 80% of the genes in GATA2 could be mapped to hg38__refseq-r80__500bp_up_and_100bp_down_tss.mc9nr.genes_vs_motifs.rankings. Skipping this module.\n",
      "\n",
      "2023-08-09 14:13:53,571 - pyscenic.transform - WARNING - Less than 80% of the genes in GOT1 could be mapped to hg38__refseq-r80__500bp_up_and_100bp_down_tss.mc9nr.genes_vs_motifs.rankings. Skipping this module.\n"
     ]
    },
    {
     "name": "stdout",
     "output_type": "stream",
     "text": [
      "[                                        ] | 0% Completed | 52.20 s"
     ]
    },
    {
     "name": "stderr",
     "output_type": "stream",
     "text": [
      "\n",
      "2023-08-09 14:13:53,753 - pyscenic.transform - WARNING - Less than 80% of the genes in GRHL1 could be mapped to hg38__refseq-r80__500bp_up_and_100bp_down_tss.mc9nr.genes_vs_motifs.rankings. Skipping this module.\n"
     ]
    },
    {
     "name": "stdout",
     "output_type": "stream",
     "text": [
      "[                                        ] | 0% Completed | 53.81 s"
     ]
    },
    {
     "name": "stderr",
     "output_type": "stream",
     "text": [
      "\n",
      "2023-08-09 14:13:55,435 - pyscenic.transform - WARNING - Less than 80% of the genes in ISL1 could be mapped to hg38__refseq-r80__10kb_up_and_down_tss.mc9nr.genes_vs_motifs.rankings. Skipping this module.\n"
     ]
    },
    {
     "name": "stdout",
     "output_type": "stream",
     "text": [
      "[                                        ] | 0% Completed | 57.42 s"
     ]
    },
    {
     "name": "stderr",
     "output_type": "stream",
     "text": [
      "\n",
      "2023-08-09 14:13:59,022 - pyscenic.transform - WARNING - Less than 80% of the genes in HEY2 could be mapped to hg38__refseq-r80__500bp_up_and_100bp_down_tss.mc9nr.genes_vs_motifs.rankings. Skipping this module.\n",
      "\n",
      "2023-08-09 14:13:59,204 - pyscenic.transform - WARNING - Less than 80% of the genes in HIST1H2BN could be mapped to hg38__refseq-r80__500bp_up_and_100bp_down_tss.mc9nr.genes_vs_motifs.rankings. Skipping this module.\n"
     ]
    },
    {
     "name": "stdout",
     "output_type": "stream",
     "text": [
      "[                                        ] | 0% Completed | 58.98 s"
     ]
    },
    {
     "name": "stderr",
     "output_type": "stream",
     "text": [
      "\n",
      "2023-08-09 14:14:00,615 - pyscenic.transform - WARNING - Less than 80% of the genes in HOXB2 could be mapped to hg38__refseq-r80__500bp_up_and_100bp_down_tss.mc9nr.genes_vs_motifs.rankings. Skipping this module.\n"
     ]
    },
    {
     "name": "stdout",
     "output_type": "stream",
     "text": [
      "[                                        ] | 0% Completed | 60.02 s"
     ]
    },
    {
     "name": "stderr",
     "output_type": "stream",
     "text": [
      "\n",
      "2023-08-09 14:14:01,655 - pyscenic.transform - WARNING - Less than 80% of the genes in HOXD1 could be mapped to hg38__refseq-r80__500bp_up_and_100bp_down_tss.mc9nr.genes_vs_motifs.rankings. Skipping this module.\n"
     ]
    },
    {
     "name": "stdout",
     "output_type": "stream",
     "text": [
      "[                                        ] | 0% Completed | 60.34 s"
     ]
    },
    {
     "name": "stderr",
     "output_type": "stream",
     "text": [
      "\n",
      "2023-08-09 14:14:01,903 - pyscenic.transform - WARNING - Less than 80% of the genes in HSPA1L could be mapped to hg38__refseq-r80__500bp_up_and_100bp_down_tss.mc9nr.genes_vs_motifs.rankings. Skipping this module.\n"
     ]
    },
    {
     "name": "stdout",
     "output_type": "stream",
     "text": [
      "[                                        ] | 0% Completed | 60.88 s"
     ]
    },
    {
     "name": "stderr",
     "output_type": "stream",
     "text": [
      "\n",
      "2023-08-09 14:14:02,437 - pyscenic.transform - WARNING - Less than 80% of the genes in INSM1 could be mapped to hg38__refseq-r80__500bp_up_and_100bp_down_tss.mc9nr.genes_vs_motifs.rankings. Skipping this module.\n"
     ]
    },
    {
     "name": "stdout",
     "output_type": "stream",
     "text": [
      "[                                        ] | 0% Completed | 61.20 s"
     ]
    },
    {
     "name": "stderr",
     "output_type": "stream",
     "text": [
      "\n",
      "2023-08-09 14:14:02,832 - pyscenic.transform - WARNING - Less than 80% of the genes in IRX5 could be mapped to hg38__refseq-r80__500bp_up_and_100bp_down_tss.mc9nr.genes_vs_motifs.rankings. Skipping this module.\n"
     ]
    },
    {
     "name": "stdout",
     "output_type": "stream",
     "text": [
      "[                                        ] | 0% Completed | 67.21 s"
     ]
    },
    {
     "name": "stderr",
     "output_type": "stream",
     "text": [
      "\n",
      "2023-08-09 14:14:08,851 - pyscenic.transform - WARNING - Less than 80% of the genes in KLF4 could be mapped to hg38__refseq-r80__500bp_up_and_100bp_down_tss.mc9nr.genes_vs_motifs.rankings. Skipping this module.\n",
      "\n",
      "2023-08-09 14:14:09,000 - pyscenic.transform - WARNING - Less than 80% of the genes in KLF5 could be mapped to hg38__refseq-r80__500bp_up_and_100bp_down_tss.mc9nr.genes_vs_motifs.rankings. Skipping this module.\n"
     ]
    },
    {
     "name": "stdout",
     "output_type": "stream",
     "text": [
      "[                                        ] | 0% Completed | 67.53 s"
     ]
    },
    {
     "name": "stderr",
     "output_type": "stream",
     "text": [
      "\n",
      "2023-08-09 14:14:09,154 - pyscenic.transform - WARNING - Less than 80% of the genes in KLF6 could be mapped to hg38__refseq-r80__500bp_up_and_100bp_down_tss.mc9nr.genes_vs_motifs.rankings. Skipping this module.\n"
     ]
    },
    {
     "name": "stdout",
     "output_type": "stream",
     "text": [
      "[                                        ] | 0% Completed | 70.62 s"
     ]
    },
    {
     "name": "stderr",
     "output_type": "stream",
     "text": [
      "\n",
      "2023-08-09 14:14:12,246 - pyscenic.transform - WARNING - Less than 80% of the genes in MAF could be mapped to hg38__refseq-r80__500bp_up_and_100bp_down_tss.mc9nr.genes_vs_motifs.rankings. Skipping this module.\n"
     ]
    },
    {
     "name": "stdout",
     "output_type": "stream",
     "text": [
      "[                                        ] | 0% Completed | 71.05 s"
     ]
    },
    {
     "name": "stderr",
     "output_type": "stream",
     "text": [
      "\n",
      "2023-08-09 14:14:12,670 - pyscenic.transform - WARNING - Less than 80% of the genes in MEOX2 could be mapped to hg38__refseq-r80__500bp_up_and_100bp_down_tss.mc9nr.genes_vs_motifs.rankings. Skipping this module.\n"
     ]
    },
    {
     "name": "stdout",
     "output_type": "stream",
     "text": [
      "[                                        ] | 0% Completed | 71.58 s"
     ]
    },
    {
     "name": "stderr",
     "output_type": "stream",
     "text": [
      "\n",
      "2023-08-09 14:14:13,140 - pyscenic.transform - WARNING - Less than 80% of the genes in MYBL1 could be mapped to hg38__refseq-r80__500bp_up_and_100bp_down_tss.mc9nr.genes_vs_motifs.rankings. Skipping this module.\n"
     ]
    },
    {
     "name": "stdout",
     "output_type": "stream",
     "text": [
      "[                                        ] | 0% Completed | 73.52 s"
     ]
    },
    {
     "name": "stderr",
     "output_type": "stream",
     "text": [
      "\n",
      "2023-08-09 14:14:15,120 - pyscenic.transform - WARNING - Less than 80% of the genes in MYLK could be mapped to hg38__refseq-r80__500bp_up_and_100bp_down_tss.mc9nr.genes_vs_motifs.rankings. Skipping this module.\n"
     ]
    },
    {
     "name": "stdout",
     "output_type": "stream",
     "text": [
      "[                                        ] | 0% Completed | 74.49 s"
     ]
    },
    {
     "name": "stderr",
     "output_type": "stream",
     "text": [
      "\n",
      "2023-08-09 14:14:16,090 - pyscenic.transform - WARNING - Less than 80% of the genes in NFIA could be mapped to hg38__refseq-r80__500bp_up_and_100bp_down_tss.mc9nr.genes_vs_motifs.rankings. Skipping this module.\n"
     ]
    },
    {
     "name": "stdout",
     "output_type": "stream",
     "text": [
      "[                                        ] | 0% Completed | 75.67 s"
     ]
    },
    {
     "name": "stderr",
     "output_type": "stream",
     "text": [
      "\n",
      "2023-08-09 14:14:17,229 - pyscenic.transform - WARNING - Less than 80% of the genes in NPAS4 could be mapped to hg38__refseq-r80__500bp_up_and_100bp_down_tss.mc9nr.genes_vs_motifs.rankings. Skipping this module.\n"
     ]
    },
    {
     "name": "stdout",
     "output_type": "stream",
     "text": [
      "[                                        ] | 0% Completed | 75.88 s"
     ]
    },
    {
     "name": "stderr",
     "output_type": "stream",
     "text": [
      "\n",
      "2023-08-09 14:14:17,448 - pyscenic.transform - WARNING - Less than 80% of the genes in NR0B1 could be mapped to hg38__refseq-r80__500bp_up_and_100bp_down_tss.mc9nr.genes_vs_motifs.rankings. Skipping this module.\n"
     ]
    },
    {
     "name": "stdout",
     "output_type": "stream",
     "text": [
      "[                                        ] | 0% Completed | 76.10 s"
     ]
    },
    {
     "name": "stderr",
     "output_type": "stream",
     "text": [
      "\n",
      "2023-08-09 14:14:17,657 - pyscenic.transform - WARNING - Less than 80% of the genes in NR2F2 could be mapped to hg38__refseq-r80__500bp_up_and_100bp_down_tss.mc9nr.genes_vs_motifs.rankings. Skipping this module.\n"
     ]
    },
    {
     "name": "stdout",
     "output_type": "stream",
     "text": [
      "[                                        ] | 0% Completed | 77.38 s"
     ]
    },
    {
     "name": "stderr",
     "output_type": "stream",
     "text": [
      "\n",
      "2023-08-09 14:14:18,935 - pyscenic.transform - WARNING - Less than 80% of the genes in OSR2 could be mapped to hg38__refseq-r80__500bp_up_and_100bp_down_tss.mc9nr.genes_vs_motifs.rankings. Skipping this module.\n"
     ]
    },
    {
     "name": "stdout",
     "output_type": "stream",
     "text": [
      "[                                        ] | 0% Completed | 80.16 s"
     ]
    },
    {
     "name": "stderr",
     "output_type": "stream",
     "text": [
      "\n",
      "2023-08-09 14:14:21,800 - pyscenic.transform - WARNING - Less than 80% of the genes in POU4F1 could be mapped to hg38__refseq-r80__500bp_up_and_100bp_down_tss.mc9nr.genes_vs_motifs.rankings. Skipping this module.\n"
     ]
    },
    {
     "name": "stdout",
     "output_type": "stream",
     "text": [
      "[                                        ] | 0% Completed | 82.41 s"
     ]
    },
    {
     "name": "stderr",
     "output_type": "stream",
     "text": [
      "\n",
      "2023-08-09 14:14:23,995 - pyscenic.transform - WARNING - Less than 80% of the genes in RELB could be mapped to hg38__refseq-r80__500bp_up_and_100bp_down_tss.mc9nr.genes_vs_motifs.rankings. Skipping this module.\n"
     ]
    },
    {
     "name": "stdout",
     "output_type": "stream",
     "text": [
      "[                                        ] | 0% Completed | 82.84 s"
     ]
    },
    {
     "name": "stderr",
     "output_type": "stream",
     "text": [
      "\n",
      "2023-08-09 14:14:24,450 - pyscenic.transform - WARNING - Less than 80% of the genes in RFC3 could be mapped to hg38__refseq-r80__500bp_up_and_100bp_down_tss.mc9nr.genes_vs_motifs.rankings. Skipping this module.\n"
     ]
    },
    {
     "name": "stdout",
     "output_type": "stream",
     "text": [
      "[                                        ] | 0% Completed | 85.72 s"
     ]
    },
    {
     "name": "stderr",
     "output_type": "stream",
     "text": [
      "\n",
      "2023-08-09 14:14:27,276 - pyscenic.transform - WARNING - Less than 80% of the genes in SMARCA1 could be mapped to hg38__refseq-r80__500bp_up_and_100bp_down_tss.mc9nr.genes_vs_motifs.rankings. Skipping this module.\n",
      "\n",
      "2023-08-09 14:14:27,426 - pyscenic.transform - WARNING - Less than 80% of the genes in POU3F1 could be mapped to hg38__refseq-r80__10kb_up_and_down_tss.mc9nr.genes_vs_motifs.rankings. Skipping this module.\n"
     ]
    },
    {
     "name": "stdout",
     "output_type": "stream",
     "text": [
      "[                                        ] | 0% Completed | 89.25 s"
     ]
    },
    {
     "name": "stderr",
     "output_type": "stream",
     "text": [
      "\n",
      "2023-08-09 14:14:30,809 - pyscenic.transform - WARNING - Less than 80% of the genes in STAT6 could be mapped to hg38__refseq-r80__500bp_up_and_100bp_down_tss.mc9nr.genes_vs_motifs.rankings. Skipping this module.\n",
      "\n",
      "2023-08-09 14:14:30,997 - pyscenic.transform - WARNING - Less than 80% of the genes in TAL2 could be mapped to hg38__refseq-r80__500bp_up_and_100bp_down_tss.mc9nr.genes_vs_motifs.rankings. Skipping this module.\n"
     ]
    },
    {
     "name": "stdout",
     "output_type": "stream",
     "text": [
      "[                                        ] | 0% Completed | 89.67 s"
     ]
    },
    {
     "name": "stderr",
     "output_type": "stream",
     "text": [
      "\n",
      "2023-08-09 14:14:31,212 - pyscenic.transform - WARNING - Less than 80% of the genes in TBX3 could be mapped to hg38__refseq-r80__500bp_up_and_100bp_down_tss.mc9nr.genes_vs_motifs.rankings. Skipping this module.\n"
     ]
    },
    {
     "name": "stdout",
     "output_type": "stream",
     "text": [
      "[                                        ] | 0% Completed | 89.88 s"
     ]
    },
    {
     "name": "stderr",
     "output_type": "stream",
     "text": [
      "\n",
      "2023-08-09 14:14:31,477 - pyscenic.transform - WARNING - Less than 80% of the genes in TIMM44 could be mapped to hg38__refseq-r80__500bp_up_and_100bp_down_tss.mc9nr.genes_vs_motifs.rankings. Skipping this module.\n",
      "\n",
      "2023-08-09 14:14:31,640 - pyscenic.transform - WARNING - Less than 80% of the genes in TIMM8A could be mapped to hg38__refseq-r80__500bp_up_and_100bp_down_tss.mc9nr.genes_vs_motifs.rankings. Skipping this module.\n"
     ]
    },
    {
     "name": "stdout",
     "output_type": "stream",
     "text": [
      "[                                        ] | 0% Completed | 90.40 s"
     ]
    },
    {
     "name": "stderr",
     "output_type": "stream",
     "text": [
      "\n",
      "2023-08-09 14:14:32,023 - pyscenic.transform - WARNING - Less than 80% of the genes in TRIB1 could be mapped to hg38__refseq-r80__500bp_up_and_100bp_down_tss.mc9nr.genes_vs_motifs.rankings. Skipping this module.\n"
     ]
    },
    {
     "name": "stdout",
     "output_type": "stream",
     "text": [
      "[                                        ] | 0% Completed | 90.82 s"
     ]
    },
    {
     "name": "stderr",
     "output_type": "stream",
     "text": [
      "\n",
      "2023-08-09 14:14:32,431 - pyscenic.transform - WARNING - Less than 80% of the genes in TWIST1 could be mapped to hg38__refseq-r80__500bp_up_and_100bp_down_tss.mc9nr.genes_vs_motifs.rankings. Skipping this module.\n"
     ]
    },
    {
     "name": "stdout",
     "output_type": "stream",
     "text": [
      "[                                        ] | 0% Completed | 91.87 s"
     ]
    },
    {
     "name": "stderr",
     "output_type": "stream",
     "text": [
      "\n",
      "2023-08-09 14:14:33,486 - pyscenic.transform - WARNING - Less than 80% of the genes in ZNF165 could be mapped to hg38__refseq-r80__500bp_up_and_100bp_down_tss.mc9nr.genes_vs_motifs.rankings. Skipping this module.\n"
     ]
    },
    {
     "name": "stdout",
     "output_type": "stream",
     "text": [
      "[                                        ] | 0% Completed | 92.19 s"
     ]
    },
    {
     "name": "stderr",
     "output_type": "stream",
     "text": [
      "\n",
      "2023-08-09 14:14:33,782 - pyscenic.transform - WARNING - Less than 80% of the genes in ZNF367 could be mapped to hg38__refseq-r80__500bp_up_and_100bp_down_tss.mc9nr.genes_vs_motifs.rankings. Skipping this module.\n"
     ]
    },
    {
     "name": "stdout",
     "output_type": "stream",
     "text": [
      "[                                        ] | 0% Completed | 113.12 s"
     ]
    },
    {
     "name": "stderr",
     "output_type": "stream",
     "text": [
      "\n",
      "2023-08-09 14:14:54,651 - pyscenic.transform - WARNING - Less than 80% of the genes in DLX3 could be mapped to hg38__refseq-r80__500bp_up_and_100bp_down_tss.mc9nr.genes_vs_motifs.rankings. Skipping this module.\n"
     ]
    },
    {
     "name": "stdout",
     "output_type": "stream",
     "text": [
      "[####                                    ] | 10% Completed | 115.23 s"
     ]
    },
    {
     "name": "stderr",
     "output_type": "stream",
     "text": [
      "\n",
      "2023-08-09 14:14:56,823 - pyscenic.transform - WARNING - Less than 80% of the genes in Regulon for GFI1B could be mapped to hg38__refseq-r80__10kb_up_and_down_tss.mc9nr.genes_vs_motifs.rankings. Skipping this module.\n"
     ]
    },
    {
     "name": "stdout",
     "output_type": "stream",
     "text": [
      "[####                                    ] | 10% Completed | 135.66 s"
     ]
    },
    {
     "name": "stderr",
     "output_type": "stream",
     "text": [
      "\n",
      "2023-08-09 14:15:17,299 - pyscenic.transform - WARNING - Less than 80% of the genes in GFI1B could be mapped to hg38__refseq-r80__500bp_up_and_100bp_down_tss.mc9nr.genes_vs_motifs.rankings. Skipping this module.\n"
     ]
    },
    {
     "name": "stdout",
     "output_type": "stream",
     "text": [
      "[####                                    ] | 10% Completed | 152.19 s"
     ]
    },
    {
     "name": "stderr",
     "output_type": "stream",
     "text": [
      "\n",
      "2023-08-09 14:15:33,799 - pyscenic.transform - WARNING - Less than 80% of the genes in HSPA1L could be mapped to hg38__refseq-r80__500bp_up_and_100bp_down_tss.mc9nr.genes_vs_motifs.rankings. Skipping this module.\n"
     ]
    },
    {
     "name": "stdout",
     "output_type": "stream",
     "text": [
      "[####                                    ] | 10% Completed | 155.54 s"
     ]
    },
    {
     "name": "stderr",
     "output_type": "stream",
     "text": [
      "\n",
      "2023-08-09 14:15:37,172 - pyscenic.transform - WARNING - Less than 80% of the genes in ISL1 could be mapped to hg38__refseq-r80__500bp_up_and_100bp_down_tss.mc9nr.genes_vs_motifs.rankings. Skipping this module.\n"
     ]
    },
    {
     "name": "stdout",
     "output_type": "stream",
     "text": [
      "[####                                    ] | 10% Completed | 177.01 s"
     ]
    },
    {
     "name": "stderr",
     "output_type": "stream",
     "text": [
      "\n",
      "2023-08-09 14:15:58,629 - pyscenic.transform - WARNING - Less than 80% of the genes in POU3F1 could be mapped to hg38__refseq-r80__500bp_up_and_100bp_down_tss.mc9nr.genes_vs_motifs.rankings. Skipping this module.\n"
     ]
    },
    {
     "name": "stdout",
     "output_type": "stream",
     "text": [
      "[####                                    ] | 10% Completed | 179.12 s"
     ]
    },
    {
     "name": "stderr",
     "output_type": "stream",
     "text": [
      "\n",
      "2023-08-09 14:16:00,713 - pyscenic.transform - WARNING - Less than 80% of the genes in ARID5B could be mapped to hg38__refseq-r80__10kb_up_and_down_tss.mc9nr.genes_vs_motifs.rankings. Skipping this module.\n"
     ]
    },
    {
     "name": "stdout",
     "output_type": "stream",
     "text": [
      "[####                                    ] | 10% Completed | 190.76 s"
     ]
    },
    {
     "name": "stderr",
     "output_type": "stream",
     "text": [
      "\n",
      "2023-08-09 14:16:12,368 - pyscenic.transform - WARNING - Less than 80% of the genes in CEBPG could be mapped to hg38__refseq-r80__10kb_up_and_down_tss.mc9nr.genes_vs_motifs.rankings. Skipping this module.\n",
      "\n",
      "2023-08-09 14:16:12,566 - pyscenic.transform - WARNING - Less than 80% of the genes in CREB5 could be mapped to hg38__refseq-r80__10kb_up_and_down_tss.mc9nr.genes_vs_motifs.rankings. Skipping this module.\n"
     ]
    },
    {
     "name": "stdout",
     "output_type": "stream",
     "text": [
      "[####                                    ] | 10% Completed | 201.74 s"
     ]
    },
    {
     "name": "stderr",
     "output_type": "stream",
     "text": [
      "\n",
      "2023-08-09 14:16:23,305 - pyscenic.transform - WARNING - Less than 80% of the genes in EHF could be mapped to hg38__refseq-r80__10kb_up_and_down_tss.mc9nr.genes_vs_motifs.rankings. Skipping this module.\n"
     ]
    },
    {
     "name": "stdout",
     "output_type": "stream",
     "text": [
      "[####                                    ] | 10% Completed | 211.34 s"
     ]
    },
    {
     "name": "stderr",
     "output_type": "stream",
     "text": [
      "\n",
      "2023-08-09 14:16:32,919 - pyscenic.transform - WARNING - Less than 80% of the genes in GATA2 could be mapped to hg38__refseq-r80__10kb_up_and_down_tss.mc9nr.genes_vs_motifs.rankings. Skipping this module.\n",
      "\n",
      "2023-08-09 14:16:33,095 - pyscenic.transform - WARNING - Less than 80% of the genes in GRHL1 could be mapped to hg38__refseq-r80__10kb_up_and_down_tss.mc9nr.genes_vs_motifs.rankings. Skipping this module.\n"
     ]
    },
    {
     "name": "stdout",
     "output_type": "stream",
     "text": [
      "[####                                    ] | 10% Completed | 213.36 s"
     ]
    },
    {
     "name": "stderr",
     "output_type": "stream",
     "text": [
      "\n",
      "2023-08-09 14:16:34,943 - pyscenic.transform - WARNING - Less than 80% of the genes in HEY1 could be mapped to hg38__refseq-r80__10kb_up_and_down_tss.mc9nr.genes_vs_motifs.rankings. Skipping this module.\n",
      "\n",
      "2023-08-09 14:16:35,110 - pyscenic.transform - WARNING - Less than 80% of the genes in HIST1H2BN could be mapped to hg38__refseq-r80__10kb_up_and_down_tss.mc9nr.genes_vs_motifs.rankings. Skipping this module.\n"
     ]
    },
    {
     "name": "stdout",
     "output_type": "stream",
     "text": [
      "[####                                    ] | 10% Completed | 215.28 s"
     ]
    },
    {
     "name": "stderr",
     "output_type": "stream",
     "text": [
      "\n",
      "2023-08-09 14:16:36,896 - pyscenic.transform - WARNING - Less than 80% of the genes in HNRNPH3 could be mapped to hg38__refseq-r80__10kb_up_and_down_tss.mc9nr.genes_vs_motifs.rankings. Skipping this module.\n"
     ]
    },
    {
     "name": "stdout",
     "output_type": "stream",
     "text": [
      "[####                                    ] | 10% Completed | 216.24 s"
     ]
    },
    {
     "name": "stderr",
     "output_type": "stream",
     "text": [
      "\n",
      "2023-08-09 14:16:37,844 - pyscenic.transform - WARNING - Less than 80% of the genes in HOXB2 could be mapped to hg38__refseq-r80__10kb_up_and_down_tss.mc9nr.genes_vs_motifs.rankings. Skipping this module.\n"
     ]
    },
    {
     "name": "stdout",
     "output_type": "stream",
     "text": [
      "[####                                    ] | 10% Completed | 217.32 s"
     ]
    },
    {
     "name": "stderr",
     "output_type": "stream",
     "text": [
      "\n",
      "2023-08-09 14:16:38,878 - pyscenic.transform - WARNING - Less than 80% of the genes in ID4 could be mapped to hg38__refseq-r80__10kb_up_and_down_tss.mc9nr.genes_vs_motifs.rankings. Skipping this module.\n"
     ]
    },
    {
     "name": "stdout",
     "output_type": "stream",
     "text": [
      "[####                                    ] | 10% Completed | 217.55 s"
     ]
    },
    {
     "name": "stderr",
     "output_type": "stream",
     "text": [
      "\n",
      "2023-08-09 14:16:39,103 - pyscenic.transform - WARNING - Less than 80% of the genes in INSM1 could be mapped to hg38__refseq-r80__10kb_up_and_down_tss.mc9nr.genes_vs_motifs.rankings. Skipping this module.\n"
     ]
    },
    {
     "name": "stdout",
     "output_type": "stream",
     "text": [
      "[####                                    ] | 10% Completed | 217.97 s"
     ]
    },
    {
     "name": "stderr",
     "output_type": "stream",
     "text": [
      "\n",
      "2023-08-09 14:16:39,586 - pyscenic.transform - WARNING - Less than 80% of the genes in IRX5 could be mapped to hg38__refseq-r80__10kb_up_and_down_tss.mc9nr.genes_vs_motifs.rankings. Skipping this module.\n"
     ]
    },
    {
     "name": "stdout",
     "output_type": "stream",
     "text": [
      "[####                                    ] | 10% Completed | 223.68 s"
     ]
    },
    {
     "name": "stderr",
     "output_type": "stream",
     "text": [
      "\n",
      "2023-08-09 14:16:45,231 - pyscenic.transform - WARNING - Less than 80% of the genes in KLF5 could be mapped to hg38__refseq-r80__10kb_up_and_down_tss.mc9nr.genes_vs_motifs.rankings. Skipping this module.\n",
      "\n",
      "2023-08-09 14:16:45,349 - pyscenic.transform - WARNING - Less than 80% of the genes in KLF6 could be mapped to hg38__refseq-r80__10kb_up_and_down_tss.mc9nr.genes_vs_motifs.rankings. Skipping this module.\n"
     ]
    },
    {
     "name": "stdout",
     "output_type": "stream",
     "text": [
      "[####                                    ] | 10% Completed | 226.56 s"
     ]
    },
    {
     "name": "stderr",
     "output_type": "stream",
     "text": [
      "\n",
      "2023-08-09 14:16:48,170 - pyscenic.transform - WARNING - Less than 80% of the genes in MYLK could be mapped to hg38__refseq-r80__10kb_up_and_down_tss.mc9nr.genes_vs_motifs.rankings. Skipping this module.\n"
     ]
    },
    {
     "name": "stdout",
     "output_type": "stream",
     "text": [
      "[####                                    ] | 10% Completed | 227.51 s"
     ]
    },
    {
     "name": "stderr",
     "output_type": "stream",
     "text": [
      "\n",
      "2023-08-09 14:16:49,121 - pyscenic.transform - WARNING - Less than 80% of the genes in NPAS4 could be mapped to hg38__refseq-r80__10kb_up_and_down_tss.mc9nr.genes_vs_motifs.rankings. Skipping this module.\n"
     ]
    },
    {
     "name": "stdout",
     "output_type": "stream",
     "text": [
      "[####                                    ] | 10% Completed | 228.68 s"
     ]
    },
    {
     "name": "stderr",
     "output_type": "stream",
     "text": [
      "\n",
      "2023-08-09 14:16:50,246 - pyscenic.transform - WARNING - Less than 80% of the genes in NR2F2 could be mapped to hg38__refseq-r80__10kb_up_and_down_tss.mc9nr.genes_vs_motifs.rankings. Skipping this module.\n"
     ]
    },
    {
     "name": "stdout",
     "output_type": "stream",
     "text": [
      "[####                                    ] | 10% Completed | 230.29 s"
     ]
    },
    {
     "name": "stderr",
     "output_type": "stream",
     "text": [
      "\n",
      "2023-08-09 14:16:51,827 - pyscenic.transform - WARNING - Less than 80% of the genes in POLE3 could be mapped to hg38__refseq-r80__10kb_up_and_down_tss.mc9nr.genes_vs_motifs.rankings. Skipping this module.\n",
      "\n",
      "2023-08-09 14:16:51,988 - pyscenic.transform - WARNING - Less than 80% of the genes in POU2AF1 could be mapped to hg38__refseq-r80__10kb_up_and_down_tss.mc9nr.genes_vs_motifs.rankings. Skipping this module.\n"
     ]
    },
    {
     "name": "stdout",
     "output_type": "stream",
     "text": [
      "[####                                    ] | 10% Completed | 231.39 s"
     ]
    },
    {
     "name": "stderr",
     "output_type": "stream",
     "text": [
      "\n",
      "2023-08-09 14:16:52,912 - pyscenic.transform - WARNING - Less than 80% of the genes in POU3F2 could be mapped to hg38__refseq-r80__10kb_up_and_down_tss.mc9nr.genes_vs_motifs.rankings. Skipping this module.\n"
     ]
    },
    {
     "name": "stdout",
     "output_type": "stream",
     "text": [
      "[####                                    ] | 10% Completed | 231.60 s"
     ]
    },
    {
     "name": "stderr",
     "output_type": "stream",
     "text": [
      "\n",
      "2023-08-09 14:16:53,172 - pyscenic.transform - WARNING - Less than 80% of the genes in PPARG could be mapped to hg38__refseq-r80__10kb_up_and_down_tss.mc9nr.genes_vs_motifs.rankings. Skipping this module.\n"
     ]
    },
    {
     "name": "stdout",
     "output_type": "stream",
     "text": [
      "[####                                    ] | 10% Completed | 234.94 s"
     ]
    },
    {
     "name": "stderr",
     "output_type": "stream",
     "text": [
      "\n",
      "2023-08-09 14:16:56,479 - pyscenic.transform - WARNING - Less than 80% of the genes in RELB could be mapped to hg38__refseq-r80__10kb_up_and_down_tss.mc9nr.genes_vs_motifs.rankings. Skipping this module.\n"
     ]
    },
    {
     "name": "stdout",
     "output_type": "stream",
     "text": [
      "[####                                    ] | 10% Completed | 235.79 s"
     ]
    },
    {
     "name": "stderr",
     "output_type": "stream",
     "text": [
      "\n",
      "2023-08-09 14:16:57,400 - pyscenic.transform - WARNING - Less than 80% of the genes in SIX1 could be mapped to hg38__refseq-r80__10kb_up_and_down_tss.mc9nr.genes_vs_motifs.rankings. Skipping this module.\n"
     ]
    },
    {
     "name": "stdout",
     "output_type": "stream",
     "text": [
      "[####                                    ] | 10% Completed | 236.43 s"
     ]
    },
    {
     "name": "stderr",
     "output_type": "stream",
     "text": [
      "\n",
      "2023-08-09 14:16:58,004 - pyscenic.transform - WARNING - Less than 80% of the genes in SOX21 could be mapped to hg38__refseq-r80__10kb_up_and_down_tss.mc9nr.genes_vs_motifs.rankings. Skipping this module.\n"
     ]
    },
    {
     "name": "stdout",
     "output_type": "stream",
     "text": [
      "[####                                    ] | 10% Completed | 238.90 s"
     ]
    },
    {
     "name": "stderr",
     "output_type": "stream",
     "text": [
      "\n",
      "2023-08-09 14:17:00,452 - pyscenic.transform - WARNING - Less than 80% of the genes in TAL2 could be mapped to hg38__refseq-r80__10kb_up_and_down_tss.mc9nr.genes_vs_motifs.rankings. Skipping this module.\n"
     ]
    },
    {
     "name": "stdout",
     "output_type": "stream",
     "text": [
      "[####                                    ] | 10% Completed | 240.63 s"
     ]
    },
    {
     "name": "stderr",
     "output_type": "stream",
     "text": [
      "\n",
      "2023-08-09 14:17:02,269 - pyscenic.transform - WARNING - Less than 80% of the genes in TRIB1 could be mapped to hg38__refseq-r80__10kb_up_and_down_tss.mc9nr.genes_vs_motifs.rankings. Skipping this module.\n"
     ]
    },
    {
     "name": "stdout",
     "output_type": "stream",
     "text": [
      "[####                                    ] | 10% Completed | 242.35 s"
     ]
    },
    {
     "name": "stderr",
     "output_type": "stream",
     "text": [
      "\n",
      "2023-08-09 14:17:03,985 - pyscenic.transform - WARNING - Less than 80% of the genes in Regulon for GFI1B could be mapped to hg38__refseq-r80__500bp_up_and_100bp_down_tss.mc9nr.genes_vs_motifs.rankings. Skipping this module.\n"
     ]
    },
    {
     "name": "stdout",
     "output_type": "stream",
     "text": [
      "[####                                    ] | 10% Completed | 244.30 s"
     ]
    },
    {
     "name": "stderr",
     "output_type": "stream",
     "text": [
      "\n",
      "2023-08-09 14:17:05,837 - pyscenic.transform - WARNING - Less than 80% of the genes in ARID5B could be mapped to hg38__refseq-r80__10kb_up_and_down_tss.mc9nr.genes_vs_motifs.rankings. Skipping this module.\n"
     ]
    },
    {
     "name": "stdout",
     "output_type": "stream",
     "text": [
      "[####                                    ] | 10% Completed | 256.81 s"
     ]
    },
    {
     "name": "stderr",
     "output_type": "stream",
     "text": [
      "\n",
      "2023-08-09 14:17:18,427 - pyscenic.transform - WARNING - Less than 80% of the genes in CEBPG could be mapped to hg38__refseq-r80__10kb_up_and_down_tss.mc9nr.genes_vs_motifs.rankings. Skipping this module.\n"
     ]
    },
    {
     "name": "stdout",
     "output_type": "stream",
     "text": [
      "[####                                    ] | 10% Completed | 261.08 s"
     ]
    },
    {
     "name": "stderr",
     "output_type": "stream",
     "text": [
      "\n",
      "2023-08-09 14:17:22,662 - pyscenic.transform - WARNING - Less than 80% of the genes in DLX5 could be mapped to hg38__refseq-r80__10kb_up_and_down_tss.mc9nr.genes_vs_motifs.rankings. Skipping this module.\n",
      "\n",
      "2023-08-09 14:17:22,824 - pyscenic.transform - WARNING - Less than 80% of the genes in DMRTA1 could be mapped to hg38__refseq-r80__10kb_up_and_down_tss.mc9nr.genes_vs_motifs.rankings. Skipping this module.\n"
     ]
    },
    {
     "name": "stdout",
     "output_type": "stream",
     "text": [
      "[####                                    ] | 10% Completed | 265.04 s"
     ]
    },
    {
     "name": "stderr",
     "output_type": "stream",
     "text": [
      "\n",
      "2023-08-09 14:17:26,671 - pyscenic.transform - WARNING - Less than 80% of the genes in E2F5 could be mapped to hg38__refseq-r80__10kb_up_and_down_tss.mc9nr.genes_vs_motifs.rankings. Skipping this module.\n"
     ]
    },
    {
     "name": "stdout",
     "output_type": "stream",
     "text": [
      "[####                                    ] | 10% Completed | 271.05 s"
     ]
    },
    {
     "name": "stderr",
     "output_type": "stream",
     "text": [
      "\n",
      "2023-08-09 14:17:32,660 - pyscenic.transform - WARNING - Less than 80% of the genes in EGR2 could be mapped to hg38__refseq-r80__10kb_up_and_down_tss.mc9nr.genes_vs_motifs.rankings. Skipping this module.\n"
     ]
    },
    {
     "name": "stdout",
     "output_type": "stream",
     "text": [
      "[####                                    ] | 10% Completed | 276.81 s"
     ]
    },
    {
     "name": "stderr",
     "output_type": "stream",
     "text": [
      "\n",
      "2023-08-09 14:17:38,376 - pyscenic.transform - WARNING - Less than 80% of the genes in ELF5 could be mapped to hg38__refseq-r80__10kb_up_and_down_tss.mc9nr.genes_vs_motifs.rankings. Skipping this module.\n"
     ]
    },
    {
     "name": "stdout",
     "output_type": "stream",
     "text": [
      "[####                                    ] | 10% Completed | 285.73 s"
     ]
    },
    {
     "name": "stderr",
     "output_type": "stream",
     "text": [
      "\n",
      "2023-08-09 14:17:47,352 - pyscenic.transform - WARNING - Less than 80% of the genes in FOSL1 could be mapped to hg38__refseq-r80__10kb_up_and_down_tss.mc9nr.genes_vs_motifs.rankings. Skipping this module.\n"
     ]
    },
    {
     "name": "stdout",
     "output_type": "stream",
     "text": [
      "[####                                    ] | 10% Completed | 288.91 s"
     ]
    },
    {
     "name": "stderr",
     "output_type": "stream",
     "text": [
      "\n",
      "2023-08-09 14:17:50,460 - pyscenic.transform - WARNING - Less than 80% of the genes in GATA2 could be mapped to hg38__refseq-r80__10kb_up_and_down_tss.mc9nr.genes_vs_motifs.rankings. Skipping this module.\n"
     ]
    },
    {
     "name": "stdout",
     "output_type": "stream",
     "text": [
      "[####                                    ] | 10% Completed | 289.12 s"
     ]
    },
    {
     "name": "stderr",
     "output_type": "stream",
     "text": [
      "\n",
      "2023-08-09 14:17:50,677 - pyscenic.transform - WARNING - Less than 80% of the genes in GOT1 could be mapped to hg38__refseq-r80__10kb_up_and_down_tss.mc9nr.genes_vs_motifs.rankings. Skipping this module.\n",
      "\n",
      "2023-08-09 14:17:50,866 - pyscenic.transform - WARNING - Less than 80% of the genes in GRHL1 could be mapped to hg38__refseq-r80__10kb_up_and_down_tss.mc9nr.genes_vs_motifs.rankings. Skipping this module.\n"
     ]
    },
    {
     "name": "stdout",
     "output_type": "stream",
     "text": [
      "[####                                    ] | 10% Completed | 294.44 s"
     ]
    },
    {
     "name": "stderr",
     "output_type": "stream",
     "text": [
      "\n",
      "2023-08-09 14:17:56,086 - pyscenic.transform - WARNING - Less than 80% of the genes in HEY2 could be mapped to hg38__refseq-r80__10kb_up_and_down_tss.mc9nr.genes_vs_motifs.rankings. Skipping this module.\n",
      "\n",
      "2023-08-09 14:17:56,256 - pyscenic.transform - WARNING - Less than 80% of the genes in HIST1H2BN could be mapped to hg38__refseq-r80__10kb_up_and_down_tss.mc9nr.genes_vs_motifs.rankings. Skipping this module.\n"
     ]
    },
    {
     "name": "stdout",
     "output_type": "stream",
     "text": [
      "[####                                    ] | 10% Completed | 298.19 s"
     ]
    },
    {
     "name": "stderr",
     "output_type": "stream",
     "text": [
      "\n",
      "2023-08-09 14:17:59,760 - pyscenic.transform - WARNING - Less than 80% of the genes in HOXB2 could be mapped to hg38__refseq-r80__10kb_up_and_down_tss.mc9nr.genes_vs_motifs.rankings. Skipping this module.\n"
     ]
    },
    {
     "name": "stdout",
     "output_type": "stream",
     "text": [
      "[####                                    ] | 10% Completed | 299.80 s"
     ]
    },
    {
     "name": "stderr",
     "output_type": "stream",
     "text": [
      "\n",
      "2023-08-09 14:18:01,405 - pyscenic.transform - WARNING - Less than 80% of the genes in HOXD1 could be mapped to hg38__refseq-r80__10kb_up_and_down_tss.mc9nr.genes_vs_motifs.rankings. Skipping this module.\n",
      "\n",
      "2023-08-09 14:18:01,496 - pyscenic.transform - WARNING - Less than 80% of the genes in ARID5B could be mapped to hg38__refseq-r80__500bp_up_and_100bp_down_tss.mc9nr.genes_vs_motifs.rankings. Skipping this module.\n"
     ]
    },
    {
     "name": "stdout",
     "output_type": "stream",
     "text": [
      "[####                                    ] | 10% Completed | 300.13 s"
     ]
    },
    {
     "name": "stderr",
     "output_type": "stream",
     "text": [
      "\n",
      "2023-08-09 14:18:01,672 - pyscenic.transform - WARNING - Less than 80% of the genes in HSPA1L could be mapped to hg38__refseq-r80__10kb_up_and_down_tss.mc9nr.genes_vs_motifs.rankings. Skipping this module.\n"
     ]
    },
    {
     "name": "stdout",
     "output_type": "stream",
     "text": [
      "[####                                    ] | 10% Completed | 301.40 s"
     ]
    },
    {
     "name": "stderr",
     "output_type": "stream",
     "text": [
      "\n",
      "2023-08-09 14:18:03,017 - pyscenic.transform - WARNING - Less than 80% of the genes in INSM1 could be mapped to hg38__refseq-r80__10kb_up_and_down_tss.mc9nr.genes_vs_motifs.rankings. Skipping this module.\n"
     ]
    },
    {
     "name": "stdout",
     "output_type": "stream",
     "text": [
      "[####                                    ] | 10% Completed | 301.83 s"
     ]
    },
    {
     "name": "stderr",
     "output_type": "stream",
     "text": [
      "\n",
      "2023-08-09 14:18:03,403 - pyscenic.transform - WARNING - Less than 80% of the genes in IRX5 could be mapped to hg38__refseq-r80__10kb_up_and_down_tss.mc9nr.genes_vs_motifs.rankings. Skipping this module.\n"
     ]
    },
    {
     "name": "stdout",
     "output_type": "stream",
     "text": [
      "[####                                    ] | 10% Completed | 306.22 s"
     ]
    },
    {
     "name": "stderr",
     "output_type": "stream",
     "text": [
      "\n",
      "2023-08-09 14:18:07,853 - pyscenic.transform - WARNING - Less than 80% of the genes in KLF4 could be mapped to hg38__refseq-r80__10kb_up_and_down_tss.mc9nr.genes_vs_motifs.rankings. Skipping this module.\n",
      "\n",
      "2023-08-09 14:18:07,968 - pyscenic.transform - WARNING - Less than 80% of the genes in KLF5 could be mapped to hg38__refseq-r80__10kb_up_and_down_tss.mc9nr.genes_vs_motifs.rankings. Skipping this module.\n"
     ]
    },
    {
     "name": "stdout",
     "output_type": "stream",
     "text": [
      "[####                                    ] | 10% Completed | 306.53 s"
     ]
    },
    {
     "name": "stderr",
     "output_type": "stream",
     "text": [
      "\n",
      "2023-08-09 14:18:08,135 - pyscenic.transform - WARNING - Less than 80% of the genes in KLF6 could be mapped to hg38__refseq-r80__10kb_up_and_down_tss.mc9nr.genes_vs_motifs.rankings. Skipping this module.\n"
     ]
    },
    {
     "name": "stdout",
     "output_type": "stream",
     "text": [
      "[####                                    ] | 10% Completed | 308.46 s"
     ]
    },
    {
     "name": "stderr",
     "output_type": "stream",
     "text": [
      "\n",
      "2023-08-09 14:18:10,007 - pyscenic.transform - WARNING - Less than 80% of the genes in MAF could be mapped to hg38__refseq-r80__10kb_up_and_down_tss.mc9nr.genes_vs_motifs.rankings. Skipping this module.\n"
     ]
    },
    {
     "name": "stdout",
     "output_type": "stream",
     "text": [
      "[####                                    ] | 10% Completed | 310.07 s"
     ]
    },
    {
     "name": "stderr",
     "output_type": "stream",
     "text": [
      "\n",
      "2023-08-09 14:18:11,701 - pyscenic.transform - WARNING - Less than 80% of the genes in MEOX2 could be mapped to hg38__refseq-r80__10kb_up_and_down_tss.mc9nr.genes_vs_motifs.rankings. Skipping this module.\n"
     ]
    },
    {
     "name": "stdout",
     "output_type": "stream",
     "text": [
      "[####                                    ] | 10% Completed | 310.50 s"
     ]
    },
    {
     "name": "stderr",
     "output_type": "stream",
     "text": [
      "\n",
      "2023-08-09 14:18:12,134 - pyscenic.transform - WARNING - Less than 80% of the genes in CEBPG could be mapped to hg38__refseq-r80__500bp_up_and_100bp_down_tss.mc9nr.genes_vs_motifs.rankings. Skipping this module.\n"
     ]
    },
    {
     "name": "stdout",
     "output_type": "stream",
     "text": [
      "[####                                    ] | 10% Completed | 310.71 s"
     ]
    },
    {
     "name": "stderr",
     "output_type": "stream",
     "text": [
      "\n",
      "2023-08-09 14:18:12,339 - pyscenic.transform - WARNING - Less than 80% of the genes in CREB5 could be mapped to hg38__refseq-r80__500bp_up_and_100bp_down_tss.mc9nr.genes_vs_motifs.rankings. Skipping this module.\n"
     ]
    },
    {
     "name": "stdout",
     "output_type": "stream",
     "text": [
      "[####                                    ] | 10% Completed | 311.24 s"
     ]
    },
    {
     "name": "stderr",
     "output_type": "stream",
     "text": [
      "\n",
      "2023-08-09 14:18:12,874 - pyscenic.transform - WARNING - Less than 80% of the genes in MYBL1 could be mapped to hg38__refseq-r80__10kb_up_and_down_tss.mc9nr.genes_vs_motifs.rankings. Skipping this module.\n"
     ]
    },
    {
     "name": "stdout",
     "output_type": "stream",
     "text": [
      "[####                                    ] | 10% Completed | 313.38 s"
     ]
    },
    {
     "name": "stderr",
     "output_type": "stream",
     "text": [
      "\n",
      "2023-08-09 14:18:14,977 - pyscenic.transform - WARNING - Less than 80% of the genes in MYLK could be mapped to hg38__refseq-r80__10kb_up_and_down_tss.mc9nr.genes_vs_motifs.rankings. Skipping this module.\n"
     ]
    },
    {
     "name": "stdout",
     "output_type": "stream",
     "text": [
      "[####                                    ] | 10% Completed | 314.35 s"
     ]
    },
    {
     "name": "stderr",
     "output_type": "stream",
     "text": [
      "\n",
      "2023-08-09 14:18:15,900 - pyscenic.transform - WARNING - Less than 80% of the genes in NFIA could be mapped to hg38__refseq-r80__10kb_up_and_down_tss.mc9nr.genes_vs_motifs.rankings. Skipping this module.\n"
     ]
    },
    {
     "name": "stdout",
     "output_type": "stream",
     "text": [
      "[####                                    ] | 10% Completed | 316.79 s"
     ]
    },
    {
     "name": "stderr",
     "output_type": "stream",
     "text": [
      "\n",
      "2023-08-09 14:18:18,438 - pyscenic.transform - WARNING - Less than 80% of the genes in NPAS4 could be mapped to hg38__refseq-r80__10kb_up_and_down_tss.mc9nr.genes_vs_motifs.rankings. Skipping this module.\n"
     ]
    },
    {
     "name": "stdout",
     "output_type": "stream",
     "text": [
      "[####                                    ] | 10% Completed | 317.11 s"
     ]
    },
    {
     "name": "stderr",
     "output_type": "stream",
     "text": [
      "\n",
      "2023-08-09 14:18:18,673 - pyscenic.transform - WARNING - Less than 80% of the genes in NR0B1 could be mapped to hg38__refseq-r80__10kb_up_and_down_tss.mc9nr.genes_vs_motifs.rankings. Skipping this module.\n"
     ]
    },
    {
     "name": "stdout",
     "output_type": "stream",
     "text": [
      "[####                                    ] | 10% Completed | 317.54 s"
     ]
    },
    {
     "name": "stderr",
     "output_type": "stream",
     "text": [
      "\n",
      "2023-08-09 14:18:19,112 - pyscenic.transform - WARNING - Less than 80% of the genes in EHF could be mapped to hg38__refseq-r80__500bp_up_and_100bp_down_tss.mc9nr.genes_vs_motifs.rankings. Skipping this module.\n"
     ]
    },
    {
     "name": "stdout",
     "output_type": "stream",
     "text": [
      "[####                                    ] | 10% Completed | 318.06 s"
     ]
    },
    {
     "name": "stderr",
     "output_type": "stream",
     "text": [
      "\n",
      "2023-08-09 14:18:19,645 - pyscenic.transform - WARNING - Less than 80% of the genes in NR2F2 could be mapped to hg38__refseq-r80__10kb_up_and_down_tss.mc9nr.genes_vs_motifs.rankings. Skipping this module.\n"
     ]
    },
    {
     "name": "stdout",
     "output_type": "stream",
     "text": [
      "[####                                    ] | 10% Completed | 319.24 s"
     ]
    },
    {
     "name": "stderr",
     "output_type": "stream",
     "text": [
      "\n",
      "2023-08-09 14:18:20,851 - pyscenic.transform - WARNING - Less than 80% of the genes in OSR2 could be mapped to hg38__refseq-r80__10kb_up_and_down_tss.mc9nr.genes_vs_motifs.rankings. Skipping this module.\n"
     ]
    },
    {
     "name": "stdout",
     "output_type": "stream",
     "text": [
      "[####                                    ] | 10% Completed | 322.98 s"
     ]
    },
    {
     "name": "stderr",
     "output_type": "stream",
     "text": [
      "\n",
      "2023-08-09 14:18:24,556 - pyscenic.transform - WARNING - Less than 80% of the genes in POU4F1 could be mapped to hg38__refseq-r80__10kb_up_and_down_tss.mc9nr.genes_vs_motifs.rankings. Skipping this module.\n"
     ]
    },
    {
     "name": "stdout",
     "output_type": "stream",
     "text": [
      "[####                                    ] | 10% Completed | 323.52 s"
     ]
    },
    {
     "name": "stderr",
     "output_type": "stream",
     "text": [
      "\n",
      "2023-08-09 14:18:25,095 - pyscenic.transform - WARNING - Less than 80% of the genes in GATA2 could be mapped to hg38__refseq-r80__500bp_up_and_100bp_down_tss.mc9nr.genes_vs_motifs.rankings. Skipping this module.\n",
      "\n",
      "2023-08-09 14:18:25,293 - pyscenic.transform - WARNING - Less than 80% of the genes in GRHL1 could be mapped to hg38__refseq-r80__500bp_up_and_100bp_down_tss.mc9nr.genes_vs_motifs.rankings. Skipping this module.\n"
     ]
    },
    {
     "name": "stdout",
     "output_type": "stream",
     "text": [
      "[####                                    ] | 10% Completed | 326.97 s"
     ]
    },
    {
     "name": "stderr",
     "output_type": "stream",
     "text": [
      "\n",
      "2023-08-09 14:18:28,549 - pyscenic.transform - WARNING - Less than 80% of the genes in RELB could be mapped to hg38__refseq-r80__10kb_up_and_down_tss.mc9nr.genes_vs_motifs.rankings. Skipping this module.\n"
     ]
    },
    {
     "name": "stdout",
     "output_type": "stream",
     "text": [
      "[####                                    ] | 10% Completed | 327.39 s"
     ]
    },
    {
     "name": "stderr",
     "output_type": "stream",
     "text": [
      "\n",
      "2023-08-09 14:18:29,000 - pyscenic.transform - WARNING - Less than 80% of the genes in RFC3 could be mapped to hg38__refseq-r80__10kb_up_and_down_tss.mc9nr.genes_vs_motifs.rankings. Skipping this module.\n"
     ]
    },
    {
     "name": "stdout",
     "output_type": "stream",
     "text": [
      "[####                                    ] | 10% Completed | 329.41 s"
     ]
    },
    {
     "name": "stderr",
     "output_type": "stream",
     "text": [
      "\n",
      "2023-08-09 14:18:31,041 - pyscenic.transform - WARNING - Less than 80% of the genes in HEY1 could be mapped to hg38__refseq-r80__500bp_up_and_100bp_down_tss.mc9nr.genes_vs_motifs.rankings. Skipping this module.\n",
      "\n",
      "2023-08-09 14:18:31,232 - pyscenic.transform - WARNING - Less than 80% of the genes in HIST1H2BN could be mapped to hg38__refseq-r80__500bp_up_and_100bp_down_tss.mc9nr.genes_vs_motifs.rankings. Skipping this module.\n"
     ]
    },
    {
     "name": "stdout",
     "output_type": "stream",
     "text": [
      "[####                                    ] | 10% Completed | 330.15 s"
     ]
    },
    {
     "name": "stderr",
     "output_type": "stream",
     "text": [
      "\n",
      "2023-08-09 14:18:31,769 - pyscenic.transform - WARNING - Less than 80% of the genes in SMARCA1 could be mapped to hg38__refseq-r80__10kb_up_and_down_tss.mc9nr.genes_vs_motifs.rankings. Skipping this module.\n"
     ]
    },
    {
     "name": "stdout",
     "output_type": "stream",
     "text": [
      "[####                                    ] | 10% Completed | 330.79 s"
     ]
    },
    {
     "name": "stderr",
     "output_type": "stream",
     "text": [
      "\n",
      "2023-08-09 14:18:32,379 - pyscenic.transform - WARNING - Less than 80% of the genes in HNRNPH3 could be mapped to hg38__refseq-r80__500bp_up_and_100bp_down_tss.mc9nr.genes_vs_motifs.rankings. Skipping this module.\n"
     ]
    },
    {
     "name": "stdout",
     "output_type": "stream",
     "text": [
      "[####                                    ] | 10% Completed | 331.76 s"
     ]
    },
    {
     "name": "stderr",
     "output_type": "stream",
     "text": [
      "\n",
      "2023-08-09 14:18:33,315 - pyscenic.transform - WARNING - Less than 80% of the genes in HOXB2 could be mapped to hg38__refseq-r80__500bp_up_and_100bp_down_tss.mc9nr.genes_vs_motifs.rankings. Skipping this module.\n"
     ]
    },
    {
     "name": "stdout",
     "output_type": "stream",
     "text": [
      "[####                                    ] | 10% Completed | 334.26 s"
     ]
    },
    {
     "name": "stderr",
     "output_type": "stream",
     "text": [
      "\n",
      "2023-08-09 14:18:35,794 - pyscenic.transform - WARNING - Less than 80% of the genes in ID4 could be mapped to hg38__refseq-r80__500bp_up_and_100bp_down_tss.mc9nr.genes_vs_motifs.rankings. Skipping this module.\n",
      "\n",
      "2023-08-09 14:18:35,978 - pyscenic.transform - WARNING - Less than 80% of the genes in INSM1 could be mapped to hg38__refseq-r80__500bp_up_and_100bp_down_tss.mc9nr.genes_vs_motifs.rankings. Skipping this module.\n"
     ]
    },
    {
     "name": "stdout",
     "output_type": "stream",
     "text": [
      "[####                                    ] | 10% Completed | 334.79 s"
     ]
    },
    {
     "name": "stderr",
     "output_type": "stream",
     "text": [
      "\n",
      "2023-08-09 14:18:36,389 - pyscenic.transform - WARNING - Less than 80% of the genes in IRX5 could be mapped to hg38__refseq-r80__500bp_up_and_100bp_down_tss.mc9nr.genes_vs_motifs.rankings. Skipping this module.\n"
     ]
    },
    {
     "name": "stdout",
     "output_type": "stream",
     "text": [
      "[####                                    ] | 10% Completed | 335.97 s"
     ]
    },
    {
     "name": "stderr",
     "output_type": "stream",
     "text": [
      "\n",
      "2023-08-09 14:18:37,554 - pyscenic.transform - WARNING - Less than 80% of the genes in STAT6 could be mapped to hg38__refseq-r80__10kb_up_and_down_tss.mc9nr.genes_vs_motifs.rankings. Skipping this module.\n",
      "\n",
      "2023-08-09 14:18:37,752 - pyscenic.transform - WARNING - Less than 80% of the genes in TAL2 could be mapped to hg38__refseq-r80__10kb_up_and_down_tss.mc9nr.genes_vs_motifs.rankings. Skipping this module.\n"
     ]
    },
    {
     "name": "stdout",
     "output_type": "stream",
     "text": [
      "[####                                    ] | 10% Completed | 337.15 s"
     ]
    },
    {
     "name": "stderr",
     "output_type": "stream",
     "text": [
      "\n",
      "2023-08-09 14:18:38,713 - pyscenic.transform - WARNING - Less than 80% of the genes in TBX3 could be mapped to hg38__refseq-r80__10kb_up_and_down_tss.mc9nr.genes_vs_motifs.rankings. Skipping this module.\n"
     ]
    },
    {
     "name": "stdout",
     "output_type": "stream",
     "text": [
      "[####                                    ] | 10% Completed | 338.77 s"
     ]
    },
    {
     "name": "stderr",
     "output_type": "stream",
     "text": [
      "\n",
      "2023-08-09 14:18:40,345 - pyscenic.transform - WARNING - Less than 80% of the genes in KLF5 could be mapped to hg38__refseq-r80__500bp_up_and_100bp_down_tss.mc9nr.genes_vs_motifs.rankings. Skipping this module.\n",
      "\n",
      "2023-08-09 14:18:40,443 - pyscenic.transform - WARNING - Less than 80% of the genes in KLF6 could be mapped to hg38__refseq-r80__500bp_up_and_100bp_down_tss.mc9nr.genes_vs_motifs.rankings. Skipping this module.\n",
      "\n",
      "2023-08-09 14:18:40,512 - pyscenic.transform - WARNING - Less than 80% of the genes in TIMM44 could be mapped to hg38__refseq-r80__10kb_up_and_down_tss.mc9nr.genes_vs_motifs.rankings. Skipping this module.\n"
     ]
    },
    {
     "name": "stdout",
     "output_type": "stream",
     "text": [
      "[####                                    ] | 10% Completed | 339.09 s"
     ]
    },
    {
     "name": "stderr",
     "output_type": "stream",
     "text": [
      "\n",
      "2023-08-09 14:18:40,730 - pyscenic.transform - WARNING - Less than 80% of the genes in TIMM8A could be mapped to hg38__refseq-r80__10kb_up_and_down_tss.mc9nr.genes_vs_motifs.rankings. Skipping this module.\n"
     ]
    },
    {
     "name": "stdout",
     "output_type": "stream",
     "text": [
      "[####                                    ] | 10% Completed | 339.51 s"
     ]
    },
    {
     "name": "stderr",
     "output_type": "stream",
     "text": [
      "\n",
      "2023-08-09 14:18:41,122 - pyscenic.transform - WARNING - Less than 80% of the genes in TRIB1 could be mapped to hg38__refseq-r80__10kb_up_and_down_tss.mc9nr.genes_vs_motifs.rankings. Skipping this module.\n"
     ]
    },
    {
     "name": "stdout",
     "output_type": "stream",
     "text": [
      "[####                                    ] | 10% Completed | 339.94 s"
     ]
    },
    {
     "name": "stderr",
     "output_type": "stream",
     "text": [
      "\n",
      "2023-08-09 14:18:41,475 - pyscenic.transform - WARNING - Less than 80% of the genes in TWIST1 could be mapped to hg38__refseq-r80__10kb_up_and_down_tss.mc9nr.genes_vs_motifs.rankings. Skipping this module.\n"
     ]
    },
    {
     "name": "stdout",
     "output_type": "stream",
     "text": [
      "[####                                    ] | 10% Completed | 340.37 s"
     ]
    },
    {
     "name": "stderr",
     "output_type": "stream",
     "text": [
      "\n",
      "2023-08-09 14:18:41,930 - pyscenic.transform - WARNING - Less than 80% of the genes in MYLK could be mapped to hg38__refseq-r80__500bp_up_and_100bp_down_tss.mc9nr.genes_vs_motifs.rankings. Skipping this module.\n"
     ]
    },
    {
     "name": "stdout",
     "output_type": "stream",
     "text": [
      "[####                                    ] | 10% Completed | 341.32 s"
     ]
    },
    {
     "name": "stderr",
     "output_type": "stream",
     "text": [
      "\n",
      "2023-08-09 14:18:42,958 - pyscenic.transform - WARNING - Less than 80% of the genes in NPAS4 could be mapped to hg38__refseq-r80__500bp_up_and_100bp_down_tss.mc9nr.genes_vs_motifs.rankings. Skipping this module.\n"
     ]
    },
    {
     "name": "stdout",
     "output_type": "stream",
     "text": [
      "[####                                    ] | 10% Completed | 341.74 s"
     ]
    },
    {
     "name": "stderr",
     "output_type": "stream",
     "text": [
      "\n",
      "2023-08-09 14:18:43,332 - pyscenic.transform - WARNING - Less than 80% of the genes in NR2F2 could be mapped to hg38__refseq-r80__500bp_up_and_100bp_down_tss.mc9nr.genes_vs_motifs.rankings. Skipping this module.\n"
     ]
    },
    {
     "name": "stdout",
     "output_type": "stream",
     "text": [
      "[####                                    ] | 10% Completed | 342.38 s"
     ]
    },
    {
     "name": "stderr",
     "output_type": "stream",
     "text": [
      "\n",
      "2023-08-09 14:18:43,960 - pyscenic.transform - WARNING - Less than 80% of the genes in ZNF165 could be mapped to hg38__refseq-r80__10kb_up_and_down_tss.mc9nr.genes_vs_motifs.rankings. Skipping this module.\n"
     ]
    },
    {
     "name": "stdout",
     "output_type": "stream",
     "text": [
      "[####                                    ] | 10% Completed | 342.60 s"
     ]
    },
    {
     "name": "stderr",
     "output_type": "stream",
     "text": [
      "\n",
      "2023-08-09 14:18:44,218 - pyscenic.transform - WARNING - Less than 80% of the genes in ZNF367 could be mapped to hg38__refseq-r80__10kb_up_and_down_tss.mc9nr.genes_vs_motifs.rankings. Skipping this module.\n"
     ]
    },
    {
     "name": "stdout",
     "output_type": "stream",
     "text": [
      "[####                                    ] | 10% Completed | 343.25 s"
     ]
    },
    {
     "name": "stderr",
     "output_type": "stream",
     "text": [
      "\n",
      "2023-08-09 14:18:44,815 - pyscenic.transform - WARNING - Less than 80% of the genes in POLE3 could be mapped to hg38__refseq-r80__500bp_up_and_100bp_down_tss.mc9nr.genes_vs_motifs.rankings. Skipping this module.\n",
      "\n",
      "2023-08-09 14:18:45,003 - pyscenic.transform - WARNING - Less than 80% of the genes in POU2AF1 could be mapped to hg38__refseq-r80__500bp_up_and_100bp_down_tss.mc9nr.genes_vs_motifs.rankings. Skipping this module.\n"
     ]
    },
    {
     "name": "stdout",
     "output_type": "stream",
     "text": [
      "[####                                    ] | 10% Completed | 343.56 s"
     ]
    },
    {
     "name": "stderr",
     "output_type": "stream",
     "text": [
      "\n",
      "2023-08-09 14:18:45,185 - pyscenic.transform - WARNING - Less than 80% of the genes in POU3F2 could be mapped to hg38__refseq-r80__500bp_up_and_100bp_down_tss.mc9nr.genes_vs_motifs.rankings. Skipping this module.\n",
      "\n",
      "2023-08-09 14:18:45,387 - pyscenic.transform - WARNING - Less than 80% of the genes in PPARG could be mapped to hg38__refseq-r80__500bp_up_and_100bp_down_tss.mc9nr.genes_vs_motifs.rankings. Skipping this module.\n"
     ]
    },
    {
     "name": "stdout",
     "output_type": "stream",
     "text": [
      "[####                                    ] | 10% Completed | 345.27 s"
     ]
    },
    {
     "name": "stderr",
     "output_type": "stream",
     "text": [
      "\n",
      "2023-08-09 14:18:46,855 - pyscenic.transform - WARNING - Less than 80% of the genes in RELB could be mapped to hg38__refseq-r80__500bp_up_and_100bp_down_tss.mc9nr.genes_vs_motifs.rankings. Skipping this module.\n"
     ]
    },
    {
     "name": "stdout",
     "output_type": "stream",
     "text": [
      "[####                                    ] | 10% Completed | 346.24 s"
     ]
    },
    {
     "name": "stderr",
     "output_type": "stream",
     "text": [
      "\n",
      "2023-08-09 14:18:47,876 - pyscenic.transform - WARNING - Less than 80% of the genes in SIX1 could be mapped to hg38__refseq-r80__500bp_up_and_100bp_down_tss.mc9nr.genes_vs_motifs.rankings. Skipping this module.\n"
     ]
    },
    {
     "name": "stdout",
     "output_type": "stream",
     "text": [
      "[####                                    ] | 10% Completed | 347.00 s"
     ]
    },
    {
     "name": "stderr",
     "output_type": "stream",
     "text": [
      "\n",
      "2023-08-09 14:18:48,539 - pyscenic.transform - WARNING - Less than 80% of the genes in SOX21 could be mapped to hg38__refseq-r80__500bp_up_and_100bp_down_tss.mc9nr.genes_vs_motifs.rankings. Skipping this module.\n"
     ]
    },
    {
     "name": "stdout",
     "output_type": "stream",
     "text": [
      "[####                                    ] | 10% Completed | 347.96 s"
     ]
    },
    {
     "name": "stderr",
     "output_type": "stream",
     "text": [
      "\n",
      "2023-08-09 14:18:49,586 - pyscenic.transform - WARNING - Less than 80% of the genes in TAL2 could be mapped to hg38__refseq-r80__500bp_up_and_100bp_down_tss.mc9nr.genes_vs_motifs.rankings. Skipping this module.\n"
     ]
    },
    {
     "name": "stdout",
     "output_type": "stream",
     "text": [
      "[####                                    ] | 10% Completed | 348.37 s"
     ]
    },
    {
     "name": "stderr",
     "output_type": "stream",
     "text": [
      "\n",
      "2023-08-09 14:18:49,997 - pyscenic.transform - WARNING - Less than 80% of the genes in TRIB1 could be mapped to hg38__refseq-r80__500bp_up_and_100bp_down_tss.mc9nr.genes_vs_motifs.rankings. Skipping this module.\n"
     ]
    },
    {
     "name": "stdout",
     "output_type": "stream",
     "text": [
      "[############################            ] | 70% Completed | 367.53 s"
     ]
    },
    {
     "name": "stderr",
     "output_type": "stream",
     "text": [
      "\n",
      "2023-08-09 14:19:09,093 - pyscenic.transform - WARNING - Less than 80% of the genes in DLX3 could be mapped to hg38__refseq-r80__10kb_up_and_down_tss.mc9nr.genes_vs_motifs.rankings. Skipping this module.\n"
     ]
    },
    {
     "name": "stdout",
     "output_type": "stream",
     "text": [
      "[########################################] | 100% Completed | 388.08 s\n",
      "\n",
      "COMPLETED WRITING ENRICHED MOTIFS /home/linl5/project/SCLC/data/lx108/lx108.UUUT.1.motifs.csv \n",
      "\n",
      "                                       Enrichment            \\\n",
      "                                              AUC       NES   \n",
      "TF   MotifID                                                  \n",
      "ATF3 transfac_pro__M07414                0.071161  3.165827   \n",
      "     cisbp__M4526                        0.073624  3.385695   \n",
      "     transfac_public__M00017             0.070647  3.119974   \n",
      "     transfac_pro__M03538                0.080507  4.000156   \n",
      "     dbcorrdb__JUND__ENCSR000EBZ_1__m1   0.075434  3.547320   \n",
      "\n",
      "                                                              \\\n",
      "                                       MotifSimilarityQvalue   \n",
      "TF   MotifID                                                   \n",
      "ATF3 transfac_pro__M07414                           0.000972   \n",
      "     cisbp__M4526                                   0.000970   \n",
      "     transfac_public__M00017                        0.000960   \n",
      "     transfac_pro__M03538                           0.000887   \n",
      "     dbcorrdb__JUND__ENCSR000EBZ_1__m1              0.000863   \n",
      "\n",
      "                                                            \\\n",
      "                                       OrthologousIdentity   \n",
      "TF   MotifID                                                 \n",
      "ATF3 transfac_pro__M07414                              1.0   \n",
      "     cisbp__M4526                                      1.0   \n",
      "     transfac_public__M00017                           1.0   \n",
      "     transfac_pro__M03538                              1.0   \n",
      "     dbcorrdb__JUND__ENCSR000EBZ_1__m1                 1.0   \n",
      "\n",
      "                                                                                           \\\n",
      "                                                                               Annotation   \n",
      "TF   MotifID                                                                                \n",
      "ATF3 transfac_pro__M07414               motif similar to factorbook__CREB ('CREB'; q-v...   \n",
      "     cisbp__M4526                       gene is annotated for similar motif homer__DAT...   \n",
      "     transfac_public__M00017            gene is annotated for similar motif transfac_p...   \n",
      "     transfac_pro__M03538               gene is annotated for similar motif homer__DAT...   \n",
      "     dbcorrdb__JUND__ENCSR000EBZ_1__m1  gene is annotated for similar motif dbcorrdb__...   \n",
      "\n",
      "                                                                                           \\\n",
      "                                                                                  Context   \n",
      "TF   MotifID                                                                                \n",
      "ATF3 transfac_pro__M07414               (weight>75.0%, hg38__refseq-r80__10kb_up_and_d...   \n",
      "     cisbp__M4526                       (weight>75.0%, hg38__refseq-r80__10kb_up_and_d...   \n",
      "     transfac_public__M00017            (weight>75.0%, hg38__refseq-r80__10kb_up_and_d...   \n",
      "     transfac_pro__M03538               (weight>75.0%, hg38__refseq-r80__10kb_up_and_d...   \n",
      "     dbcorrdb__JUND__ENCSR000EBZ_1__m1  (weight>75.0%, hg38__refseq-r80__10kb_up_and_d...   \n",
      "\n",
      "                                                                                           \\\n",
      "                                                                              TargetGenes   \n",
      "TF   MotifID                                                                                \n",
      "ATF3 transfac_pro__M07414               [(NFKBIA, 8.94777838734876), (INTS6, 5.6553386...   \n",
      "     cisbp__M4526                       [(ZFP36L1, 2.4842024548142287), (CYP26B1, 2.55...   \n",
      "     transfac_public__M00017            [(CYP26B1, 2.554592300966599), (FST, 1.3780287...   \n",
      "     transfac_pro__M03538               [(NPAS4, 31.25708704503212), (JUNB, 37.5912840...   \n",
      "     dbcorrdb__JUND__ENCSR000EBZ_1__m1  [(HOXB-AS3, 1.3948427907412844), (BBC3, 1.9062...   \n",
      "\n",
      "                                                  \n",
      "                                       RankAtMax  \n",
      "TF   MotifID                                      \n",
      "ATF3 transfac_pro__M07414                    714  \n",
      "     cisbp__M4526                           1405  \n",
      "     transfac_public__M00017                1479  \n",
      "     transfac_pro__M03538                   1170  \n",
      "     dbcorrdb__JUND__ENCSR000EBZ_1__m1      1354  \n",
      "Create regulons from a dataframe of enriched features.\n",
      "Additional columns saved: []\n",
      "\n",
      "COMPLETED WRITING DISCOVERED REGULON /home/linl5/project/SCLC/data/lx108/lx108.UUUT.1.regulons.p \n",
      "\n",
      "\n",
      "FINISHED READING ADJACENCIES FILE /home/linl5/project/SCLC/data/lx108/lx108.UU.1.adjacencies.tsv \n",
      "\n"
     ]
    },
    {
     "name": "stderr",
     "output_type": "stream",
     "text": [
      "\n",
      "2023-08-09 14:19:36,126 - pyscenic.utils - INFO - Calculating Pearson correlations.\n",
      "\n",
      "2023-08-09 14:19:36,169 - pyscenic.utils - WARNING - Note on correlation calculation: the default behaviour for calculating the correlations has changed after pySCENIC verion 0.9.16. Previously, the default was to calculate the correlation between a TF and target gene using only cells with non-zero expression values (mask_dropouts=True). The current default is now to use all cells to match the behavior of the R verision of SCENIC. The original settings can be retained by setting 'rho_mask_dropouts=True' in the modules_from_adjacencies function, or '--mask_dropouts' from the CLI.\n",
      "\tDropout masking is currently set to [False].\n"
     ]
    },
    {
     "name": "stdout",
     "output_type": "stream",
     "text": [
      "\n",
      "FINISHED READING EXPRESSION MATRIX /home/linl5/project/SCLC/results/lx108/lx108.UU.1.qc.tpm.csv \n",
      "\n"
     ]
    },
    {
     "name": "stderr",
     "output_type": "stream",
     "text": [
      "\n",
      "2023-08-09 14:19:37,884 - pyscenic.utils - INFO - Creating modules.\n"
     ]
    },
    {
     "name": "stdout",
     "output_type": "stream",
     "text": [
      "\n",
      "COMPLETED COEXPRESSION MODULE WRITING: /home/linl5/project/SCLC/data/lx108/lx108.UU.1.modules.p \n",
      "\n",
      "[                                        ] | 0% Completed | 15.88 sms"
     ]
    },
    {
     "name": "stderr",
     "output_type": "stream",
     "text": [
      "\n",
      "2023-08-09 14:20:05,414 - pyscenic.transform - WARNING - Less than 80% of the genes in SP5 could be mapped to hg38__refseq-r80__500bp_up_and_100bp_down_tss.mc9nr.genes_vs_motifs.rankings. Skipping this module.\n"
     ]
    },
    {
     "name": "stdout",
     "output_type": "stream",
     "text": [
      "[                                        ] | 0% Completed | 16.64 s"
     ]
    },
    {
     "name": "stderr",
     "output_type": "stream",
     "text": [
      "\n",
      "2023-08-09 14:20:06,079 - pyscenic.transform - WARNING - Less than 80% of the genes in TIMM44 could be mapped to hg38__refseq-r80__500bp_up_and_100bp_down_tss.mc9nr.genes_vs_motifs.rankings. Skipping this module.\n",
      "\n",
      "2023-08-09 14:20:06,242 - pyscenic.transform - WARNING - Less than 80% of the genes in TIMM8A could be mapped to hg38__refseq-r80__500bp_up_and_100bp_down_tss.mc9nr.genes_vs_motifs.rankings. Skipping this module.\n"
     ]
    },
    {
     "name": "stdout",
     "output_type": "stream",
     "text": [
      "[                                        ] | 0% Completed | 16.96 s"
     ]
    },
    {
     "name": "stderr",
     "output_type": "stream",
     "text": [
      "\n",
      "2023-08-09 14:20:06,430 - pyscenic.transform - WARNING - Less than 80% of the genes in TRIB1 could be mapped to hg38__refseq-r80__500bp_up_and_100bp_down_tss.mc9nr.genes_vs_motifs.rankings. Skipping this module.\n"
     ]
    },
    {
     "name": "stdout",
     "output_type": "stream",
     "text": [
      "[                                        ] | 0% Completed | 18.15 s"
     ]
    },
    {
     "name": "stderr",
     "output_type": "stream",
     "text": [
      "\n",
      "2023-08-09 14:20:07,646 - pyscenic.transform - WARNING - Less than 80% of the genes in ZNF322 could be mapped to hg38__refseq-r80__500bp_up_and_100bp_down_tss.mc9nr.genes_vs_motifs.rankings. Skipping this module.\n",
      "\n",
      "2023-08-09 14:20:07,818 - pyscenic.transform - WARNING - Less than 80% of the genes in ZNF367 could be mapped to hg38__refseq-r80__500bp_up_and_100bp_down_tss.mc9nr.genes_vs_motifs.rankings. Skipping this module.\n"
     ]
    },
    {
     "name": "stdout",
     "output_type": "stream",
     "text": [
      "[                                        ] | 0% Completed | 18.57 s"
     ]
    },
    {
     "name": "stderr",
     "output_type": "stream",
     "text": [
      "\n",
      "2023-08-09 14:20:07,993 - pyscenic.transform - WARNING - Less than 80% of the genes in ZSCAN31 could be mapped to hg38__refseq-r80__500bp_up_and_100bp_down_tss.mc9nr.genes_vs_motifs.rankings. Skipping this module.\n"
     ]
    },
    {
     "name": "stdout",
     "output_type": "stream",
     "text": [
      "[                                        ] | 0% Completed | 20.39 s"
     ]
    },
    {
     "name": "stderr",
     "output_type": "stream",
     "text": [
      "\n",
      "2023-08-09 14:20:09,900 - pyscenic.transform - WARNING - Less than 80% of the genes in ASCL2 could be mapped to hg38__refseq-r80__500bp_up_and_100bp_down_tss.mc9nr.genes_vs_motifs.rankings. Skipping this module.\n"
     ]
    },
    {
     "name": "stdout",
     "output_type": "stream",
     "text": [
      "[                                        ] | 0% Completed | 23.58 s"
     ]
    },
    {
     "name": "stderr",
     "output_type": "stream",
     "text": [
      "\n",
      "2023-08-09 14:20:13,010 - pyscenic.transform - WARNING - Less than 80% of the genes in BCL11A could be mapped to hg38__refseq-r80__500bp_up_and_100bp_down_tss.mc9nr.genes_vs_motifs.rankings. Skipping this module.\n"
     ]
    },
    {
     "name": "stdout",
     "output_type": "stream",
     "text": [
      "[                                        ] | 0% Completed | 25.40 s"
     ]
    },
    {
     "name": "stderr",
     "output_type": "stream",
     "text": [
      "\n",
      "2023-08-09 14:20:14,892 - pyscenic.transform - WARNING - Less than 80% of the genes in BHLHE22 could be mapped to hg38__refseq-r80__500bp_up_and_100bp_down_tss.mc9nr.genes_vs_motifs.rankings. Skipping this module.\n"
     ]
    },
    {
     "name": "stdout",
     "output_type": "stream",
     "text": [
      "[                                        ] | 0% Completed | 32.15 s"
     ]
    },
    {
     "name": "stderr",
     "output_type": "stream",
     "text": [
      "\n",
      "2023-08-09 14:20:21,661 - pyscenic.transform - WARNING - Less than 80% of the genes in CEBPG could be mapped to hg38__refseq-r80__500bp_up_and_100bp_down_tss.mc9nr.genes_vs_motifs.rankings. Skipping this module.\n"
     ]
    },
    {
     "name": "stdout",
     "output_type": "stream",
     "text": [
      "[                                        ] | 0% Completed | 34.71 s"
     ]
    },
    {
     "name": "stderr",
     "output_type": "stream",
     "text": [
      "\n",
      "2023-08-09 14:20:24,140 - pyscenic.transform - WARNING - Less than 80% of the genes in DLX3 could be mapped to hg38__refseq-r80__500bp_up_and_100bp_down_tss.mc9nr.genes_vs_motifs.rankings. Skipping this module.\n"
     ]
    },
    {
     "name": "stdout",
     "output_type": "stream",
     "text": [
      "[                                        ] | 0% Completed | 36.43 s"
     ]
    },
    {
     "name": "stderr",
     "output_type": "stream",
     "text": [
      "\n",
      "2023-08-09 14:20:25,874 - pyscenic.transform - WARNING - Less than 80% of the genes in DMRTA1 could be mapped to hg38__refseq-r80__500bp_up_and_100bp_down_tss.mc9nr.genes_vs_motifs.rankings. Skipping this module.\n"
     ]
    },
    {
     "name": "stdout",
     "output_type": "stream",
     "text": [
      "[                                        ] | 0% Completed | 43.84 s"
     ]
    },
    {
     "name": "stderr",
     "output_type": "stream",
     "text": [
      "\n",
      "2023-08-09 14:20:33,276 - pyscenic.transform - WARNING - Less than 80% of the genes in EBF2 could be mapped to hg38__refseq-r80__500bp_up_and_100bp_down_tss.mc9nr.genes_vs_motifs.rankings. Skipping this module.\n"
     ]
    },
    {
     "name": "stdout",
     "output_type": "stream",
     "text": [
      "[                                        ] | 0% Completed | 46.73 s"
     ]
    },
    {
     "name": "stderr",
     "output_type": "stream",
     "text": [
      "\n",
      "2023-08-09 14:20:36,180 - pyscenic.transform - WARNING - Less than 80% of the genes in ELF5 could be mapped to hg38__refseq-r80__500bp_up_and_100bp_down_tss.mc9nr.genes_vs_motifs.rankings. Skipping this module.\n"
     ]
    },
    {
     "name": "stdout",
     "output_type": "stream",
     "text": [
      "[                                        ] | 0% Completed | 47.27 s"
     ]
    },
    {
     "name": "stderr",
     "output_type": "stream",
     "text": [
      "\n",
      "2023-08-09 14:20:36,715 - pyscenic.transform - WARNING - Less than 80% of the genes in EPAS1 could be mapped to hg38__refseq-r80__500bp_up_and_100bp_down_tss.mc9nr.genes_vs_motifs.rankings. Skipping this module.\n"
     ]
    },
    {
     "name": "stdout",
     "output_type": "stream",
     "text": [
      "[                                        ] | 0% Completed | 51.74 s"
     ]
    },
    {
     "name": "stderr",
     "output_type": "stream",
     "text": [
      "\n",
      "2023-08-09 14:20:41,216 - pyscenic.transform - WARNING - Less than 80% of the genes in FOSL1 could be mapped to hg38__refseq-r80__500bp_up_and_100bp_down_tss.mc9nr.genes_vs_motifs.rankings. Skipping this module.\n",
      "\n",
      "2023-08-09 14:20:41,308 - pyscenic.transform - WARNING - Less than 80% of the genes in FOXC1 could be mapped to hg38__refseq-r80__500bp_up_and_100bp_down_tss.mc9nr.genes_vs_motifs.rankings. Skipping this module.\n"
     ]
    },
    {
     "name": "stdout",
     "output_type": "stream",
     "text": [
      "[                                        ] | 0% Completed | 52.05 s"
     ]
    },
    {
     "name": "stderr",
     "output_type": "stream",
     "text": [
      "\n",
      "2023-08-09 14:20:41,563 - pyscenic.transform - WARNING - Less than 80% of the genes in GRHL1 could be mapped to hg38__refseq-r80__10kb_up_and_down_tss.mc9nr.genes_vs_motifs.rankings. Skipping this module.\n"
     ]
    },
    {
     "name": "stdout",
     "output_type": "stream",
     "text": [
      "[                                        ] | 0% Completed | 52.78 s"
     ]
    },
    {
     "name": "stderr",
     "output_type": "stream",
     "text": [
      "\n",
      "2023-08-09 14:20:42,244 - pyscenic.transform - WARNING - Less than 80% of the genes in FOXJ1 could be mapped to hg38__refseq-r80__500bp_up_and_100bp_down_tss.mc9nr.genes_vs_motifs.rankings. Skipping this module.\n"
     ]
    },
    {
     "name": "stdout",
     "output_type": "stream",
     "text": [
      "[                                        ] | 0% Completed | 53.42 s"
     ]
    },
    {
     "name": "stderr",
     "output_type": "stream",
     "text": [
      "\n",
      "2023-08-09 14:20:42,946 - pyscenic.transform - WARNING - Less than 80% of the genes in GATA2 could be mapped to hg38__refseq-r80__500bp_up_and_100bp_down_tss.mc9nr.genes_vs_motifs.rankings. Skipping this module.\n",
      "\n",
      "2023-08-09 14:20:43,122 - pyscenic.transform - WARNING - Less than 80% of the genes in GOT1 could be mapped to hg38__refseq-r80__500bp_up_and_100bp_down_tss.mc9nr.genes_vs_motifs.rankings. Skipping this module.\n"
     ]
    },
    {
     "name": "stdout",
     "output_type": "stream",
     "text": [
      "[                                        ] | 0% Completed | 53.73 s"
     ]
    },
    {
     "name": "stderr",
     "output_type": "stream",
     "text": [
      "\n",
      "2023-08-09 14:20:43,212 - pyscenic.transform - WARNING - Less than 80% of the genes in GRHL1 could be mapped to hg38__refseq-r80__500bp_up_and_100bp_down_tss.mc9nr.genes_vs_motifs.rankings. Skipping this module.\n"
     ]
    },
    {
     "name": "stdout",
     "output_type": "stream",
     "text": [
      "[                                        ] | 0% Completed | 54.05 s"
     ]
    },
    {
     "name": "stderr",
     "output_type": "stream",
     "text": [
      "\n",
      "2023-08-09 14:20:43,493 - pyscenic.transform - WARNING - Less than 80% of the genes in GTF2A1 could be mapped to hg38__refseq-r80__500bp_up_and_100bp_down_tss.mc9nr.genes_vs_motifs.rankings. Skipping this module.\n"
     ]
    },
    {
     "name": "stdout",
     "output_type": "stream",
     "text": [
      "[                                        ] | 0% Completed | 55.85 s"
     ]
    },
    {
     "name": "stderr",
     "output_type": "stream",
     "text": [
      "\n",
      "2023-08-09 14:20:45,364 - pyscenic.transform - WARNING - Less than 80% of the genes in HEY2 could be mapped to hg38__refseq-r80__500bp_up_and_100bp_down_tss.mc9nr.genes_vs_motifs.rankings. Skipping this module.\n",
      "\n",
      "2023-08-09 14:20:45,531 - pyscenic.transform - WARNING - Less than 80% of the genes in HIST1H2BN could be mapped to hg38__refseq-r80__500bp_up_and_100bp_down_tss.mc9nr.genes_vs_motifs.rankings. Skipping this module.\n"
     ]
    },
    {
     "name": "stdout",
     "output_type": "stream",
     "text": [
      "[                                        ] | 0% Completed | 57.68 s"
     ]
    },
    {
     "name": "stderr",
     "output_type": "stream",
     "text": [
      "\n",
      "2023-08-09 14:20:47,102 - pyscenic.transform - WARNING - Less than 80% of the genes in HSPA1L could be mapped to hg38__refseq-r80__500bp_up_and_100bp_down_tss.mc9nr.genes_vs_motifs.rankings. Skipping this module.\n",
      "\n",
      "2023-08-09 14:20:47,286 - pyscenic.transform - WARNING - Less than 80% of the genes in ID1 could be mapped to hg38__refseq-r80__500bp_up_and_100bp_down_tss.mc9nr.genes_vs_motifs.rankings. Skipping this module.\n"
     ]
    },
    {
     "name": "stdout",
     "output_type": "stream",
     "text": [
      "[                                        ] | 0% Completed | 58.21 s"
     ]
    },
    {
     "name": "stderr",
     "output_type": "stream",
     "text": [
      "\n",
      "2023-08-09 14:20:47,735 - pyscenic.transform - WARNING - Less than 80% of the genes in INSM1 could be mapped to hg38__refseq-r80__500bp_up_and_100bp_down_tss.mc9nr.genes_vs_motifs.rankings. Skipping this module.\n"
     ]
    },
    {
     "name": "stdout",
     "output_type": "stream",
     "text": [
      "[                                        ] | 0% Completed | 58.52 s"
     ]
    },
    {
     "name": "stderr",
     "output_type": "stream",
     "text": [
      "\n",
      "2023-08-09 14:20:48,020 - pyscenic.transform - WARNING - Less than 80% of the genes in IRX5 could be mapped to hg38__refseq-r80__500bp_up_and_100bp_down_tss.mc9nr.genes_vs_motifs.rankings. Skipping this module.\n",
      "\n",
      "2023-08-09 14:20:48,126 - pyscenic.transform - WARNING - Less than 80% of the genes in ISL1 could be mapped to hg38__refseq-r80__500bp_up_and_100bp_down_tss.mc9nr.genes_vs_motifs.rankings. Skipping this module.\n"
     ]
    },
    {
     "name": "stdout",
     "output_type": "stream",
     "text": [
      "[                                        ] | 0% Completed | 60.76 s"
     ]
    },
    {
     "name": "stderr",
     "output_type": "stream",
     "text": [
      "\n",
      "2023-08-09 14:20:50,225 - pyscenic.transform - WARNING - Less than 80% of the genes in KLF10 could be mapped to hg38__refseq-r80__500bp_up_and_100bp_down_tss.mc9nr.genes_vs_motifs.rankings. Skipping this module.\n"
     ]
    },
    {
     "name": "stdout",
     "output_type": "stream",
     "text": [
      "[                                        ] | 0% Completed | 61.82 s"
     ]
    },
    {
     "name": "stderr",
     "output_type": "stream",
     "text": [
      "\n",
      "2023-08-09 14:20:51,310 - pyscenic.transform - WARNING - Less than 80% of the genes in KLF6 could be mapped to hg38__refseq-r80__500bp_up_and_100bp_down_tss.mc9nr.genes_vs_motifs.rankings. Skipping this module.\n"
     ]
    },
    {
     "name": "stdout",
     "output_type": "stream",
     "text": [
      "[                                        ] | 0% Completed | 62.89 s"
     ]
    },
    {
     "name": "stderr",
     "output_type": "stream",
     "text": [
      "\n",
      "2023-08-09 14:20:52,367 - pyscenic.transform - WARNING - Less than 80% of the genes in MAFB could be mapped to hg38__refseq-r80__500bp_up_and_100bp_down_tss.mc9nr.genes_vs_motifs.rankings. Skipping this module.\n"
     ]
    },
    {
     "name": "stdout",
     "output_type": "stream",
     "text": [
      "[                                        ] | 0% Completed | 63.52 s"
     ]
    },
    {
     "name": "stderr",
     "output_type": "stream",
     "text": [
      "\n",
      "2023-08-09 14:20:52,989 - pyscenic.transform - WARNING - Less than 80% of the genes in MEOX2 could be mapped to hg38__refseq-r80__500bp_up_and_100bp_down_tss.mc9nr.genes_vs_motifs.rankings. Skipping this module.\n",
      "\n",
      "2023-08-09 14:20:53,168 - pyscenic.transform - WARNING - Less than 80% of the genes in MESP1 could be mapped to hg38__refseq-r80__500bp_up_and_100bp_down_tss.mc9nr.genes_vs_motifs.rankings. Skipping this module.\n"
     ]
    },
    {
     "name": "stdout",
     "output_type": "stream",
     "text": [
      "[                                        ] | 0% Completed | 64.58 s"
     ]
    },
    {
     "name": "stderr",
     "output_type": "stream",
     "text": [
      "\n",
      "2023-08-09 14:20:54,059 - pyscenic.transform - WARNING - Less than 80% of the genes in MSX1 could be mapped to hg38__refseq-r80__500bp_up_and_100bp_down_tss.mc9nr.genes_vs_motifs.rankings. Skipping this module.\n"
     ]
    },
    {
     "name": "stdout",
     "output_type": "stream",
     "text": [
      "[                                        ] | 0% Completed | 65.01 s"
     ]
    },
    {
     "name": "stderr",
     "output_type": "stream",
     "text": [
      "\n",
      "2023-08-09 14:20:54,532 - pyscenic.transform - WARNING - Less than 80% of the genes in MYBL1 could be mapped to hg38__refseq-r80__500bp_up_and_100bp_down_tss.mc9nr.genes_vs_motifs.rankings. Skipping this module.\n"
     ]
    },
    {
     "name": "stdout",
     "output_type": "stream",
     "text": [
      "[                                        ] | 0% Completed | 65.64 s"
     ]
    },
    {
     "name": "stderr",
     "output_type": "stream",
     "text": [
      "\n",
      "2023-08-09 14:20:55,162 - pyscenic.transform - WARNING - Less than 80% of the genes in MYCL could be mapped to hg38__refseq-r80__500bp_up_and_100bp_down_tss.mc9nr.genes_vs_motifs.rankings. Skipping this module.\n",
      "\n",
      "2023-08-09 14:20:55,340 - pyscenic.transform - WARNING - Less than 80% of the genes in MYLK could be mapped to hg38__refseq-r80__500bp_up_and_100bp_down_tss.mc9nr.genes_vs_motifs.rankings. Skipping this module.\n"
     ]
    },
    {
     "name": "stdout",
     "output_type": "stream",
     "text": [
      "[                                        ] | 0% Completed | 66.48 s"
     ]
    },
    {
     "name": "stderr",
     "output_type": "stream",
     "text": [
      "\n",
      "2023-08-09 14:20:55,960 - pyscenic.transform - WARNING - Less than 80% of the genes in NKX2-2 could be mapped to hg38__refseq-r80__500bp_up_and_100bp_down_tss.mc9nr.genes_vs_motifs.rankings. Skipping this module.\n"
     ]
    },
    {
     "name": "stdout",
     "output_type": "stream",
     "text": [
      "[                                        ] | 0% Completed | 67.75 s"
     ]
    },
    {
     "name": "stderr",
     "output_type": "stream",
     "text": [
      "\n",
      "2023-08-09 14:20:57,274 - pyscenic.transform - WARNING - Less than 80% of the genes in NR2F2 could be mapped to hg38__refseq-r80__500bp_up_and_100bp_down_tss.mc9nr.genes_vs_motifs.rankings. Skipping this module.\n"
     ]
    },
    {
     "name": "stdout",
     "output_type": "stream",
     "text": [
      "[                                        ] | 0% Completed | 68.39 s"
     ]
    },
    {
     "name": "stderr",
     "output_type": "stream",
     "text": [
      "\n",
      "2023-08-09 14:20:57,849 - pyscenic.transform - WARNING - Less than 80% of the genes in NR4A3 could be mapped to hg38__refseq-r80__500bp_up_and_100bp_down_tss.mc9nr.genes_vs_motifs.rankings. Skipping this module.\n"
     ]
    },
    {
     "name": "stdout",
     "output_type": "stream",
     "text": [
      "[                                        ] | 0% Completed | 71.26 s"
     ]
    },
    {
     "name": "stderr",
     "output_type": "stream",
     "text": [
      "\n",
      "2023-08-09 14:21:00,770 - pyscenic.transform - WARNING - Less than 80% of the genes in POU2F2 could be mapped to hg38__refseq-r80__500bp_up_and_100bp_down_tss.mc9nr.genes_vs_motifs.rankings. Skipping this module.\n"
     ]
    },
    {
     "name": "stdout",
     "output_type": "stream",
     "text": [
      "[                                        ] | 0% Completed | 80.71 s"
     ]
    },
    {
     "name": "stderr",
     "output_type": "stream",
     "text": [
      "\n",
      "2023-08-09 14:21:10,219 - pyscenic.transform - WARNING - Less than 80% of the genes in SIX1 could be mapped to hg38__refseq-r80__500bp_up_and_100bp_down_tss.mc9nr.genes_vs_motifs.rankings. Skipping this module.\n"
     ]
    },
    {
     "name": "stdout",
     "output_type": "stream",
     "text": [
      "[                                        ] | 0% Completed | 81.45 s"
     ]
    },
    {
     "name": "stderr",
     "output_type": "stream",
     "text": [
      "\n",
      "2023-08-09 14:21:10,934 - pyscenic.transform - WARNING - Less than 80% of the genes in MSX1 could be mapped to hg38__refseq-r80__10kb_up_and_down_tss.mc9nr.genes_vs_motifs.rankings. Skipping this module.\n"
     ]
    },
    {
     "name": "stdout",
     "output_type": "stream",
     "text": [
      "[                                        ] | 0% Completed | 84.10 s"
     ]
    },
    {
     "name": "stderr",
     "output_type": "stream",
     "text": [
      "\n",
      "2023-08-09 14:21:13,618 - pyscenic.transform - WARNING - Less than 80% of the genes in Regulon for MSX1 could be mapped to hg38__refseq-r80__500bp_up_and_100bp_down_tss.mc9nr.genes_vs_motifs.rankings. Skipping this module.\n"
     ]
    },
    {
     "name": "stdout",
     "output_type": "stream",
     "text": [
      "[                                        ] | 0% Completed | 85.37 s"
     ]
    },
    {
     "name": "stderr",
     "output_type": "stream",
     "text": [
      "\n",
      "2023-08-09 14:21:14,902 - pyscenic.transform - WARNING - Less than 80% of the genes in SP5 could be mapped to hg38__refseq-r80__500bp_up_and_100bp_down_tss.mc9nr.genes_vs_motifs.rankings. Skipping this module.\n"
     ]
    },
    {
     "name": "stdout",
     "output_type": "stream",
     "text": [
      "[                                        ] | 0% Completed | 85.90 s"
     ]
    },
    {
     "name": "stderr",
     "output_type": "stream",
     "text": [
      "\n",
      "2023-08-09 14:21:15,356 - pyscenic.transform - WARNING - Less than 80% of the genes in TBX3 could be mapped to hg38__refseq-r80__500bp_up_and_100bp_down_tss.mc9nr.genes_vs_motifs.rankings. Skipping this module.\n",
      "\n",
      "2023-08-09 14:21:15,375 - pyscenic.transform - WARNING - Less than 80% of the genes in Regulon for ZSCAN31 could be mapped to hg38__refseq-r80__10kb_up_and_down_tss.mc9nr.genes_vs_motifs.rankings. Skipping this module.\n"
     ]
    },
    {
     "name": "stdout",
     "output_type": "stream",
     "text": [
      "[                                        ] | 0% Completed | 86.86 s"
     ]
    },
    {
     "name": "stderr",
     "output_type": "stream",
     "text": [
      "\n",
      "2023-08-09 14:21:16,341 - pyscenic.transform - WARNING - Less than 80% of the genes in TGIF1 could be mapped to hg38__refseq-r80__500bp_up_and_100bp_down_tss.mc9nr.genes_vs_motifs.rankings. Skipping this module.\n",
      "\n",
      "2023-08-09 14:21:16,454 - pyscenic.transform - WARNING - Less than 80% of the genes in TIMM44 could be mapped to hg38__refseq-r80__500bp_up_and_100bp_down_tss.mc9nr.genes_vs_motifs.rankings. Skipping this module.\n"
     ]
    },
    {
     "name": "stdout",
     "output_type": "stream",
     "text": [
      "[                                        ] | 0% Completed | 87.07 s"
     ]
    },
    {
     "name": "stderr",
     "output_type": "stream",
     "text": [
      "\n",
      "2023-08-09 14:21:16,566 - pyscenic.transform - WARNING - Less than 80% of the genes in TIMM8A could be mapped to hg38__refseq-r80__500bp_up_and_100bp_down_tss.mc9nr.genes_vs_motifs.rankings. Skipping this module.\n"
     ]
    },
    {
     "name": "stdout",
     "output_type": "stream",
     "text": [
      "[                                        ] | 0% Completed | 87.38 s"
     ]
    },
    {
     "name": "stderr",
     "output_type": "stream",
     "text": [
      "\n",
      "2023-08-09 14:21:16,845 - pyscenic.transform - WARNING - Less than 80% of the genes in TRIB1 could be mapped to hg38__refseq-r80__500bp_up_and_100bp_down_tss.mc9nr.genes_vs_motifs.rankings. Skipping this module.\n"
     ]
    },
    {
     "name": "stdout",
     "output_type": "stream",
     "text": [
      "[                                        ] | 0% Completed | 87.82 s"
     ]
    },
    {
     "name": "stderr",
     "output_type": "stream",
     "text": [
      "\n",
      "2023-08-09 14:21:17,267 - pyscenic.transform - WARNING - Less than 80% of the genes in TWIST1 could be mapped to hg38__refseq-r80__500bp_up_and_100bp_down_tss.mc9nr.genes_vs_motifs.rankings. Skipping this module.\n"
     ]
    },
    {
     "name": "stdout",
     "output_type": "stream",
     "text": [
      "[                                        ] | 0% Completed | 88.24 s"
     ]
    },
    {
     "name": "stderr",
     "output_type": "stream",
     "text": [
      "\n",
      "2023-08-09 14:21:17,761 - pyscenic.transform - WARNING - Less than 80% of the genes in VDR could be mapped to hg38__refseq-r80__500bp_up_and_100bp_down_tss.mc9nr.genes_vs_motifs.rankings. Skipping this module.\n"
     ]
    },
    {
     "name": "stdout",
     "output_type": "stream",
     "text": [
      "[                                        ] | 0% Completed | 88.89 s"
     ]
    },
    {
     "name": "stderr",
     "output_type": "stream",
     "text": [
      "\n",
      "2023-08-09 14:21:18,327 - pyscenic.transform - WARNING - Less than 80% of the genes in ZNF165 could be mapped to hg38__refseq-r80__500bp_up_and_100bp_down_tss.mc9nr.genes_vs_motifs.rankings. Skipping this module.\n"
     ]
    },
    {
     "name": "stdout",
     "output_type": "stream",
     "text": [
      "[                                        ] | 0% Completed | 89.10 s"
     ]
    },
    {
     "name": "stderr",
     "output_type": "stream",
     "text": [
      "\n",
      "2023-08-09 14:21:18,539 - pyscenic.transform - WARNING - Less than 80% of the genes in ZNF322 could be mapped to hg38__refseq-r80__500bp_up_and_100bp_down_tss.mc9nr.genes_vs_motifs.rankings. Skipping this module.\n"
     ]
    },
    {
     "name": "stdout",
     "output_type": "stream",
     "text": [
      "[                                        ] | 0% Completed | 89.32 s"
     ]
    },
    {
     "name": "stderr",
     "output_type": "stream",
     "text": [
      "\n",
      "2023-08-09 14:21:18,753 - pyscenic.transform - WARNING - Less than 80% of the genes in ZNF367 could be mapped to hg38__refseq-r80__500bp_up_and_100bp_down_tss.mc9nr.genes_vs_motifs.rankings. Skipping this module.\n",
      "\n",
      "2023-08-09 14:21:18,842 - pyscenic.transform - WARNING - Less than 80% of the genes in ZNF503 could be mapped to hg38__refseq-r80__500bp_up_and_100bp_down_tss.mc9nr.genes_vs_motifs.rankings. Skipping this module.\n"
     ]
    },
    {
     "name": "stdout",
     "output_type": "stream",
     "text": [
      "[                                        ] | 0% Completed | 89.74 s"
     ]
    },
    {
     "name": "stderr",
     "output_type": "stream",
     "text": [
      "\n",
      "2023-08-09 14:21:19,181 - pyscenic.transform - WARNING - Less than 80% of the genes in ZSCAN31 could be mapped to hg38__refseq-r80__500bp_up_and_100bp_down_tss.mc9nr.genes_vs_motifs.rankings. Skipping this module.\n"
     ]
    },
    {
     "name": "stdout",
     "output_type": "stream",
     "text": [
      "[                                        ] | 0% Completed | 91.45 s"
     ]
    },
    {
     "name": "stderr",
     "output_type": "stream",
     "text": [
      "\n",
      "2023-08-09 14:21:20,937 - pyscenic.transform - WARNING - Less than 80% of the genes in NR4A3 could be mapped to hg38__refseq-r80__10kb_up_and_down_tss.mc9nr.genes_vs_motifs.rankings. Skipping this module.\n"
     ]
    },
    {
     "name": "stdout",
     "output_type": "stream",
     "text": [
      "[                                        ] | 0% Completed | 97.96 s"
     ]
    },
    {
     "name": "stderr",
     "output_type": "stream",
     "text": [
      "\n",
      "2023-08-09 14:21:27,454 - pyscenic.transform - WARNING - Less than 80% of the genes in POU3F1 could be mapped to hg38__refseq-r80__10kb_up_and_down_tss.mc9nr.genes_vs_motifs.rankings. Skipping this module.\n"
     ]
    },
    {
     "name": "stdout",
     "output_type": "stream",
     "text": [
      "[####                                    ] | 10% Completed | 140.75 s"
     ]
    },
    {
     "name": "stderr",
     "output_type": "stream",
     "text": [
      "\n",
      "2023-08-09 14:22:10,211 - pyscenic.transform - WARNING - Less than 80% of the genes in GRHL1 could be mapped to hg38__refseq-r80__500bp_up_and_100bp_down_tss.mc9nr.genes_vs_motifs.rankings. Skipping this module.\n"
     ]
    },
    {
     "name": "stdout",
     "output_type": "stream",
     "text": [
      "[####                                    ] | 10% Completed | 164.30 s"
     ]
    },
    {
     "name": "stderr",
     "output_type": "stream",
     "text": [
      "\n",
      "2023-08-09 14:22:33,760 - pyscenic.transform - WARNING - Less than 80% of the genes in MSX1 could be mapped to hg38__refseq-r80__500bp_up_and_100bp_down_tss.mc9nr.genes_vs_motifs.rankings. Skipping this module.\n"
     ]
    },
    {
     "name": "stdout",
     "output_type": "stream",
     "text": [
      "[####                                    ] | 10% Completed | 172.56 s"
     ]
    },
    {
     "name": "stderr",
     "output_type": "stream",
     "text": [
      "\n",
      "2023-08-09 14:22:42,067 - pyscenic.transform - WARNING - Less than 80% of the genes in NR4A3 could be mapped to hg38__refseq-r80__500bp_up_and_100bp_down_tss.mc9nr.genes_vs_motifs.rankings. Skipping this module.\n"
     ]
    },
    {
     "name": "stdout",
     "output_type": "stream",
     "text": [
      "[####                                    ] | 10% Completed | 178.04 s"
     ]
    },
    {
     "name": "stderr",
     "output_type": "stream",
     "text": [
      "\n",
      "2023-08-09 14:22:47,531 - pyscenic.transform - WARNING - Less than 80% of the genes in POU3F1 could be mapped to hg38__refseq-r80__500bp_up_and_100bp_down_tss.mc9nr.genes_vs_motifs.rankings. Skipping this module.\n"
     ]
    },
    {
     "name": "stdout",
     "output_type": "stream",
     "text": [
      "[####                                    ] | 10% Completed | 198.76 s"
     ]
    },
    {
     "name": "stderr",
     "output_type": "stream",
     "text": [
      "\n",
      "2023-08-09 14:23:08,288 - pyscenic.transform - WARNING - Less than 80% of the genes in BCL3 could be mapped to hg38__refseq-r80__10kb_up_and_down_tss.mc9nr.genes_vs_motifs.rankings. Skipping this module.\n"
     ]
    },
    {
     "name": "stdout",
     "output_type": "stream",
     "text": [
      "[####                                    ] | 10% Completed | 205.76 s"
     ]
    },
    {
     "name": "stderr",
     "output_type": "stream",
     "text": [
      "\n",
      "2023-08-09 14:23:15,287 - pyscenic.transform - WARNING - Less than 80% of the genes in Regulon for ZSCAN31 could be mapped to hg38__refseq-r80__500bp_up_and_100bp_down_tss.mc9nr.genes_vs_motifs.rankings. Skipping this module.\n"
     ]
    },
    {
     "name": "stdout",
     "output_type": "stream",
     "text": [
      "[####                                    ] | 10% Completed | 206.71 s"
     ]
    },
    {
     "name": "stderr",
     "output_type": "stream",
     "text": [
      "\n",
      "2023-08-09 14:23:16,182 - pyscenic.transform - WARNING - Less than 80% of the genes in CEBPG could be mapped to hg38__refseq-r80__10kb_up_and_down_tss.mc9nr.genes_vs_motifs.rankings. Skipping this module.\n"
     ]
    },
    {
     "name": "stdout",
     "output_type": "stream",
     "text": [
      "[####                                    ] | 10% Completed | 207.67 s"
     ]
    },
    {
     "name": "stderr",
     "output_type": "stream",
     "text": [
      "\n",
      "2023-08-09 14:23:17,142 - pyscenic.transform - WARNING - Less than 80% of the genes in CREB5 could be mapped to hg38__refseq-r80__10kb_up_and_down_tss.mc9nr.genes_vs_motifs.rankings. Skipping this module.\n"
     ]
    },
    {
     "name": "stdout",
     "output_type": "stream",
     "text": [
      "[####                                    ] | 10% Completed | 214.49 s"
     ]
    },
    {
     "name": "stderr",
     "output_type": "stream",
     "text": [
      "\n",
      "2023-08-09 14:23:23,955 - pyscenic.transform - WARNING - Less than 80% of the genes in E2F7 could be mapped to hg38__refseq-r80__10kb_up_and_down_tss.mc9nr.genes_vs_motifs.rankings. Skipping this module.\n"
     ]
    },
    {
     "name": "stdout",
     "output_type": "stream",
     "text": [
      "[####                                    ] | 10% Completed | 223.16 s"
     ]
    },
    {
     "name": "stderr",
     "output_type": "stream",
     "text": [
      "\n",
      "2023-08-09 14:23:32,642 - pyscenic.transform - WARNING - Less than 80% of the genes in ELF5 could be mapped to hg38__refseq-r80__10kb_up_and_down_tss.mc9nr.genes_vs_motifs.rankings. Skipping this module.\n"
     ]
    },
    {
     "name": "stdout",
     "output_type": "stream",
     "text": [
      "[####                                    ] | 10% Completed | 223.69 s"
     ]
    },
    {
     "name": "stderr",
     "output_type": "stream",
     "text": [
      "\n",
      "2023-08-09 14:23:33,174 - pyscenic.transform - WARNING - Less than 80% of the genes in EPAS1 could be mapped to hg38__refseq-r80__10kb_up_and_down_tss.mc9nr.genes_vs_motifs.rankings. Skipping this module.\n"
     ]
    },
    {
     "name": "stdout",
     "output_type": "stream",
     "text": [
      "[####                                    ] | 10% Completed | 231.37 s"
     ]
    },
    {
     "name": "stderr",
     "output_type": "stream",
     "text": [
      "\n",
      "2023-08-09 14:23:40,885 - pyscenic.transform - WARNING - Less than 80% of the genes in FOXC1 could be mapped to hg38__refseq-r80__10kb_up_and_down_tss.mc9nr.genes_vs_motifs.rankings. Skipping this module.\n"
     ]
    },
    {
     "name": "stdout",
     "output_type": "stream",
     "text": [
      "[####                                    ] | 10% Completed | 235.75 s"
     ]
    },
    {
     "name": "stderr",
     "output_type": "stream",
     "text": [
      "\n",
      "2023-08-09 14:23:45,238 - pyscenic.transform - WARNING - Less than 80% of the genes in GATA2 could be mapped to hg38__refseq-r80__10kb_up_and_down_tss.mc9nr.genes_vs_motifs.rankings. Skipping this module.\n"
     ]
    },
    {
     "name": "stdout",
     "output_type": "stream",
     "text": [
      "[####                                    ] | 10% Completed | 236.72 s"
     ]
    },
    {
     "name": "stderr",
     "output_type": "stream",
     "text": [
      "\n",
      "2023-08-09 14:23:46,203 - pyscenic.transform - WARNING - Less than 80% of the genes in GRHL1 could be mapped to hg38__refseq-r80__10kb_up_and_down_tss.mc9nr.genes_vs_motifs.rankings. Skipping this module.\n"
     ]
    },
    {
     "name": "stdout",
     "output_type": "stream",
     "text": [
      "[####                                    ] | 10% Completed | 239.61 s"
     ]
    },
    {
     "name": "stderr",
     "output_type": "stream",
     "text": [
      "\n",
      "2023-08-09 14:23:49,131 - pyscenic.transform - WARNING - Less than 80% of the genes in HNRNPH3 could be mapped to hg38__refseq-r80__10kb_up_and_down_tss.mc9nr.genes_vs_motifs.rankings. Skipping this module.\n"
     ]
    },
    {
     "name": "stdout",
     "output_type": "stream",
     "text": [
      "[####                                    ] | 10% Completed | 241.64 s"
     ]
    },
    {
     "name": "stderr",
     "output_type": "stream",
     "text": [
      "\n",
      "2023-08-09 14:23:51,125 - pyscenic.transform - WARNING - Less than 80% of the genes in HOXD1 could be mapped to hg38__refseq-r80__10kb_up_and_down_tss.mc9nr.genes_vs_motifs.rankings. Skipping this module.\n"
     ]
    },
    {
     "name": "stdout",
     "output_type": "stream",
     "text": [
      "[####                                    ] | 10% Completed | 242.05 s"
     ]
    },
    {
     "name": "stderr",
     "output_type": "stream",
     "text": [
      "\n",
      "2023-08-09 14:23:51,540 - pyscenic.transform - WARNING - Less than 80% of the genes in ID1 could be mapped to hg38__refseq-r80__10kb_up_and_down_tss.mc9nr.genes_vs_motifs.rankings. Skipping this module.\n"
     ]
    },
    {
     "name": "stdout",
     "output_type": "stream",
     "text": [
      "[####                                    ] | 10% Completed | 242.58 s"
     ]
    },
    {
     "name": "stderr",
     "output_type": "stream",
     "text": [
      "\n",
      "2023-08-09 14:23:52,066 - pyscenic.transform - WARNING - Less than 80% of the genes in INSM1 could be mapped to hg38__refseq-r80__10kb_up_and_down_tss.mc9nr.genes_vs_motifs.rankings. Skipping this module.\n"
     ]
    },
    {
     "name": "stdout",
     "output_type": "stream",
     "text": [
      "[####                                    ] | 10% Completed | 242.89 s"
     ]
    },
    {
     "name": "stderr",
     "output_type": "stream",
     "text": [
      "\n",
      "2023-08-09 14:23:52,380 - pyscenic.transform - WARNING - Less than 80% of the genes in ISL1 could be mapped to hg38__refseq-r80__10kb_up_and_down_tss.mc9nr.genes_vs_motifs.rankings. Skipping this module.\n"
     ]
    },
    {
     "name": "stdout",
     "output_type": "stream",
     "text": [
      "[####                                    ] | 10% Completed | 247.23 s"
     ]
    },
    {
     "name": "stderr",
     "output_type": "stream",
     "text": [
      "\n",
      "2023-08-09 14:23:56,719 - pyscenic.transform - WARNING - Less than 80% of the genes in KLF4 could be mapped to hg38__refseq-r80__10kb_up_and_down_tss.mc9nr.genes_vs_motifs.rankings. Skipping this module.\n"
     ]
    },
    {
     "name": "stdout",
     "output_type": "stream",
     "text": [
      "[####                                    ] | 10% Completed | 247.65 s"
     ]
    },
    {
     "name": "stderr",
     "output_type": "stream",
     "text": [
      "\n",
      "2023-08-09 14:23:57,091 - pyscenic.transform - WARNING - Less than 80% of the genes in KLF6 could be mapped to hg38__refseq-r80__10kb_up_and_down_tss.mc9nr.genes_vs_motifs.rankings. Skipping this module.\n"
     ]
    },
    {
     "name": "stdout",
     "output_type": "stream",
     "text": [
      "[####                                    ] | 10% Completed | 249.47 s"
     ]
    },
    {
     "name": "stderr",
     "output_type": "stream",
     "text": [
      "\n",
      "2023-08-09 14:23:58,997 - pyscenic.transform - WARNING - Less than 80% of the genes in MEOX2 could be mapped to hg38__refseq-r80__10kb_up_and_down_tss.mc9nr.genes_vs_motifs.rankings. Skipping this module.\n",
      "\n",
      "2023-08-09 14:23:59,086 - pyscenic.transform - WARNING - Less than 80% of the genes in MESP1 could be mapped to hg38__refseq-r80__10kb_up_and_down_tss.mc9nr.genes_vs_motifs.rankings. Skipping this module.\n"
     ]
    },
    {
     "name": "stdout",
     "output_type": "stream",
     "text": [
      "[####                                    ] | 10% Completed | 250.76 s"
     ]
    },
    {
     "name": "stderr",
     "output_type": "stream",
     "text": [
      "\n",
      "2023-08-09 14:24:00,189 - pyscenic.transform - WARNING - Less than 80% of the genes in MYBL1 could be mapped to hg38__refseq-r80__10kb_up_and_down_tss.mc9nr.genes_vs_motifs.rankings. Skipping this module.\n"
     ]
    },
    {
     "name": "stdout",
     "output_type": "stream",
     "text": [
      "[####                                    ] | 10% Completed | 251.29 s"
     ]
    },
    {
     "name": "stderr",
     "output_type": "stream",
     "text": [
      "\n",
      "2023-08-09 14:24:00,733 - pyscenic.transform - WARNING - Less than 80% of the genes in MYCL could be mapped to hg38__refseq-r80__10kb_up_and_down_tss.mc9nr.genes_vs_motifs.rankings. Skipping this module.\n",
      "\n",
      "2023-08-09 14:24:00,901 - pyscenic.transform - WARNING - Less than 80% of the genes in MYLK could be mapped to hg38__refseq-r80__10kb_up_and_down_tss.mc9nr.genes_vs_motifs.rankings. Skipping this module.\n"
     ]
    },
    {
     "name": "stdout",
     "output_type": "stream",
     "text": [
      "[####                                    ] | 10% Completed | 253.43 s"
     ]
    },
    {
     "name": "stderr",
     "output_type": "stream",
     "text": [
      "\n",
      "2023-08-09 14:24:02,903 - pyscenic.transform - WARNING - Less than 80% of the genes in NKX2-2 could be mapped to hg38__refseq-r80__10kb_up_and_down_tss.mc9nr.genes_vs_motifs.rankings. Skipping this module.\n"
     ]
    },
    {
     "name": "stdout",
     "output_type": "stream",
     "text": [
      "[####                                    ] | 10% Completed | 253.97 s"
     ]
    },
    {
     "name": "stderr",
     "output_type": "stream",
     "text": [
      "\n",
      "2023-08-09 14:24:03,414 - pyscenic.transform - WARNING - Less than 80% of the genes in NR0B1 could be mapped to hg38__refseq-r80__10kb_up_and_down_tss.mc9nr.genes_vs_motifs.rankings. Skipping this module.\n",
      "\n",
      "2023-08-09 14:24:03,577 - pyscenic.transform - WARNING - Less than 80% of the genes in NR2F2 could be mapped to hg38__refseq-r80__10kb_up_and_down_tss.mc9nr.genes_vs_motifs.rankings. Skipping this module.\n"
     ]
    },
    {
     "name": "stdout",
     "output_type": "stream",
     "text": [
      "[####                                    ] | 10% Completed | 254.30 s"
     ]
    },
    {
     "name": "stderr",
     "output_type": "stream",
     "text": [
      "\n",
      "2023-08-09 14:24:03,783 - pyscenic.transform - WARNING - Less than 80% of the genes in NR4A2 could be mapped to hg38__refseq-r80__10kb_up_and_down_tss.mc9nr.genes_vs_motifs.rankings. Skipping this module.\n"
     ]
    },
    {
     "name": "stdout",
     "output_type": "stream",
     "text": [
      "[####                                    ] | 10% Completed | 254.83 s"
     ]
    },
    {
     "name": "stderr",
     "output_type": "stream",
     "text": [
      "\n",
      "2023-08-09 14:24:04,260 - pyscenic.transform - WARNING - Less than 80% of the genes in POU2AF1 could be mapped to hg38__refseq-r80__10kb_up_and_down_tss.mc9nr.genes_vs_motifs.rankings. Skipping this module.\n"
     ]
    },
    {
     "name": "stdout",
     "output_type": "stream",
     "text": [
      "[####                                    ] | 10% Completed | 259.76 s"
     ]
    },
    {
     "name": "stderr",
     "output_type": "stream",
     "text": [
      "\n",
      "2023-08-09 14:24:09,223 - pyscenic.transform - WARNING - Less than 80% of the genes in SIX1 could be mapped to hg38__refseq-r80__10kb_up_and_down_tss.mc9nr.genes_vs_motifs.rankings. Skipping this module.\n",
      "\n",
      "2023-08-09 14:24:09,380 - pyscenic.transform - WARNING - Less than 80% of the genes in SMARCA1 could be mapped to hg38__refseq-r80__10kb_up_and_down_tss.mc9nr.genes_vs_motifs.rankings. Skipping this module.\n"
     ]
    },
    {
     "name": "stdout",
     "output_type": "stream",
     "text": [
      "[####                                    ] | 10% Completed | 261.25 s"
     ]
    },
    {
     "name": "stderr",
     "output_type": "stream",
     "text": [
      "\n",
      "2023-08-09 14:24:10,745 - pyscenic.transform - WARNING - Less than 80% of the genes in SP5 could be mapped to hg38__refseq-r80__10kb_up_and_down_tss.mc9nr.genes_vs_motifs.rankings. Skipping this module.\n"
     ]
    },
    {
     "name": "stdout",
     "output_type": "stream",
     "text": [
      "[####                                    ] | 10% Completed | 263.27 s"
     ]
    },
    {
     "name": "stderr",
     "output_type": "stream",
     "text": [
      "\n",
      "2023-08-09 14:24:12,728 - pyscenic.transform - WARNING - Less than 80% of the genes in TIMM44 could be mapped to hg38__refseq-r80__10kb_up_and_down_tss.mc9nr.genes_vs_motifs.rankings. Skipping this module.\n",
      "\n",
      "2023-08-09 14:24:12,886 - pyscenic.transform - WARNING - Less than 80% of the genes in TIMM8A could be mapped to hg38__refseq-r80__10kb_up_and_down_tss.mc9nr.genes_vs_motifs.rankings. Skipping this module.\n"
     ]
    },
    {
     "name": "stdout",
     "output_type": "stream",
     "text": [
      "[####                                    ] | 10% Completed | 263.59 s"
     ]
    },
    {
     "name": "stderr",
     "output_type": "stream",
     "text": [
      "\n",
      "2023-08-09 14:24:13,049 - pyscenic.transform - WARNING - Less than 80% of the genes in TRIB1 could be mapped to hg38__refseq-r80__10kb_up_and_down_tss.mc9nr.genes_vs_motifs.rankings. Skipping this module.\n"
     ]
    },
    {
     "name": "stdout",
     "output_type": "stream",
     "text": [
      "[####                                    ] | 10% Completed | 264.66 s"
     ]
    },
    {
     "name": "stderr",
     "output_type": "stream",
     "text": [
      "\n",
      "2023-08-09 14:24:14,121 - pyscenic.transform - WARNING - Less than 80% of the genes in ZNF322 could be mapped to hg38__refseq-r80__10kb_up_and_down_tss.mc9nr.genes_vs_motifs.rankings. Skipping this module.\n",
      "\n",
      "2023-08-09 14:24:14,281 - pyscenic.transform - WARNING - Less than 80% of the genes in ZNF367 could be mapped to hg38__refseq-r80__10kb_up_and_down_tss.mc9nr.genes_vs_motifs.rankings. Skipping this module.\n"
     ]
    },
    {
     "name": "stdout",
     "output_type": "stream",
     "text": [
      "[####                                    ] | 10% Completed | 264.97 s"
     ]
    },
    {
     "name": "stderr",
     "output_type": "stream",
     "text": [
      "\n",
      "2023-08-09 14:24:14,450 - pyscenic.transform - WARNING - Less than 80% of the genes in ZSCAN31 could be mapped to hg38__refseq-r80__10kb_up_and_down_tss.mc9nr.genes_vs_motifs.rankings. Skipping this module.\n"
     ]
    },
    {
     "name": "stdout",
     "output_type": "stream",
     "text": [
      "[####                                    ] | 10% Completed | 266.13 s"
     ]
    },
    {
     "name": "stderr",
     "output_type": "stream",
     "text": [
      "\n",
      "2023-08-09 14:24:15,572 - pyscenic.transform - WARNING - Less than 80% of the genes in ASCL2 could be mapped to hg38__refseq-r80__10kb_up_and_down_tss.mc9nr.genes_vs_motifs.rankings. Skipping this module.\n"
     ]
    },
    {
     "name": "stdout",
     "output_type": "stream",
     "text": [
      "[####                                    ] | 10% Completed | 269.94 s"
     ]
    },
    {
     "name": "stderr",
     "output_type": "stream",
     "text": [
      "\n",
      "2023-08-09 14:24:19,431 - pyscenic.transform - WARNING - Less than 80% of the genes in BCL11A could be mapped to hg38__refseq-r80__10kb_up_and_down_tss.mc9nr.genes_vs_motifs.rankings. Skipping this module.\n"
     ]
    },
    {
     "name": "stdout",
     "output_type": "stream",
     "text": [
      "[####                                    ] | 10% Completed | 271.72 s"
     ]
    },
    {
     "name": "stderr",
     "output_type": "stream",
     "text": [
      "\n",
      "2023-08-09 14:24:21,184 - pyscenic.transform - WARNING - Less than 80% of the genes in BHLHE22 could be mapped to hg38__refseq-r80__10kb_up_and_down_tss.mc9nr.genes_vs_motifs.rankings. Skipping this module.\n"
     ]
    },
    {
     "name": "stdout",
     "output_type": "stream",
     "text": [
      "[####                                    ] | 10% Completed | 279.80 s"
     ]
    },
    {
     "name": "stderr",
     "output_type": "stream",
     "text": [
      "\n",
      "2023-08-09 14:24:29,284 - pyscenic.transform - WARNING - Less than 80% of the genes in CEBPG could be mapped to hg38__refseq-r80__10kb_up_and_down_tss.mc9nr.genes_vs_motifs.rankings. Skipping this module.\n"
     ]
    },
    {
     "name": "stdout",
     "output_type": "stream",
     "text": [
      "[####                                    ] | 10% Completed | 282.75 s"
     ]
    },
    {
     "name": "stderr",
     "output_type": "stream",
     "text": [
      "\n",
      "2023-08-09 14:24:32,181 - pyscenic.transform - WARNING - Less than 80% of the genes in Regulon for MSX1 could be mapped to hg38__refseq-r80__10kb_up_and_down_tss.mc9nr.genes_vs_motifs.rankings. Skipping this module.\n"
     ]
    },
    {
     "name": "stdout",
     "output_type": "stream",
     "text": [
      "[####                                    ] | 10% Completed | 283.07 s"
     ]
    },
    {
     "name": "stderr",
     "output_type": "stream",
     "text": [
      "\n",
      "2023-08-09 14:24:32,513 - pyscenic.transform - WARNING - Less than 80% of the genes in DLX3 could be mapped to hg38__refseq-r80__10kb_up_and_down_tss.mc9nr.genes_vs_motifs.rankings. Skipping this module.\n"
     ]
    },
    {
     "name": "stdout",
     "output_type": "stream",
     "text": [
      "[####                                    ] | 10% Completed | 283.49 s"
     ]
    },
    {
     "name": "stderr",
     "output_type": "stream",
     "text": [
      "\n",
      "2023-08-09 14:24:32,963 - pyscenic.transform - WARNING - Less than 80% of the genes in DMRTA1 could be mapped to hg38__refseq-r80__10kb_up_and_down_tss.mc9nr.genes_vs_motifs.rankings. Skipping this module.\n"
     ]
    },
    {
     "name": "stdout",
     "output_type": "stream",
     "text": [
      "[####                                    ] | 10% Completed | 290.77 s"
     ]
    },
    {
     "name": "stderr",
     "output_type": "stream",
     "text": [
      "\n",
      "2023-08-09 14:24:40,191 - pyscenic.transform - WARNING - Less than 80% of the genes in EBF2 could be mapped to hg38__refseq-r80__10kb_up_and_down_tss.mc9nr.genes_vs_motifs.rankings. Skipping this module.\n"
     ]
    },
    {
     "name": "stdout",
     "output_type": "stream",
     "text": [
      "[####                                    ] | 10% Completed | 298.45 s"
     ]
    },
    {
     "name": "stderr",
     "output_type": "stream",
     "text": [
      "\n",
      "2023-08-09 14:24:47,880 - pyscenic.transform - WARNING - Less than 80% of the genes in ELF5 could be mapped to hg38__refseq-r80__10kb_up_and_down_tss.mc9nr.genes_vs_motifs.rankings. Skipping this module.\n"
     ]
    },
    {
     "name": "stdout",
     "output_type": "stream",
     "text": [
      "[####                                    ] | 10% Completed | 299.73 s"
     ]
    },
    {
     "name": "stderr",
     "output_type": "stream",
     "text": [
      "\n",
      "2023-08-09 14:24:49,161 - pyscenic.transform - WARNING - Less than 80% of the genes in EPAS1 could be mapped to hg38__refseq-r80__10kb_up_and_down_tss.mc9nr.genes_vs_motifs.rankings. Skipping this module.\n"
     ]
    },
    {
     "name": "stdout",
     "output_type": "stream",
     "text": [
      "[####                                    ] | 10% Completed | 301.45 s"
     ]
    },
    {
     "name": "stderr",
     "output_type": "stream",
     "text": [
      "\n",
      "2023-08-09 14:24:50,930 - pyscenic.transform - WARNING - Less than 80% of the genes in BCL3 could be mapped to hg38__refseq-r80__500bp_up_and_100bp_down_tss.mc9nr.genes_vs_motifs.rankings. Skipping this module.\n"
     ]
    },
    {
     "name": "stdout",
     "output_type": "stream",
     "text": [
      "[####                                    ] | 10% Completed | 306.45 s"
     ]
    },
    {
     "name": "stderr",
     "output_type": "stream",
     "text": [
      "\n",
      "2023-08-09 14:24:55,942 - pyscenic.transform - WARNING - Less than 80% of the genes in CEBPG could be mapped to hg38__refseq-r80__500bp_up_and_100bp_down_tss.mc9nr.genes_vs_motifs.rankings. Skipping this module.\n"
     ]
    },
    {
     "name": "stdout",
     "output_type": "stream",
     "text": [
      "[####                                    ] | 10% Completed | 306.65 s"
     ]
    },
    {
     "name": "stderr",
     "output_type": "stream",
     "text": [
      "\n",
      "2023-08-09 14:24:56,159 - pyscenic.transform - WARNING - Less than 80% of the genes in CREB5 could be mapped to hg38__refseq-r80__500bp_up_and_100bp_down_tss.mc9nr.genes_vs_motifs.rankings. Skipping this module.\n"
     ]
    },
    {
     "name": "stdout",
     "output_type": "stream",
     "text": [
      "[####                                    ] | 10% Completed | 308.13 s"
     ]
    },
    {
     "name": "stderr",
     "output_type": "stream",
     "text": [
      "\n",
      "2023-08-09 14:24:57,580 - pyscenic.transform - WARNING - Less than 80% of the genes in FOSL1 could be mapped to hg38__refseq-r80__10kb_up_and_down_tss.mc9nr.genes_vs_motifs.rankings. Skipping this module.\n"
     ]
    },
    {
     "name": "stdout",
     "output_type": "stream",
     "text": [
      "[####                                    ] | 10% Completed | 308.98 s"
     ]
    },
    {
     "name": "stderr",
     "output_type": "stream",
     "text": [
      "\n",
      "2023-08-09 14:24:58,429 - pyscenic.transform - WARNING - Less than 80% of the genes in FOXC1 could be mapped to hg38__refseq-r80__10kb_up_and_down_tss.mc9nr.genes_vs_motifs.rankings. Skipping this module.\n",
      "\n",
      "2023-08-09 14:24:58,615 - pyscenic.transform - WARNING - Less than 80% of the genes in FOXJ1 could be mapped to hg38__refseq-r80__10kb_up_and_down_tss.mc9nr.genes_vs_motifs.rankings. Skipping this module.\n"
     ]
    },
    {
     "name": "stdout",
     "output_type": "stream",
     "text": [
      "[####                                    ] | 10% Completed | 309.82 s"
     ]
    },
    {
     "name": "stderr",
     "output_type": "stream",
     "text": [
      "\n",
      "2023-08-09 14:24:59,296 - pyscenic.transform - WARNING - Less than 80% of the genes in GATA2 could be mapped to hg38__refseq-r80__10kb_up_and_down_tss.mc9nr.genes_vs_motifs.rankings. Skipping this module.\n",
      "\n",
      "2023-08-09 14:24:59,472 - pyscenic.transform - WARNING - Less than 80% of the genes in GOT1 could be mapped to hg38__refseq-r80__10kb_up_and_down_tss.mc9nr.genes_vs_motifs.rankings. Skipping this module.\n"
     ]
    },
    {
     "name": "stdout",
     "output_type": "stream",
     "text": [
      "[####                                    ] | 10% Completed | 310.04 s"
     ]
    },
    {
     "name": "stderr",
     "output_type": "stream",
     "text": [
      "\n",
      "2023-08-09 14:24:59,564 - pyscenic.transform - WARNING - Less than 80% of the genes in GRHL1 could be mapped to hg38__refseq-r80__10kb_up_and_down_tss.mc9nr.genes_vs_motifs.rankings. Skipping this module.\n"
     ]
    },
    {
     "name": "stdout",
     "output_type": "stream",
     "text": [
      "[####                                    ] | 10% Completed | 310.36 s"
     ]
    },
    {
     "name": "stderr",
     "output_type": "stream",
     "text": [
      "\n",
      "2023-08-09 14:24:59,883 - pyscenic.transform - WARNING - Less than 80% of the genes in GTF2A1 could be mapped to hg38__refseq-r80__10kb_up_and_down_tss.mc9nr.genes_vs_motifs.rankings. Skipping this module.\n"
     ]
    },
    {
     "name": "stdout",
     "output_type": "stream",
     "text": [
      "[####                                    ] | 10% Completed | 312.28 s"
     ]
    },
    {
     "name": "stderr",
     "output_type": "stream",
     "text": [
      "\n",
      "2023-08-09 14:25:01,740 - pyscenic.transform - WARNING - Less than 80% of the genes in HEY2 could be mapped to hg38__refseq-r80__10kb_up_and_down_tss.mc9nr.genes_vs_motifs.rankings. Skipping this module.\n",
      "\n",
      "2023-08-09 14:25:01,914 - pyscenic.transform - WARNING - Less than 80% of the genes in HIST1H2BN could be mapped to hg38__refseq-r80__10kb_up_and_down_tss.mc9nr.genes_vs_motifs.rankings. Skipping this module.\n"
     ]
    },
    {
     "name": "stdout",
     "output_type": "stream",
     "text": [
      "[####                                    ] | 10% Completed | 313.24 s"
     ]
    },
    {
     "name": "stderr",
     "output_type": "stream",
     "text": [
      "\n",
      "2023-08-09 14:25:02,758 - pyscenic.transform - WARNING - Less than 80% of the genes in E2F7 could be mapped to hg38__refseq-r80__500bp_up_and_100bp_down_tss.mc9nr.genes_vs_motifs.rankings. Skipping this module.\n"
     ]
    },
    {
     "name": "stdout",
     "output_type": "stream",
     "text": [
      "[####                                    ] | 10% Completed | 315.37 s"
     ]
    },
    {
     "name": "stderr",
     "output_type": "stream",
     "text": [
      "\n",
      "2023-08-09 14:25:04,858 - pyscenic.transform - WARNING - Less than 80% of the genes in HSPA1L could be mapped to hg38__refseq-r80__10kb_up_and_down_tss.mc9nr.genes_vs_motifs.rankings. Skipping this module.\n",
      "\n",
      "2023-08-09 14:25:05,052 - pyscenic.transform - WARNING - Less than 80% of the genes in ID1 could be mapped to hg38__refseq-r80__10kb_up_and_down_tss.mc9nr.genes_vs_motifs.rankings. Skipping this module.\n"
     ]
    },
    {
     "name": "stdout",
     "output_type": "stream",
     "text": [
      "[####                                    ] | 10% Completed | 316.01 s"
     ]
    },
    {
     "name": "stderr",
     "output_type": "stream",
     "text": [
      "\n",
      "2023-08-09 14:25:05,526 - pyscenic.transform - WARNING - Less than 80% of the genes in INSM1 could be mapped to hg38__refseq-r80__10kb_up_and_down_tss.mc9nr.genes_vs_motifs.rankings. Skipping this module.\n"
     ]
    },
    {
     "name": "stdout",
     "output_type": "stream",
     "text": [
      "[####                                    ] | 10% Completed | 317.72 s"
     ]
    },
    {
     "name": "stderr",
     "output_type": "stream",
     "text": [
      "\n",
      "2023-08-09 14:25:07,199 - pyscenic.transform - WARNING - Less than 80% of the genes in IRX5 could be mapped to hg38__refseq-r80__10kb_up_and_down_tss.mc9nr.genes_vs_motifs.rankings. Skipping this module.\n"
     ]
    },
    {
     "name": "stdout",
     "output_type": "stream",
     "text": [
      "[####                                    ] | 10% Completed | 318.58 s"
     ]
    },
    {
     "name": "stderr",
     "output_type": "stream",
     "text": [
      "\n",
      "2023-08-09 14:25:08,047 - pyscenic.transform - WARNING - Less than 80% of the genes in ISL1 could be mapped to hg38__refseq-r80__10kb_up_and_down_tss.mc9nr.genes_vs_motifs.rankings. Skipping this module.\n"
     ]
    },
    {
     "name": "stdout",
     "output_type": "stream",
     "text": [
      "[####                                    ] | 10% Completed | 319.10 s"
     ]
    },
    {
     "name": "stderr",
     "output_type": "stream",
     "text": [
      "\n",
      "2023-08-09 14:25:08,551 - pyscenic.transform - WARNING - Less than 80% of the genes in ELF5 could be mapped to hg38__refseq-r80__500bp_up_and_100bp_down_tss.mc9nr.genes_vs_motifs.rankings. Skipping this module.\n"
     ]
    },
    {
     "name": "stdout",
     "output_type": "stream",
     "text": [
      "[####                                    ] | 10% Completed | 319.63 s"
     ]
    },
    {
     "name": "stderr",
     "output_type": "stream",
     "text": [
      "\n",
      "2023-08-09 14:25:09,063 - pyscenic.transform - WARNING - Less than 80% of the genes in EPAS1 could be mapped to hg38__refseq-r80__500bp_up_and_100bp_down_tss.mc9nr.genes_vs_motifs.rankings. Skipping this module.\n"
     ]
    },
    {
     "name": "stdout",
     "output_type": "stream",
     "text": [
      "[####                                    ] | 10% Completed | 323.07 s"
     ]
    },
    {
     "name": "stderr",
     "output_type": "stream",
     "text": [
      "\n",
      "2023-08-09 14:25:12,544 - pyscenic.transform - WARNING - Less than 80% of the genes in KLF10 could be mapped to hg38__refseq-r80__10kb_up_and_down_tss.mc9nr.genes_vs_motifs.rankings. Skipping this module.\n"
     ]
    },
    {
     "name": "stdout",
     "output_type": "stream",
     "text": [
      "[####                                    ] | 10% Completed | 325.85 s"
     ]
    },
    {
     "name": "stderr",
     "output_type": "stream",
     "text": [
      "\n",
      "2023-08-09 14:25:15,309 - pyscenic.transform - WARNING - Less than 80% of the genes in KLF6 could be mapped to hg38__refseq-r80__10kb_up_and_down_tss.mc9nr.genes_vs_motifs.rankings. Skipping this module.\n"
     ]
    },
    {
     "name": "stdout",
     "output_type": "stream",
     "text": [
      "[####                                    ] | 10% Completed | 326.08 s"
     ]
    },
    {
     "name": "stderr",
     "output_type": "stream",
     "text": [
      "\n",
      "2023-08-09 14:25:15,533 - pyscenic.transform - WARNING - Less than 80% of the genes in FOXC1 could be mapped to hg38__refseq-r80__500bp_up_and_100bp_down_tss.mc9nr.genes_vs_motifs.rankings. Skipping this module.\n"
     ]
    },
    {
     "name": "stdout",
     "output_type": "stream",
     "text": [
      "[####                                    ] | 10% Completed | 327.04 s"
     ]
    },
    {
     "name": "stderr",
     "output_type": "stream",
     "text": [
      "\n",
      "2023-08-09 14:25:16,470 - pyscenic.transform - WARNING - Less than 80% of the genes in MAFB could be mapped to hg38__refseq-r80__10kb_up_and_down_tss.mc9nr.genes_vs_motifs.rankings. Skipping this module.\n"
     ]
    },
    {
     "name": "stdout",
     "output_type": "stream",
     "text": [
      "[####                                    ] | 10% Completed | 328.32 s"
     ]
    },
    {
     "name": "stderr",
     "output_type": "stream",
     "text": [
      "\n",
      "2023-08-09 14:25:17,803 - pyscenic.transform - WARNING - Less than 80% of the genes in GATA2 could be mapped to hg38__refseq-r80__500bp_up_and_100bp_down_tss.mc9nr.genes_vs_motifs.rankings. Skipping this module.\n",
      "\n",
      "2023-08-09 14:25:17,980 - pyscenic.transform - WARNING - Less than 80% of the genes in GRHL1 could be mapped to hg38__refseq-r80__500bp_up_and_100bp_down_tss.mc9nr.genes_vs_motifs.rankings. Skipping this module.\n"
     ]
    },
    {
     "name": "stdout",
     "output_type": "stream",
     "text": [
      "[####                                    ] | 10% Completed | 329.18 s"
     ]
    },
    {
     "name": "stderr",
     "output_type": "stream",
     "text": [
      "\n",
      "2023-08-09 14:25:18,638 - pyscenic.transform - WARNING - Less than 80% of the genes in MEOX2 could be mapped to hg38__refseq-r80__10kb_up_and_down_tss.mc9nr.genes_vs_motifs.rankings. Skipping this module.\n"
     ]
    },
    {
     "name": "stdout",
     "output_type": "stream",
     "text": [
      "[####                                    ] | 10% Completed | 329.39 s"
     ]
    },
    {
     "name": "stderr",
     "output_type": "stream",
     "text": [
      "\n",
      "2023-08-09 14:25:18,859 - pyscenic.transform - WARNING - Less than 80% of the genes in MESP1 could be mapped to hg38__refseq-r80__10kb_up_and_down_tss.mc9nr.genes_vs_motifs.rankings. Skipping this module.\n",
      "\n",
      "2023-08-09 14:25:19,045 - pyscenic.transform - WARNING - Less than 80% of the genes in MSX1 could be mapped to hg38__refseq-r80__10kb_up_and_down_tss.mc9nr.genes_vs_motifs.rankings. Skipping this module.\n"
     ]
    },
    {
     "name": "stdout",
     "output_type": "stream",
     "text": [
      "[####                                    ] | 10% Completed | 330.03 s"
     ]
    },
    {
     "name": "stderr",
     "output_type": "stream",
     "text": [
      "\n",
      "2023-08-09 14:25:19,488 - pyscenic.transform - WARNING - Less than 80% of the genes in MYBL1 could be mapped to hg38__refseq-r80__10kb_up_and_down_tss.mc9nr.genes_vs_motifs.rankings. Skipping this module.\n"
     ]
    },
    {
     "name": "stdout",
     "output_type": "stream",
     "text": [
      "[####                                    ] | 10% Completed | 330.78 s"
     ]
    },
    {
     "name": "stderr",
     "output_type": "stream",
     "text": [
      "\n",
      "2023-08-09 14:25:20,211 - pyscenic.transform - WARNING - Less than 80% of the genes in MYCL could be mapped to hg38__refseq-r80__10kb_up_and_down_tss.mc9nr.genes_vs_motifs.rankings. Skipping this module.\n",
      "\n",
      "2023-08-09 14:25:20,408 - pyscenic.transform - WARNING - Less than 80% of the genes in MYLK could be mapped to hg38__refseq-r80__10kb_up_and_down_tss.mc9nr.genes_vs_motifs.rankings. Skipping this module.\n"
     ]
    },
    {
     "name": "stdout",
     "output_type": "stream",
     "text": [
      "[####                                    ] | 10% Completed | 331.64 s"
     ]
    },
    {
     "name": "stderr",
     "output_type": "stream",
     "text": [
      "\n",
      "2023-08-09 14:25:21,087 - pyscenic.transform - WARNING - Less than 80% of the genes in HNRNPH3 could be mapped to hg38__refseq-r80__500bp_up_and_100bp_down_tss.mc9nr.genes_vs_motifs.rankings. Skipping this module.\n"
     ]
    },
    {
     "name": "stdout",
     "output_type": "stream",
     "text": [
      "[####                                    ] | 10% Completed | 332.17 s"
     ]
    },
    {
     "name": "stderr",
     "output_type": "stream",
     "text": [
      "\n",
      "2023-08-09 14:25:21,655 - pyscenic.transform - WARNING - Less than 80% of the genes in HOXD1 could be mapped to hg38__refseq-r80__500bp_up_and_100bp_down_tss.mc9nr.genes_vs_motifs.rankings. Skipping this module.\n"
     ]
    },
    {
     "name": "stdout",
     "output_type": "stream",
     "text": [
      "[####                                    ] | 10% Completed | 332.60 s"
     ]
    },
    {
     "name": "stderr",
     "output_type": "stream",
     "text": [
      "\n",
      "2023-08-09 14:25:22,064 - pyscenic.transform - WARNING - Less than 80% of the genes in ID1 could be mapped to hg38__refseq-r80__500bp_up_and_100bp_down_tss.mc9nr.genes_vs_motifs.rankings. Skipping this module.\n"
     ]
    },
    {
     "name": "stdout",
     "output_type": "stream",
     "text": [
      "[####                                    ] | 10% Completed | 332.91 s"
     ]
    },
    {
     "name": "stderr",
     "output_type": "stream",
     "text": [
      "\n",
      "2023-08-09 14:25:22,403 - pyscenic.transform - WARNING - Less than 80% of the genes in NKX2-2 could be mapped to hg38__refseq-r80__10kb_up_and_down_tss.mc9nr.genes_vs_motifs.rankings. Skipping this module.\n"
     ]
    },
    {
     "name": "stdout",
     "output_type": "stream",
     "text": [
      "[####                                    ] | 10% Completed | 333.23 s"
     ]
    },
    {
     "name": "stderr",
     "output_type": "stream",
     "text": [
      "\n",
      "2023-08-09 14:25:22,671 - pyscenic.transform - WARNING - Less than 80% of the genes in INSM1 could be mapped to hg38__refseq-r80__500bp_up_and_100bp_down_tss.mc9nr.genes_vs_motifs.rankings. Skipping this module.\n"
     ]
    },
    {
     "name": "stdout",
     "output_type": "stream",
     "text": [
      "[####                                    ] | 10% Completed | 334.95 s"
     ]
    },
    {
     "name": "stderr",
     "output_type": "stream",
     "text": [
      "\n",
      "2023-08-09 14:25:24,398 - pyscenic.transform - WARNING - Less than 80% of the genes in NR2F2 could be mapped to hg38__refseq-r80__10kb_up_and_down_tss.mc9nr.genes_vs_motifs.rankings. Skipping this module.\n",
      "\n",
      "2023-08-09 14:25:24,413 - pyscenic.transform - WARNING - Less than 80% of the genes in ISL1 could be mapped to hg38__refseq-r80__500bp_up_and_100bp_down_tss.mc9nr.genes_vs_motifs.rankings. Skipping this module.\n"
     ]
    },
    {
     "name": "stdout",
     "output_type": "stream",
     "text": [
      "[####                                    ] | 10% Completed | 335.48 s"
     ]
    },
    {
     "name": "stderr",
     "output_type": "stream",
     "text": [
      "\n",
      "2023-08-09 14:25:24,984 - pyscenic.transform - WARNING - Less than 80% of the genes in NR4A3 could be mapped to hg38__refseq-r80__10kb_up_and_down_tss.mc9nr.genes_vs_motifs.rankings. Skipping this module.\n"
     ]
    },
    {
     "name": "stdout",
     "output_type": "stream",
     "text": [
      "[####                                    ] | 10% Completed | 336.86 s"
     ]
    },
    {
     "name": "stderr",
     "output_type": "stream",
     "text": [
      "\n",
      "2023-08-09 14:25:26,340 - pyscenic.transform - WARNING - Less than 80% of the genes in POU2F2 could be mapped to hg38__refseq-r80__10kb_up_and_down_tss.mc9nr.genes_vs_motifs.rankings. Skipping this module.\n"
     ]
    },
    {
     "name": "stdout",
     "output_type": "stream",
     "text": [
      "[####                                    ] | 10% Completed | 337.19 s"
     ]
    },
    {
     "name": "stderr",
     "output_type": "stream",
     "text": [
      "\n",
      "2023-08-09 14:25:26,712 - pyscenic.transform - WARNING - Less than 80% of the genes in KLF4 could be mapped to hg38__refseq-r80__500bp_up_and_100bp_down_tss.mc9nr.genes_vs_motifs.rankings. Skipping this module.\n"
     ]
    },
    {
     "name": "stdout",
     "output_type": "stream",
     "text": [
      "[####                                    ] | 10% Completed | 337.50 s"
     ]
    },
    {
     "name": "stderr",
     "output_type": "stream",
     "text": [
      "\n",
      "2023-08-09 14:25:27,046 - pyscenic.transform - WARNING - Less than 80% of the genes in KLF6 could be mapped to hg38__refseq-r80__500bp_up_and_100bp_down_tss.mc9nr.genes_vs_motifs.rankings. Skipping this module.\n"
     ]
    },
    {
     "name": "stdout",
     "output_type": "stream",
     "text": [
      "[####                                    ] | 10% Completed | 338.05 s"
     ]
    },
    {
     "name": "stderr",
     "output_type": "stream",
     "text": [
      "\n",
      "2023-08-09 14:25:27,515 - pyscenic.transform - WARNING - Less than 80% of the genes in MEOX2 could be mapped to hg38__refseq-r80__500bp_up_and_100bp_down_tss.mc9nr.genes_vs_motifs.rankings. Skipping this module.\n",
      "\n",
      "2023-08-09 14:25:27,603 - pyscenic.transform - WARNING - Less than 80% of the genes in MESP1 could be mapped to hg38__refseq-r80__500bp_up_and_100bp_down_tss.mc9nr.genes_vs_motifs.rankings. Skipping this module.\n"
     ]
    },
    {
     "name": "stdout",
     "output_type": "stream",
     "text": [
      "[####                                    ] | 10% Completed | 338.58 s"
     ]
    },
    {
     "name": "stderr",
     "output_type": "stream",
     "text": [
      "\n",
      "2023-08-09 14:25:28,026 - pyscenic.transform - WARNING - Less than 80% of the genes in MYBL1 could be mapped to hg38__refseq-r80__500bp_up_and_100bp_down_tss.mc9nr.genes_vs_motifs.rankings. Skipping this module.\n"
     ]
    },
    {
     "name": "stdout",
     "output_type": "stream",
     "text": [
      "[####                                    ] | 10% Completed | 339.12 s"
     ]
    },
    {
     "name": "stderr",
     "output_type": "stream",
     "text": [
      "\n",
      "2023-08-09 14:25:28,639 - pyscenic.transform - WARNING - Less than 80% of the genes in MYCL could be mapped to hg38__refseq-r80__500bp_up_and_100bp_down_tss.mc9nr.genes_vs_motifs.rankings. Skipping this module.\n"
     ]
    },
    {
     "name": "stdout",
     "output_type": "stream",
     "text": [
      "[####                                    ] | 10% Completed | 339.33 s"
     ]
    },
    {
     "name": "stderr",
     "output_type": "stream",
     "text": [
      "\n",
      "2023-08-09 14:25:28,845 - pyscenic.transform - WARNING - Less than 80% of the genes in MYLK could be mapped to hg38__refseq-r80__500bp_up_and_100bp_down_tss.mc9nr.genes_vs_motifs.rankings. Skipping this module.\n"
     ]
    },
    {
     "name": "stdout",
     "output_type": "stream",
     "text": [
      "[####                                    ] | 10% Completed | 339.96 s"
     ]
    },
    {
     "name": "stderr",
     "output_type": "stream",
     "text": [
      "\n",
      "2023-08-09 14:25:29,425 - pyscenic.transform - WARNING - Less than 80% of the genes in NKX2-2 could be mapped to hg38__refseq-r80__500bp_up_and_100bp_down_tss.mc9nr.genes_vs_motifs.rankings. Skipping this module.\n"
     ]
    },
    {
     "name": "stdout",
     "output_type": "stream",
     "text": [
      "[####                                    ] | 10% Completed | 340.40 s"
     ]
    },
    {
     "name": "stderr",
     "output_type": "stream",
     "text": [
      "\n",
      "2023-08-09 14:25:29,913 - pyscenic.transform - WARNING - Less than 80% of the genes in NR0B1 could be mapped to hg38__refseq-r80__500bp_up_and_100bp_down_tss.mc9nr.genes_vs_motifs.rankings. Skipping this module.\n",
      "\n",
      "2023-08-09 14:25:30,104 - pyscenic.transform - WARNING - Less than 80% of the genes in NR2F2 could be mapped to hg38__refseq-r80__500bp_up_and_100bp_down_tss.mc9nr.genes_vs_motifs.rankings. Skipping this module.\n"
     ]
    },
    {
     "name": "stdout",
     "output_type": "stream",
     "text": [
      "[####                                    ] | 10% Completed | 341.57 s"
     ]
    },
    {
     "name": "stderr",
     "output_type": "stream",
     "text": [
      "\n",
      "2023-08-09 14:25:31,056 - pyscenic.transform - WARNING - Less than 80% of the genes in NR4A2 could be mapped to hg38__refseq-r80__500bp_up_and_100bp_down_tss.mc9nr.genes_vs_motifs.rankings. Skipping this module.\n"
     ]
    },
    {
     "name": "stdout",
     "output_type": "stream",
     "text": [
      "[####                                    ] | 10% Completed | 342.00 s"
     ]
    },
    {
     "name": "stderr",
     "output_type": "stream",
     "text": [
      "\n",
      "2023-08-09 14:25:31,518 - pyscenic.transform - WARNING - Less than 80% of the genes in POU2AF1 could be mapped to hg38__refseq-r80__500bp_up_and_100bp_down_tss.mc9nr.genes_vs_motifs.rankings. Skipping this module.\n"
     ]
    },
    {
     "name": "stdout",
     "output_type": "stream",
     "text": [
      "[####                                    ] | 10% Completed | 343.06 s"
     ]
    },
    {
     "name": "stderr",
     "output_type": "stream",
     "text": [
      "\n",
      "2023-08-09 14:25:32,567 - pyscenic.transform - WARNING - Less than 80% of the genes in SIX1 could be mapped to hg38__refseq-r80__10kb_up_and_down_tss.mc9nr.genes_vs_motifs.rankings. Skipping this module.\n"
     ]
    },
    {
     "name": "stdout",
     "output_type": "stream",
     "text": [
      "[################                        ] | 40% Completed | 346.90 s"
     ]
    },
    {
     "name": "stderr",
     "output_type": "stream",
     "text": [
      "\n",
      "2023-08-09 14:25:36,330 - pyscenic.transform - WARNING - Less than 80% of the genes in SIX1 could be mapped to hg38__refseq-r80__500bp_up_and_100bp_down_tss.mc9nr.genes_vs_motifs.rankings. Skipping this module.\n",
      "\n",
      "2023-08-09 14:25:36,481 - pyscenic.transform - WARNING - Less than 80% of the genes in SMARCA1 could be mapped to hg38__refseq-r80__500bp_up_and_100bp_down_tss.mc9nr.genes_vs_motifs.rankings. Skipping this module.\n"
     ]
    },
    {
     "name": "stdout",
     "output_type": "stream",
     "text": [
      "[################                        ] | 40% Completed | 347.55 s"
     ]
    },
    {
     "name": "stderr",
     "output_type": "stream",
     "text": [
      "\n",
      "2023-08-09 14:25:37,033 - pyscenic.transform - WARNING - Less than 80% of the genes in SP5 could be mapped to hg38__refseq-r80__10kb_up_and_down_tss.mc9nr.genes_vs_motifs.rankings. Skipping this module.\n"
     ]
    },
    {
     "name": "stdout",
     "output_type": "stream",
     "text": [
      "[############################            ] | 70% Completed | 349.52 s"
     ]
    },
    {
     "name": "stderr",
     "output_type": "stream",
     "text": [
      "\n",
      "2023-08-09 14:25:38,982 - pyscenic.transform - WARNING - Less than 80% of the genes in TBX3 could be mapped to hg38__refseq-r80__10kb_up_and_down_tss.mc9nr.genes_vs_motifs.rankings. Skipping this module.\n",
      "\n",
      "2023-08-09 14:25:39,083 - pyscenic.transform - WARNING - Less than 80% of the genes in TGIF1 could be mapped to hg38__refseq-r80__10kb_up_and_down_tss.mc9nr.genes_vs_motifs.rankings. Skipping this module.\n",
      "\n",
      "2023-08-09 14:25:39,193 - pyscenic.transform - WARNING - Less than 80% of the genes in TIMM44 could be mapped to hg38__refseq-r80__10kb_up_and_down_tss.mc9nr.genes_vs_motifs.rankings. Skipping this module.\n"
     ]
    },
    {
     "name": "stdout",
     "output_type": "stream",
     "text": [
      "[############################            ] | 70% Completed | 349.84 s"
     ]
    },
    {
     "name": "stderr",
     "output_type": "stream",
     "text": [
      "\n",
      "2023-08-09 14:25:39,302 - pyscenic.transform - WARNING - Less than 80% of the genes in TIMM8A could be mapped to hg38__refseq-r80__10kb_up_and_down_tss.mc9nr.genes_vs_motifs.rankings. Skipping this module.\n"
     ]
    },
    {
     "name": "stdout",
     "output_type": "stream",
     "text": [
      "[############################            ] | 70% Completed | 350.16 s"
     ]
    },
    {
     "name": "stderr",
     "output_type": "stream",
     "text": [
      "\n",
      "2023-08-09 14:25:39,612 - pyscenic.transform - WARNING - Less than 80% of the genes in TRIB1 could be mapped to hg38__refseq-r80__10kb_up_and_down_tss.mc9nr.genes_vs_motifs.rankings. Skipping this module.\n"
     ]
    },
    {
     "name": "stdout",
     "output_type": "stream",
     "text": [
      "[############################            ] | 70% Completed | 350.59 s"
     ]
    },
    {
     "name": "stderr",
     "output_type": "stream",
     "text": [
      "\n",
      "2023-08-09 14:25:40,103 - pyscenic.transform - WARNING - Less than 80% of the genes in TWIST1 could be mapped to hg38__refseq-r80__10kb_up_and_down_tss.mc9nr.genes_vs_motifs.rankings. Skipping this module.\n"
     ]
    },
    {
     "name": "stdout",
     "output_type": "stream",
     "text": [
      "[############################            ] | 70% Completed | 351.01 s"
     ]
    },
    {
     "name": "stderr",
     "output_type": "stream",
     "text": [
      "\n",
      "2023-08-09 14:25:40,543 - pyscenic.transform - WARNING - Less than 80% of the genes in VDR could be mapped to hg38__refseq-r80__10kb_up_and_down_tss.mc9nr.genes_vs_motifs.rankings. Skipping this module.\n"
     ]
    },
    {
     "name": "stdout",
     "output_type": "stream",
     "text": [
      "[############################            ] | 70% Completed | 351.55 s"
     ]
    },
    {
     "name": "stderr",
     "output_type": "stream",
     "text": [
      "\n",
      "2023-08-09 14:25:41,077 - pyscenic.transform - WARNING - Less than 80% of the genes in ZNF165 could be mapped to hg38__refseq-r80__10kb_up_and_down_tss.mc9nr.genes_vs_motifs.rankings. Skipping this module.\n"
     ]
    },
    {
     "name": "stdout",
     "output_type": "stream",
     "text": [
      "[############################            ] | 70% Completed | 351.76 s"
     ]
    },
    {
     "name": "stderr",
     "output_type": "stream",
     "text": [
      "\n",
      "2023-08-09 14:25:41,286 - pyscenic.transform - WARNING - Less than 80% of the genes in ZNF322 could be mapped to hg38__refseq-r80__10kb_up_and_down_tss.mc9nr.genes_vs_motifs.rankings. Skipping this module.\n",
      "\n",
      "2023-08-09 14:25:41,475 - pyscenic.transform - WARNING - Less than 80% of the genes in ZNF367 could be mapped to hg38__refseq-r80__10kb_up_and_down_tss.mc9nr.genes_vs_motifs.rankings. Skipping this module.\n"
     ]
    },
    {
     "name": "stdout",
     "output_type": "stream",
     "text": [
      "[############################            ] | 70% Completed | 352.07 s"
     ]
    },
    {
     "name": "stderr",
     "output_type": "stream",
     "text": [
      "\n",
      "2023-08-09 14:25:41,565 - pyscenic.transform - WARNING - Less than 80% of the genes in ZNF503 could be mapped to hg38__refseq-r80__10kb_up_and_down_tss.mc9nr.genes_vs_motifs.rankings. Skipping this module.\n"
     ]
    },
    {
     "name": "stdout",
     "output_type": "stream",
     "text": [
      "[############################            ] | 70% Completed | 353.69 s"
     ]
    },
    {
     "name": "stderr",
     "output_type": "stream",
     "text": [
      "\n",
      "2023-08-09 14:25:43,215 - pyscenic.transform - WARNING - Less than 80% of the genes in ZSCAN31 could be mapped to hg38__refseq-r80__10kb_up_and_down_tss.mc9nr.genes_vs_motifs.rankings. Skipping this module.\n"
     ]
    },
    {
     "name": "stdout",
     "output_type": "stream",
     "text": [
      "[########################################] | 100% Completed | 372.76 s\n",
      "\n",
      "COMPLETED WRITING ENRICHED MOTIFS /home/linl5/project/SCLC/data/lx108/lx108.UU.1.motifs.csv \n",
      "\n",
      "                                                 Enrichment            \\\n",
      "                                                        AUC       NES   \n",
      "TF   MotifID                                                            \n",
      "ATF3 transfac_public__M00017                       0.078101  3.726678   \n",
      "     transfac_pro__M02091                          0.072510  3.215214   \n",
      "     swissregulon__hs__FOS_FOS_B_L1__JUN_B_D_.p2   0.071236  3.098600   \n",
      "     cisbp__M3088                                  0.072160  3.183193   \n",
      "     jaspar__MA0286.1                              0.072378  3.203112   \n",
      "\n",
      "                                                                        \\\n",
      "                                                 MotifSimilarityQvalue   \n",
      "TF   MotifID                                                             \n",
      "ATF3 transfac_public__M00017                                  0.000960   \n",
      "     transfac_pro__M02091                                     0.000828   \n",
      "     swissregulon__hs__FOS_FOS_B_L1__JUN_B_D_.p2              0.000701   \n",
      "     cisbp__M3088                                             0.000532   \n",
      "     jaspar__MA0286.1                                         0.000486   \n",
      "\n",
      "                                                                      \\\n",
      "                                                 OrthologousIdentity   \n",
      "TF   MotifID                                                           \n",
      "ATF3 transfac_public__M00017                                     1.0   \n",
      "     transfac_pro__M02091                                        1.0   \n",
      "     swissregulon__hs__FOS_FOS_B_L1__JUN_B_D_.p2                 1.0   \n",
      "     cisbp__M3088                                                1.0   \n",
      "     jaspar__MA0286.1                                            1.0   \n",
      "\n",
      "                                                                                                     \\\n",
      "                                                                                         Annotation   \n",
      "TF   MotifID                                                                                          \n",
      "ATF3 transfac_public__M00017                      gene is annotated for similar motif transfac_p...   \n",
      "     transfac_pro__M02091                         gene is annotated for similar motif transfac_p...   \n",
      "     swissregulon__hs__FOS_FOS_B_L1__JUN_B_D_.p2  gene is annotated for similar motif cisbp__M46...   \n",
      "     cisbp__M3088                                 gene is annotated for similar motif transfac_p...   \n",
      "     jaspar__MA0286.1                             gene is annotated for similar motif transfac_p...   \n",
      "\n",
      "                                                                                                     \\\n",
      "                                                                                            Context   \n",
      "TF   MotifID                                                                                          \n",
      "ATF3 transfac_public__M00017                      (weight>75.0%, hg38__refseq-r80__10kb_up_and_d...   \n",
      "     transfac_pro__M02091                         (weight>75.0%, hg38__refseq-r80__10kb_up_and_d...   \n",
      "     swissregulon__hs__FOS_FOS_B_L1__JUN_B_D_.p2  (weight>75.0%, hg38__refseq-r80__10kb_up_and_d...   \n",
      "     cisbp__M3088                                 (weight>75.0%, hg38__refseq-r80__10kb_up_and_d...   \n",
      "     jaspar__MA0286.1                             (weight>75.0%, hg38__refseq-r80__10kb_up_and_d...   \n",
      "\n",
      "                                                                                                     \\\n",
      "                                                                                        TargetGenes   \n",
      "TF   MotifID                                                                                          \n",
      "ATF3 transfac_public__M00017                      [(NXPH4, 3.859284088139963), (ZFP36L1, 1.40178...   \n",
      "     transfac_pro__M02091                         [(NXPH4, 3.859284088139963), (CYP26B1, 5.88379...   \n",
      "     swissregulon__hs__FOS_FOS_B_L1__JUN_B_D_.p2  [(INSM1, 1.2615688363010618), (EPAS1, 1.654931...   \n",
      "     cisbp__M3088                                 [(NR4A3, 2.182619774044041), (INSM1, 1.2615688...   \n",
      "     jaspar__MA0286.1                             [(NXPH4, 3.859284088139963), (NR4A3, 2.1826197...   \n",
      "\n",
      "                                                            \n",
      "                                                 RankAtMax  \n",
      "TF   MotifID                                                \n",
      "ATF3 transfac_public__M00017                          1487  \n",
      "     transfac_pro__M02091                             1479  \n",
      "     swissregulon__hs__FOS_FOS_B_L1__JUN_B_D_.p2      1490  \n",
      "     cisbp__M3088                                     1419  \n",
      "     jaspar__MA0286.1                                 1493  \n",
      "Create regulons from a dataframe of enriched features.\n",
      "Additional columns saved: []\n",
      "\n",
      "COMPLETED WRITING DISCOVERED REGULON /home/linl5/project/SCLC/data/lx108/lx108.UU.1.regulons.p \n",
      "\n",
      "\n",
      "FINISHED READING ADJACENCIES FILE /home/linl5/project/SCLC/data/lx108/lx108.UTTU.1.adjacencies.tsv \n",
      "\n"
     ]
    },
    {
     "name": "stderr",
     "output_type": "stream",
     "text": [
      "\n",
      "2023-08-09 14:26:07,411 - pyscenic.utils - INFO - Calculating Pearson correlations.\n",
      "\n",
      "2023-08-09 14:26:07,472 - pyscenic.utils - WARNING - Note on correlation calculation: the default behaviour for calculating the correlations has changed after pySCENIC verion 0.9.16. Previously, the default was to calculate the correlation between a TF and target gene using only cells with non-zero expression values (mask_dropouts=True). The current default is now to use all cells to match the behavior of the R verision of SCENIC. The original settings can be retained by setting 'rho_mask_dropouts=True' in the modules_from_adjacencies function, or '--mask_dropouts' from the CLI.\n",
      "\tDropout masking is currently set to [False].\n"
     ]
    },
    {
     "name": "stdout",
     "output_type": "stream",
     "text": [
      "\n",
      "FINISHED READING EXPRESSION MATRIX /home/linl5/project/SCLC/results/lx108/lx108.UTTU.1.qc.tpm.csv \n",
      "\n"
     ]
    },
    {
     "name": "stderr",
     "output_type": "stream",
     "text": [
      "\n",
      "2023-08-09 14:26:09,095 - pyscenic.utils - INFO - Creating modules.\n"
     ]
    },
    {
     "name": "stdout",
     "output_type": "stream",
     "text": [
      "\n",
      "COMPLETED COEXPRESSION MODULE WRITING: /home/linl5/project/SCLC/data/lx108/lx108.UTTU.1.modules.p \n",
      "\n",
      "[                                        ] | 0% Completed | 20.01 sms"
     ]
    },
    {
     "name": "stderr",
     "output_type": "stream",
     "text": [
      "\n",
      "2023-08-09 14:26:39,946 - pyscenic.transform - WARNING - Less than 80% of the genes in CEBPG could be mapped to hg38__refseq-r80__10kb_up_and_down_tss.mc9nr.genes_vs_motifs.rankings. Skipping this module.\n"
     ]
    },
    {
     "name": "stdout",
     "output_type": "stream",
     "text": [
      "[                                        ] | 0% Completed | 20.96 s"
     ]
    },
    {
     "name": "stderr",
     "output_type": "stream",
     "text": [
      "\n",
      "2023-08-09 14:26:40,920 - pyscenic.transform - WARNING - Less than 80% of the genes in CREB5 could be mapped to hg38__refseq-r80__10kb_up_and_down_tss.mc9nr.genes_vs_motifs.rankings. Skipping this module.\n"
     ]
    },
    {
     "name": "stdout",
     "output_type": "stream",
     "text": [
      "[                                        ] | 0% Completed | 23.62 s"
     ]
    },
    {
     "name": "stderr",
     "output_type": "stream",
     "text": [
      "\n",
      "2023-08-09 14:26:43,540 - pyscenic.transform - WARNING - Less than 80% of the genes in DLX5 could be mapped to hg38__refseq-r80__10kb_up_and_down_tss.mc9nr.genes_vs_motifs.rankings. Skipping this module.\n"
     ]
    },
    {
     "name": "stdout",
     "output_type": "stream",
     "text": [
      "[                                        ] | 0% Completed | 27.98 s"
     ]
    },
    {
     "name": "stderr",
     "output_type": "stream",
     "text": [
      "\n",
      "2023-08-09 14:26:47,944 - pyscenic.transform - WARNING - Less than 80% of the genes in E2F5 could be mapped to hg38__refseq-r80__10kb_up_and_down_tss.mc9nr.genes_vs_motifs.rankings. Skipping this module.\n"
     ]
    },
    {
     "name": "stdout",
     "output_type": "stream",
     "text": [
      "[                                        ] | 0% Completed | 31.68 s"
     ]
    },
    {
     "name": "stderr",
     "output_type": "stream",
     "text": [
      "\n",
      "2023-08-09 14:26:51,591 - pyscenic.transform - WARNING - Less than 80% of the genes in EBF2 could be mapped to hg38__refseq-r80__10kb_up_and_down_tss.mc9nr.genes_vs_motifs.rankings. Skipping this module.\n"
     ]
    },
    {
     "name": "stdout",
     "output_type": "stream",
     "text": [
      "[                                        ] | 0% Completed | 32.63 s"
     ]
    },
    {
     "name": "stderr",
     "output_type": "stream",
     "text": [
      "\n",
      "2023-08-09 14:26:52,567 - pyscenic.transform - WARNING - Less than 80% of the genes in EGR1 could be mapped to hg38__refseq-r80__10kb_up_and_down_tss.mc9nr.genes_vs_motifs.rankings. Skipping this module.\n"
     ]
    },
    {
     "name": "stdout",
     "output_type": "stream",
     "text": [
      "[                                        ] | 0% Completed | 35.82 s"
     ]
    },
    {
     "name": "stderr",
     "output_type": "stream",
     "text": [
      "\n",
      "2023-08-09 14:26:55,749 - pyscenic.transform - WARNING - Less than 80% of the genes in EGR4 could be mapped to hg38__refseq-r80__10kb_up_and_down_tss.mc9nr.genes_vs_motifs.rankings. Skipping this module.\n"
     ]
    },
    {
     "name": "stdout",
     "output_type": "stream",
     "text": [
      "[                                        ] | 0% Completed | 41.54 s"
     ]
    },
    {
     "name": "stderr",
     "output_type": "stream",
     "text": [
      "\n",
      "2023-08-09 14:27:01,452 - pyscenic.transform - WARNING - Less than 80% of the genes in FGF19 could be mapped to hg38__refseq-r80__10kb_up_and_down_tss.mc9nr.genes_vs_motifs.rankings. Skipping this module.\n"
     ]
    },
    {
     "name": "stdout",
     "output_type": "stream",
     "text": [
      "[                                        ] | 0% Completed | 43.54 s"
     ]
    },
    {
     "name": "stderr",
     "output_type": "stream",
     "text": [
      "\n",
      "2023-08-09 14:27:03,424 - pyscenic.transform - WARNING - Less than 80% of the genes in HOXD1 could be mapped to hg38__refseq-r80__500bp_up_and_100bp_down_tss.mc9nr.genes_vs_motifs.rankings. Skipping this module.\n"
     ]
    },
    {
     "name": "stdout",
     "output_type": "stream",
     "text": [
      "[                                        ] | 0% Completed | 44.18 s"
     ]
    },
    {
     "name": "stderr",
     "output_type": "stream",
     "text": [
      "\n",
      "2023-08-09 14:27:04,085 - pyscenic.transform - WARNING - Less than 80% of the genes in HSPA1L could be mapped to hg38__refseq-r80__500bp_up_and_100bp_down_tss.mc9nr.genes_vs_motifs.rankings. Skipping this module.\n",
      "\n",
      "2023-08-09 14:27:04,270 - pyscenic.transform - WARNING - Less than 80% of the genes in FOSB could be mapped to hg38__refseq-r80__10kb_up_and_down_tss.mc9nr.genes_vs_motifs.rankings. Skipping this module.\n"
     ]
    },
    {
     "name": "stdout",
     "output_type": "stream",
     "text": [
      "[                                        ] | 0% Completed | 45.24 s"
     ]
    },
    {
     "name": "stderr",
     "output_type": "stream",
     "text": [
      "\n",
      "2023-08-09 14:27:05,177 - pyscenic.transform - WARNING - Less than 80% of the genes in FOSL1 could be mapped to hg38__refseq-r80__10kb_up_and_down_tss.mc9nr.genes_vs_motifs.rankings. Skipping this module.\n"
     ]
    },
    {
     "name": "stdout",
     "output_type": "stream",
     "text": [
      "[                                        ] | 0% Completed | 46.19 s"
     ]
    },
    {
     "name": "stderr",
     "output_type": "stream",
     "text": [
      "\n",
      "2023-08-09 14:27:06,105 - pyscenic.transform - WARNING - Less than 80% of the genes in FOXC1 could be mapped to hg38__refseq-r80__10kb_up_and_down_tss.mc9nr.genes_vs_motifs.rankings. Skipping this module.\n",
      "\n",
      "2023-08-09 14:27:06,242 - pyscenic.transform - WARNING - Less than 80% of the genes in IRX5 could be mapped to hg38__refseq-r80__500bp_up_and_100bp_down_tss.mc9nr.genes_vs_motifs.rankings. Skipping this module.\n"
     ]
    },
    {
     "name": "stdout",
     "output_type": "stream",
     "text": [
      "[                                        ] | 0% Completed | 49.15 s"
     ]
    },
    {
     "name": "stderr",
     "output_type": "stream",
     "text": [
      "\n",
      "2023-08-09 14:27:09,133 - pyscenic.transform - WARNING - Less than 80% of the genes in GATA2 could be mapped to hg38__refseq-r80__10kb_up_and_down_tss.mc9nr.genes_vs_motifs.rankings. Skipping this module.\n",
      "\n",
      "2023-08-09 14:27:09,237 - pyscenic.transform - WARNING - Less than 80% of the genes in GFI1B could be mapped to hg38__refseq-r80__10kb_up_and_down_tss.mc9nr.genes_vs_motifs.rankings. Skipping this module.\n"
     ]
    },
    {
     "name": "stdout",
     "output_type": "stream",
     "text": [
      "[                                        ] | 0% Completed | 49.68 s"
     ]
    },
    {
     "name": "stderr",
     "output_type": "stream",
     "text": [
      "\n",
      "2023-08-09 14:27:09,655 - pyscenic.transform - WARNING - Less than 80% of the genes in GRHL1 could be mapped to hg38__refseq-r80__10kb_up_and_down_tss.mc9nr.genes_vs_motifs.rankings. Skipping this module.\n"
     ]
    },
    {
     "name": "stdout",
     "output_type": "stream",
     "text": [
      "[                                        ] | 0% Completed | 51.47 s"
     ]
    },
    {
     "name": "stderr",
     "output_type": "stream",
     "text": [
      "\n",
      "2023-08-09 14:27:11,458 - pyscenic.transform - WARNING - Less than 80% of the genes in GTF2A1 could be mapped to hg38__refseq-r80__10kb_up_and_down_tss.mc9nr.genes_vs_motifs.rankings. Skipping this module.\n"
     ]
    },
    {
     "name": "stdout",
     "output_type": "stream",
     "text": [
      "[                                        ] | 0% Completed | 53.16 s"
     ]
    },
    {
     "name": "stderr",
     "output_type": "stream",
     "text": [
      "\n",
      "2023-08-09 14:27:13,126 - pyscenic.transform - WARNING - Less than 80% of the genes in HCLS1 could be mapped to hg38__refseq-r80__10kb_up_and_down_tss.mc9nr.genes_vs_motifs.rankings. Skipping this module.\n"
     ]
    },
    {
     "name": "stdout",
     "output_type": "stream",
     "text": [
      "[                                        ] | 0% Completed | 54.33 s"
     ]
    },
    {
     "name": "stderr",
     "output_type": "stream",
     "text": [
      "\n",
      "2023-08-09 14:27:14,247 - pyscenic.transform - WARNING - Less than 80% of the genes in HEY2 could be mapped to hg38__refseq-r80__10kb_up_and_down_tss.mc9nr.genes_vs_motifs.rankings. Skipping this module.\n"
     ]
    },
    {
     "name": "stdout",
     "output_type": "stream",
     "text": [
      "[                                        ] | 0% Completed | 55.49 s"
     ]
    },
    {
     "name": "stderr",
     "output_type": "stream",
     "text": [
      "\n",
      "2023-08-09 14:27:15,425 - pyscenic.transform - WARNING - Less than 80% of the genes in HNRNPH3 could be mapped to hg38__refseq-r80__10kb_up_and_down_tss.mc9nr.genes_vs_motifs.rankings. Skipping this module.\n"
     ]
    },
    {
     "name": "stdout",
     "output_type": "stream",
     "text": [
      "[                                        ] | 0% Completed | 56.66 s"
     ]
    },
    {
     "name": "stderr",
     "output_type": "stream",
     "text": [
      "\n",
      "2023-08-09 14:27:16,560 - pyscenic.transform - WARNING - Less than 80% of the genes in HOXD1 could be mapped to hg38__refseq-r80__10kb_up_and_down_tss.mc9nr.genes_vs_motifs.rankings. Skipping this module.\n"
     ]
    },
    {
     "name": "stdout",
     "output_type": "stream",
     "text": [
      "[                                        ] | 0% Completed | 57.41 s"
     ]
    },
    {
     "name": "stderr",
     "output_type": "stream",
     "text": [
      "\n",
      "2023-08-09 14:27:17,395 - pyscenic.transform - WARNING - Less than 80% of the genes in INSM1 could be mapped to hg38__refseq-r80__10kb_up_and_down_tss.mc9nr.genes_vs_motifs.rankings. Skipping this module.\n"
     ]
    },
    {
     "name": "stdout",
     "output_type": "stream",
     "text": [
      "[                                        ] | 0% Completed | 57.73 s"
     ]
    },
    {
     "name": "stderr",
     "output_type": "stream",
     "text": [
      "\n",
      "2023-08-09 14:27:17,676 - pyscenic.transform - WARNING - Less than 80% of the genes in IRX5 could be mapped to hg38__refseq-r80__10kb_up_and_down_tss.mc9nr.genes_vs_motifs.rankings. Skipping this module.\n"
     ]
    },
    {
     "name": "stdout",
     "output_type": "stream",
     "text": [
      "[                                        ] | 0% Completed | 62.94 s"
     ]
    },
    {
     "name": "stderr",
     "output_type": "stream",
     "text": [
      "\n",
      "2023-08-09 14:27:22,890 - pyscenic.transform - WARNING - Less than 80% of the genes in KLF2 could be mapped to hg38__refseq-r80__10kb_up_and_down_tss.mc9nr.genes_vs_motifs.rankings. Skipping this module.\n"
     ]
    },
    {
     "name": "stdout",
     "output_type": "stream",
     "text": [
      "[                                        ] | 0% Completed | 64.95 s"
     ]
    },
    {
     "name": "stderr",
     "output_type": "stream",
     "text": [
      "\n",
      "2023-08-09 14:27:24,936 - pyscenic.transform - WARNING - Less than 80% of the genes in KLF6 could be mapped to hg38__refseq-r80__10kb_up_and_down_tss.mc9nr.genes_vs_motifs.rankings. Skipping this module.\n",
      "\n",
      "2023-08-09 14:27:25,051 - pyscenic.transform - WARNING - Less than 80% of the genes in LHX1 could be mapped to hg38__refseq-r80__10kb_up_and_down_tss.mc9nr.genes_vs_motifs.rankings. Skipping this module.\n"
     ]
    },
    {
     "name": "stdout",
     "output_type": "stream",
     "text": [
      "[                                        ] | 0% Completed | 67.28 s"
     ]
    },
    {
     "name": "stderr",
     "output_type": "stream",
     "text": [
      "\n",
      "2023-08-09 14:27:27,205 - pyscenic.transform - WARNING - Less than 80% of the genes in MEOX2 could be mapped to hg38__refseq-r80__10kb_up_and_down_tss.mc9nr.genes_vs_motifs.rankings. Skipping this module.\n",
      "\n",
      "2023-08-09 14:27:27,297 - pyscenic.transform - WARNING - Less than 80% of the genes in MESP1 could be mapped to hg38__refseq-r80__10kb_up_and_down_tss.mc9nr.genes_vs_motifs.rankings. Skipping this module.\n"
     ]
    },
    {
     "name": "stdout",
     "output_type": "stream",
     "text": [
      "[                                        ] | 0% Completed | 67.60 s"
     ]
    },
    {
     "name": "stderr",
     "output_type": "stream",
     "text": [
      "\n",
      "2023-08-09 14:27:27,585 - pyscenic.transform - WARNING - Less than 80% of the genes in MYBL1 could be mapped to hg38__refseq-r80__10kb_up_and_down_tss.mc9nr.genes_vs_motifs.rankings. Skipping this module.\n"
     ]
    },
    {
     "name": "stdout",
     "output_type": "stream",
     "text": [
      "[                                        ] | 0% Completed | 67.92 s"
     ]
    },
    {
     "name": "stderr",
     "output_type": "stream",
     "text": [
      "\n",
      "2023-08-09 14:27:27,833 - pyscenic.transform - WARNING - Less than 80% of the genes in MYC could be mapped to hg38__refseq-r80__10kb_up_and_down_tss.mc9nr.genes_vs_motifs.rankings. Skipping this module.\n",
      "\n",
      "2023-08-09 14:27:27,927 - pyscenic.transform - WARNING - Less than 80% of the genes in MYCL could be mapped to hg38__refseq-r80__10kb_up_and_down_tss.mc9nr.genes_vs_motifs.rankings. Skipping this module.\n",
      "\n",
      "2023-08-09 14:27:28,017 - pyscenic.transform - WARNING - Less than 80% of the genes in MYLK could be mapped to hg38__refseq-r80__10kb_up_and_down_tss.mc9nr.genes_vs_motifs.rankings. Skipping this module.\n"
     ]
    },
    {
     "name": "stdout",
     "output_type": "stream",
     "text": [
      "[                                        ] | 0% Completed | 69.72 s"
     ]
    },
    {
     "name": "stderr",
     "output_type": "stream",
     "text": [
      "\n",
      "2023-08-09 14:27:29,673 - pyscenic.transform - WARNING - Less than 80% of the genes in NEUROG3 could be mapped to hg38__refseq-r80__10kb_up_and_down_tss.mc9nr.genes_vs_motifs.rankings. Skipping this module.\n"
     ]
    },
    {
     "name": "stdout",
     "output_type": "stream",
     "text": [
      "[                                        ] | 0% Completed | 70.03 s"
     ]
    },
    {
     "name": "stderr",
     "output_type": "stream",
     "text": [
      "\n",
      "2023-08-09 14:27:29,946 - pyscenic.transform - WARNING - Less than 80% of the genes in NFIB could be mapped to hg38__refseq-r80__10kb_up_and_down_tss.mc9nr.genes_vs_motifs.rankings. Skipping this module.\n",
      "\n",
      "2023-08-09 14:27:30,042 - pyscenic.transform - WARNING - Less than 80% of the genes in NKX2-2 could be mapped to hg38__refseq-r80__10kb_up_and_down_tss.mc9nr.genes_vs_motifs.rankings. Skipping this module.\n"
     ]
    },
    {
     "name": "stdout",
     "output_type": "stream",
     "text": [
      "[                                        ] | 0% Completed | 70.56 s"
     ]
    },
    {
     "name": "stderr",
     "output_type": "stream",
     "text": [
      "\n",
      "2023-08-09 14:27:30,512 - pyscenic.transform - WARNING - Less than 80% of the genes in NPAS4 could be mapped to hg38__refseq-r80__10kb_up_and_down_tss.mc9nr.genes_vs_motifs.rankings. Skipping this module.\n",
      "\n",
      "2023-08-09 14:27:30,697 - pyscenic.transform - WARNING - Less than 80% of the genes in NR2F2 could be mapped to hg38__refseq-r80__10kb_up_and_down_tss.mc9nr.genes_vs_motifs.rankings. Skipping this module.\n"
     ]
    },
    {
     "name": "stdout",
     "output_type": "stream",
     "text": [
      "[                                        ] | 0% Completed | 73.29 s"
     ]
    },
    {
     "name": "stderr",
     "output_type": "stream",
     "text": [
      "\n",
      "2023-08-09 14:27:33,280 - pyscenic.transform - WARNING - Less than 80% of the genes in POU2AF1 could be mapped to hg38__refseq-r80__10kb_up_and_down_tss.mc9nr.genes_vs_motifs.rankings. Skipping this module.\n"
     ]
    },
    {
     "name": "stdout",
     "output_type": "stream",
     "text": [
      "[                                        ] | 0% Completed | 73.92 s"
     ]
    },
    {
     "name": "stderr",
     "output_type": "stream",
     "text": [
      "\n",
      "2023-08-09 14:27:33,809 - pyscenic.transform - WARNING - Less than 80% of the genes in POU3F2 could be mapped to hg38__refseq-r80__10kb_up_and_down_tss.mc9nr.genes_vs_motifs.rankings. Skipping this module.\n"
     ]
    },
    {
     "name": "stdout",
     "output_type": "stream",
     "text": [
      "[                                        ] | 0% Completed | 74.76 s"
     ]
    },
    {
     "name": "stderr",
     "output_type": "stream",
     "text": [
      "\n",
      "2023-08-09 14:27:34,747 - pyscenic.transform - WARNING - Less than 80% of the genes in POU4F1 could be mapped to hg38__refseq-r80__10kb_up_and_down_tss.mc9nr.genes_vs_motifs.rankings. Skipping this module.\n"
     ]
    },
    {
     "name": "stdout",
     "output_type": "stream",
     "text": [
      "[                                        ] | 0% Completed | 84.08 s"
     ]
    },
    {
     "name": "stderr",
     "output_type": "stream",
     "text": [
      "\n",
      "2023-08-09 14:27:44,058 - pyscenic.transform - WARNING - Less than 80% of the genes in SMARCA1 could be mapped to hg38__refseq-r80__10kb_up_and_down_tss.mc9nr.genes_vs_motifs.rankings. Skipping this module.\n"
     ]
    },
    {
     "name": "stdout",
     "output_type": "stream",
     "text": [
      "[                                        ] | 0% Completed | 90.58 s"
     ]
    },
    {
     "name": "stderr",
     "output_type": "stream",
     "text": [
      "\n",
      "2023-08-09 14:27:50,532 - pyscenic.transform - WARNING - Less than 80% of the genes in TAL2 could be mapped to hg38__refseq-r80__10kb_up_and_down_tss.mc9nr.genes_vs_motifs.rankings. Skipping this module.\n"
     ]
    },
    {
     "name": "stdout",
     "output_type": "stream",
     "text": [
      "[##                                      ] | 5% Completed | 91.84 s"
     ]
    },
    {
     "name": "stderr",
     "output_type": "stream",
     "text": [
      "\n",
      "2023-08-09 14:27:51,716 - pyscenic.transform - WARNING - Less than 80% of the genes in TGIF1 could be mapped to hg38__refseq-r80__10kb_up_and_down_tss.mc9nr.genes_vs_motifs.rankings. Skipping this module.\n",
      "\n",
      "2023-08-09 14:27:51,875 - pyscenic.transform - WARNING - Less than 80% of the genes in TIMM44 could be mapped to hg38__refseq-r80__10kb_up_and_down_tss.mc9nr.genes_vs_motifs.rankings. Skipping this module.\n"
     ]
    },
    {
     "name": "stdout",
     "output_type": "stream",
     "text": [
      "[####                                    ] | 10% Completed | 92.07 s"
     ]
    },
    {
     "name": "stderr",
     "output_type": "stream",
     "text": [
      "\n",
      "2023-08-09 14:27:52,045 - pyscenic.transform - WARNING - Less than 80% of the genes in TIMM8A could be mapped to hg38__refseq-r80__10kb_up_and_down_tss.mc9nr.genes_vs_motifs.rankings. Skipping this module.\n",
      "\n",
      "2023-08-09 14:27:52,238 - pyscenic.transform - WARNING - Less than 80% of the genes in TLX3 could be mapped to hg38__refseq-r80__10kb_up_and_down_tss.mc9nr.genes_vs_motifs.rankings. Skipping this module.\n"
     ]
    },
    {
     "name": "stdout",
     "output_type": "stream",
     "text": [
      "[####                                    ] | 10% Completed | 92.49 s"
     ]
    },
    {
     "name": "stderr",
     "output_type": "stream",
     "text": [
      "\n",
      "2023-08-09 14:27:52,464 - pyscenic.transform - WARNING - Less than 80% of the genes in TRIB1 could be mapped to hg38__refseq-r80__10kb_up_and_down_tss.mc9nr.genes_vs_motifs.rankings. Skipping this module.\n"
     ]
    },
    {
     "name": "stdout",
     "output_type": "stream",
     "text": [
      "[####                                    ] | 10% Completed | 92.92 s"
     ]
    },
    {
     "name": "stderr",
     "output_type": "stream",
     "text": [
      "\n",
      "2023-08-09 14:27:52,904 - pyscenic.transform - WARNING - Less than 80% of the genes in TWIST1 could be mapped to hg38__refseq-r80__10kb_up_and_down_tss.mc9nr.genes_vs_motifs.rankings. Skipping this module.\n"
     ]
    },
    {
     "name": "stdout",
     "output_type": "stream",
     "text": [
      "[####                                    ] | 10% Completed | 94.08 s"
     ]
    },
    {
     "name": "stderr",
     "output_type": "stream",
     "text": [
      "\n",
      "2023-08-09 14:27:54,060 - pyscenic.transform - WARNING - Less than 80% of the genes in ZNF322 could be mapped to hg38__refseq-r80__10kb_up_and_down_tss.mc9nr.genes_vs_motifs.rankings. Skipping this module.\n"
     ]
    },
    {
     "name": "stdout",
     "output_type": "stream",
     "text": [
      "[####                                    ] | 10% Completed | 94.50 s"
     ]
    },
    {
     "name": "stderr",
     "output_type": "stream",
     "text": [
      "\n",
      "2023-08-09 14:27:54,399 - pyscenic.transform - WARNING - Less than 80% of the genes in Regulon for FGF19 could be mapped to hg38__refseq-r80__500bp_up_and_100bp_down_tss.mc9nr.genes_vs_motifs.rankings. Skipping this module.\n"
     ]
    },
    {
     "name": "stdout",
     "output_type": "stream",
     "text": [
      "[####                                    ] | 10% Completed | 94.81 s"
     ]
    },
    {
     "name": "stderr",
     "output_type": "stream",
     "text": [
      "\n",
      "2023-08-09 14:27:54,760 - pyscenic.transform - WARNING - Less than 80% of the genes in ZNF844 could be mapped to hg38__refseq-r80__10kb_up_and_down_tss.mc9nr.genes_vs_motifs.rankings. Skipping this module.\n",
      "\n",
      "2023-08-09 14:27:54,947 - pyscenic.transform - WARNING - Less than 80% of the genes in ZSCAN31 could be mapped to hg38__refseq-r80__10kb_up_and_down_tss.mc9nr.genes_vs_motifs.rankings. Skipping this module.\n"
     ]
    },
    {
     "name": "stdout",
     "output_type": "stream",
     "text": [
      "[####                                    ] | 10% Completed | 126.58 s"
     ]
    },
    {
     "name": "stderr",
     "output_type": "stream",
     "text": [
      "\n",
      "2023-08-09 14:28:26,563 - pyscenic.transform - WARNING - Less than 80% of the genes in Regulon for OLIG3 could be mapped to hg38__refseq-r80__500bp_up_and_100bp_down_tss.mc9nr.genes_vs_motifs.rankings. Skipping this module.\n"
     ]
    },
    {
     "name": "stdout",
     "output_type": "stream",
     "text": [
      "[####                                    ] | 10% Completed | 128.17 s"
     ]
    },
    {
     "name": "stderr",
     "output_type": "stream",
     "text": [
      "\n",
      "2023-08-09 14:28:28,078 - pyscenic.transform - WARNING - Less than 80% of the genes in EGR2 could be mapped to hg38__refseq-r80__10kb_up_and_down_tss.mc9nr.genes_vs_motifs.rankings. Skipping this module.\n"
     ]
    },
    {
     "name": "stdout",
     "output_type": "stream",
     "text": [
      "[####                                    ] | 10% Completed | 147.47 s"
     ]
    },
    {
     "name": "stderr",
     "output_type": "stream",
     "text": [
      "\n",
      "2023-08-09 14:28:47,421 - pyscenic.transform - WARNING - Less than 80% of the genes in ATF3 could be mapped to hg38__refseq-r80__500bp_up_and_100bp_down_tss.mc9nr.genes_vs_motifs.rankings. Skipping this module.\n"
     ]
    },
    {
     "name": "stdout",
     "output_type": "stream",
     "text": [
      "[####                                    ] | 10% Completed | 155.76 s"
     ]
    },
    {
     "name": "stderr",
     "output_type": "stream",
     "text": [
      "\n",
      "2023-08-09 14:28:55,737 - pyscenic.transform - WARNING - Less than 80% of the genes in CEBPG could be mapped to hg38__refseq-r80__500bp_up_and_100bp_down_tss.mc9nr.genes_vs_motifs.rankings. Skipping this module.\n"
     ]
    },
    {
     "name": "stdout",
     "output_type": "stream",
     "text": [
      "[####                                    ] | 10% Completed | 155.97 s"
     ]
    },
    {
     "name": "stderr",
     "output_type": "stream",
     "text": [
      "\n",
      "2023-08-09 14:28:55,937 - pyscenic.transform - WARNING - Less than 80% of the genes in CREB5 could be mapped to hg38__refseq-r80__500bp_up_and_100bp_down_tss.mc9nr.genes_vs_motifs.rankings. Skipping this module.\n"
     ]
    },
    {
     "name": "stdout",
     "output_type": "stream",
     "text": [
      "[####                                    ] | 10% Completed | 158.19 s"
     ]
    },
    {
     "name": "stderr",
     "output_type": "stream",
     "text": [
      "\n",
      "2023-08-09 14:28:58,133 - pyscenic.transform - WARNING - Less than 80% of the genes in DLX5 could be mapped to hg38__refseq-r80__500bp_up_and_100bp_down_tss.mc9nr.genes_vs_motifs.rankings. Skipping this module.\n"
     ]
    },
    {
     "name": "stdout",
     "output_type": "stream",
     "text": [
      "[####                                    ] | 10% Completed | 162.29 s"
     ]
    },
    {
     "name": "stderr",
     "output_type": "stream",
     "text": [
      "\n",
      "2023-08-09 14:29:02,231 - pyscenic.transform - WARNING - Less than 80% of the genes in E2F5 could be mapped to hg38__refseq-r80__500bp_up_and_100bp_down_tss.mc9nr.genes_vs_motifs.rankings. Skipping this module.\n"
     ]
    },
    {
     "name": "stdout",
     "output_type": "stream",
     "text": [
      "[####                                    ] | 10% Completed | 162.82 s"
     ]
    },
    {
     "name": "stderr",
     "output_type": "stream",
     "text": [
      "\n",
      "2023-08-09 14:29:02,750 - pyscenic.transform - WARNING - Less than 80% of the genes in EGR1 could be mapped to hg38__refseq-r80__500bp_up_and_100bp_down_tss.mc9nr.genes_vs_motifs.rankings. Skipping this module.\n"
     ]
    },
    {
     "name": "stdout",
     "output_type": "stream",
     "text": [
      "[####                                    ] | 10% Completed | 163.78 s"
     ]
    },
    {
     "name": "stderr",
     "output_type": "stream",
     "text": [
      "\n",
      "2023-08-09 14:29:03,731 - pyscenic.transform - WARNING - Less than 80% of the genes in EGR3 could be mapped to hg38__refseq-r80__500bp_up_and_100bp_down_tss.mc9nr.genes_vs_motifs.rankings. Skipping this module.\n"
     ]
    },
    {
     "name": "stdout",
     "output_type": "stream",
     "text": [
      "[####                                    ] | 10% Completed | 164.31 s"
     ]
    },
    {
     "name": "stderr",
     "output_type": "stream",
     "text": [
      "\n",
      "2023-08-09 14:29:04,245 - pyscenic.transform - WARNING - Less than 80% of the genes in HOXD1 could be mapped to hg38__refseq-r80__10kb_up_and_down_tss.mc9nr.genes_vs_motifs.rankings. Skipping this module.\n"
     ]
    },
    {
     "name": "stdout",
     "output_type": "stream",
     "text": [
      "[####                                    ] | 10% Completed | 164.74 s"
     ]
    },
    {
     "name": "stderr",
     "output_type": "stream",
     "text": [
      "\n",
      "2023-08-09 14:29:04,639 - pyscenic.transform - WARNING - Less than 80% of the genes in EGR4 could be mapped to hg38__refseq-r80__500bp_up_and_100bp_down_tss.mc9nr.genes_vs_motifs.rankings. Skipping this module.\n",
      "\n",
      "2023-08-09 14:29:04,784 - pyscenic.transform - WARNING - Less than 80% of the genes in EHF could be mapped to hg38__refseq-r80__500bp_up_and_100bp_down_tss.mc9nr.genes_vs_motifs.rankings. Skipping this module.\n",
      "\n",
      "2023-08-09 14:29:04,829 - pyscenic.transform - WARNING - Less than 80% of the genes in HSPA1L could be mapped to hg38__refseq-r80__10kb_up_and_down_tss.mc9nr.genes_vs_motifs.rankings. Skipping this module.\n"
     ]
    },
    {
     "name": "stdout",
     "output_type": "stream",
     "text": [
      "[####                                    ] | 10% Completed | 167.01 s"
     ]
    },
    {
     "name": "stderr",
     "output_type": "stream",
     "text": [
      "\n",
      "2023-08-09 14:29:06,906 - pyscenic.transform - WARNING - Less than 80% of the genes in FGF19 could be mapped to hg38__refseq-r80__500bp_up_and_100bp_down_tss.mc9nr.genes_vs_motifs.rankings. Skipping this module.\n"
     ]
    },
    {
     "name": "stdout",
     "output_type": "stream",
     "text": [
      "[####                                    ] | 10% Completed | 169.80 s"
     ]
    },
    {
     "name": "stderr",
     "output_type": "stream",
     "text": [
      "\n",
      "2023-08-09 14:29:09,704 - pyscenic.transform - WARNING - Less than 80% of the genes in FOSB could be mapped to hg38__refseq-r80__500bp_up_and_100bp_down_tss.mc9nr.genes_vs_motifs.rankings. Skipping this module.\n"
     ]
    },
    {
     "name": "stdout",
     "output_type": "stream",
     "text": [
      "[####                                    ] | 10% Completed | 170.11 s"
     ]
    },
    {
     "name": "stderr",
     "output_type": "stream",
     "text": [
      "\n",
      "2023-08-09 14:29:10,076 - pyscenic.transform - WARNING - Less than 80% of the genes in IRX5 could be mapped to hg38__refseq-r80__10kb_up_and_down_tss.mc9nr.genes_vs_motifs.rankings. Skipping this module.\n"
     ]
    },
    {
     "name": "stdout",
     "output_type": "stream",
     "text": [
      "[####                                    ] | 10% Completed | 170.64 s"
     ]
    },
    {
     "name": "stderr",
     "output_type": "stream",
     "text": [
      "\n",
      "2023-08-09 14:29:10,626 - pyscenic.transform - WARNING - Less than 80% of the genes in FOXC1 could be mapped to hg38__refseq-r80__500bp_up_and_100bp_down_tss.mc9nr.genes_vs_motifs.rankings. Skipping this module.\n"
     ]
    },
    {
     "name": "stdout",
     "output_type": "stream",
     "text": [
      "[####                                    ] | 10% Completed | 171.39 s"
     ]
    },
    {
     "name": "stderr",
     "output_type": "stream",
     "text": [
      "\n",
      "2023-08-09 14:29:11,328 - pyscenic.transform - WARNING - Less than 80% of the genes in GTF2A1 could be mapped to hg38__refseq-r80__500bp_up_and_100bp_down_tss.mc9nr.genes_vs_motifs.rankings. Skipping this module.\n"
     ]
    },
    {
     "name": "stdout",
     "output_type": "stream",
     "text": [
      "[####                                    ] | 10% Completed | 172.35 s"
     ]
    },
    {
     "name": "stderr",
     "output_type": "stream",
     "text": [
      "\n",
      "2023-08-09 14:29:12,254 - pyscenic.transform - WARNING - Less than 80% of the genes in HCLS1 could be mapped to hg38__refseq-r80__500bp_up_and_100bp_down_tss.mc9nr.genes_vs_motifs.rankings. Skipping this module.\n",
      "\n",
      "2023-08-09 14:29:12,405 - pyscenic.transform - WARNING - Less than 80% of the genes in HES1 could be mapped to hg38__refseq-r80__500bp_up_and_100bp_down_tss.mc9nr.genes_vs_motifs.rankings. Skipping this module.\n"
     ]
    },
    {
     "name": "stdout",
     "output_type": "stream",
     "text": [
      "[####                                    ] | 10% Completed | 177.32 s"
     ]
    },
    {
     "name": "stderr",
     "output_type": "stream",
     "text": [
      "\n",
      "2023-08-09 14:29:17,288 - pyscenic.transform - WARNING - Less than 80% of the genes in HOXB2 could be mapped to hg38__refseq-r80__500bp_up_and_100bp_down_tss.mc9nr.genes_vs_motifs.rankings. Skipping this module.\n"
     ]
    },
    {
     "name": "stdout",
     "output_type": "stream",
     "text": [
      "[####                                    ] | 10% Completed | 178.54 s"
     ]
    },
    {
     "name": "stderr",
     "output_type": "stream",
     "text": [
      "\n",
      "2023-08-09 14:29:18,506 - pyscenic.transform - WARNING - Less than 80% of the genes in HOXD1 could be mapped to hg38__refseq-r80__500bp_up_and_100bp_down_tss.mc9nr.genes_vs_motifs.rankings. Skipping this module.\n"
     ]
    },
    {
     "name": "stdout",
     "output_type": "stream",
     "text": [
      "[####                                    ] | 10% Completed | 179.41 s"
     ]
    },
    {
     "name": "stderr",
     "output_type": "stream",
     "text": [
      "\n",
      "2023-08-09 14:29:19,309 - pyscenic.transform - WARNING - Less than 80% of the genes in ID4 could be mapped to hg38__refseq-r80__500bp_up_and_100bp_down_tss.mc9nr.genes_vs_motifs.rankings. Skipping this module.\n"
     ]
    },
    {
     "name": "stdout",
     "output_type": "stream",
     "text": [
      "[####                                    ] | 10% Completed | 180.37 s"
     ]
    },
    {
     "name": "stderr",
     "output_type": "stream",
     "text": [
      "\n",
      "2023-08-09 14:29:20,287 - pyscenic.transform - WARNING - Less than 80% of the genes in KIF22 could be mapped to hg38__refseq-r80__500bp_up_and_100bp_down_tss.mc9nr.genes_vs_motifs.rankings. Skipping this module.\n",
      "\n",
      "2023-08-09 14:29:20,473 - pyscenic.transform - WARNING - Less than 80% of the genes in KLF2 could be mapped to hg38__refseq-r80__500bp_up_and_100bp_down_tss.mc9nr.genes_vs_motifs.rankings. Skipping this module.\n"
     ]
    },
    {
     "name": "stdout",
     "output_type": "stream",
     "text": [
      "[####                                    ] | 10% Completed | 180.81 s"
     ]
    },
    {
     "name": "stderr",
     "output_type": "stream",
     "text": [
      "\n",
      "2023-08-09 14:29:20,711 - pyscenic.transform - WARNING - Less than 80% of the genes in KLF3 could be mapped to hg38__refseq-r80__500bp_up_and_100bp_down_tss.mc9nr.genes_vs_motifs.rankings. Skipping this module.\n"
     ]
    },
    {
     "name": "stdout",
     "output_type": "stream",
     "text": [
      "[####                                    ] | 10% Completed | 182.86 s"
     ]
    },
    {
     "name": "stderr",
     "output_type": "stream",
     "text": [
      "\n",
      "2023-08-09 14:29:22,757 - pyscenic.transform - WARNING - Less than 80% of the genes in KLF6 could be mapped to hg38__refseq-r80__500bp_up_and_100bp_down_tss.mc9nr.genes_vs_motifs.rankings. Skipping this module.\n",
      "\n",
      "2023-08-09 14:29:22,940 - pyscenic.transform - WARNING - Less than 80% of the genes in LHX1 could be mapped to hg38__refseq-r80__500bp_up_and_100bp_down_tss.mc9nr.genes_vs_motifs.rankings. Skipping this module.\n"
     ]
    },
    {
     "name": "stdout",
     "output_type": "stream",
     "text": [
      "[####                                    ] | 10% Completed | 183.39 s"
     ]
    },
    {
     "name": "stderr",
     "output_type": "stream",
     "text": [
      "\n",
      "2023-08-09 14:29:23,317 - pyscenic.transform - WARNING - Less than 80% of the genes in MAFF could be mapped to hg38__refseq-r80__500bp_up_and_100bp_down_tss.mc9nr.genes_vs_motifs.rankings. Skipping this module.\n"
     ]
    },
    {
     "name": "stdout",
     "output_type": "stream",
     "text": [
      "[####                                    ] | 10% Completed | 183.82 s"
     ]
    },
    {
     "name": "stderr",
     "output_type": "stream",
     "text": [
      "\n",
      "2023-08-09 14:29:23,752 - pyscenic.transform - WARNING - Less than 80% of the genes in MEOX2 could be mapped to hg38__refseq-r80__500bp_up_and_100bp_down_tss.mc9nr.genes_vs_motifs.rankings. Skipping this module.\n",
      "\n",
      "2023-08-09 14:29:23,914 - pyscenic.transform - WARNING - Less than 80% of the genes in MESP1 could be mapped to hg38__refseq-r80__500bp_up_and_100bp_down_tss.mc9nr.genes_vs_motifs.rankings. Skipping this module.\n"
     ]
    },
    {
     "name": "stdout",
     "output_type": "stream",
     "text": [
      "[####                                    ] | 10% Completed | 184.58 s"
     ]
    },
    {
     "name": "stderr",
     "output_type": "stream",
     "text": [
      "\n",
      "2023-08-09 14:29:24,492 - pyscenic.transform - WARNING - Less than 80% of the genes in NKX2-2 could be mapped to hg38__refseq-r80__500bp_up_and_100bp_down_tss.mc9nr.genes_vs_motifs.rankings. Skipping this module.\n",
      "\n",
      "2023-08-09 14:29:24,679 - pyscenic.transform - WARNING - Less than 80% of the genes in NKX2-5 could be mapped to hg38__refseq-r80__500bp_up_and_100bp_down_tss.mc9nr.genes_vs_motifs.rankings. Skipping this module.\n"
     ]
    },
    {
     "name": "stdout",
     "output_type": "stream",
     "text": [
      "[####                                    ] | 10% Completed | 185.23 s"
     ]
    },
    {
     "name": "stderr",
     "output_type": "stream",
     "text": [
      "\n",
      "2023-08-09 14:29:25,137 - pyscenic.transform - WARNING - Less than 80% of the genes in NPAS4 could be mapped to hg38__refseq-r80__500bp_up_and_100bp_down_tss.mc9nr.genes_vs_motifs.rankings. Skipping this module.\n"
     ]
    },
    {
     "name": "stdout",
     "output_type": "stream",
     "text": [
      "[####                                    ] | 10% Completed | 188.77 s"
     ]
    },
    {
     "name": "stderr",
     "output_type": "stream",
     "text": [
      "\n",
      "2023-08-09 14:29:28,708 - pyscenic.transform - WARNING - Less than 80% of the genes in POU3F2 could be mapped to hg38__refseq-r80__500bp_up_and_100bp_down_tss.mc9nr.genes_vs_motifs.rankings. Skipping this module.\n",
      "\n",
      "2023-08-09 14:29:28,906 - pyscenic.transform - WARNING - Less than 80% of the genes in POU4F1 could be mapped to hg38__refseq-r80__500bp_up_and_100bp_down_tss.mc9nr.genes_vs_motifs.rankings. Skipping this module.\n"
     ]
    },
    {
     "name": "stdout",
     "output_type": "stream",
     "text": [
      "[####                                    ] | 10% Completed | 195.66 s"
     ]
    },
    {
     "name": "stderr",
     "output_type": "stream",
     "text": [
      "\n",
      "2023-08-09 14:29:35,548 - pyscenic.transform - WARNING - Less than 80% of the genes in SIX1 could be mapped to hg38__refseq-r80__500bp_up_and_100bp_down_tss.mc9nr.genes_vs_motifs.rankings. Skipping this module.\n"
     ]
    },
    {
     "name": "stdout",
     "output_type": "stream",
     "text": [
      "[####                                    ] | 10% Completed | 198.06 s"
     ]
    },
    {
     "name": "stderr",
     "output_type": "stream",
     "text": [
      "\n",
      "2023-08-09 14:29:37,974 - pyscenic.transform - WARNING - Less than 80% of the genes in TAL2 could be mapped to hg38__refseq-r80__500bp_up_and_100bp_down_tss.mc9nr.genes_vs_motifs.rankings. Skipping this module.\n",
      "\n",
      "2023-08-09 14:29:38,070 - pyscenic.transform - WARNING - Less than 80% of the genes in TGIF1 could be mapped to hg38__refseq-r80__500bp_up_and_100bp_down_tss.mc9nr.genes_vs_motifs.rankings. Skipping this module.\n"
     ]
    },
    {
     "name": "stdout",
     "output_type": "stream",
     "text": [
      "[####                                    ] | 10% Completed | 198.27 s"
     ]
    },
    {
     "name": "stderr",
     "output_type": "stream",
     "text": [
      "\n",
      "2023-08-09 14:29:38,229 - pyscenic.transform - WARNING - Less than 80% of the genes in TIMM8A could be mapped to hg38__refseq-r80__500bp_up_and_100bp_down_tss.mc9nr.genes_vs_motifs.rankings. Skipping this module.\n"
     ]
    },
    {
     "name": "stdout",
     "output_type": "stream",
     "text": [
      "[####                                    ] | 10% Completed | 198.59 s"
     ]
    },
    {
     "name": "stderr",
     "output_type": "stream",
     "text": [
      "\n",
      "2023-08-09 14:29:38,507 - pyscenic.transform - WARNING - Less than 80% of the genes in TRIB1 could be mapped to hg38__refseq-r80__500bp_up_and_100bp_down_tss.mc9nr.genes_vs_motifs.rankings. Skipping this module.\n"
     ]
    },
    {
     "name": "stdout",
     "output_type": "stream",
     "text": [
      "[####                                    ] | 10% Completed | 199.48 s"
     ]
    },
    {
     "name": "stderr",
     "output_type": "stream",
     "text": [
      "\n",
      "2023-08-09 14:29:39,374 - pyscenic.transform - WARNING - Less than 80% of the genes in ZNF165 could be mapped to hg38__refseq-r80__500bp_up_and_100bp_down_tss.mc9nr.genes_vs_motifs.rankings. Skipping this module.\n",
      "\n",
      "2023-08-09 14:29:39,578 - pyscenic.transform - WARNING - Less than 80% of the genes in ZNF367 could be mapped to hg38__refseq-r80__500bp_up_and_100bp_down_tss.mc9nr.genes_vs_motifs.rankings. Skipping this module.\n"
     ]
    },
    {
     "name": "stdout",
     "output_type": "stream",
     "text": [
      "[####                                    ] | 10% Completed | 200.01 s"
     ]
    },
    {
     "name": "stderr",
     "output_type": "stream",
     "text": [
      "\n",
      "2023-08-09 14:29:39,933 - pyscenic.transform - WARNING - Less than 80% of the genes in ZSCAN31 could be mapped to hg38__refseq-r80__500bp_up_and_100bp_down_tss.mc9nr.genes_vs_motifs.rankings. Skipping this module.\n"
     ]
    },
    {
     "name": "stdout",
     "output_type": "stream",
     "text": [
      "[####                                    ] | 10% Completed | 200.22 s"
     ]
    },
    {
     "name": "stderr",
     "output_type": "stream",
     "text": [
      "\n",
      "2023-08-09 14:29:40,160 - pyscenic.transform - WARNING - Less than 80% of the genes in ARG2 could be mapped to hg38__refseq-r80__500bp_up_and_100bp_down_tss.mc9nr.genes_vs_motifs.rankings. Skipping this module.\n",
      "\n",
      "2023-08-09 14:29:40,254 - pyscenic.transform - WARNING - Less than 80% of the genes in ARID5B could be mapped to hg38__refseq-r80__500bp_up_and_100bp_down_tss.mc9nr.genes_vs_motifs.rankings. Skipping this module.\n"
     ]
    },
    {
     "name": "stdout",
     "output_type": "stream",
     "text": [
      "[####                                    ] | 10% Completed | 201.49 s"
     ]
    },
    {
     "name": "stderr",
     "output_type": "stream",
     "text": [
      "\n",
      "2023-08-09 14:29:41,419 - pyscenic.transform - WARNING - Less than 80% of the genes in ATF3 could be mapped to hg38__refseq-r80__500bp_up_and_100bp_down_tss.mc9nr.genes_vs_motifs.rankings. Skipping this module.\n"
     ]
    },
    {
     "name": "stdout",
     "output_type": "stream",
     "text": [
      "[####                                    ] | 10% Completed | 210.23 s"
     ]
    },
    {
     "name": "stderr",
     "output_type": "stream",
     "text": [
      "\n",
      "2023-08-09 14:29:50,206 - pyscenic.transform - WARNING - Less than 80% of the genes in CEBPG could be mapped to hg38__refseq-r80__500bp_up_and_100bp_down_tss.mc9nr.genes_vs_motifs.rankings. Skipping this module.\n"
     ]
    },
    {
     "name": "stdout",
     "output_type": "stream",
     "text": [
      "[####                                    ] | 10% Completed | 210.43 s"
     ]
    },
    {
     "name": "stderr",
     "output_type": "stream",
     "text": [
      "\n",
      "2023-08-09 14:29:50,432 - pyscenic.transform - WARNING - Less than 80% of the genes in CREB5 could be mapped to hg38__refseq-r80__500bp_up_and_100bp_down_tss.mc9nr.genes_vs_motifs.rankings. Skipping this module.\n"
     ]
    },
    {
     "name": "stdout",
     "output_type": "stream",
     "text": [
      "[####                                    ] | 10% Completed | 212.78 s"
     ]
    },
    {
     "name": "stderr",
     "output_type": "stream",
     "text": [
      "\n",
      "2023-08-09 14:29:52,767 - pyscenic.transform - WARNING - Less than 80% of the genes in DLX5 could be mapped to hg38__refseq-r80__500bp_up_and_100bp_down_tss.mc9nr.genes_vs_motifs.rankings. Skipping this module.\n"
     ]
    },
    {
     "name": "stdout",
     "output_type": "stream",
     "text": [
      "[####                                    ] | 10% Completed | 217.12 s"
     ]
    },
    {
     "name": "stderr",
     "output_type": "stream",
     "text": [
      "\n",
      "2023-08-09 14:29:57,015 - pyscenic.transform - WARNING - Less than 80% of the genes in E2F5 could be mapped to hg38__refseq-r80__500bp_up_and_100bp_down_tss.mc9nr.genes_vs_motifs.rankings. Skipping this module.\n"
     ]
    },
    {
     "name": "stdout",
     "output_type": "stream",
     "text": [
      "[####                                    ] | 10% Completed | 219.14 s"
     ]
    },
    {
     "name": "stderr",
     "output_type": "stream",
     "text": [
      "\n",
      "2023-08-09 14:29:59,024 - pyscenic.transform - WARNING - Less than 80% of the genes in EBF2 could be mapped to hg38__refseq-r80__500bp_up_and_100bp_down_tss.mc9nr.genes_vs_motifs.rankings. Skipping this module.\n"
     ]
    },
    {
     "name": "stdout",
     "output_type": "stream",
     "text": [
      "[####                                    ] | 10% Completed | 220.10 s"
     ]
    },
    {
     "name": "stderr",
     "output_type": "stream",
     "text": [
      "\n",
      "2023-08-09 14:29:59,995 - pyscenic.transform - WARNING - Less than 80% of the genes in EGR1 could be mapped to hg38__refseq-r80__500bp_up_and_100bp_down_tss.mc9nr.genes_vs_motifs.rankings. Skipping this module.\n"
     ]
    },
    {
     "name": "stdout",
     "output_type": "stream",
     "text": [
      "[####                                    ] | 10% Completed | 220.41 s"
     ]
    },
    {
     "name": "stderr",
     "output_type": "stream",
     "text": [
      "\n",
      "2023-08-09 14:30:00,373 - pyscenic.transform - WARNING - Less than 80% of the genes in EGR4 could be mapped to hg38__refseq-r80__500bp_up_and_100bp_down_tss.mc9nr.genes_vs_motifs.rankings. Skipping this module.\n"
     ]
    },
    {
     "name": "stdout",
     "output_type": "stream",
     "text": [
      "[####                                    ] | 10% Completed | 222.95 s"
     ]
    },
    {
     "name": "stderr",
     "output_type": "stream",
     "text": [
      "\n",
      "2023-08-09 14:30:02,916 - pyscenic.transform - WARNING - Less than 80% of the genes in FGF19 could be mapped to hg38__refseq-r80__500bp_up_and_100bp_down_tss.mc9nr.genes_vs_motifs.rankings. Skipping this module.\n"
     ]
    },
    {
     "name": "stdout",
     "output_type": "stream",
     "text": [
      "[####                                    ] | 10% Completed | 224.12 s"
     ]
    },
    {
     "name": "stderr",
     "output_type": "stream",
     "text": [
      "\n",
      "2023-08-09 14:30:04,052 - pyscenic.transform - WARNING - Less than 80% of the genes in FOSB could be mapped to hg38__refseq-r80__500bp_up_and_100bp_down_tss.mc9nr.genes_vs_motifs.rankings. Skipping this module.\n",
      "\n",
      "2023-08-09 14:30:04,219 - pyscenic.transform - WARNING - Less than 80% of the genes in FOSL1 could be mapped to hg38__refseq-r80__500bp_up_and_100bp_down_tss.mc9nr.genes_vs_motifs.rankings. Skipping this module.\n"
     ]
    },
    {
     "name": "stdout",
     "output_type": "stream",
     "text": [
      "[####                                    ] | 10% Completed | 224.44 s"
     ]
    },
    {
     "name": "stderr",
     "output_type": "stream",
     "text": [
      "\n",
      "2023-08-09 14:30:04,413 - pyscenic.transform - WARNING - Less than 80% of the genes in FOXC1 could be mapped to hg38__refseq-r80__500bp_up_and_100bp_down_tss.mc9nr.genes_vs_motifs.rankings. Skipping this module.\n"
     ]
    },
    {
     "name": "stdout",
     "output_type": "stream",
     "text": [
      "[####                                    ] | 10% Completed | 225.28 s"
     ]
    },
    {
     "name": "stderr",
     "output_type": "stream",
     "text": [
      "\n",
      "2023-08-09 14:30:05,219 - pyscenic.transform - WARNING - Less than 80% of the genes in GATA2 could be mapped to hg38__refseq-r80__500bp_up_and_100bp_down_tss.mc9nr.genes_vs_motifs.rankings. Skipping this module.\n"
     ]
    },
    {
     "name": "stdout",
     "output_type": "stream",
     "text": [
      "[####                                    ] | 10% Completed | 226.13 s"
     ]
    },
    {
     "name": "stderr",
     "output_type": "stream",
     "text": [
      "\n",
      "2023-08-09 14:30:06,032 - pyscenic.transform - WARNING - Less than 80% of the genes in GFI1B could be mapped to hg38__refseq-r80__500bp_up_and_100bp_down_tss.mc9nr.genes_vs_motifs.rankings. Skipping this module.\n"
     ]
    },
    {
     "name": "stdout",
     "output_type": "stream",
     "text": [
      "[####                                    ] | 10% Completed | 226.44 s"
     ]
    },
    {
     "name": "stderr",
     "output_type": "stream",
     "text": [
      "\n",
      "2023-08-09 14:30:06,374 - pyscenic.transform - WARNING - Less than 80% of the genes in GRHL1 could be mapped to hg38__refseq-r80__500bp_up_and_100bp_down_tss.mc9nr.genes_vs_motifs.rankings. Skipping this module.\n"
     ]
    },
    {
     "name": "stdout",
     "output_type": "stream",
     "text": [
      "[####                                    ] | 10% Completed | 228.04 s"
     ]
    },
    {
     "name": "stderr",
     "output_type": "stream",
     "text": [
      "\n",
      "2023-08-09 14:30:08,014 - pyscenic.transform - WARNING - Less than 80% of the genes in GTF2A1 could be mapped to hg38__refseq-r80__500bp_up_and_100bp_down_tss.mc9nr.genes_vs_motifs.rankings. Skipping this module.\n"
     ]
    },
    {
     "name": "stdout",
     "output_type": "stream",
     "text": [
      "[####                                    ] | 10% Completed | 228.99 s"
     ]
    },
    {
     "name": "stderr",
     "output_type": "stream",
     "text": [
      "\n",
      "2023-08-09 14:30:08,914 - pyscenic.transform - WARNING - Less than 80% of the genes in HCLS1 could be mapped to hg38__refseq-r80__500bp_up_and_100bp_down_tss.mc9nr.genes_vs_motifs.rankings. Skipping this module.\n"
     ]
    },
    {
     "name": "stdout",
     "output_type": "stream",
     "text": [
      "[####                                    ] | 10% Completed | 231.75 s"
     ]
    },
    {
     "name": "stderr",
     "output_type": "stream",
     "text": [
      "\n",
      "2023-08-09 14:30:11,652 - pyscenic.transform - WARNING - Less than 80% of the genes in HEY2 could be mapped to hg38__refseq-r80__500bp_up_and_100bp_down_tss.mc9nr.genes_vs_motifs.rankings. Skipping this module.\n"
     ]
    },
    {
     "name": "stdout",
     "output_type": "stream",
     "text": [
      "[####                                    ] | 10% Completed | 233.03 s"
     ]
    },
    {
     "name": "stderr",
     "output_type": "stream",
     "text": [
      "\n",
      "2023-08-09 14:30:12,940 - pyscenic.transform - WARNING - Less than 80% of the genes in HNRNPH3 could be mapped to hg38__refseq-r80__500bp_up_and_100bp_down_tss.mc9nr.genes_vs_motifs.rankings. Skipping this module.\n"
     ]
    },
    {
     "name": "stdout",
     "output_type": "stream",
     "text": [
      "[####                                    ] | 10% Completed | 234.10 s"
     ]
    },
    {
     "name": "stderr",
     "output_type": "stream",
     "text": [
      "\n",
      "2023-08-09 14:30:14,029 - pyscenic.transform - WARNING - Less than 80% of the genes in HOXD1 could be mapped to hg38__refseq-r80__500bp_up_and_100bp_down_tss.mc9nr.genes_vs_motifs.rankings. Skipping this module.\n"
     ]
    },
    {
     "name": "stdout",
     "output_type": "stream",
     "text": [
      "[####                                    ] | 10% Completed | 234.95 s"
     ]
    },
    {
     "name": "stderr",
     "output_type": "stream",
     "text": [
      "\n",
      "2023-08-09 14:30:14,838 - pyscenic.transform - WARNING - Less than 80% of the genes in INSM1 could be mapped to hg38__refseq-r80__500bp_up_and_100bp_down_tss.mc9nr.genes_vs_motifs.rankings. Skipping this module.\n"
     ]
    },
    {
     "name": "stdout",
     "output_type": "stream",
     "text": [
      "[####                                    ] | 10% Completed | 235.16 s"
     ]
    },
    {
     "name": "stderr",
     "output_type": "stream",
     "text": [
      "\n",
      "2023-08-09 14:30:15,112 - pyscenic.transform - WARNING - Less than 80% of the genes in IRX5 could be mapped to hg38__refseq-r80__500bp_up_and_100bp_down_tss.mc9nr.genes_vs_motifs.rankings. Skipping this module.\n"
     ]
    },
    {
     "name": "stdout",
     "output_type": "stream",
     "text": [
      "[####                                    ] | 10% Completed | 235.90 s"
     ]
    },
    {
     "name": "stderr",
     "output_type": "stream",
     "text": [
      "\n",
      "2023-08-09 14:30:15,803 - pyscenic.transform - WARNING - Less than 80% of the genes in KLF2 could be mapped to hg38__refseq-r80__500bp_up_and_100bp_down_tss.mc9nr.genes_vs_motifs.rankings. Skipping this module.\n"
     ]
    },
    {
     "name": "stdout",
     "output_type": "stream",
     "text": [
      "[####                                    ] | 10% Completed | 237.94 s"
     ]
    },
    {
     "name": "stderr",
     "output_type": "stream",
     "text": [
      "\n",
      "2023-08-09 14:30:17,844 - pyscenic.transform - WARNING - Less than 80% of the genes in KLF6 could be mapped to hg38__refseq-r80__500bp_up_and_100bp_down_tss.mc9nr.genes_vs_motifs.rankings. Skipping this module.\n",
      "\n",
      "2023-08-09 14:30:17,963 - pyscenic.transform - WARNING - Less than 80% of the genes in LHX1 could be mapped to hg38__refseq-r80__500bp_up_and_100bp_down_tss.mc9nr.genes_vs_motifs.rankings. Skipping this module.\n"
     ]
    },
    {
     "name": "stdout",
     "output_type": "stream",
     "text": [
      "[####                                    ] | 10% Completed | 238.49 s"
     ]
    },
    {
     "name": "stderr",
     "output_type": "stream",
     "text": [
      "\n",
      "2023-08-09 14:30:18,473 - pyscenic.transform - WARNING - Less than 80% of the genes in MEOX2 could be mapped to hg38__refseq-r80__500bp_up_and_100bp_down_tss.mc9nr.genes_vs_motifs.rankings. Skipping this module.\n",
      "\n",
      "2023-08-09 14:30:18,573 - pyscenic.transform - WARNING - Less than 80% of the genes in MESP1 could be mapped to hg38__refseq-r80__500bp_up_and_100bp_down_tss.mc9nr.genes_vs_motifs.rankings. Skipping this module.\n"
     ]
    },
    {
     "name": "stdout",
     "output_type": "stream",
     "text": [
      "[####                                    ] | 10% Completed | 238.91 s"
     ]
    },
    {
     "name": "stderr",
     "output_type": "stream",
     "text": [
      "\n",
      "2023-08-09 14:30:18,883 - pyscenic.transform - WARNING - Less than 80% of the genes in MYBL1 could be mapped to hg38__refseq-r80__500bp_up_and_100bp_down_tss.mc9nr.genes_vs_motifs.rankings. Skipping this module.\n"
     ]
    },
    {
     "name": "stdout",
     "output_type": "stream",
     "text": [
      "[####                                    ] | 10% Completed | 239.23 s"
     ]
    },
    {
     "name": "stderr",
     "output_type": "stream",
     "text": [
      "\n",
      "2023-08-09 14:30:19,121 - pyscenic.transform - WARNING - Less than 80% of the genes in MYC could be mapped to hg38__refseq-r80__500bp_up_and_100bp_down_tss.mc9nr.genes_vs_motifs.rankings. Skipping this module.\n",
      "\n",
      "2023-08-09 14:30:19,209 - pyscenic.transform - WARNING - Less than 80% of the genes in MYCL could be mapped to hg38__refseq-r80__500bp_up_and_100bp_down_tss.mc9nr.genes_vs_motifs.rankings. Skipping this module.\n",
      "\n",
      "2023-08-09 14:30:19,309 - pyscenic.transform - WARNING - Less than 80% of the genes in MYLK could be mapped to hg38__refseq-r80__500bp_up_and_100bp_down_tss.mc9nr.genes_vs_motifs.rankings. Skipping this module.\n"
     ]
    },
    {
     "name": "stdout",
     "output_type": "stream",
     "text": [
      "[####                                    ] | 10% Completed | 239.54 s"
     ]
    },
    {
     "name": "stderr",
     "output_type": "stream",
     "text": [
      "\n",
      "2023-08-09 14:30:19,512 - pyscenic.transform - WARNING - Less than 80% of the genes in NEUROG3 could be mapped to hg38__refseq-r80__500bp_up_and_100bp_down_tss.mc9nr.genes_vs_motifs.rankings. Skipping this module.\n"
     ]
    },
    {
     "name": "stdout",
     "output_type": "stream",
     "text": [
      "[####                                    ] | 10% Completed | 240.62 s"
     ]
    },
    {
     "name": "stderr",
     "output_type": "stream",
     "text": [
      "\n",
      "2023-08-09 14:30:20,561 - pyscenic.transform - WARNING - Less than 80% of the genes in NFIB could be mapped to hg38__refseq-r80__500bp_up_and_100bp_down_tss.mc9nr.genes_vs_motifs.rankings. Skipping this module.\n",
      "\n",
      "2023-08-09 14:30:20,671 - pyscenic.transform - WARNING - Less than 80% of the genes in NKX2-2 could be mapped to hg38__refseq-r80__500bp_up_and_100bp_down_tss.mc9nr.genes_vs_motifs.rankings. Skipping this module.\n"
     ]
    },
    {
     "name": "stdout",
     "output_type": "stream",
     "text": [
      "[####                                    ] | 10% Completed | 241.15 s"
     ]
    },
    {
     "name": "stderr",
     "output_type": "stream",
     "text": [
      "\n",
      "2023-08-09 14:30:21,139 - pyscenic.transform - WARNING - Less than 80% of the genes in NPAS4 could be mapped to hg38__refseq-r80__500bp_up_and_100bp_down_tss.mc9nr.genes_vs_motifs.rankings. Skipping this module.\n",
      "\n",
      "2023-08-09 14:30:21,321 - pyscenic.transform - WARNING - Less than 80% of the genes in NR2F2 could be mapped to hg38__refseq-r80__500bp_up_and_100bp_down_tss.mc9nr.genes_vs_motifs.rankings. Skipping this module.\n"
     ]
    },
    {
     "name": "stdout",
     "output_type": "stream",
     "text": [
      "[####                                    ] | 10% Completed | 245.43 s"
     ]
    },
    {
     "name": "stderr",
     "output_type": "stream",
     "text": [
      "\n",
      "2023-08-09 14:30:25,374 - pyscenic.transform - WARNING - Less than 80% of the genes in POU2AF1 could be mapped to hg38__refseq-r80__500bp_up_and_100bp_down_tss.mc9nr.genes_vs_motifs.rankings. Skipping this module.\n"
     ]
    },
    {
     "name": "stdout",
     "output_type": "stream",
     "text": [
      "[####                                    ] | 10% Completed | 248.12 s"
     ]
    },
    {
     "name": "stderr",
     "output_type": "stream",
     "text": [
      "\n",
      "2023-08-09 14:30:28,014 - pyscenic.transform - WARNING - Less than 80% of the genes in POU3F2 could be mapped to hg38__refseq-r80__500bp_up_and_100bp_down_tss.mc9nr.genes_vs_motifs.rankings. Skipping this module.\n"
     ]
    },
    {
     "name": "stdout",
     "output_type": "stream",
     "text": [
      "[####                                    ] | 10% Completed | 248.34 s"
     ]
    },
    {
     "name": "stderr",
     "output_type": "stream",
     "text": [
      "\n",
      "2023-08-09 14:30:28,253 - pyscenic.transform - WARNING - Less than 80% of the genes in POU4F1 could be mapped to hg38__refseq-r80__500bp_up_and_100bp_down_tss.mc9nr.genes_vs_motifs.rankings. Skipping this module.\n"
     ]
    },
    {
     "name": "stdout",
     "output_type": "stream",
     "text": [
      "[####                                    ] | 10% Completed | 255.39 s"
     ]
    },
    {
     "name": "stderr",
     "output_type": "stream",
     "text": [
      "\n",
      "2023-08-09 14:30:35,335 - pyscenic.transform - WARNING - Less than 80% of the genes in SMARCA1 could be mapped to hg38__refseq-r80__500bp_up_and_100bp_down_tss.mc9nr.genes_vs_motifs.rankings. Skipping this module.\n"
     ]
    },
    {
     "name": "stdout",
     "output_type": "stream",
     "text": [
      "[####                                    ] | 10% Completed | 258.49 s"
     ]
    },
    {
     "name": "stderr",
     "output_type": "stream",
     "text": [
      "\n",
      "2023-08-09 14:30:38,487 - pyscenic.transform - WARNING - Less than 80% of the genes in Regulon for FGF19 could be mapped to hg38__refseq-r80__10kb_up_and_down_tss.mc9nr.genes_vs_motifs.rankings. Skipping this module.\n"
     ]
    },
    {
     "name": "stdout",
     "output_type": "stream",
     "text": [
      "[####                                    ] | 10% Completed | 258.82 s"
     ]
    },
    {
     "name": "stderr",
     "output_type": "stream",
     "text": [
      "\n",
      "2023-08-09 14:30:38,717 - pyscenic.transform - WARNING - Less than 80% of the genes in TAL2 could be mapped to hg38__refseq-r80__500bp_up_and_100bp_down_tss.mc9nr.genes_vs_motifs.rankings. Skipping this module.\n"
     ]
    },
    {
     "name": "stdout",
     "output_type": "stream",
     "text": [
      "[####                                    ] | 10% Completed | 259.15 s"
     ]
    },
    {
     "name": "stderr",
     "output_type": "stream",
     "text": [
      "\n",
      "2023-08-09 14:30:39,089 - pyscenic.transform - WARNING - Less than 80% of the genes in TGIF1 could be mapped to hg38__refseq-r80__500bp_up_and_100bp_down_tss.mc9nr.genes_vs_motifs.rankings. Skipping this module.\n",
      "\n",
      "2023-08-09 14:30:39,250 - pyscenic.transform - WARNING - Less than 80% of the genes in TIMM44 could be mapped to hg38__refseq-r80__500bp_up_and_100bp_down_tss.mc9nr.genes_vs_motifs.rankings. Skipping this module.\n"
     ]
    },
    {
     "name": "stdout",
     "output_type": "stream",
     "text": [
      "[####                                    ] | 10% Completed | 259.47 s"
     ]
    },
    {
     "name": "stderr",
     "output_type": "stream",
     "text": [
      "\n",
      "2023-08-09 14:30:39,444 - pyscenic.transform - WARNING - Less than 80% of the genes in TIMM8A could be mapped to hg38__refseq-r80__500bp_up_and_100bp_down_tss.mc9nr.genes_vs_motifs.rankings. Skipping this module.\n"
     ]
    },
    {
     "name": "stdout",
     "output_type": "stream",
     "text": [
      "[####                                    ] | 10% Completed | 259.68 s"
     ]
    },
    {
     "name": "stderr",
     "output_type": "stream",
     "text": [
      "\n",
      "2023-08-09 14:30:39,657 - pyscenic.transform - WARNING - Less than 80% of the genes in TLX3 could be mapped to hg38__refseq-r80__500bp_up_and_100bp_down_tss.mc9nr.genes_vs_motifs.rankings. Skipping this module.\n",
      "\n",
      "2023-08-09 14:30:39,856 - pyscenic.transform - WARNING - Less than 80% of the genes in TRIB1 could be mapped to hg38__refseq-r80__500bp_up_and_100bp_down_tss.mc9nr.genes_vs_motifs.rankings. Skipping this module.\n"
     ]
    },
    {
     "name": "stdout",
     "output_type": "stream",
     "text": [
      "[####                                    ] | 10% Completed | 260.31 s"
     ]
    },
    {
     "name": "stderr",
     "output_type": "stream",
     "text": [
      "\n",
      "2023-08-09 14:30:40,226 - pyscenic.transform - WARNING - Less than 80% of the genes in TWIST1 could be mapped to hg38__refseq-r80__500bp_up_and_100bp_down_tss.mc9nr.genes_vs_motifs.rankings. Skipping this module.\n"
     ]
    },
    {
     "name": "stdout",
     "output_type": "stream",
     "text": [
      "[####                                    ] | 10% Completed | 261.59 s"
     ]
    },
    {
     "name": "stderr",
     "output_type": "stream",
     "text": [
      "\n",
      "2023-08-09 14:30:41,542 - pyscenic.transform - WARNING - Less than 80% of the genes in ZNF322 could be mapped to hg38__refseq-r80__500bp_up_and_100bp_down_tss.mc9nr.genes_vs_motifs.rankings. Skipping this module.\n"
     ]
    },
    {
     "name": "stdout",
     "output_type": "stream",
     "text": [
      "[####                                    ] | 10% Completed | 262.34 s"
     ]
    },
    {
     "name": "stderr",
     "output_type": "stream",
     "text": [
      "\n",
      "2023-08-09 14:30:42,236 - pyscenic.transform - WARNING - Less than 80% of the genes in ZNF844 could be mapped to hg38__refseq-r80__500bp_up_and_100bp_down_tss.mc9nr.genes_vs_motifs.rankings. Skipping this module.\n"
     ]
    },
    {
     "name": "stdout",
     "output_type": "stream",
     "text": [
      "\r",
      "[####                                    ] | 10% Completed | 262.45 s"
     ]
    },
    {
     "name": "stderr",
     "output_type": "stream",
     "text": [
      "\n",
      "2023-08-09 14:30:42,442 - pyscenic.transform - WARNING - Less than 80% of the genes in ZSCAN31 could be mapped to hg38__refseq-r80__500bp_up_and_100bp_down_tss.mc9nr.genes_vs_motifs.rankings. Skipping this module.\n"
     ]
    },
    {
     "name": "stdout",
     "output_type": "stream",
     "text": [
      "[####                                    ] | 10% Completed | 294.11 s"
     ]
    },
    {
     "name": "stderr",
     "output_type": "stream",
     "text": [
      "\n",
      "2023-08-09 14:31:14,033 - pyscenic.transform - WARNING - Less than 80% of the genes in EGR2 could be mapped to hg38__refseq-r80__500bp_up_and_100bp_down_tss.mc9nr.genes_vs_motifs.rankings. Skipping this module.\n"
     ]
    },
    {
     "name": "stdout",
     "output_type": "stream",
     "text": [
      "[################                        ] | 40% Completed | 307.62 s"
     ]
    },
    {
     "name": "stderr",
     "output_type": "stream",
     "text": [
      "\n",
      "2023-08-09 14:31:27,599 - pyscenic.transform - WARNING - Less than 80% of the genes in Regulon for OLIG3 could be mapped to hg38__refseq-r80__10kb_up_and_down_tss.mc9nr.genes_vs_motifs.rankings. Skipping this module.\n"
     ]
    },
    {
     "name": "stdout",
     "output_type": "stream",
     "text": [
      "[################                        ] | 40% Completed | 332.94 s"
     ]
    },
    {
     "name": "stderr",
     "output_type": "stream",
     "text": [
      "\n",
      "2023-08-09 14:31:52,861 - pyscenic.transform - WARNING - Less than 80% of the genes in ATF3 could be mapped to hg38__refseq-r80__10kb_up_and_down_tss.mc9nr.genes_vs_motifs.rankings. Skipping this module.\n"
     ]
    },
    {
     "name": "stdout",
     "output_type": "stream",
     "text": [
      "[################                        ] | 40% Completed | 341.06 s"
     ]
    },
    {
     "name": "stderr",
     "output_type": "stream",
     "text": [
      "\n",
      "2023-08-09 14:32:00,982 - pyscenic.transform - WARNING - Less than 80% of the genes in CEBPG could be mapped to hg38__refseq-r80__10kb_up_and_down_tss.mc9nr.genes_vs_motifs.rankings. Skipping this module.\n",
      "\n",
      "2023-08-09 14:32:01,157 - pyscenic.transform - WARNING - Less than 80% of the genes in CREB5 could be mapped to hg38__refseq-r80__10kb_up_and_down_tss.mc9nr.genes_vs_motifs.rankings. Skipping this module.\n"
     ]
    },
    {
     "name": "stdout",
     "output_type": "stream",
     "text": [
      "[################                        ] | 40% Completed | 343.43 s"
     ]
    },
    {
     "name": "stderr",
     "output_type": "stream",
     "text": [
      "\n",
      "2023-08-09 14:32:03,374 - pyscenic.transform - WARNING - Less than 80% of the genes in DLX5 could be mapped to hg38__refseq-r80__10kb_up_and_down_tss.mc9nr.genes_vs_motifs.rankings. Skipping this module.\n"
     ]
    },
    {
     "name": "stdout",
     "output_type": "stream",
     "text": [
      "[############################            ] | 70% Completed | 347.55 s"
     ]
    },
    {
     "name": "stderr",
     "output_type": "stream",
     "text": [
      "\n",
      "2023-08-09 14:32:07,440 - pyscenic.transform - WARNING - Less than 80% of the genes in E2F5 could be mapped to hg38__refseq-r80__10kb_up_and_down_tss.mc9nr.genes_vs_motifs.rankings. Skipping this module.\n"
     ]
    },
    {
     "name": "stdout",
     "output_type": "stream",
     "text": [
      "[############################            ] | 70% Completed | 348.62 s"
     ]
    },
    {
     "name": "stderr",
     "output_type": "stream",
     "text": [
      "\n",
      "2023-08-09 14:32:08,594 - pyscenic.transform - WARNING - Less than 80% of the genes in EGR1 could be mapped to hg38__refseq-r80__10kb_up_and_down_tss.mc9nr.genes_vs_motifs.rankings. Skipping this module.\n"
     ]
    },
    {
     "name": "stdout",
     "output_type": "stream",
     "text": [
      "[############################            ] | 70% Completed | 349.68 s"
     ]
    },
    {
     "name": "stderr",
     "output_type": "stream",
     "text": [
      "\n",
      "2023-08-09 14:32:09,610 - pyscenic.transform - WARNING - Less than 80% of the genes in EGR3 could be mapped to hg38__refseq-r80__10kb_up_and_down_tss.mc9nr.genes_vs_motifs.rankings. Skipping this module.\n"
     ]
    },
    {
     "name": "stdout",
     "output_type": "stream",
     "text": [
      "[############################            ] | 70% Completed | 350.77 s"
     ]
    },
    {
     "name": "stderr",
     "output_type": "stream",
     "text": [
      "\n",
      "2023-08-09 14:32:10,658 - pyscenic.transform - WARNING - Less than 80% of the genes in EGR4 could be mapped to hg38__refseq-r80__10kb_up_and_down_tss.mc9nr.genes_vs_motifs.rankings. Skipping this module.\n"
     ]
    },
    {
     "name": "stdout",
     "output_type": "stream",
     "text": [
      "[############################            ] | 70% Completed | 351.52 s"
     ]
    },
    {
     "name": "stderr",
     "output_type": "stream",
     "text": [
      "\n",
      "2023-08-09 14:32:11,509 - pyscenic.transform - WARNING - Less than 80% of the genes in EHF could be mapped to hg38__refseq-r80__10kb_up_and_down_tss.mc9nr.genes_vs_motifs.rankings. Skipping this module.\n"
     ]
    },
    {
     "name": "stdout",
     "output_type": "stream",
     "text": [
      "[############################            ] | 70% Completed | 356.63 s"
     ]
    },
    {
     "name": "stderr",
     "output_type": "stream",
     "text": [
      "\n",
      "2023-08-09 14:32:16,547 - pyscenic.transform - WARNING - Less than 80% of the genes in FGF19 could be mapped to hg38__refseq-r80__10kb_up_and_down_tss.mc9nr.genes_vs_motifs.rankings. Skipping this module.\n"
     ]
    },
    {
     "name": "stdout",
     "output_type": "stream",
     "text": [
      "[############################            ] | 70% Completed | 359.27 s"
     ]
    },
    {
     "name": "stderr",
     "output_type": "stream",
     "text": [
      "\n",
      "2023-08-09 14:32:19,187 - pyscenic.transform - WARNING - Less than 80% of the genes in FOSB could be mapped to hg38__refseq-r80__10kb_up_and_down_tss.mc9nr.genes_vs_motifs.rankings. Skipping this module.\n"
     ]
    },
    {
     "name": "stdout",
     "output_type": "stream",
     "text": [
      "[############################            ] | 70% Completed | 360.14 s"
     ]
    },
    {
     "name": "stderr",
     "output_type": "stream",
     "text": [
      "\n",
      "2023-08-09 14:32:20,126 - pyscenic.transform - WARNING - Less than 80% of the genes in FOXC1 could be mapped to hg38__refseq-r80__10kb_up_and_down_tss.mc9nr.genes_vs_motifs.rankings. Skipping this module.\n"
     ]
    },
    {
     "name": "stdout",
     "output_type": "stream",
     "text": [
      "[############################            ] | 70% Completed | 362.22 s"
     ]
    },
    {
     "name": "stderr",
     "output_type": "stream",
     "text": [
      "\n",
      "2023-08-09 14:32:22,184 - pyscenic.transform - WARNING - Less than 80% of the genes in GTF2A1 could be mapped to hg38__refseq-r80__10kb_up_and_down_tss.mc9nr.genes_vs_motifs.rankings. Skipping this module.\n"
     ]
    },
    {
     "name": "stdout",
     "output_type": "stream",
     "text": [
      "[############################            ] | 70% Completed | 364.00 s"
     ]
    },
    {
     "name": "stderr",
     "output_type": "stream",
     "text": [
      "\n",
      "2023-08-09 14:32:23,886 - pyscenic.transform - WARNING - Less than 80% of the genes in HCLS1 could be mapped to hg38__refseq-r80__10kb_up_and_down_tss.mc9nr.genes_vs_motifs.rankings. Skipping this module.\n"
     ]
    },
    {
     "name": "stdout",
     "output_type": "stream",
     "text": [
      "[############################            ] | 70% Completed | 364.97 s"
     ]
    },
    {
     "name": "stderr",
     "output_type": "stream",
     "text": [
      "\n",
      "2023-08-09 14:32:24,876 - pyscenic.transform - WARNING - Less than 80% of the genes in HES1 could be mapped to hg38__refseq-r80__10kb_up_and_down_tss.mc9nr.genes_vs_motifs.rankings. Skipping this module.\n"
     ]
    },
    {
     "name": "stdout",
     "output_type": "stream",
     "text": [
      "[############################            ] | 70% Completed | 370.83 s"
     ]
    },
    {
     "name": "stderr",
     "output_type": "stream",
     "text": [
      "\n",
      "2023-08-09 14:32:30,778 - pyscenic.transform - WARNING - Less than 80% of the genes in HOXB2 could be mapped to hg38__refseq-r80__10kb_up_and_down_tss.mc9nr.genes_vs_motifs.rankings. Skipping this module.\n"
     ]
    },
    {
     "name": "stdout",
     "output_type": "stream",
     "text": [
      "[############################            ] | 70% Completed | 372.01 s"
     ]
    },
    {
     "name": "stderr",
     "output_type": "stream",
     "text": [
      "\n",
      "2023-08-09 14:32:31,961 - pyscenic.transform - WARNING - Less than 80% of the genes in HOXD1 could be mapped to hg38__refseq-r80__10kb_up_and_down_tss.mc9nr.genes_vs_motifs.rankings. Skipping this module.\n"
     ]
    },
    {
     "name": "stdout",
     "output_type": "stream",
     "text": [
      "[############################            ] | 70% Completed | 372.86 s"
     ]
    },
    {
     "name": "stderr",
     "output_type": "stream",
     "text": [
      "\n",
      "2023-08-09 14:32:32,791 - pyscenic.transform - WARNING - Less than 80% of the genes in ID4 could be mapped to hg38__refseq-r80__10kb_up_and_down_tss.mc9nr.genes_vs_motifs.rankings. Skipping this module.\n"
     ]
    },
    {
     "name": "stdout",
     "output_type": "stream",
     "text": [
      "[############################            ] | 70% Completed | 376.68 s"
     ]
    },
    {
     "name": "stderr",
     "output_type": "stream",
     "text": [
      "\n",
      "2023-08-09 14:32:36,623 - pyscenic.transform - WARNING - Less than 80% of the genes in KIF22 could be mapped to hg38__refseq-r80__10kb_up_and_down_tss.mc9nr.genes_vs_motifs.rankings. Skipping this module.\n"
     ]
    },
    {
     "name": "stdout",
     "output_type": "stream",
     "text": [
      "[############################            ] | 70% Completed | 377.57 s"
     ]
    },
    {
     "name": "stderr",
     "output_type": "stream",
     "text": [
      "\n",
      "2023-08-09 14:32:37,553 - pyscenic.transform - WARNING - Less than 80% of the genes in KLF2 could be mapped to hg38__refseq-r80__10kb_up_and_down_tss.mc9nr.genes_vs_motifs.rankings. Skipping this module.\n"
     ]
    },
    {
     "name": "stdout",
     "output_type": "stream",
     "text": [
      "[############################            ] | 70% Completed | 377.89 s"
     ]
    },
    {
     "name": "stderr",
     "output_type": "stream",
     "text": [
      "\n",
      "2023-08-09 14:32:37,794 - pyscenic.transform - WARNING - Less than 80% of the genes in KLF3 could be mapped to hg38__refseq-r80__10kb_up_and_down_tss.mc9nr.genes_vs_motifs.rankings. Skipping this module.\n"
     ]
    },
    {
     "name": "stdout",
     "output_type": "stream",
     "text": [
      "[############################            ] | 70% Completed | 379.93 s"
     ]
    },
    {
     "name": "stderr",
     "output_type": "stream",
     "text": [
      "\n",
      "2023-08-09 14:32:39,833 - pyscenic.transform - WARNING - Less than 80% of the genes in KLF6 could be mapped to hg38__refseq-r80__10kb_up_and_down_tss.mc9nr.genes_vs_motifs.rankings. Skipping this module.\n",
      "\n",
      "2023-08-09 14:32:40,028 - pyscenic.transform - WARNING - Less than 80% of the genes in LHX1 could be mapped to hg38__refseq-r80__10kb_up_and_down_tss.mc9nr.genes_vs_motifs.rankings. Skipping this module.\n"
     ]
    },
    {
     "name": "stdout",
     "output_type": "stream",
     "text": [
      "[############################            ] | 70% Completed | 381.21 s"
     ]
    },
    {
     "name": "stderr",
     "output_type": "stream",
     "text": [
      "\n",
      "2023-08-09 14:32:41,163 - pyscenic.transform - WARNING - Less than 80% of the genes in MAFF could be mapped to hg38__refseq-r80__10kb_up_and_down_tss.mc9nr.genes_vs_motifs.rankings. Skipping this module.\n"
     ]
    },
    {
     "name": "stdout",
     "output_type": "stream",
     "text": [
      "[############################            ] | 70% Completed | 382.40 s"
     ]
    },
    {
     "name": "stderr",
     "output_type": "stream",
     "text": [
      "\n",
      "2023-08-09 14:32:42,338 - pyscenic.transform - WARNING - Less than 80% of the genes in MEOX2 could be mapped to hg38__refseq-r80__10kb_up_and_down_tss.mc9nr.genes_vs_motifs.rankings. Skipping this module.\n",
      "\n",
      "2023-08-09 14:32:42,525 - pyscenic.transform - WARNING - Less than 80% of the genes in MESP1 could be mapped to hg38__refseq-r80__10kb_up_and_down_tss.mc9nr.genes_vs_motifs.rankings. Skipping this module.\n"
     ]
    },
    {
     "name": "stdout",
     "output_type": "stream",
     "text": [
      "[############################            ] | 70% Completed | 383.14 s"
     ]
    },
    {
     "name": "stderr",
     "output_type": "stream",
     "text": [
      "\n",
      "2023-08-09 14:32:43,134 - pyscenic.transform - WARNING - Less than 80% of the genes in NKX2-2 could be mapped to hg38__refseq-r80__10kb_up_and_down_tss.mc9nr.genes_vs_motifs.rankings. Skipping this module.\n"
     ]
    },
    {
     "name": "stdout",
     "output_type": "stream",
     "text": [
      "[############################            ] | 70% Completed | 383.36 s"
     ]
    },
    {
     "name": "stderr",
     "output_type": "stream",
     "text": [
      "\n",
      "2023-08-09 14:32:43,340 - pyscenic.transform - WARNING - Less than 80% of the genes in NKX2-5 could be mapped to hg38__refseq-r80__10kb_up_and_down_tss.mc9nr.genes_vs_motifs.rankings. Skipping this module.\n"
     ]
    },
    {
     "name": "stdout",
     "output_type": "stream",
     "text": [
      "[############################            ] | 70% Completed | 383.89 s"
     ]
    },
    {
     "name": "stderr",
     "output_type": "stream",
     "text": [
      "\n",
      "2023-08-09 14:32:43,850 - pyscenic.transform - WARNING - Less than 80% of the genes in NPAS4 could be mapped to hg38__refseq-r80__10kb_up_and_down_tss.mc9nr.genes_vs_motifs.rankings. Skipping this module.\n"
     ]
    },
    {
     "name": "stdout",
     "output_type": "stream",
     "text": [
      "[############################            ] | 70% Completed | 386.23 s"
     ]
    },
    {
     "name": "stderr",
     "output_type": "stream",
     "text": [
      "\n",
      "2023-08-09 14:32:46,143 - pyscenic.transform - WARNING - Less than 80% of the genes in POU3F2 could be mapped to hg38__refseq-r80__10kb_up_and_down_tss.mc9nr.genes_vs_motifs.rankings. Skipping this module.\n"
     ]
    },
    {
     "name": "stdout",
     "output_type": "stream",
     "text": [
      "[############################            ] | 70% Completed | 386.45 s"
     ]
    },
    {
     "name": "stderr",
     "output_type": "stream",
     "text": [
      "\n",
      "2023-08-09 14:32:46,346 - pyscenic.transform - WARNING - Less than 80% of the genes in POU4F1 could be mapped to hg38__refseq-r80__10kb_up_and_down_tss.mc9nr.genes_vs_motifs.rankings. Skipping this module.\n"
     ]
    },
    {
     "name": "stdout",
     "output_type": "stream",
     "text": [
      "[############################            ] | 70% Completed | 394.80 s"
     ]
    },
    {
     "name": "stderr",
     "output_type": "stream",
     "text": [
      "\n",
      "2023-08-09 14:32:54,690 - pyscenic.transform - WARNING - Less than 80% of the genes in SIX1 could be mapped to hg38__refseq-r80__10kb_up_and_down_tss.mc9nr.genes_vs_motifs.rankings. Skipping this module.\n"
     ]
    },
    {
     "name": "stdout",
     "output_type": "stream",
     "text": [
      "[############################            ] | 70% Completed | 398.45 s"
     ]
    },
    {
     "name": "stderr",
     "output_type": "stream",
     "text": [
      "\n",
      "2023-08-09 14:32:58,426 - pyscenic.transform - WARNING - Less than 80% of the genes in TAL2 could be mapped to hg38__refseq-r80__10kb_up_and_down_tss.mc9nr.genes_vs_motifs.rankings. Skipping this module.\n"
     ]
    },
    {
     "name": "stdout",
     "output_type": "stream",
     "text": [
      "[############################            ] | 70% Completed | 399.31 s"
     ]
    },
    {
     "name": "stderr",
     "output_type": "stream",
     "text": [
      "\n",
      "2023-08-09 14:32:59,279 - pyscenic.transform - WARNING - Less than 80% of the genes in TGIF1 could be mapped to hg38__refseq-r80__10kb_up_and_down_tss.mc9nr.genes_vs_motifs.rankings. Skipping this module.\n",
      "\n",
      "2023-08-09 14:32:59,468 - pyscenic.transform - WARNING - Less than 80% of the genes in TIMM8A could be mapped to hg38__refseq-r80__10kb_up_and_down_tss.mc9nr.genes_vs_motifs.rankings. Skipping this module.\n"
     ]
    },
    {
     "name": "stdout",
     "output_type": "stream",
     "text": [
      "[############################            ] | 70% Completed | 401.23 s"
     ]
    },
    {
     "name": "stderr",
     "output_type": "stream",
     "text": [
      "\n",
      "2023-08-09 14:33:01,116 - pyscenic.transform - WARNING - Less than 80% of the genes in TRIB1 could be mapped to hg38__refseq-r80__10kb_up_and_down_tss.mc9nr.genes_vs_motifs.rankings. Skipping this module.\n"
     ]
    },
    {
     "name": "stdout",
     "output_type": "stream",
     "text": [
      "[############################            ] | 70% Completed | 403.36 s"
     ]
    },
    {
     "name": "stderr",
     "output_type": "stream",
     "text": [
      "\n",
      "2023-08-09 14:33:03,337 - pyscenic.transform - WARNING - Less than 80% of the genes in ZNF165 could be mapped to hg38__refseq-r80__10kb_up_and_down_tss.mc9nr.genes_vs_motifs.rankings. Skipping this module.\n",
      "\n",
      "2023-08-09 14:33:03,504 - pyscenic.transform - WARNING - Less than 80% of the genes in ZNF367 could be mapped to hg38__refseq-r80__10kb_up_and_down_tss.mc9nr.genes_vs_motifs.rankings. Skipping this module.\n"
     ]
    },
    {
     "name": "stdout",
     "output_type": "stream",
     "text": [
      "[############################            ] | 70% Completed | 404.55 s"
     ]
    },
    {
     "name": "stderr",
     "output_type": "stream",
     "text": [
      "\n",
      "2023-08-09 14:33:04,531 - pyscenic.transform - WARNING - Less than 80% of the genes in ZSCAN31 could be mapped to hg38__refseq-r80__10kb_up_and_down_tss.mc9nr.genes_vs_motifs.rankings. Skipping this module.\n"
     ]
    },
    {
     "name": "stdout",
     "output_type": "stream",
     "text": [
      "[############################            ] | 70% Completed | 404.87 s"
     ]
    },
    {
     "name": "stderr",
     "output_type": "stream",
     "text": [
      "\n",
      "2023-08-09 14:33:04,758 - pyscenic.transform - WARNING - Less than 80% of the genes in ARG2 could be mapped to hg38__refseq-r80__10kb_up_and_down_tss.mc9nr.genes_vs_motifs.rankings. Skipping this module.\n",
      "\n",
      "2023-08-09 14:33:04,855 - pyscenic.transform - WARNING - Less than 80% of the genes in ARID5B could be mapped to hg38__refseq-r80__10kb_up_and_down_tss.mc9nr.genes_vs_motifs.rankings. Skipping this module.\n"
     ]
    },
    {
     "name": "stdout",
     "output_type": "stream",
     "text": [
      "[############################            ] | 70% Completed | 406.05 s"
     ]
    },
    {
     "name": "stderr",
     "output_type": "stream",
     "text": [
      "\n",
      "2023-08-09 14:33:06,001 - pyscenic.transform - WARNING - Less than 80% of the genes in ATF3 could be mapped to hg38__refseq-r80__10kb_up_and_down_tss.mc9nr.genes_vs_motifs.rankings. Skipping this module.\n"
     ]
    },
    {
     "name": "stdout",
     "output_type": "stream",
     "text": [
      "[########################################] | 100% Completed | 409.16 s\n",
      "\n",
      "COMPLETED WRITING ENRICHED MOTIFS /home/linl5/project/SCLC/data/lx108/lx108.UTTU.1.motifs.csv \n",
      "\n",
      "                                        Enrichment            \\\n",
      "                                               AUC       NES   \n",
      "TF   MotifID                                                   \n",
      "ATF3 yetfasco__YER045C_8                  0.078284  3.330308   \n",
      "     transfac_pro__M07414                 0.081794  3.612767   \n",
      "     cisbp__M0326                         0.081803  3.613506   \n",
      "     dbcorrdb__ESRRA__ENCSR000DYQ_1__m5   0.079695  3.443845   \n",
      "     cisbp__M3088                         0.078105  3.315908   \n",
      "\n",
      "                                                               \\\n",
      "                                        MotifSimilarityQvalue   \n",
      "TF   MotifID                                                    \n",
      "ATF3 yetfasco__YER045C_8                             0.000980   \n",
      "     transfac_pro__M07414                            0.000972   \n",
      "     cisbp__M0326                                    0.000832   \n",
      "     dbcorrdb__ESRRA__ENCSR000DYQ_1__m5              0.000545   \n",
      "     cisbp__M3088                                    0.000532   \n",
      "\n",
      "                                                             \\\n",
      "                                        OrthologousIdentity   \n",
      "TF   MotifID                                                  \n",
      "ATF3 yetfasco__YER045C_8                                1.0   \n",
      "     transfac_pro__M07414                               1.0   \n",
      "     cisbp__M0326                                       1.0   \n",
      "     dbcorrdb__ESRRA__ENCSR000DYQ_1__m5                 1.0   \n",
      "     cisbp__M3088                                       1.0   \n",
      "\n",
      "                                                                                            \\\n",
      "                                                                                Annotation   \n",
      "TF   MotifID                                                                                 \n",
      "ATF3 yetfasco__YER045C_8                 gene is annotated for similar motif transfac_p...   \n",
      "     transfac_pro__M07414                motif similar to factorbook__CREB ('CREB'; q-v...   \n",
      "     cisbp__M0326                        motif similar to factorbook__CREB ('CREB'; q-v...   \n",
      "     dbcorrdb__ESRRA__ENCSR000DYQ_1__m5  motif similar to dbcorrdb__ATF3__ENCSR000DOG_1...   \n",
      "     cisbp__M3088                        gene is annotated for similar motif transfac_p...   \n",
      "\n",
      "                                                                                            \\\n",
      "                                                                                   Context   \n",
      "TF   MotifID                                                                                 \n",
      "ATF3 yetfasco__YER045C_8                 (weight>75.0%, hg38__refseq-r80__10kb_up_and_d...   \n",
      "     transfac_pro__M07414                (weight>75.0%, hg38__refseq-r80__10kb_up_and_d...   \n",
      "     cisbp__M0326                        (weight>75.0%, hg38__refseq-r80__10kb_up_and_d...   \n",
      "     dbcorrdb__ESRRA__ENCSR000DYQ_1__m5  (weight>75.0%, hg38__refseq-r80__10kb_up_and_d...   \n",
      "     cisbp__M3088                        (weight>75.0%, hg38__refseq-r80__10kb_up_and_d...   \n",
      "\n",
      "                                                                                            \\\n",
      "                                                                               TargetGenes   \n",
      "TF   MotifID                                                                                 \n",
      "ATF3 yetfasco__YER045C_8                 [(NFKBIA, 32.08633706729417), (TNFAIP3, 11.050...   \n",
      "     transfac_pro__M07414                [(FST, 2.308915075790013), (ZFP36L2, 8.1552927...   \n",
      "     cisbp__M0326                        [(FST, 2.308915075790013), (BBC3, 9.6021518067...   \n",
      "     dbcorrdb__ESRRA__ENCSR000DYQ_1__m5  [(EPAS1, 1.3452985661366628), (E2F8, 7.0411937...   \n",
      "     cisbp__M3088                        [(HOXB-AS3, 1.153478893859274), (BBC3, 9.60215...   \n",
      "\n",
      "                                                   \n",
      "                                        RankAtMax  \n",
      "TF   MotifID                                       \n",
      "ATF3 yetfasco__YER045C_8                     1016  \n",
      "     transfac_pro__M07414                    1487  \n",
      "     cisbp__M0326                            1479  \n",
      "     dbcorrdb__ESRRA__ENCSR000DYQ_1__m5      1444  \n",
      "     cisbp__M3088                            1158  \n",
      "Create regulons from a dataframe of enriched features.\n",
      "Additional columns saved: []\n",
      "\n",
      "COMPLETED WRITING DISCOVERED REGULON /home/linl5/project/SCLC/data/lx108/lx108.UTTU.1.regulons.p \n",
      "\n"
     ]
    }
   ],
   "source": [
    "#STEP 16: Running RCistarget\n",
    "\n",
    "for state in unique_state:\n",
    "    #reading necessary files for rcistarget\n",
    "    ADJACENCIES_FNAME = os.path.join(DATA_FOLDERNAME, \"{}.{}.{}.adjacencies.tsv\".format(DATASET_ID, state, frac_cells))\n",
    "    adjacencies = pd.read_csv(ADJACENCIES_FNAME, sep='\\t')\n",
    "    print(\"\\nFINISHED READING ADJACENCIES FILE\", ADJACENCIES_FNAME,\"\\n\")\n",
    "    EXP_MTX_QC_FNAME = os.path.join(RESULTS_FOLDERNAME, '{}.{}.{}.qc.tpm.csv'.format(DATASET_ID, state, frac_cells))\n",
    "    ex_matrix = pd.read_csv(EXP_MTX_QC_FNAME, sep='\\t')\n",
    "    print(\"\\nFINISHED READING EXPRESSION MATRIX\", EXP_MTX_QC_FNAME,\"\\n\")\n",
    "    MODULES_FNAME = os.path.join(DATA_FOLDERNAME, '{}.{}.{}.modules.p'.format(DATASET_ID, state, frac_cells))\n",
    "    MOTIFS_FNAME = os.path.join(DATA_FOLDERNAME, '{}.{}.{}.motifs.csv'.format(DATASET_ID, state, frac_cells))\n",
    "    REGULONS_FNAME = os.path.join(DATA_FOLDERNAME, '{}.{}.{}.regulons.p'.format(DATASET_ID, state, frac_cells))\n",
    "\n",
    "    #making modules from adjacencies\n",
    "    modules = list(modules_from_adjacencies(adjacencies, ex_matrix))\n",
    "    \n",
    "    #writing modules object to file\n",
    "    with open(MODULES_FNAME, 'wb') as f:\n",
    "        pickle.dump(modules, f)\n",
    "    print(\"\\nCOMPLETED COEXPRESSION MODULE WRITING:\", MODULES_FNAME,\"\\n\")\n",
    "    \n",
    "    #running Rcistarget with progress bar: searching for enriched motifs and true candidate genes\n",
    "    with ProgressBar():\n",
    "        df = prune2df(dbs, modules, MOTIF_ANNOTATIONS_FNAME, client_or_address=\"dask_multiprocessing\") \n",
    "    \n",
    "    #writing enriched motifs with candidate target to file\n",
    "    df.to_csv(MOTIFS_FNAME)\n",
    "    print(\"\\nCOMPLETED WRITING ENRICHED MOTIFS\", MOTIFS_FNAME,\"\\n\")\n",
    "    print(df.head())\n",
    "    \n",
    "    #making regulon objects\n",
    "    regulons = df2regulons(df)\n",
    "    \n",
    "    #writing regulon objects to file\n",
    "    with open(REGULONS_FNAME, 'wb') as f:\n",
    "        pickle.dump(regulons, f)\n",
    "    print(\"\\nCOMPLETED WRITING DISCOVERED REGULON\", REGULONS_FNAME,\"\\n\")"
   ]
  },
  {
   "cell_type": "markdown",
   "id": "9ec4e6b3",
   "metadata": {},
   "source": [
    "After grouping the data by timepoints\n",
    "- How is clustering in this case difference by just making anndata subset selected by timepoint (pin)\n",
    "- Do i do PCA after clustering -> pca changes the expression matrix so output to GENIE3 is not pca, just raw unnormalize, unpertrude data except basic filtering\n",
    "- If you have more than one condition, it’s often helpful to perform integration to align the cells -? and then within each timepoint there would be three batches so i should find a way to remove this right"
   ]
  }
 ],
 "metadata": {
  "kernelspec": {
   "display_name": "pyscenic",
   "language": "python",
   "name": "pyscenic"
  },
  "language_info": {
   "codemirror_mode": {
    "name": "ipython",
    "version": 3
   },
   "file_extension": ".py",
   "mimetype": "text/x-python",
   "name": "python",
   "nbconvert_exporter": "python",
   "pygments_lexer": "ipython3",
   "version": "3.10.12"
  }
 },
 "nbformat": 4,
 "nbformat_minor": 5
}
