{
 "cells": [
  {
   "cell_type": "markdown",
   "id": "77b5d2f5",
   "metadata": {},
   "source": [
    "- 1000 cell: done\n",
    "- 2000 cell done\n",
    "- 4000 cell: inprogress"
   ]
  },
  {
   "cell_type": "code",
   "execution_count": 1,
   "id": "6a8cabb2",
   "metadata": {},
   "outputs": [
    {
     "name": "stderr",
     "output_type": "stream",
     "text": [
      "/home/linl5/miniconda3/envs/pyscenic/lib/python3.10/site-packages/loompy/bus_file.py:68: NumbaDeprecationWarning: The 'nopython' keyword argument was not supplied to the 'numba.jit' decorator. The implicit default value for this argument is currently False, but it will be changed to True in Numba 0.59.0. See https://numba.readthedocs.io/en/stable/reference/deprecation.html#deprecation-of-object-mode-fall-back-behaviour-when-using-jit for details.\n",
      "  def twobit_to_dna(twobit: int, size: int) -> str:\n",
      "/home/linl5/miniconda3/envs/pyscenic/lib/python3.10/site-packages/loompy/bus_file.py:85: NumbaDeprecationWarning: The 'nopython' keyword argument was not supplied to the 'numba.jit' decorator. The implicit default value for this argument is currently False, but it will be changed to True in Numba 0.59.0. See https://numba.readthedocs.io/en/stable/reference/deprecation.html#deprecation-of-object-mode-fall-back-behaviour-when-using-jit for details.\n",
      "  def dna_to_twobit(dna: str) -> int:\n",
      "/home/linl5/miniconda3/envs/pyscenic/lib/python3.10/site-packages/loompy/bus_file.py:102: NumbaDeprecationWarning: The 'nopython' keyword argument was not supplied to the 'numba.jit' decorator. The implicit default value for this argument is currently False, but it will be changed to True in Numba 0.59.0. See https://numba.readthedocs.io/en/stable/reference/deprecation.html#deprecation-of-object-mode-fall-back-behaviour-when-using-jit for details.\n",
      "  def twobit_1hamming(twobit: int, size: int) -> List[int]:\n"
     ]
    }
   ],
   "source": [
    "#STEP 1: importing all needed moduels\n",
    "\n",
    "import os, glob, re, pickle\n",
    "from functools import partial\n",
    "from collections import OrderedDict\n",
    "import operator as op\n",
    "from cytoolz import compose\n",
    "\n",
    "import pandas as pd\n",
    "import seaborn as sns\n",
    "import numpy as np\n",
    "import scanpy as sc\n",
    "import anndata as ad\n",
    "import matplotlib as mpl\n",
    "import matplotlib.pyplot as plt\n",
    "import skmisc\n",
    "\n",
    "from pyscenic.export import export2loom, add_scenic_metadata\n",
    "from pyscenic.utils import load_motifs\n",
    "from pyscenic.transform import df2regulons\n",
    "from pyscenic.aucell import aucell\n",
    "from pyscenic.binarization import binarize\n",
    "from pyscenic.rss import regulon_specificity_scores\n",
    "from pyscenic.plotting import plot_binarization, plot_rss\n",
    "\n",
    "from arboreto.utils import load_tf_names\n",
    "from arboreto.algo import grnboost2\n",
    "from pyscenic.utils import modules_from_adjacencies\n",
    "from pyscenic.prune import prune2df, df2regulons\n",
    "from pyscenic.aucell import aucell\n",
    "from dask.diagnostics import ProgressBar\n",
    "from ctxcore.rnkdb import FeatherRankingDatabase as RankingDatabase\n",
    "\n",
    "#STEP 1+: Set maximum number of jobs\n",
    "sc.settings.njobs = 32"
   ]
  },
  {
   "cell_type": "markdown",
   "id": "a785e75c",
   "metadata": {},
   "source": [
    "Divide each file into by states and then running each state for network reconstruction\n",
    "- A is patient pretreatment pdx\n",
    "- B is patient posttreatment pdx"
   ]
  },
  {
   "cell_type": "code",
   "execution_count": 2,
   "id": "d0b414fc",
   "metadata": {},
   "outputs": [],
   "source": [
    "#prepping\n",
    "DATASET_ID = 'lx33'\n",
    "GENE_NUM = 2000"
   ]
  },
  {
   "cell_type": "code",
   "execution_count": 3,
   "id": "987a4ebf",
   "metadata": {},
   "outputs": [],
   "source": [
    "#STEP 1++: preparing pathway constant variables for easy coding\n",
    "\n",
    "SOHRAB_RESOURCES_FOLDERNAME = \"/work/shah/users/salehis/projects/cdm/data/sclc/{}\".format(DATASET_ID)\n",
    "RESULTS_FOLDERNAME = \"/home/linl5/project/SCLC/results/{}\".format(DATASET_ID)\n",
    "FIGURES_FOLDERNAME = \"/home/linl5/project/SCLC/figures\"\n",
    "AUXILLIARIES_FOLDERNAME = \"/home/linl5/project/SCLC/auxilliaries\"\n",
    "RESOURCES_FOLDERNAME = \"/home/linl5/project/SCLC/resources\"\n",
    "DATA_FOLDERNAME = \"/home/linl5/project/SCLC/data/{}\".format(DATASET_ID)"
   ]
  },
  {
   "cell_type": "code",
   "execution_count": 4,
   "id": "73ae62c9",
   "metadata": {},
   "outputs": [],
   "source": [
    "#Downloaded fromm pySCENIC github repo: https://github.com/aertslab/pySCENIC/tree/master/resources Aug-1-2023\n",
    "RESOURCES_FOLDERNAME = \"/home/linl5/project/SCLC/resources\"\n",
    "HUMAN_TFS_FNAME = os.path.join(RESOURCES_FOLDERNAME, 'allTFs_hg38.txt')"
   ]
  },
  {
   "cell_type": "code",
   "execution_count": 5,
   "id": "491cc977",
   "metadata": {},
   "outputs": [
    {
     "data": {
      "text/plain": [
       "'/work/shah/users/salehis/projects/cdm/data/sclc/lx33/rna.h5ad'"
      ]
     },
     "execution_count": 5,
     "metadata": {},
     "output_type": "execute_result"
    }
   ],
   "source": [
    "#STEP 2: Downloading metadata and expression matrix\n",
    "#input: expression matrix and metadata file\n",
    "\n",
    "#organized by cell ID and Gene matrix, values are counts of read in that cell\n",
    "COUNTS_MTX_FNAME = os.path.join(SOHRAB_RESOURCES_FOLDERNAME, 'rna.h5ad')\n",
    "COUNTS_MTX_FNAME"
   ]
  },
  {
   "cell_type": "code",
   "execution_count": 6,
   "id": "1d5bfefd",
   "metadata": {},
   "outputs": [
    {
     "data": {
      "text/plain": [
       "'/work/shah/users/salehis/projects/cdm/data/sclc/lx33/rna.h5ad'"
      ]
     },
     "execution_count": 6,
     "metadata": {},
     "output_type": "execute_result"
    }
   ],
   "source": [
    "#STEP 3: Importing and Analyzing the rna DATA\n",
    "\n",
    "# Read the H5AD file using anndata\n",
    "adata = ad.read(COUNTS_MTX_FNAME)\n",
    "COUNTS_MTX_FNAME"
   ]
  },
  {
   "cell_type": "code",
   "execution_count": 7,
   "id": "51c0b4d9",
   "metadata": {},
   "outputs": [
    {
     "name": "stdout",
     "output_type": "stream",
     "text": [
      "AnnData object with n_obs × n_vars = 23691 × 33538\n",
      "    obs: 'timepoint', 'datatag', 'batch', 'state'\n",
      "    var: 'gene_ids', 'feature_types'\n",
      "Shape of expression matrix:  (23691, 33538)\n",
      "Columns (variables):\n",
      "                    gene_ids    feature_types\n",
      "MIR1302-2HG  ENSG00000243485  Gene Expression\n",
      "FAM138A      ENSG00000237613  Gene Expression\n",
      "OR4F5        ENSG00000186092  Gene Expression\n",
      "AL627309.1   ENSG00000238009  Gene Expression\n",
      "AL627309.3   ENSG00000239945  Gene Expression\n",
      "...                      ...              ...\n",
      "AC233755.2   ENSG00000277856  Gene Expression\n",
      "AC233755.1   ENSG00000275063  Gene Expression\n",
      "AC240274.1   ENSG00000271254  Gene Expression\n",
      "AC213203.1   ENSG00000277475  Gene Expression\n",
      "FAM231C      ENSG00000268674  Gene Expression\n",
      "\n",
      "[33538 rows x 2 columns]\n",
      "\n",
      "Rows (observations):\n",
      "                             timepoint datatag batch state\n",
      "AAACCCAAGAAAGTCT-1_Lx33_UTTU      UTTU    Lx33     0  UTTU\n",
      "AAACCCAAGACGGAAA-1_Lx33_UTTU      UTTU    Lx33     0  UTTU\n",
      "AAACCCAAGGTCACCC-1_Lx33_UTTU      UTTU    Lx33     0  UTTU\n",
      "AAACCCAAGTCTTGGT-1_Lx33_UTTU      UTTU    Lx33     0  UTTU\n",
      "AAACCCATCGGTATGT-1_Lx33_UTTU      UTTU    Lx33     0  UTTU\n",
      "...                                ...     ...   ...   ...\n",
      "TTTGGTTTCTCATAGG-1_Lx33_UUUU      UUUU    Lx33     3  UUUU\n",
      "TTTGTTGAGCCTGACC-1_Lx33_UUUU      UUUU    Lx33     3  UUUU\n",
      "TTTGTTGCAAAGGCAC-1_Lx33_UUUU      UUUU    Lx33     3  UUUU\n",
      "TTTGTTGGTGCAATAA-1_Lx33_UUUU      UUUU    Lx33     3  UUUU\n",
      "TTTGTTGTCGTTCTAT-1_Lx33_UUUU      UUUU    Lx33     3  UUUU\n",
      "\n",
      "[23691 rows x 4 columns]\n"
     ]
    }
   ],
   "source": [
    "#STEP4: Understanding Dataset\n",
    "\n",
    "#print out information about anndata\n",
    "print(adata)\n",
    "\n",
    "#print out shape\n",
    "print(\"Shape of expression matrix: \", adata.shape)\n",
    "\n",
    "# the columns (variables) of the expression matrix\n",
    "print(\"Columns (variables):\")\n",
    "print(adata.var)\n",
    "\n",
    "# the rows (observations) of the expression matrix\n",
    "print(\"\\nRows (observations):\")\n",
    "print(adata.obs)\n"
   ]
  },
  {
   "cell_type": "code",
   "execution_count": 8,
   "id": "06e7215e",
   "metadata": {},
   "outputs": [
    {
     "name": "stdout",
     "output_type": "stream",
     "text": [
      "Post Filter:  (23051, 22899)\n"
     ]
    }
   ],
   "source": [
    "#STEP 5: preprocessing and filtering\n",
    "\n",
    "#make gene name unique\n",
    "adata.var_names_make_unique()\n",
    "\n",
    "#processing out data-prefilter\n",
    "sc.pp.filter_cells(adata, min_genes=200)\n",
    "sc.pp.filter_genes(adata, min_cells=3)\n",
    "\n",
    "#saving a copy of the power filtered count into raw\n",
    "adata.raw = adata\n",
    "\n",
    "#post filer: previous was n_obs × n_vars = 33207 × 33538\n",
    "print(\"Post Filter: \", adata.shape)\n"
   ]
  },
  {
   "cell_type": "markdown",
   "id": "999e4f8f",
   "metadata": {},
   "source": [
    "LX599: \n",
    "- Pre-Filter: 33207 × 33538\n",
    "- Post Filter:  (33108, 28701)\n",
    "\n",
    "\n",
    "Lx108: \n",
    "- Pre-Filter: 18481 × 33538\n",
    "- Post Filter: (18436, 22723)\n",
    "\n",
    "Lx33:\n",
    "- pre filter: 23691 × 33538\n",
    "- Post Filter:  (23051, 22899)"
   ]
  },
  {
   "cell_type": "code",
   "execution_count": 10,
   "id": "63eb2e8e",
   "metadata": {},
   "outputs": [],
   "source": [
    "# STEP 6: Prepping for timepoint splitting\n",
    "adata.layers['counts'] = adata.X\n",
    "adata.raw = adata\n"
   ]
  },
  {
   "cell_type": "code",
   "execution_count": 11,
   "id": "44527117",
   "metadata": {},
   "outputs": [
    {
     "name": "stdout",
     "output_type": "stream",
     "text": [
      "['UTTU', 'UU', 'UUUT', 'UUUU']\n",
      "Categories (4, object): ['UTTU', 'UU', 'UUUT', 'UUUU']\n",
      "UTTU :  (4021, 2000)\n",
      "UU :  (6176, 2000)\n",
      "UUUT :  (6619, 2000)\n",
      "UUUU :  (6235, 2000)\n"
     ]
    }
   ],
   "source": [
    "#STEP 7: subsampling time point (IDEA-> in original sample filte by hvg, then split the following into states, then cluster and subsample from cluster)\n",
    "\n",
    "# set the n_top_genes as necessary\n",
    "sc.pp.highly_variable_genes(adata, n_top_genes=GENE_NUM, subset=True, flavor='seurat_v3')\n",
    "\n",
    "#Splitting the cells by states\n",
    "unique_state = adata.obs['state'].unique()\n",
    "print(unique_state)\n",
    "\n",
    "#storing\n",
    "adata_by_state = {}\n",
    "\n",
    "#selecting out by TP\n",
    "for state in unique_state:\n",
    "    adata_subset = adata[adata.obs['state'] == state].copy()\n",
    "    adata_by_state[state] = adata_subset\n",
    "    print(state, \": \", adata_by_state[state].shape)\n",
    "\n",
    "    "
   ]
  },
  {
   "cell_type": "markdown",
   "id": "ad742185",
   "metadata": {},
   "source": [
    "lx33 (post cluster):\n",
    "- UTTU :  (4021, 2000)\n",
    "- UU :  (6176, 2000)\n",
    "- UUUT :  (6619, 2000)\n",
    "- UUUU :  (6235, 2000)\n",
    "\n",
    "lx108\n",
    "- UUUU :  (4128, 2000)\n",
    "- UUUT :  (4564, 2000)\n",
    "- UU :  (5035, 2000)\n",
    "- UTTU :  (4709, 2000)"
   ]
  },
  {
   "cell_type": "markdown",
   "id": "4b49a412",
   "metadata": {},
   "source": [
    "The Leiden algorithm improves upon Louvain by using the \"agglomerative\" approach to optimize a different quality function known as the \"improved modularity.\" Improved modularity has a resolution parameter that allows Leiden to control the granularity of the clustering solution. It also uses a smart local move algorithm to avoid some of the resolution limit issues present in Louvain. Higher paramter means more identified communities. \n",
    "\n",
    "#The Leiden algorithm is a hierarchical clustering algorithm, that recursively merges communities into single nodes by greedily optimizing the modularity and the process repeats in the condensed graph.\n",
    "#The Leiden algorithm improves upon Louvain by using the \"agglomerative\" approach to optimize a different quality function known as the \"improved modularity.\" Improved modularity has a resolution parameter that allows Leiden to control the granularity of the clustering solution. It also uses a smart local move algorithm to avoid some of the resolution limit issues present in Louvain."
   ]
  },
  {
   "cell_type": "code",
   "execution_count": 14,
   "id": "342c740e",
   "metadata": {},
   "outputs": [],
   "source": [
    "#STEP 8: cluster definition\n",
    "\n",
    "def cluster_rna(bdata):\n",
    "    #I have already did filtering and HVG selection on main anndata, we want to keep same hvg across our states\n",
    "    sc.pp.normalize_total(bdata)    \n",
    "    sc.pp.log1p(bdata)\n",
    "    sc.pp.pca(bdata)\n",
    "    sc.pp.neighbors(bdata)\n",
    "    sc.tl.umap(bdata)\n",
    "    sc.tl.leiden(bdata, resolution=2)\n",
    "    return bdata"
   ]
  },
  {
   "cell_type": "code",
   "execution_count": 15,
   "id": "0cb0ba8d",
   "metadata": {},
   "outputs": [
    {
     "name": "stderr",
     "output_type": "stream",
     "text": [
      "/home/linl5/miniconda3/envs/pyscenic/lib/python3.10/site-packages/umap/distances.py:1063: NumbaDeprecationWarning: The 'nopython' keyword argument was not supplied to the 'numba.jit' decorator. The implicit default value for this argument is currently False, but it will be changed to True in Numba 0.59.0. See https://numba.readthedocs.io/en/stable/reference/deprecation.html#deprecation-of-object-mode-fall-back-behaviour-when-using-jit for details.\n",
      "  @numba.jit()\n",
      "/home/linl5/miniconda3/envs/pyscenic/lib/python3.10/site-packages/umap/distances.py:1071: NumbaDeprecationWarning: The 'nopython' keyword argument was not supplied to the 'numba.jit' decorator. The implicit default value for this argument is currently False, but it will be changed to True in Numba 0.59.0. See https://numba.readthedocs.io/en/stable/reference/deprecation.html#deprecation-of-object-mode-fall-back-behaviour-when-using-jit for details.\n",
      "  @numba.jit()\n",
      "/home/linl5/miniconda3/envs/pyscenic/lib/python3.10/site-packages/umap/distances.py:1086: NumbaDeprecationWarning: The 'nopython' keyword argument was not supplied to the 'numba.jit' decorator. The implicit default value for this argument is currently False, but it will be changed to True in Numba 0.59.0. See https://numba.readthedocs.io/en/stable/reference/deprecation.html#deprecation-of-object-mode-fall-back-behaviour-when-using-jit for details.\n",
      "  @numba.jit()\n",
      "/home/linl5/miniconda3/envs/pyscenic/lib/python3.10/site-packages/tqdm/auto.py:21: TqdmWarning: IProgress not found. Please update jupyter and ipywidgets. See https://ipywidgets.readthedocs.io/en/stable/user_install.html\n",
      "  from .autonotebook import tqdm as notebook_tqdm\n",
      "/home/linl5/miniconda3/envs/pyscenic/lib/python3.10/site-packages/umap/umap_.py:660: NumbaDeprecationWarning: The 'nopython' keyword argument was not supplied to the 'numba.jit' decorator. The implicit default value for this argument is currently False, but it will be changed to True in Numba 0.59.0. See https://numba.readthedocs.io/en/stable/reference/deprecation.html#deprecation-of-object-mode-fall-back-behaviour-when-using-jit for details.\n",
      "  @numba.jit()\n"
     ]
    }
   ],
   "source": [
    "#STEP 9: Clustering\n",
    "\n",
    "for state in unique_state:\n",
    "    adata_by_state[state] = cluster_rna(adata_by_state[state])"
   ]
  },
  {
   "cell_type": "code",
   "execution_count": 20,
   "id": "d795bb7b",
   "metadata": {},
   "outputs": [
    {
     "name": "stderr",
     "output_type": "stream",
     "text": [
      "100%|██████████| 21/21 [00:00<00:00, 1747.97it/s]\n",
      "100%|██████████| 19/19 [00:00<00:00, 3192.91it/s]\n",
      "100%|██████████| 22/22 [00:00<00:00, 2553.75it/s]\n",
      "100%|██████████| 19/19 [00:00<00:00, 3171.18it/s]\n"
     ]
    }
   ],
   "source": [
    "#STEP 10: Subsampling\n",
    "\n",
    "from tqdm import tqdm\n",
    "frac_cells = 1\n",
    "data_sub = {}\n",
    "\n",
    "#Consistent randomization\n",
    "np.random.seed(0)\n",
    "\n",
    "for state in unique_state:\n",
    "    sub_cells = []\n",
    "    for clust in tqdm(adata_by_state[state].obs['leiden'].unique()):\n",
    "        # sample 10% of cells from each cluster\n",
    "        cells_in_clust = adata_by_state[state].obs_names[adata_by_state[state].obs['leiden'] == clust].copy()\n",
    "        #dropping out clusters with less than 5 cells\n",
    "        if (len(cells_in_clust) > 5):\n",
    "            chosen_cells = np.random.choice(cells_in_clust, size=int(len(cells_in_clust)*frac_cells), replace=False)\n",
    "            sub_cells.extend(chosen_cells)\n",
    "    data_sub[state] = adata_by_state[state][sub_cells, :].copy()"
   ]
  },
  {
   "cell_type": "code",
   "execution_count": 21,
   "id": "d542411d",
   "metadata": {},
   "outputs": [
    {
     "name": "stdout",
     "output_type": "stream",
     "text": [
      "UUUU (4128, 2000)\n",
      "Same Gene set check:  UUUU UUUT 2000\n",
      "UUUT (4564, 2000)\n",
      "Same Gene set check:  UUUT UUUT 2000\n",
      "UU (5035, 2000)\n",
      "Same Gene set check:  UU UUUT 2000\n",
      "UTTU (4706, 2000)\n",
      "Same Gene set check:  UTTU UUUT 2000\n",
      "/work/shah/users/salehis/projects/cdm/data/sclc/lx108/rna.h5ad\n"
     ]
    }
   ],
   "source": [
    "#checking for subsampling population\n",
    "\n",
    "for state in unique_state:\n",
    "    print(state, data_sub[state].shape)\n",
    "    set1 = set(data_sub[state].var_names)\n",
    "    set2 = set(data_sub[unique_state[1]].var_names)\n",
    "    print(\"Same Gene set check: \", state, unique_state[1], len(set1.intersection(set2)))\n",
    "\n",
    "print(COUNTS_MTX_FNAME)"
   ]
  },
  {
   "cell_type": "markdown",
   "id": "fde6b277",
   "metadata": {},
   "source": [
    "LX599\n",
    "\n",
    "10%\n",
    "UUa (715, 2000)\n",
    "Same Gene set check:  UUa UUa  2000\n",
    "UTb (515, 2000)\n",
    "Same Gene set check:  UTb UUa  2000\n",
    "UUb (991, 2000)\n",
    "Same Gene set check:  UUb UUa  2000\n",
    "UTa (1042, 2000)\n",
    "Same Gene set check:  UTa UUa  2000\n",
    "\n",
    "25%\n",
    "UUa (1812, 2000)\n",
    "Same Gene set check:  UUa UUa  2000\n",
    "UTb (1307, 2000)\n",
    "Same Gene set check:  UTb UUa  2000\n",
    "UUb (2500, 2000)\n",
    "Same Gene set check:  UUb UUa  2000\n",
    "UTa (2618, 2000)\n",
    "Same Gene set check:  UTa UUa  2000\n",
    "\n",
    "50%\n",
    "UUa (3633, 2000)\n",
    "Same Gene set check:  UUa UUa  2000\n",
    "UTb (2633, 2000)\n",
    "Same Gene set check:  UTb UUa  2000\n",
    "UUb (5011, 2000)\n",
    "Same Gene set check:  UUb UUa  2000\n",
    "UTa (5248, 2000)\n",
    "Same Gene set check:  UTa UUa  2000\n",
    "\n",
    "LX108\n",
    "\n",
    "20%\n",
    "UUUU (818, 2000)\n",
    "Same Gene set check:  UUUU UUUT 2000\n",
    "UUUT (904, 2000)\n",
    "Same Gene set check:  UUUT UUUT 2000\n",
    "UU (998, 2000)\n",
    "Same Gene set check:  UU UUUT 2000\n",
    "UTTU (934, 2000)\n",
    "Same Gene set check:  UTTU UUUT 2000\n",
    "\n",
    "40%\n",
    "UUUU (1643, 2000)\n",
    "Same Gene set check:  UUUU UUUT 2000\n",
    "UUUT (1818, 2000)\n",
    "Same Gene set check:  UUUT UUUT 2000\n",
    "UU (2004, 2000)\n",
    "Same Gene set check:  UU UUUT 2000\n",
    "UTTU (1878, 2000)\n",
    "Same Gene set check:  UTTU UUUT 2000\n",
    "\n",
    "100%\n",
    "UUUU (4128, 2000)\n",
    "Same Gene set check:  UUUU UUUT 2000\n",
    "UUUT (4564, 2000)\n",
    "Same Gene set check:  UUUT UUUT 2000\n",
    "UU (5035, 2000)\n",
    "Same Gene set check:  UU UUUT 2000\n",
    "UTTU (4706, 2000)\n",
    "Same Gene set check:  UTTU UUUT 2000\n",
    "\n",
    "LX33\n",
    "\n",
    "15%\n",
    "UTTU (594, 2000)\n",
    "Same Gene set check:  UTTU UU 2000\n",
    "UU (917, 2000)\n",
    "Same Gene set check:  UU UU 2000\n",
    "UUUT (981, 2000)\n",
    "Same Gene set check:  UUUT UU 2000\n",
    "UUUU (922, 2000)\n",
    "Same Gene set check:  UUUU UU 2000\n",
    "\n",
    "33%\n",
    "UTTU (1316, 2000)\n",
    "Same Gene set check:  UTTU UU 2000\n",
    "UU (2026, 2000)\n",
    "Same Gene set check:  UU UU 2000\n",
    "UUUT (2171, 2000)\n",
    "Same Gene set check:  UUUT UU 2000\n",
    "UUUU (2044, 2000)\n",
    "Same Gene set check:  UUUU UU 2000\n",
    "\n",
    "\n",
    "66%\n",
    "UTTU (2644, 2000)\n",
    "Same Gene set check:  UTTU UU 2000\n",
    "UU (4065, 2000)\n",
    "Same Gene set check:  UU UU 2000\n",
    "UUUT (4357, 2000)\n",
    "Same Gene set check:  UUUT UU 2000\n",
    "UUUU (4102, 2000)\n",
    "Same Gene set check:  UUUU UU 2000\n",
    "\n",
    "100%\n",
    "UTTU (4021, 2000)\n",
    "Same Gene set check:  UTTU UU 2000\n",
    "UU (6176, 2000)\n",
    "Same Gene set check:  UU UU 2000\n",
    "UUUT (6619, 2000)\n",
    "Same Gene set check:  UUUT UU 2000\n",
    "UUUU (6235, 2000)\n",
    "Same Gene set check:  UUUU UU 2000\n",
    "/work/shah/users/salehis/projects/cdm/data/sclc/lx33/rna.h5ad"
   ]
  },
  {
   "cell_type": "code",
   "execution_count": 22,
   "id": "87a4206e",
   "metadata": {},
   "outputs": [
    {
     "data": {
      "text/html": [
       "<div>\n",
       "<style scoped>\n",
       "    .dataframe tbody tr th:only-of-type {\n",
       "        vertical-align: middle;\n",
       "    }\n",
       "\n",
       "    .dataframe tbody tr th {\n",
       "        vertical-align: top;\n",
       "    }\n",
       "\n",
       "    .dataframe thead th {\n",
       "        text-align: right;\n",
       "    }\n",
       "</style>\n",
       "<table border=\"1\" class=\"dataframe\">\n",
       "  <thead>\n",
       "    <tr style=\"text-align: right;\">\n",
       "      <th></th>\n",
       "      <th>FAM87B</th>\n",
       "      <th>LINC00115</th>\n",
       "      <th>HES4</th>\n",
       "      <th>ISG15</th>\n",
       "      <th>ATAD3C</th>\n",
       "      <th>GABRD</th>\n",
       "      <th>AL590822.2</th>\n",
       "      <th>HES5</th>\n",
       "      <th>AL139246.5</th>\n",
       "      <th>AL139246.3</th>\n",
       "      <th>...</th>\n",
       "      <th>BACE2</th>\n",
       "      <th>TFF1</th>\n",
       "      <th>AP001626.1</th>\n",
       "      <th>ERVH48-1</th>\n",
       "      <th>FRGCA</th>\n",
       "      <th>AIRE</th>\n",
       "      <th>TRPM2</th>\n",
       "      <th>C21orf58</th>\n",
       "      <th>PCNT</th>\n",
       "      <th>MT-ND6</th>\n",
       "    </tr>\n",
       "  </thead>\n",
       "  <tbody>\n",
       "    <tr>\n",
       "      <th>TATGTTCAGGGACACT-1_Lx108_UUUT</th>\n",
       "      <td>0.0</td>\n",
       "      <td>0.0</td>\n",
       "      <td>0.0</td>\n",
       "      <td>2.0</td>\n",
       "      <td>0.0</td>\n",
       "      <td>0.0</td>\n",
       "      <td>0.0</td>\n",
       "      <td>0.0</td>\n",
       "      <td>0.0</td>\n",
       "      <td>0.0</td>\n",
       "      <td>...</td>\n",
       "      <td>0.0</td>\n",
       "      <td>0.0</td>\n",
       "      <td>0.0</td>\n",
       "      <td>0.0</td>\n",
       "      <td>0.0</td>\n",
       "      <td>0.0</td>\n",
       "      <td>0.0</td>\n",
       "      <td>1.0</td>\n",
       "      <td>0.0</td>\n",
       "      <td>1.0</td>\n",
       "    </tr>\n",
       "    <tr>\n",
       "      <th>TTTGGAGGTCAGGAGT-1_Lx108_UUUT</th>\n",
       "      <td>0.0</td>\n",
       "      <td>0.0</td>\n",
       "      <td>2.0</td>\n",
       "      <td>3.0</td>\n",
       "      <td>0.0</td>\n",
       "      <td>0.0</td>\n",
       "      <td>0.0</td>\n",
       "      <td>0.0</td>\n",
       "      <td>0.0</td>\n",
       "      <td>0.0</td>\n",
       "      <td>...</td>\n",
       "      <td>0.0</td>\n",
       "      <td>1.0</td>\n",
       "      <td>0.0</td>\n",
       "      <td>0.0</td>\n",
       "      <td>0.0</td>\n",
       "      <td>0.0</td>\n",
       "      <td>1.0</td>\n",
       "      <td>0.0</td>\n",
       "      <td>0.0</td>\n",
       "      <td>1.0</td>\n",
       "    </tr>\n",
       "    <tr>\n",
       "      <th>ATTCCATAGGTTCCGC-1_Lx108_UUUT</th>\n",
       "      <td>0.0</td>\n",
       "      <td>0.0</td>\n",
       "      <td>3.0</td>\n",
       "      <td>2.0</td>\n",
       "      <td>0.0</td>\n",
       "      <td>0.0</td>\n",
       "      <td>0.0</td>\n",
       "      <td>0.0</td>\n",
       "      <td>0.0</td>\n",
       "      <td>0.0</td>\n",
       "      <td>...</td>\n",
       "      <td>0.0</td>\n",
       "      <td>0.0</td>\n",
       "      <td>0.0</td>\n",
       "      <td>0.0</td>\n",
       "      <td>0.0</td>\n",
       "      <td>0.0</td>\n",
       "      <td>0.0</td>\n",
       "      <td>2.0</td>\n",
       "      <td>0.0</td>\n",
       "      <td>6.0</td>\n",
       "    </tr>\n",
       "    <tr>\n",
       "      <th>AGGGTTTAGGGTGAGG-1_Lx108_UUUT</th>\n",
       "      <td>0.0</td>\n",
       "      <td>0.0</td>\n",
       "      <td>0.0</td>\n",
       "      <td>1.0</td>\n",
       "      <td>0.0</td>\n",
       "      <td>0.0</td>\n",
       "      <td>0.0</td>\n",
       "      <td>0.0</td>\n",
       "      <td>0.0</td>\n",
       "      <td>0.0</td>\n",
       "      <td>...</td>\n",
       "      <td>0.0</td>\n",
       "      <td>1.0</td>\n",
       "      <td>0.0</td>\n",
       "      <td>0.0</td>\n",
       "      <td>0.0</td>\n",
       "      <td>0.0</td>\n",
       "      <td>0.0</td>\n",
       "      <td>2.0</td>\n",
       "      <td>0.0</td>\n",
       "      <td>0.0</td>\n",
       "    </tr>\n",
       "    <tr>\n",
       "      <th>TTCAATCTCGTCTCAC-1_Lx108_UUUT</th>\n",
       "      <td>0.0</td>\n",
       "      <td>0.0</td>\n",
       "      <td>1.0</td>\n",
       "      <td>3.0</td>\n",
       "      <td>0.0</td>\n",
       "      <td>0.0</td>\n",
       "      <td>0.0</td>\n",
       "      <td>0.0</td>\n",
       "      <td>0.0</td>\n",
       "      <td>0.0</td>\n",
       "      <td>...</td>\n",
       "      <td>0.0</td>\n",
       "      <td>0.0</td>\n",
       "      <td>0.0</td>\n",
       "      <td>0.0</td>\n",
       "      <td>1.0</td>\n",
       "      <td>0.0</td>\n",
       "      <td>0.0</td>\n",
       "      <td>2.0</td>\n",
       "      <td>1.0</td>\n",
       "      <td>3.0</td>\n",
       "    </tr>\n",
       "    <tr>\n",
       "      <th>...</th>\n",
       "      <td>...</td>\n",
       "      <td>...</td>\n",
       "      <td>...</td>\n",
       "      <td>...</td>\n",
       "      <td>...</td>\n",
       "      <td>...</td>\n",
       "      <td>...</td>\n",
       "      <td>...</td>\n",
       "      <td>...</td>\n",
       "      <td>...</td>\n",
       "      <td>...</td>\n",
       "      <td>...</td>\n",
       "      <td>...</td>\n",
       "      <td>...</td>\n",
       "      <td>...</td>\n",
       "      <td>...</td>\n",
       "      <td>...</td>\n",
       "      <td>...</td>\n",
       "      <td>...</td>\n",
       "      <td>...</td>\n",
       "      <td>...</td>\n",
       "    </tr>\n",
       "    <tr>\n",
       "      <th>TCATTGTTCATTGAGC-1_Lx108_UUUT</th>\n",
       "      <td>0.0</td>\n",
       "      <td>0.0</td>\n",
       "      <td>0.0</td>\n",
       "      <td>0.0</td>\n",
       "      <td>0.0</td>\n",
       "      <td>0.0</td>\n",
       "      <td>0.0</td>\n",
       "      <td>0.0</td>\n",
       "      <td>0.0</td>\n",
       "      <td>0.0</td>\n",
       "      <td>...</td>\n",
       "      <td>0.0</td>\n",
       "      <td>1.0</td>\n",
       "      <td>0.0</td>\n",
       "      <td>0.0</td>\n",
       "      <td>0.0</td>\n",
       "      <td>0.0</td>\n",
       "      <td>0.0</td>\n",
       "      <td>0.0</td>\n",
       "      <td>0.0</td>\n",
       "      <td>15.0</td>\n",
       "    </tr>\n",
       "    <tr>\n",
       "      <th>CAATCGATCTTTACAC-1_Lx108_UUUT</th>\n",
       "      <td>0.0</td>\n",
       "      <td>0.0</td>\n",
       "      <td>0.0</td>\n",
       "      <td>0.0</td>\n",
       "      <td>0.0</td>\n",
       "      <td>0.0</td>\n",
       "      <td>0.0</td>\n",
       "      <td>0.0</td>\n",
       "      <td>0.0</td>\n",
       "      <td>0.0</td>\n",
       "      <td>...</td>\n",
       "      <td>0.0</td>\n",
       "      <td>0.0</td>\n",
       "      <td>0.0</td>\n",
       "      <td>0.0</td>\n",
       "      <td>0.0</td>\n",
       "      <td>0.0</td>\n",
       "      <td>0.0</td>\n",
       "      <td>0.0</td>\n",
       "      <td>0.0</td>\n",
       "      <td>0.0</td>\n",
       "    </tr>\n",
       "    <tr>\n",
       "      <th>ACGTAGTAGTTAGTAG-1_Lx108_UUUT</th>\n",
       "      <td>0.0</td>\n",
       "      <td>0.0</td>\n",
       "      <td>0.0</td>\n",
       "      <td>1.0</td>\n",
       "      <td>0.0</td>\n",
       "      <td>0.0</td>\n",
       "      <td>0.0</td>\n",
       "      <td>0.0</td>\n",
       "      <td>0.0</td>\n",
       "      <td>0.0</td>\n",
       "      <td>...</td>\n",
       "      <td>0.0</td>\n",
       "      <td>0.0</td>\n",
       "      <td>0.0</td>\n",
       "      <td>0.0</td>\n",
       "      <td>0.0</td>\n",
       "      <td>0.0</td>\n",
       "      <td>0.0</td>\n",
       "      <td>0.0</td>\n",
       "      <td>0.0</td>\n",
       "      <td>1.0</td>\n",
       "    </tr>\n",
       "    <tr>\n",
       "      <th>TTATTGCGTCTGTGTA-1_Lx108_UUUT</th>\n",
       "      <td>0.0</td>\n",
       "      <td>0.0</td>\n",
       "      <td>0.0</td>\n",
       "      <td>0.0</td>\n",
       "      <td>0.0</td>\n",
       "      <td>0.0</td>\n",
       "      <td>0.0</td>\n",
       "      <td>0.0</td>\n",
       "      <td>0.0</td>\n",
       "      <td>0.0</td>\n",
       "      <td>...</td>\n",
       "      <td>0.0</td>\n",
       "      <td>0.0</td>\n",
       "      <td>0.0</td>\n",
       "      <td>0.0</td>\n",
       "      <td>0.0</td>\n",
       "      <td>0.0</td>\n",
       "      <td>0.0</td>\n",
       "      <td>0.0</td>\n",
       "      <td>0.0</td>\n",
       "      <td>0.0</td>\n",
       "    </tr>\n",
       "    <tr>\n",
       "      <th>CCTCACACAATTGTGC-1_Lx108_UUUT</th>\n",
       "      <td>0.0</td>\n",
       "      <td>1.0</td>\n",
       "      <td>0.0</td>\n",
       "      <td>3.0</td>\n",
       "      <td>0.0</td>\n",
       "      <td>0.0</td>\n",
       "      <td>0.0</td>\n",
       "      <td>0.0</td>\n",
       "      <td>0.0</td>\n",
       "      <td>0.0</td>\n",
       "      <td>...</td>\n",
       "      <td>0.0</td>\n",
       "      <td>0.0</td>\n",
       "      <td>0.0</td>\n",
       "      <td>0.0</td>\n",
       "      <td>0.0</td>\n",
       "      <td>0.0</td>\n",
       "      <td>1.0</td>\n",
       "      <td>0.0</td>\n",
       "      <td>1.0</td>\n",
       "      <td>1.0</td>\n",
       "    </tr>\n",
       "  </tbody>\n",
       "</table>\n",
       "<p>4564 rows × 2000 columns</p>\n",
       "</div>"
      ],
      "text/plain": [
       "                               FAM87B  LINC00115  HES4  ISG15  ATAD3C  GABRD  \\\n",
       "TATGTTCAGGGACACT-1_Lx108_UUUT     0.0        0.0   0.0    2.0     0.0    0.0   \n",
       "TTTGGAGGTCAGGAGT-1_Lx108_UUUT     0.0        0.0   2.0    3.0     0.0    0.0   \n",
       "ATTCCATAGGTTCCGC-1_Lx108_UUUT     0.0        0.0   3.0    2.0     0.0    0.0   \n",
       "AGGGTTTAGGGTGAGG-1_Lx108_UUUT     0.0        0.0   0.0    1.0     0.0    0.0   \n",
       "TTCAATCTCGTCTCAC-1_Lx108_UUUT     0.0        0.0   1.0    3.0     0.0    0.0   \n",
       "...                               ...        ...   ...    ...     ...    ...   \n",
       "TCATTGTTCATTGAGC-1_Lx108_UUUT     0.0        0.0   0.0    0.0     0.0    0.0   \n",
       "CAATCGATCTTTACAC-1_Lx108_UUUT     0.0        0.0   0.0    0.0     0.0    0.0   \n",
       "ACGTAGTAGTTAGTAG-1_Lx108_UUUT     0.0        0.0   0.0    1.0     0.0    0.0   \n",
       "TTATTGCGTCTGTGTA-1_Lx108_UUUT     0.0        0.0   0.0    0.0     0.0    0.0   \n",
       "CCTCACACAATTGTGC-1_Lx108_UUUT     0.0        1.0   0.0    3.0     0.0    0.0   \n",
       "\n",
       "                               AL590822.2  HES5  AL139246.5  AL139246.3  ...  \\\n",
       "TATGTTCAGGGACACT-1_Lx108_UUUT         0.0   0.0         0.0         0.0  ...   \n",
       "TTTGGAGGTCAGGAGT-1_Lx108_UUUT         0.0   0.0         0.0         0.0  ...   \n",
       "ATTCCATAGGTTCCGC-1_Lx108_UUUT         0.0   0.0         0.0         0.0  ...   \n",
       "AGGGTTTAGGGTGAGG-1_Lx108_UUUT         0.0   0.0         0.0         0.0  ...   \n",
       "TTCAATCTCGTCTCAC-1_Lx108_UUUT         0.0   0.0         0.0         0.0  ...   \n",
       "...                                   ...   ...         ...         ...  ...   \n",
       "TCATTGTTCATTGAGC-1_Lx108_UUUT         0.0   0.0         0.0         0.0  ...   \n",
       "CAATCGATCTTTACAC-1_Lx108_UUUT         0.0   0.0         0.0         0.0  ...   \n",
       "ACGTAGTAGTTAGTAG-1_Lx108_UUUT         0.0   0.0         0.0         0.0  ...   \n",
       "TTATTGCGTCTGTGTA-1_Lx108_UUUT         0.0   0.0         0.0         0.0  ...   \n",
       "CCTCACACAATTGTGC-1_Lx108_UUUT         0.0   0.0         0.0         0.0  ...   \n",
       "\n",
       "                               BACE2  TFF1  AP001626.1  ERVH48-1  FRGCA  AIRE  \\\n",
       "TATGTTCAGGGACACT-1_Lx108_UUUT    0.0   0.0         0.0       0.0    0.0   0.0   \n",
       "TTTGGAGGTCAGGAGT-1_Lx108_UUUT    0.0   1.0         0.0       0.0    0.0   0.0   \n",
       "ATTCCATAGGTTCCGC-1_Lx108_UUUT    0.0   0.0         0.0       0.0    0.0   0.0   \n",
       "AGGGTTTAGGGTGAGG-1_Lx108_UUUT    0.0   1.0         0.0       0.0    0.0   0.0   \n",
       "TTCAATCTCGTCTCAC-1_Lx108_UUUT    0.0   0.0         0.0       0.0    1.0   0.0   \n",
       "...                              ...   ...         ...       ...    ...   ...   \n",
       "TCATTGTTCATTGAGC-1_Lx108_UUUT    0.0   1.0         0.0       0.0    0.0   0.0   \n",
       "CAATCGATCTTTACAC-1_Lx108_UUUT    0.0   0.0         0.0       0.0    0.0   0.0   \n",
       "ACGTAGTAGTTAGTAG-1_Lx108_UUUT    0.0   0.0         0.0       0.0    0.0   0.0   \n",
       "TTATTGCGTCTGTGTA-1_Lx108_UUUT    0.0   0.0         0.0       0.0    0.0   0.0   \n",
       "CCTCACACAATTGTGC-1_Lx108_UUUT    0.0   0.0         0.0       0.0    0.0   0.0   \n",
       "\n",
       "                               TRPM2  C21orf58  PCNT  MT-ND6  \n",
       "TATGTTCAGGGACACT-1_Lx108_UUUT    0.0       1.0   0.0     1.0  \n",
       "TTTGGAGGTCAGGAGT-1_Lx108_UUUT    1.0       0.0   0.0     1.0  \n",
       "ATTCCATAGGTTCCGC-1_Lx108_UUUT    0.0       2.0   0.0     6.0  \n",
       "AGGGTTTAGGGTGAGG-1_Lx108_UUUT    0.0       2.0   0.0     0.0  \n",
       "TTCAATCTCGTCTCAC-1_Lx108_UUUT    0.0       2.0   1.0     3.0  \n",
       "...                              ...       ...   ...     ...  \n",
       "TCATTGTTCATTGAGC-1_Lx108_UUUT    0.0       0.0   0.0    15.0  \n",
       "CAATCGATCTTTACAC-1_Lx108_UUUT    0.0       0.0   0.0     0.0  \n",
       "ACGTAGTAGTTAGTAG-1_Lx108_UUUT    0.0       0.0   0.0     1.0  \n",
       "TTATTGCGTCTGTGTA-1_Lx108_UUUT    0.0       0.0   0.0     0.0  \n",
       "CCTCACACAATTGTGC-1_Lx108_UUUT    1.0       0.0   1.0     1.0  \n",
       "\n",
       "[4564 rows x 2000 columns]"
      ]
     },
     "execution_count": 22,
     "metadata": {},
     "output_type": "execute_result"
    }
   ],
   "source": [
    "#STEP 11: copying over raw count \n",
    "\n",
    "for state in unique_state:\n",
    "    data_sub[state].X = data_sub[state].layers['counts'].copy()\n",
    "    \n",
    "#check for sample output\n",
    "data_sub[unique_state[1]].to_df()"
   ]
  },
  {
   "cell_type": "code",
   "execution_count": 30,
   "id": "c2b2bc79",
   "metadata": {},
   "outputs": [
    {
     "name": "stdout",
     "output_type": "stream",
     "text": [
      "Finish with:  /home/linl5/project/SCLC/results/lx108/lx108.UUUU.1.qc.tpm.csv  Shape:  (4128, 2000)\n",
      "Finish with:  /home/linl5/project/SCLC/results/lx108/lx108.UUUT.1.qc.tpm.csv  Shape:  (4564, 2000)\n",
      "Finish with:  /home/linl5/project/SCLC/results/lx108/lx108.UU.1.qc.tpm.csv  Shape:  (5035, 2000)\n",
      "Finish with:  /home/linl5/project/SCLC/results/lx108/lx108.UTTU.1.qc.tpm.csv  Shape:  (4706, 2000)\n"
     ]
    }
   ],
   "source": [
    "#STEP 12: output Timepoint specific count matrix after subsampling by state\n",
    "for state in unique_state:\n",
    "    EXP_MTX_QC_FNAME = os.path.join(RESULTS_FOLDERNAME, '{}.{}.{}.qc.tpm.csv'.format(DATASET_ID, state, frac_cells))\n",
    "    data_sub[state].to_df().to_csv(EXP_MTX_QC_FNAME, index=False, sep='\\t')\n",
    "    print(\"Finish with: \", EXP_MTX_QC_FNAME, \" Shape: \", data_sub[state].shape)\n"
   ]
  },
  {
   "cell_type": "code",
   "execution_count": 12,
   "id": "3c8fadea",
   "metadata": {},
   "outputs": [
    {
     "name": "stdout",
     "output_type": "stream",
     "text": [
      "/home/linl5/project/SCLC/resources/allTFs_hg38.txt : Size of TF list 1892\n",
      "\n",
      "Expression matrix shape for lx33 UTTU (2644, 2000)\n",
      "preparing dask client\n",
      "parsing input\n",
      "creating dask graph\n",
      "8 partitions\n",
      "computing dask graph\n",
      "shutting down client and local cluster\n",
      "finished\n",
      "\n",
      "COMPLETED GRNBOOST2 RUNNING FOR lx33 UTTU\n",
      "\n",
      "      TF  target  importance\n",
      "2  ENO1  IGFBP2  328.750580\n",
      "2  ENO1   GAPDH  293.824415\n",
      "2  ENO1   BNIP3  266.833032\n",
      "2  ENO1    PGK1  258.374602\n",
      "2  ENO1    LDHA  251.407131\n",
      "SUCCESSFUL WRITING TO /home/linl5/project/SCLC/data/lx33/lx33.UTTU.0.66.adjacencies.tsv \n",
      "\n",
      "\n",
      "Expression matrix shape for lx33 UU (4065, 2000)\n",
      "preparing dask client\n",
      "parsing input\n",
      "creating dask graph\n",
      "8 partitions\n",
      "computing dask graph\n",
      "shutting down client and local cluster\n",
      "finished\n",
      "\n",
      "COMPLETED GRNBOOST2 RUNNING FOR lx33 UU\n",
      "\n",
      "      TF  target  importance\n",
      "2  ENO1   BNIP3  360.877834\n",
      "2  ENO1  IGFBP2  266.158488\n",
      "2  ENO1    NRN1  240.807875\n",
      "2  ENO1    PGK1  234.456980\n",
      "2  ENO1  COX4I2  225.749251\n",
      "SUCCESSFUL WRITING TO /home/linl5/project/SCLC/data/lx33/lx33.UU.0.66.adjacencies.tsv \n",
      "\n",
      "\n",
      "Expression matrix shape for lx33 UUUT (4357, 2000)\n",
      "preparing dask client\n",
      "parsing input\n",
      "creating dask graph\n",
      "8 partitions\n",
      "computing dask graph\n",
      "shutting down client and local cluster\n",
      "finished\n",
      "\n",
      "COMPLETED GRNBOOST2 RUNNING FOR lx33 UUUT\n",
      "\n",
      "      TF  target  importance\n",
      "2  ENO1    PGK1  385.109281\n",
      "2  ENO1  IGFBP2  373.241555\n",
      "2  ENO1    LDHA  340.667831\n",
      "2  ENO1   BNIP3  294.232392\n",
      "2  ENO1   GAPDH  288.444980\n",
      "SUCCESSFUL WRITING TO /home/linl5/project/SCLC/data/lx33/lx33.UUUT.0.66.adjacencies.tsv \n",
      "\n",
      "\n",
      "Expression matrix shape for lx33 UUUU (4102, 2000)\n",
      "preparing dask client\n",
      "parsing input\n",
      "creating dask graph\n",
      "8 partitions\n",
      "computing dask graph\n",
      "shutting down client and local cluster\n",
      "finished\n",
      "\n",
      "COMPLETED GRNBOOST2 RUNNING FOR lx33 UUUU\n",
      "\n",
      "      TF   target  importance\n",
      "2  ENO1   IGFBP2  373.682563\n",
      "2  ENO1    BNIP3  301.236833\n",
      "2  ENO1     NRN1  298.985789\n",
      "2  ENO1    GAPDH  282.603237\n",
      "2  ENO1  FAM162A  272.802100\n",
      "SUCCESSFUL WRITING TO /home/linl5/project/SCLC/data/lx33/lx33.UUUU.0.66.adjacencies.tsv \n",
      "\n"
     ]
    }
   ],
   "source": [
    "# STEP 13: prepping for GRN, Loading in expression matrix and TF files\n",
    "\n",
    "#Loading TF\n",
    "tf_names = load_tf_names(HUMAN_TFS_FNAME)\n",
    "print(HUMAN_TFS_FNAME, \": Size of TF list\", len(tf_names))\n",
    "\n",
    "#selecting !!!! CHANGE\n",
    "frac_cells = 0.66\n",
    "\n",
    "#expression matrix\n",
    "for state in unique_state:\n",
    "    EXP_MTX_QC_FNAME = os.path.join(RESULTS_FOLDERNAME, '{}.{}.{}.qc.tpm.csv'.format(DATASET_ID, state, frac_cells))\n",
    "    ex_matrix = pd.read_csv(EXP_MTX_QC_FNAME, sep='\\t')\n",
    "   \n",
    "    #Input Checking \n",
    "    print(\"\\nExpression matrix shape for\", DATASET_ID, state, ex_matrix.shape)\n",
    "\n",
    "#STEP 14: Running GRNBOOST2 for coexpression modules\n",
    "    adjacencies = grnboost2(expression_data=ex_matrix, tf_names=tf_names, verbose=True)\n",
    "    print(\"\\nCOMPLETED GRNBOOST2 RUNNING FOR\", DATASET_ID, state)\n",
    "    print(\"\\n\", adjacencies.head())\n",
    "    ADJACENCIES_FNAME = os.path.join(DATA_FOLDERNAME, \"{}.{}.{}.adjacencies.tsv\".format(DATASET_ID, state, frac_cells))\n",
    "    adjacencies.to_csv(ADJACENCIES_FNAME, index=False, sep='\\t')\n",
    "    print(\"SUCCESSFUL WRITING TO\", ADJACENCIES_FNAME, \"\\n\")\n",
    "    "
   ]
  },
  {
   "cell_type": "code",
   "execution_count": 13,
   "id": "0a76f0c1",
   "metadata": {},
   "outputs": [],
   "source": [
    "#STEP 15: Prepping for RCistarget: Loading Database and motif\n",
    "\n",
    "DATABASE_FOLDER = \"/home/linl5/project/SCLC/auxilliaries/\"\n",
    "DATABASES_GLOB = os.path.join(DATABASE_FOLDER, \"hg38_*.mc9nr.genes_vs_motifs.rankings.feather\")\n",
    "\n",
    "db_fnames = glob.glob(DATABASES_GLOB)\n",
    "def name(fname):\n",
    "    return os.path.splitext(os.path.basename(fname))[0]\n",
    "dbs = [RankingDatabase(fname=fname, name=name(fname)) for fname in db_fnames]\n",
    "dbs\n",
    "\n",
    "MOTIF_ANNOTATIONS_FNAME = os.path.join(RESOURCES_FOLDERNAME,\"motifs-v9-nr.hgnc-m0.001-o0.0.tbl\")"
   ]
  },
  {
   "cell_type": "code",
   "execution_count": 14,
   "id": "88dcd893",
   "metadata": {},
   "outputs": [
    {
     "name": "stdout",
     "output_type": "stream",
     "text": [
      "\n",
      "FINISHED READING ADJACENCIES FILE /home/linl5/project/SCLC/data/lx33/lx33.UTTU.0.66.adjacencies.tsv \n",
      "\n"
     ]
    },
    {
     "name": "stderr",
     "output_type": "stream",
     "text": [
      "\n",
      "2023-08-10 12:28:42,048 - pyscenic.utils - INFO - Calculating Pearson correlations.\n",
      "\n",
      "2023-08-10 12:28:42,076 - pyscenic.utils - WARNING - Note on correlation calculation: the default behaviour for calculating the correlations has changed after pySCENIC verion 0.9.16. Previously, the default was to calculate the correlation between a TF and target gene using only cells with non-zero expression values (mask_dropouts=True). The current default is now to use all cells to match the behavior of the R verision of SCENIC. The original settings can be retained by setting 'rho_mask_dropouts=True' in the modules_from_adjacencies function, or '--mask_dropouts' from the CLI.\n",
      "\tDropout masking is currently set to [False].\n"
     ]
    },
    {
     "name": "stdout",
     "output_type": "stream",
     "text": [
      "\n",
      "FINISHED READING EXPRESSION MATRIX /home/linl5/project/SCLC/results/lx33/lx33.UTTU.0.66.qc.tpm.csv \n",
      "\n"
     ]
    },
    {
     "name": "stderr",
     "output_type": "stream",
     "text": [
      "\n",
      "2023-08-10 12:28:43,420 - pyscenic.utils - INFO - Creating modules.\n"
     ]
    },
    {
     "name": "stdout",
     "output_type": "stream",
     "text": [
      "\n",
      "COMPLETED COEXPRESSION MODULE WRITING: /home/linl5/project/SCLC/data/lx33/lx33.UTTU.0.66.modules.p \n",
      "\n",
      "[                                        ] | 0% Completed | 17.97 sms"
     ]
    },
    {
     "name": "stderr",
     "output_type": "stream",
     "text": [
      "\n",
      "2023-08-10 12:29:07,894 - pyscenic.transform - WARNING - Less than 80% of the genes in GATA3 could be mapped to hg38__refseq-r80__500bp_up_and_100bp_down_tss.mc9nr.genes_vs_motifs.rankings. Skipping this module.\n"
     ]
    },
    {
     "name": "stdout",
     "output_type": "stream",
     "text": [
      "[                                        ] | 0% Completed | 21.43 s"
     ]
    },
    {
     "name": "stderr",
     "output_type": "stream",
     "text": [
      "\n",
      "2023-08-10 12:29:11,287 - pyscenic.transform - WARNING - Less than 80% of the genes in HHAT could be mapped to hg38__refseq-r80__500bp_up_and_100bp_down_tss.mc9nr.genes_vs_motifs.rankings. Skipping this module.\n",
      "\n",
      "2023-08-10 12:29:11,398 - pyscenic.transform - WARNING - Less than 80% of the genes in HIST1H2BN could be mapped to hg38__refseq-r80__500bp_up_and_100bp_down_tss.mc9nr.genes_vs_motifs.rankings. Skipping this module.\n"
     ]
    },
    {
     "name": "stdout",
     "output_type": "stream",
     "text": [
      "[                                        ] | 0% Completed | 26.92 s"
     ]
    },
    {
     "name": "stderr",
     "output_type": "stream",
     "text": [
      "\n",
      "2023-08-10 12:29:16,821 - pyscenic.transform - WARNING - Less than 80% of the genes in MSX1 could be mapped to hg38__refseq-r80__500bp_up_and_100bp_down_tss.mc9nr.genes_vs_motifs.rankings. Skipping this module.\n"
     ]
    },
    {
     "name": "stdout",
     "output_type": "stream",
     "text": [
      "[                                        ] | 0% Completed | 27.13 s"
     ]
    },
    {
     "name": "stderr",
     "output_type": "stream",
     "text": [
      "\n",
      "2023-08-10 12:29:17,059 - pyscenic.transform - WARNING - Less than 80% of the genes in MYBL1 could be mapped to hg38__refseq-r80__500bp_up_and_100bp_down_tss.mc9nr.genes_vs_motifs.rankings. Skipping this module.\n"
     ]
    },
    {
     "name": "stdout",
     "output_type": "stream",
     "text": [
      "[                                        ] | 0% Completed | 32.11 s"
     ]
    },
    {
     "name": "stderr",
     "output_type": "stream",
     "text": [
      "\n",
      "2023-08-10 12:29:22,047 - pyscenic.transform - WARNING - Less than 80% of the genes in NANOS1 could be mapped to hg38__refseq-r80__500bp_up_and_100bp_down_tss.mc9nr.genes_vs_motifs.rankings. Skipping this module.\n"
     ]
    },
    {
     "name": "stdout",
     "output_type": "stream",
     "text": [
      "[                                        ] | 0% Completed | 34.25 s"
     ]
    },
    {
     "name": "stderr",
     "output_type": "stream",
     "text": [
      "\n",
      "2023-08-10 12:29:24,130 - pyscenic.transform - WARNING - Less than 80% of the genes in NR4A1 could be mapped to hg38__refseq-r80__500bp_up_and_100bp_down_tss.mc9nr.genes_vs_motifs.rankings. Skipping this module.\n",
      "\n",
      "2023-08-10 12:29:24,199 - pyscenic.transform - WARNING - Less than 80% of the genes in NR4A2 could be mapped to hg38__refseq-r80__500bp_up_and_100bp_down_tss.mc9nr.genes_vs_motifs.rankings. Skipping this module.\n"
     ]
    },
    {
     "name": "stdout",
     "output_type": "stream",
     "text": [
      "[                                        ] | 0% Completed | 34.66 s"
     ]
    },
    {
     "name": "stderr",
     "output_type": "stream",
     "text": [
      "\n",
      "2023-08-10 12:29:24,508 - pyscenic.transform - WARNING - Less than 80% of the genes in OLIG2 could be mapped to hg38__refseq-r80__500bp_up_and_100bp_down_tss.mc9nr.genes_vs_motifs.rankings. Skipping this module.\n"
     ]
    },
    {
     "name": "stdout",
     "output_type": "stream",
     "text": [
      "[                                        ] | 0% Completed | 38.83 s"
     ]
    },
    {
     "name": "stderr",
     "output_type": "stream",
     "text": [
      "\n",
      "2023-08-10 12:29:28,726 - pyscenic.transform - WARNING - Less than 80% of the genes in POU2F2 could be mapped to hg38__refseq-r80__500bp_up_and_100bp_down_tss.mc9nr.genes_vs_motifs.rankings. Skipping this module.\n"
     ]
    },
    {
     "name": "stdout",
     "output_type": "stream",
     "text": [
      "[                                        ] | 0% Completed | 39.44 s"
     ]
    },
    {
     "name": "stderr",
     "output_type": "stream",
     "text": [
      "\n",
      "2023-08-10 12:29:29,338 - pyscenic.transform - WARNING - Less than 80% of the genes in POU3F1 could be mapped to hg38__refseq-r80__500bp_up_and_100bp_down_tss.mc9nr.genes_vs_motifs.rankings. Skipping this module.\n",
      "\n",
      "2023-08-10 12:29:29,539 - pyscenic.transform - WARNING - Less than 80% of the genes in PRDM12 could be mapped to hg38__refseq-r80__500bp_up_and_100bp_down_tss.mc9nr.genes_vs_motifs.rankings. Skipping this module.\n"
     ]
    },
    {
     "name": "stdout",
     "output_type": "stream",
     "text": [
      "[                                        ] | 0% Completed | 44.52 s"
     ]
    },
    {
     "name": "stderr",
     "output_type": "stream",
     "text": [
      "\n",
      "2023-08-10 12:29:34,461 - pyscenic.transform - WARNING - Less than 80% of the genes in SNAI1 could be mapped to hg38__refseq-r80__500bp_up_and_100bp_down_tss.mc9nr.genes_vs_motifs.rankings. Skipping this module.\n",
      "\n",
      "2023-08-10 12:29:34,527 - pyscenic.transform - WARNING - Less than 80% of the genes in SNAI2 could be mapped to hg38__refseq-r80__500bp_up_and_100bp_down_tss.mc9nr.genes_vs_motifs.rankings. Skipping this module.\n"
     ]
    },
    {
     "name": "stdout",
     "output_type": "stream",
     "text": [
      "[                                        ] | 0% Completed | 45.85 s"
     ]
    },
    {
     "name": "stderr",
     "output_type": "stream",
     "text": [
      "\n",
      "2023-08-10 12:29:35,691 - pyscenic.transform - WARNING - Less than 80% of the genes in SOX8 could be mapped to hg38__refseq-r80__500bp_up_and_100bp_down_tss.mc9nr.genes_vs_motifs.rankings. Skipping this module.\n"
     ]
    },
    {
     "name": "stdout",
     "output_type": "stream",
     "text": [
      "[                                        ] | 0% Completed | 46.15 s"
     ]
    },
    {
     "name": "stderr",
     "output_type": "stream",
     "text": [
      "\n",
      "2023-08-10 12:29:36,077 - pyscenic.transform - WARNING - Less than 80% of the genes in SP8 could be mapped to hg38__refseq-r80__500bp_up_and_100bp_down_tss.mc9nr.genes_vs_motifs.rankings. Skipping this module.\n"
     ]
    },
    {
     "name": "stdout",
     "output_type": "stream",
     "text": [
      "[                                        ] | 0% Completed | 47.38 s"
     ]
    },
    {
     "name": "stderr",
     "output_type": "stream",
     "text": [
      "\n",
      "2023-08-10 12:29:37,248 - pyscenic.transform - WARNING - Less than 80% of the genes in Regulon for NANOS1 could be mapped to hg38__refseq-r80__10kb_up_and_down_tss.mc9nr.genes_vs_motifs.rankings. Skipping this module.\n"
     ]
    },
    {
     "name": "stdout",
     "output_type": "stream",
     "text": [
      "[                                        ] | 0% Completed | 48.70 s"
     ]
    },
    {
     "name": "stderr",
     "output_type": "stream",
     "text": [
      "\n",
      "2023-08-10 12:29:38,556 - pyscenic.transform - WARNING - Less than 80% of the genes in ZBTB7C could be mapped to hg38__refseq-r80__500bp_up_and_100bp_down_tss.mc9nr.genes_vs_motifs.rankings. Skipping this module.\n"
     ]
    },
    {
     "name": "stdout",
     "output_type": "stream",
     "text": [
      "[                                        ] | 0% Completed | 49.31 s"
     ]
    },
    {
     "name": "stderr",
     "output_type": "stream",
     "text": [
      "\n",
      "2023-08-10 12:29:39,167 - pyscenic.transform - WARNING - Less than 80% of the genes in ZNF385D could be mapped to hg38__refseq-r80__500bp_up_and_100bp_down_tss.mc9nr.genes_vs_motifs.rankings. Skipping this module.\n"
     ]
    },
    {
     "name": "stdout",
     "output_type": "stream",
     "text": [
      "[                                        ] | 0% Completed | 49.92 s"
     ]
    },
    {
     "name": "stderr",
     "output_type": "stream",
     "text": [
      "\n",
      "2023-08-10 12:29:39,812 - pyscenic.transform - WARNING - Less than 80% of the genes in ZNF90 could be mapped to hg38__refseq-r80__500bp_up_and_100bp_down_tss.mc9nr.genes_vs_motifs.rankings. Skipping this module.\n"
     ]
    },
    {
     "name": "stdout",
     "output_type": "stream",
     "text": [
      "[                                        ] | 0% Completed | 72.70 s"
     ]
    },
    {
     "name": "stderr",
     "output_type": "stream",
     "text": [
      "\n",
      "2023-08-10 12:30:02,551 - pyscenic.transform - WARNING - Less than 80% of the genes in ATF3 could be mapped to hg38__refseq-r80__10kb_up_and_down_tss.mc9nr.genes_vs_motifs.rankings. Skipping this module.\n"
     ]
    },
    {
     "name": "stdout",
     "output_type": "stream",
     "text": [
      "[                                        ] | 0% Completed | 74.53 s"
     ]
    },
    {
     "name": "stderr",
     "output_type": "stream",
     "text": [
      "\n",
      "2023-08-10 12:30:04,401 - pyscenic.transform - WARNING - Less than 80% of the genes in BARX1 could be mapped to hg38__refseq-r80__10kb_up_and_down_tss.mc9nr.genes_vs_motifs.rankings. Skipping this module.\n"
     ]
    },
    {
     "name": "stdout",
     "output_type": "stream",
     "text": [
      "[                                        ] | 0% Completed | 77.38 s"
     ]
    },
    {
     "name": "stderr",
     "output_type": "stream",
     "text": [
      "\n",
      "2023-08-10 12:30:07,321 - pyscenic.transform - WARNING - Less than 80% of the genes in CEBPD could be mapped to hg38__refseq-r80__10kb_up_and_down_tss.mc9nr.genes_vs_motifs.rankings. Skipping this module.\n"
     ]
    },
    {
     "name": "stdout",
     "output_type": "stream",
     "text": [
      "[                                        ] | 0% Completed | 90.60 s"
     ]
    },
    {
     "name": "stderr",
     "output_type": "stream",
     "text": [
      "\n",
      "2023-08-10 12:30:20,466 - pyscenic.transform - WARNING - Less than 80% of the genes in FOSB could be mapped to hg38__refseq-r80__10kb_up_and_down_tss.mc9nr.genes_vs_motifs.rankings. Skipping this module.\n",
      "\n",
      "2023-08-10 12:30:20,572 - pyscenic.transform - WARNING - Less than 80% of the genes in FOXL2 could be mapped to hg38__refseq-r80__10kb_up_and_down_tss.mc9nr.genes_vs_motifs.rankings. Skipping this module.\n"
     ]
    },
    {
     "name": "stdout",
     "output_type": "stream",
     "text": [
      "[                                        ] | 0% Completed | 94.06 s"
     ]
    },
    {
     "name": "stderr",
     "output_type": "stream",
     "text": [
      "\n",
      "2023-08-10 12:30:23,941 - pyscenic.transform - WARNING - Less than 80% of the genes in HES1 could be mapped to hg38__refseq-r80__10kb_up_and_down_tss.mc9nr.genes_vs_motifs.rankings. Skipping this module.\n"
     ]
    },
    {
     "name": "stdout",
     "output_type": "stream",
     "text": [
      "[                                        ] | 0% Completed | 94.57 s"
     ]
    },
    {
     "name": "stderr",
     "output_type": "stream",
     "text": [
      "\n",
      "2023-08-10 12:30:24,419 - pyscenic.transform - WARNING - Less than 80% of the genes in HHAT could be mapped to hg38__refseq-r80__10kb_up_and_down_tss.mc9nr.genes_vs_motifs.rankings. Skipping this module.\n",
      "\n",
      "2023-08-10 12:30:24,517 - pyscenic.transform - WARNING - Less than 80% of the genes in HIST1H2BN could be mapped to hg38__refseq-r80__10kb_up_and_down_tss.mc9nr.genes_vs_motifs.rankings. Skipping this module.\n"
     ]
    },
    {
     "name": "stdout",
     "output_type": "stream",
     "text": [
      "[                                        ] | 0% Completed | 94.98 s"
     ]
    },
    {
     "name": "stderr",
     "output_type": "stream",
     "text": [
      "\n",
      "2023-08-10 12:30:24,885 - pyscenic.transform - WARNING - Less than 80% of the genes in HTATIP2 could be mapped to hg38__refseq-r80__10kb_up_and_down_tss.mc9nr.genes_vs_motifs.rankings. Skipping this module.\n"
     ]
    },
    {
     "name": "stdout",
     "output_type": "stream",
     "text": [
      "[                                        ] | 0% Completed | 99.46 s"
     ]
    },
    {
     "name": "stderr",
     "output_type": "stream",
     "text": [
      "\n",
      "2023-08-10 12:30:29,350 - pyscenic.transform - WARNING - Less than 80% of the genes in KLF6 could be mapped to hg38__refseq-r80__10kb_up_and_down_tss.mc9nr.genes_vs_motifs.rankings. Skipping this module.\n"
     ]
    },
    {
     "name": "stdout",
     "output_type": "stream",
     "text": [
      "[                                        ] | 0% Completed | 102.71 s"
     ]
    },
    {
     "name": "stderr",
     "output_type": "stream",
     "text": [
      "\n",
      "2023-08-10 12:30:32,638 - pyscenic.transform - WARNING - Less than 80% of the genes in MSX1 could be mapped to hg38__refseq-r80__10kb_up_and_down_tss.mc9nr.genes_vs_motifs.rankings. Skipping this module.\n"
     ]
    },
    {
     "name": "stdout",
     "output_type": "stream",
     "text": [
      "[                                        ] | 0% Completed | 107.19 s"
     ]
    },
    {
     "name": "stderr",
     "output_type": "stream",
     "text": [
      "\n",
      "2023-08-10 12:30:37,037 - pyscenic.transform - WARNING - Less than 80% of the genes in NANOS1 could be mapped to hg38__refseq-r80__10kb_up_and_down_tss.mc9nr.genes_vs_motifs.rankings. Skipping this module.\n"
     ]
    },
    {
     "name": "stdout",
     "output_type": "stream",
     "text": [
      "[                                        ] | 0% Completed | 107.40 s"
     ]
    },
    {
     "name": "stderr",
     "output_type": "stream",
     "text": [
      "\n",
      "2023-08-10 12:30:37,327 - pyscenic.transform - WARNING - Less than 80% of the genes in NEUROG1 could be mapped to hg38__refseq-r80__10kb_up_and_down_tss.mc9nr.genes_vs_motifs.rankings. Skipping this module.\n"
     ]
    },
    {
     "name": "stdout",
     "output_type": "stream",
     "text": [
      "[                                        ] | 0% Completed | 107.80 s"
     ]
    },
    {
     "name": "stderr",
     "output_type": "stream",
     "text": [
      "\n",
      "2023-08-10 12:30:37,675 - pyscenic.transform - WARNING - Less than 80% of the genes in NKX2-5 could be mapped to hg38__refseq-r80__10kb_up_and_down_tss.mc9nr.genes_vs_motifs.rankings. Skipping this module.\n"
     ]
    },
    {
     "name": "stdout",
     "output_type": "stream",
     "text": [
      "[                                        ] | 0% Completed | 108.41 s"
     ]
    },
    {
     "name": "stderr",
     "output_type": "stream",
     "text": [
      "\n",
      "2023-08-10 12:30:38,335 - pyscenic.transform - WARNING - Less than 80% of the genes in NR4A2 could be mapped to hg38__refseq-r80__10kb_up_and_down_tss.mc9nr.genes_vs_motifs.rankings. Skipping this module.\n"
     ]
    },
    {
     "name": "stdout",
     "output_type": "stream",
     "text": [
      "[                                        ] | 0% Completed | 109.33 s"
     ]
    },
    {
     "name": "stderr",
     "output_type": "stream",
     "text": [
      "\n",
      "2023-08-10 12:30:39,169 - pyscenic.transform - WARNING - Less than 80% of the genes in PIR could be mapped to hg38__refseq-r80__10kb_up_and_down_tss.mc9nr.genes_vs_motifs.rankings. Skipping this module.\n"
     ]
    },
    {
     "name": "stdout",
     "output_type": "stream",
     "text": [
      "[                                        ] | 0% Completed | 110.04 s"
     ]
    },
    {
     "name": "stderr",
     "output_type": "stream",
     "text": [
      "\n",
      "2023-08-10 12:30:39,934 - pyscenic.transform - WARNING - Less than 80% of the genes in POU2F2 could be mapped to hg38__refseq-r80__10kb_up_and_down_tss.mc9nr.genes_vs_motifs.rankings. Skipping this module.\n"
     ]
    },
    {
     "name": "stdout",
     "output_type": "stream",
     "text": [
      "[                                        ] | 0% Completed | 110.75 s"
     ]
    },
    {
     "name": "stderr",
     "output_type": "stream",
     "text": [
      "\n",
      "2023-08-10 12:30:40,602 - pyscenic.transform - WARNING - Less than 80% of the genes in POU3F1 could be mapped to hg38__refseq-r80__10kb_up_and_down_tss.mc9nr.genes_vs_motifs.rankings. Skipping this module.\n"
     ]
    },
    {
     "name": "stdout",
     "output_type": "stream",
     "text": [
      "[                                        ] | 0% Completed | 110.95 s"
     ]
    },
    {
     "name": "stderr",
     "output_type": "stream",
     "text": [
      "\n",
      "2023-08-10 12:30:40,838 - pyscenic.transform - WARNING - Less than 80% of the genes in PRDM1 could be mapped to hg38__refseq-r80__10kb_up_and_down_tss.mc9nr.genes_vs_motifs.rankings. Skipping this module.\n"
     ]
    },
    {
     "name": "stdout",
     "output_type": "stream",
     "text": [
      "[                                        ] | 0% Completed | 115.94 s"
     ]
    },
    {
     "name": "stderr",
     "output_type": "stream",
     "text": [
      "\n",
      "2023-08-10 12:30:45,805 - pyscenic.transform - WARNING - Less than 80% of the genes in SNAI1 could be mapped to hg38__refseq-r80__10kb_up_and_down_tss.mc9nr.genes_vs_motifs.rankings. Skipping this module.\n",
      "\n",
      "2023-08-10 12:30:45,946 - pyscenic.transform - WARNING - Less than 80% of the genes in SNAI2 could be mapped to hg38__refseq-r80__10kb_up_and_down_tss.mc9nr.genes_vs_motifs.rankings. Skipping this module.\n"
     ]
    },
    {
     "name": "stdout",
     "output_type": "stream",
     "text": [
      "[                                        ] | 0% Completed | 116.34 s"
     ]
    },
    {
     "name": "stderr",
     "output_type": "stream",
     "text": [
      "\n",
      "2023-08-10 12:30:46,205 - pyscenic.transform - WARNING - Less than 80% of the genes in SOX4 could be mapped to hg38__refseq-r80__10kb_up_and_down_tss.mc9nr.genes_vs_motifs.rankings. Skipping this module.\n"
     ]
    },
    {
     "name": "stdout",
     "output_type": "stream",
     "text": [
      "[                                        ] | 0% Completed | 117.16 s"
     ]
    },
    {
     "name": "stderr",
     "output_type": "stream",
     "text": [
      "\n",
      "2023-08-10 12:30:47,048 - pyscenic.transform - WARNING - Less than 80% of the genes in SOX5 could be mapped to hg38__refseq-r80__10kb_up_and_down_tss.mc9nr.genes_vs_motifs.rankings. Skipping this module.\n"
     ]
    },
    {
     "name": "stdout",
     "output_type": "stream",
     "text": [
      "[                                        ] | 0% Completed | 117.87 s"
     ]
    },
    {
     "name": "stderr",
     "output_type": "stream",
     "text": [
      "\n",
      "2023-08-10 12:30:47,747 - pyscenic.transform - WARNING - Less than 80% of the genes in SOX8 could be mapped to hg38__refseq-r80__10kb_up_and_down_tss.mc9nr.genes_vs_motifs.rankings. Skipping this module.\n"
     ]
    },
    {
     "name": "stdout",
     "output_type": "stream",
     "text": [
      "[                                        ] | 0% Completed | 118.38 s"
     ]
    },
    {
     "name": "stderr",
     "output_type": "stream",
     "text": [
      "\n",
      "2023-08-10 12:30:48,308 - pyscenic.transform - WARNING - Less than 80% of the genes in TCEAL2 could be mapped to hg38__refseq-r80__10kb_up_and_down_tss.mc9nr.genes_vs_motifs.rankings. Skipping this module.\n",
      "\n",
      "2023-08-10 12:30:48,403 - pyscenic.transform - WARNING - Less than 80% of the genes in TFF3 could be mapped to hg38__refseq-r80__10kb_up_and_down_tss.mc9nr.genes_vs_motifs.rankings. Skipping this module.\n"
     ]
    },
    {
     "name": "stdout",
     "output_type": "stream",
     "text": [
      "[                                        ] | 0% Completed | 120.72 s"
     ]
    },
    {
     "name": "stderr",
     "output_type": "stream",
     "text": [
      "\n",
      "2023-08-10 12:30:50,610 - pyscenic.transform - WARNING - Less than 80% of the genes in ZNF536 could be mapped to hg38__refseq-r80__10kb_up_and_down_tss.mc9nr.genes_vs_motifs.rankings. Skipping this module.\n"
     ]
    },
    {
     "name": "stdout",
     "output_type": "stream",
     "text": [
      "[                                        ] | 0% Completed | 127.02 s"
     ]
    },
    {
     "name": "stderr",
     "output_type": "stream",
     "text": [
      "\n",
      "2023-08-10 12:30:56,912 - pyscenic.transform - WARNING - Less than 80% of the genes in CEBPD could be mapped to hg38__refseq-r80__10kb_up_and_down_tss.mc9nr.genes_vs_motifs.rankings. Skipping this module.\n"
     ]
    },
    {
     "name": "stdout",
     "output_type": "stream",
     "text": [
      "[                                        ] | 0% Completed | 140.96 s"
     ]
    },
    {
     "name": "stderr",
     "output_type": "stream",
     "text": [
      "\n",
      "2023-08-10 12:31:10,855 - pyscenic.transform - WARNING - Less than 80% of the genes in GATA3 could be mapped to hg38__refseq-r80__10kb_up_and_down_tss.mc9nr.genes_vs_motifs.rankings. Skipping this module.\n"
     ]
    },
    {
     "name": "stdout",
     "output_type": "stream",
     "text": [
      "[                                        ] | 0% Completed | 142.28 s"
     ]
    },
    {
     "name": "stderr",
     "output_type": "stream",
     "text": [
      "\n",
      "2023-08-10 12:31:12,130 - pyscenic.transform - WARNING - Less than 80% of the genes in HHAT could be mapped to hg38__refseq-r80__10kb_up_and_down_tss.mc9nr.genes_vs_motifs.rankings. Skipping this module.\n",
      "\n",
      "2023-08-10 12:31:12,237 - pyscenic.transform - WARNING - Less than 80% of the genes in HIST1H2BN could be mapped to hg38__refseq-r80__10kb_up_and_down_tss.mc9nr.genes_vs_motifs.rankings. Skipping this module.\n"
     ]
    },
    {
     "name": "stdout",
     "output_type": "stream",
     "text": [
      "[                                        ] | 0% Completed | 151.74 s"
     ]
    },
    {
     "name": "stderr",
     "output_type": "stream",
     "text": [
      "\n",
      "2023-08-10 12:31:21,629 - pyscenic.transform - WARNING - Less than 80% of the genes in MSX1 could be mapped to hg38__refseq-r80__10kb_up_and_down_tss.mc9nr.genes_vs_motifs.rankings. Skipping this module.\n"
     ]
    },
    {
     "name": "stdout",
     "output_type": "stream",
     "text": [
      "[                                        ] | 0% Completed | 151.94 s"
     ]
    },
    {
     "name": "stderr",
     "output_type": "stream",
     "text": [
      "\n",
      "2023-08-10 12:31:21,863 - pyscenic.transform - WARNING - Less than 80% of the genes in MYBL1 could be mapped to hg38__refseq-r80__10kb_up_and_down_tss.mc9nr.genes_vs_motifs.rankings. Skipping this module.\n"
     ]
    },
    {
     "name": "stdout",
     "output_type": "stream",
     "text": [
      "[                                        ] | 0% Completed | 156.21 s"
     ]
    },
    {
     "name": "stderr",
     "output_type": "stream",
     "text": [
      "\n",
      "2023-08-10 12:31:26,067 - pyscenic.transform - WARNING - Less than 80% of the genes in NANOS1 could be mapped to hg38__refseq-r80__10kb_up_and_down_tss.mc9nr.genes_vs_motifs.rankings. Skipping this module.\n"
     ]
    },
    {
     "name": "stdout",
     "output_type": "stream",
     "text": [
      "[                                        ] | 0% Completed | 157.33 s"
     ]
    },
    {
     "name": "stderr",
     "output_type": "stream",
     "text": [
      "\n",
      "2023-08-10 12:31:27,183 - pyscenic.transform - WARNING - Less than 80% of the genes in NR4A1 could be mapped to hg38__refseq-r80__10kb_up_and_down_tss.mc9nr.genes_vs_motifs.rankings. Skipping this module.\n",
      "\n",
      "2023-08-10 12:31:27,247 - pyscenic.transform - WARNING - Less than 80% of the genes in NR4A2 could be mapped to hg38__refseq-r80__10kb_up_and_down_tss.mc9nr.genes_vs_motifs.rankings. Skipping this module.\n"
     ]
    },
    {
     "name": "stdout",
     "output_type": "stream",
     "text": [
      "[                                        ] | 0% Completed | 158.45 s"
     ]
    },
    {
     "name": "stderr",
     "output_type": "stream",
     "text": [
      "\n",
      "2023-08-10 12:31:28,317 - pyscenic.transform - WARNING - Less than 80% of the genes in OLIG2 could be mapped to hg38__refseq-r80__10kb_up_and_down_tss.mc9nr.genes_vs_motifs.rankings. Skipping this module.\n"
     ]
    },
    {
     "name": "stdout",
     "output_type": "stream",
     "text": [
      "[                                        ] | 0% Completed | 159.87 s"
     ]
    },
    {
     "name": "stderr",
     "output_type": "stream",
     "text": [
      "\n",
      "2023-08-10 12:31:29,794 - pyscenic.transform - WARNING - Less than 80% of the genes in POU2F2 could be mapped to hg38__refseq-r80__10kb_up_and_down_tss.mc9nr.genes_vs_motifs.rankings. Skipping this module.\n"
     ]
    },
    {
     "name": "stdout",
     "output_type": "stream",
     "text": [
      "[                                        ] | 0% Completed | 160.48 s"
     ]
    },
    {
     "name": "stderr",
     "output_type": "stream",
     "text": [
      "\n",
      "2023-08-10 12:31:30,401 - pyscenic.transform - WARNING - Less than 80% of the genes in POU3F1 could be mapped to hg38__refseq-r80__10kb_up_and_down_tss.mc9nr.genes_vs_motifs.rankings. Skipping this module.\n",
      "\n",
      "2023-08-10 12:31:30,541 - pyscenic.transform - WARNING - Less than 80% of the genes in Regulon for NANOS1 could be mapped to hg38__refseq-r80__500bp_up_and_100bp_down_tss.mc9nr.genes_vs_motifs.rankings. Skipping this module.\n"
     ]
    },
    {
     "name": "stdout",
     "output_type": "stream",
     "text": [
      "[                                        ] | 0% Completed | 160.69 s"
     ]
    },
    {
     "name": "stderr",
     "output_type": "stream",
     "text": [
      "\n",
      "2023-08-10 12:31:30,606 - pyscenic.transform - WARNING - Less than 80% of the genes in PRDM12 could be mapped to hg38__refseq-r80__10kb_up_and_down_tss.mc9nr.genes_vs_motifs.rankings. Skipping this module.\n"
     ]
    },
    {
     "name": "stdout",
     "output_type": "stream",
     "text": [
      "[                                        ] | 0% Completed | 162.72 s"
     ]
    },
    {
     "name": "stderr",
     "output_type": "stream",
     "text": [
      "\n",
      "2023-08-10 12:31:32,659 - pyscenic.transform - WARNING - Less than 80% of the genes in SNAI1 could be mapped to hg38__refseq-r80__10kb_up_and_down_tss.mc9nr.genes_vs_motifs.rankings. Skipping this module.\n",
      "\n",
      "2023-08-10 12:31:32,730 - pyscenic.transform - WARNING - Less than 80% of the genes in SNAI2 could be mapped to hg38__refseq-r80__10kb_up_and_down_tss.mc9nr.genes_vs_motifs.rankings. Skipping this module.\n"
     ]
    },
    {
     "name": "stdout",
     "output_type": "stream",
     "text": [
      "[                                        ] | 0% Completed | 164.76 s"
     ]
    },
    {
     "name": "stderr",
     "output_type": "stream",
     "text": [
      "\n",
      "2023-08-10 12:31:34,665 - pyscenic.transform - WARNING - Less than 80% of the genes in SOX8 could be mapped to hg38__refseq-r80__10kb_up_and_down_tss.mc9nr.genes_vs_motifs.rankings. Skipping this module.\n"
     ]
    },
    {
     "name": "stdout",
     "output_type": "stream",
     "text": [
      "[                                        ] | 0% Completed | 165.67 s"
     ]
    },
    {
     "name": "stderr",
     "output_type": "stream",
     "text": [
      "\n",
      "2023-08-10 12:31:35,536 - pyscenic.transform - WARNING - Less than 80% of the genes in SP8 could be mapped to hg38__refseq-r80__10kb_up_and_down_tss.mc9nr.genes_vs_motifs.rankings. Skipping this module.\n"
     ]
    },
    {
     "name": "stdout",
     "output_type": "stream",
     "text": [
      "[                                        ] | 0% Completed | 167.71 s"
     ]
    },
    {
     "name": "stderr",
     "output_type": "stream",
     "text": [
      "\n",
      "2023-08-10 12:31:37,569 - pyscenic.transform - WARNING - Less than 80% of the genes in ZBTB7C could be mapped to hg38__refseq-r80__10kb_up_and_down_tss.mc9nr.genes_vs_motifs.rankings. Skipping this module.\n"
     ]
    },
    {
     "name": "stdout",
     "output_type": "stream",
     "text": [
      "[                                        ] | 0% Completed | 168.11 s"
     ]
    },
    {
     "name": "stderr",
     "output_type": "stream",
     "text": [
      "\n",
      "2023-08-10 12:31:38,043 - pyscenic.transform - WARNING - Less than 80% of the genes in ZNF385D could be mapped to hg38__refseq-r80__10kb_up_and_down_tss.mc9nr.genes_vs_motifs.rankings. Skipping this module.\n"
     ]
    },
    {
     "name": "stdout",
     "output_type": "stream",
     "text": [
      "[                                        ] | 0% Completed | 168.62 s"
     ]
    },
    {
     "name": "stderr",
     "output_type": "stream",
     "text": [
      "\n",
      "2023-08-10 12:31:38,554 - pyscenic.transform - WARNING - Less than 80% of the genes in ZNF90 could be mapped to hg38__refseq-r80__10kb_up_and_down_tss.mc9nr.genes_vs_motifs.rankings. Skipping this module.\n"
     ]
    },
    {
     "name": "stdout",
     "output_type": "stream",
     "text": [
      "[                                        ] | 0% Completed | 183.55 s"
     ]
    },
    {
     "name": "stderr",
     "output_type": "stream",
     "text": [
      "\n",
      "2023-08-10 12:31:53,488 - pyscenic.transform - WARNING - Less than 80% of the genes in ATF3 could be mapped to hg38__refseq-r80__500bp_up_and_100bp_down_tss.mc9nr.genes_vs_motifs.rankings. Skipping this module.\n"
     ]
    },
    {
     "name": "stdout",
     "output_type": "stream",
     "text": [
      "[                                        ] | 0% Completed | 185.49 s"
     ]
    },
    {
     "name": "stderr",
     "output_type": "stream",
     "text": [
      "\n",
      "2023-08-10 12:31:55,352 - pyscenic.transform - WARNING - Less than 80% of the genes in BARX1 could be mapped to hg38__refseq-r80__500bp_up_and_100bp_down_tss.mc9nr.genes_vs_motifs.rankings. Skipping this module.\n"
     ]
    },
    {
     "name": "stdout",
     "output_type": "stream",
     "text": [
      "[                                        ] | 0% Completed | 188.23 s"
     ]
    },
    {
     "name": "stderr",
     "output_type": "stream",
     "text": [
      "\n",
      "2023-08-10 12:31:58,132 - pyscenic.transform - WARNING - Less than 80% of the genes in CEBPD could be mapped to hg38__refseq-r80__500bp_up_and_100bp_down_tss.mc9nr.genes_vs_motifs.rankings. Skipping this module.\n"
     ]
    },
    {
     "name": "stdout",
     "output_type": "stream",
     "text": [
      "[                                        ] | 0% Completed | 195.76 s"
     ]
    },
    {
     "name": "stderr",
     "output_type": "stream",
     "text": [
      "\n",
      "2023-08-10 12:32:05,684 - pyscenic.transform - WARNING - Less than 80% of the genes in FOSB could be mapped to hg38__refseq-r80__500bp_up_and_100bp_down_tss.mc9nr.genes_vs_motifs.rankings. Skipping this module.\n",
      "\n",
      "2023-08-10 12:32:05,781 - pyscenic.transform - WARNING - Less than 80% of the genes in FOXL2 could be mapped to hg38__refseq-r80__500bp_up_and_100bp_down_tss.mc9nr.genes_vs_motifs.rankings. Skipping this module.\n"
     ]
    },
    {
     "name": "stdout",
     "output_type": "stream",
     "text": [
      "[                                        ] | 0% Completed | 197.18 s"
     ]
    },
    {
     "name": "stderr",
     "output_type": "stream",
     "text": [
      "\n",
      "2023-08-10 12:32:07,062 - pyscenic.transform - WARNING - Less than 80% of the genes in HES1 could be mapped to hg38__refseq-r80__500bp_up_and_100bp_down_tss.mc9nr.genes_vs_motifs.rankings. Skipping this module.\n"
     ]
    },
    {
     "name": "stdout",
     "output_type": "stream",
     "text": [
      "[                                        ] | 0% Completed | 197.59 s"
     ]
    },
    {
     "name": "stderr",
     "output_type": "stream",
     "text": [
      "\n",
      "2023-08-10 12:32:07,513 - pyscenic.transform - WARNING - Less than 80% of the genes in HHAT could be mapped to hg38__refseq-r80__500bp_up_and_100bp_down_tss.mc9nr.genes_vs_motifs.rankings. Skipping this module.\n",
      "\n",
      "2023-08-10 12:32:07,610 - pyscenic.transform - WARNING - Less than 80% of the genes in HIST1H2BN could be mapped to hg38__refseq-r80__500bp_up_and_100bp_down_tss.mc9nr.genes_vs_motifs.rankings. Skipping this module.\n"
     ]
    },
    {
     "name": "stdout",
     "output_type": "stream",
     "text": [
      "[                                        ] | 0% Completed | 198.10 s"
     ]
    },
    {
     "name": "stderr",
     "output_type": "stream",
     "text": [
      "\n",
      "2023-08-10 12:32:07,979 - pyscenic.transform - WARNING - Less than 80% of the genes in HTATIP2 could be mapped to hg38__refseq-r80__500bp_up_and_100bp_down_tss.mc9nr.genes_vs_motifs.rankings. Skipping this module.\n"
     ]
    },
    {
     "name": "stdout",
     "output_type": "stream",
     "text": [
      "[                                        ] | 0% Completed | 201.76 s"
     ]
    },
    {
     "name": "stderr",
     "output_type": "stream",
     "text": [
      "\n",
      "2023-08-10 12:32:11,663 - pyscenic.transform - WARNING - Less than 80% of the genes in KLF6 could be mapped to hg38__refseq-r80__500bp_up_and_100bp_down_tss.mc9nr.genes_vs_motifs.rankings. Skipping this module.\n"
     ]
    },
    {
     "name": "stdout",
     "output_type": "stream",
     "text": [
      "[                                        ] | 0% Completed | 205.01 s"
     ]
    },
    {
     "name": "stderr",
     "output_type": "stream",
     "text": [
      "\n",
      "2023-08-10 12:32:14,901 - pyscenic.transform - WARNING - Less than 80% of the genes in MSX1 could be mapped to hg38__refseq-r80__500bp_up_and_100bp_down_tss.mc9nr.genes_vs_motifs.rankings. Skipping this module.\n"
     ]
    },
    {
     "name": "stdout",
     "output_type": "stream",
     "text": [
      "[                                        ] | 0% Completed | 209.69 s"
     ]
    },
    {
     "name": "stderr",
     "output_type": "stream",
     "text": [
      "\n",
      "2023-08-10 12:32:19,542 - pyscenic.transform - WARNING - Less than 80% of the genes in NANOS1 could be mapped to hg38__refseq-r80__500bp_up_and_100bp_down_tss.mc9nr.genes_vs_motifs.rankings. Skipping this module.\n"
     ]
    },
    {
     "name": "stdout",
     "output_type": "stream",
     "text": [
      "[                                        ] | 0% Completed | 209.89 s"
     ]
    },
    {
     "name": "stderr",
     "output_type": "stream",
     "text": [
      "\n",
      "2023-08-10 12:32:19,814 - pyscenic.transform - WARNING - Less than 80% of the genes in NEUROG1 could be mapped to hg38__refseq-r80__500bp_up_and_100bp_down_tss.mc9nr.genes_vs_motifs.rankings. Skipping this module.\n"
     ]
    },
    {
     "name": "stdout",
     "output_type": "stream",
     "text": [
      "[                                        ] | 0% Completed | 210.30 s"
     ]
    },
    {
     "name": "stderr",
     "output_type": "stream",
     "text": [
      "\n",
      "2023-08-10 12:32:20,154 - pyscenic.transform - WARNING - Less than 80% of the genes in NKX2-5 could be mapped to hg38__refseq-r80__500bp_up_and_100bp_down_tss.mc9nr.genes_vs_motifs.rankings. Skipping this module.\n"
     ]
    },
    {
     "name": "stdout",
     "output_type": "stream",
     "text": [
      "[                                        ] | 0% Completed | 211.82 s"
     ]
    },
    {
     "name": "stderr",
     "output_type": "stream",
     "text": [
      "\n",
      "2023-08-10 12:32:21,670 - pyscenic.transform - WARNING - Less than 80% of the genes in NR4A2 could be mapped to hg38__refseq-r80__500bp_up_and_100bp_down_tss.mc9nr.genes_vs_motifs.rankings. Skipping this module.\n"
     ]
    },
    {
     "name": "stdout",
     "output_type": "stream",
     "text": [
      "[                                        ] | 0% Completed | 213.55 s"
     ]
    },
    {
     "name": "stderr",
     "output_type": "stream",
     "text": [
      "\n",
      "2023-08-10 12:32:23,456 - pyscenic.transform - WARNING - Less than 80% of the genes in PIR could be mapped to hg38__refseq-r80__500bp_up_and_100bp_down_tss.mc9nr.genes_vs_motifs.rankings. Skipping this module.\n"
     ]
    },
    {
     "name": "stdout",
     "output_type": "stream",
     "text": [
      "[                                        ] | 0% Completed | 214.77 s"
     ]
    },
    {
     "name": "stderr",
     "output_type": "stream",
     "text": [
      "\n",
      "2023-08-10 12:32:24,628 - pyscenic.transform - WARNING - Less than 80% of the genes in POU2F2 could be mapped to hg38__refseq-r80__500bp_up_and_100bp_down_tss.mc9nr.genes_vs_motifs.rankings. Skipping this module.\n",
      "\n",
      "2023-08-10 12:32:24,727 - pyscenic.transform - WARNING - Less than 80% of the genes in POU3F1 could be mapped to hg38__refseq-r80__500bp_up_and_100bp_down_tss.mc9nr.genes_vs_motifs.rankings. Skipping this module.\n"
     ]
    },
    {
     "name": "stdout",
     "output_type": "stream",
     "text": [
      "[                                        ] | 0% Completed | 215.08 s"
     ]
    },
    {
     "name": "stderr",
     "output_type": "stream",
     "text": [
      "\n",
      "2023-08-10 12:32:24,941 - pyscenic.transform - WARNING - Less than 80% of the genes in PRDM1 could be mapped to hg38__refseq-r80__500bp_up_and_100bp_down_tss.mc9nr.genes_vs_motifs.rankings. Skipping this module.\n"
     ]
    },
    {
     "name": "stdout",
     "output_type": "stream",
     "text": [
      "[                                        ] | 0% Completed | 217.32 s"
     ]
    },
    {
     "name": "stderr",
     "output_type": "stream",
     "text": [
      "\n",
      "2023-08-10 12:32:27,217 - pyscenic.transform - WARNING - Less than 80% of the genes in SNAI1 could be mapped to hg38__refseq-r80__500bp_up_and_100bp_down_tss.mc9nr.genes_vs_motifs.rankings. Skipping this module.\n",
      "\n",
      "2023-08-10 12:32:27,320 - pyscenic.transform - WARNING - Less than 80% of the genes in SNAI2 could be mapped to hg38__refseq-r80__500bp_up_and_100bp_down_tss.mc9nr.genes_vs_motifs.rankings. Skipping this module.\n"
     ]
    },
    {
     "name": "stdout",
     "output_type": "stream",
     "text": [
      "[                                        ] | 0% Completed | 217.62 s"
     ]
    },
    {
     "name": "stderr",
     "output_type": "stream",
     "text": [
      "\n",
      "2023-08-10 12:32:27,502 - pyscenic.transform - WARNING - Less than 80% of the genes in SOX4 could be mapped to hg38__refseq-r80__500bp_up_and_100bp_down_tss.mc9nr.genes_vs_motifs.rankings. Skipping this module.\n",
      "\n",
      "2023-08-10 12:32:27,596 - pyscenic.transform - WARNING - Less than 80% of the genes in SOX5 could be mapped to hg38__refseq-r80__500bp_up_and_100bp_down_tss.mc9nr.genes_vs_motifs.rankings. Skipping this module.\n"
     ]
    },
    {
     "name": "stdout",
     "output_type": "stream",
     "text": [
      "[                                        ] | 0% Completed | 218.33 s"
     ]
    },
    {
     "name": "stderr",
     "output_type": "stream",
     "text": [
      "\n",
      "2023-08-10 12:32:28,232 - pyscenic.transform - WARNING - Less than 80% of the genes in SOX8 could be mapped to hg38__refseq-r80__500bp_up_and_100bp_down_tss.mc9nr.genes_vs_motifs.rankings. Skipping this module.\n"
     ]
    },
    {
     "name": "stdout",
     "output_type": "stream",
     "text": [
      "[                                        ] | 0% Completed | 218.84 s"
     ]
    },
    {
     "name": "stderr",
     "output_type": "stream",
     "text": [
      "\n",
      "2023-08-10 12:32:28,768 - pyscenic.transform - WARNING - Less than 80% of the genes in TCEAL2 could be mapped to hg38__refseq-r80__500bp_up_and_100bp_down_tss.mc9nr.genes_vs_motifs.rankings. Skipping this module.\n"
     ]
    },
    {
     "name": "stdout",
     "output_type": "stream",
     "text": [
      "[                                        ] | 0% Completed | 219.45 s"
     ]
    },
    {
     "name": "stderr",
     "output_type": "stream",
     "text": [
      "\n",
      "2023-08-10 12:32:29,391 - pyscenic.transform - WARNING - Less than 80% of the genes in TFF3 could be mapped to hg38__refseq-r80__500bp_up_and_100bp_down_tss.mc9nr.genes_vs_motifs.rankings. Skipping this module.\n"
     ]
    },
    {
     "name": "stdout",
     "output_type": "stream",
     "text": [
      "[                                        ] | 0% Completed | 221.69 s"
     ]
    },
    {
     "name": "stderr",
     "output_type": "stream",
     "text": [
      "\n",
      "2023-08-10 12:32:31,562 - pyscenic.transform - WARNING - Less than 80% of the genes in ZNF536 could be mapped to hg38__refseq-r80__500bp_up_and_100bp_down_tss.mc9nr.genes_vs_motifs.rankings. Skipping this module.\n"
     ]
    },
    {
     "name": "stdout",
     "output_type": "stream",
     "text": [
      "[                                        ] | 0% Completed | 225.25 s"
     ]
    },
    {
     "name": "stderr",
     "output_type": "stream",
     "text": [
      "\n",
      "2023-08-10 12:32:35,185 - pyscenic.transform - WARNING - Less than 80% of the genes in CEBPD could be mapped to hg38__refseq-r80__500bp_up_and_100bp_down_tss.mc9nr.genes_vs_motifs.rankings. Skipping this module.\n"
     ]
    },
    {
     "name": "stdout",
     "output_type": "stream",
     "text": [
      "[########################################] | 100% Completed | 232.00 s\n",
      "\n",
      "COMPLETED WRITING ENRICHED MOTIFS /home/linl5/project/SCLC/data/lx33/lx33.UTTU.0.66.motifs.csv \n",
      "\n",
      "                                                   Enrichment            \\\n",
      "                                                          AUC       NES   \n",
      "TF   MotifID                                                              \n",
      "ATF3 taipale_cyt_meth__CREM_NRTGAYGTCAYN_eDBD_meth   0.090750  3.068023   \n",
      "     cisbp__M3088                                    0.094489  3.317156   \n",
      "     taipale__ATF4_DBD_NNATGAYGCAATN                 0.090975  3.083038   \n",
      "     cisbp__M5292                                    0.091564  3.122243   \n",
      "     cisbp__M0300                                    0.095490  3.383888   \n",
      "\n",
      "                                                                          \\\n",
      "                                                   MotifSimilarityQvalue   \n",
      "TF   MotifID                                                               \n",
      "ATF3 taipale_cyt_meth__CREM_NRTGAYGTCAYN_eDBD_meth              0.000617   \n",
      "     cisbp__M3088                                               0.000532   \n",
      "     taipale__ATF4_DBD_NNATGAYGCAATN                            0.000447   \n",
      "     cisbp__M5292                                               0.000352   \n",
      "     cisbp__M0300                                               0.000128   \n",
      "\n",
      "                                                                        \\\n",
      "                                                   OrthologousIdentity   \n",
      "TF   MotifID                                                             \n",
      "ATF3 taipale_cyt_meth__CREM_NRTGAYGTCAYN_eDBD_meth                 1.0   \n",
      "     cisbp__M3088                                                  1.0   \n",
      "     taipale__ATF4_DBD_NNATGAYGCAATN                               1.0   \n",
      "     cisbp__M5292                                                  1.0   \n",
      "     cisbp__M0300                                                  1.0   \n",
      "\n",
      "                                                                                                       \\\n",
      "                                                                                           Annotation   \n",
      "TF   MotifID                                                                                            \n",
      "ATF3 taipale_cyt_meth__CREM_NRTGAYGTCAYN_eDBD_meth  gene is annotated for similar motif taipale_cy...   \n",
      "     cisbp__M3088                                   gene is annotated for similar motif transfac_p...   \n",
      "     taipale__ATF4_DBD_NNATGAYGCAATN                motif similar to factorbook__CREB ('CREB'; q-v...   \n",
      "     cisbp__M5292                                   motif similar to factorbook__CREB ('CREB'; q-v...   \n",
      "     cisbp__M0300                                   motif similar to transfac_pro__M00981 ('V$CREB...   \n",
      "\n",
      "                                                                                                       \\\n",
      "                                                                                              Context   \n",
      "TF   MotifID                                                                                            \n",
      "ATF3 taipale_cyt_meth__CREM_NRTGAYGTCAYN_eDBD_meth  (activating, hg38__refseq-r80__10kb_up_and_dow...   \n",
      "     cisbp__M3088                                   (activating, hg38__refseq-r80__10kb_up_and_dow...   \n",
      "     taipale__ATF4_DBD_NNATGAYGCAATN                (activating, hg38__refseq-r80__10kb_up_and_dow...   \n",
      "     cisbp__M5292                                   (activating, hg38__refseq-r80__10kb_up_and_dow...   \n",
      "     cisbp__M0300                                   (activating, hg38__refseq-r80__10kb_up_and_dow...   \n",
      "\n",
      "                                                                                                       \\\n",
      "                                                                                          TargetGenes   \n",
      "TF   MotifID                                                                                            \n",
      "ATF3 taipale_cyt_meth__CREM_NRTGAYGTCAYN_eDBD_meth  [(MYL1, 1.6849048298656433), (SVIL, 1.28564573...   \n",
      "     cisbp__M3088                                   [(KLHL41, 1.9427092021943488), (SVIL, 1.285645...   \n",
      "     taipale__ATF4_DBD_NNATGAYGCAATN                [(CREB5, 3.846415903957535), (JUN, 12.19722234...   \n",
      "     cisbp__M5292                                   [(CREB5, 3.846415903957535), (DUSP1, 11.978894...   \n",
      "     cisbp__M0300                                   [(CREB5, 3.846415903957535), (DUSP8, 2.2986230...   \n",
      "\n",
      "                                                              \n",
      "                                                   RankAtMax  \n",
      "TF   MotifID                                                  \n",
      "ATF3 taipale_cyt_meth__CREM_NRTGAYGTCAYN_eDBD_meth      1140  \n",
      "     cisbp__M3088                                       1146  \n",
      "     taipale__ATF4_DBD_NNATGAYGCAATN                     772  \n",
      "     cisbp__M5292                                       1187  \n",
      "     cisbp__M0300                                        852  \n",
      "Create regulons from a dataframe of enriched features.\n",
      "Additional columns saved: []\n",
      "\n",
      "COMPLETED WRITING DISCOVERED REGULON /home/linl5/project/SCLC/data/lx33/lx33.UTTU.0.66.regulons.p \n",
      "\n",
      "\n",
      "FINISHED READING ADJACENCIES FILE /home/linl5/project/SCLC/data/lx33/lx33.UU.0.66.adjacencies.tsv \n",
      "\n"
     ]
    },
    {
     "name": "stderr",
     "output_type": "stream",
     "text": [
      "\n",
      "2023-08-10 12:32:45,415 - pyscenic.utils - INFO - Calculating Pearson correlations.\n",
      "\n",
      "2023-08-10 12:32:45,432 - pyscenic.utils - WARNING - Note on correlation calculation: the default behaviour for calculating the correlations has changed after pySCENIC verion 0.9.16. Previously, the default was to calculate the correlation between a TF and target gene using only cells with non-zero expression values (mask_dropouts=True). The current default is now to use all cells to match the behavior of the R verision of SCENIC. The original settings can be retained by setting 'rho_mask_dropouts=True' in the modules_from_adjacencies function, or '--mask_dropouts' from the CLI.\n",
      "\tDropout masking is currently set to [False].\n"
     ]
    },
    {
     "name": "stdout",
     "output_type": "stream",
     "text": [
      "\n",
      "FINISHED READING EXPRESSION MATRIX /home/linl5/project/SCLC/results/lx33/lx33.UU.0.66.qc.tpm.csv \n",
      "\n"
     ]
    },
    {
     "name": "stderr",
     "output_type": "stream",
     "text": [
      "\n",
      "2023-08-10 12:32:46,377 - pyscenic.utils - INFO - Creating modules.\n"
     ]
    },
    {
     "name": "stdout",
     "output_type": "stream",
     "text": [
      "\n",
      "COMPLETED COEXPRESSION MODULE WRITING: /home/linl5/project/SCLC/data/lx33/lx33.UU.0.66.modules.p \n",
      "\n",
      "[                                        ] | 0% Completed | 15.08 sms"
     ]
    },
    {
     "name": "stderr",
     "output_type": "stream",
     "text": [
      "\n",
      "2023-08-10 12:33:08,559 - pyscenic.transform - WARNING - Less than 80% of the genes in HIST1H2BN could be mapped to hg38__refseq-r80__500bp_up_and_100bp_down_tss.mc9nr.genes_vs_motifs.rankings. Skipping this module.\n"
     ]
    },
    {
     "name": "stdout",
     "output_type": "stream",
     "text": [
      "[                                        ] | 0% Completed | 16.30 s"
     ]
    },
    {
     "name": "stderr",
     "output_type": "stream",
     "text": [
      "\n",
      "2023-08-10 12:33:09,746 - pyscenic.transform - WARNING - Less than 80% of the genes in INSM2 could be mapped to hg38__refseq-r80__500bp_up_and_100bp_down_tss.mc9nr.genes_vs_motifs.rankings. Skipping this module.\n"
     ]
    },
    {
     "name": "stdout",
     "output_type": "stream",
     "text": [
      "[                                        ] | 0% Completed | 16.60 s"
     ]
    },
    {
     "name": "stderr",
     "output_type": "stream",
     "text": [
      "\n",
      "2023-08-10 12:33:10,087 - pyscenic.transform - WARNING - Less than 80% of the genes in ISL1 could be mapped to hg38__refseq-r80__500bp_up_and_100bp_down_tss.mc9nr.genes_vs_motifs.rankings. Skipping this module.\n"
     ]
    },
    {
     "name": "stdout",
     "output_type": "stream",
     "text": [
      "[                                        ] | 0% Completed | 18.23 s"
     ]
    },
    {
     "name": "stderr",
     "output_type": "stream",
     "text": [
      "\n",
      "2023-08-10 12:33:11,728 - pyscenic.transform - WARNING - Less than 80% of the genes in LTF could be mapped to hg38__refseq-r80__500bp_up_and_100bp_down_tss.mc9nr.genes_vs_motifs.rankings. Skipping this module.\n"
     ]
    },
    {
     "name": "stdout",
     "output_type": "stream",
     "text": [
      "[                                        ] | 0% Completed | 19.25 s"
     ]
    },
    {
     "name": "stderr",
     "output_type": "stream",
     "text": [
      "\n",
      "2023-08-10 12:33:12,734 - pyscenic.transform - WARNING - Less than 80% of the genes in MSX1 could be mapped to hg38__refseq-r80__500bp_up_and_100bp_down_tss.mc9nr.genes_vs_motifs.rankings. Skipping this module.\n"
     ]
    },
    {
     "name": "stdout",
     "output_type": "stream",
     "text": [
      "[                                        ] | 0% Completed | 20.06 s"
     ]
    },
    {
     "name": "stderr",
     "output_type": "stream",
     "text": [
      "\n",
      "2023-08-10 12:33:13,542 - pyscenic.transform - WARNING - Less than 80% of the genes in MYBL1 could be mapped to hg38__refseq-r80__500bp_up_and_100bp_down_tss.mc9nr.genes_vs_motifs.rankings. Skipping this module.\n"
     ]
    },
    {
     "name": "stdout",
     "output_type": "stream",
     "text": [
      "[                                        ] | 0% Completed | 25.55 s"
     ]
    },
    {
     "name": "stderr",
     "output_type": "stream",
     "text": [
      "\n",
      "2023-08-10 12:33:19,062 - pyscenic.transform - WARNING - Less than 80% of the genes in NEUROG1 could be mapped to hg38__refseq-r80__500bp_up_and_100bp_down_tss.mc9nr.genes_vs_motifs.rankings. Skipping this module.\n"
     ]
    },
    {
     "name": "stdout",
     "output_type": "stream",
     "text": [
      "[                                        ] | 0% Completed | 25.96 s"
     ]
    },
    {
     "name": "stderr",
     "output_type": "stream",
     "text": [
      "\n",
      "2023-08-10 12:33:19,429 - pyscenic.transform - WARNING - Less than 80% of the genes in NKX2-5 could be mapped to hg38__refseq-r80__500bp_up_and_100bp_down_tss.mc9nr.genes_vs_motifs.rankings. Skipping this module.\n"
     ]
    },
    {
     "name": "stdout",
     "output_type": "stream",
     "text": [
      "[                                        ] | 0% Completed | 28.20 s"
     ]
    },
    {
     "name": "stderr",
     "output_type": "stream",
     "text": [
      "\n",
      "2023-08-10 12:33:21,655 - pyscenic.transform - WARNING - Less than 80% of the genes in NR4A2 could be mapped to hg38__refseq-r80__500bp_up_and_100bp_down_tss.mc9nr.genes_vs_motifs.rankings. Skipping this module.\n",
      "\n",
      "2023-08-10 12:33:21,706 - pyscenic.transform - WARNING - Less than 80% of the genes in NR4A3 could be mapped to hg38__refseq-r80__500bp_up_and_100bp_down_tss.mc9nr.genes_vs_motifs.rankings. Skipping this module.\n"
     ]
    },
    {
     "name": "stdout",
     "output_type": "stream",
     "text": [
      "[                                        ] | 0% Completed | 28.50 s"
     ]
    },
    {
     "name": "stderr",
     "output_type": "stream",
     "text": [
      "\n",
      "2023-08-10 12:33:22,008 - pyscenic.transform - WARNING - Less than 80% of the genes in OLIG2 could be mapped to hg38__refseq-r80__500bp_up_and_100bp_down_tss.mc9nr.genes_vs_motifs.rankings. Skipping this module.\n"
     ]
    },
    {
     "name": "stdout",
     "output_type": "stream",
     "text": [
      "[                                        ] | 0% Completed | 31.15 s"
     ]
    },
    {
     "name": "stderr",
     "output_type": "stream",
     "text": [
      "\n",
      "2023-08-10 12:33:24,564 - pyscenic.transform - WARNING - Less than 80% of the genes in PRRX1 could be mapped to hg38__refseq-r80__500bp_up_and_100bp_down_tss.mc9nr.genes_vs_motifs.rankings. Skipping this module.\n"
     ]
    },
    {
     "name": "stdout",
     "output_type": "stream",
     "text": [
      "[                                        ] | 0% Completed | 35.52 s"
     ]
    },
    {
     "name": "stderr",
     "output_type": "stream",
     "text": [
      "\n",
      "2023-08-10 12:33:28,996 - pyscenic.transform - WARNING - Less than 80% of the genes in Regulon for IKZF3 could be mapped to hg38__refseq-r80__500bp_up_and_100bp_down_tss.mc9nr.genes_vs_motifs.rankings. Skipping this module.\n"
     ]
    },
    {
     "name": "stdout",
     "output_type": "stream",
     "text": [
      "[                                        ] | 0% Completed | 38.47 s"
     ]
    },
    {
     "name": "stderr",
     "output_type": "stream",
     "text": [
      "\n",
      "2023-08-10 12:33:31,925 - pyscenic.transform - WARNING - Less than 80% of the genes in TWIST1 could be mapped to hg38__refseq-r80__500bp_up_and_100bp_down_tss.mc9nr.genes_vs_motifs.rankings. Skipping this module.\n"
     ]
    },
    {
     "name": "stdout",
     "output_type": "stream",
     "text": [
      "[                                        ] | 0% Completed | 39.89 s"
     ]
    },
    {
     "name": "stderr",
     "output_type": "stream",
     "text": [
      "\n",
      "2023-08-10 12:33:33,343 - pyscenic.transform - WARNING - Less than 80% of the genes in ZNF556 could be mapped to hg38__refseq-r80__500bp_up_and_100bp_down_tss.mc9nr.genes_vs_motifs.rankings. Skipping this module.\n"
     ]
    },
    {
     "name": "stdout",
     "output_type": "stream",
     "text": [
      "[                                        ] | 0% Completed | 62.67 s"
     ]
    },
    {
     "name": "stderr",
     "output_type": "stream",
     "text": [
      "\n",
      "2023-08-10 12:33:56,143 - pyscenic.transform - WARNING - Less than 80% of the genes in BHLHE41 could be mapped to hg38__refseq-r80__10kb_up_and_down_tss.mc9nr.genes_vs_motifs.rankings. Skipping this module.\n"
     ]
    },
    {
     "name": "stdout",
     "output_type": "stream",
     "text": [
      "[                                        ] | 0% Completed | 64.60 s"
     ]
    },
    {
     "name": "stderr",
     "output_type": "stream",
     "text": [
      "\n",
      "2023-08-10 12:33:58,014 - pyscenic.transform - WARNING - Less than 80% of the genes in CREB5 could be mapped to hg38__refseq-r80__10kb_up_and_down_tss.mc9nr.genes_vs_motifs.rankings. Skipping this module.\n"
     ]
    },
    {
     "name": "stdout",
     "output_type": "stream",
     "text": [
      "[                                        ] | 0% Completed | 78.22 s"
     ]
    },
    {
     "name": "stderr",
     "output_type": "stream",
     "text": [
      "\n",
      "2023-08-10 12:34:11,645 - pyscenic.transform - WARNING - Less than 80% of the genes in HIST1H2BN could be mapped to hg38__refseq-r80__10kb_up_and_down_tss.mc9nr.genes_vs_motifs.rankings. Skipping this module.\n"
     ]
    },
    {
     "name": "stdout",
     "output_type": "stream",
     "text": [
      "[                                        ] | 0% Completed | 78.43 s"
     ]
    },
    {
     "name": "stderr",
     "output_type": "stream",
     "text": [
      "\n",
      "2023-08-10 12:34:11,922 - pyscenic.transform - WARNING - Less than 80% of the genes in HSPA5 could be mapped to hg38__refseq-r80__10kb_up_and_down_tss.mc9nr.genes_vs_motifs.rankings. Skipping this module.\n"
     ]
    },
    {
     "name": "stdout",
     "output_type": "stream",
     "text": [
      "[                                        ] | 0% Completed | 78.83 s"
     ]
    },
    {
     "name": "stderr",
     "output_type": "stream",
     "text": [
      "\n",
      "2023-08-10 12:34:12,250 - pyscenic.transform - WARNING - Less than 80% of the genes in ID2 could be mapped to hg38__refseq-r80__10kb_up_and_down_tss.mc9nr.genes_vs_motifs.rankings. Skipping this module.\n"
     ]
    },
    {
     "name": "stdout",
     "output_type": "stream",
     "text": [
      "[                                        ] | 0% Completed | 79.14 s"
     ]
    },
    {
     "name": "stderr",
     "output_type": "stream",
     "text": [
      "\n",
      "2023-08-10 12:34:12,571 - pyscenic.transform - WARNING - Less than 80% of the genes in INSM2 could be mapped to hg38__refseq-r80__10kb_up_and_down_tss.mc9nr.genes_vs_motifs.rankings. Skipping this module.\n",
      "\n",
      "2023-08-10 12:34:12,634 - pyscenic.transform - WARNING - Less than 80% of the genes in ISL1 could be mapped to hg38__refseq-r80__10kb_up_and_down_tss.mc9nr.genes_vs_motifs.rankings. Skipping this module.\n"
     ]
    },
    {
     "name": "stdout",
     "output_type": "stream",
     "text": [
      "[                                        ] | 0% Completed | 86.16 s"
     ]
    },
    {
     "name": "stderr",
     "output_type": "stream",
     "text": [
      "\n",
      "2023-08-10 12:34:19,570 - pyscenic.transform - WARNING - Less than 80% of the genes in MSX1 could be mapped to hg38__refseq-r80__10kb_up_and_down_tss.mc9nr.genes_vs_motifs.rankings. Skipping this module.\n"
     ]
    },
    {
     "name": "stdout",
     "output_type": "stream",
     "text": [
      "[                                        ] | 0% Completed | 90.23 s"
     ]
    },
    {
     "name": "stderr",
     "output_type": "stream",
     "text": [
      "\n",
      "2023-08-10 12:34:23,665 - pyscenic.transform - WARNING - Less than 80% of the genes in NANOS1 could be mapped to hg38__refseq-r80__10kb_up_and_down_tss.mc9nr.genes_vs_motifs.rankings. Skipping this module.\n"
     ]
    },
    {
     "name": "stdout",
     "output_type": "stream",
     "text": [
      "[                                        ] | 0% Completed | 90.43 s"
     ]
    },
    {
     "name": "stderr",
     "output_type": "stream",
     "text": [
      "\n",
      "2023-08-10 12:34:23,916 - pyscenic.transform - WARNING - Less than 80% of the genes in NEUROG1 could be mapped to hg38__refseq-r80__10kb_up_and_down_tss.mc9nr.genes_vs_motifs.rankings. Skipping this module.\n"
     ]
    },
    {
     "name": "stdout",
     "output_type": "stream",
     "text": [
      "[                                        ] | 0% Completed | 96.84 s"
     ]
    },
    {
     "name": "stderr",
     "output_type": "stream",
     "text": [
      "\n",
      "2023-08-10 12:34:30,261 - pyscenic.transform - WARNING - Less than 80% of the genes in RBFOX2 could be mapped to hg38__refseq-r80__10kb_up_and_down_tss.mc9nr.genes_vs_motifs.rankings. Skipping this module.\n"
     ]
    },
    {
     "name": "stdout",
     "output_type": "stream",
     "text": [
      "[                                        ] | 0% Completed | 98.77 s"
     ]
    },
    {
     "name": "stderr",
     "output_type": "stream",
     "text": [
      "\n",
      "2023-08-10 12:34:32,228 - pyscenic.transform - WARNING - Less than 80% of the genes in SHOX2 could be mapped to hg38__refseq-r80__10kb_up_and_down_tss.mc9nr.genes_vs_motifs.rankings. Skipping this module.\n"
     ]
    },
    {
     "name": "stdout",
     "output_type": "stream",
     "text": [
      "[                                        ] | 0% Completed | 98.97 s"
     ]
    },
    {
     "name": "stderr",
     "output_type": "stream",
     "text": [
      "\n",
      "2023-08-10 12:34:32,439 - pyscenic.transform - WARNING - Less than 80% of the genes in SIX1 could be mapped to hg38__refseq-r80__10kb_up_and_down_tss.mc9nr.genes_vs_motifs.rankings. Skipping this module.\n"
     ]
    },
    {
     "name": "stdout",
     "output_type": "stream",
     "text": [
      "[                                        ] | 0% Completed | 104.87 s"
     ]
    },
    {
     "name": "stderr",
     "output_type": "stream",
     "text": [
      "\n",
      "2023-08-10 12:34:38,313 - pyscenic.transform - WARNING - Less than 80% of the genes in SPDEF could be mapped to hg38__refseq-r80__10kb_up_and_down_tss.mc9nr.genes_vs_motifs.rankings. Skipping this module.\n"
     ]
    },
    {
     "name": "stdout",
     "output_type": "stream",
     "text": [
      "[                                        ] | 0% Completed | 107.51 s"
     ]
    },
    {
     "name": "stderr",
     "output_type": "stream",
     "text": [
      "\n",
      "2023-08-10 12:34:40,941 - pyscenic.transform - WARNING - Less than 80% of the genes in TWIST1 could be mapped to hg38__refseq-r80__10kb_up_and_down_tss.mc9nr.genes_vs_motifs.rankings. Skipping this module.\n"
     ]
    },
    {
     "name": "stdout",
     "output_type": "stream",
     "text": [
      "[                                        ] | 0% Completed | 108.02 s"
     ]
    },
    {
     "name": "stderr",
     "output_type": "stream",
     "text": [
      "\n",
      "2023-08-10 12:34:41,475 - pyscenic.transform - WARNING - Less than 80% of the genes in ZNF385A could be mapped to hg38__refseq-r80__10kb_up_and_down_tss.mc9nr.genes_vs_motifs.rankings. Skipping this module.\n"
     ]
    },
    {
     "name": "stdout",
     "output_type": "stream",
     "text": [
      "[                                        ] | 0% Completed | 108.74 s"
     ]
    },
    {
     "name": "stderr",
     "output_type": "stream",
     "text": [
      "\n",
      "2023-08-10 12:34:42,185 - pyscenic.transform - WARNING - Less than 80% of the genes in ARID5B could be mapped to hg38__refseq-r80__10kb_up_and_down_tss.mc9nr.genes_vs_motifs.rankings. Skipping this module.\n"
     ]
    },
    {
     "name": "stdout",
     "output_type": "stream",
     "text": [
      "[                                        ] | 0% Completed | 115.65 s"
     ]
    },
    {
     "name": "stderr",
     "output_type": "stream",
     "text": [
      "\n",
      "2023-08-10 12:34:49,150 - pyscenic.transform - WARNING - Less than 80% of the genes in CEBPD could be mapped to hg38__refseq-r80__10kb_up_and_down_tss.mc9nr.genes_vs_motifs.rankings. Skipping this module.\n"
     ]
    },
    {
     "name": "stdout",
     "output_type": "stream",
     "text": [
      "[                                        ] | 0% Completed | 131.61 s"
     ]
    },
    {
     "name": "stderr",
     "output_type": "stream",
     "text": [
      "\n",
      "2023-08-10 12:35:05,039 - pyscenic.transform - WARNING - Less than 80% of the genes in Regulon for IKZF3 could be mapped to hg38__refseq-r80__10kb_up_and_down_tss.mc9nr.genes_vs_motifs.rankings. Skipping this module.\n"
     ]
    },
    {
     "name": "stdout",
     "output_type": "stream",
     "text": [
      "[                                        ] | 0% Completed | 133.55 s"
     ]
    },
    {
     "name": "stderr",
     "output_type": "stream",
     "text": [
      "\n",
      "2023-08-10 12:35:07,036 - pyscenic.transform - WARNING - Less than 80% of the genes in HIST1H2BN could be mapped to hg38__refseq-r80__10kb_up_and_down_tss.mc9nr.genes_vs_motifs.rankings. Skipping this module.\n"
     ]
    },
    {
     "name": "stdout",
     "output_type": "stream",
     "text": [
      "[                                        ] | 0% Completed | 135.07 s"
     ]
    },
    {
     "name": "stderr",
     "output_type": "stream",
     "text": [
      "\n",
      "2023-08-10 12:35:08,574 - pyscenic.transform - WARNING - Less than 80% of the genes in INSM2 could be mapped to hg38__refseq-r80__10kb_up_and_down_tss.mc9nr.genes_vs_motifs.rankings. Skipping this module.\n"
     ]
    },
    {
     "name": "stdout",
     "output_type": "stream",
     "text": [
      "[                                        ] | 0% Completed | 136.60 s"
     ]
    },
    {
     "name": "stderr",
     "output_type": "stream",
     "text": [
      "\n",
      "2023-08-10 12:35:10,065 - pyscenic.transform - WARNING - Less than 80% of the genes in ISL1 could be mapped to hg38__refseq-r80__10kb_up_and_down_tss.mc9nr.genes_vs_motifs.rankings. Skipping this module.\n"
     ]
    },
    {
     "name": "stdout",
     "output_type": "stream",
     "text": [
      "[                                        ] | 0% Completed | 141.89 s"
     ]
    },
    {
     "name": "stderr",
     "output_type": "stream",
     "text": [
      "\n",
      "2023-08-10 12:35:15,349 - pyscenic.transform - WARNING - Less than 80% of the genes in LTF could be mapped to hg38__refseq-r80__10kb_up_and_down_tss.mc9nr.genes_vs_motifs.rankings. Skipping this module.\n"
     ]
    },
    {
     "name": "stdout",
     "output_type": "stream",
     "text": [
      "[                                        ] | 0% Completed | 142.91 s"
     ]
    },
    {
     "name": "stderr",
     "output_type": "stream",
     "text": [
      "\n",
      "2023-08-10 12:35:16,387 - pyscenic.transform - WARNING - Less than 80% of the genes in MSX1 could be mapped to hg38__refseq-r80__10kb_up_and_down_tss.mc9nr.genes_vs_motifs.rankings. Skipping this module.\n"
     ]
    },
    {
     "name": "stdout",
     "output_type": "stream",
     "text": [
      "[                                        ] | 0% Completed | 143.72 s"
     ]
    },
    {
     "name": "stderr",
     "output_type": "stream",
     "text": [
      "\n",
      "2023-08-10 12:35:17,197 - pyscenic.transform - WARNING - Less than 80% of the genes in MYBL1 could be mapped to hg38__refseq-r80__10kb_up_and_down_tss.mc9nr.genes_vs_motifs.rankings. Skipping this module.\n"
     ]
    },
    {
     "name": "stdout",
     "output_type": "stream",
     "text": [
      "[                                        ] | 0% Completed | 148.20 s"
     ]
    },
    {
     "name": "stderr",
     "output_type": "stream",
     "text": [
      "\n",
      "2023-08-10 12:35:21,706 - pyscenic.transform - WARNING - Less than 80% of the genes in NEUROG1 could be mapped to hg38__refseq-r80__10kb_up_and_down_tss.mc9nr.genes_vs_motifs.rankings. Skipping this module.\n"
     ]
    },
    {
     "name": "stdout",
     "output_type": "stream",
     "text": [
      "[                                        ] | 0% Completed | 148.60 s"
     ]
    },
    {
     "name": "stderr",
     "output_type": "stream",
     "text": [
      "\n",
      "2023-08-10 12:35:22,092 - pyscenic.transform - WARNING - Less than 80% of the genes in NKX2-5 could be mapped to hg38__refseq-r80__10kb_up_and_down_tss.mc9nr.genes_vs_motifs.rankings. Skipping this module.\n"
     ]
    },
    {
     "name": "stdout",
     "output_type": "stream",
     "text": [
      "[                                        ] | 0% Completed | 150.23 s"
     ]
    },
    {
     "name": "stderr",
     "output_type": "stream",
     "text": [
      "\n",
      "2023-08-10 12:35:23,727 - pyscenic.transform - WARNING - Less than 80% of the genes in NR4A2 could be mapped to hg38__refseq-r80__10kb_up_and_down_tss.mc9nr.genes_vs_motifs.rankings. Skipping this module.\n",
      "\n",
      "2023-08-10 12:35:23,788 - pyscenic.transform - WARNING - Less than 80% of the genes in NR4A3 could be mapped to hg38__refseq-r80__10kb_up_and_down_tss.mc9nr.genes_vs_motifs.rankings. Skipping this module.\n"
     ]
    },
    {
     "name": "stdout",
     "output_type": "stream",
     "text": [
      "[                                        ] | 0% Completed | 150.64 s"
     ]
    },
    {
     "name": "stderr",
     "output_type": "stream",
     "text": [
      "\n",
      "2023-08-10 12:35:24,118 - pyscenic.transform - WARNING - Less than 80% of the genes in OLIG2 could be mapped to hg38__refseq-r80__10kb_up_and_down_tss.mc9nr.genes_vs_motifs.rankings. Skipping this module.\n"
     ]
    },
    {
     "name": "stdout",
     "output_type": "stream",
     "text": [
      "[                                        ] | 0% Completed | 152.88 s"
     ]
    },
    {
     "name": "stderr",
     "output_type": "stream",
     "text": [
      "\n",
      "2023-08-10 12:35:26,313 - pyscenic.transform - WARNING - Less than 80% of the genes in PRRX1 could be mapped to hg38__refseq-r80__10kb_up_and_down_tss.mc9nr.genes_vs_motifs.rankings. Skipping this module.\n"
     ]
    },
    {
     "name": "stdout",
     "output_type": "stream",
     "text": [
      "[                                        ] | 0% Completed | 162.34 s"
     ]
    },
    {
     "name": "stderr",
     "output_type": "stream",
     "text": [
      "\n",
      "2023-08-10 12:35:35,819 - pyscenic.transform - WARNING - Less than 80% of the genes in TWIST1 could be mapped to hg38__refseq-r80__10kb_up_and_down_tss.mc9nr.genes_vs_motifs.rankings. Skipping this module.\n"
     ]
    },
    {
     "name": "stdout",
     "output_type": "stream",
     "text": [
      "[                                        ] | 0% Completed | 163.76 s"
     ]
    },
    {
     "name": "stderr",
     "output_type": "stream",
     "text": [
      "\n",
      "2023-08-10 12:35:37,209 - pyscenic.transform - WARNING - Less than 80% of the genes in ZNF556 could be mapped to hg38__refseq-r80__10kb_up_and_down_tss.mc9nr.genes_vs_motifs.rankings. Skipping this module.\n"
     ]
    },
    {
     "name": "stdout",
     "output_type": "stream",
     "text": [
      "[                                        ] | 0% Completed | 177.80 s"
     ]
    },
    {
     "name": "stderr",
     "output_type": "stream",
     "text": [
      "\n",
      "2023-08-10 12:35:51,276 - pyscenic.transform - WARNING - Less than 80% of the genes in BHLHE41 could be mapped to hg38__refseq-r80__500bp_up_and_100bp_down_tss.mc9nr.genes_vs_motifs.rankings. Skipping this module.\n"
     ]
    },
    {
     "name": "stdout",
     "output_type": "stream",
     "text": [
      "[                                        ] | 0% Completed | 180.14 s"
     ]
    },
    {
     "name": "stderr",
     "output_type": "stream",
     "text": [
      "\n",
      "2023-08-10 12:35:53,649 - pyscenic.transform - WARNING - Less than 80% of the genes in CREB5 could be mapped to hg38__refseq-r80__500bp_up_and_100bp_down_tss.mc9nr.genes_vs_motifs.rankings. Skipping this module.\n"
     ]
    },
    {
     "name": "stdout",
     "output_type": "stream",
     "text": [
      "[                                        ] | 0% Completed | 194.79 s"
     ]
    },
    {
     "name": "stderr",
     "output_type": "stream",
     "text": [
      "\n",
      "2023-08-10 12:36:08,240 - pyscenic.transform - WARNING - Less than 80% of the genes in HIST1H2BN could be mapped to hg38__refseq-r80__500bp_up_and_100bp_down_tss.mc9nr.genes_vs_motifs.rankings. Skipping this module.\n"
     ]
    },
    {
     "name": "stdout",
     "output_type": "stream",
     "text": [
      "[                                        ] | 0% Completed | 195.10 s"
     ]
    },
    {
     "name": "stderr",
     "output_type": "stream",
     "text": [
      "\n",
      "2023-08-10 12:36:08,534 - pyscenic.transform - WARNING - Less than 80% of the genes in HSPA5 could be mapped to hg38__refseq-r80__500bp_up_and_100bp_down_tss.mc9nr.genes_vs_motifs.rankings. Skipping this module.\n"
     ]
    },
    {
     "name": "stdout",
     "output_type": "stream",
     "text": [
      "[                                        ] | 0% Completed | 195.40 s"
     ]
    },
    {
     "name": "stderr",
     "output_type": "stream",
     "text": [
      "\n",
      "2023-08-10 12:36:08,878 - pyscenic.transform - WARNING - Less than 80% of the genes in ID2 could be mapped to hg38__refseq-r80__500bp_up_and_100bp_down_tss.mc9nr.genes_vs_motifs.rankings. Skipping this module.\n"
     ]
    },
    {
     "name": "stdout",
     "output_type": "stream",
     "text": [
      "[                                        ] | 0% Completed | 195.71 s"
     ]
    },
    {
     "name": "stderr",
     "output_type": "stream",
     "text": [
      "\n",
      "2023-08-10 12:36:09,208 - pyscenic.transform - WARNING - Less than 80% of the genes in INSM2 could be mapped to hg38__refseq-r80__500bp_up_and_100bp_down_tss.mc9nr.genes_vs_motifs.rankings. Skipping this module.\n",
      "\n",
      "2023-08-10 12:36:09,271 - pyscenic.transform - WARNING - Less than 80% of the genes in ISL1 could be mapped to hg38__refseq-r80__500bp_up_and_100bp_down_tss.mc9nr.genes_vs_motifs.rankings. Skipping this module.\n"
     ]
    },
    {
     "name": "stdout",
     "output_type": "stream",
     "text": [
      "[                                        ] | 0% Completed | 202.62 s"
     ]
    },
    {
     "name": "stderr",
     "output_type": "stream",
     "text": [
      "\n",
      "2023-08-10 12:36:16,108 - pyscenic.transform - WARNING - Less than 80% of the genes in MSX1 could be mapped to hg38__refseq-r80__500bp_up_and_100bp_down_tss.mc9nr.genes_vs_motifs.rankings. Skipping this module.\n"
     ]
    },
    {
     "name": "stdout",
     "output_type": "stream",
     "text": [
      "[                                        ] | 0% Completed | 206.80 s"
     ]
    },
    {
     "name": "stderr",
     "output_type": "stream",
     "text": [
      "\n",
      "2023-08-10 12:36:20,281 - pyscenic.transform - WARNING - Less than 80% of the genes in NANOS1 could be mapped to hg38__refseq-r80__500bp_up_and_100bp_down_tss.mc9nr.genes_vs_motifs.rankings. Skipping this module.\n"
     ]
    },
    {
     "name": "stdout",
     "output_type": "stream",
     "text": [
      "[                                        ] | 0% Completed | 207.10 s"
     ]
    },
    {
     "name": "stderr",
     "output_type": "stream",
     "text": [
      "\n",
      "2023-08-10 12:36:20,549 - pyscenic.transform - WARNING - Less than 80% of the genes in NEUROG1 could be mapped to hg38__refseq-r80__500bp_up_and_100bp_down_tss.mc9nr.genes_vs_motifs.rankings. Skipping this module.\n"
     ]
    },
    {
     "name": "stdout",
     "output_type": "stream",
     "text": [
      "[                                        ] | 0% Completed | 210.65 s"
     ]
    },
    {
     "name": "stderr",
     "output_type": "stream",
     "text": [
      "\n",
      "2023-08-10 12:36:24,150 - pyscenic.transform - WARNING - Less than 80% of the genes in RBFOX2 could be mapped to hg38__refseq-r80__500bp_up_and_100bp_down_tss.mc9nr.genes_vs_motifs.rankings. Skipping this module.\n"
     ]
    },
    {
     "name": "stdout",
     "output_type": "stream",
     "text": [
      "[                                        ] | 0% Completed | 212.28 s"
     ]
    },
    {
     "name": "stderr",
     "output_type": "stream",
     "text": [
      "\n",
      "2023-08-10 12:36:25,696 - pyscenic.transform - WARNING - Less than 80% of the genes in SHOX2 could be mapped to hg38__refseq-r80__500bp_up_and_100bp_down_tss.mc9nr.genes_vs_motifs.rankings. Skipping this module.\n"
     ]
    },
    {
     "name": "stdout",
     "output_type": "stream",
     "text": [
      "[                                        ] | 0% Completed | 212.99 s"
     ]
    },
    {
     "name": "stderr",
     "output_type": "stream",
     "text": [
      "\n",
      "2023-08-10 12:36:26,506 - pyscenic.transform - WARNING - Less than 80% of the genes in SIX1 could be mapped to hg38__refseq-r80__500bp_up_and_100bp_down_tss.mc9nr.genes_vs_motifs.rankings. Skipping this module.\n"
     ]
    },
    {
     "name": "stdout",
     "output_type": "stream",
     "text": [
      "[                                        ] | 0% Completed | 217.16 s"
     ]
    },
    {
     "name": "stderr",
     "output_type": "stream",
     "text": [
      "\n",
      "2023-08-10 12:36:30,581 - pyscenic.transform - WARNING - Less than 80% of the genes in SPDEF could be mapped to hg38__refseq-r80__500bp_up_and_100bp_down_tss.mc9nr.genes_vs_motifs.rankings. Skipping this module.\n"
     ]
    },
    {
     "name": "stdout",
     "output_type": "stream",
     "text": [
      "[                                        ] | 0% Completed | 218.08 s"
     ]
    },
    {
     "name": "stderr",
     "output_type": "stream",
     "text": [
      "\n",
      "2023-08-10 12:36:31,531 - pyscenic.transform - WARNING - Less than 80% of the genes in TWIST1 could be mapped to hg38__refseq-r80__500bp_up_and_100bp_down_tss.mc9nr.genes_vs_motifs.rankings. Skipping this module.\n"
     ]
    },
    {
     "name": "stdout",
     "output_type": "stream",
     "text": [
      "[                                        ] | 0% Completed | 218.69 s"
     ]
    },
    {
     "name": "stderr",
     "output_type": "stream",
     "text": [
      "\n",
      "2023-08-10 12:36:32,197 - pyscenic.transform - WARNING - Less than 80% of the genes in ZNF385A could be mapped to hg38__refseq-r80__500bp_up_and_100bp_down_tss.mc9nr.genes_vs_motifs.rankings. Skipping this module.\n"
     ]
    },
    {
     "name": "stdout",
     "output_type": "stream",
     "text": [
      "[                                        ] | 0% Completed | 219.50 s"
     ]
    },
    {
     "name": "stderr",
     "output_type": "stream",
     "text": [
      "\n",
      "2023-08-10 12:36:32,935 - pyscenic.transform - WARNING - Less than 80% of the genes in ARID5B could be mapped to hg38__refseq-r80__500bp_up_and_100bp_down_tss.mc9nr.genes_vs_motifs.rankings. Skipping this module.\n"
     ]
    },
    {
     "name": "stdout",
     "output_type": "stream",
     "text": [
      "[                                        ] | 0% Completed | 224.99 s"
     ]
    },
    {
     "name": "stderr",
     "output_type": "stream",
     "text": [
      "\n",
      "2023-08-10 12:36:38,497 - pyscenic.transform - WARNING - Less than 80% of the genes in CEBPD could be mapped to hg38__refseq-r80__500bp_up_and_100bp_down_tss.mc9nr.genes_vs_motifs.rankings. Skipping this module.\n"
     ]
    },
    {
     "name": "stdout",
     "output_type": "stream",
     "text": [
      "[########################################] | 100% Completed | 235.55 s\n",
      "\n",
      "COMPLETED WRITING ENRICHED MOTIFS /home/linl5/project/SCLC/data/lx33/lx33.UU.0.66.motifs.csv \n",
      "\n",
      "                                                  Enrichment            \\\n",
      "                                                         AUC       NES   \n",
      "TF    MotifID                                                            \n",
      "ASCL2 dbcorrdb__RCOR1__ENCSR000EFG_1__m4            0.090957  3.292014   \n",
      "ATF3  cisbp__M4526                                  0.096851  3.842853   \n",
      "      dbcorrdb__FOS__ENCSR000DOO_1__m1              0.086374  3.035263   \n",
      "      dbcorrdb__JUND__ENCSR000EBZ_1__m1             0.098540  3.973059   \n",
      "      swissregulon__hs__FOS_FOS_B_L1__JUN_B_D_.p2   0.094247  3.642186   \n",
      "\n",
      "                                                                         \\\n",
      "                                                  MotifSimilarityQvalue   \n",
      "TF    MotifID                                                             \n",
      "ASCL2 dbcorrdb__RCOR1__ENCSR000EFG_1__m4                       0.000098   \n",
      "ATF3  cisbp__M4526                                             0.000970   \n",
      "      dbcorrdb__FOS__ENCSR000DOO_1__m1                         0.000908   \n",
      "      dbcorrdb__JUND__ENCSR000EBZ_1__m1                        0.000863   \n",
      "      swissregulon__hs__FOS_FOS_B_L1__JUN_B_D_.p2              0.000701   \n",
      "\n",
      "                                                                       \\\n",
      "                                                  OrthologousIdentity   \n",
      "TF    MotifID                                                           \n",
      "ASCL2 dbcorrdb__RCOR1__ENCSR000EFG_1__m4                     0.683938   \n",
      "ATF3  cisbp__M4526                                           1.000000   \n",
      "      dbcorrdb__FOS__ENCSR000DOO_1__m1                       1.000000   \n",
      "      dbcorrdb__JUND__ENCSR000EBZ_1__m1                      1.000000   \n",
      "      swissregulon__hs__FOS_FOS_B_L1__JUN_B_D_.p2            1.000000   \n",
      "\n",
      "                                                                                                      \\\n",
      "                                                                                          Annotation   \n",
      "TF    MotifID                                                                                          \n",
      "ASCL2 dbcorrdb__RCOR1__ENCSR000EFG_1__m4           gene is orthologous to ENSMUSG00000009248 in M...   \n",
      "ATF3  cisbp__M4526                                 gene is annotated for similar motif homer__DAT...   \n",
      "      dbcorrdb__FOS__ENCSR000DOO_1__m1             gene is annotated for similar motif homer__DAT...   \n",
      "      dbcorrdb__JUND__ENCSR000EBZ_1__m1            gene is annotated for similar motif dbcorrdb__...   \n",
      "      swissregulon__hs__FOS_FOS_B_L1__JUN_B_D_.p2  gene is annotated for similar motif cisbp__M46...   \n",
      "\n",
      "                                                                                                      \\\n",
      "                                                                                             Context   \n",
      "TF    MotifID                                                                                          \n",
      "ASCL2 dbcorrdb__RCOR1__ENCSR000EFG_1__m4           (activating, hg38__refseq-r80__10kb_up_and_dow...   \n",
      "ATF3  cisbp__M4526                                 (activating, hg38__refseq-r80__10kb_up_and_dow...   \n",
      "      dbcorrdb__FOS__ENCSR000DOO_1__m1             (activating, hg38__refseq-r80__10kb_up_and_dow...   \n",
      "      dbcorrdb__JUND__ENCSR000EBZ_1__m1            (activating, hg38__refseq-r80__10kb_up_and_dow...   \n",
      "      swissregulon__hs__FOS_FOS_B_L1__JUN_B_D_.p2  (activating, hg38__refseq-r80__10kb_up_and_dow...   \n",
      "\n",
      "                                                                                                      \\\n",
      "                                                                                         TargetGenes   \n",
      "TF    MotifID                                                                                          \n",
      "ASCL2 dbcorrdb__RCOR1__ENCSR000EFG_1__m4           [(INSIG2, 4.779096651469501), (PADI2, 6.110695...   \n",
      "ATF3  cisbp__M4526                                 [(EMP3, 17.802940230491373), (JUNB, 24.5356681...   \n",
      "      dbcorrdb__FOS__ENCSR000DOO_1__m1             [(CREB5, 12.931483537093834), (MAP1LC3A, 15.77...   \n",
      "      dbcorrdb__JUND__ENCSR000EBZ_1__m1            [(PTPRN, 6.296715580816353), (AHNAK, 3.9201219...   \n",
      "      swissregulon__hs__FOS_FOS_B_L1__JUN_B_D_.p2  [(EMP3, 17.802940230491373), (LMNA, 1.81971217...   \n",
      "\n",
      "                                                             \n",
      "                                                  RankAtMax  \n",
      "TF    MotifID                                                \n",
      "ASCL2 dbcorrdb__RCOR1__ENCSR000EFG_1__m4               1012  \n",
      "ATF3  cisbp__M4526                                      645  \n",
      "      dbcorrdb__FOS__ENCSR000DOO_1__m1                  657  \n",
      "      dbcorrdb__JUND__ENCSR000EBZ_1__m1                1454  \n",
      "      swissregulon__hs__FOS_FOS_B_L1__JUN_B_D_.p2      1418  \n",
      "Create regulons from a dataframe of enriched features.\n",
      "Additional columns saved: []\n",
      "\n",
      "COMPLETED WRITING DISCOVERED REGULON /home/linl5/project/SCLC/data/lx33/lx33.UU.0.66.regulons.p \n",
      "\n",
      "\n",
      "FINISHED READING ADJACENCIES FILE /home/linl5/project/SCLC/data/lx33/lx33.UUUT.0.66.adjacencies.tsv \n",
      "\n"
     ]
    },
    {
     "name": "stderr",
     "output_type": "stream",
     "text": [
      "\n",
      "2023-08-10 12:36:52,309 - pyscenic.utils - INFO - Calculating Pearson correlations.\n",
      "\n",
      "2023-08-10 12:36:52,329 - pyscenic.utils - WARNING - Note on correlation calculation: the default behaviour for calculating the correlations has changed after pySCENIC verion 0.9.16. Previously, the default was to calculate the correlation between a TF and target gene using only cells with non-zero expression values (mask_dropouts=True). The current default is now to use all cells to match the behavior of the R verision of SCENIC. The original settings can be retained by setting 'rho_mask_dropouts=True' in the modules_from_adjacencies function, or '--mask_dropouts' from the CLI.\n",
      "\tDropout masking is currently set to [False].\n"
     ]
    },
    {
     "name": "stdout",
     "output_type": "stream",
     "text": [
      "\n",
      "FINISHED READING EXPRESSION MATRIX /home/linl5/project/SCLC/results/lx33/lx33.UUUT.0.66.qc.tpm.csv \n",
      "\n"
     ]
    },
    {
     "name": "stderr",
     "output_type": "stream",
     "text": [
      "\n",
      "2023-08-10 12:36:53,422 - pyscenic.utils - INFO - Creating modules.\n"
     ]
    },
    {
     "name": "stdout",
     "output_type": "stream",
     "text": [
      "\n",
      "COMPLETED COEXPRESSION MODULE WRITING: /home/linl5/project/SCLC/data/lx33/lx33.UUUT.0.66.modules.p \n",
      "\n",
      "[                                        ] | 0% Completed | 9.90 s ms"
     ]
    },
    {
     "name": "stderr",
     "output_type": "stream",
     "text": [
      "\n",
      "2023-08-10 12:37:10,434 - pyscenic.transform - WARNING - Less than 80% of the genes in ZNF385A could be mapped to hg38__refseq-r80__10kb_up_and_down_tss.mc9nr.genes_vs_motifs.rankings. Skipping this module.\n"
     ]
    },
    {
     "name": "stdout",
     "output_type": "stream",
     "text": [
      "[                                        ] | 0% Completed | 10.21 s"
     ]
    },
    {
     "name": "stderr",
     "output_type": "stream",
     "text": [
      "\n",
      "2023-08-10 12:37:10,692 - pyscenic.transform - WARNING - Less than 80% of the genes in ZNF556 could be mapped to hg38__refseq-r80__10kb_up_and_down_tss.mc9nr.genes_vs_motifs.rankings. Skipping this module.\n",
      "\n",
      "2023-08-10 12:37:10,830 - pyscenic.transform - WARNING - Less than 80% of the genes in ZNF699 could be mapped to hg38__refseq-r80__10kb_up_and_down_tss.mc9nr.genes_vs_motifs.rankings. Skipping this module.\n"
     ]
    },
    {
     "name": "stdout",
     "output_type": "stream",
     "text": [
      "[                                        ] | 0% Completed | 11.12 s"
     ]
    },
    {
     "name": "stderr",
     "output_type": "stream",
     "text": [
      "\n",
      "2023-08-10 12:37:11,594 - pyscenic.transform - WARNING - Less than 80% of the genes in ASCL1 could be mapped to hg38__refseq-r80__10kb_up_and_down_tss.mc9nr.genes_vs_motifs.rankings. Skipping this module.\n"
     ]
    },
    {
     "name": "stdout",
     "output_type": "stream",
     "text": [
      "[                                        ] | 0% Completed | 15.39 s"
     ]
    },
    {
     "name": "stderr",
     "output_type": "stream",
     "text": [
      "\n",
      "2023-08-10 12:37:15,862 - pyscenic.transform - WARNING - Less than 80% of the genes in BHLHE41 could be mapped to hg38__refseq-r80__10kb_up_and_down_tss.mc9nr.genes_vs_motifs.rankings. Skipping this module.\n"
     ]
    },
    {
     "name": "stdout",
     "output_type": "stream",
     "text": [
      "[                                        ] | 0% Completed | 17.43 s"
     ]
    },
    {
     "name": "stderr",
     "output_type": "stream",
     "text": [
      "\n",
      "2023-08-10 12:37:17,919 - pyscenic.transform - WARNING - Less than 80% of the genes in CEBPD could be mapped to hg38__refseq-r80__10kb_up_and_down_tss.mc9nr.genes_vs_motifs.rankings. Skipping this module.\n"
     ]
    },
    {
     "name": "stdout",
     "output_type": "stream",
     "text": [
      "[                                        ] | 0% Completed | 19.06 s"
     ]
    },
    {
     "name": "stderr",
     "output_type": "stream",
     "text": [
      "\n",
      "2023-08-10 12:37:19,595 - pyscenic.transform - WARNING - Less than 80% of the genes in IL24 could be mapped to hg38__refseq-r80__500bp_up_and_100bp_down_tss.mc9nr.genes_vs_motifs.rankings. Skipping this module.\n"
     ]
    },
    {
     "name": "stdout",
     "output_type": "stream",
     "text": [
      "[                                        ] | 0% Completed | 30.35 s"
     ]
    },
    {
     "name": "stderr",
     "output_type": "stream",
     "text": [
      "\n",
      "2023-08-10 12:37:30,827 - pyscenic.transform - WARNING - Less than 80% of the genes in EN1 could be mapped to hg38__refseq-r80__10kb_up_and_down_tss.mc9nr.genes_vs_motifs.rankings. Skipping this module.\n"
     ]
    },
    {
     "name": "stdout",
     "output_type": "stream",
     "text": [
      "[                                        ] | 0% Completed | 37.58 s"
     ]
    },
    {
     "name": "stderr",
     "output_type": "stream",
     "text": [
      "\n",
      "2023-08-10 12:37:38,097 - pyscenic.transform - WARNING - Less than 80% of the genes in HHAT could be mapped to hg38__refseq-r80__10kb_up_and_down_tss.mc9nr.genes_vs_motifs.rankings. Skipping this module.\n",
      "\n",
      "2023-08-10 12:37:38,203 - pyscenic.transform - WARNING - Less than 80% of the genes in HIST1H2BN could be mapped to hg38__refseq-r80__10kb_up_and_down_tss.mc9nr.genes_vs_motifs.rankings. Skipping this module.\n"
     ]
    },
    {
     "name": "stdout",
     "output_type": "stream",
     "text": [
      "[                                        ] | 0% Completed | 39.72 s"
     ]
    },
    {
     "name": "stderr",
     "output_type": "stream",
     "text": [
      "\n",
      "2023-08-10 12:37:40,189 - pyscenic.transform - WARNING - Less than 80% of the genes in INSM2 could be mapped to hg38__refseq-r80__10kb_up_and_down_tss.mc9nr.genes_vs_motifs.rankings. Skipping this module.\n"
     ]
    },
    {
     "name": "stdout",
     "output_type": "stream",
     "text": [
      "[                                        ] | 0% Completed | 40.33 s"
     ]
    },
    {
     "name": "stderr",
     "output_type": "stream",
     "text": [
      "\n",
      "2023-08-10 12:37:40,854 - pyscenic.transform - WARNING - Less than 80% of the genes in IRX1 could be mapped to hg38__refseq-r80__10kb_up_and_down_tss.mc9nr.genes_vs_motifs.rankings. Skipping this module.\n"
     ]
    },
    {
     "name": "stdout",
     "output_type": "stream",
     "text": [
      "[                                        ] | 0% Completed | 49.28 s"
     ]
    },
    {
     "name": "stderr",
     "output_type": "stream",
     "text": [
      "\n",
      "2023-08-10 12:37:49,795 - pyscenic.transform - WARNING - Less than 80% of the genes in TCF23 could be mapped to hg38__refseq-r80__500bp_up_and_100bp_down_tss.mc9nr.genes_vs_motifs.rankings. Skipping this module.\n",
      "\n",
      "2023-08-10 12:37:49,799 - pyscenic.transform - WARNING - Less than 80% of the genes in LTF could be mapped to hg38__refseq-r80__10kb_up_and_down_tss.mc9nr.genes_vs_motifs.rankings. Skipping this module.\n"
     ]
    },
    {
     "name": "stdout",
     "output_type": "stream",
     "text": [
      "[                                        ] | 0% Completed | 52.03 s"
     ]
    },
    {
     "name": "stderr",
     "output_type": "stream",
     "text": [
      "\n",
      "2023-08-10 12:37:52,568 - pyscenic.transform - WARNING - Less than 80% of the genes in MYBL1 could be mapped to hg38__refseq-r80__10kb_up_and_down_tss.mc9nr.genes_vs_motifs.rankings. Skipping this module.\n"
     ]
    },
    {
     "name": "stdout",
     "output_type": "stream",
     "text": [
      "[####                                    ] | 10% Completed | 60.08 s"
     ]
    },
    {
     "name": "stderr",
     "output_type": "stream",
     "text": [
      "\n",
      "2023-08-10 12:38:00,633 - pyscenic.transform - WARNING - Less than 80% of the genes in OLIG2 could be mapped to hg38__refseq-r80__10kb_up_and_down_tss.mc9nr.genes_vs_motifs.rankings. Skipping this module.\n"
     ]
    },
    {
     "name": "stdout",
     "output_type": "stream",
     "text": [
      "[####                                    ] | 10% Completed | 62.62 s"
     ]
    },
    {
     "name": "stderr",
     "output_type": "stream",
     "text": [
      "\n",
      "2023-08-10 12:38:03,143 - pyscenic.transform - WARNING - Less than 80% of the genes in POU3F1 could be mapped to hg38__refseq-r80__10kb_up_and_down_tss.mc9nr.genes_vs_motifs.rankings. Skipping this module.\n"
     ]
    },
    {
     "name": "stdout",
     "output_type": "stream",
     "text": [
      "[####                                    ] | 10% Completed | 63.03 s"
     ]
    },
    {
     "name": "stderr",
     "output_type": "stream",
     "text": [
      "\n",
      "2023-08-10 12:38:03,517 - pyscenic.transform - WARNING - Less than 80% of the genes in PRDM12 could be mapped to hg38__refseq-r80__10kb_up_and_down_tss.mc9nr.genes_vs_motifs.rankings. Skipping this module.\n"
     ]
    },
    {
     "name": "stdout",
     "output_type": "stream",
     "text": [
      "[####                                    ] | 10% Completed | 65.98 s"
     ]
    },
    {
     "name": "stderr",
     "output_type": "stream",
     "text": [
      "\n",
      "2023-08-10 12:38:06,519 - pyscenic.transform - WARNING - Less than 80% of the genes in SIM1 could be mapped to hg38__refseq-r80__10kb_up_and_down_tss.mc9nr.genes_vs_motifs.rankings. Skipping this module.\n"
     ]
    },
    {
     "name": "stdout",
     "output_type": "stream",
     "text": [
      "[####                                    ] | 10% Completed | 68.73 s"
     ]
    },
    {
     "name": "stderr",
     "output_type": "stream",
     "text": [
      "\n",
      "2023-08-10 12:38:09,221 - pyscenic.transform - WARNING - Less than 80% of the genes in SNAI2 could be mapped to hg38__refseq-r80__10kb_up_and_down_tss.mc9nr.genes_vs_motifs.rankings. Skipping this module.\n"
     ]
    },
    {
     "name": "stdout",
     "output_type": "stream",
     "text": [
      "[####                                    ] | 10% Completed | 70.66 s"
     ]
    },
    {
     "name": "stderr",
     "output_type": "stream",
     "text": [
      "\n",
      "2023-08-10 12:38:11,208 - pyscenic.transform - WARNING - Less than 80% of the genes in SOX5 could be mapped to hg38__refseq-r80__10kb_up_and_down_tss.mc9nr.genes_vs_motifs.rankings. Skipping this module.\n"
     ]
    },
    {
     "name": "stdout",
     "output_type": "stream",
     "text": [
      "[####                                    ] | 10% Completed | 72.69 s"
     ]
    },
    {
     "name": "stderr",
     "output_type": "stream",
     "text": [
      "\n",
      "2023-08-10 12:38:13,188 - pyscenic.transform - WARNING - Less than 80% of the genes in SP8 could be mapped to hg38__refseq-r80__10kb_up_and_down_tss.mc9nr.genes_vs_motifs.rankings. Skipping this module.\n"
     ]
    },
    {
     "name": "stdout",
     "output_type": "stream",
     "text": [
      "[####                                    ] | 10% Completed | 76.66 s"
     ]
    },
    {
     "name": "stderr",
     "output_type": "stream",
     "text": [
      "\n",
      "2023-08-10 12:38:17,160 - pyscenic.transform - WARNING - Less than 80% of the genes in ZNF556 could be mapped to hg38__refseq-r80__10kb_up_and_down_tss.mc9nr.genes_vs_motifs.rankings. Skipping this module.\n",
      "\n",
      "2023-08-10 12:38:17,271 - pyscenic.transform - WARNING - Less than 80% of the genes in ZNF699 could be mapped to hg38__refseq-r80__10kb_up_and_down_tss.mc9nr.genes_vs_motifs.rankings. Skipping this module.\n"
     ]
    },
    {
     "name": "stdout",
     "output_type": "stream",
     "text": [
      "[####                                    ] | 10% Completed | 105.34 s"
     ]
    },
    {
     "name": "stderr",
     "output_type": "stream",
     "text": [
      "\n",
      "2023-08-10 12:38:45,826 - pyscenic.transform - WARNING - Less than 80% of the genes in BHLHE41 could be mapped to hg38__refseq-r80__500bp_up_and_100bp_down_tss.mc9nr.genes_vs_motifs.rankings. Skipping this module.\n"
     ]
    },
    {
     "name": "stdout",
     "output_type": "stream",
     "text": [
      "[####                                    ] | 10% Completed | 108.29 s"
     ]
    },
    {
     "name": "stderr",
     "output_type": "stream",
     "text": [
      "\n",
      "2023-08-10 12:38:48,775 - pyscenic.transform - WARNING - Less than 80% of the genes in CEBPD could be mapped to hg38__refseq-r80__500bp_up_and_100bp_down_tss.mc9nr.genes_vs_motifs.rankings. Skipping this module.\n"
     ]
    },
    {
     "name": "stdout",
     "output_type": "stream",
     "text": [
      "[####                                    ] | 10% Completed | 113.68 s"
     ]
    },
    {
     "name": "stderr",
     "output_type": "stream",
     "text": [
      "\n",
      "2023-08-10 12:38:54,202 - pyscenic.transform - WARNING - Less than 80% of the genes in IL24 could be mapped to hg38__refseq-r80__10kb_up_and_down_tss.mc9nr.genes_vs_motifs.rankings. Skipping this module.\n",
      "\n",
      "2023-08-10 12:38:54,320 - pyscenic.transform - WARNING - Less than 80% of the genes in EN1 could be mapped to hg38__refseq-r80__500bp_up_and_100bp_down_tss.mc9nr.genes_vs_motifs.rankings. Skipping this module.\n"
     ]
    },
    {
     "name": "stdout",
     "output_type": "stream",
     "text": [
      "[####                                    ] | 10% Completed | 114.50 s"
     ]
    },
    {
     "name": "stderr",
     "output_type": "stream",
     "text": [
      "\n",
      "2023-08-10 12:38:55,003 - pyscenic.transform - WARNING - Less than 80% of the genes in FEZ1 could be mapped to hg38__refseq-r80__500bp_up_and_100bp_down_tss.mc9nr.genes_vs_motifs.rankings. Skipping this module.\n"
     ]
    },
    {
     "name": "stdout",
     "output_type": "stream",
     "text": [
      "[####                                    ] | 10% Completed | 115.41 s"
     ]
    },
    {
     "name": "stderr",
     "output_type": "stream",
     "text": [
      "\n",
      "2023-08-10 12:38:55,885 - pyscenic.transform - WARNING - Less than 80% of the genes in GATA2 could be mapped to hg38__refseq-r80__500bp_up_and_100bp_down_tss.mc9nr.genes_vs_motifs.rankings. Skipping this module.\n"
     ]
    },
    {
     "name": "stdout",
     "output_type": "stream",
     "text": [
      "[####                                    ] | 10% Completed | 116.22 s"
     ]
    },
    {
     "name": "stderr",
     "output_type": "stream",
     "text": [
      "\n",
      "2023-08-10 12:38:56,738 - pyscenic.transform - WARNING - Less than 80% of the genes in GATA5 could be mapped to hg38__refseq-r80__500bp_up_and_100bp_down_tss.mc9nr.genes_vs_motifs.rankings. Skipping this module.\n"
     ]
    },
    {
     "name": "stdout",
     "output_type": "stream",
     "text": [
      "[####                                    ] | 10% Completed | 118.97 s"
     ]
    },
    {
     "name": "stderr",
     "output_type": "stream",
     "text": [
      "\n",
      "2023-08-10 12:38:59,461 - pyscenic.transform - WARNING - Less than 80% of the genes in HEY2 could be mapped to hg38__refseq-r80__500bp_up_and_100bp_down_tss.mc9nr.genes_vs_motifs.rankings. Skipping this module.\n",
      "\n",
      "2023-08-10 12:38:59,606 - pyscenic.transform - WARNING - Less than 80% of the genes in HIST1H2BN could be mapped to hg38__refseq-r80__500bp_up_and_100bp_down_tss.mc9nr.genes_vs_motifs.rankings. Skipping this module.\n"
     ]
    },
    {
     "name": "stdout",
     "output_type": "stream",
     "text": [
      "[####                                    ] | 10% Completed | 121.71 s"
     ]
    },
    {
     "name": "stderr",
     "output_type": "stream",
     "text": [
      "\n",
      "2023-08-10 12:39:02,234 - pyscenic.transform - WARNING - Less than 80% of the genes in INSM2 could be mapped to hg38__refseq-r80__500bp_up_and_100bp_down_tss.mc9nr.genes_vs_motifs.rankings. Skipping this module.\n"
     ]
    },
    {
     "name": "stdout",
     "output_type": "stream",
     "text": [
      "[####                                    ] | 10% Completed | 122.12 s"
     ]
    },
    {
     "name": "stderr",
     "output_type": "stream",
     "text": [
      "\n",
      "2023-08-10 12:39:02,650 - pyscenic.transform - WARNING - Less than 80% of the genes in ISL1 could be mapped to hg38__refseq-r80__500bp_up_and_100bp_down_tss.mc9nr.genes_vs_motifs.rankings. Skipping this module.\n"
     ]
    },
    {
     "name": "stdout",
     "output_type": "stream",
     "text": [
      "[####                                    ] | 10% Completed | 125.99 s"
     ]
    },
    {
     "name": "stderr",
     "output_type": "stream",
     "text": [
      "\n",
      "2023-08-10 12:39:06,453 - pyscenic.transform - WARNING - Less than 80% of the genes in KLF2 could be mapped to hg38__refseq-r80__500bp_up_and_100bp_down_tss.mc9nr.genes_vs_motifs.rankings. Skipping this module.\n"
     ]
    },
    {
     "name": "stdout",
     "output_type": "stream",
     "text": [
      "[####                                    ] | 10% Completed | 135.95 s"
     ]
    },
    {
     "name": "stderr",
     "output_type": "stream",
     "text": [
      "\n",
      "2023-08-10 12:39:16,494 - pyscenic.transform - WARNING - Less than 80% of the genes in NEUROG1 could be mapped to hg38__refseq-r80__500bp_up_and_100bp_down_tss.mc9nr.genes_vs_motifs.rankings. Skipping this module.\n"
     ]
    },
    {
     "name": "stdout",
     "output_type": "stream",
     "text": [
      "[####                                    ] | 10% Completed | 141.54 s"
     ]
    },
    {
     "name": "stderr",
     "output_type": "stream",
     "text": [
      "\n",
      "2023-08-10 12:39:22,067 - pyscenic.transform - WARNING - Less than 80% of the genes in POU3F1 could be mapped to hg38__refseq-r80__500bp_up_and_100bp_down_tss.mc9nr.genes_vs_motifs.rankings. Skipping this module.\n"
     ]
    },
    {
     "name": "stdout",
     "output_type": "stream",
     "text": [
      "[####                                    ] | 10% Completed | 142.15 s"
     ]
    },
    {
     "name": "stderr",
     "output_type": "stream",
     "text": [
      "\n",
      "2023-08-10 12:39:22,660 - pyscenic.transform - WARNING - Less than 80% of the genes in RFC3 could be mapped to hg38__refseq-r80__500bp_up_and_100bp_down_tss.mc9nr.genes_vs_motifs.rankings. Skipping this module.\n"
     ]
    },
    {
     "name": "stdout",
     "output_type": "stream",
     "text": [
      "[####                                    ] | 10% Completed | 143.17 s"
     ]
    },
    {
     "name": "stderr",
     "output_type": "stream",
     "text": [
      "\n",
      "2023-08-10 12:39:23,663 - pyscenic.transform - WARNING - Less than 80% of the genes in SIM1 could be mapped to hg38__refseq-r80__500bp_up_and_100bp_down_tss.mc9nr.genes_vs_motifs.rankings. Skipping this module.\n"
     ]
    },
    {
     "name": "stdout",
     "output_type": "stream",
     "text": [
      "[####                                    ] | 10% Completed | 144.59 s"
     ]
    },
    {
     "name": "stderr",
     "output_type": "stream",
     "text": [
      "\n",
      "2023-08-10 12:39:25,065 - pyscenic.transform - WARNING - Less than 80% of the genes in SOX5 could be mapped to hg38__refseq-r80__500bp_up_and_100bp_down_tss.mc9nr.genes_vs_motifs.rankings. Skipping this module.\n"
     ]
    },
    {
     "name": "stdout",
     "output_type": "stream",
     "text": [
      "[####                                    ] | 10% Completed | 145.31 s"
     ]
    },
    {
     "name": "stderr",
     "output_type": "stream",
     "text": [
      "\n",
      "2023-08-10 12:39:25,820 - pyscenic.transform - WARNING - Less than 80% of the genes in SP4 could be mapped to hg38__refseq-r80__500bp_up_and_100bp_down_tss.mc9nr.genes_vs_motifs.rankings. Skipping this module.\n",
      "\n",
      "2023-08-10 12:39:25,881 - pyscenic.transform - WARNING - Less than 80% of the genes in SP5 could be mapped to hg38__refseq-r80__500bp_up_and_100bp_down_tss.mc9nr.genes_vs_motifs.rankings. Skipping this module.\n",
      "\n",
      "2023-08-10 12:39:25,943 - pyscenic.transform - WARNING - Less than 80% of the genes in SP8 could be mapped to hg38__refseq-r80__500bp_up_and_100bp_down_tss.mc9nr.genes_vs_motifs.rankings. Skipping this module.\n"
     ]
    },
    {
     "name": "stdout",
     "output_type": "stream",
     "text": [
      "[####                                    ] | 10% Completed | 145.92 s"
     ]
    },
    {
     "name": "stderr",
     "output_type": "stream",
     "text": [
      "\n",
      "2023-08-10 12:39:26,462 - pyscenic.transform - WARNING - Less than 80% of the genes in TGIF1 could be mapped to hg38__refseq-r80__500bp_up_and_100bp_down_tss.mc9nr.genes_vs_motifs.rankings. Skipping this module.\n"
     ]
    },
    {
     "name": "stdout",
     "output_type": "stream",
     "text": [
      "[####                                    ] | 10% Completed | 147.65 s"
     ]
    },
    {
     "name": "stderr",
     "output_type": "stream",
     "text": [
      "\n",
      "2023-08-10 12:39:28,168 - pyscenic.transform - WARNING - Less than 80% of the genes in TCF23 could be mapped to hg38__refseq-r80__10kb_up_and_down_tss.mc9nr.genes_vs_motifs.rankings. Skipping this module.\n"
     ]
    },
    {
     "name": "stdout",
     "output_type": "stream",
     "text": [
      "[####                                    ] | 10% Completed | 148.16 s"
     ]
    },
    {
     "name": "stderr",
     "output_type": "stream",
     "text": [
      "\n",
      "2023-08-10 12:39:28,627 - pyscenic.transform - WARNING - Less than 80% of the genes in ZNF385A could be mapped to hg38__refseq-r80__500bp_up_and_100bp_down_tss.mc9nr.genes_vs_motifs.rankings. Skipping this module.\n"
     ]
    },
    {
     "name": "stdout",
     "output_type": "stream",
     "text": [
      "[####                                    ] | 10% Completed | 148.36 s"
     ]
    },
    {
     "name": "stderr",
     "output_type": "stream",
     "text": [
      "\n",
      "2023-08-10 12:39:28,835 - pyscenic.transform - WARNING - Less than 80% of the genes in ZNF556 could be mapped to hg38__refseq-r80__500bp_up_and_100bp_down_tss.mc9nr.genes_vs_motifs.rankings. Skipping this module.\n",
      "\n",
      "2023-08-10 12:39:28,944 - pyscenic.transform - WARNING - Less than 80% of the genes in ZNF699 could be mapped to hg38__refseq-r80__500bp_up_and_100bp_down_tss.mc9nr.genes_vs_motifs.rankings. Skipping this module.\n"
     ]
    },
    {
     "name": "stdout",
     "output_type": "stream",
     "text": [
      "[####                                    ] | 10% Completed | 149.38 s"
     ]
    },
    {
     "name": "stderr",
     "output_type": "stream",
     "text": [
      "\n",
      "2023-08-10 12:39:29,905 - pyscenic.transform - WARNING - Less than 80% of the genes in ASCL1 could be mapped to hg38__refseq-r80__500bp_up_and_100bp_down_tss.mc9nr.genes_vs_motifs.rankings. Skipping this module.\n"
     ]
    },
    {
     "name": "stdout",
     "output_type": "stream",
     "text": [
      "[####                                    ] | 10% Completed | 155.38 s"
     ]
    },
    {
     "name": "stderr",
     "output_type": "stream",
     "text": [
      "\n",
      "2023-08-10 12:39:35,877 - pyscenic.transform - WARNING - Less than 80% of the genes in BHLHE41 could be mapped to hg38__refseq-r80__500bp_up_and_100bp_down_tss.mc9nr.genes_vs_motifs.rankings. Skipping this module.\n"
     ]
    },
    {
     "name": "stdout",
     "output_type": "stream",
     "text": [
      "[####                                    ] | 10% Completed | 159.45 s"
     ]
    },
    {
     "name": "stderr",
     "output_type": "stream",
     "text": [
      "\n",
      "2023-08-10 12:39:39,962 - pyscenic.transform - WARNING - Less than 80% of the genes in CEBPD could be mapped to hg38__refseq-r80__500bp_up_and_100bp_down_tss.mc9nr.genes_vs_motifs.rankings. Skipping this module.\n"
     ]
    },
    {
     "name": "stdout",
     "output_type": "stream",
     "text": [
      "[####                                    ] | 10% Completed | 170.13 s"
     ]
    },
    {
     "name": "stderr",
     "output_type": "stream",
     "text": [
      "\n",
      "2023-08-10 12:39:50,639 - pyscenic.transform - WARNING - Less than 80% of the genes in EN1 could be mapped to hg38__refseq-r80__500bp_up_and_100bp_down_tss.mc9nr.genes_vs_motifs.rankings. Skipping this module.\n"
     ]
    },
    {
     "name": "stdout",
     "output_type": "stream",
     "text": [
      "[####                                    ] | 10% Completed | 175.83 s"
     ]
    },
    {
     "name": "stderr",
     "output_type": "stream",
     "text": [
      "\n",
      "2023-08-10 12:39:56,348 - pyscenic.transform - WARNING - Less than 80% of the genes in HHAT could be mapped to hg38__refseq-r80__500bp_up_and_100bp_down_tss.mc9nr.genes_vs_motifs.rankings. Skipping this module.\n",
      "\n",
      "2023-08-10 12:39:56,463 - pyscenic.transform - WARNING - Less than 80% of the genes in HIST1H2BN could be mapped to hg38__refseq-r80__500bp_up_and_100bp_down_tss.mc9nr.genes_vs_motifs.rankings. Skipping this module.\n"
     ]
    },
    {
     "name": "stdout",
     "output_type": "stream",
     "text": [
      "[####                                    ] | 10% Completed | 177.05 s"
     ]
    },
    {
     "name": "stderr",
     "output_type": "stream",
     "text": [
      "\n",
      "2023-08-10 12:39:57,512 - pyscenic.transform - WARNING - Less than 80% of the genes in INSM2 could be mapped to hg38__refseq-r80__500bp_up_and_100bp_down_tss.mc9nr.genes_vs_motifs.rankings. Skipping this module.\n",
      "\n",
      "2023-08-10 12:39:57,621 - pyscenic.transform - WARNING - Less than 80% of the genes in IRX1 could be mapped to hg38__refseq-r80__500bp_up_and_100bp_down_tss.mc9nr.genes_vs_motifs.rankings. Skipping this module.\n"
     ]
    },
    {
     "name": "stdout",
     "output_type": "stream",
     "text": [
      "[####                                    ] | 10% Completed | 183.05 s"
     ]
    },
    {
     "name": "stderr",
     "output_type": "stream",
     "text": [
      "\n",
      "2023-08-10 12:40:03,608 - pyscenic.transform - WARNING - Less than 80% of the genes in LTF could be mapped to hg38__refseq-r80__500bp_up_and_100bp_down_tss.mc9nr.genes_vs_motifs.rankings. Skipping this module.\n"
     ]
    },
    {
     "name": "stdout",
     "output_type": "stream",
     "text": [
      "[####                                    ] | 10% Completed | 187.63 s"
     ]
    },
    {
     "name": "stderr",
     "output_type": "stream",
     "text": [
      "\n",
      "2023-08-10 12:40:08,156 - pyscenic.transform - WARNING - Less than 80% of the genes in MYBL1 could be mapped to hg38__refseq-r80__500bp_up_and_100bp_down_tss.mc9nr.genes_vs_motifs.rankings. Skipping this module.\n"
     ]
    },
    {
     "name": "stdout",
     "output_type": "stream",
     "text": [
      "[####                                    ] | 10% Completed | 197.09 s"
     ]
    },
    {
     "name": "stderr",
     "output_type": "stream",
     "text": [
      "\n",
      "2023-08-10 12:40:17,658 - pyscenic.transform - WARNING - Less than 80% of the genes in OLIG2 could be mapped to hg38__refseq-r80__500bp_up_and_100bp_down_tss.mc9nr.genes_vs_motifs.rankings. Skipping this module.\n"
     ]
    },
    {
     "name": "stdout",
     "output_type": "stream",
     "text": [
      "[####                                    ] | 10% Completed | 199.43 s"
     ]
    },
    {
     "name": "stderr",
     "output_type": "stream",
     "text": [
      "\n",
      "2023-08-10 12:40:19,934 - pyscenic.transform - WARNING - Less than 80% of the genes in POU3F1 could be mapped to hg38__refseq-r80__500bp_up_and_100bp_down_tss.mc9nr.genes_vs_motifs.rankings. Skipping this module.\n"
     ]
    },
    {
     "name": "stdout",
     "output_type": "stream",
     "text": [
      "[####                                    ] | 10% Completed | 200.76 s"
     ]
    },
    {
     "name": "stderr",
     "output_type": "stream",
     "text": [
      "\n",
      "2023-08-10 12:40:21,286 - pyscenic.transform - WARNING - Less than 80% of the genes in PRDM12 could be mapped to hg38__refseq-r80__500bp_up_and_100bp_down_tss.mc9nr.genes_vs_motifs.rankings. Skipping this module.\n"
     ]
    },
    {
     "name": "stdout",
     "output_type": "stream",
     "text": [
      "[####                                    ] | 10% Completed | 204.12 s"
     ]
    },
    {
     "name": "stderr",
     "output_type": "stream",
     "text": [
      "\n",
      "2023-08-10 12:40:24,679 - pyscenic.transform - WARNING - Less than 80% of the genes in SIM1 could be mapped to hg38__refseq-r80__500bp_up_and_100bp_down_tss.mc9nr.genes_vs_motifs.rankings. Skipping this module.\n"
     ]
    },
    {
     "name": "stdout",
     "output_type": "stream",
     "text": [
      "[####                                    ] | 10% Completed | 206.15 s"
     ]
    },
    {
     "name": "stderr",
     "output_type": "stream",
     "text": [
      "\n",
      "2023-08-10 12:40:26,623 - pyscenic.transform - WARNING - Less than 80% of the genes in SNAI2 could be mapped to hg38__refseq-r80__500bp_up_and_100bp_down_tss.mc9nr.genes_vs_motifs.rankings. Skipping this module.\n"
     ]
    },
    {
     "name": "stdout",
     "output_type": "stream",
     "text": [
      "[####                                    ] | 10% Completed | 206.46 s"
     ]
    },
    {
     "name": "stderr",
     "output_type": "stream",
     "text": [
      "\n",
      "2023-08-10 12:40:27,018 - pyscenic.transform - WARNING - Less than 80% of the genes in SOX5 could be mapped to hg38__refseq-r80__500bp_up_and_100bp_down_tss.mc9nr.genes_vs_motifs.rankings. Skipping this module.\n"
     ]
    },
    {
     "name": "stdout",
     "output_type": "stream",
     "text": [
      "[####                                    ] | 10% Completed | 206.97 s"
     ]
    },
    {
     "name": "stderr",
     "output_type": "stream",
     "text": [
      "\n",
      "2023-08-10 12:40:27,497 - pyscenic.transform - WARNING - Less than 80% of the genes in SP8 could be mapped to hg38__refseq-r80__500bp_up_and_100bp_down_tss.mc9nr.genes_vs_motifs.rankings. Skipping this module.\n"
     ]
    },
    {
     "name": "stdout",
     "output_type": "stream",
     "text": [
      "[####                                    ] | 10% Completed | 210.02 s"
     ]
    },
    {
     "name": "stderr",
     "output_type": "stream",
     "text": [
      "\n",
      "2023-08-10 12:40:30,557 - pyscenic.transform - WARNING - Less than 80% of the genes in ZNF556 could be mapped to hg38__refseq-r80__500bp_up_and_100bp_down_tss.mc9nr.genes_vs_motifs.rankings. Skipping this module.\n",
      "\n",
      "2023-08-10 12:40:30,670 - pyscenic.transform - WARNING - Less than 80% of the genes in ZNF699 could be mapped to hg38__refseq-r80__500bp_up_and_100bp_down_tss.mc9nr.genes_vs_motifs.rankings. Skipping this module.\n"
     ]
    },
    {
     "name": "stdout",
     "output_type": "stream",
     "text": [
      "[####                                    ] | 10% Completed | 212.56 s"
     ]
    },
    {
     "name": "stderr",
     "output_type": "stream",
     "text": [
      "\n",
      "2023-08-10 12:40:33,105 - pyscenic.transform - WARNING - Less than 80% of the genes in BHLHE41 could be mapped to hg38__refseq-r80__10kb_up_and_down_tss.mc9nr.genes_vs_motifs.rankings. Skipping this module.\n"
     ]
    },
    {
     "name": "stdout",
     "output_type": "stream",
     "text": [
      "[####                                    ] | 10% Completed | 214.59 s"
     ]
    },
    {
     "name": "stderr",
     "output_type": "stream",
     "text": [
      "\n",
      "2023-08-10 12:40:35,133 - pyscenic.transform - WARNING - Less than 80% of the genes in CEBPD could be mapped to hg38__refseq-r80__10kb_up_and_down_tss.mc9nr.genes_vs_motifs.rankings. Skipping this module.\n"
     ]
    },
    {
     "name": "stdout",
     "output_type": "stream",
     "text": [
      "[################                        ] | 40% Completed | 225.74 s"
     ]
    },
    {
     "name": "stderr",
     "output_type": "stream",
     "text": [
      "\n",
      "2023-08-10 12:40:46,285 - pyscenic.transform - WARNING - Less than 80% of the genes in EN1 could be mapped to hg38__refseq-r80__10kb_up_and_down_tss.mc9nr.genes_vs_motifs.rankings. Skipping this module.\n"
     ]
    },
    {
     "name": "stdout",
     "output_type": "stream",
     "text": [
      "[################                        ] | 40% Completed | 227.57 s"
     ]
    },
    {
     "name": "stderr",
     "output_type": "stream",
     "text": [
      "\n",
      "2023-08-10 12:40:48,081 - pyscenic.transform - WARNING - Less than 80% of the genes in FEZ1 could be mapped to hg38__refseq-r80__10kb_up_and_down_tss.mc9nr.genes_vs_motifs.rankings. Skipping this module.\n"
     ]
    },
    {
     "name": "stdout",
     "output_type": "stream",
     "text": [
      "[############################            ] | 70% Completed | 230.06 s"
     ]
    },
    {
     "name": "stderr",
     "output_type": "stream",
     "text": [
      "\n",
      "2023-08-10 12:40:50,554 - pyscenic.transform - WARNING - Less than 80% of the genes in GATA2 could be mapped to hg38__refseq-r80__10kb_up_and_down_tss.mc9nr.genes_vs_motifs.rankings. Skipping this module.\n"
     ]
    },
    {
     "name": "stdout",
     "output_type": "stream",
     "text": [
      "[############################            ] | 70% Completed | 230.67 s"
     ]
    },
    {
     "name": "stderr",
     "output_type": "stream",
     "text": [
      "\n",
      "2023-08-10 12:40:51,162 - pyscenic.transform - WARNING - Less than 80% of the genes in GATA5 could be mapped to hg38__refseq-r80__10kb_up_and_down_tss.mc9nr.genes_vs_motifs.rankings. Skipping this module.\n"
     ]
    },
    {
     "name": "stdout",
     "output_type": "stream",
     "text": [
      "[############################            ] | 70% Completed | 231.89 s"
     ]
    },
    {
     "name": "stderr",
     "output_type": "stream",
     "text": [
      "\n",
      "2023-08-10 12:40:52,378 - pyscenic.transform - WARNING - Less than 80% of the genes in HEY2 could be mapped to hg38__refseq-r80__10kb_up_and_down_tss.mc9nr.genes_vs_motifs.rankings. Skipping this module.\n",
      "\n",
      "2023-08-10 12:40:52,530 - pyscenic.transform - WARNING - Less than 80% of the genes in HIST1H2BN could be mapped to hg38__refseq-r80__10kb_up_and_down_tss.mc9nr.genes_vs_motifs.rankings. Skipping this module.\n"
     ]
    },
    {
     "name": "stdout",
     "output_type": "stream",
     "text": [
      "[############################            ] | 70% Completed | 234.44 s"
     ]
    },
    {
     "name": "stderr",
     "output_type": "stream",
     "text": [
      "\n",
      "2023-08-10 12:40:54,971 - pyscenic.transform - WARNING - Less than 80% of the genes in INSM2 could be mapped to hg38__refseq-r80__10kb_up_and_down_tss.mc9nr.genes_vs_motifs.rankings. Skipping this module.\n"
     ]
    },
    {
     "name": "stdout",
     "output_type": "stream",
     "text": [
      "[############################            ] | 70% Completed | 234.74 s"
     ]
    },
    {
     "name": "stderr",
     "output_type": "stream",
     "text": [
      "\n",
      "2023-08-10 12:40:55,303 - pyscenic.transform - WARNING - Less than 80% of the genes in ISL1 could be mapped to hg38__refseq-r80__10kb_up_and_down_tss.mc9nr.genes_vs_motifs.rankings. Skipping this module.\n"
     ]
    },
    {
     "name": "stdout",
     "output_type": "stream",
     "text": [
      "[############################            ] | 70% Completed | 238.00 s"
     ]
    },
    {
     "name": "stderr",
     "output_type": "stream",
     "text": [
      "\n",
      "2023-08-10 12:40:58,550 - pyscenic.transform - WARNING - Less than 80% of the genes in KLF2 could be mapped to hg38__refseq-r80__10kb_up_and_down_tss.mc9nr.genes_vs_motifs.rankings. Skipping this module.\n"
     ]
    },
    {
     "name": "stdout",
     "output_type": "stream",
     "text": [
      "[############################            ] | 70% Completed | 247.98 s"
     ]
    },
    {
     "name": "stderr",
     "output_type": "stream",
     "text": [
      "\n",
      "2023-08-10 12:41:08,476 - pyscenic.transform - WARNING - Less than 80% of the genes in NEUROG1 could be mapped to hg38__refseq-r80__10kb_up_and_down_tss.mc9nr.genes_vs_motifs.rankings. Skipping this module.\n"
     ]
    },
    {
     "name": "stdout",
     "output_type": "stream",
     "text": [
      "[############################            ] | 70% Completed | 251.03 s"
     ]
    },
    {
     "name": "stderr",
     "output_type": "stream",
     "text": [
      "\n",
      "2023-08-10 12:41:11,577 - pyscenic.transform - WARNING - Less than 80% of the genes in POU3F1 could be mapped to hg38__refseq-r80__10kb_up_and_down_tss.mc9nr.genes_vs_motifs.rankings. Skipping this module.\n"
     ]
    },
    {
     "name": "stdout",
     "output_type": "stream",
     "text": [
      "[############################            ] | 70% Completed | 251.64 s"
     ]
    },
    {
     "name": "stderr",
     "output_type": "stream",
     "text": [
      "\n",
      "2023-08-10 12:41:12,158 - pyscenic.transform - WARNING - Less than 80% of the genes in RFC3 could be mapped to hg38__refseq-r80__10kb_up_and_down_tss.mc9nr.genes_vs_motifs.rankings. Skipping this module.\n"
     ]
    },
    {
     "name": "stdout",
     "output_type": "stream",
     "text": [
      "[############################            ] | 70% Completed | 253.06 s"
     ]
    },
    {
     "name": "stderr",
     "output_type": "stream",
     "text": [
      "\n",
      "2023-08-10 12:41:13,575 - pyscenic.transform - WARNING - Less than 80% of the genes in SIM1 could be mapped to hg38__refseq-r80__10kb_up_and_down_tss.mc9nr.genes_vs_motifs.rankings. Skipping this module.\n"
     ]
    },
    {
     "name": "stdout",
     "output_type": "stream",
     "text": [
      "[############################            ] | 70% Completed | 255.91 s"
     ]
    },
    {
     "name": "stderr",
     "output_type": "stream",
     "text": [
      "\n",
      "2023-08-10 12:41:16,388 - pyscenic.transform - WARNING - Less than 80% of the genes in SOX5 could be mapped to hg38__refseq-r80__10kb_up_and_down_tss.mc9nr.genes_vs_motifs.rankings. Skipping this module.\n"
     ]
    },
    {
     "name": "stdout",
     "output_type": "stream",
     "text": [
      "[############################            ] | 70% Completed | 256.62 s"
     ]
    },
    {
     "name": "stderr",
     "output_type": "stream",
     "text": [
      "\n",
      "2023-08-10 12:41:17,128 - pyscenic.transform - WARNING - Less than 80% of the genes in SP4 could be mapped to hg38__refseq-r80__10kb_up_and_down_tss.mc9nr.genes_vs_motifs.rankings. Skipping this module.\n",
      "\n",
      "2023-08-10 12:41:17,188 - pyscenic.transform - WARNING - Less than 80% of the genes in SP5 could be mapped to hg38__refseq-r80__10kb_up_and_down_tss.mc9nr.genes_vs_motifs.rankings. Skipping this module.\n",
      "\n",
      "2023-08-10 12:41:17,251 - pyscenic.transform - WARNING - Less than 80% of the genes in SP8 could be mapped to hg38__refseq-r80__10kb_up_and_down_tss.mc9nr.genes_vs_motifs.rankings. Skipping this module.\n"
     ]
    },
    {
     "name": "stdout",
     "output_type": "stream",
     "text": [
      "[############################            ] | 70% Completed | 257.74 s"
     ]
    },
    {
     "name": "stderr",
     "output_type": "stream",
     "text": [
      "\n",
      "2023-08-10 12:41:18,294 - pyscenic.transform - WARNING - Less than 80% of the genes in TGIF1 could be mapped to hg38__refseq-r80__10kb_up_and_down_tss.mc9nr.genes_vs_motifs.rankings. Skipping this module.\n"
     ]
    },
    {
     "name": "stdout",
     "output_type": "stream",
     "text": [
      "[########################################] | 100% Completed | 258.49 s\n",
      "\n",
      "COMPLETED WRITING ENRICHED MOTIFS /home/linl5/project/SCLC/data/lx33/lx33.UUUT.0.66.motifs.csv \n",
      "\n",
      "                                         Enrichment            \\\n",
      "                                                AUC       NES   \n",
      "TF    MotifID                                                   \n",
      "ASCL2 hocomoco__PTF1A_HUMAN.H11MO.1.B      0.096394  3.153788   \n",
      "      dbcorrdb__TCF12__ENCSR000BGZ_1__m1   0.135656  5.082400   \n",
      "      transfac_pro__M02841                 0.100746  3.367574   \n",
      "      taipale__Ascl2_DBD_RRCAGCTGYY_repr   0.097265  3.196545   \n",
      "      transfac_pro__M02737                 0.112801  3.959697   \n",
      "\n",
      "                                                                \\\n",
      "                                         MotifSimilarityQvalue   \n",
      "TF    MotifID                                                    \n",
      "ASCL2 hocomoco__PTF1A_HUMAN.H11MO.1.B                 0.000846   \n",
      "      dbcorrdb__TCF12__ENCSR000BGZ_1__m1              0.000080   \n",
      "      transfac_pro__M02841                            0.000000   \n",
      "      taipale__Ascl2_DBD_RRCAGCTGYY_repr              0.000000   \n",
      "      transfac_pro__M02737                            0.000000   \n",
      "\n",
      "                                                              \\\n",
      "                                         OrthologousIdentity   \n",
      "TF    MotifID                                                  \n",
      "ASCL2 hocomoco__PTF1A_HUMAN.H11MO.1.B               1.000000   \n",
      "      dbcorrdb__TCF12__ENCSR000BGZ_1__m1            1.000000   \n",
      "      transfac_pro__M02841                          0.683938   \n",
      "      taipale__Ascl2_DBD_RRCAGCTGYY_repr            0.683938   \n",
      "      transfac_pro__M02737                          0.683938   \n",
      "\n",
      "                                                                                             \\\n",
      "                                                                                 Annotation   \n",
      "TF    MotifID                                                                                 \n",
      "ASCL2 hocomoco__PTF1A_HUMAN.H11MO.1.B     gene is annotated for similar motif hocomoco__...   \n",
      "      dbcorrdb__TCF12__ENCSR000BGZ_1__m1  motif similar to taipale_cyt_meth__ASCL2_NRCAG...   \n",
      "      transfac_pro__M02841                gene is orthologous to ENSMUSG00000009248 in M...   \n",
      "      taipale__Ascl2_DBD_RRCAGCTGYY_repr  gene is orthologous to ENSMUSG00000009248 in M...   \n",
      "      transfac_pro__M02737                gene is orthologous to ENSMUSG00000009248 in M...   \n",
      "\n",
      "                                                                                             \\\n",
      "                                                                                    Context   \n",
      "TF    MotifID                                                                                 \n",
      "ASCL2 hocomoco__PTF1A_HUMAN.H11MO.1.B     (activating, hg38__refseq-r80__10kb_up_and_dow...   \n",
      "      dbcorrdb__TCF12__ENCSR000BGZ_1__m1  (activating, hg38__refseq-r80__10kb_up_and_dow...   \n",
      "      transfac_pro__M02841                (activating, hg38__refseq-r80__10kb_up_and_dow...   \n",
      "      taipale__Ascl2_DBD_RRCAGCTGYY_repr  (activating, hg38__refseq-r80__10kb_up_and_dow...   \n",
      "      transfac_pro__M02737                (activating, hg38__refseq-r80__10kb_up_and_dow...   \n",
      "\n",
      "                                                                                             \\\n",
      "                                                                                TargetGenes   \n",
      "TF    MotifID                                                                                 \n",
      "ASCL2 hocomoco__PTF1A_HUMAN.H11MO.1.B     [(BGN, 2.8627726669615323), (CABP7, 2.81624279...   \n",
      "      dbcorrdb__TCF12__ENCSR000BGZ_1__m1  [(CABP7, 2.8162427920523285), (BGN, 2.86277266...   \n",
      "      transfac_pro__M02841                [(VGF, 1.625449217367016), (BGN, 2.86277266696...   \n",
      "      taipale__Ascl2_DBD_RRCAGCTGYY_repr  [(BGN, 2.8627726669615323), (DLL1, 3.533160502...   \n",
      "      transfac_pro__M02737                [(DLL1, 3.533160502800777), (BGN, 2.8627726669...   \n",
      "\n",
      "                                                    \n",
      "                                         RankAtMax  \n",
      "TF    MotifID                                       \n",
      "ASCL2 hocomoco__PTF1A_HUMAN.H11MO.1.B         1421  \n",
      "      dbcorrdb__TCF12__ENCSR000BGZ_1__m1      1443  \n",
      "      transfac_pro__M02841                    1206  \n",
      "      taipale__Ascl2_DBD_RRCAGCTGYY_repr      1473  \n",
      "      transfac_pro__M02737                     190  \n",
      "Create regulons from a dataframe of enriched features.\n",
      "Additional columns saved: []\n",
      "\n",
      "COMPLETED WRITING DISCOVERED REGULON /home/linl5/project/SCLC/data/lx33/lx33.UUUT.0.66.regulons.p \n",
      "\n",
      "\n",
      "FINISHED READING ADJACENCIES FILE /home/linl5/project/SCLC/data/lx33/lx33.UUUU.0.66.adjacencies.tsv \n",
      "\n"
     ]
    },
    {
     "name": "stderr",
     "output_type": "stream",
     "text": [
      "\n",
      "2023-08-10 12:41:22,283 - pyscenic.utils - INFO - Calculating Pearson correlations.\n",
      "\n",
      "2023-08-10 12:41:22,304 - pyscenic.utils - WARNING - Note on correlation calculation: the default behaviour for calculating the correlations has changed after pySCENIC verion 0.9.16. Previously, the default was to calculate the correlation between a TF and target gene using only cells with non-zero expression values (mask_dropouts=True). The current default is now to use all cells to match the behavior of the R verision of SCENIC. The original settings can be retained by setting 'rho_mask_dropouts=True' in the modules_from_adjacencies function, or '--mask_dropouts' from the CLI.\n",
      "\tDropout masking is currently set to [False].\n"
     ]
    },
    {
     "name": "stdout",
     "output_type": "stream",
     "text": [
      "\n",
      "FINISHED READING EXPRESSION MATRIX /home/linl5/project/SCLC/results/lx33/lx33.UUUU.0.66.qc.tpm.csv \n",
      "\n"
     ]
    },
    {
     "name": "stderr",
     "output_type": "stream",
     "text": [
      "\n",
      "2023-08-10 12:41:23,472 - pyscenic.utils - INFO - Creating modules.\n"
     ]
    },
    {
     "name": "stdout",
     "output_type": "stream",
     "text": [
      "\n",
      "COMPLETED COEXPRESSION MODULE WRITING: /home/linl5/project/SCLC/data/lx33/lx33.UUUU.0.66.modules.p \n",
      "\n",
      "[                                        ] | 0% Completed | 13.87 sms"
     ]
    },
    {
     "name": "stderr",
     "output_type": "stream",
     "text": [
      "\n",
      "2023-08-10 12:41:45,417 - pyscenic.transform - WARNING - Less than 80% of the genes in CXXC5 could be mapped to hg38__refseq-r80__500bp_up_and_100bp_down_tss.mc9nr.genes_vs_motifs.rankings. Skipping this module.\n"
     ]
    },
    {
     "name": "stdout",
     "output_type": "stream",
     "text": [
      "[                                        ] | 0% Completed | 14.89 s"
     ]
    },
    {
     "name": "stderr",
     "output_type": "stream",
     "text": [
      "\n",
      "2023-08-10 12:41:46,430 - pyscenic.transform - WARNING - Less than 80% of the genes in Regulon for HHAT could be mapped to hg38__refseq-r80__10kb_up_and_down_tss.mc9nr.genes_vs_motifs.rankings. Skipping this module.\n"
     ]
    },
    {
     "name": "stdout",
     "output_type": "stream",
     "text": [
      "[                                        ] | 0% Completed | 15.50 s"
     ]
    },
    {
     "name": "stderr",
     "output_type": "stream",
     "text": [
      "\n",
      "2023-08-10 12:41:47,043 - pyscenic.transform - WARNING - Less than 80% of the genes in DMBX1 could be mapped to hg38__refseq-r80__500bp_up_and_100bp_down_tss.mc9nr.genes_vs_motifs.rankings. Skipping this module.\n"
     ]
    },
    {
     "name": "stdout",
     "output_type": "stream",
     "text": [
      "[                                        ] | 0% Completed | 23.03 s"
     ]
    },
    {
     "name": "stderr",
     "output_type": "stream",
     "text": [
      "\n",
      "2023-08-10 12:41:54,595 - pyscenic.transform - WARNING - Less than 80% of the genes in EN1 could be mapped to hg38__refseq-r80__500bp_up_and_100bp_down_tss.mc9nr.genes_vs_motifs.rankings. Skipping this module.\n"
     ]
    },
    {
     "name": "stdout",
     "output_type": "stream",
     "text": [
      "[                                        ] | 0% Completed | 25.57 s"
     ]
    },
    {
     "name": "stderr",
     "output_type": "stream",
     "text": [
      "\n",
      "2023-08-10 12:41:57,067 - pyscenic.transform - WARNING - Less than 80% of the genes in GATA5 could be mapped to hg38__refseq-r80__500bp_up_and_100bp_down_tss.mc9nr.genes_vs_motifs.rankings. Skipping this module.\n"
     ]
    },
    {
     "name": "stdout",
     "output_type": "stream",
     "text": [
      "[                                        ] | 0% Completed | 26.08 s"
     ]
    },
    {
     "name": "stderr",
     "output_type": "stream",
     "text": [
      "\n",
      "2023-08-10 12:41:57,619 - pyscenic.transform - WARNING - Less than 80% of the genes in HES4 could be mapped to hg38__refseq-r80__500bp_up_and_100bp_down_tss.mc9nr.genes_vs_motifs.rankings. Skipping this module.\n"
     ]
    },
    {
     "name": "stdout",
     "output_type": "stream",
     "text": [
      "[                                        ] | 0% Completed | 26.69 s"
     ]
    },
    {
     "name": "stderr",
     "output_type": "stream",
     "text": [
      "\n",
      "2023-08-10 12:41:58,260 - pyscenic.transform - WARNING - Less than 80% of the genes in HHAT could be mapped to hg38__refseq-r80__500bp_up_and_100bp_down_tss.mc9nr.genes_vs_motifs.rankings. Skipping this module.\n",
      "\n",
      "2023-08-10 12:41:58,397 - pyscenic.transform - WARNING - Less than 80% of the genes in HIST1H2BN could be mapped to hg38__refseq-r80__500bp_up_and_100bp_down_tss.mc9nr.genes_vs_motifs.rankings. Skipping this module.\n"
     ]
    },
    {
     "name": "stdout",
     "output_type": "stream",
     "text": [
      "[                                        ] | 0% Completed | 28.12 s"
     ]
    },
    {
     "name": "stderr",
     "output_type": "stream",
     "text": [
      "\n",
      "2023-08-10 12:41:59,696 - pyscenic.transform - WARNING - Less than 80% of the genes in INSM2 could be mapped to hg38__refseq-r80__500bp_up_and_100bp_down_tss.mc9nr.genes_vs_motifs.rankings. Skipping this module.\n"
     ]
    },
    {
     "name": "stdout",
     "output_type": "stream",
     "text": [
      "[                                        ] | 0% Completed | 32.50 s"
     ]
    },
    {
     "name": "stderr",
     "output_type": "stream",
     "text": [
      "\n",
      "2023-08-10 12:42:04,057 - pyscenic.transform - WARNING - Less than 80% of the genes in LHX9 could be mapped to hg38__refseq-r80__500bp_up_and_100bp_down_tss.mc9nr.genes_vs_motifs.rankings. Skipping this module.\n"
     ]
    },
    {
     "name": "stdout",
     "output_type": "stream",
     "text": [
      "[                                        ] | 0% Completed | 36.26 s"
     ]
    },
    {
     "name": "stderr",
     "output_type": "stream",
     "text": [
      "\n",
      "2023-08-10 12:42:07,848 - pyscenic.transform - WARNING - Less than 80% of the genes in MSX1 could be mapped to hg38__refseq-r80__500bp_up_and_100bp_down_tss.mc9nr.genes_vs_motifs.rankings. Skipping this module.\n",
      "\n",
      "2023-08-10 12:42:08,038 - pyscenic.transform - WARNING - Less than 80% of the genes in MYBL1 could be mapped to hg38__refseq-r80__500bp_up_and_100bp_down_tss.mc9nr.genes_vs_motifs.rankings. Skipping this module.\n"
     ]
    },
    {
     "name": "stdout",
     "output_type": "stream",
     "text": [
      "[                                        ] | 0% Completed | 40.44 s"
     ]
    },
    {
     "name": "stderr",
     "output_type": "stream",
     "text": [
      "\n",
      "2023-08-10 12:42:11,980 - pyscenic.transform - WARNING - Less than 80% of the genes in NEUROG1 could be mapped to hg38__refseq-r80__500bp_up_and_100bp_down_tss.mc9nr.genes_vs_motifs.rankings. Skipping this module.\n"
     ]
    },
    {
     "name": "stdout",
     "output_type": "stream",
     "text": [
      "[                                        ] | 0% Completed | 40.85 s"
     ]
    },
    {
     "name": "stderr",
     "output_type": "stream",
     "text": [
      "\n",
      "2023-08-10 12:42:12,334 - pyscenic.transform - WARNING - Less than 80% of the genes in NKX2-5 could be mapped to hg38__refseq-r80__500bp_up_and_100bp_down_tss.mc9nr.genes_vs_motifs.rankings. Skipping this module.\n"
     ]
    },
    {
     "name": "stdout",
     "output_type": "stream",
     "text": [
      "[                                        ] | 0% Completed | 42.78 s"
     ]
    },
    {
     "name": "stderr",
     "output_type": "stream",
     "text": [
      "\n",
      "2023-08-10 12:42:14,300 - pyscenic.transform - WARNING - Less than 80% of the genes in PGAM2 could be mapped to hg38__refseq-r80__500bp_up_and_100bp_down_tss.mc9nr.genes_vs_motifs.rankings. Skipping this module.\n"
     ]
    },
    {
     "name": "stdout",
     "output_type": "stream",
     "text": [
      "[                                        ] | 0% Completed | 44.92 s"
     ]
    },
    {
     "name": "stderr",
     "output_type": "stream",
     "text": [
      "\n",
      "2023-08-10 12:42:16,421 - pyscenic.transform - WARNING - Less than 80% of the genes in POU3F1 could be mapped to hg38__refseq-r80__500bp_up_and_100bp_down_tss.mc9nr.genes_vs_motifs.rankings. Skipping this module.\n"
     ]
    },
    {
     "name": "stdout",
     "output_type": "stream",
     "text": [
      "[                                        ] | 0% Completed | 45.23 s"
     ]
    },
    {
     "name": "stderr",
     "output_type": "stream",
     "text": [
      "\n",
      "2023-08-10 12:42:16,810 - pyscenic.transform - WARNING - Less than 80% of the genes in PRDM1 could be mapped to hg38__refseq-r80__500bp_up_and_100bp_down_tss.mc9nr.genes_vs_motifs.rankings. Skipping this module.\n",
      "\n",
      "2023-08-10 12:42:16,914 - pyscenic.transform - WARNING - Less than 80% of the genes in PRDM12 could be mapped to hg38__refseq-r80__500bp_up_and_100bp_down_tss.mc9nr.genes_vs_motifs.rankings. Skipping this module.\n"
     ]
    },
    {
     "name": "stdout",
     "output_type": "stream",
     "text": [
      "[                                        ] | 0% Completed | 45.53 s"
     ]
    },
    {
     "name": "stderr",
     "output_type": "stream",
     "text": [
      "\n",
      "2023-08-10 12:42:17,044 - pyscenic.transform - WARNING - Less than 80% of the genes in PROX1 could be mapped to hg38__refseq-r80__500bp_up_and_100bp_down_tss.mc9nr.genes_vs_motifs.rankings. Skipping this module.\n"
     ]
    },
    {
     "name": "stdout",
     "output_type": "stream",
     "text": [
      "[                                        ] | 0% Completed | 47.98 s"
     ]
    },
    {
     "name": "stderr",
     "output_type": "stream",
     "text": [
      "\n",
      "2023-08-10 12:42:19,544 - pyscenic.transform - WARNING - Less than 80% of the genes in SIM1 could be mapped to hg38__refseq-r80__500bp_up_and_100bp_down_tss.mc9nr.genes_vs_motifs.rankings. Skipping this module.\n"
     ]
    },
    {
     "name": "stdout",
     "output_type": "stream",
     "text": [
      "[                                        ] | 0% Completed | 50.52 s"
     ]
    },
    {
     "name": "stderr",
     "output_type": "stream",
     "text": [
      "\n",
      "2023-08-10 12:42:22,057 - pyscenic.transform - WARNING - Less than 80% of the genes in SOX5 could be mapped to hg38__refseq-r80__500bp_up_and_100bp_down_tss.mc9nr.genes_vs_motifs.rankings. Skipping this module.\n"
     ]
    },
    {
     "name": "stdout",
     "output_type": "stream",
     "text": [
      "[                                        ] | 0% Completed | 51.54 s"
     ]
    },
    {
     "name": "stderr",
     "output_type": "stream",
     "text": [
      "\n",
      "2023-08-10 12:42:23,097 - pyscenic.transform - WARNING - Less than 80% of the genes in SP4 could be mapped to hg38__refseq-r80__500bp_up_and_100bp_down_tss.mc9nr.genes_vs_motifs.rankings. Skipping this module.\n"
     ]
    },
    {
     "name": "stdout",
     "output_type": "stream",
     "text": [
      "[                                        ] | 0% Completed | 52.35 s"
     ]
    },
    {
     "name": "stderr",
     "output_type": "stream",
     "text": [
      "\n",
      "2023-08-10 12:42:23,853 - pyscenic.transform - WARNING - Less than 80% of the genes in SP8 could be mapped to hg38__refseq-r80__500bp_up_and_100bp_down_tss.mc9nr.genes_vs_motifs.rankings. Skipping this module.\n"
     ]
    },
    {
     "name": "stdout",
     "output_type": "stream",
     "text": [
      "[                                        ] | 0% Completed | 55.09 s"
     ]
    },
    {
     "name": "stderr",
     "output_type": "stream",
     "text": [
      "\n",
      "2023-08-10 12:42:26,658 - pyscenic.transform - WARNING - Less than 80% of the genes in TGIF1 could be mapped to hg38__refseq-r80__500bp_up_and_100bp_down_tss.mc9nr.genes_vs_motifs.rankings. Skipping this module.\n"
     ]
    },
    {
     "name": "stdout",
     "output_type": "stream",
     "text": [
      "[                                        ] | 0% Completed | 58.96 s"
     ]
    },
    {
     "name": "stderr",
     "output_type": "stream",
     "text": [
      "\n",
      "2023-08-10 12:42:30,522 - pyscenic.transform - WARNING - Less than 80% of the genes in ZNF699 could be mapped to hg38__refseq-r80__500bp_up_and_100bp_down_tss.mc9nr.genes_vs_motifs.rankings. Skipping this module.\n"
     ]
    },
    {
     "name": "stdout",
     "output_type": "stream",
     "text": [
      "[####                                    ] | 10% Completed | 69.03 s"
     ]
    },
    {
     "name": "stderr",
     "output_type": "stream",
     "text": [
      "\n",
      "2023-08-10 12:42:40,564 - pyscenic.transform - WARNING - Less than 80% of the genes in Regulon for VDR could be mapped to hg38__refseq-r80__500bp_up_and_100bp_down_tss.mc9nr.genes_vs_motifs.rankings. Skipping this module.\n"
     ]
    },
    {
     "name": "stdout",
     "output_type": "stream",
     "text": [
      "[####                                    ] | 10% Completed | 92.13 s"
     ]
    },
    {
     "name": "stderr",
     "output_type": "stream",
     "text": [
      "\n",
      "2023-08-10 12:43:03,710 - pyscenic.transform - WARNING - Less than 80% of the genes in Regulon for HHAT could be mapped to hg38__refseq-r80__500bp_up_and_100bp_down_tss.mc9nr.genes_vs_motifs.rankings. Skipping this module.\n"
     ]
    },
    {
     "name": "stdout",
     "output_type": "stream",
     "text": [
      "[####                                    ] | 10% Completed | 121.11 s"
     ]
    },
    {
     "name": "stderr",
     "output_type": "stream",
     "text": [
      "\n",
      "2023-08-10 12:43:32,652 - pyscenic.transform - WARNING - Less than 80% of the genes in ATF5 could be mapped to hg38__refseq-r80__10kb_up_and_down_tss.mc9nr.genes_vs_motifs.rankings. Skipping this module.\n"
     ]
    },
    {
     "name": "stdout",
     "output_type": "stream",
     "text": [
      "[####                                    ] | 10% Completed | 121.32 s"
     ]
    },
    {
     "name": "stderr",
     "output_type": "stream",
     "text": [
      "\n",
      "2023-08-10 12:43:32,888 - pyscenic.transform - WARNING - Less than 80% of the genes in BARX1 could be mapped to hg38__refseq-r80__10kb_up_and_down_tss.mc9nr.genes_vs_motifs.rankings. Skipping this module.\n"
     ]
    },
    {
     "name": "stdout",
     "output_type": "stream",
     "text": [
      "[####                                    ] | 10% Completed | 126.00 s"
     ]
    },
    {
     "name": "stderr",
     "output_type": "stream",
     "text": [
      "\n",
      "2023-08-10 12:43:37,551 - pyscenic.transform - WARNING - Less than 80% of the genes in CXXC5 could be mapped to hg38__refseq-r80__10kb_up_and_down_tss.mc9nr.genes_vs_motifs.rankings. Skipping this module.\n"
     ]
    },
    {
     "name": "stdout",
     "output_type": "stream",
     "text": [
      "[####                                    ] | 10% Completed | 133.53 s"
     ]
    },
    {
     "name": "stderr",
     "output_type": "stream",
     "text": [
      "\n",
      "2023-08-10 12:43:45,011 - pyscenic.transform - WARNING - Less than 80% of the genes in FEZ1 could be mapped to hg38__refseq-r80__10kb_up_and_down_tss.mc9nr.genes_vs_motifs.rankings. Skipping this module.\n"
     ]
    },
    {
     "name": "stdout",
     "output_type": "stream",
     "text": [
      "[####                                    ] | 10% Completed | 138.93 s"
     ]
    },
    {
     "name": "stderr",
     "output_type": "stream",
     "text": [
      "\n",
      "2023-08-10 12:43:50,474 - pyscenic.transform - WARNING - Less than 80% of the genes in HIST1H2BN could be mapped to hg38__refseq-r80__10kb_up_and_down_tss.mc9nr.genes_vs_motifs.rankings. Skipping this module.\n"
     ]
    },
    {
     "name": "stdout",
     "output_type": "stream",
     "text": [
      "[####                                    ] | 10% Completed | 140.15 s"
     ]
    },
    {
     "name": "stderr",
     "output_type": "stream",
     "text": [
      "\n",
      "2023-08-10 12:43:51,686 - pyscenic.transform - WARNING - Less than 80% of the genes in INSM1 could be mapped to hg38__refseq-r80__10kb_up_and_down_tss.mc9nr.genes_vs_motifs.rankings. Skipping this module.\n",
      "\n",
      "2023-08-10 12:43:51,828 - pyscenic.transform - WARNING - Less than 80% of the genes in INSM2 could be mapped to hg38__refseq-r80__10kb_up_and_down_tss.mc9nr.genes_vs_motifs.rankings. Skipping this module.\n"
     ]
    },
    {
     "name": "stdout",
     "output_type": "stream",
     "text": [
      "[####                                    ] | 10% Completed | 142.59 s"
     ]
    },
    {
     "name": "stderr",
     "output_type": "stream",
     "text": [
      "\n",
      "2023-08-10 12:43:54,139 - pyscenic.transform - WARNING - Less than 80% of the genes in KLF2 could be mapped to hg38__refseq-r80__10kb_up_and_down_tss.mc9nr.genes_vs_motifs.rankings. Skipping this module.\n"
     ]
    },
    {
     "name": "stdout",
     "output_type": "stream",
     "text": [
      "[####                                    ] | 10% Completed | 144.22 s"
     ]
    },
    {
     "name": "stderr",
     "output_type": "stream",
     "text": [
      "\n",
      "2023-08-10 12:43:55,763 - pyscenic.transform - WARNING - Less than 80% of the genes in KLF6 could be mapped to hg38__refseq-r80__10kb_up_and_down_tss.mc9nr.genes_vs_motifs.rankings. Skipping this module.\n"
     ]
    },
    {
     "name": "stdout",
     "output_type": "stream",
     "text": [
      "[####                                    ] | 10% Completed | 146.15 s"
     ]
    },
    {
     "name": "stderr",
     "output_type": "stream",
     "text": [
      "\n",
      "2023-08-10 12:43:57,643 - pyscenic.transform - WARNING - Less than 80% of the genes in LHX9 could be mapped to hg38__refseq-r80__10kb_up_and_down_tss.mc9nr.genes_vs_motifs.rankings. Skipping this module.\n"
     ]
    },
    {
     "name": "stdout",
     "output_type": "stream",
     "text": [
      "[####                                    ] | 10% Completed | 153.98 s"
     ]
    },
    {
     "name": "stderr",
     "output_type": "stream",
     "text": [
      "\n",
      "2023-08-10 12:44:05,470 - pyscenic.transform - WARNING - Less than 80% of the genes in NANOS1 could be mapped to hg38__refseq-r80__10kb_up_and_down_tss.mc9nr.genes_vs_motifs.rankings. Skipping this module.\n"
     ]
    },
    {
     "name": "stdout",
     "output_type": "stream",
     "text": [
      "[####                                    ] | 10% Completed | 154.19 s"
     ]
    },
    {
     "name": "stderr",
     "output_type": "stream",
     "text": [
      "\n",
      "2023-08-10 12:44:05,717 - pyscenic.transform - WARNING - Less than 80% of the genes in NEUROG1 could be mapped to hg38__refseq-r80__10kb_up_and_down_tss.mc9nr.genes_vs_motifs.rankings. Skipping this module.\n"
     ]
    },
    {
     "name": "stdout",
     "output_type": "stream",
     "text": [
      "[####                                    ] | 10% Completed | 156.12 s"
     ]
    },
    {
     "name": "stderr",
     "output_type": "stream",
     "text": [
      "\n",
      "2023-08-10 12:44:07,610 - pyscenic.transform - WARNING - Less than 80% of the genes in NR4A1 could be mapped to hg38__refseq-r80__10kb_up_and_down_tss.mc9nr.genes_vs_motifs.rankings. Skipping this module.\n"
     ]
    },
    {
     "name": "stdout",
     "output_type": "stream",
     "text": [
      "[####                                    ] | 10% Completed | 161.31 s"
     ]
    },
    {
     "name": "stderr",
     "output_type": "stream",
     "text": [
      "\n",
      "2023-08-10 12:44:12,791 - pyscenic.transform - WARNING - Less than 80% of the genes in PPARGC1A could be mapped to hg38__refseq-r80__10kb_up_and_down_tss.mc9nr.genes_vs_motifs.rankings. Skipping this module.\n",
      "\n",
      "2023-08-10 12:44:12,892 - pyscenic.transform - WARNING - Less than 80% of the genes in PROX1 could be mapped to hg38__refseq-r80__10kb_up_and_down_tss.mc9nr.genes_vs_motifs.rankings. Skipping this module.\n"
     ]
    },
    {
     "name": "stdout",
     "output_type": "stream",
     "text": [
      "[####                                    ] | 10% Completed | 161.72 s"
     ]
    },
    {
     "name": "stderr",
     "output_type": "stream",
     "text": [
      "\n",
      "2023-08-10 12:44:13,233 - pyscenic.transform - WARNING - Less than 80% of the genes in RFC3 could be mapped to hg38__refseq-r80__10kb_up_and_down_tss.mc9nr.genes_vs_motifs.rankings. Skipping this module.\n"
     ]
    },
    {
     "name": "stdout",
     "output_type": "stream",
     "text": [
      "[####                                    ] | 10% Completed | 163.04 s"
     ]
    },
    {
     "name": "stderr",
     "output_type": "stream",
     "text": [
      "\n",
      "2023-08-10 12:44:14,559 - pyscenic.transform - WARNING - Less than 80% of the genes in SIM1 could be mapped to hg38__refseq-r80__10kb_up_and_down_tss.mc9nr.genes_vs_motifs.rankings. Skipping this module.\n"
     ]
    },
    {
     "name": "stdout",
     "output_type": "stream",
     "text": [
      "[####                                    ] | 10% Completed | 166.91 s"
     ]
    },
    {
     "name": "stderr",
     "output_type": "stream",
     "text": [
      "\n",
      "2023-08-10 12:44:18,416 - pyscenic.transform - WARNING - Less than 80% of the genes in SOX14 could be mapped to hg38__refseq-r80__10kb_up_and_down_tss.mc9nr.genes_vs_motifs.rankings. Skipping this module.\n",
      "\n",
      "2023-08-10 12:44:18,607 - pyscenic.transform - WARNING - Less than 80% of the genes in SOX5 could be mapped to hg38__refseq-r80__10kb_up_and_down_tss.mc9nr.genes_vs_motifs.rankings. Skipping this module.\n"
     ]
    },
    {
     "name": "stdout",
     "output_type": "stream",
     "text": [
      "[####                                    ] | 10% Completed | 167.21 s"
     ]
    },
    {
     "name": "stderr",
     "output_type": "stream",
     "text": [
      "\n",
      "2023-08-10 12:44:18,778 - pyscenic.transform - WARNING - Less than 80% of the genes in SP4 could be mapped to hg38__refseq-r80__10kb_up_and_down_tss.mc9nr.genes_vs_motifs.rankings. Skipping this module.\n"
     ]
    },
    {
     "name": "stdout",
     "output_type": "stream",
     "text": [
      "[####                                    ] | 10% Completed | 167.92 s"
     ]
    },
    {
     "name": "stderr",
     "output_type": "stream",
     "text": [
      "\n",
      "2023-08-10 12:44:19,478 - pyscenic.transform - WARNING - Less than 80% of the genes in SP8 could be mapped to hg38__refseq-r80__10kb_up_and_down_tss.mc9nr.genes_vs_motifs.rankings. Skipping this module.\n"
     ]
    },
    {
     "name": "stdout",
     "output_type": "stream",
     "text": [
      "[####                                    ] | 10% Completed | 170.06 s"
     ]
    },
    {
     "name": "stderr",
     "output_type": "stream",
     "text": [
      "\n",
      "2023-08-10 12:44:21,600 - pyscenic.transform - WARNING - Less than 80% of the genes in TGIF1 could be mapped to hg38__refseq-r80__10kb_up_and_down_tss.mc9nr.genes_vs_motifs.rankings. Skipping this module.\n"
     ]
    },
    {
     "name": "stdout",
     "output_type": "stream",
     "text": [
      "[####                                    ] | 10% Completed | 172.30 s"
     ]
    },
    {
     "name": "stderr",
     "output_type": "stream",
     "text": [
      "\n",
      "2023-08-10 12:44:23,879 - pyscenic.transform - WARNING - Less than 80% of the genes in ASCL1 could be mapped to hg38__refseq-r80__10kb_up_and_down_tss.mc9nr.genes_vs_motifs.rankings. Skipping this module.\n"
     ]
    },
    {
     "name": "stdout",
     "output_type": "stream",
     "text": [
      "[####                                    ] | 10% Completed | 178.91 s"
     ]
    },
    {
     "name": "stderr",
     "output_type": "stream",
     "text": [
      "\n",
      "2023-08-10 12:44:30,466 - pyscenic.transform - WARNING - Less than 80% of the genes in CXXC5 could be mapped to hg38__refseq-r80__10kb_up_and_down_tss.mc9nr.genes_vs_motifs.rankings. Skipping this module.\n"
     ]
    },
    {
     "name": "stdout",
     "output_type": "stream",
     "text": [
      "[####                                    ] | 10% Completed | 181.25 s"
     ]
    },
    {
     "name": "stderr",
     "output_type": "stream",
     "text": [
      "\n",
      "2023-08-10 12:44:32,818 - pyscenic.transform - WARNING - Less than 80% of the genes in DMBX1 could be mapped to hg38__refseq-r80__10kb_up_and_down_tss.mc9nr.genes_vs_motifs.rankings. Skipping this module.\n"
     ]
    },
    {
     "name": "stdout",
     "output_type": "stream",
     "text": [
      "[####                                    ] | 10% Completed | 185.72 s"
     ]
    },
    {
     "name": "stderr",
     "output_type": "stream",
     "text": [
      "\n",
      "2023-08-10 12:44:37,272 - pyscenic.transform - WARNING - Less than 80% of the genes in ATF5 could be mapped to hg38__refseq-r80__500bp_up_and_100bp_down_tss.mc9nr.genes_vs_motifs.rankings. Skipping this module.\n"
     ]
    },
    {
     "name": "stdout",
     "output_type": "stream",
     "text": [
      "[####                                    ] | 10% Completed | 186.02 s"
     ]
    },
    {
     "name": "stderr",
     "output_type": "stream",
     "text": [
      "\n",
      "2023-08-10 12:44:37,517 - pyscenic.transform - WARNING - Less than 80% of the genes in BARX1 could be mapped to hg38__refseq-r80__500bp_up_and_100bp_down_tss.mc9nr.genes_vs_motifs.rankings. Skipping this module.\n"
     ]
    },
    {
     "name": "stdout",
     "output_type": "stream",
     "text": [
      "[####                                    ] | 10% Completed | 187.96 s"
     ]
    },
    {
     "name": "stderr",
     "output_type": "stream",
     "text": [
      "\n",
      "2023-08-10 12:44:39,531 - pyscenic.transform - WARNING - Less than 80% of the genes in Regulon for VDR could be mapped to hg38__refseq-r80__10kb_up_and_down_tss.mc9nr.genes_vs_motifs.rankings. Skipping this module.\n"
     ]
    },
    {
     "name": "stdout",
     "output_type": "stream",
     "text": [
      "[####                                    ] | 10% Completed | 189.89 s"
     ]
    },
    {
     "name": "stderr",
     "output_type": "stream",
     "text": [
      "\n",
      "2023-08-10 12:44:41,454 - pyscenic.transform - WARNING - Less than 80% of the genes in CXXC5 could be mapped to hg38__refseq-r80__500bp_up_and_100bp_down_tss.mc9nr.genes_vs_motifs.rankings. Skipping this module.\n",
      "\n",
      "2023-08-10 12:44:41,477 - pyscenic.transform - WARNING - Less than 80% of the genes in EN1 could be mapped to hg38__refseq-r80__10kb_up_and_down_tss.mc9nr.genes_vs_motifs.rankings. Skipping this module.\n"
     ]
    },
    {
     "name": "stdout",
     "output_type": "stream",
     "text": [
      "[####                                    ] | 10% Completed | 194.06 s"
     ]
    },
    {
     "name": "stderr",
     "output_type": "stream",
     "text": [
      "\n",
      "2023-08-10 12:44:45,552 - pyscenic.transform - WARNING - Less than 80% of the genes in GATA5 could be mapped to hg38__refseq-r80__10kb_up_and_down_tss.mc9nr.genes_vs_motifs.rankings. Skipping this module.\n"
     ]
    },
    {
     "name": "stdout",
     "output_type": "stream",
     "text": [
      "[####                                    ] | 10% Completed | 194.87 s"
     ]
    },
    {
     "name": "stderr",
     "output_type": "stream",
     "text": [
      "\n",
      "2023-08-10 12:44:46,379 - pyscenic.transform - WARNING - Less than 80% of the genes in FEZ1 could be mapped to hg38__refseq-r80__500bp_up_and_100bp_down_tss.mc9nr.genes_vs_motifs.rankings. Skipping this module.\n",
      "\n",
      "2023-08-10 12:44:46,534 - pyscenic.transform - WARNING - Less than 80% of the genes in HES4 could be mapped to hg38__refseq-r80__10kb_up_and_down_tss.mc9nr.genes_vs_motifs.rankings. Skipping this module.\n"
     ]
    },
    {
     "name": "stdout",
     "output_type": "stream",
     "text": [
      "[####                                    ] | 10% Completed | 195.48 s"
     ]
    },
    {
     "name": "stderr",
     "output_type": "stream",
     "text": [
      "\n",
      "2023-08-10 12:44:47,029 - pyscenic.transform - WARNING - Less than 80% of the genes in HHAT could be mapped to hg38__refseq-r80__10kb_up_and_down_tss.mc9nr.genes_vs_motifs.rankings. Skipping this module.\n",
      "\n",
      "2023-08-10 12:44:47,139 - pyscenic.transform - WARNING - Less than 80% of the genes in HIST1H2BN could be mapped to hg38__refseq-r80__10kb_up_and_down_tss.mc9nr.genes_vs_motifs.rankings. Skipping this module.\n"
     ]
    },
    {
     "name": "stdout",
     "output_type": "stream",
     "text": [
      "[####                                    ] | 10% Completed | 196.80 s"
     ]
    },
    {
     "name": "stderr",
     "output_type": "stream",
     "text": [
      "\n",
      "2023-08-10 12:44:48,352 - pyscenic.transform - WARNING - Less than 80% of the genes in INSM2 could be mapped to hg38__refseq-r80__10kb_up_and_down_tss.mc9nr.genes_vs_motifs.rankings. Skipping this module.\n"
     ]
    },
    {
     "name": "stdout",
     "output_type": "stream",
     "text": [
      "[####                                    ] | 10% Completed | 198.13 s"
     ]
    },
    {
     "name": "stderr",
     "output_type": "stream",
     "text": [
      "\n",
      "2023-08-10 12:44:49,640 - pyscenic.transform - WARNING - Less than 80% of the genes in HIST1H2BN could be mapped to hg38__refseq-r80__500bp_up_and_100bp_down_tss.mc9nr.genes_vs_motifs.rankings. Skipping this module.\n"
     ]
    },
    {
     "name": "stdout",
     "output_type": "stream",
     "text": [
      "[####                                    ] | 10% Completed | 199.14 s"
     ]
    },
    {
     "name": "stderr",
     "output_type": "stream",
     "text": [
      "\n",
      "2023-08-10 12:44:50,721 - pyscenic.transform - WARNING - Less than 80% of the genes in INSM1 could be mapped to hg38__refseq-r80__500bp_up_and_100bp_down_tss.mc9nr.genes_vs_motifs.rankings. Skipping this module.\n",
      "\n",
      "2023-08-10 12:44:50,866 - pyscenic.transform - WARNING - Less than 80% of the genes in INSM2 could be mapped to hg38__refseq-r80__500bp_up_and_100bp_down_tss.mc9nr.genes_vs_motifs.rankings. Skipping this module.\n"
     ]
    },
    {
     "name": "stdout",
     "output_type": "stream",
     "text": [
      "[####                                    ] | 10% Completed | 202.60 s"
     ]
    },
    {
     "name": "stderr",
     "output_type": "stream",
     "text": [
      "\n",
      "2023-08-10 12:44:54,147 - pyscenic.transform - WARNING - Less than 80% of the genes in LHX9 could be mapped to hg38__refseq-r80__10kb_up_and_down_tss.mc9nr.genes_vs_motifs.rankings. Skipping this module.\n"
     ]
    },
    {
     "name": "stdout",
     "output_type": "stream",
     "text": [
      "[####                                    ] | 10% Completed | 203.00 s"
     ]
    },
    {
     "name": "stderr",
     "output_type": "stream",
     "text": [
      "\n",
      "2023-08-10 12:44:54,536 - pyscenic.transform - WARNING - Less than 80% of the genes in KLF2 could be mapped to hg38__refseq-r80__500bp_up_and_100bp_down_tss.mc9nr.genes_vs_motifs.rankings. Skipping this module.\n"
     ]
    },
    {
     "name": "stdout",
     "output_type": "stream",
     "text": [
      "[####                                    ] | 10% Completed | 204.23 s"
     ]
    },
    {
     "name": "stderr",
     "output_type": "stream",
     "text": [
      "\n",
      "2023-08-10 12:44:55,756 - pyscenic.transform - WARNING - Less than 80% of the genes in KLF6 could be mapped to hg38__refseq-r80__500bp_up_and_100bp_down_tss.mc9nr.genes_vs_motifs.rankings. Skipping this module.\n"
     ]
    },
    {
     "name": "stdout",
     "output_type": "stream",
     "text": [
      "[####                                    ] | 10% Completed | 204.43 s"
     ]
    },
    {
     "name": "stderr",
     "output_type": "stream",
     "text": [
      "\n",
      "2023-08-10 12:44:55,974 - pyscenic.transform - WARNING - Less than 80% of the genes in LHX9 could be mapped to hg38__refseq-r80__500bp_up_and_100bp_down_tss.mc9nr.genes_vs_motifs.rankings. Skipping this module.\n"
     ]
    },
    {
     "name": "stdout",
     "output_type": "stream",
     "text": [
      "[####                                    ] | 10% Completed | 206.36 s"
     ]
    },
    {
     "name": "stderr",
     "output_type": "stream",
     "text": [
      "\n",
      "2023-08-10 12:44:57,920 - pyscenic.transform - WARNING - Less than 80% of the genes in MSX1 could be mapped to hg38__refseq-r80__10kb_up_and_down_tss.mc9nr.genes_vs_motifs.rankings. Skipping this module.\n",
      "\n",
      "2023-08-10 12:44:58,102 - pyscenic.transform - WARNING - Less than 80% of the genes in MYBL1 could be mapped to hg38__refseq-r80__10kb_up_and_down_tss.mc9nr.genes_vs_motifs.rankings. Skipping this module.\n"
     ]
    },
    {
     "name": "stdout",
     "output_type": "stream",
     "text": [
      "[####                                    ] | 10% Completed | 210.73 s"
     ]
    },
    {
     "name": "stderr",
     "output_type": "stream",
     "text": [
      "\n",
      "2023-08-10 12:45:02,292 - pyscenic.transform - WARNING - Less than 80% of the genes in NEUROG1 could be mapped to hg38__refseq-r80__10kb_up_and_down_tss.mc9nr.genes_vs_motifs.rankings. Skipping this module.\n"
     ]
    },
    {
     "name": "stdout",
     "output_type": "stream",
     "text": [
      "[##########                              ] | 25% Completed | 211.28 s"
     ]
    },
    {
     "name": "stderr",
     "output_type": "stream",
     "text": [
      "\n",
      "2023-08-10 12:45:02,758 - pyscenic.transform - WARNING - Less than 80% of the genes in NKX2-5 could be mapped to hg38__refseq-r80__10kb_up_and_down_tss.mc9nr.genes_vs_motifs.rankings. Skipping this module.\n"
     ]
    },
    {
     "name": "stdout",
     "output_type": "stream",
     "text": [
      "[################                        ] | 40% Completed | 212.40 s"
     ]
    },
    {
     "name": "stderr",
     "output_type": "stream",
     "text": [
      "\n",
      "2023-08-10 12:45:03,912 - pyscenic.transform - WARNING - Less than 80% of the genes in NANOS1 could be mapped to hg38__refseq-r80__500bp_up_and_100bp_down_tss.mc9nr.genes_vs_motifs.rankings. Skipping this module.\n",
      "\n",
      "2023-08-10 12:45:04,072 - pyscenic.transform - WARNING - Less than 80% of the genes in PGAM2 could be mapped to hg38__refseq-r80__10kb_up_and_down_tss.mc9nr.genes_vs_motifs.rankings. Skipping this module.\n"
     ]
    },
    {
     "name": "stdout",
     "output_type": "stream",
     "text": [
      "[################                        ] | 40% Completed | 212.60 s"
     ]
    },
    {
     "name": "stderr",
     "output_type": "stream",
     "text": [
      "\n",
      "2023-08-10 12:45:04,164 - pyscenic.transform - WARNING - Less than 80% of the genes in NEUROG1 could be mapped to hg38__refseq-r80__500bp_up_and_100bp_down_tss.mc9nr.genes_vs_motifs.rankings. Skipping this module.\n"
     ]
    },
    {
     "name": "stdout",
     "output_type": "stream",
     "text": [
      "[################                        ] | 40% Completed | 215.65 s"
     ]
    },
    {
     "name": "stderr",
     "output_type": "stream",
     "text": [
      "\n",
      "2023-08-10 12:45:07,219 - pyscenic.transform - WARNING - Less than 80% of the genes in NR4A1 could be mapped to hg38__refseq-r80__500bp_up_and_100bp_down_tss.mc9nr.genes_vs_motifs.rankings. Skipping this module.\n"
     ]
    },
    {
     "name": "stdout",
     "output_type": "stream",
     "text": [
      "[################                        ] | 40% Completed | 216.16 s"
     ]
    },
    {
     "name": "stderr",
     "output_type": "stream",
     "text": [
      "\n",
      "2023-08-10 12:45:07,680 - pyscenic.transform - WARNING - Less than 80% of the genes in POU3F1 could be mapped to hg38__refseq-r80__10kb_up_and_down_tss.mc9nr.genes_vs_motifs.rankings. Skipping this module.\n"
     ]
    },
    {
     "name": "stdout",
     "output_type": "stream",
     "text": [
      "[################                        ] | 40% Completed | 216.67 s"
     ]
    },
    {
     "name": "stderr",
     "output_type": "stream",
     "text": [
      "\n",
      "2023-08-10 12:45:08,155 - pyscenic.transform - WARNING - Less than 80% of the genes in PRDM1 could be mapped to hg38__refseq-r80__10kb_up_and_down_tss.mc9nr.genes_vs_motifs.rankings. Skipping this module.\n",
      "\n",
      "2023-08-10 12:45:08,268 - pyscenic.transform - WARNING - Less than 80% of the genes in PRDM12 could be mapped to hg38__refseq-r80__10kb_up_and_down_tss.mc9nr.genes_vs_motifs.rankings. Skipping this module.\n"
     ]
    },
    {
     "name": "stdout",
     "output_type": "stream",
     "text": [
      "[################                        ] | 40% Completed | 216.98 s"
     ]
    },
    {
     "name": "stderr",
     "output_type": "stream",
     "text": [
      "\n",
      "2023-08-10 12:45:08,467 - pyscenic.transform - WARNING - Less than 80% of the genes in PROX1 could be mapped to hg38__refseq-r80__10kb_up_and_down_tss.mc9nr.genes_vs_motifs.rankings. Skipping this module.\n"
     ]
    },
    {
     "name": "stdout",
     "output_type": "stream",
     "text": [
      "[################                        ] | 40% Completed | 219.42 s"
     ]
    },
    {
     "name": "stderr",
     "output_type": "stream",
     "text": [
      "\n",
      "2023-08-10 12:45:10,978 - pyscenic.transform - WARNING - Less than 80% of the genes in PPARGC1A could be mapped to hg38__refseq-r80__500bp_up_and_100bp_down_tss.mc9nr.genes_vs_motifs.rankings. Skipping this module.\n"
     ]
    },
    {
     "name": "stdout",
     "output_type": "stream",
     "text": [
      "[################                        ] | 40% Completed | 220.13 s"
     ]
    },
    {
     "name": "stderr",
     "output_type": "stream",
     "text": [
      "\n",
      "2023-08-10 12:45:11,661 - pyscenic.transform - WARNING - Less than 80% of the genes in PROX1 could be mapped to hg38__refseq-r80__500bp_up_and_100bp_down_tss.mc9nr.genes_vs_motifs.rankings. Skipping this module.\n"
     ]
    },
    {
     "name": "stdout",
     "output_type": "stream",
     "text": [
      "[################                        ] | 40% Completed | 220.54 s"
     ]
    },
    {
     "name": "stderr",
     "output_type": "stream",
     "text": [
      "\n",
      "2023-08-10 12:45:12,032 - pyscenic.transform - WARNING - Less than 80% of the genes in RFC3 could be mapped to hg38__refseq-r80__500bp_up_and_100bp_down_tss.mc9nr.genes_vs_motifs.rankings. Skipping this module.\n"
     ]
    },
    {
     "name": "stdout",
     "output_type": "stream",
     "text": [
      "[################                        ] | 40% Completed | 221.96 s"
     ]
    },
    {
     "name": "stderr",
     "output_type": "stream",
     "text": [
      "\n",
      "2023-08-10 12:45:13,501 - pyscenic.transform - WARNING - Less than 80% of the genes in SIM1 could be mapped to hg38__refseq-r80__500bp_up_and_100bp_down_tss.mc9nr.genes_vs_motifs.rankings. Skipping this module.\n"
     ]
    },
    {
     "name": "stdout",
     "output_type": "stream",
     "text": [
      "[################                        ] | 40% Completed | 222.47 s"
     ]
    },
    {
     "name": "stderr",
     "output_type": "stream",
     "text": [
      "\n",
      "2023-08-10 12:45:13,998 - pyscenic.transform - WARNING - Less than 80% of the genes in SOX14 could be mapped to hg38__refseq-r80__500bp_up_and_100bp_down_tss.mc9nr.genes_vs_motifs.rankings. Skipping this module.\n",
      "\n",
      "2023-08-10 12:45:14,194 - pyscenic.transform - WARNING - Less than 80% of the genes in SOX5 could be mapped to hg38__refseq-r80__500bp_up_and_100bp_down_tss.mc9nr.genes_vs_motifs.rankings. Skipping this module.\n"
     ]
    },
    {
     "name": "stdout",
     "output_type": "stream",
     "text": [
      "[################                        ] | 40% Completed | 222.68 s"
     ]
    },
    {
     "name": "stderr",
     "output_type": "stream",
     "text": [
      "\n",
      "2023-08-10 12:45:14,260 - pyscenic.transform - WARNING - Less than 80% of the genes in SIM1 could be mapped to hg38__refseq-r80__10kb_up_and_down_tss.mc9nr.genes_vs_motifs.rankings. Skipping this module.\n",
      "\n",
      "2023-08-10 12:45:14,370 - pyscenic.transform - WARNING - Less than 80% of the genes in SP4 could be mapped to hg38__refseq-r80__500bp_up_and_100bp_down_tss.mc9nr.genes_vs_motifs.rankings. Skipping this module.\n"
     ]
    },
    {
     "name": "stdout",
     "output_type": "stream",
     "text": [
      "[################                        ] | 40% Completed | 223.59 s"
     ]
    },
    {
     "name": "stderr",
     "output_type": "stream",
     "text": [
      "\n",
      "2023-08-10 12:45:15,088 - pyscenic.transform - WARNING - Less than 80% of the genes in SP8 could be mapped to hg38__refseq-r80__500bp_up_and_100bp_down_tss.mc9nr.genes_vs_motifs.rankings. Skipping this module.\n"
     ]
    },
    {
     "name": "stdout",
     "output_type": "stream",
     "text": [
      "[################                        ] | 40% Completed | 224.71 s"
     ]
    },
    {
     "name": "stderr",
     "output_type": "stream",
     "text": [
      "\n",
      "2023-08-10 12:45:16,295 - pyscenic.transform - WARNING - Less than 80% of the genes in TGIF1 could be mapped to hg38__refseq-r80__500bp_up_and_100bp_down_tss.mc9nr.genes_vs_motifs.rankings. Skipping this module.\n"
     ]
    },
    {
     "name": "stdout",
     "output_type": "stream",
     "text": [
      "[################                        ] | 40% Completed | 226.03 s"
     ]
    },
    {
     "name": "stderr",
     "output_type": "stream",
     "text": [
      "\n",
      "2023-08-10 12:45:17,567 - pyscenic.transform - WARNING - Less than 80% of the genes in SOX5 could be mapped to hg38__refseq-r80__10kb_up_and_down_tss.mc9nr.genes_vs_motifs.rankings. Skipping this module.\n"
     ]
    },
    {
     "name": "stdout",
     "output_type": "stream",
     "text": [
      "[################                        ] | 40% Completed | 226.64 s"
     ]
    },
    {
     "name": "stderr",
     "output_type": "stream",
     "text": [
      "\n",
      "2023-08-10 12:45:18,187 - pyscenic.transform - WARNING - Less than 80% of the genes in ASCL1 could be mapped to hg38__refseq-r80__500bp_up_and_100bp_down_tss.mc9nr.genes_vs_motifs.rankings. Skipping this module.\n"
     ]
    },
    {
     "name": "stdout",
     "output_type": "stream",
     "text": [
      "[################                        ] | 40% Completed | 226.85 s"
     ]
    },
    {
     "name": "stderr",
     "output_type": "stream",
     "text": [
      "\n",
      "2023-08-10 12:45:18,401 - pyscenic.transform - WARNING - Less than 80% of the genes in SP4 could be mapped to hg38__refseq-r80__10kb_up_and_down_tss.mc9nr.genes_vs_motifs.rankings. Skipping this module.\n"
     ]
    },
    {
     "name": "stdout",
     "output_type": "stream",
     "text": [
      "[################                        ] | 40% Completed | 227.15 s"
     ]
    },
    {
     "name": "stderr",
     "output_type": "stream",
     "text": [
      "\n",
      "2023-08-10 12:45:18,674 - pyscenic.transform - WARNING - Less than 80% of the genes in SP8 could be mapped to hg38__refseq-r80__10kb_up_and_down_tss.mc9nr.genes_vs_motifs.rankings. Skipping this module.\n"
     ]
    },
    {
     "name": "stdout",
     "output_type": "stream",
     "text": [
      "[############################            ] | 70% Completed | 230.44 s"
     ]
    },
    {
     "name": "stderr",
     "output_type": "stream",
     "text": [
      "\n",
      "2023-08-10 12:45:22,015 - pyscenic.transform - WARNING - Less than 80% of the genes in TGIF1 could be mapped to hg38__refseq-r80__10kb_up_and_down_tss.mc9nr.genes_vs_motifs.rankings. Skipping this module.\n"
     ]
    },
    {
     "name": "stdout",
     "output_type": "stream",
     "text": [
      "[############################            ] | 70% Completed | 232.98 s"
     ]
    },
    {
     "name": "stderr",
     "output_type": "stream",
     "text": [
      "\n",
      "2023-08-10 12:45:24,551 - pyscenic.transform - WARNING - Less than 80% of the genes in ZNF699 could be mapped to hg38__refseq-r80__10kb_up_and_down_tss.mc9nr.genes_vs_motifs.rankings. Skipping this module.\n"
     ]
    },
    {
     "name": "stdout",
     "output_type": "stream",
     "text": [
      "[########################################] | 100% Completed | 261.86 s\n",
      "\n",
      "COMPLETED WRITING ENRICHED MOTIFS /home/linl5/project/SCLC/data/lx33/lx33.UUUU.0.66.motifs.csv \n",
      "\n",
      "                                                 Enrichment            \\\n",
      "                                                        AUC       NES   \n",
      "TF   MotifID                                                            \n",
      "ATF3 transfac_pro__M07414                          0.095289  3.232038   \n",
      "     cisbp__M4526                                  0.093634  3.112977   \n",
      "     swissregulon__hs__FOS_FOS_B_L1__JUN_B_D_.p2   0.097139  3.365172   \n",
      "     jaspar__MA0476.1                              0.095333  3.235200   \n",
      "     cisbp__M2278                                  0.095027  3.213222   \n",
      "\n",
      "                                                                        \\\n",
      "                                                 MotifSimilarityQvalue   \n",
      "TF   MotifID                                                             \n",
      "ATF3 transfac_pro__M07414                                     0.000972   \n",
      "     cisbp__M4526                                             0.000970   \n",
      "     swissregulon__hs__FOS_FOS_B_L1__JUN_B_D_.p2              0.000701   \n",
      "     jaspar__MA0476.1                                         0.000125   \n",
      "     cisbp__M2278                                             0.000110   \n",
      "\n",
      "                                                                      \\\n",
      "                                                 OrthologousIdentity   \n",
      "TF   MotifID                                                           \n",
      "ATF3 transfac_pro__M07414                                        1.0   \n",
      "     cisbp__M4526                                                1.0   \n",
      "     swissregulon__hs__FOS_FOS_B_L1__JUN_B_D_.p2                 1.0   \n",
      "     jaspar__MA0476.1                                            1.0   \n",
      "     cisbp__M2278                                                1.0   \n",
      "\n",
      "                                                                                                     \\\n",
      "                                                                                         Annotation   \n",
      "TF   MotifID                                                                                          \n",
      "ATF3 transfac_pro__M07414                         motif similar to factorbook__CREB ('CREB'; q-v...   \n",
      "     cisbp__M4526                                 gene is annotated for similar motif homer__DAT...   \n",
      "     swissregulon__hs__FOS_FOS_B_L1__JUN_B_D_.p2  gene is annotated for similar motif cisbp__M46...   \n",
      "     jaspar__MA0476.1                             gene is annotated for similar motif homer__DAT...   \n",
      "     cisbp__M2278                                 gene is annotated for similar motif homer__DAT...   \n",
      "\n",
      "                                                                                                     \\\n",
      "                                                                                            Context   \n",
      "TF   MotifID                                                                                          \n",
      "ATF3 transfac_pro__M07414                         (activating, hg38__refseq-r80__10kb_up_and_dow...   \n",
      "     cisbp__M4526                                 (activating, hg38__refseq-r80__10kb_up_and_dow...   \n",
      "     swissregulon__hs__FOS_FOS_B_L1__JUN_B_D_.p2  (activating, hg38__refseq-r80__10kb_up_and_dow...   \n",
      "     jaspar__MA0476.1                             (activating, hg38__refseq-r80__10kb_up_and_dow...   \n",
      "     cisbp__M2278                                 (activating, hg38__refseq-r80__10kb_up_and_dow...   \n",
      "\n",
      "                                                                                                     \\\n",
      "                                                                                        TargetGenes   \n",
      "TF   MotifID                                                                                          \n",
      "ATF3 transfac_pro__M07414                         [(KCNQ1-AS1, 2.423727380376442), (ZFP36L1, 2.1...   \n",
      "     cisbp__M4526                                 [(PRRX1, 2.2155040760787283), (CACNA1A, 1.8392...   \n",
      "     swissregulon__hs__FOS_FOS_B_L1__JUN_B_D_.p2  [(RALYL, 1.360533610302982), (ZEB2, 1.62802025...   \n",
      "     jaspar__MA0476.1                             [(EGR1, 1.5654575231502987), (INSM1, 2.3776587...   \n",
      "     cisbp__M2278                                 [(NFIX, 1.6134311516598114), (KCNQ1-AS1, 2.423...   \n",
      "\n",
      "                                                            \n",
      "                                                 RankAtMax  \n",
      "TF   MotifID                                                \n",
      "ATF3 transfac_pro__M07414                             1297  \n",
      "     cisbp__M4526                                     1277  \n",
      "     swissregulon__hs__FOS_FOS_B_L1__JUN_B_D_.p2      1112  \n",
      "     jaspar__MA0476.1                                 1481  \n",
      "     cisbp__M2278                                     1143  \n",
      "Create regulons from a dataframe of enriched features.\n",
      "Additional columns saved: []\n",
      "\n",
      "COMPLETED WRITING DISCOVERED REGULON /home/linl5/project/SCLC/data/lx33/lx33.UUUU.0.66.regulons.p \n",
      "\n"
     ]
    }
   ],
   "source": [
    "#STEP 16: Running RCistarget\n",
    "\n",
    "for state in unique_state:\n",
    "    #reading necessary files for rcistarget\n",
    "    ADJACENCIES_FNAME = os.path.join(DATA_FOLDERNAME, \"{}.{}.{}.adjacencies.tsv\".format(DATASET_ID, state, frac_cells))\n",
    "    adjacencies = pd.read_csv(ADJACENCIES_FNAME, sep='\\t')\n",
    "    print(\"\\nFINISHED READING ADJACENCIES FILE\", ADJACENCIES_FNAME,\"\\n\")\n",
    "    EXP_MTX_QC_FNAME = os.path.join(RESULTS_FOLDERNAME, '{}.{}.{}.qc.tpm.csv'.format(DATASET_ID, state, frac_cells))\n",
    "    ex_matrix = pd.read_csv(EXP_MTX_QC_FNAME, sep='\\t')\n",
    "    print(\"\\nFINISHED READING EXPRESSION MATRIX\", EXP_MTX_QC_FNAME,\"\\n\")\n",
    "    MODULES_FNAME = os.path.join(DATA_FOLDERNAME, '{}.{}.{}.modules.p'.format(DATASET_ID, state, frac_cells))\n",
    "    MOTIFS_FNAME = os.path.join(DATA_FOLDERNAME, '{}.{}.{}.motifs.csv'.format(DATASET_ID, state, frac_cells))\n",
    "    REGULONS_FNAME = os.path.join(DATA_FOLDERNAME, '{}.{}.{}.regulons.p'.format(DATASET_ID, state, frac_cells))\n",
    "\n",
    "    #making modules from adjacencies\n",
    "    modules = list(modules_from_adjacencies(adjacencies, ex_matrix))\n",
    "    \n",
    "    #writing modules object to file\n",
    "    with open(MODULES_FNAME, 'wb') as f:\n",
    "        pickle.dump(modules, f)\n",
    "    print(\"\\nCOMPLETED COEXPRESSION MODULE WRITING:\", MODULES_FNAME,\"\\n\")\n",
    "    \n",
    "    #running Rcistarget with progress bar: searching for enriched motifs and true candidate genes\n",
    "    with ProgressBar():\n",
    "        df = prune2df(dbs, modules, MOTIF_ANNOTATIONS_FNAME, client_or_address=\"dask_multiprocessing\") \n",
    "    \n",
    "    #writing enriched motifs with candidate target to file\n",
    "    df.to_csv(MOTIFS_FNAME)\n",
    "    print(\"\\nCOMPLETED WRITING ENRICHED MOTIFS\", MOTIFS_FNAME,\"\\n\")\n",
    "    print(df.head())\n",
    "    \n",
    "    #making regulon objects\n",
    "    regulons = df2regulons(df)\n",
    "    \n",
    "    #writing regulon objects to file\n",
    "    with open(REGULONS_FNAME, 'wb') as f:\n",
    "        pickle.dump(regulons, f)\n",
    "    print(\"\\nCOMPLETED WRITING DISCOVERED REGULON\", REGULONS_FNAME,\"\\n\")"
   ]
  },
  {
   "cell_type": "markdown",
   "id": "9ec4e6b3",
   "metadata": {},
   "source": [
    "After grouping the data by timepoints\n",
    "- How is clustering in this case difference by just making anndata subset selected by timepoint (pin)\n",
    "- Do i do PCA after clustering -> pca changes the expression matrix so output to GENIE3 is not pca, just raw unnormalize, unpertrude data except basic filtering\n",
    "- If you have more than one condition, it’s often helpful to perform integration to align the cells -? and then within each timepoint there would be three batches so i should find a way to remove this right"
   ]
  },
  {
   "cell_type": "code",
   "execution_count": null,
   "id": "faa26c90",
   "metadata": {},
   "outputs": [],
   "source": []
  }
 ],
 "metadata": {
  "kernelspec": {
   "display_name": "pyscenic",
   "language": "python",
   "name": "pyscenic"
  },
  "language_info": {
   "codemirror_mode": {
    "name": "ipython",
    "version": 3
   },
   "file_extension": ".py",
   "mimetype": "text/x-python",
   "name": "python",
   "nbconvert_exporter": "python",
   "pygments_lexer": "ipython3",
   "version": "3.10.12"
  }
 },
 "nbformat": 4,
 "nbformat_minor": 5
}
